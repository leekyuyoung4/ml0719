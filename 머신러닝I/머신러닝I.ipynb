{
 "cells": [
  {
   "cell_type": "code",
   "execution_count": 17,
   "id": "ef68547c",
   "metadata": {},
   "outputs": [],
   "source": [
    "# 회귀 예측 / 분류\n",
    "# 길이측정한 데이터....\n",
    "# A, B  길이정보.\n",
    "#  if len > 30  --> A  \n",
    "# 2개의 클래스 분류  이진분류 binary classification\n",
    "# A 그룹의 제품의 특징\n",
    "a_length = [25.4, 26.3, 26.5, 29.0, 29.0, 29.7, 29.7, 30.0, 30.0, 30.7, 31.0, 31.0, 31.5, 32.0, 32.0, 32.0, 33.0, 33.0, 33.5, 33.5, 34.0, 34.0, 34.5, 35.0, 35.0, 35.0, 35.0, 36.0, 36.0, 37.0, 38.5, 38.5, 39.5, 41.0, 41.0] \n",
    "a_weight = [242.0, 290.0, 340.0, 363.0, 430.0, 450.0, 500.0, 390.0, 450.0, 500.0, 475.0, 500.0, 500.0, 340.0, 600.0, 600.0, 700.0, 700.0, 610.0, 650.0, 575.0, 685.0, 620.0, 680.0, 700.0, 725.0,575.0, 685.0, 620.0, 680.0, 700.0, 725.0,620.0, 680.0, 700.0]\n",
    "\n",
    "b_length = [9.8, 10.5, 10.6, 11.0, 11.2, 11.3, 11.8, 11.8, 12.0, 12.2, 12.4, 13.0, 14.3, 15.0]\n",
    "b_weight = [6.7, 7.5, 7.0, 9.7, 9.8, 8.7, 10.0, 9.9, 9.8, 12.2, 13.4, 12.2, 19.7, 19.9]"
   ]
  },
  {
   "cell_type": "code",
   "execution_count": 19,
   "id": "e310d9fc",
   "metadata": {},
   "outputs": [
    {
     "data": {
      "text/plain": [
       "(35, 35)"
      ]
     },
     "execution_count": 19,
     "metadata": {},
     "output_type": "execute_result"
    }
   ],
   "source": [
    "len(a_length), len(a_weight)"
   ]
  },
  {
   "cell_type": "code",
   "execution_count": 20,
   "id": "423a18ac",
   "metadata": {},
   "outputs": [
    {
     "data": {
      "image/png": "[encoded data removed]",
      "text/plain": [
       "<Figure size 432x288 with 1 Axes>"
      ]
     },
     "metadata": {
      "needs_background": "light"
     },
     "output_type": "display_data"
    }
   ],
   "source": [
    "# 산점도\n",
    "import matplotlib.pyplot as plt\n",
    "plt.scatter(a_length,a_weight)\n",
    "plt.xlabel('length')\n",
    "plt.ylabel('weight')\n",
    "plt.show()"
   ]
  },
  {
   "cell_type": "code",
   "execution_count": 21,
   "id": "763fa1ba",
   "metadata": {},
   "outputs": [
    {
     "data": {
      "image/png": "[encoded data removed]",
      "text/plain": [
       "<Figure size 432x288 with 1 Axes>"
      ]
     },
     "metadata": {
      "needs_background": "light"
     },
     "output_type": "display_data"
    }
   ],
   "source": [
    "plt.scatter(a_length,a_weight)\n",
    "plt.scatter(b_length,b_weight)\n",
    "plt.xlabel('length')\n",
    "plt.ylabel('weight')\n",
    "plt.show()"
   ]
  },
  {
   "cell_type": "code",
   "execution_count": 22,
   "id": "f20ed4a5",
   "metadata": {},
   "outputs": [],
   "source": [
    "length = a_length + b_length\n",
    "weight = a_weight + b_weight\n",
    "# 두 제품의셈플의 갯수가 다르다."
   ]
  },
  {
   "cell_type": "code",
   "execution_count": 26,
   "id": "d3e83481",
   "metadata": {},
   "outputs": [
    {
     "data": {
      "text/plain": [
       "[(1, 10), (2, 11), (3, 12)]"
      ]
     },
     "execution_count": 26,
     "metadata": {},
     "output_type": "execute_result"
    }
   ],
   "source": [
    "a = [1,2,3]\n",
    "b = [10,11,12]\n",
    "list(zip(a,b))"
   ]
  },
  {
   "cell_type": "code",
   "execution_count": 30,
   "id": "ef4af6ba",
   "metadata": {},
   "outputs": [],
   "source": [
    "x_data = [[l,w] for l, w in  zip(length, weight)]\n",
    "len(a_length), len(b_length), len(data)\n",
    "y_data = [1]*len(a_length)+[0]*len(b_length)"
   ]
  },
  {
   "cell_type": "code",
   "execution_count": 32,
   "id": "fc6c2135",
   "metadata": {},
   "outputs": [
    {
     "data": {
      "text/plain": [
       "1.0"
      ]
     },
     "execution_count": 32,
     "metadata": {},
     "output_type": "execute_result"
    }
   ],
   "source": [
    "# k-최근접 이웃 알고리즘\n",
    "from sklearn.neighbors import KNeighborsClassifier\n",
    "kn =  KNeighborsClassifier(n_neighbors=)\n",
    "kn.fit(x_data, y_data)  # 모델링.\n",
    "kn.score(x_data,y_data)"
   ]
  },
  {
   "cell_type": "code",
   "execution_count": 41,
   "id": "fbf5b4ec",
   "metadata": {},
   "outputs": [
    {
     "data": {
      "text/plain": [
       "array([1])"
      ]
     },
     "execution_count": 41,
     "metadata": {},
     "output_type": "execute_result"
    }
   ],
   "source": [
    "kn.predict([[30.0, 550.0]])"
   ]
  },
  {
   "cell_type": "code",
   "execution_count": 42,
   "id": "177d14e0",
   "metadata": {},
   "outputs": [
    {
     "data": {
      "image/png": "[encoded data removed]",
      "text/plain": [
       "<Figure size 432x288 with 1 Axes>"
      ]
     },
     "metadata": {
      "needs_background": "light"
     },
     "output_type": "display_data"
    }
   ],
   "source": [
    "plt.scatter(a_length,a_weight)\n",
    "plt.scatter(b_length,b_weight)\n",
    "plt.scatter(30.0,550.0, marker=\"^\")\n",
    "plt.xlabel('length')\n",
    "plt.ylabel('weight')\n",
    "plt.show()"
   ]
  },
  {
   "cell_type": "code",
   "execution_count": 45,
   "id": "b11818ec",
   "metadata": {},
   "outputs": [
    {
     "data": {
      "text/plain": [
       "0.7142857142857143"
      ]
     },
     "execution_count": 45,
     "metadata": {},
     "output_type": "execute_result"
    }
   ],
   "source": [
    "kn49 =  KNeighborsClassifier(n_neighbors=49)\n",
    "kn49.fit(x_data, y_data)\n",
    "kn49.score(x_data, y_data)"
   ]
  },
  {
   "cell_type": "code",
   "execution_count": 47,
   "id": "b6af2fa8",
   "metadata": {},
   "outputs": [
    {
     "data": {
      "text/plain": [
       "0.7142857142857143"
      ]
     },
     "execution_count": 47,
     "metadata": {},
     "output_type": "execute_result"
    }
   ],
   "source": [
    "len(a_length) / len(x_data)"
   ]
  },
  {
   "cell_type": "code",
   "execution_count": 54,
   "id": "069f53ee",
   "metadata": {},
   "outputs": [
    {
     "data": {
      "text/plain": [
       "(array([1]), array([0]))"
      ]
     },
     "execution_count": 54,
     "metadata": {},
     "output_type": "execute_result"
    }
   ],
   "source": [
    "kn49.predict([[17.0,100.0]]),  kn.predict([[17.0,100.0]])"
   ]
  },
  {
   "cell_type": "code",
   "execution_count": 49,
   "id": "3154fdfe",
   "metadata": {},
   "outputs": [
    {
     "data": {
      "image/png": "[encoded data removed]",
      "text/plain": [
       "<Figure size 432x288 with 1 Axes>"
      ]
     },
     "metadata": {
      "needs_background": "light"
     },
     "output_type": "display_data"
    }
   ],
   "source": [
    "plt.scatter(a_length,a_weight)\n",
    "plt.scatter(b_length,b_weight)\n",
    "plt.scatter(17.0,100.0, marker=\"^\")\n",
    "plt.xlabel('length')\n",
    "plt.ylabel('weight')\n",
    "plt.show()"
   ]
  },
  {
   "cell_type": "code",
   "execution_count": 53,
   "id": "f7460417",
   "metadata": {},
   "outputs": [
    {
     "data": {
      "text/plain": [
       "(array([1, 1, 1, 1, 1, 1, 1, 1, 1, 1, 1, 1, 1, 1, 1, 1, 1, 1, 1, 1, 1, 1,\n",
       "        1, 1, 1, 1, 1, 1, 1, 1, 1, 1, 1, 1, 1, 0, 0, 0, 0, 0, 0, 0, 0, 0,\n",
       "        0, 0, 0, 0, 0]),\n",
       " array([[ 25.4, 242. ],\n",
       "        [ 26.3, 290. ],\n",
       "        [ 26.5, 340. ],\n",
       "        [ 29. , 363. ],\n",
       "        [ 29. , 430. ],\n",
       "        [ 29.7, 450. ],\n",
       "        [ 29.7, 500. ],\n",
       "        [ 30. , 390. ],\n",
       "        [ 30. , 450. ],\n",
       "        [ 30.7, 500. ],\n",
       "        [ 31. , 475. ],\n",
       "        [ 31. , 500. ],\n",
       "        [ 31.5, 500. ],\n",
       "        [ 32. , 340. ],\n",
       "        [ 32. , 600. ],\n",
       "        [ 32. , 600. ],\n",
       "        [ 33. , 700. ],\n",
       "        [ 33. , 700. ],\n",
       "        [ 33.5, 610. ],\n",
       "        [ 33.5, 650. ],\n",
       "        [ 34. , 575. ],\n",
       "        [ 34. , 685. ],\n",
       "        [ 34.5, 620. ],\n",
       "        [ 35. , 680. ],\n",
       "        [ 35. , 700. ],\n",
       "        [ 35. , 725. ],\n",
       "        [ 35. , 575. ],\n",
       "        [ 36. , 685. ],\n",
       "        [ 36. , 620. ],\n",
       "        [ 37. , 680. ],\n",
       "        [ 38.5, 700. ],\n",
       "        [ 38.5, 725. ],\n",
       "        [ 39.5, 620. ],\n",
       "        [ 41. , 680. ],\n",
       "        [ 41. , 700. ],\n",
       "        [  9.8,   6.7],\n",
       "        [ 10.5,   7.5],\n",
       "        [ 10.6,   7. ],\n",
       "        [ 11. ,   9.7],\n",
       "        [ 11.2,   9.8],\n",
       "        [ 11.3,   8.7],\n",
       "        [ 11.8,  10. ],\n",
       "        [ 11.8,   9.9],\n",
       "        [ 12. ,   9.8],\n",
       "        [ 12.2,  12.2],\n",
       "        [ 12.4,  13.4],\n",
       "        [ 13. ,  12.2],\n",
       "        [ 14.3,  19.7],\n",
       "        [ 15. ,  19.9]]))"
      ]
     },
     "execution_count": 53,
     "metadata": {},
     "output_type": "execute_result"
    }
   ],
   "source": [
    "kn49._y , kn49._fit_X"
   ]
  },
  {
   "cell_type": "code",
   "execution_count": 56,
   "id": "39af4e97",
   "metadata": {},
   "outputs": [
    {
     "name": "stdout",
     "output_type": "stream",
     "text": [
      "18 0.9795918367346939\n",
      "19 0.9795918367346939\n",
      "20 0.9795918367346939\n",
      "21 0.9795918367346939\n",
      "22 0.9795918367346939\n",
      "23 0.9795918367346939\n",
      "24 0.9795918367346939\n",
      "25 0.9795918367346939\n",
      "26 0.9795918367346939\n",
      "27 0.9795918367346939\n",
      "28 0.9591836734693877\n",
      "29 0.7142857142857143\n",
      "30 0.7142857142857143\n",
      "31 0.7142857142857143\n",
      "32 0.7142857142857143\n",
      "33 0.7142857142857143\n",
      "34 0.7142857142857143\n",
      "35 0.7142857142857143\n",
      "36 0.7142857142857143\n",
      "37 0.7142857142857143\n",
      "38 0.7142857142857143\n",
      "39 0.7142857142857143\n",
      "40 0.7142857142857143\n",
      "41 0.7142857142857143\n",
      "42 0.7142857142857143\n",
      "43 0.7142857142857143\n",
      "44 0.7142857142857143\n",
      "45 0.7142857142857143\n",
      "46 0.7142857142857143\n",
      "47 0.7142857142857143\n",
      "48 0.7142857142857143\n",
      "49 0.7142857142857143\n"
     ]
    }
   ],
   "source": [
    "for n in range(1,50):\n",
    "    # 이웃의 개수를 설정\n",
    "    kn = KNeighborsClassifier(n_neighbors=n)\n",
    "    kn.fit(x_data,y_data)\n",
    "    score = kn.score(x_data,y_data)\n",
    "    if score < 1:\n",
    "        print(n,score)\n"
   ]
  },
  {
   "cell_type": "code",
   "execution_count": 58,
   "id": "a0189747",
   "metadata": {},
   "outputs": [],
   "source": [
    "#지도학습 :  정답을 알려주고 학습\n",
    "#비지도학습 :  정답을 안가려주고 학습\n",
    "x_train = x_data[:35]\n",
    "y_train = y_data[:35]\n",
    "x_test  = x_data[35:]\n",
    "y_test  = y_data[35:]\n",
    "# 훈련세트 35개 테스트세트 14개"
   ]
  },
  {
   "cell_type": "code",
   "execution_count": 59,
   "id": "829aed5a",
   "metadata": {},
   "outputs": [
    {
     "data": {
      "text/html": [
       "<style>#sk-container-id-1 {color: black;background-color: white;}#sk-container-id-1 pre{padding: 0;}#sk-container-id-1 div.sk-toggleable {background-color: white;}#sk-container-id-1 label.sk-toggleable__label {cursor: pointer;display: block;width: 100%;margin-bottom: 0;padding: 0.3em;box-sizing: border-box;text-align: center;}#sk-container-id-1 label.sk-toggleable__label-arrow:before {content: \"▸\";float: left;margin-right: 0.25em;color: #696969;}#sk-container-id-1 label.sk-toggleable__label-arrow:hover:before {color: black;}#sk-container-id-1 div.sk-estimator:hover label.sk-toggleable__label-arrow:before {color: black;}#sk-container-id-1 div.sk-toggleable__content {max-height: 0;max-width: 0;overflow: hidden;text-align: left;background-color: #f0f8ff;}#sk-container-id-1 div.sk-toggleable__content pre {margin: 0.2em;color: black;border-radius: 0.25em;background-color: #f0f8ff;}#sk-container-id-1 input.sk-toggleable__control:checked~div.sk-toggleable__content {max-height: 200px;max-width: 100%;overflow: auto;}#sk-container-id-1 input.sk-toggleable__control:checked~label.sk-toggleable__label-arrow:before {content: \"▾\";}#sk-container-id-1 div.sk-estimator input.sk-toggleable__control:checked~label.sk-toggleable__label {background-color: #d4ebff;}#sk-container-id-1 div.sk-label input.sk-toggleable__control:checked~label.sk-toggleable__label {background-color: #d4ebff;}#sk-container-id-1 input.sk-hidden--visually {border: 0;clip: rect(1px 1px 1px 1px);clip: rect(1px, 1px, 1px, 1px);height: 1px;margin: -1px;overflow: hidden;padding: 0;position: absolute;width: 1px;}#sk-container-id-1 div.sk-estimator {font-family: monospace;background-color: #f0f8ff;border: 1px dotted black;border-radius: 0.25em;box-sizing: border-box;margin-bottom: 0.5em;}#sk-container-id-1 div.sk-estimator:hover {background-color: #d4ebff;}#sk-container-id-1 div.sk-parallel-item::after {content: \"\";width: 100%;border-bottom: 1px solid gray;flex-grow: 1;}#sk-container-id-1 div.sk-label:hover label.sk-toggleable__label {background-color: #d4ebff;}#sk-container-id-1 div.sk-serial::before {content: \"\";position: absolute;border-left: 1px solid gray;box-sizing: border-box;top: 0;bottom: 0;left: 50%;z-index: 0;}#sk-container-id-1 div.sk-serial {display: flex;flex-direction: column;align-items: center;background-color: white;padding-right: 0.2em;padding-left: 0.2em;position: relative;}#sk-container-id-1 div.sk-item {position: relative;z-index: 1;}#sk-container-id-1 div.sk-parallel {display: flex;align-items: stretch;justify-content: center;background-color: white;position: relative;}#sk-container-id-1 div.sk-item::before, #sk-container-id-1 div.sk-parallel-item::before {content: \"\";position: absolute;border-left: 1px solid gray;box-sizing: border-box;top: 0;bottom: 0;left: 50%;z-index: -1;}#sk-container-id-1 div.sk-parallel-item {display: flex;flex-direction: column;z-index: 1;position: relative;background-color: white;}#sk-container-id-1 div.sk-parallel-item:first-child::after {align-self: flex-end;width: 50%;}#sk-container-id-1 div.sk-parallel-item:last-child::after {align-self: flex-start;width: 50%;}#sk-container-id-1 div.sk-parallel-item:only-child::after {width: 0;}#sk-container-id-1 div.sk-dashed-wrapped {border: 1px dashed gray;margin: 0 0.4em 0.5em 0.4em;box-sizing: border-box;padding-bottom: 0.4em;background-color: white;}#sk-container-id-1 div.sk-label label {font-family: monospace;font-weight: bold;display: inline-block;line-height: 1.2em;}#sk-container-id-1 div.sk-label-container {text-align: center;}#sk-container-id-1 div.sk-container {/* jupyter's `normalize.less` sets `[hidden] { display: none; }` but bootstrap.min.css set `[hidden] { display: none !important; }` so we also need the `!important` here to be able to override the default hidden behavior on the sphinx rendered scikit-learn.org. See: https://github.com/scikit-learn/scikit-learn/issues/21755 */display: inline-block !important;position: relative;}#sk-container-id-1 div.sk-text-repr-fallback {display: none;}</style><div id=\"sk-container-id-1\" class=\"sk-top-container\"><div class=\"sk-text-repr-fallback\"><pre>KNeighborsClassifier()</pre><b>In a Jupyter environment, please rerun this cell to show the HTML representation or trust the notebook. <br />On GitHub, the HTML representation is unable to render, please try loading this page with nbviewer.org.</b></div><div class=\"sk-container\" hidden><div class=\"sk-item\"><div class=\"sk-estimator sk-toggleable\"><input class=\"sk-toggleable__control sk-hidden--visually\" id=\"sk-estimator-id-1\" type=\"checkbox\" checked><label for=\"sk-estimator-id-1\" class=\"sk-toggleable__label sk-toggleable__label-arrow\">KNeighborsClassifier</label><div class=\"sk-toggleable__content\"><pre>KNeighborsClassifier()</pre></div></div></div></div></div>"
      ],
      "text/plain": [
       "KNeighborsClassifier()"
      ]
     },
     "execution_count": 59,
     "metadata": {},
     "output_type": "execute_result"
    }
   ],
   "source": [
    "kn = KNeighborsClassifier()\n",
    "kn.fit(x_train,y_train)"
   ]
  },
  {
   "cell_type": "code",
   "execution_count": 60,
   "id": "ef6c222b",
   "metadata": {},
   "outputs": [
    {
     "data": {
      "text/plain": [
       "0.0"
      ]
     },
     "execution_count": 60,
     "metadata": {},
     "output_type": "execute_result"
    }
   ],
   "source": [
    "kn.score(x_test,y_test)"
   ]
  },
  {
   "cell_type": "code",
   "execution_count": null,
   "id": "6f2c51a4",
   "metadata": {},
   "outputs": [],
   "source": []
  }
 ],
 "metadata": {
  "kernelspec": {
   "display_name": "Python 3 (ipykernel)",
   "language": "python",
   "name": "python3"
  },
  "language_info": {
   "codemirror_mode": {
    "name": "ipython",
    "version": 3
   },
   "file_extension": ".py",
   "mimetype": "text/x-python",
   "name": "python",
   "nbconvert_exporter": "python",
   "pygments_lexer": "ipython3",
   "version": "3.9.12"
  }
 },
 "nbformat": 4,
 "nbformat_minor": 5
}
