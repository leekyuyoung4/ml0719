{
 "cells": [
  {
   "cell_type": "code",
   "execution_count": 13,
   "id": "3cdea759",
   "metadata": {},
   "outputs": [],
   "source": [
    "#  동적페이지 크롤링\n",
    "from bs4 import BeautifulSoup\n",
    "import urllib.request\n",
    "import pandas as pd\n",
    "import datetime\n",
    "from selenium import webdriver\n",
    "import time"
   ]
  },
  {
   "cell_type": "code",
   "execution_count": 34,
   "id": "42405764",
   "metadata": {},
   "outputs": [],
   "source": [
    "def CoffBean_Stroe(size):\n",
    "    result = []\n",
    "    url = \"https://www.coffeebeankorea.com/store/store.asp\"\n",
    "    wd = webdriver.Chrome('E:/4.numpy_workspace/chromedriver.exe')    \n",
    "    wd.get(url)\n",
    "    time.sleep(1) # 1초간 대기 (웹페이지 연결)\n",
    "    for i in range(size):\n",
    "        try:\n",
    "            wd.get(url)\n",
    "            time.sleep(1) # 1초간 대기 (웹페이지 연결)\n",
    "            wd.execute_script(f\"storePop2({i})\")\n",
    "            print(f\"storePop2('{i}')\",end=' ')\n",
    "            time.sleep(1) # 팝업창 대기\n",
    "            html = wd.page_source\n",
    "            soupCB =  BeautifulSoup(html, 'html.parser')\n",
    "            store_name = soupCB.select(\"div.store_txt>h2\")[0].string\n",
    "            print(store_name,end=' ')\n",
    "            store_info = soupCB.select(\"div.store_txt>table.store_table>tbody>tr>td\")\n",
    "            store_address = list(store_info[2])[0]\n",
    "            print(store_address,end=' ')\n",
    "            store_phone = store_info[3].string\n",
    "            print(store_phone,end=' ')\n",
    "            result.append([store_name]+[store_address]+[store_phone])\n",
    "        except Exception as e:\n",
    "            print(e)\n",
    "        finally:\n",
    "            print()\n",
    "    return result"
   ]
  },
  {
   "cell_type": "code",
   "execution_count": 35,
   "id": "40bd1be6",
   "metadata": {
    "scrolled": false
   },
   "outputs": [
    {
     "name": "stderr",
     "output_type": "stream",
     "text": [
      "C:\\Users\\user\\AppData\\Local\\Temp\\ipykernel_6072\\1235470269.py:4: DeprecationWarning: executable_path has been deprecated, please pass in a Service object\n",
      "  wd = webdriver.Chrome('E:/4.numpy_workspace/chromedriver.exe')\n"
     ]
    },
    {
     "name": "stdout",
     "output_type": "stream",
     "text": [
      "storePop2('0') list index out of range\n",
      "\n",
      "storePop2('1') 학동역 DT점 서울시 강남구 학동로 211 1층   02-3444-9973 \n",
      "storePop2('2') list index out of range\n",
      "\n",
      "storePop2('3') 차병원점 서울시 강남구 논현로 566 강남차병원1층   02-538-7615 \n",
      "storePop2('4') list index out of range\n",
      "\n",
      "storePop2('5') list index out of range\n",
      "\n",
      "storePop2('6') 강남대로점 서울시 서초구 강남대로 369 1층   02-588-5778 \n",
      "storePop2('7') list index out of range\n",
      "\n",
      "storePop2('8') list index out of range\n",
      "\n",
      "storePop2('9') list index out of range\n",
      "\n",
      "storePop2('10') list index out of range\n",
      "\n",
      "storePop2('11') 강남에스점 서울시 서초구 서초 1306-3호   02-593-5095 \n",
      "storePop2('12') 청담에스점 서울시 강남구 압구정로 461 네이처포엠빌딩B108,109호   02-548-6052 \n",
      "storePop2('13') 신사점 서울시 강남구 도산대로 126   02-548-2741 \n",
      "storePop2('14') 압구정역점 서울시 강남구 논현로 842 압구정빌딩1층   02-544-6823 \n",
      "storePop2('15') 역삼점 서울시 강남구 논현로 512  지상1,2층   02-569-8051 \n",
      "storePop2('16') 양재스포타임점 서울시 서초구 강남대로 213 24호 지하1층   02-578-6833 \n",
      "storePop2('17') 청담성당점 서울시 강남구 삼성로 716 LEE76빌딩2층   02-542-2053 \n",
      "storePop2('18') 영동점 서울 서초구 반포동 736-17 P빌딩 2층   02-3443-2096 \n",
      "storePop2('19') 도곡점 서울시 강남구 언주로 30길 10,112 현대비젼21 112호   02-572-2781 \n"
     ]
    }
   ],
   "source": [
    "result = CoffBean_Stroe(20)"
   ]
  },
  {
   "cell_type": "code",
   "execution_count": 36,
   "id": "15c97415",
   "metadata": {},
   "outputs": [
    {
     "data": {
      "text/plain": [
       "[['학동역 DT점', '서울시 강남구 학동로 211 1층  ', '02-3444-9973'],\n",
       " ['차병원점', '서울시 강남구 논현로 566 강남차병원1층  ', '02-538-7615'],\n",
       " ['강남대로점', '서울시 서초구 강남대로 369 1층  ', '02-588-5778'],\n",
       " ['강남에스점', '서울시 서초구 서초 1306-3호  ', '02-593-5095'],\n",
       " ['청담에스점', '서울시 강남구 압구정로 461 네이처포엠빌딩B108,109호  ', '02-548-6052'],\n",
       " ['신사점', '서울시 강남구 도산대로 126  ', '02-548-2741'],\n",
       " ['압구정역점', '서울시 강남구 논현로 842 압구정빌딩1층  ', '02-544-6823'],\n",
       " ['역삼점', '서울시 강남구 논현로 512  지상1,2층  ', '02-569-8051'],\n",
       " ['양재스포타임점', '서울시 서초구 강남대로 213 24호 지하1층  ', '02-578-6833'],\n",
       " ['청담성당점', '서울시 강남구 삼성로 716 LEE76빌딩2층  ', '02-542-2053'],\n",
       " ['영동점', '서울 서초구 반포동 736-17 P빌딩 2층  ', '02-3443-2096'],\n",
       " ['도곡점', '서울시 강남구 언주로 30길 10,112 현대비젼21 112호  ', '02-572-2781']]"
      ]
     },
     "execution_count": 36,
     "metadata": {},
     "output_type": "execute_result"
    }
   ],
   "source": [
    "result"
   ]
  },
  {
   "cell_type": "code",
   "execution_count": 37,
   "id": "0d0a7830",
   "metadata": {},
   "outputs": [],
   "source": [
    "df = pd.DataFrame(result,columns=('지점명','주소','전화번호'))"
   ]
  },
  {
   "cell_type": "code",
   "execution_count": 38,
   "id": "de046a6c",
   "metadata": {},
   "outputs": [
    {
     "data": {
      "text/html": [
       "<div>\n",
       "<style scoped>\n",
       "    .dataframe tbody tr th:only-of-type {\n",
       "        vertical-align: middle;\n",
       "    }\n",
       "\n",
       "    .dataframe tbody tr th {\n",
       "        vertical-align: top;\n",
       "    }\n",
       "\n",
       "    .dataframe thead th {\n",
       "        text-align: right;\n",
       "    }\n",
       "</style>\n",
       "<table border=\"1\" class=\"dataframe\">\n",
       "  <thead>\n",
       "    <tr style=\"text-align: right;\">\n",
       "      <th></th>\n",
       "      <th>지점명</th>\n",
       "      <th>주소</th>\n",
       "      <th>전화번호</th>\n",
       "    </tr>\n",
       "  </thead>\n",
       "  <tbody>\n",
       "    <tr>\n",
       "      <th>0</th>\n",
       "      <td>학동역 DT점</td>\n",
       "      <td>서울시 강남구 학동로 211 1층</td>\n",
       "      <td>02-3444-9973</td>\n",
       "    </tr>\n",
       "    <tr>\n",
       "      <th>1</th>\n",
       "      <td>차병원점</td>\n",
       "      <td>서울시 강남구 논현로 566 강남차병원1층</td>\n",
       "      <td>02-538-7615</td>\n",
       "    </tr>\n",
       "    <tr>\n",
       "      <th>2</th>\n",
       "      <td>강남대로점</td>\n",
       "      <td>서울시 서초구 강남대로 369 1층</td>\n",
       "      <td>02-588-5778</td>\n",
       "    </tr>\n",
       "    <tr>\n",
       "      <th>3</th>\n",
       "      <td>강남에스점</td>\n",
       "      <td>서울시 서초구 서초 1306-3호</td>\n",
       "      <td>02-593-5095</td>\n",
       "    </tr>\n",
       "    <tr>\n",
       "      <th>4</th>\n",
       "      <td>청담에스점</td>\n",
       "      <td>서울시 강남구 압구정로 461 네이처포엠빌딩B108,109호</td>\n",
       "      <td>02-548-6052</td>\n",
       "    </tr>\n",
       "  </tbody>\n",
       "</table>\n",
       "</div>"
      ],
      "text/plain": [
       "       지점명                                   주소          전화번호\n",
       "0  학동역 DT점                 서울시 강남구 학동로 211 1층    02-3444-9973\n",
       "1     차병원점            서울시 강남구 논현로 566 강남차병원1층     02-538-7615\n",
       "2    강남대로점                서울시 서초구 강남대로 369 1층     02-588-5778\n",
       "3    강남에스점                 서울시 서초구 서초 1306-3호     02-593-5095\n",
       "4    청담에스점  서울시 강남구 압구정로 461 네이처포엠빌딩B108,109호     02-548-6052"
      ]
     },
     "execution_count": 38,
     "metadata": {},
     "output_type": "execute_result"
    }
   ],
   "source": [
    "df.head()"
   ]
  },
  {
   "cell_type": "code",
   "execution_count": 39,
   "id": "30183331",
   "metadata": {},
   "outputs": [],
   "source": [
    "df.to_csv(\"./CoffeBean.csv\",encoding='cp949',mode='w',index=True)"
   ]
  },
  {
   "cell_type": "code",
   "execution_count": null,
   "id": "b239d9ed",
   "metadata": {},
   "outputs": [],
   "source": []
  }
 ],
 "metadata": {
  "kernelspec": {
   "display_name": "Python 3 (ipykernel)",
   "language": "python",
   "name": "python3"
  },
  "language_info": {
   "codemirror_mode": {
    "name": "ipython",
    "version": 3
   },
   "file_extension": ".py",
   "mimetype": "text/x-python",
   "name": "python",
   "nbconvert_exporter": "python",
   "pygments_lexer": "ipython3",
   "version": "3.9.12"
  }
 },
 "nbformat": 4,
 "nbformat_minor": 5
}
