{
 "cells": [
  {
   "cell_type": "code",
   "execution_count": 1,
   "id": "829a82e5",
   "metadata": {},
   "outputs": [],
   "source": [
    "from bs4 import BeautifulSoup\n",
    "import urllib.request"
   ]
  },
  {
   "cell_type": "code",
   "execution_count": 2,
   "id": "4eb49bbe",
   "metadata": {},
   "outputs": [
    {
     "name": "stdout",
     "output_type": "stream",
     "text": [
      "등록된 지점이 없습니다.\n"
     ]
    }
   ],
   "source": [
    "# 결과를 저장할 리스트\n",
    "result = []\n",
    "i = 100\n",
    "url = f\"https://www.hollys.co.kr/store/korea/korStore2.do?pageNo={i}\"\n",
    "html = urllib.request.urlopen(url)\n",
    "soup =  BeautifulSoup(html,'html.parser')\n",
    "tag_tbody = soup.find('tbody')\n",
    "for tr in tag_tbody.find_all('tr'):\n",
    "        tr_td = tr.find_all('td')\n",
    "        for i in tr_td:\n",
    "            if i.string != None:\n",
    "                print(i.string)"
   ]
  },
  {
   "cell_type": "code",
   "execution_count": 3,
   "id": "4e937d62",
   "metadata": {},
   "outputs": [],
   "source": [
    "def findAllStoreInformation():\n",
    "    result = []    \n",
    "    cnt = 1\n",
    "    for i in range(1,1000):\n",
    "        url = f\"https://www.hollys.co.kr/store/korea/korStore2.do?pageNo={i}\"\n",
    "        #print(url)\n",
    "        html = urllib.request.urlopen(url)\n",
    "        soup =  BeautifulSoup(html,'html.parser')\n",
    "        tag_tbody = soup.find('tbody')\n",
    "        \n",
    "        for tr in tag_tbody.find_all('tr'):\n",
    "            tr_td = tr.find_all('td')        \n",
    "            templist = []\n",
    "            for i in tr_td:\n",
    "                if i.string != None:\n",
    "                    if i.string == '등록된 지점이 없습니다.': return result\n",
    "                    templist.append(i.string)            \n",
    "            result.append( [i for i in templist if i != '\\n'])\n",
    "    #         break   #첫페이지에 대한 매장정보\n",
    "    #     break   # 모든 페이지에 대한 매장정보    "
   ]
  },
  {
   "cell_type": "code",
   "execution_count": 4,
   "id": "3bc9b031",
   "metadata": {},
   "outputs": [],
   "source": [
    "result = findAllStoreInformation()"
   ]
  },
  {
   "cell_type": "code",
   "execution_count": 5,
   "id": "42d78e15",
   "metadata": {
    "scrolled": true
   },
   "outputs": [
    {
     "data": {
      "text/plain": [
       "[['경기 이천시', '이천마장점', '영업중', '경기도 이천시 마장면 오천로 65 오천리 56-55', '070-4647-0081'],\n",
       " ['대전 유성구', '충남대점', '영업중', '대전광역시 유성구 대학로 84 (궁동 482-6) .', '070-7543-1009'],\n",
       " ['서울 광진구',\n",
       "  '강변역점',\n",
       "  '영업중',\n",
       "  '서울 광진구 구의강변로 64, 구의아크로리버 1층 구의동 589-10',\n",
       "  '070-7802-0303'],\n",
       " ['서울 종로구', '종각역점', '영업중', '서울특별시 종로구 종로 60-1 종로2가 102-3', '02-736-3399'],\n",
       " ['부산 사하구',\n",
       "  '부산아트몰링영풍문고점',\n",
       "  '영업중',\n",
       "  '부산광역시 사하구 낙동남로 1413 (하단동, 아트몰링) 13층',\n",
       "  '051-201-0621']]"
      ]
     },
     "execution_count": 5,
     "metadata": {},
     "output_type": "execute_result"
    }
   ],
   "source": [
    "result[:5]"
   ]
  },
  {
   "cell_type": "code",
   "execution_count": 6,
   "id": "cae34746",
   "metadata": {},
   "outputs": [],
   "source": [
    "import pandas as pd"
   ]
  },
  {
   "cell_type": "code",
   "execution_count": 7,
   "id": "978ee616",
   "metadata": {
    "scrolled": false
   },
   "outputs": [
    {
     "data": {
      "text/html": [
       "<div>\n",
       "<style scoped>\n",
       "    .dataframe tbody tr th:only-of-type {\n",
       "        vertical-align: middle;\n",
       "    }\n",
       "\n",
       "    .dataframe tbody tr th {\n",
       "        vertical-align: top;\n",
       "    }\n",
       "\n",
       "    .dataframe thead th {\n",
       "        text-align: right;\n",
       "    }\n",
       "</style>\n",
       "<table border=\"1\" class=\"dataframe\">\n",
       "  <thead>\n",
       "    <tr style=\"text-align: right;\">\n",
       "      <th></th>\n",
       "      <th>0</th>\n",
       "      <th>1</th>\n",
       "      <th>2</th>\n",
       "      <th>3</th>\n",
       "      <th>4</th>\n",
       "    </tr>\n",
       "  </thead>\n",
       "  <tbody>\n",
       "    <tr>\n",
       "      <th>0</th>\n",
       "      <td>경기 이천시</td>\n",
       "      <td>이천마장점</td>\n",
       "      <td>영업중</td>\n",
       "      <td>경기도 이천시 마장면 오천로 65 오천리 56-55</td>\n",
       "      <td>070-4647-0081</td>\n",
       "    </tr>\n",
       "    <tr>\n",
       "      <th>1</th>\n",
       "      <td>대전 유성구</td>\n",
       "      <td>충남대점</td>\n",
       "      <td>영업중</td>\n",
       "      <td>대전광역시 유성구 대학로 84 (궁동 482-6) .</td>\n",
       "      <td>070-7543-1009</td>\n",
       "    </tr>\n",
       "    <tr>\n",
       "      <th>2</th>\n",
       "      <td>서울 광진구</td>\n",
       "      <td>강변역점</td>\n",
       "      <td>영업중</td>\n",
       "      <td>서울 광진구 구의강변로 64, 구의아크로리버 1층 구의동 589-10</td>\n",
       "      <td>070-7802-0303</td>\n",
       "    </tr>\n",
       "    <tr>\n",
       "      <th>3</th>\n",
       "      <td>서울 종로구</td>\n",
       "      <td>종각역점</td>\n",
       "      <td>영업중</td>\n",
       "      <td>서울특별시 종로구 종로 60-1 종로2가 102-3</td>\n",
       "      <td>02-736-3399</td>\n",
       "    </tr>\n",
       "    <tr>\n",
       "      <th>4</th>\n",
       "      <td>부산 사하구</td>\n",
       "      <td>부산아트몰링영풍문고점</td>\n",
       "      <td>영업중</td>\n",
       "      <td>부산광역시 사하구 낙동남로 1413 (하단동, 아트몰링) 13층</td>\n",
       "      <td>051-201-0621</td>\n",
       "    </tr>\n",
       "  </tbody>\n",
       "</table>\n",
       "</div>"
      ],
      "text/plain": [
       "        0            1    2                                       3  \\\n",
       "0  경기 이천시        이천마장점  영업중            경기도 이천시 마장면 오천로 65 오천리 56-55   \n",
       "1  대전 유성구         충남대점  영업중           대전광역시 유성구 대학로 84 (궁동 482-6) .   \n",
       "2  서울 광진구         강변역점  영업중  서울 광진구 구의강변로 64, 구의아크로리버 1층 구의동 589-10   \n",
       "3  서울 종로구         종각역점  영업중            서울특별시 종로구 종로 60-1 종로2가 102-3   \n",
       "4  부산 사하구  부산아트몰링영풍문고점  영업중     부산광역시 사하구 낙동남로 1413 (하단동, 아트몰링) 13층   \n",
       "\n",
       "               4  \n",
       "0  070-4647-0081  \n",
       "1  070-7543-1009  \n",
       "2  070-7802-0303  \n",
       "3    02-736-3399  \n",
       "4   051-201-0621  "
      ]
     },
     "execution_count": 7,
     "metadata": {},
     "output_type": "execute_result"
    }
   ],
   "source": [
    "holly_df = pd.DataFrame(result)\n",
    "holly_df.head()"
   ]
  },
  {
   "cell_type": "code",
   "execution_count": 11,
   "id": "daa2040a",
   "metadata": {},
   "outputs": [
    {
     "data": {
      "text/html": [
       "<div>\n",
       "<style scoped>\n",
       "    .dataframe tbody tr th:only-of-type {\n",
       "        vertical-align: middle;\n",
       "    }\n",
       "\n",
       "    .dataframe tbody tr th {\n",
       "        vertical-align: top;\n",
       "    }\n",
       "\n",
       "    .dataframe thead th {\n",
       "        text-align: right;\n",
       "    }\n",
       "</style>\n",
       "<table border=\"1\" class=\"dataframe\">\n",
       "  <thead>\n",
       "    <tr style=\"text-align: right;\">\n",
       "      <th></th>\n",
       "      <th>지역</th>\n",
       "      <th>매장명</th>\n",
       "      <th>상태</th>\n",
       "      <th>주소</th>\n",
       "      <th>전화번호</th>\n",
       "    </tr>\n",
       "  </thead>\n",
       "  <tbody>\n",
       "    <tr>\n",
       "      <th>0</th>\n",
       "      <td>경기 이천시</td>\n",
       "      <td>이천마장점</td>\n",
       "      <td>영업중</td>\n",
       "      <td>경기도 이천시 마장면 오천로 65 오천리 56-55</td>\n",
       "      <td>070-4647-0081</td>\n",
       "    </tr>\n",
       "    <tr>\n",
       "      <th>1</th>\n",
       "      <td>대전 유성구</td>\n",
       "      <td>충남대점</td>\n",
       "      <td>영업중</td>\n",
       "      <td>대전광역시 유성구 대학로 84 (궁동 482-6) .</td>\n",
       "      <td>070-7543-1009</td>\n",
       "    </tr>\n",
       "    <tr>\n",
       "      <th>2</th>\n",
       "      <td>서울 광진구</td>\n",
       "      <td>강변역점</td>\n",
       "      <td>영업중</td>\n",
       "      <td>서울 광진구 구의강변로 64, 구의아크로리버 1층 구의동 589-10</td>\n",
       "      <td>070-7802-0303</td>\n",
       "    </tr>\n",
       "    <tr>\n",
       "      <th>3</th>\n",
       "      <td>서울 종로구</td>\n",
       "      <td>종각역점</td>\n",
       "      <td>영업중</td>\n",
       "      <td>서울특별시 종로구 종로 60-1 종로2가 102-3</td>\n",
       "      <td>02-736-3399</td>\n",
       "    </tr>\n",
       "    <tr>\n",
       "      <th>4</th>\n",
       "      <td>부산 사하구</td>\n",
       "      <td>부산아트몰링영풍문고점</td>\n",
       "      <td>영업중</td>\n",
       "      <td>부산광역시 사하구 낙동남로 1413 (하단동, 아트몰링) 13층</td>\n",
       "      <td>051-201-0621</td>\n",
       "    </tr>\n",
       "  </tbody>\n",
       "</table>\n",
       "</div>"
      ],
      "text/plain": [
       "       지역          매장명   상태                                      주소  \\\n",
       "0  경기 이천시        이천마장점  영업중            경기도 이천시 마장면 오천로 65 오천리 56-55   \n",
       "1  대전 유성구         충남대점  영업중           대전광역시 유성구 대학로 84 (궁동 482-6) .   \n",
       "2  서울 광진구         강변역점  영업중  서울 광진구 구의강변로 64, 구의아크로리버 1층 구의동 589-10   \n",
       "3  서울 종로구         종각역점  영업중            서울특별시 종로구 종로 60-1 종로2가 102-3   \n",
       "4  부산 사하구  부산아트몰링영풍문고점  영업중     부산광역시 사하구 낙동남로 1413 (하단동, 아트몰링) 13층   \n",
       "\n",
       "            전화번호  \n",
       "0  070-4647-0081  \n",
       "1  070-7543-1009  \n",
       "2  070-7802-0303  \n",
       "3    02-736-3399  \n",
       "4   051-201-0621  "
      ]
     },
     "execution_count": 11,
     "metadata": {},
     "output_type": "execute_result"
    }
   ],
   "source": [
    "holly_df.columns = ['지역','매장명','상태','주소','전화번호']\n",
    "holly_df.head()"
   ]
  },
  {
   "cell_type": "code",
   "execution_count": 12,
   "id": "e96d04af",
   "metadata": {},
   "outputs": [],
   "source": [
    "holly_df.to_csv(\"./hollys_store.csv\", encoding=\"cp949\",mode='w',index=True)\n",
    "# holly_df.to_csv(\"./hollys_store.csv\", encoding=\"utf8\",mode='w',index=True)"
   ]
  },
  {
   "cell_type": "code",
   "execution_count": null,
   "id": "ba4e829b",
   "metadata": {},
   "outputs": [],
   "source": []
  }
 ],
 "metadata": {
  "kernelspec": {
   "display_name": "Python 3 (ipykernel)",
   "language": "python",
   "name": "python3"
  },
  "language_info": {
   "codemirror_mode": {
    "name": "ipython",
    "version": 3
   },
   "file_extension": ".py",
   "mimetype": "text/x-python",
   "name": "python",
   "nbconvert_exporter": "python",
   "pygments_lexer": "ipython3",
   "version": "3.9.12"
  }
 },
 "nbformat": 4,
 "nbformat_minor": 5
}
