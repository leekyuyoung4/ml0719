{
 "cells": [
  {
   "cell_type": "code",
   "execution_count": 253,
   "id": "2ac6912d",
   "metadata": {},
   "outputs": [],
   "source": [
    "import pandas as pd\n",
    "import numpy as np"
   ]
  },
  {
   "cell_type": "code",
   "execution_count": 254,
   "id": "123848ab",
   "metadata": {},
   "outputs": [
    {
     "data": {
      "text/html": [
       "<div>\n",
       "<style scoped>\n",
       "    .dataframe tbody tr th:only-of-type {\n",
       "        vertical-align: middle;\n",
       "    }\n",
       "\n",
       "    .dataframe tbody tr th {\n",
       "        vertical-align: top;\n",
       "    }\n",
       "\n",
       "    .dataframe thead th {\n",
       "        text-align: right;\n",
       "    }\n",
       "</style>\n",
       "<table border=\"1\" class=\"dataframe\">\n",
       "  <thead>\n",
       "    <tr style=\"text-align: right;\">\n",
       "      <th></th>\n",
       "      <th>지역명</th>\n",
       "      <th>규모구분</th>\n",
       "      <th>연도</th>\n",
       "      <th>월</th>\n",
       "      <th>분양가격(제곱미터)</th>\n",
       "    </tr>\n",
       "  </thead>\n",
       "  <tbody>\n",
       "    <tr>\n",
       "      <th>0</th>\n",
       "      <td>서울</td>\n",
       "      <td>모든면적</td>\n",
       "      <td>2015</td>\n",
       "      <td>10</td>\n",
       "      <td>5841</td>\n",
       "    </tr>\n",
       "    <tr>\n",
       "      <th>1</th>\n",
       "      <td>서울</td>\n",
       "      <td>전용면적 60제곱미터이하</td>\n",
       "      <td>2015</td>\n",
       "      <td>10</td>\n",
       "      <td>5652</td>\n",
       "    </tr>\n",
       "    <tr>\n",
       "      <th>2</th>\n",
       "      <td>서울</td>\n",
       "      <td>전용면적 60제곱미터초과 85제곱미터이하</td>\n",
       "      <td>2015</td>\n",
       "      <td>10</td>\n",
       "      <td>5882</td>\n",
       "    </tr>\n",
       "    <tr>\n",
       "      <th>3</th>\n",
       "      <td>서울</td>\n",
       "      <td>전용면적 85제곱미터초과 102제곱미터이하</td>\n",
       "      <td>2015</td>\n",
       "      <td>10</td>\n",
       "      <td>5721</td>\n",
       "    </tr>\n",
       "    <tr>\n",
       "      <th>4</th>\n",
       "      <td>서울</td>\n",
       "      <td>전용면적 102제곱미터초과</td>\n",
       "      <td>2015</td>\n",
       "      <td>10</td>\n",
       "      <td>5879</td>\n",
       "    </tr>\n",
       "  </tbody>\n",
       "</table>\n",
       "</div>"
      ],
      "text/plain": [
       "  지역명                     규모구분    연도   월 분양가격(제곱미터)\n",
       "0  서울                     모든면적  2015  10       5841\n",
       "1  서울            전용면적 60제곱미터이하  2015  10       5652\n",
       "2  서울   전용면적 60제곱미터초과 85제곱미터이하  2015  10       5882\n",
       "3  서울  전용면적 85제곱미터초과 102제곱미터이하  2015  10       5721\n",
       "4  서울           전용면적 102제곱미터초과  2015  10       5879"
      ]
     },
     "execution_count": 254,
     "metadata": {},
     "output_type": "execute_result"
    }
   ],
   "source": [
    "url = \"https://raw.githubusercontent.com/leekyuyoung4/ml0719/main/%EB%8D%B0%EC%9D%B4%ED%84%B0%EB%B6%84%EC%84%9D/%EC%A3%BC%ED%83%9D%EB%8F%84%EC%8B%9C%EB%B3%B4%EC%A6%9D%EA%B3%B5%EC%82%AC_%EC%A0%84%EA%B5%AD%20%EC%8B%A0%EA%B7%9C%20%EB%AF%BC%EA%B0%84%EC%95%84%ED%8C%8C%ED%8A%B8%20%EB%B6%84%EC%96%91%EA%B0%80%EA%B2%A9%20%EB%8F%99%ED%96%A5_20211130.csv\"\n",
    "df = pd.read_csv(url,encoding='cp949')\n",
    "df.head()"
   ]
  },
  {
   "cell_type": "code",
   "execution_count": 255,
   "id": "f5affb8a",
   "metadata": {},
   "outputs": [
    {
     "data": {
      "text/html": [
       "<div>\n",
       "<style scoped>\n",
       "    .dataframe tbody tr th:only-of-type {\n",
       "        vertical-align: middle;\n",
       "    }\n",
       "\n",
       "    .dataframe tbody tr th {\n",
       "        vertical-align: top;\n",
       "    }\n",
       "\n",
       "    .dataframe thead th {\n",
       "        text-align: right;\n",
       "    }\n",
       "</style>\n",
       "<table border=\"1\" class=\"dataframe\">\n",
       "  <thead>\n",
       "    <tr style=\"text-align: right;\">\n",
       "      <th></th>\n",
       "      <th>지역명</th>\n",
       "      <th>규모구분</th>\n",
       "      <th>연도</th>\n",
       "      <th>월</th>\n",
       "      <th>분양가격(제곱미터)</th>\n",
       "    </tr>\n",
       "  </thead>\n",
       "  <tbody>\n",
       "    <tr>\n",
       "      <th>6285</th>\n",
       "      <td>제주</td>\n",
       "      <td>모든면적</td>\n",
       "      <td>2021</td>\n",
       "      <td>11</td>\n",
       "      <td>6,860</td>\n",
       "    </tr>\n",
       "    <tr>\n",
       "      <th>6286</th>\n",
       "      <td>제주</td>\n",
       "      <td>전용면적 60제곱미터이하</td>\n",
       "      <td>2021</td>\n",
       "      <td>11</td>\n",
       "      <td>NaN</td>\n",
       "    </tr>\n",
       "    <tr>\n",
       "      <th>6287</th>\n",
       "      <td>제주</td>\n",
       "      <td>전용면적 60제곱미터초과 85제곱미터이하</td>\n",
       "      <td>2021</td>\n",
       "      <td>11</td>\n",
       "      <td>6,787</td>\n",
       "    </tr>\n",
       "    <tr>\n",
       "      <th>6288</th>\n",
       "      <td>제주</td>\n",
       "      <td>전용면적 85제곱미터초과 102제곱미터이하</td>\n",
       "      <td>2021</td>\n",
       "      <td>11</td>\n",
       "      <td>5,924</td>\n",
       "    </tr>\n",
       "    <tr>\n",
       "      <th>6289</th>\n",
       "      <td>제주</td>\n",
       "      <td>전용면적 102제곱미터초과</td>\n",
       "      <td>2021</td>\n",
       "      <td>11</td>\n",
       "      <td>6,815</td>\n",
       "    </tr>\n",
       "  </tbody>\n",
       "</table>\n",
       "</div>"
      ],
      "text/plain": [
       "     지역명                     규모구분    연도   월 분양가격(제곱미터)\n",
       "6285  제주                     모든면적  2021  11      6,860\n",
       "6286  제주            전용면적 60제곱미터이하  2021  11        NaN\n",
       "6287  제주   전용면적 60제곱미터초과 85제곱미터이하  2021  11      6,787\n",
       "6288  제주  전용면적 85제곱미터초과 102제곱미터이하  2021  11      5,924\n",
       "6289  제주           전용면적 102제곱미터초과  2021  11      6,815"
      ]
     },
     "execution_count": 255,
     "metadata": {},
     "output_type": "execute_result"
    }
   ],
   "source": [
    "df.tail()"
   ]
  },
  {
   "cell_type": "code",
   "execution_count": 256,
   "id": "0cfd6f09",
   "metadata": {},
   "outputs": [
    {
     "data": {
      "text/plain": [
       "(2021, 2015)"
      ]
     },
     "execution_count": 256,
     "metadata": {},
     "output_type": "execute_result"
    }
   ],
   "source": [
    "df['연도'].max(),df['연도'].min()"
   ]
  },
  {
   "cell_type": "code",
   "execution_count": 257,
   "id": "85b33cb9",
   "metadata": {},
   "outputs": [
    {
     "name": "stdout",
     "output_type": "stream",
     "text": [
      "<class 'pandas.core.frame.DataFrame'>\n",
      "RangeIndex: 6290 entries, 0 to 6289\n",
      "Data columns (total 5 columns):\n",
      " #   Column      Non-Null Count  Dtype \n",
      "---  ------      --------------  ----- \n",
      " 0   지역명         6290 non-null   object\n",
      " 1   규모구분        6290 non-null   object\n",
      " 2   연도          6290 non-null   int64 \n",
      " 3   월           6290 non-null   int64 \n",
      " 4   분양가격(제곱미터)  5812 non-null   object\n",
      "dtypes: int64(2), object(3)\n",
      "memory usage: 245.8+ KB\n"
     ]
    }
   ],
   "source": [
    "# 2015년도 부터 데이터가 존재\n",
    "# 데이터 요약\n",
    "df.info()"
   ]
  },
  {
   "cell_type": "code",
   "execution_count": 258,
   "id": "30cc87ad",
   "metadata": {},
   "outputs": [
    {
     "data": {
      "text/plain": [
       "지역명             0\n",
       "규모구분            0\n",
       "연도              0\n",
       "월               0\n",
       "분양가격(제곱미터)    478\n",
       "dtype: int64"
      ]
     },
     "execution_count": 258,
     "metadata": {},
     "output_type": "execute_result"
    }
   ],
   "source": [
    "# 결측치 확인\n",
    "df.isnull().sum()"
   ]
  },
  {
   "cell_type": "code",
   "execution_count": 259,
   "id": "3ec20897",
   "metadata": {},
   "outputs": [
    {
     "data": {
      "text/plain": [
       "str"
      ]
     },
     "execution_count": 259,
     "metadata": {},
     "output_type": "execute_result"
    }
   ],
   "source": [
    "# 데이터 타입변경 : \n",
    "type(df['분양가격(제곱미터)'][0])"
   ]
  },
  {
   "cell_type": "code",
   "execution_count": 260,
   "id": "80843527",
   "metadata": {},
   "outputs": [
    {
     "data": {
      "text/plain": [
       "19275.3"
      ]
     },
     "execution_count": 260,
     "metadata": {},
     "output_type": "execute_result"
    }
   ],
   "source": [
    "int(df['분양가격(제곱미터)'][0])*3.3  # 단위는 천단위"
   ]
  },
  {
   "cell_type": "code",
   "execution_count": 261,
   "id": "5ddd5101",
   "metadata": {},
   "outputs": [],
   "source": [
    "df['분양가격(제곱미터)'].fillna(0, inplace=True)"
   ]
  },
  {
   "cell_type": "code",
   "execution_count": 262,
   "id": "59dfc40d",
   "metadata": {},
   "outputs": [],
   "source": [
    "df['분양가격(제곱미터)'] = pd.to_numeric(df['분양가격(제곱미터)'],errors='coerce')"
   ]
  },
  {
   "cell_type": "code",
   "execution_count": 263,
   "id": "f093c856",
   "metadata": {},
   "outputs": [
    {
     "name": "stdout",
     "output_type": "stream",
     "text": [
      "<class 'pandas.core.frame.DataFrame'>\n",
      "RangeIndex: 6290 entries, 0 to 6289\n",
      "Data columns (total 5 columns):\n",
      " #   Column      Non-Null Count  Dtype  \n",
      "---  ------      --------------  -----  \n",
      " 0   지역명         6290 non-null   object \n",
      " 1   규모구분        6290 non-null   object \n",
      " 2   연도          6290 non-null   int64  \n",
      " 3   월           6290 non-null   int64  \n",
      " 4   분양가격(제곱미터)  6026 non-null   float64\n",
      "dtypes: float64(1), int64(2), object(2)\n",
      "memory usage: 245.8+ KB\n"
     ]
    }
   ],
   "source": [
    "# https://pandas.pydata.org/docs/reference/api/pandas.DataFrame.fillna.html\n",
    "df.info()"
   ]
  },
  {
   "cell_type": "code",
   "execution_count": 264,
   "id": "fcb32082",
   "metadata": {},
   "outputs": [],
   "source": [
    "df['평당가격'] = df['분양가격(제곱미터)']*3.3\n",
    "df.columns = ['지역명', '규모구분', '연도', '월', '분양가격(제곱미터)',  '평당가격(천원)']"
   ]
  },
  {
   "cell_type": "code",
   "execution_count": 265,
   "id": "3b09d211",
   "metadata": {},
   "outputs": [
    {
     "data": {
      "text/html": [
       "<div>\n",
       "<style scoped>\n",
       "    .dataframe tbody tr th:only-of-type {\n",
       "        vertical-align: middle;\n",
       "    }\n",
       "\n",
       "    .dataframe tbody tr th {\n",
       "        vertical-align: top;\n",
       "    }\n",
       "\n",
       "    .dataframe thead th {\n",
       "        text-align: right;\n",
       "    }\n",
       "</style>\n",
       "<table border=\"1\" class=\"dataframe\">\n",
       "  <thead>\n",
       "    <tr style=\"text-align: right;\">\n",
       "      <th></th>\n",
       "      <th>지역명</th>\n",
       "      <th>규모구분</th>\n",
       "      <th>연도</th>\n",
       "      <th>월</th>\n",
       "      <th>분양가격(제곱미터)</th>\n",
       "      <th>평당가격(천원)</th>\n",
       "    </tr>\n",
       "  </thead>\n",
       "  <tbody>\n",
       "    <tr>\n",
       "      <th>0</th>\n",
       "      <td>서울</td>\n",
       "      <td>모든면적</td>\n",
       "      <td>2015</td>\n",
       "      <td>10</td>\n",
       "      <td>5841.0</td>\n",
       "      <td>19275.3</td>\n",
       "    </tr>\n",
       "    <tr>\n",
       "      <th>1</th>\n",
       "      <td>서울</td>\n",
       "      <td>전용면적 60제곱미터이하</td>\n",
       "      <td>2015</td>\n",
       "      <td>10</td>\n",
       "      <td>5652.0</td>\n",
       "      <td>18651.6</td>\n",
       "    </tr>\n",
       "    <tr>\n",
       "      <th>2</th>\n",
       "      <td>서울</td>\n",
       "      <td>전용면적 60제곱미터초과 85제곱미터이하</td>\n",
       "      <td>2015</td>\n",
       "      <td>10</td>\n",
       "      <td>5882.0</td>\n",
       "      <td>19410.6</td>\n",
       "    </tr>\n",
       "    <tr>\n",
       "      <th>3</th>\n",
       "      <td>서울</td>\n",
       "      <td>전용면적 85제곱미터초과 102제곱미터이하</td>\n",
       "      <td>2015</td>\n",
       "      <td>10</td>\n",
       "      <td>5721.0</td>\n",
       "      <td>18879.3</td>\n",
       "    </tr>\n",
       "    <tr>\n",
       "      <th>4</th>\n",
       "      <td>서울</td>\n",
       "      <td>전용면적 102제곱미터초과</td>\n",
       "      <td>2015</td>\n",
       "      <td>10</td>\n",
       "      <td>5879.0</td>\n",
       "      <td>19400.7</td>\n",
       "    </tr>\n",
       "  </tbody>\n",
       "</table>\n",
       "</div>"
      ],
      "text/plain": [
       "  지역명                     규모구분    연도   월  분양가격(제곱미터)  평당가격(천원)\n",
       "0  서울                     모든면적  2015  10      5841.0   19275.3\n",
       "1  서울            전용면적 60제곱미터이하  2015  10      5652.0   18651.6\n",
       "2  서울   전용면적 60제곱미터초과 85제곱미터이하  2015  10      5882.0   19410.6\n",
       "3  서울  전용면적 85제곱미터초과 102제곱미터이하  2015  10      5721.0   18879.3\n",
       "4  서울           전용면적 102제곱미터초과  2015  10      5879.0   19400.7"
      ]
     },
     "execution_count": 265,
     "metadata": {},
     "output_type": "execute_result"
    }
   ],
   "source": [
    "df.head()"
   ]
  },
  {
   "cell_type": "code",
   "execution_count": 266,
   "id": "3e9ba733",
   "metadata": {},
   "outputs": [],
   "source": [
    "df.drop(['평당가격(천원)'],axis=1,inplace=True)"
   ]
  },
  {
   "cell_type": "code",
   "execution_count": 267,
   "id": "8bb54c8c",
   "metadata": {},
   "outputs": [
    {
     "data": {
      "text/html": [
       "<div>\n",
       "<style scoped>\n",
       "    .dataframe tbody tr th:only-of-type {\n",
       "        vertical-align: middle;\n",
       "    }\n",
       "\n",
       "    .dataframe tbody tr th {\n",
       "        vertical-align: top;\n",
       "    }\n",
       "\n",
       "    .dataframe thead th {\n",
       "        text-align: right;\n",
       "    }\n",
       "</style>\n",
       "<table border=\"1\" class=\"dataframe\">\n",
       "  <thead>\n",
       "    <tr style=\"text-align: right;\">\n",
       "      <th></th>\n",
       "      <th>지역명</th>\n",
       "      <th>규모구분</th>\n",
       "      <th>연도</th>\n",
       "      <th>월</th>\n",
       "      <th>분양가격(제곱미터)</th>\n",
       "      <th>평당가격(천원)</th>\n",
       "    </tr>\n",
       "  </thead>\n",
       "  <tbody>\n",
       "    <tr>\n",
       "      <th>0</th>\n",
       "      <td>서울</td>\n",
       "      <td>모든면적</td>\n",
       "      <td>2015</td>\n",
       "      <td>10</td>\n",
       "      <td>5841.0</td>\n",
       "      <td>19275.3</td>\n",
       "    </tr>\n",
       "    <tr>\n",
       "      <th>1</th>\n",
       "      <td>서울</td>\n",
       "      <td>전용면적 60제곱미터이하</td>\n",
       "      <td>2015</td>\n",
       "      <td>10</td>\n",
       "      <td>5652.0</td>\n",
       "      <td>18651.6</td>\n",
       "    </tr>\n",
       "    <tr>\n",
       "      <th>2</th>\n",
       "      <td>서울</td>\n",
       "      <td>전용면적 60제곱미터초과 85제곱미터이하</td>\n",
       "      <td>2015</td>\n",
       "      <td>10</td>\n",
       "      <td>5882.0</td>\n",
       "      <td>19410.6</td>\n",
       "    </tr>\n",
       "    <tr>\n",
       "      <th>3</th>\n",
       "      <td>서울</td>\n",
       "      <td>전용면적 85제곱미터초과 102제곱미터이하</td>\n",
       "      <td>2015</td>\n",
       "      <td>10</td>\n",
       "      <td>5721.0</td>\n",
       "      <td>18879.3</td>\n",
       "    </tr>\n",
       "    <tr>\n",
       "      <th>4</th>\n",
       "      <td>서울</td>\n",
       "      <td>전용면적 102제곱미터초과</td>\n",
       "      <td>2015</td>\n",
       "      <td>10</td>\n",
       "      <td>5879.0</td>\n",
       "      <td>19400.7</td>\n",
       "    </tr>\n",
       "  </tbody>\n",
       "</table>\n",
       "</div>"
      ],
      "text/plain": [
       "  지역명                     규모구분    연도   월  분양가격(제곱미터)  평당가격(천원)\n",
       "0  서울                     모든면적  2015  10      5841.0   19275.3\n",
       "1  서울            전용면적 60제곱미터이하  2015  10      5652.0   18651.6\n",
       "2  서울   전용면적 60제곱미터초과 85제곱미터이하  2015  10      5882.0   19410.6\n",
       "3  서울  전용면적 85제곱미터초과 102제곱미터이하  2015  10      5721.0   18879.3\n",
       "4  서울           전용면적 102제곱미터초과  2015  10      5879.0   19400.7"
      ]
     },
     "execution_count": 267,
     "metadata": {},
     "output_type": "execute_result"
    }
   ],
   "source": [
    "df['평당가격(천원)'] = df['분양가격(제곱미터)']*3.3\n",
    "df.head()"
   ]
  },
  {
   "cell_type": "code",
   "execution_count": 268,
   "id": "f6021fa1",
   "metadata": {},
   "outputs": [
    {
     "data": {
      "text/plain": [
       "count     6026.000000\n",
       "mean     10481.963707\n",
       "std       5413.364968\n",
       "min          0.000000\n",
       "25%       8012.400000\n",
       "50%       9748.200000\n",
       "75%      12646.425000\n",
       "max      45655.500000\n",
       "Name: 평당가격(천원), dtype: float64"
      ]
     },
     "execution_count": 268,
     "metadata": {},
     "output_type": "execute_result"
    }
   ],
   "source": [
    "df['평당가격(천원)'].describe()"
   ]
  },
  {
   "cell_type": "code",
   "execution_count": 269,
   "id": "d80132c9",
   "metadata": {},
   "outputs": [
    {
     "data": {
      "text/plain": [
       "array(['모든면적', '전용면적 60제곱미터이하', '전용면적 60제곱미터초과 85제곱미터이하',\n",
       "       '전용면적 85제곱미터초과 102제곱미터이하', '전용면적 102제곱미터초과'], dtype=object)"
      ]
     },
     "execution_count": 269,
     "metadata": {},
     "output_type": "execute_result"
    }
   ],
   "source": [
    "df['규모구분'].unique()"
   ]
  },
  {
   "cell_type": "code",
   "execution_count": 270,
   "id": "d2116526",
   "metadata": {},
   "outputs": [],
   "source": [
    "# 모든면적' 1 , '전용면적 60제곱미터이하'2, '전용면적 60제곱미터초과 85제곱미터이하'3,\n",
    "#        '전용면적 85제곱미터초과 102제곱미터이하'4, '전용면적 102제곱미터초과'5"
   ]
  },
  {
   "cell_type": "code",
   "execution_count": 271,
   "id": "8fe81a76",
   "metadata": {},
   "outputs": [],
   "source": [
    "df['규모구분']=df['규모구분'].str.replace('모든면적','전체')\n",
    "df['규모구분']=df['규모구분'].str.replace('전용면적 60제곱미터이하','~60')\n",
    "df['규모구분']=df['규모구분'].str.replace('전용면적 60제곱미터초과 85제곱미터이하','60~85')\n",
    "df['규모구분']=df['규모구분'].str.replace('전용면적 85제곱미터초과 102제곱미터이하','85~102')\n",
    "df['규모구분']=df['규모구분'].str.replace('전용면적 102제곱미터초과','102~')"
   ]
  },
  {
   "cell_type": "code",
   "execution_count": 272,
   "id": "2e387fc1",
   "metadata": {},
   "outputs": [
    {
     "name": "stdout",
     "output_type": "stream",
     "text": [
      "<class 'pandas.core.frame.DataFrame'>\n",
      "RangeIndex: 6290 entries, 0 to 6289\n",
      "Data columns (total 6 columns):\n",
      " #   Column      Non-Null Count  Dtype  \n",
      "---  ------      --------------  -----  \n",
      " 0   지역명         6290 non-null   object \n",
      " 1   규모구분        6290 non-null   object \n",
      " 2   연도          6290 non-null   int64  \n",
      " 3   월           6290 non-null   int64  \n",
      " 4   분양가격(제곱미터)  6026 non-null   float64\n",
      " 5   평당가격(천원)    6026 non-null   float64\n",
      "dtypes: float64(2), int64(2), object(2)\n",
      "memory usage: 295.0+ KB\n"
     ]
    }
   ],
   "source": [
    "df.info()"
   ]
  },
  {
   "cell_type": "code",
   "execution_count": 273,
   "id": "59bdb87e",
   "metadata": {},
   "outputs": [
    {
     "data": {
      "text/plain": [
       "지역명\n",
       "강원     8273.248732\n",
       "경기    13775.231831\n",
       "경남     9506.946761\n",
       "경북     8391.741972\n",
       "광주     9432.329310\n",
       "대구    12640.217746\n",
       "대전     7864.900283\n",
       "부산    12510.950704\n",
       "서울    24973.185674\n",
       "세종     8671.609859\n",
       "울산     7207.802528\n",
       "인천    12748.569296\n",
       "전남     7972.688764\n",
       "전북     7894.232113\n",
       "제주    10353.534375\n",
       "충남     8077.330986\n",
       "충북     7837.806761\n",
       "Name: 평당가격(천원), dtype: float64"
      ]
     },
     "execution_count": 273,
     "metadata": {},
     "output_type": "execute_result"
    }
   ],
   "source": [
    "# group by를 이용한 데이터 분석\n",
    "# 지역별 평당분양가격 2015 ~2021\n",
    "df.groupby(['지역명'])['평당가격(천원)'].mean()"
   ]
  },
  {
   "cell_type": "code",
   "execution_count": 274,
   "id": "1b716abb",
   "metadata": {},
   "outputs": [
    {
     "data": {
      "text/plain": [
       "연도    지역명\n",
       "2015  강원      7188.060000\n",
       "      경기     11060.940000\n",
       "      경남      8459.220000\n",
       "      경북      7464.160000\n",
       "      광주      7916.700000\n",
       "                 ...     \n",
       "2021  전남      9446.370732\n",
       "      전북      8581.815000\n",
       "      제주     14344.053659\n",
       "      충남      9163.357500\n",
       "      충북      8805.142500\n",
       "Name: 평당가격(천원), Length: 119, dtype: float64"
      ]
     },
     "execution_count": 274,
     "metadata": {},
     "output_type": "execute_result"
    }
   ],
   "source": [
    "# 연도별 지역별 평당분양가격\n",
    "df.groupby(['연도','지역명'])['평당가격(천원)'].mean()"
   ]
  },
  {
   "cell_type": "code",
   "execution_count": 275,
   "id": "6dcecc2d",
   "metadata": {},
   "outputs": [
    {
     "data": {
      "text/plain": [
       "규모구분\n",
       "102~      10936.488270\n",
       "60~85     10805.629909\n",
       "85~102     9479.953234\n",
       "~60       10334.733887\n",
       "전체        10853.700000\n",
       "Name: 평당가격(천원), dtype: float64"
      ]
     },
     "execution_count": 275,
     "metadata": {},
     "output_type": "execute_result"
    }
   ],
   "source": [
    "# 전용면적별\n",
    "df.groupby(['규모구분'])['평당가격(천원)'].mean()"
   ]
  },
  {
   "cell_type": "code",
   "execution_count": 276,
   "id": "e08de331",
   "metadata": {},
   "outputs": [],
   "source": [
    "# 지역별, 전용면적별 평당가격 평균"
   ]
  },
  {
   "cell_type": "code",
   "execution_count": 277,
   "id": "fb193c5e",
   "metadata": {},
   "outputs": [
    {
     "data": {
      "text/html": [
       "<div>\n",
       "<style scoped>\n",
       "    .dataframe tbody tr th:only-of-type {\n",
       "        vertical-align: middle;\n",
       "    }\n",
       "\n",
       "    .dataframe tbody tr th {\n",
       "        vertical-align: top;\n",
       "    }\n",
       "\n",
       "    .dataframe thead th {\n",
       "        text-align: right;\n",
       "    }\n",
       "</style>\n",
       "<table border=\"1\" class=\"dataframe\">\n",
       "  <thead>\n",
       "    <tr style=\"text-align: right;\">\n",
       "      <th>지역명</th>\n",
       "      <th>강원</th>\n",
       "      <th>경기</th>\n",
       "      <th>경남</th>\n",
       "      <th>경북</th>\n",
       "      <th>광주</th>\n",
       "      <th>대구</th>\n",
       "      <th>대전</th>\n",
       "      <th>부산</th>\n",
       "      <th>서울</th>\n",
       "      <th>세종</th>\n",
       "      <th>울산</th>\n",
       "      <th>인천</th>\n",
       "      <th>전남</th>\n",
       "      <th>전북</th>\n",
       "      <th>제주</th>\n",
       "      <th>충남</th>\n",
       "      <th>충북</th>\n",
       "    </tr>\n",
       "    <tr>\n",
       "      <th>규모구분</th>\n",
       "      <th></th>\n",
       "      <th></th>\n",
       "      <th></th>\n",
       "      <th></th>\n",
       "      <th></th>\n",
       "      <th></th>\n",
       "      <th></th>\n",
       "      <th></th>\n",
       "      <th></th>\n",
       "      <th></th>\n",
       "      <th></th>\n",
       "      <th></th>\n",
       "      <th></th>\n",
       "      <th></th>\n",
       "      <th></th>\n",
       "      <th></th>\n",
       "      <th></th>\n",
       "    </tr>\n",
       "  </thead>\n",
       "  <tbody>\n",
       "    <tr>\n",
       "      <th>102~</th>\n",
       "      <td>9641.763380</td>\n",
       "      <td>15200.171831</td>\n",
       "      <td>9353.454930</td>\n",
       "      <td>9285.595775</td>\n",
       "      <td>10689.094030</td>\n",
       "      <td>13977.126761</td>\n",
       "      <td>6562.535294</td>\n",
       "      <td>13340.412676</td>\n",
       "      <td>24130.562500</td>\n",
       "      <td>9576.088732</td>\n",
       "      <td>6081.395833</td>\n",
       "      <td>14260.833803</td>\n",
       "      <td>9054.084507</td>\n",
       "      <td>8422.436620</td>\n",
       "      <td>9622.753521</td>\n",
       "      <td>7950.861972</td>\n",
       "      <td>8454.925352</td>\n",
       "    </tr>\n",
       "    <tr>\n",
       "      <th>60~85</th>\n",
       "      <td>8011.191549</td>\n",
       "      <td>12993.633803</td>\n",
       "      <td>9062.961972</td>\n",
       "      <td>8549.695775</td>\n",
       "      <td>10706.315493</td>\n",
       "      <td>12770.163380</td>\n",
       "      <td>10162.280282</td>\n",
       "      <td>12386.619718</td>\n",
       "      <td>23926.161972</td>\n",
       "      <td>8933.471831</td>\n",
       "      <td>9956.518310</td>\n",
       "      <td>12355.292958</td>\n",
       "      <td>7830.016901</td>\n",
       "      <td>7602.223944</td>\n",
       "      <td>12734.328169</td>\n",
       "      <td>8167.174648</td>\n",
       "      <td>7547.657746</td>\n",
       "    </tr>\n",
       "    <tr>\n",
       "      <th>85~102</th>\n",
       "      <td>7398.600000</td>\n",
       "      <td>14170.804225</td>\n",
       "      <td>11265.130986</td>\n",
       "      <td>7039.364789</td>\n",
       "      <td>5282.086765</td>\n",
       "      <td>10873.639437</td>\n",
       "      <td>3404.087500</td>\n",
       "      <td>12422.269014</td>\n",
       "      <td>28091.319718</td>\n",
       "      <td>8952.807042</td>\n",
       "      <td>2439.304225</td>\n",
       "      <td>12641.138028</td>\n",
       "      <td>7738.087500</td>\n",
       "      <td>7960.947887</td>\n",
       "      <td>5128.292958</td>\n",
       "      <td>8014.305634</td>\n",
       "      <td>8269.753521</td>\n",
       "    </tr>\n",
       "    <tr>\n",
       "      <th>~60</th>\n",
       "      <td>8273.239437</td>\n",
       "      <td>13480.360563</td>\n",
       "      <td>8752.947887</td>\n",
       "      <td>8515.580282</td>\n",
       "      <td>9592.821127</td>\n",
       "      <td>12818.361972</td>\n",
       "      <td>8989.385915</td>\n",
       "      <td>11966.404225</td>\n",
       "      <td>24676.702817</td>\n",
       "      <td>6489.798592</td>\n",
       "      <td>7690.022535</td>\n",
       "      <td>12210.604225</td>\n",
       "      <td>7418.725352</td>\n",
       "      <td>7851.164789</td>\n",
       "      <td>11484.582353</td>\n",
       "      <td>8108.843662</td>\n",
       "      <td>7419.515493</td>\n",
       "    </tr>\n",
       "    <tr>\n",
       "      <th>전체</th>\n",
       "      <td>8041.449296</td>\n",
       "      <td>13031.188732</td>\n",
       "      <td>9100.238028</td>\n",
       "      <td>8568.473239</td>\n",
       "      <td>10786.770423</td>\n",
       "      <td>12761.797183</td>\n",
       "      <td>10214.011268</td>\n",
       "      <td>12439.047887</td>\n",
       "      <td>24053.049296</td>\n",
       "      <td>9405.883099</td>\n",
       "      <td>9887.636620</td>\n",
       "      <td>12274.977465</td>\n",
       "      <td>7825.833803</td>\n",
       "      <td>7634.387324</td>\n",
       "      <td>12845.505634</td>\n",
       "      <td>8145.469014</td>\n",
       "      <td>7497.181690</td>\n",
       "    </tr>\n",
       "  </tbody>\n",
       "</table>\n",
       "</div>"
      ],
      "text/plain": [
       "지역명              강원            경기            경남           경북            광주  \\\n",
       "규모구분                                                                         \n",
       "102~    9641.763380  15200.171831   9353.454930  9285.595775  10689.094030   \n",
       "60~85   8011.191549  12993.633803   9062.961972  8549.695775  10706.315493   \n",
       "85~102  7398.600000  14170.804225  11265.130986  7039.364789   5282.086765   \n",
       "~60     8273.239437  13480.360563   8752.947887  8515.580282   9592.821127   \n",
       "전체      8041.449296  13031.188732   9100.238028  8568.473239  10786.770423   \n",
       "\n",
       "지역명               대구            대전            부산            서울           세종  \\\n",
       "규모구분                                                                          \n",
       "102~    13977.126761   6562.535294  13340.412676  24130.562500  9576.088732   \n",
       "60~85   12770.163380  10162.280282  12386.619718  23926.161972  8933.471831   \n",
       "85~102  10873.639437   3404.087500  12422.269014  28091.319718  8952.807042   \n",
       "~60     12818.361972   8989.385915  11966.404225  24676.702817  6489.798592   \n",
       "전체      12761.797183  10214.011268  12439.047887  24053.049296  9405.883099   \n",
       "\n",
       "지역명              울산            인천           전남           전북            제주  \\\n",
       "규모구분                                                                        \n",
       "102~    6081.395833  14260.833803  9054.084507  8422.436620   9622.753521   \n",
       "60~85   9956.518310  12355.292958  7830.016901  7602.223944  12734.328169   \n",
       "85~102  2439.304225  12641.138028  7738.087500  7960.947887   5128.292958   \n",
       "~60     7690.022535  12210.604225  7418.725352  7851.164789  11484.582353   \n",
       "전체      9887.636620  12274.977465  7825.833803  7634.387324  12845.505634   \n",
       "\n",
       "지역명              충남           충북  \n",
       "규모구분                              \n",
       "102~    7950.861972  8454.925352  \n",
       "60~85   8167.174648  7547.657746  \n",
       "85~102  8014.305634  8269.753521  \n",
       "~60     8108.843662  7419.515493  \n",
       "전체      8145.469014  7497.181690  "
      ]
     },
     "execution_count": 277,
     "metadata": {},
     "output_type": "execute_result"
    }
   ],
   "source": [
    "df.groupby(['규모구분','지역명'])['평당가격(천원)'].mean().unstack()"
   ]
  },
  {
   "cell_type": "code",
   "execution_count": 278,
   "id": "60e5df1c",
   "metadata": {},
   "outputs": [
    {
     "data": {
      "text/html": [
       "<div>\n",
       "<style scoped>\n",
       "    .dataframe tbody tr th:only-of-type {\n",
       "        vertical-align: middle;\n",
       "    }\n",
       "\n",
       "    .dataframe tbody tr th {\n",
       "        vertical-align: top;\n",
       "    }\n",
       "\n",
       "    .dataframe thead th {\n",
       "        text-align: right;\n",
       "    }\n",
       "</style>\n",
       "<table border=\"1\" class=\"dataframe\">\n",
       "  <thead>\n",
       "    <tr style=\"text-align: right;\">\n",
       "      <th>지역명</th>\n",
       "      <th>강원</th>\n",
       "      <th>경기</th>\n",
       "      <th>경남</th>\n",
       "      <th>경북</th>\n",
       "      <th>광주</th>\n",
       "      <th>대구</th>\n",
       "      <th>대전</th>\n",
       "      <th>부산</th>\n",
       "      <th>서울</th>\n",
       "      <th>세종</th>\n",
       "      <th>울산</th>\n",
       "      <th>인천</th>\n",
       "      <th>전남</th>\n",
       "      <th>전북</th>\n",
       "      <th>제주</th>\n",
       "      <th>충남</th>\n",
       "      <th>충북</th>\n",
       "    </tr>\n",
       "    <tr>\n",
       "      <th>연도</th>\n",
       "      <th></th>\n",
       "      <th></th>\n",
       "      <th></th>\n",
       "      <th></th>\n",
       "      <th></th>\n",
       "      <th></th>\n",
       "      <th></th>\n",
       "      <th></th>\n",
       "      <th></th>\n",
       "      <th></th>\n",
       "      <th></th>\n",
       "      <th></th>\n",
       "      <th></th>\n",
       "      <th></th>\n",
       "      <th></th>\n",
       "      <th></th>\n",
       "      <th></th>\n",
       "    </tr>\n",
       "  </thead>\n",
       "  <tbody>\n",
       "    <tr>\n",
       "      <th>2015</th>\n",
       "      <td>7188.0600</td>\n",
       "      <td>11060.9400</td>\n",
       "      <td>8459.220</td>\n",
       "      <td>7464.1600</td>\n",
       "      <td>7916.700000</td>\n",
       "      <td>9018.9000</td>\n",
       "      <td>8190.600000</td>\n",
       "      <td>10377.4000</td>\n",
       "      <td>20315.680000</td>\n",
       "      <td>8765.020</td>\n",
       "      <td>9367.60000</td>\n",
       "      <td>10976.020</td>\n",
       "      <td>6798.880000</td>\n",
       "      <td>7110.400</td>\n",
       "      <td>7951.075000</td>\n",
       "      <td>7689.8800</td>\n",
       "      <td>6828.8000</td>\n",
       "    </tr>\n",
       "    <tr>\n",
       "      <th>2016</th>\n",
       "      <td>6207.8500</td>\n",
       "      <td>11684.9700</td>\n",
       "      <td>8496.730</td>\n",
       "      <td>7753.4050</td>\n",
       "      <td>8556.843103</td>\n",
       "      <td>10282.0300</td>\n",
       "      <td>6796.322034</td>\n",
       "      <td>10743.5350</td>\n",
       "      <td>21753.435000</td>\n",
       "      <td>8857.805</td>\n",
       "      <td>9263.15500</td>\n",
       "      <td>11099.055</td>\n",
       "      <td>6936.600000</td>\n",
       "      <td>6906.625</td>\n",
       "      <td>8918.837288</td>\n",
       "      <td>7958.2250</td>\n",
       "      <td>7133.3350</td>\n",
       "    </tr>\n",
       "    <tr>\n",
       "      <th>2017</th>\n",
       "      <td>7318.8500</td>\n",
       "      <td>12296.1850</td>\n",
       "      <td>8806.600</td>\n",
       "      <td>8011.7950</td>\n",
       "      <td>8479.735000</td>\n",
       "      <td>10972.7750</td>\n",
       "      <td>9417.265000</td>\n",
       "      <td>11637.6150</td>\n",
       "      <td>21864.095000</td>\n",
       "      <td>8980.730</td>\n",
       "      <td>8149.79000</td>\n",
       "      <td>11672.430</td>\n",
       "      <td>7413.230000</td>\n",
       "      <td>7035.820</td>\n",
       "      <td>11155.210000</td>\n",
       "      <td>7885.4050</td>\n",
       "      <td>7462.5650</td>\n",
       "    </tr>\n",
       "    <tr>\n",
       "      <th>2018</th>\n",
       "      <td>8219.2550</td>\n",
       "      <td>14258.4200</td>\n",
       "      <td>9327.670</td>\n",
       "      <td>7523.3400</td>\n",
       "      <td>7145.215000</td>\n",
       "      <td>11532.2900</td>\n",
       "      <td>7675.580000</td>\n",
       "      <td>12889.9650</td>\n",
       "      <td>23202.245000</td>\n",
       "      <td>9823.440</td>\n",
       "      <td>3755.18000</td>\n",
       "      <td>11089.430</td>\n",
       "      <td>7929.845000</td>\n",
       "      <td>8174.595</td>\n",
       "      <td>9946.640000</td>\n",
       "      <td>7518.3350</td>\n",
       "      <td>8149.2950</td>\n",
       "    </tr>\n",
       "    <tr>\n",
       "      <th>2019</th>\n",
       "      <td>8934.4750</td>\n",
       "      <td>15665.5400</td>\n",
       "      <td>10162.735</td>\n",
       "      <td>9050.2500</td>\n",
       "      <td>8881.895000</td>\n",
       "      <td>14081.6500</td>\n",
       "      <td>9043.760000</td>\n",
       "      <td>13537.8650</td>\n",
       "      <td>28286.830000</td>\n",
       "      <td>9604.485</td>\n",
       "      <td>2043.25000</td>\n",
       "      <td>13249.775</td>\n",
       "      <td>7945.300000</td>\n",
       "      <td>8532.260</td>\n",
       "      <td>10251.340000</td>\n",
       "      <td>8019.7700</td>\n",
       "      <td>7970.8750</td>\n",
       "    </tr>\n",
       "    <tr>\n",
       "      <th>2020</th>\n",
       "      <td>9615.5950</td>\n",
       "      <td>15106.0800</td>\n",
       "      <td>9827.345</td>\n",
       "      <td>7998.1550</td>\n",
       "      <td>12512.720000</td>\n",
       "      <td>15314.2000</td>\n",
       "      <td>7117.935000</td>\n",
       "      <td>13353.0100</td>\n",
       "      <td>29781.015000</td>\n",
       "      <td>3488.430</td>\n",
       "      <td>9414.24000</td>\n",
       "      <td>14982.990</td>\n",
       "      <td>8924.905000</td>\n",
       "      <td>8559.430</td>\n",
       "      <td>9225.370000</td>\n",
       "      <td>8377.7650</td>\n",
       "      <td>8080.3250</td>\n",
       "    </tr>\n",
       "    <tr>\n",
       "      <th>2021</th>\n",
       "      <td>10285.5225</td>\n",
       "      <td>14590.5375</td>\n",
       "      <td>11270.325</td>\n",
       "      <td>11172.2325</td>\n",
       "      <td>12042.182927</td>\n",
       "      <td>15525.4275</td>\n",
       "      <td>6708.742857</td>\n",
       "      <td>13900.1775</td>\n",
       "      <td>26645.407317</td>\n",
       "      <td>12541.320</td>\n",
       "      <td>11412.84878</td>\n",
       "      <td>15887.025</td>\n",
       "      <td>9446.370732</td>\n",
       "      <td>8581.815</td>\n",
       "      <td>14344.053659</td>\n",
       "      <td>9163.3575</td>\n",
       "      <td>8805.1425</td>\n",
       "    </tr>\n",
       "  </tbody>\n",
       "</table>\n",
       "</div>"
      ],
      "text/plain": [
       "지역명           강원          경기         경남          경북            광주          대구  \\\n",
       "연도                                                                              \n",
       "2015   7188.0600  11060.9400   8459.220   7464.1600   7916.700000   9018.9000   \n",
       "2016   6207.8500  11684.9700   8496.730   7753.4050   8556.843103  10282.0300   \n",
       "2017   7318.8500  12296.1850   8806.600   8011.7950   8479.735000  10972.7750   \n",
       "2018   8219.2550  14258.4200   9327.670   7523.3400   7145.215000  11532.2900   \n",
       "2019   8934.4750  15665.5400  10162.735   9050.2500   8881.895000  14081.6500   \n",
       "2020   9615.5950  15106.0800   9827.345   7998.1550  12512.720000  15314.2000   \n",
       "2021  10285.5225  14590.5375  11270.325  11172.2325  12042.182927  15525.4275   \n",
       "\n",
       "지역명            대전          부산            서울         세종           울산  \\\n",
       "연도                                                                    \n",
       "2015  8190.600000  10377.4000  20315.680000   8765.020   9367.60000   \n",
       "2016  6796.322034  10743.5350  21753.435000   8857.805   9263.15500   \n",
       "2017  9417.265000  11637.6150  21864.095000   8980.730   8149.79000   \n",
       "2018  7675.580000  12889.9650  23202.245000   9823.440   3755.18000   \n",
       "2019  9043.760000  13537.8650  28286.830000   9604.485   2043.25000   \n",
       "2020  7117.935000  13353.0100  29781.015000   3488.430   9414.24000   \n",
       "2021  6708.742857  13900.1775  26645.407317  12541.320  11412.84878   \n",
       "\n",
       "지역명          인천           전남        전북            제주         충남         충북  \n",
       "연도                                                                          \n",
       "2015  10976.020  6798.880000  7110.400   7951.075000  7689.8800  6828.8000  \n",
       "2016  11099.055  6936.600000  6906.625   8918.837288  7958.2250  7133.3350  \n",
       "2017  11672.430  7413.230000  7035.820  11155.210000  7885.4050  7462.5650  \n",
       "2018  11089.430  7929.845000  8174.595   9946.640000  7518.3350  8149.2950  \n",
       "2019  13249.775  7945.300000  8532.260  10251.340000  8019.7700  7970.8750  \n",
       "2020  14982.990  8924.905000  8559.430   9225.370000  8377.7650  8080.3250  \n",
       "2021  15887.025  9446.370732  8581.815  14344.053659  9163.3575  8805.1425  "
      ]
     },
     "execution_count": 278,
     "metadata": {},
     "output_type": "execute_result"
    }
   ],
   "source": [
    "df2 = df.groupby(['연도','지역명'])['평당가격(천원)'].mean()\n",
    "df2.unstack()"
   ]
  },
  {
   "cell_type": "code",
   "execution_count": 279,
   "id": "b9916144",
   "metadata": {},
   "outputs": [
    {
     "data": {
      "text/html": [
       "<div>\n",
       "<style scoped>\n",
       "    .dataframe tbody tr th:only-of-type {\n",
       "        vertical-align: middle;\n",
       "    }\n",
       "\n",
       "    .dataframe tbody tr th {\n",
       "        vertical-align: top;\n",
       "    }\n",
       "\n",
       "    .dataframe thead th {\n",
       "        text-align: right;\n",
       "    }\n",
       "</style>\n",
       "<table border=\"1\" class=\"dataframe\">\n",
       "  <thead>\n",
       "    <tr style=\"text-align: right;\">\n",
       "      <th>연도</th>\n",
       "      <th>2015</th>\n",
       "      <th>2016</th>\n",
       "      <th>2017</th>\n",
       "      <th>2018</th>\n",
       "      <th>2019</th>\n",
       "      <th>2020</th>\n",
       "      <th>2021</th>\n",
       "    </tr>\n",
       "    <tr>\n",
       "      <th>지역명</th>\n",
       "      <th></th>\n",
       "      <th></th>\n",
       "      <th></th>\n",
       "      <th></th>\n",
       "      <th></th>\n",
       "      <th></th>\n",
       "      <th></th>\n",
       "    </tr>\n",
       "  </thead>\n",
       "  <tbody>\n",
       "    <tr>\n",
       "      <th>강원</th>\n",
       "      <td>7188.060</td>\n",
       "      <td>6207.850000</td>\n",
       "      <td>7318.850</td>\n",
       "      <td>8219.255</td>\n",
       "      <td>8934.475</td>\n",
       "      <td>9615.595</td>\n",
       "      <td>10285.522500</td>\n",
       "    </tr>\n",
       "    <tr>\n",
       "      <th>경기</th>\n",
       "      <td>11060.940</td>\n",
       "      <td>11684.970000</td>\n",
       "      <td>12296.185</td>\n",
       "      <td>14258.420</td>\n",
       "      <td>15665.540</td>\n",
       "      <td>15106.080</td>\n",
       "      <td>14590.537500</td>\n",
       "    </tr>\n",
       "    <tr>\n",
       "      <th>경남</th>\n",
       "      <td>8459.220</td>\n",
       "      <td>8496.730000</td>\n",
       "      <td>8806.600</td>\n",
       "      <td>9327.670</td>\n",
       "      <td>10162.735</td>\n",
       "      <td>9827.345</td>\n",
       "      <td>11270.325000</td>\n",
       "    </tr>\n",
       "    <tr>\n",
       "      <th>경북</th>\n",
       "      <td>7464.160</td>\n",
       "      <td>7753.405000</td>\n",
       "      <td>8011.795</td>\n",
       "      <td>7523.340</td>\n",
       "      <td>9050.250</td>\n",
       "      <td>7998.155</td>\n",
       "      <td>11172.232500</td>\n",
       "    </tr>\n",
       "    <tr>\n",
       "      <th>광주</th>\n",
       "      <td>7916.700</td>\n",
       "      <td>8556.843103</td>\n",
       "      <td>8479.735</td>\n",
       "      <td>7145.215</td>\n",
       "      <td>8881.895</td>\n",
       "      <td>12512.720</td>\n",
       "      <td>12042.182927</td>\n",
       "    </tr>\n",
       "    <tr>\n",
       "      <th>대구</th>\n",
       "      <td>9018.900</td>\n",
       "      <td>10282.030000</td>\n",
       "      <td>10972.775</td>\n",
       "      <td>11532.290</td>\n",
       "      <td>14081.650</td>\n",
       "      <td>15314.200</td>\n",
       "      <td>15525.427500</td>\n",
       "    </tr>\n",
       "    <tr>\n",
       "      <th>대전</th>\n",
       "      <td>8190.600</td>\n",
       "      <td>6796.322034</td>\n",
       "      <td>9417.265</td>\n",
       "      <td>7675.580</td>\n",
       "      <td>9043.760</td>\n",
       "      <td>7117.935</td>\n",
       "      <td>6708.742857</td>\n",
       "    </tr>\n",
       "    <tr>\n",
       "      <th>부산</th>\n",
       "      <td>10377.400</td>\n",
       "      <td>10743.535000</td>\n",
       "      <td>11637.615</td>\n",
       "      <td>12889.965</td>\n",
       "      <td>13537.865</td>\n",
       "      <td>13353.010</td>\n",
       "      <td>13900.177500</td>\n",
       "    </tr>\n",
       "    <tr>\n",
       "      <th>서울</th>\n",
       "      <td>20315.680</td>\n",
       "      <td>21753.435000</td>\n",
       "      <td>21864.095</td>\n",
       "      <td>23202.245</td>\n",
       "      <td>28286.830</td>\n",
       "      <td>29781.015</td>\n",
       "      <td>26645.407317</td>\n",
       "    </tr>\n",
       "    <tr>\n",
       "      <th>세종</th>\n",
       "      <td>8765.020</td>\n",
       "      <td>8857.805000</td>\n",
       "      <td>8980.730</td>\n",
       "      <td>9823.440</td>\n",
       "      <td>9604.485</td>\n",
       "      <td>3488.430</td>\n",
       "      <td>12541.320000</td>\n",
       "    </tr>\n",
       "    <tr>\n",
       "      <th>울산</th>\n",
       "      <td>9367.600</td>\n",
       "      <td>9263.155000</td>\n",
       "      <td>8149.790</td>\n",
       "      <td>3755.180</td>\n",
       "      <td>2043.250</td>\n",
       "      <td>9414.240</td>\n",
       "      <td>11412.848780</td>\n",
       "    </tr>\n",
       "    <tr>\n",
       "      <th>인천</th>\n",
       "      <td>10976.020</td>\n",
       "      <td>11099.055000</td>\n",
       "      <td>11672.430</td>\n",
       "      <td>11089.430</td>\n",
       "      <td>13249.775</td>\n",
       "      <td>14982.990</td>\n",
       "      <td>15887.025000</td>\n",
       "    </tr>\n",
       "    <tr>\n",
       "      <th>전남</th>\n",
       "      <td>6798.880</td>\n",
       "      <td>6936.600000</td>\n",
       "      <td>7413.230</td>\n",
       "      <td>7929.845</td>\n",
       "      <td>7945.300</td>\n",
       "      <td>8924.905</td>\n",
       "      <td>9446.370732</td>\n",
       "    </tr>\n",
       "    <tr>\n",
       "      <th>전북</th>\n",
       "      <td>7110.400</td>\n",
       "      <td>6906.625000</td>\n",
       "      <td>7035.820</td>\n",
       "      <td>8174.595</td>\n",
       "      <td>8532.260</td>\n",
       "      <td>8559.430</td>\n",
       "      <td>8581.815000</td>\n",
       "    </tr>\n",
       "    <tr>\n",
       "      <th>제주</th>\n",
       "      <td>7951.075</td>\n",
       "      <td>8918.837288</td>\n",
       "      <td>11155.210</td>\n",
       "      <td>9946.640</td>\n",
       "      <td>10251.340</td>\n",
       "      <td>9225.370</td>\n",
       "      <td>14344.053659</td>\n",
       "    </tr>\n",
       "    <tr>\n",
       "      <th>충남</th>\n",
       "      <td>7689.880</td>\n",
       "      <td>7958.225000</td>\n",
       "      <td>7885.405</td>\n",
       "      <td>7518.335</td>\n",
       "      <td>8019.770</td>\n",
       "      <td>8377.765</td>\n",
       "      <td>9163.357500</td>\n",
       "    </tr>\n",
       "    <tr>\n",
       "      <th>충북</th>\n",
       "      <td>6828.800</td>\n",
       "      <td>7133.335000</td>\n",
       "      <td>7462.565</td>\n",
       "      <td>8149.295</td>\n",
       "      <td>7970.875</td>\n",
       "      <td>8080.325</td>\n",
       "      <td>8805.142500</td>\n",
       "    </tr>\n",
       "  </tbody>\n",
       "</table>\n",
       "</div>"
      ],
      "text/plain": [
       "연도        2015          2016       2017       2018       2019       2020  \\\n",
       "지역명                                                                        \n",
       "강원    7188.060   6207.850000   7318.850   8219.255   8934.475   9615.595   \n",
       "경기   11060.940  11684.970000  12296.185  14258.420  15665.540  15106.080   \n",
       "경남    8459.220   8496.730000   8806.600   9327.670  10162.735   9827.345   \n",
       "경북    7464.160   7753.405000   8011.795   7523.340   9050.250   7998.155   \n",
       "광주    7916.700   8556.843103   8479.735   7145.215   8881.895  12512.720   \n",
       "대구    9018.900  10282.030000  10972.775  11532.290  14081.650  15314.200   \n",
       "대전    8190.600   6796.322034   9417.265   7675.580   9043.760   7117.935   \n",
       "부산   10377.400  10743.535000  11637.615  12889.965  13537.865  13353.010   \n",
       "서울   20315.680  21753.435000  21864.095  23202.245  28286.830  29781.015   \n",
       "세종    8765.020   8857.805000   8980.730   9823.440   9604.485   3488.430   \n",
       "울산    9367.600   9263.155000   8149.790   3755.180   2043.250   9414.240   \n",
       "인천   10976.020  11099.055000  11672.430  11089.430  13249.775  14982.990   \n",
       "전남    6798.880   6936.600000   7413.230   7929.845   7945.300   8924.905   \n",
       "전북    7110.400   6906.625000   7035.820   8174.595   8532.260   8559.430   \n",
       "제주    7951.075   8918.837288  11155.210   9946.640  10251.340   9225.370   \n",
       "충남    7689.880   7958.225000   7885.405   7518.335   8019.770   8377.765   \n",
       "충북    6828.800   7133.335000   7462.565   8149.295   7970.875   8080.325   \n",
       "\n",
       "연도           2021  \n",
       "지역명                \n",
       "강원   10285.522500  \n",
       "경기   14590.537500  \n",
       "경남   11270.325000  \n",
       "경북   11172.232500  \n",
       "광주   12042.182927  \n",
       "대구   15525.427500  \n",
       "대전    6708.742857  \n",
       "부산   13900.177500  \n",
       "서울   26645.407317  \n",
       "세종   12541.320000  \n",
       "울산   11412.848780  \n",
       "인천   15887.025000  \n",
       "전남    9446.370732  \n",
       "전북    8581.815000  \n",
       "제주   14344.053659  \n",
       "충남    9163.357500  \n",
       "충북    8805.142500  "
      ]
     },
     "execution_count": 279,
     "metadata": {},
     "output_type": "execute_result"
    }
   ],
   "source": [
    "df2.unstack().transpose()"
   ]
  },
  {
   "cell_type": "code",
   "execution_count": 280,
   "id": "a92a36b1",
   "metadata": {},
   "outputs": [],
   "source": [
    "# matplot 라이브러리에 한글 적용\n",
    "import matplotlib.pyplot as plt"
   ]
  },
  {
   "cell_type": "code",
   "execution_count": 281,
   "id": "ab1227d6",
   "metadata": {},
   "outputs": [
    {
     "data": {
      "text/plain": [
       "'Windows'"
      ]
     },
     "execution_count": 281,
     "metadata": {},
     "output_type": "execute_result"
    }
   ],
   "source": [
    "import platform\n",
    "platform.system()"
   ]
  },
  {
   "cell_type": "code",
   "execution_count": 282,
   "id": "efca6b65",
   "metadata": {},
   "outputs": [],
   "source": [
    "plt.rc('font', family='Malgun Gothic')"
   ]
  },
  {
   "cell_type": "code",
   "execution_count": 283,
   "id": "ad27349b",
   "metadata": {},
   "outputs": [
    {
     "data": {
      "text/plain": [
       "(array([ 8273.24873239, 13775.23183099,  9506.94676056,  8391.74197183,\n",
       "         9432.32931034, 12640.21774648,  7864.90028329, 12510.95070423,\n",
       "        24973.18567416,  8671.60985915,  7207.80252809, 12748.56929577,\n",
       "         7972.68876404,  7894.23211268, 10353.534375  ,  8077.33098592,\n",
       "         7837.80676056]),\n",
       " Index(['강원', '경기', '경남', '경북', '광주', '대구', '대전', '부산', '서울', '세종', '울산', '인천',\n",
       "        '전남', '전북', '제주', '충남', '충북'],\n",
       "       dtype='object', name='지역명'))"
      ]
     },
     "execution_count": 283,
     "metadata": {},
     "output_type": "execute_result"
    }
   ],
   "source": [
    "# 지역별 분양가격의 평균을 구한다음 시각화\n",
    "df3 = df.groupby(['지역명'])['평당가격(천원)'].mean()\n",
    "df3.values, df3.index"
   ]
  },
  {
   "cell_type": "code",
   "execution_count": 284,
   "id": "fd516d69",
   "metadata": {},
   "outputs": [
    {
     "data": {
      "image/png": "[encoded data removed]",
      "text/plain": [
       "<Figure size 432x288 with 1 Axes>"
      ]
     },
     "metadata": {
      "needs_background": "light"
     },
     "output_type": "display_data"
    }
   ],
   "source": [
    "df3 = df3.sort_values(ascending=False)\n",
    "plt.bar(df3.index,df3.values)\n",
    "# plt.plot(df3.index, df3.values)\n",
    "plt.show()"
   ]
  },
  {
   "cell_type": "code",
   "execution_count": 285,
   "id": "b86fa75c",
   "metadata": {},
   "outputs": [
    {
     "data": {
      "image/png": "[encoded data removed]",
      "text/plain": [
       "<Figure size 720x216 with 1 Axes>"
      ]
     },
     "metadata": {
      "needs_background": "light"
     },
     "output_type": "display_data"
    }
   ],
   "source": [
    "df4 = df[( df['연도'] == 2021)].groupby(['지역명'])['평당가격(천원)'].mean()\n",
    "df4 = df4.sort_values(ascending=False)\n",
    "plt.figure(figsize=(10,3))\n",
    "plt.bar(df4.index,df4.values)\n",
    "plt.show()"
   ]
  },
  {
   "cell_type": "code",
   "execution_count": 286,
   "id": "3a88e42c",
   "metadata": {},
   "outputs": [
    {
     "data": {
      "text/html": [
       "<div>\n",
       "<style scoped>\n",
       "    .dataframe tbody tr th:only-of-type {\n",
       "        vertical-align: middle;\n",
       "    }\n",
       "\n",
       "    .dataframe tbody tr th {\n",
       "        vertical-align: top;\n",
       "    }\n",
       "\n",
       "    .dataframe thead th {\n",
       "        text-align: right;\n",
       "    }\n",
       "</style>\n",
       "<table border=\"1\" class=\"dataframe\">\n",
       "  <thead>\n",
       "    <tr style=\"text-align: right;\">\n",
       "      <th></th>\n",
       "      <th>지역명</th>\n",
       "      <th>규모구분</th>\n",
       "      <th>연도</th>\n",
       "      <th>월</th>\n",
       "      <th>분양가격(제곱미터)</th>\n",
       "      <th>평당가격(천원)</th>\n",
       "    </tr>\n",
       "  </thead>\n",
       "  <tbody>\n",
       "    <tr>\n",
       "      <th>0</th>\n",
       "      <td>서울</td>\n",
       "      <td>전체</td>\n",
       "      <td>2015</td>\n",
       "      <td>10</td>\n",
       "      <td>5841.0</td>\n",
       "      <td>19275.3</td>\n",
       "    </tr>\n",
       "  </tbody>\n",
       "</table>\n",
       "</div>"
      ],
      "text/plain": [
       "  지역명 규모구분    연도   월  분양가격(제곱미터)  평당가격(천원)\n",
       "0  서울   전체  2015  10      5841.0   19275.3"
      ]
     },
     "execution_count": 286,
     "metadata": {},
     "output_type": "execute_result"
    }
   ],
   "source": [
    "# 전용면적별 분양가격의 평균\n",
    "df.head(1)"
   ]
  },
  {
   "cell_type": "code",
   "execution_count": 287,
   "id": "688ea935",
   "metadata": {},
   "outputs": [
    {
     "data": {
      "image/png": "[encoded data removed]",
      "text/plain": [
       "<Figure size 432x288 with 1 Axes>"
      ]
     },
     "metadata": {
      "needs_background": "light"
     },
     "output_type": "display_data"
    }
   ],
   "source": [
    "df5 = df.groupby(['규모구분'])['평당가격(천원)'].mean()\n",
    "df5 = df5.sort_values(ascending=False)\n",
    "plt.bar(df5.index, df5.values)\n",
    "plt.show()"
   ]
  },
  {
   "cell_type": "code",
   "execution_count": 288,
   "id": "94e87b69",
   "metadata": {},
   "outputs": [
    {
     "data": {
      "image/png": "[encoded data removed]",
      "text/plain": [
       "<Figure size 432x288 with 1 Axes>"
      ]
     },
     "metadata": {
      "needs_background": "light"
     },
     "output_type": "display_data"
    }
   ],
   "source": [
    "# 연도별 분양가 - 연속성을 가지는 데이터.. plot 점을 연결한 선... \n",
    "df6 = df.groupby(['연도'])['평당가격(천원)'].mean()\n",
    "plt.plot(df6.index, df6.values)\n",
    "plt.show()"
   ]
  },
  {
   "cell_type": "code",
   "execution_count": 293,
   "id": "716bf561",
   "metadata": {},
   "outputs": [
    {
     "data": {
      "image/png": "[encoded data removed]",
      "text/plain": [
       "<Figure size 432x288 with 1 Axes>"
      ]
     },
     "metadata": {
      "needs_background": "light"
     },
     "output_type": "display_data"
    }
   ],
   "source": [
    "df[df['지역명'] == '서울']\n",
    "df7 = df[df['지역명'] == '서울'].groupby(['연도'])['평당가격(천원)'].mean()\n",
    "plt.plot(df7.index, df7.values)\n",
    "plt.show()"
   ]
  },
  {
   "cell_type": "code",
   "execution_count": 294,
   "id": "6a16436e",
   "metadata": {},
   "outputs": [
    {
     "data": {
      "image/png": "[encoded data removed]",
      "text/plain": [
       "<Figure size 432x288 with 1 Axes>"
      ]
     },
     "metadata": {
      "needs_background": "light"
     },
     "output_type": "display_data"
    }
   ],
   "source": [
    "plt.plot(df6.index, df6.values)\n",
    "plt.plot(df7.index, df7.values)\n",
    "plt.xlabel('연도')\n",
    "plt.xlabel('평당분양가(3.3)천원')\n",
    "plt.legend(['전국분양가','서울분양가'])\n",
    "plt.show()"
   ]
  },
  {
   "cell_type": "code",
   "execution_count": 298,
   "id": "4a369f06",
   "metadata": {},
   "outputs": [],
   "source": [
    "df8 = df[df['지역명'] != '서울'].groupby(['연도'])['평당가격(천원)'].mean()"
   ]
  },
  {
   "cell_type": "code",
   "execution_count": 299,
   "id": "be3ffe53",
   "metadata": {},
   "outputs": [
    {
     "data": {
      "image/png": "[encoded data removed]",
      "text/plain": [
       "<Figure size 432x288 with 1 Axes>"
      ]
     },
     "metadata": {
      "needs_background": "light"
     },
     "output_type": "display_data"
    }
   ],
   "source": [
    "plt.plot(df7.index, df7.values)\n",
    "plt.plot(df8.index, df8.values)\n",
    "plt.xlabel('연도')\n",
    "plt.xlabel('평당분양가(3.3)천원')\n",
    "plt.legend(['서울분양가','서울을 제외한 지역'])\n",
    "plt.show()"
   ]
  },
  {
   "cell_type": "code",
   "execution_count": 300,
   "id": "13992e02",
   "metadata": {},
   "outputs": [],
   "source": [
    "import seaborn as sns"
   ]
  },
  {
   "cell_type": "code",
   "execution_count": 319,
   "id": "f95870f7",
   "metadata": {},
   "outputs": [
    {
     "data": {
      "text/html": [
       "<div>\n",
       "<style scoped>\n",
       "    .dataframe tbody tr th:only-of-type {\n",
       "        vertical-align: middle;\n",
       "    }\n",
       "\n",
       "    .dataframe tbody tr th {\n",
       "        vertical-align: top;\n",
       "    }\n",
       "\n",
       "    .dataframe thead th {\n",
       "        text-align: right;\n",
       "    }\n",
       "</style>\n",
       "<table border=\"1\" class=\"dataframe\">\n",
       "  <thead>\n",
       "    <tr style=\"text-align: right;\">\n",
       "      <th></th>\n",
       "      <th>평당가격(천원)</th>\n",
       "    </tr>\n",
       "  </thead>\n",
       "  <tbody>\n",
       "    <tr>\n",
       "      <th>0</th>\n",
       "      <td>24973.185674</td>\n",
       "    </tr>\n",
       "    <tr>\n",
       "      <th>1</th>\n",
       "      <td>13775.231831</td>\n",
       "    </tr>\n",
       "    <tr>\n",
       "      <th>2</th>\n",
       "      <td>12748.569296</td>\n",
       "    </tr>\n",
       "    <tr>\n",
       "      <th>3</th>\n",
       "      <td>12640.217746</td>\n",
       "    </tr>\n",
       "    <tr>\n",
       "      <th>4</th>\n",
       "      <td>12510.950704</td>\n",
       "    </tr>\n",
       "    <tr>\n",
       "      <th>5</th>\n",
       "      <td>10353.534375</td>\n",
       "    </tr>\n",
       "    <tr>\n",
       "      <th>6</th>\n",
       "      <td>9506.946761</td>\n",
       "    </tr>\n",
       "    <tr>\n",
       "      <th>7</th>\n",
       "      <td>9432.329310</td>\n",
       "    </tr>\n",
       "    <tr>\n",
       "      <th>8</th>\n",
       "      <td>8671.609859</td>\n",
       "    </tr>\n",
       "    <tr>\n",
       "      <th>9</th>\n",
       "      <td>8391.741972</td>\n",
       "    </tr>\n",
       "    <tr>\n",
       "      <th>10</th>\n",
       "      <td>8273.248732</td>\n",
       "    </tr>\n",
       "    <tr>\n",
       "      <th>11</th>\n",
       "      <td>8077.330986</td>\n",
       "    </tr>\n",
       "    <tr>\n",
       "      <th>12</th>\n",
       "      <td>7972.688764</td>\n",
       "    </tr>\n",
       "    <tr>\n",
       "      <th>13</th>\n",
       "      <td>7894.232113</td>\n",
       "    </tr>\n",
       "    <tr>\n",
       "      <th>14</th>\n",
       "      <td>7864.900283</td>\n",
       "    </tr>\n",
       "    <tr>\n",
       "      <th>15</th>\n",
       "      <td>7837.806761</td>\n",
       "    </tr>\n",
       "    <tr>\n",
       "      <th>16</th>\n",
       "      <td>7207.802528</td>\n",
       "    </tr>\n",
       "  </tbody>\n",
       "</table>\n",
       "</div>"
      ],
      "text/plain": [
       "        평당가격(천원)\n",
       "0   24973.185674\n",
       "1   13775.231831\n",
       "2   12748.569296\n",
       "3   12640.217746\n",
       "4   12510.950704\n",
       "5   10353.534375\n",
       "6    9506.946761\n",
       "7    9432.329310\n",
       "8    8671.609859\n",
       "9    8391.741972\n",
       "10   8273.248732\n",
       "11   8077.330986\n",
       "12   7972.688764\n",
       "13   7894.232113\n",
       "14   7864.900283\n",
       "15   7837.806761\n",
       "16   7207.802528"
      ]
     },
     "execution_count": 319,
     "metadata": {},
     "output_type": "execute_result"
    }
   ],
   "source": [
    "df3 = pd.DataFrame(df3)\n",
    "# df3.reset_index =  np.arange(17)\n",
    "# df3\n",
    "df3"
   ]
  },
  {
   "cell_type": "code",
   "execution_count": 304,
   "id": "66894c68",
   "metadata": {},
   "outputs": [
    {
     "data": {
      "text/plain": [
       "<AxesSubplot:>"
      ]
     },
     "execution_count": 304,
     "metadata": {},
     "output_type": "execute_result"
    },
    {
     "data": {
      "image/png": "[encoded data removed]",
      "text/plain": [
       "<Figure size 432x288 with 1 Axes>"
      ]
     },
     "metadata": {
      "needs_background": "light"
     },
     "output_type": "display_data"
    }
   ],
   "source": [
    "# 지역별 평당분양가"
   ]
  }
 ],
 "metadata": {
  "kernelspec": {
   "display_name": "Python 3 (ipykernel)",
   "language": "python",
   "name": "python3"
  },
  "language_info": {
   "codemirror_mode": {
    "name": "ipython",
    "version": 3
   },
   "file_extension": ".py",
   "mimetype": "text/x-python",
   "name": "python",
   "nbconvert_exporter": "python",
   "pygments_lexer": "ipython3",
   "version": "3.9.12"
  }
 },
 "nbformat": 4,
 "nbformat_minor": 5
}
