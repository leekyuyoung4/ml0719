{
 "cells": [
  {
   "cell_type": "code",
   "execution_count": 1,
   "id": "46400f0f",
   "metadata": {},
   "outputs": [],
   "source": [
    "import pandas as pd\n",
    "import numpy as np\n",
    "import matplotlib.pyplot as plt\n",
    "import seaborn as sns\n",
    "# C:/Windows/Fonts/H2GSRB.TTF\n",
    "import matplotlib as mp\n",
    "import matplotlib.font_manager as fm\n",
    "import os\n",
    "# 한글폰트 - matplot lib 한글을 지원안하므로 자신의 컴에 있는 한글 폰트는 셋팅\n",
    "location = 'C:/Windows/Fonts/H2GSRB.TTF'\n",
    "font_name = fm.FontProperties(fname=location).get_name()\n",
    "mp.rc('font',family=font_name)"
   ]
  },
  {
   "cell_type": "code",
   "execution_count": 2,
   "id": "72523a84",
   "metadata": {},
   "outputs": [
    {
     "data": {
      "text/plain": [
       "<AxesSubplot:title={'center':'한글'}>"
      ]
     },
     "execution_count": 2,
     "metadata": {},
     "output_type": "execute_result"
    },
    {
     "data": {
      "image/png": "[encoded data removed]",
      "text/plain": [
       "<Figure size 432x288 with 1 Axes>"
      ]
     },
     "metadata": {
      "needs_background": "light"
     },
     "output_type": "display_data"
    }
   ],
   "source": [
    "pd.Series([1,2,3]).plot(title='한글')"
   ]
  },
  {
   "cell_type": "code",
   "execution_count": 3,
   "id": "44de95ef",
   "metadata": {},
   "outputs": [
    {
     "data": {
      "text/html": [
       "<div>\n",
       "<style scoped>\n",
       "    .dataframe tbody tr th:only-of-type {\n",
       "        vertical-align: middle;\n",
       "    }\n",
       "\n",
       "    .dataframe tbody tr th {\n",
       "        vertical-align: top;\n",
       "    }\n",
       "\n",
       "    .dataframe thead th {\n",
       "        text-align: right;\n",
       "    }\n",
       "</style>\n",
       "<table border=\"1\" class=\"dataframe\">\n",
       "  <thead>\n",
       "    <tr style=\"text-align: right;\">\n",
       "      <th></th>\n",
       "      <th>관리번호</th>\n",
       "      <th>공원명</th>\n",
       "      <th>공원구분</th>\n",
       "      <th>소재지도로명주소</th>\n",
       "      <th>소재지지번주소</th>\n",
       "      <th>위도</th>\n",
       "      <th>경도</th>\n",
       "      <th>공원면적</th>\n",
       "      <th>공원보유시설(운동시설)</th>\n",
       "      <th>공원보유시설(유희시설)</th>\n",
       "      <th>공원보유시설(편익시설)</th>\n",
       "      <th>공원보유시설(교양시설)</th>\n",
       "      <th>공원보유시설(기타시설)</th>\n",
       "      <th>지정고시일</th>\n",
       "      <th>관리기관명</th>\n",
       "      <th>전화번호</th>\n",
       "      <th>데이터기준일자</th>\n",
       "      <th>제공기관코드</th>\n",
       "      <th>제공기관명</th>\n",
       "    </tr>\n",
       "  </thead>\n",
       "  <tbody>\n",
       "    <tr>\n",
       "      <th>0</th>\n",
       "      <td>47190-00127</td>\n",
       "      <td>백현체육공원</td>\n",
       "      <td>체육공원</td>\n",
       "      <td>NaN</td>\n",
       "      <td>경상북도 구미시 산동면 백현리 79</td>\n",
       "      <td>36.186429</td>\n",
       "      <td>128.478491</td>\n",
       "      <td>90967.0</td>\n",
       "      <td>NaN</td>\n",
       "      <td>NaN</td>\n",
       "      <td>NaN</td>\n",
       "      <td>NaN</td>\n",
       "      <td>NaN</td>\n",
       "      <td>NaN</td>\n",
       "      <td>NaN</td>\n",
       "      <td>NaN</td>\n",
       "      <td>2022-06-09</td>\n",
       "      <td>5080000</td>\n",
       "      <td>경상북도 구미시</td>\n",
       "    </tr>\n",
       "    <tr>\n",
       "      <th>1</th>\n",
       "      <td>47190-00128</td>\n",
       "      <td>둘모아공원</td>\n",
       "      <td>어린이공원</td>\n",
       "      <td>NaN</td>\n",
       "      <td>경상북도 구미시 봉곡동 584-2</td>\n",
       "      <td>36.148431</td>\n",
       "      <td>128.316594</td>\n",
       "      <td>4279.0</td>\n",
       "      <td>NaN</td>\n",
       "      <td>NaN</td>\n",
       "      <td>NaN</td>\n",
       "      <td>NaN</td>\n",
       "      <td>NaN</td>\n",
       "      <td>NaN</td>\n",
       "      <td>NaN</td>\n",
       "      <td>NaN</td>\n",
       "      <td>2022-06-09</td>\n",
       "      <td>5080000</td>\n",
       "      <td>경상북도 구미시</td>\n",
       "    </tr>\n",
       "    <tr>\n",
       "      <th>2</th>\n",
       "      <td>47190-00129</td>\n",
       "      <td>다붓소공원</td>\n",
       "      <td>소공원</td>\n",
       "      <td>NaN</td>\n",
       "      <td>경상북도 구미시 봉곡동 765 일원</td>\n",
       "      <td>36.155883</td>\n",
       "      <td>128.311526</td>\n",
       "      <td>805.0</td>\n",
       "      <td>NaN</td>\n",
       "      <td>NaN</td>\n",
       "      <td>NaN</td>\n",
       "      <td>NaN</td>\n",
       "      <td>NaN</td>\n",
       "      <td>NaN</td>\n",
       "      <td>NaN</td>\n",
       "      <td>NaN</td>\n",
       "      <td>2022-06-09</td>\n",
       "      <td>5080000</td>\n",
       "      <td>경상북도 구미시</td>\n",
       "    </tr>\n",
       "    <tr>\n",
       "      <th>3</th>\n",
       "      <td>47190-00130</td>\n",
       "      <td>다붓1공원</td>\n",
       "      <td>어린이공원</td>\n",
       "      <td>NaN</td>\n",
       "      <td>경상북도 구미시 봉곡동 457-1</td>\n",
       "      <td>36.156392</td>\n",
       "      <td>128.314372</td>\n",
       "      <td>1585.0</td>\n",
       "      <td>NaN</td>\n",
       "      <td>NaN</td>\n",
       "      <td>NaN</td>\n",
       "      <td>NaN</td>\n",
       "      <td>NaN</td>\n",
       "      <td>NaN</td>\n",
       "      <td>NaN</td>\n",
       "      <td>NaN</td>\n",
       "      <td>2022-06-09</td>\n",
       "      <td>5080000</td>\n",
       "      <td>경상북도 구미시</td>\n",
       "    </tr>\n",
       "    <tr>\n",
       "      <th>4</th>\n",
       "      <td>47190-00131</td>\n",
       "      <td>다붓2공원</td>\n",
       "      <td>어린이공원</td>\n",
       "      <td>NaN</td>\n",
       "      <td>경상북도 구미시 봉곡동 767</td>\n",
       "      <td>36.154808</td>\n",
       "      <td>128.314372</td>\n",
       "      <td>1637.0</td>\n",
       "      <td>NaN</td>\n",
       "      <td>NaN</td>\n",
       "      <td>NaN</td>\n",
       "      <td>NaN</td>\n",
       "      <td>NaN</td>\n",
       "      <td>NaN</td>\n",
       "      <td>NaN</td>\n",
       "      <td>NaN</td>\n",
       "      <td>2022-06-09</td>\n",
       "      <td>5080000</td>\n",
       "      <td>경상북도 구미시</td>\n",
       "    </tr>\n",
       "  </tbody>\n",
       "</table>\n",
       "</div>"
      ],
      "text/plain": [
       "          관리번호     공원명   공원구분 소재지도로명주소              소재지지번주소         위도  \\\n",
       "0  47190-00127  백현체육공원   체육공원      NaN  경상북도 구미시 산동면 백현리 79  36.186429   \n",
       "1  47190-00128   둘모아공원  어린이공원      NaN   경상북도 구미시 봉곡동 584-2  36.148431   \n",
       "2  47190-00129   다붓소공원    소공원      NaN  경상북도 구미시 봉곡동 765 일원  36.155883   \n",
       "3  47190-00130   다붓1공원  어린이공원      NaN   경상북도 구미시 봉곡동 457-1  36.156392   \n",
       "4  47190-00131   다붓2공원  어린이공원      NaN     경상북도 구미시 봉곡동 767  36.154808   \n",
       "\n",
       "           경도     공원면적 공원보유시설(운동시설) 공원보유시설(유희시설) 공원보유시설(편익시설) 공원보유시설(교양시설)  \\\n",
       "0  128.478491  90967.0          NaN          NaN          NaN          NaN   \n",
       "1  128.316594   4279.0          NaN          NaN          NaN          NaN   \n",
       "2  128.311526    805.0          NaN          NaN          NaN          NaN   \n",
       "3  128.314372   1585.0          NaN          NaN          NaN          NaN   \n",
       "4  128.314372   1637.0          NaN          NaN          NaN          NaN   \n",
       "\n",
       "  공원보유시설(기타시설) 지정고시일 관리기관명 전화번호     데이터기준일자   제공기관코드     제공기관명  \n",
       "0          NaN   NaN   NaN  NaN  2022-06-09  5080000  경상북도 구미시  \n",
       "1          NaN   NaN   NaN  NaN  2022-06-09  5080000  경상북도 구미시  \n",
       "2          NaN   NaN   NaN  NaN  2022-06-09  5080000  경상북도 구미시  \n",
       "3          NaN   NaN   NaN  NaN  2022-06-09  5080000  경상북도 구미시  \n",
       "4          NaN   NaN   NaN  NaN  2022-06-09  5080000  경상북도 구미시  "
      ]
     },
     "execution_count": 3,
     "metadata": {},
     "output_type": "execute_result"
    }
   ],
   "source": [
    "# 데이터 로드\n",
    "df = pd.read_csv('전국도시공원정보표준데이터.csv',encoding='cp949')\n",
    "df.head()"
   ]
  },
  {
   "cell_type": "code",
   "execution_count": 4,
   "id": "f16ee8f5",
   "metadata": {},
   "outputs": [
    {
     "name": "stdout",
     "output_type": "stream",
     "text": [
      "<class 'pandas.core.frame.DataFrame'>\n",
      "RangeIndex: 18400 entries, 0 to 18399\n",
      "Data columns (total 19 columns):\n",
      " #   Column        Non-Null Count  Dtype  \n",
      "---  ------        --------------  -----  \n",
      " 0   관리번호          18400 non-null  object \n",
      " 1   공원명           18400 non-null  object \n",
      " 2   공원구분          18400 non-null  object \n",
      " 3   소재지도로명주소      5357 non-null   object \n",
      " 4   소재지지번주소       17916 non-null  object \n",
      " 5   위도            18207 non-null  float64\n",
      " 6   경도            18200 non-null  float64\n",
      " 7   공원면적          18400 non-null  float64\n",
      " 8   공원보유시설(운동시설)  4978 non-null   object \n",
      " 9   공원보유시설(유희시설)  6574 non-null   object \n",
      " 10  공원보유시설(편익시설)  5315 non-null   object \n",
      " 11  공원보유시설(교양시설)  899 non-null    object \n",
      " 12  공원보유시설(기타시설)  2846 non-null   object \n",
      " 13  지정고시일         15997 non-null  object \n",
      " 14  관리기관명         17457 non-null  object \n",
      " 15  전화번호          17074 non-null  object \n",
      " 16  데이터기준일자       18400 non-null  object \n",
      " 17  제공기관코드        18400 non-null  object \n",
      " 18  제공기관명         18400 non-null  object \n",
      "dtypes: float64(3), object(16)\n",
      "memory usage: 2.7+ MB\n"
     ]
    }
   ],
   "source": [
    "df.info()"
   ]
  },
  {
   "cell_type": "code",
   "execution_count": 5,
   "id": "f99cbc44",
   "metadata": {},
   "outputs": [
    {
     "data": {
      "text/plain": [
       "<AxesSubplot:>"
      ]
     },
     "execution_count": 5,
     "metadata": {},
     "output_type": "execute_result"
    },
    {
     "data": {
      "image/png": "[encoded data removed]",
      "text/plain": [
       "<Figure size 432x288 with 1 Axes>"
      ]
     },
     "metadata": {
      "needs_background": "light"
     },
     "output_type": "display_data"
    }
   ],
   "source": [
    "df.isna().mean().plot.barh()"
   ]
  },
  {
   "cell_type": "code",
   "execution_count": 6,
   "id": "15c19406",
   "metadata": {},
   "outputs": [
    {
     "data": {
      "text/plain": [
       "Index(['공원보유시설(운동시설)', '공원보유시설(유희시설)', '공원보유시설(편익시설)', '공원보유시설(교양시설)',\n",
       "       '공원보유시설(기타시설)'],\n",
       "      dtype='object')"
      ]
     },
     "execution_count": 6,
     "metadata": {},
     "output_type": "execute_result"
    }
   ],
   "source": [
    "remove_cols = df.columns[ df.isna().mean() > 0.5]\n",
    "remove_cols = remove_cols[1:]\n",
    "remove_cols"
   ]
  },
  {
   "cell_type": "code",
   "execution_count": 7,
   "id": "0991e426",
   "metadata": {},
   "outputs": [
    {
     "data": {
      "text/plain": [
       "관리번호        0.000000\n",
       "공원명         0.000000\n",
       "공원구분        0.000000\n",
       "소재지도로명주소    0.708859\n",
       "소재지지번주소     0.026304\n",
       "위도          0.010489\n",
       "경도          0.010870\n",
       "공원면적        0.000000\n",
       "지정고시일       0.130598\n",
       "관리기관명       0.051250\n",
       "전화번호        0.072065\n",
       "데이터기준일자     0.000000\n",
       "제공기관코드      0.000000\n",
       "제공기관명       0.000000\n",
       "dtype: float64"
      ]
     },
     "execution_count": 7,
     "metadata": {},
     "output_type": "execute_result"
    }
   ],
   "source": [
    "df2 =  df.drop(columns=remove_cols).copy()\n",
    "df2.isna().mean()"
   ]
  },
  {
   "cell_type": "code",
   "execution_count": 8,
   "id": "da0dd9c2",
   "metadata": {},
   "outputs": [
    {
     "data": {
      "text/plain": [
       "484"
      ]
     },
     "execution_count": 8,
     "metadata": {},
     "output_type": "execute_result"
    }
   ],
   "source": [
    "(df2['소재지지번주소'].isnull() & df2['소재지도로명주소'].notnull()).sum()"
   ]
  },
  {
   "cell_type": "code",
   "execution_count": 9,
   "id": "3b5bfd2a",
   "metadata": {},
   "outputs": [],
   "source": [
    "df2['소재지지번주소'] = df2['소재지지번주소'].fillna(df2['소재지도로명주소'])"
   ]
  },
  {
   "cell_type": "code",
   "execution_count": 10,
   "id": "c8235083",
   "metadata": {},
   "outputs": [
    {
     "data": {
      "text/plain": [
       "관리번호        0.000000\n",
       "공원명         0.000000\n",
       "공원구분        0.000000\n",
       "소재지도로명주소    0.708859\n",
       "소재지지번주소     0.000000\n",
       "위도          0.010489\n",
       "경도          0.010870\n",
       "공원면적        0.000000\n",
       "지정고시일       0.130598\n",
       "관리기관명       0.051250\n",
       "전화번호        0.072065\n",
       "데이터기준일자     0.000000\n",
       "제공기관코드      0.000000\n",
       "제공기관명       0.000000\n",
       "dtype: float64"
      ]
     },
     "execution_count": 10,
     "metadata": {},
     "output_type": "execute_result"
    }
   ],
   "source": [
    "df2.isnull().mean()"
   ]
  },
  {
   "cell_type": "code",
   "execution_count": 11,
   "id": "a1ccb9f1",
   "metadata": {},
   "outputs": [
    {
     "data": {
      "text/html": [
       "<div>\n",
       "<style scoped>\n",
       "    .dataframe tbody tr th:only-of-type {\n",
       "        vertical-align: middle;\n",
       "    }\n",
       "\n",
       "    .dataframe tbody tr th {\n",
       "        vertical-align: top;\n",
       "    }\n",
       "\n",
       "    .dataframe thead th {\n",
       "        text-align: right;\n",
       "    }\n",
       "</style>\n",
       "<table border=\"1\" class=\"dataframe\">\n",
       "  <thead>\n",
       "    <tr style=\"text-align: right;\">\n",
       "      <th></th>\n",
       "      <th>관리번호</th>\n",
       "      <th>공원명</th>\n",
       "      <th>공원구분</th>\n",
       "      <th>소재지도로명주소</th>\n",
       "      <th>소재지지번주소</th>\n",
       "      <th>위도</th>\n",
       "      <th>경도</th>\n",
       "      <th>공원면적</th>\n",
       "      <th>지정고시일</th>\n",
       "      <th>관리기관명</th>\n",
       "      <th>전화번호</th>\n",
       "      <th>데이터기준일자</th>\n",
       "      <th>제공기관코드</th>\n",
       "      <th>제공기관명</th>\n",
       "    </tr>\n",
       "  </thead>\n",
       "  <tbody>\n",
       "    <tr>\n",
       "      <th>0</th>\n",
       "      <td>47190-00127</td>\n",
       "      <td>백현체육공원</td>\n",
       "      <td>체육공원</td>\n",
       "      <td>NaN</td>\n",
       "      <td>경상북도 구미시 산동면 백현리 79</td>\n",
       "      <td>36.186429</td>\n",
       "      <td>128.478491</td>\n",
       "      <td>90967.0</td>\n",
       "      <td>NaN</td>\n",
       "      <td>NaN</td>\n",
       "      <td>NaN</td>\n",
       "      <td>2022-06-09</td>\n",
       "      <td>5080000</td>\n",
       "      <td>경상북도 구미시</td>\n",
       "    </tr>\n",
       "    <tr>\n",
       "      <th>1</th>\n",
       "      <td>47190-00128</td>\n",
       "      <td>둘모아공원</td>\n",
       "      <td>어린이공원</td>\n",
       "      <td>NaN</td>\n",
       "      <td>경상북도 구미시 봉곡동 584-2</td>\n",
       "      <td>36.148431</td>\n",
       "      <td>128.316594</td>\n",
       "      <td>4279.0</td>\n",
       "      <td>NaN</td>\n",
       "      <td>NaN</td>\n",
       "      <td>NaN</td>\n",
       "      <td>2022-06-09</td>\n",
       "      <td>5080000</td>\n",
       "      <td>경상북도 구미시</td>\n",
       "    </tr>\n",
       "    <tr>\n",
       "      <th>2</th>\n",
       "      <td>47190-00129</td>\n",
       "      <td>다붓소공원</td>\n",
       "      <td>소공원</td>\n",
       "      <td>NaN</td>\n",
       "      <td>경상북도 구미시 봉곡동 765 일원</td>\n",
       "      <td>36.155883</td>\n",
       "      <td>128.311526</td>\n",
       "      <td>805.0</td>\n",
       "      <td>NaN</td>\n",
       "      <td>NaN</td>\n",
       "      <td>NaN</td>\n",
       "      <td>2022-06-09</td>\n",
       "      <td>5080000</td>\n",
       "      <td>경상북도 구미시</td>\n",
       "    </tr>\n",
       "    <tr>\n",
       "      <th>3</th>\n",
       "      <td>47190-00130</td>\n",
       "      <td>다붓1공원</td>\n",
       "      <td>어린이공원</td>\n",
       "      <td>NaN</td>\n",
       "      <td>경상북도 구미시 봉곡동 457-1</td>\n",
       "      <td>36.156392</td>\n",
       "      <td>128.314372</td>\n",
       "      <td>1585.0</td>\n",
       "      <td>NaN</td>\n",
       "      <td>NaN</td>\n",
       "      <td>NaN</td>\n",
       "      <td>2022-06-09</td>\n",
       "      <td>5080000</td>\n",
       "      <td>경상북도 구미시</td>\n",
       "    </tr>\n",
       "    <tr>\n",
       "      <th>4</th>\n",
       "      <td>47190-00131</td>\n",
       "      <td>다붓2공원</td>\n",
       "      <td>어린이공원</td>\n",
       "      <td>NaN</td>\n",
       "      <td>경상북도 구미시 봉곡동 767</td>\n",
       "      <td>36.154808</td>\n",
       "      <td>128.314372</td>\n",
       "      <td>1637.0</td>\n",
       "      <td>NaN</td>\n",
       "      <td>NaN</td>\n",
       "      <td>NaN</td>\n",
       "      <td>2022-06-09</td>\n",
       "      <td>5080000</td>\n",
       "      <td>경상북도 구미시</td>\n",
       "    </tr>\n",
       "  </tbody>\n",
       "</table>\n",
       "</div>"
      ],
      "text/plain": [
       "          관리번호     공원명   공원구분 소재지도로명주소              소재지지번주소         위도  \\\n",
       "0  47190-00127  백현체육공원   체육공원      NaN  경상북도 구미시 산동면 백현리 79  36.186429   \n",
       "1  47190-00128   둘모아공원  어린이공원      NaN   경상북도 구미시 봉곡동 584-2  36.148431   \n",
       "2  47190-00129   다붓소공원    소공원      NaN  경상북도 구미시 봉곡동 765 일원  36.155883   \n",
       "3  47190-00130   다붓1공원  어린이공원      NaN   경상북도 구미시 봉곡동 457-1  36.156392   \n",
       "4  47190-00131   다붓2공원  어린이공원      NaN     경상북도 구미시 봉곡동 767  36.154808   \n",
       "\n",
       "           경도     공원면적 지정고시일 관리기관명 전화번호     데이터기준일자   제공기관코드     제공기관명  \n",
       "0  128.478491  90967.0   NaN   NaN  NaN  2022-06-09  5080000  경상북도 구미시  \n",
       "1  128.316594   4279.0   NaN   NaN  NaN  2022-06-09  5080000  경상북도 구미시  \n",
       "2  128.311526    805.0   NaN   NaN  NaN  2022-06-09  5080000  경상북도 구미시  \n",
       "3  128.314372   1585.0   NaN   NaN  NaN  2022-06-09  5080000  경상북도 구미시  \n",
       "4  128.314372   1637.0   NaN   NaN  NaN  2022-06-09  5080000  경상북도 구미시  "
      ]
     },
     "execution_count": 11,
     "metadata": {},
     "output_type": "execute_result"
    }
   ],
   "source": [
    "df2.head()"
   ]
  },
  {
   "cell_type": "code",
   "execution_count": 12,
   "id": "ab654db1",
   "metadata": {},
   "outputs": [],
   "source": [
    "df2['시도'] =  df2['제공기관명'].str.split(expand=True)[0]"
   ]
  },
  {
   "cell_type": "code",
   "execution_count": 13,
   "id": "c2b2883c",
   "metadata": {},
   "outputs": [
    {
     "data": {
      "text/plain": [
       "array(['경상북도', '울산광역시', '서울특별시', '경기도', '인천광역시', '강원도', '경상남도', '전라남도',\n",
       "       '부산광역시', '대전광역시', '대구광역시', '제주특별자치도', '전라북도', '충청남도', '광주광역시',\n",
       "       '충청북도', '부산관광공사', '인천시설공단', '울산시설공단', '세종특별자치시', '기장군도시관리공단'],\n",
       "      dtype=object)"
      ]
     },
     "execution_count": 13,
     "metadata": {},
     "output_type": "execute_result"
    }
   ],
   "source": [
    "df2['시도'].unique()"
   ]
  },
  {
   "cell_type": "code",
   "execution_count": 14,
   "id": "d68b0d1e",
   "metadata": {},
   "outputs": [
    {
     "name": "stdout",
     "output_type": "stream",
     "text": [
      "47\n"
     ]
    }
   ],
   "source": [
    "idx =  (df2['시도'] == '부산관광공사' ).values | (df2['시도'] == '기장군도시관리공단').values\n",
    "print(idx.sum())\n",
    "df2.loc[idx,'시도'] = '부산광역시'\n"
   ]
  },
  {
   "cell_type": "code",
   "execution_count": 15,
   "id": "8233217b",
   "metadata": {},
   "outputs": [
    {
     "data": {
      "text/plain": [
       "array(['경상북도', '울산광역시', '서울특별시', '경기도', '인천광역시', '강원도', '경상남도', '전라남도',\n",
       "       '부산광역시', '대전광역시', '대구광역시', '제주특별자치도', '전라북도', '충청남도', '광주광역시',\n",
       "       '충청북도', '인천시설공단', '울산시설공단', '세종특별자치시'], dtype=object)"
      ]
     },
     "execution_count": 15,
     "metadata": {},
     "output_type": "execute_result"
    }
   ],
   "source": [
    "df2['시도'].unique()"
   ]
  },
  {
   "cell_type": "code",
   "execution_count": 16,
   "id": "d22074b5",
   "metadata": {},
   "outputs": [
    {
     "name": "stderr",
     "output_type": "stream",
     "text": [
      "C:\\Users\\user\\AppData\\Local\\Temp\\ipykernel_3612\\2264058107.py:1: SettingWithCopyWarning: \n",
      "A value is trying to be set on a copy of a slice from a DataFrame\n",
      "\n",
      "See the caveats in the documentation: https://pandas.pydata.org/pandas-docs/stable/user_guide/indexing.html#returning-a-view-versus-a-copy\n",
      "  df2['시도'][ df2['시도'] == '인천시설공단'] = '인천광역시'\n"
     ]
    }
   ],
   "source": [
    "df2['시도'][ df2['시도'] == '인천시설공단'] = '인천광역시'"
   ]
  },
  {
   "cell_type": "code",
   "execution_count": 17,
   "id": "f0163d57",
   "metadata": {},
   "outputs": [],
   "source": [
    "df2.loc[df2['시도'] == '울산시설공단','시도'] = '울산광역시'"
   ]
  },
  {
   "cell_type": "code",
   "execution_count": 18,
   "id": "36ac5c54",
   "metadata": {},
   "outputs": [],
   "source": [
    "#람다 함수... 이름없이 사용 익명함수\n",
    "# 파이썬 내장함수 나 기타 함수의 매개변수로 다른함수를 요구하는 함수들...."
   ]
  },
  {
   "cell_type": "code",
   "execution_count": 19,
   "id": "f6fb9064",
   "metadata": {},
   "outputs": [
    {
     "data": {
      "text/plain": [
       "[46, 21, 78, 7, 59, 50, 98, 76, 48, 95, 15, 32, 2, 19, 25, 44, 83, 12, 93, 39]"
      ]
     },
     "execution_count": 19,
     "metadata": {},
     "output_type": "execute_result"
    }
   ],
   "source": [
    "# 파이썬 리스트중에서 특정조건을 만족하는 데이터만 추출 filter\n",
    "# filter(적용할 함수, 파이썬 리스트)\n",
    "from random  import sample\n",
    "list1 = sample(range(100),20)\n",
    "list1"
   ]
  },
  {
   "cell_type": "code",
   "execution_count": 20,
   "id": "8a8af82f",
   "metadata": {},
   "outputs": [],
   "source": [
    "# def overFind50(x):\n",
    "#     return x > 50\n",
    "# overFind50 = lambda x : x > 50"
   ]
  },
  {
   "cell_type": "code",
   "execution_count": 21,
   "id": "9d76b9a2",
   "metadata": {},
   "outputs": [
    {
     "data": {
      "text/plain": [
       "[78, 59, 98, 76, 95, 83, 93]"
      ]
     },
     "execution_count": 21,
     "metadata": {},
     "output_type": "execute_result"
    }
   ],
   "source": [
    "list(filter(lambda x : x > 50, list1))"
   ]
  },
  {
   "cell_type": "code",
   "execution_count": 22,
   "id": "be697a6e",
   "metadata": {},
   "outputs": [
    {
     "data": {
      "text/plain": [
       "[46, 78, 50, 98, 76, 48, 32, 2, 44, 12]"
      ]
     },
     "execution_count": 22,
     "metadata": {},
     "output_type": "execute_result"
    }
   ],
   "source": [
    "list(filter(lambda x : x%2==0 , list1))"
   ]
  },
  {
   "cell_type": "code",
   "execution_count": 23,
   "id": "7a9739d4",
   "metadata": {},
   "outputs": [
    {
     "data": {
      "text/html": [
       "<div>\n",
       "<style scoped>\n",
       "    .dataframe tbody tr th:only-of-type {\n",
       "        vertical-align: middle;\n",
       "    }\n",
       "\n",
       "    .dataframe tbody tr th {\n",
       "        vertical-align: top;\n",
       "    }\n",
       "\n",
       "    .dataframe thead th {\n",
       "        text-align: right;\n",
       "    }\n",
       "</style>\n",
       "<table border=\"1\" class=\"dataframe\">\n",
       "  <thead>\n",
       "    <tr style=\"text-align: right;\">\n",
       "      <th></th>\n",
       "      <th>0</th>\n",
       "      <th>1</th>\n",
       "      <th>2</th>\n",
       "      <th>3</th>\n",
       "      <th>4</th>\n",
       "      <th>5</th>\n",
       "      <th>6</th>\n",
       "      <th>7</th>\n",
       "      <th>8</th>\n",
       "    </tr>\n",
       "  </thead>\n",
       "  <tbody>\n",
       "    <tr>\n",
       "      <th>0</th>\n",
       "      <td>경상북도</td>\n",
       "      <td>구미시</td>\n",
       "      <td>산동면</td>\n",
       "      <td>백현리</td>\n",
       "      <td>79</td>\n",
       "      <td>None</td>\n",
       "      <td>None</td>\n",
       "      <td>None</td>\n",
       "      <td>None</td>\n",
       "    </tr>\n",
       "    <tr>\n",
       "      <th>1</th>\n",
       "      <td>경상북도</td>\n",
       "      <td>구미시</td>\n",
       "      <td>봉곡동</td>\n",
       "      <td>584-2</td>\n",
       "      <td>None</td>\n",
       "      <td>None</td>\n",
       "      <td>None</td>\n",
       "      <td>None</td>\n",
       "      <td>None</td>\n",
       "    </tr>\n",
       "    <tr>\n",
       "      <th>2</th>\n",
       "      <td>경상북도</td>\n",
       "      <td>구미시</td>\n",
       "      <td>봉곡동</td>\n",
       "      <td>765</td>\n",
       "      <td>일원</td>\n",
       "      <td>None</td>\n",
       "      <td>None</td>\n",
       "      <td>None</td>\n",
       "      <td>None</td>\n",
       "    </tr>\n",
       "    <tr>\n",
       "      <th>3</th>\n",
       "      <td>경상북도</td>\n",
       "      <td>구미시</td>\n",
       "      <td>봉곡동</td>\n",
       "      <td>457-1</td>\n",
       "      <td>None</td>\n",
       "      <td>None</td>\n",
       "      <td>None</td>\n",
       "      <td>None</td>\n",
       "      <td>None</td>\n",
       "    </tr>\n",
       "    <tr>\n",
       "      <th>4</th>\n",
       "      <td>경상북도</td>\n",
       "      <td>구미시</td>\n",
       "      <td>봉곡동</td>\n",
       "      <td>767</td>\n",
       "      <td>None</td>\n",
       "      <td>None</td>\n",
       "      <td>None</td>\n",
       "      <td>None</td>\n",
       "      <td>None</td>\n",
       "    </tr>\n",
       "  </tbody>\n",
       "</table>\n",
       "</div>"
      ],
      "text/plain": [
       "      0    1    2      3     4     5     6     7     8\n",
       "0  경상북도  구미시  산동면    백현리    79  None  None  None  None\n",
       "1  경상북도  구미시  봉곡동  584-2  None  None  None  None  None\n",
       "2  경상북도  구미시  봉곡동    765    일원  None  None  None  None\n",
       "3  경상북도  구미시  봉곡동  457-1  None  None  None  None  None\n",
       "4  경상북도  구미시  봉곡동    767  None  None  None  None  None"
      ]
     },
     "execution_count": 23,
     "metadata": {},
     "output_type": "execute_result"
    }
   ],
   "source": [
    "temp = df2['소재지지번주소'].str.split(expand=True)\n",
    "temp.head()"
   ]
  },
  {
   "cell_type": "code",
   "execution_count": 24,
   "id": "f94ccabb",
   "metadata": {},
   "outputs": [],
   "source": [
    "df2['구군'] =  temp[1]"
   ]
  },
  {
   "cell_type": "code",
   "execution_count": 25,
   "id": "78f242af",
   "metadata": {},
   "outputs": [
    {
     "data": {
      "text/plain": [
       "경기도        4137\n",
       "전라남도       2036\n",
       "서울특별시      1781\n",
       "충청남도       1774\n",
       "경상남도       1114\n",
       "경상북도       1003\n",
       "광주광역시       913\n",
       "울산광역시       815\n",
       "충청북도        790\n",
       "부산광역시       673\n",
       "인천광역시       672\n",
       "전라북도        671\n",
       "대구광역시       634\n",
       "강원도         627\n",
       "대전광역시       445\n",
       "제주특별자치도     245\n",
       "세종특별자치시      70\n",
       "Name: 시도, dtype: int64"
      ]
     },
     "execution_count": 25,
     "metadata": {},
     "output_type": "execute_result"
    }
   ],
   "source": [
    "df2['시도'].value_counts()"
   ]
  },
  {
   "cell_type": "code",
   "execution_count": 26,
   "id": "107a00cd",
   "metadata": {},
   "outputs": [
    {
     "data": {
      "text/plain": [
       "<AxesSubplot:>"
      ]
     },
     "execution_count": 26,
     "metadata": {},
     "output_type": "execute_result"
    },
    {
     "data": {
      "image/png": "[encoded data removed]",
      "text/plain": [
       "<Figure size 432x288 with 1 Axes>"
      ]
     },
     "metadata": {
      "needs_background": "light"
     },
     "output_type": "display_data"
    }
   ],
   "source": [
    "sns.boxplot(data=df2.loc[:,['위도','경도']])"
   ]
  },
  {
   "cell_type": "code",
   "execution_count": 27,
   "id": "73275082",
   "metadata": {},
   "outputs": [
    {
     "data": {
      "text/plain": [
       "<AxesSubplot:xlabel='경도', ylabel='위도'>"
      ]
     },
     "execution_count": 27,
     "metadata": {},
     "output_type": "execute_result"
    },
    {
     "data": {
      "image/png": "[encoded data removed]",
      "text/plain": [
       "<Figure size 1080x360 with 1 Axes>"
      ]
     },
     "metadata": {
      "needs_background": "light"
     },
     "output_type": "display_data"
    }
   ],
   "source": [
    "plt.figure(figsize=(15,5))\n",
    "sns.scatterplot(data=df2, x='경도',y='위도')"
   ]
  },
  {
   "cell_type": "code",
   "execution_count": 28,
   "id": "4f43c38c",
   "metadata": {},
   "outputs": [],
   "source": [
    "df2 = df2[((df2['위도'] > 32) &(df2['경도']<135))]"
   ]
  },
  {
   "cell_type": "code",
   "execution_count": 29,
   "id": "da66bd13",
   "metadata": {},
   "outputs": [
    {
     "data": {
      "text/plain": [
       "<AxesSubplot:xlabel='경도', ylabel='위도'>"
      ]
     },
     "execution_count": 29,
     "metadata": {},
     "output_type": "execute_result"
    },
    {
     "data": {
      "image/png": "[encoded data removed]",
      "text/plain": [
       "<Figure size 432x288 with 1 Axes>"
      ]
     },
     "metadata": {
      "needs_background": "light"
     },
     "output_type": "display_data"
    }
   ],
   "source": [
    "sns.scatterplot(data=df2, x='경도',y='위도')"
   ]
  },
  {
   "cell_type": "code",
   "execution_count": 30,
   "id": "ce02e118",
   "metadata": {},
   "outputs": [
    {
     "data": {
      "text/html": [
       "<div>\n",
       "<style scoped>\n",
       "    .dataframe tbody tr th:only-of-type {\n",
       "        vertical-align: middle;\n",
       "    }\n",
       "\n",
       "    .dataframe tbody tr th {\n",
       "        vertical-align: top;\n",
       "    }\n",
       "\n",
       "    .dataframe thead th {\n",
       "        text-align: right;\n",
       "    }\n",
       "</style>\n",
       "<table border=\"1\" class=\"dataframe\">\n",
       "  <thead>\n",
       "    <tr style=\"text-align: right;\">\n",
       "      <th></th>\n",
       "      <th>위도</th>\n",
       "      <th>경도</th>\n",
       "    </tr>\n",
       "  </thead>\n",
       "  <tbody>\n",
       "    <tr>\n",
       "      <th>count</th>\n",
       "      <td>18137.000000</td>\n",
       "      <td>18137.000000</td>\n",
       "    </tr>\n",
       "    <tr>\n",
       "      <th>mean</th>\n",
       "      <td>36.392435</td>\n",
       "      <td>127.470893</td>\n",
       "    </tr>\n",
       "    <tr>\n",
       "      <th>std</th>\n",
       "      <td>1.066415</td>\n",
       "      <td>0.857560</td>\n",
       "    </tr>\n",
       "    <tr>\n",
       "      <th>min</th>\n",
       "      <td>33.218571</td>\n",
       "      <td>125.430955</td>\n",
       "    </tr>\n",
       "    <tr>\n",
       "      <th>25%</th>\n",
       "      <td>35.303633</td>\n",
       "      <td>126.862005</td>\n",
       "    </tr>\n",
       "    <tr>\n",
       "      <th>50%</th>\n",
       "      <td>36.597455</td>\n",
       "      <td>127.101548</td>\n",
       "    </tr>\n",
       "    <tr>\n",
       "      <th>75%</th>\n",
       "      <td>37.408172</td>\n",
       "      <td>127.977442</td>\n",
       "    </tr>\n",
       "    <tr>\n",
       "      <th>max</th>\n",
       "      <td>38.491555</td>\n",
       "      <td>130.905954</td>\n",
       "    </tr>\n",
       "  </tbody>\n",
       "</table>\n",
       "</div>"
      ],
      "text/plain": [
       "                 위도            경도\n",
       "count  18137.000000  18137.000000\n",
       "mean      36.392435    127.470893\n",
       "std        1.066415      0.857560\n",
       "min       33.218571    125.430955\n",
       "25%       35.303633    126.862005\n",
       "50%       36.597455    127.101548\n",
       "75%       37.408172    127.977442\n",
       "max       38.491555    130.905954"
      ]
     },
     "execution_count": 30,
     "metadata": {},
     "output_type": "execute_result"
    }
   ],
   "source": [
    "# 위도 경도의 기술 통계량\n",
    "df2[['위도','경도']].describe()"
   ]
  },
  {
   "cell_type": "code",
   "execution_count": 31,
   "id": "d5fbaa3b",
   "metadata": {},
   "outputs": [
    {
     "data": {
      "text/html": [
       "<div>\n",
       "<style scoped>\n",
       "    .dataframe tbody tr th:only-of-type {\n",
       "        vertical-align: middle;\n",
       "    }\n",
       "\n",
       "    .dataframe tbody tr th {\n",
       "        vertical-align: top;\n",
       "    }\n",
       "\n",
       "    .dataframe thead th {\n",
       "        text-align: right;\n",
       "    }\n",
       "</style>\n",
       "<table border=\"1\" class=\"dataframe\">\n",
       "  <thead>\n",
       "    <tr style=\"text-align: right;\">\n",
       "      <th></th>\n",
       "      <th>관리번호</th>\n",
       "      <th>공원명</th>\n",
       "      <th>공원구분</th>\n",
       "      <th>소재지도로명주소</th>\n",
       "      <th>소재지지번주소</th>\n",
       "      <th>위도</th>\n",
       "      <th>경도</th>\n",
       "      <th>공원면적</th>\n",
       "      <th>지정고시일</th>\n",
       "      <th>관리기관명</th>\n",
       "      <th>전화번호</th>\n",
       "      <th>데이터기준일자</th>\n",
       "      <th>제공기관코드</th>\n",
       "      <th>제공기관명</th>\n",
       "      <th>시도</th>\n",
       "      <th>구군</th>\n",
       "    </tr>\n",
       "  </thead>\n",
       "  <tbody>\n",
       "    <tr>\n",
       "      <th>0</th>\n",
       "      <td>47190-00127</td>\n",
       "      <td>백현체육공원</td>\n",
       "      <td>체육공원</td>\n",
       "      <td>NaN</td>\n",
       "      <td>경상북도 구미시 산동면 백현리 79</td>\n",
       "      <td>36.186429</td>\n",
       "      <td>128.478491</td>\n",
       "      <td>90967.0</td>\n",
       "      <td>NaN</td>\n",
       "      <td>NaN</td>\n",
       "      <td>NaN</td>\n",
       "      <td>2022-06-09</td>\n",
       "      <td>5080000</td>\n",
       "      <td>경상북도 구미시</td>\n",
       "      <td>경상북도</td>\n",
       "      <td>구미시</td>\n",
       "    </tr>\n",
       "    <tr>\n",
       "      <th>1</th>\n",
       "      <td>47190-00128</td>\n",
       "      <td>둘모아공원</td>\n",
       "      <td>어린이공원</td>\n",
       "      <td>NaN</td>\n",
       "      <td>경상북도 구미시 봉곡동 584-2</td>\n",
       "      <td>36.148431</td>\n",
       "      <td>128.316594</td>\n",
       "      <td>4279.0</td>\n",
       "      <td>NaN</td>\n",
       "      <td>NaN</td>\n",
       "      <td>NaN</td>\n",
       "      <td>2022-06-09</td>\n",
       "      <td>5080000</td>\n",
       "      <td>경상북도 구미시</td>\n",
       "      <td>경상북도</td>\n",
       "      <td>구미시</td>\n",
       "    </tr>\n",
       "    <tr>\n",
       "      <th>2</th>\n",
       "      <td>47190-00129</td>\n",
       "      <td>다붓소공원</td>\n",
       "      <td>소공원</td>\n",
       "      <td>NaN</td>\n",
       "      <td>경상북도 구미시 봉곡동 765 일원</td>\n",
       "      <td>36.155883</td>\n",
       "      <td>128.311526</td>\n",
       "      <td>805.0</td>\n",
       "      <td>NaN</td>\n",
       "      <td>NaN</td>\n",
       "      <td>NaN</td>\n",
       "      <td>2022-06-09</td>\n",
       "      <td>5080000</td>\n",
       "      <td>경상북도 구미시</td>\n",
       "      <td>경상북도</td>\n",
       "      <td>구미시</td>\n",
       "    </tr>\n",
       "    <tr>\n",
       "      <th>3</th>\n",
       "      <td>47190-00130</td>\n",
       "      <td>다붓1공원</td>\n",
       "      <td>어린이공원</td>\n",
       "      <td>NaN</td>\n",
       "      <td>경상북도 구미시 봉곡동 457-1</td>\n",
       "      <td>36.156392</td>\n",
       "      <td>128.314372</td>\n",
       "      <td>1585.0</td>\n",
       "      <td>NaN</td>\n",
       "      <td>NaN</td>\n",
       "      <td>NaN</td>\n",
       "      <td>2022-06-09</td>\n",
       "      <td>5080000</td>\n",
       "      <td>경상북도 구미시</td>\n",
       "      <td>경상북도</td>\n",
       "      <td>구미시</td>\n",
       "    </tr>\n",
       "    <tr>\n",
       "      <th>4</th>\n",
       "      <td>47190-00131</td>\n",
       "      <td>다붓2공원</td>\n",
       "      <td>어린이공원</td>\n",
       "      <td>NaN</td>\n",
       "      <td>경상북도 구미시 봉곡동 767</td>\n",
       "      <td>36.154808</td>\n",
       "      <td>128.314372</td>\n",
       "      <td>1637.0</td>\n",
       "      <td>NaN</td>\n",
       "      <td>NaN</td>\n",
       "      <td>NaN</td>\n",
       "      <td>2022-06-09</td>\n",
       "      <td>5080000</td>\n",
       "      <td>경상북도 구미시</td>\n",
       "      <td>경상북도</td>\n",
       "      <td>구미시</td>\n",
       "    </tr>\n",
       "  </tbody>\n",
       "</table>\n",
       "</div>"
      ],
      "text/plain": [
       "          관리번호     공원명   공원구분 소재지도로명주소              소재지지번주소         위도  \\\n",
       "0  47190-00127  백현체육공원   체육공원      NaN  경상북도 구미시 산동면 백현리 79  36.186429   \n",
       "1  47190-00128   둘모아공원  어린이공원      NaN   경상북도 구미시 봉곡동 584-2  36.148431   \n",
       "2  47190-00129   다붓소공원    소공원      NaN  경상북도 구미시 봉곡동 765 일원  36.155883   \n",
       "3  47190-00130   다붓1공원  어린이공원      NaN   경상북도 구미시 봉곡동 457-1  36.156392   \n",
       "4  47190-00131   다붓2공원  어린이공원      NaN     경상북도 구미시 봉곡동 767  36.154808   \n",
       "\n",
       "           경도     공원면적 지정고시일 관리기관명 전화번호     데이터기준일자   제공기관코드     제공기관명    시도  \\\n",
       "0  128.478491  90967.0   NaN   NaN  NaN  2022-06-09  5080000  경상북도 구미시  경상북도   \n",
       "1  128.316594   4279.0   NaN   NaN  NaN  2022-06-09  5080000  경상북도 구미시  경상북도   \n",
       "2  128.311526    805.0   NaN   NaN  NaN  2022-06-09  5080000  경상북도 구미시  경상북도   \n",
       "3  128.314372   1585.0   NaN   NaN  NaN  2022-06-09  5080000  경상북도 구미시  경상북도   \n",
       "4  128.314372   1637.0   NaN   NaN  NaN  2022-06-09  5080000  경상북도 구미시  경상북도   \n",
       "\n",
       "    구군  \n",
       "0  구미시  \n",
       "1  구미시  \n",
       "2  구미시  \n",
       "3  구미시  \n",
       "4  구미시  "
      ]
     },
     "execution_count": 31,
     "metadata": {},
     "output_type": "execute_result"
    }
   ],
   "source": [
    "df2.head()"
   ]
  },
  {
   "cell_type": "code",
   "execution_count": 32,
   "id": "3f2e9af8",
   "metadata": {},
   "outputs": [],
   "source": [
    "df2 = df2.reset_index(drop=True)\n",
    "# df2[df2.duplicated()]"
   ]
  },
  {
   "cell_type": "code",
   "execution_count": 33,
   "id": "ef8ba107",
   "metadata": {},
   "outputs": [
    {
     "data": {
      "text/plain": [
       "Int64Index([2098, 5151, 5157, 5158, 5159, 5160, 5161, 5169, 5170, 5171, 5173,\n",
       "            5174, 5755, 5756, 9463, 9464, 9465, 9467, 9468, 9469, 9471, 9472,\n",
       "            9486, 9510, 9511, 9512, 9513],\n",
       "           dtype='int64')"
      ]
     },
     "execution_count": 33,
     "metadata": {},
     "output_type": "execute_result"
    }
   ],
   "source": [
    "df2[df2.duplicated()].index"
   ]
  },
  {
   "cell_type": "code",
   "execution_count": 34,
   "id": "a4cfdf30",
   "metadata": {},
   "outputs": [],
   "source": [
    "df2.drop(index=df2[df2.duplicated()].index,inplace=True)"
   ]
  },
  {
   "cell_type": "code",
   "execution_count": 35,
   "id": "7913ff33",
   "metadata": {},
   "outputs": [
    {
     "data": {
      "text/html": [
       "<div>\n",
       "<style scoped>\n",
       "    .dataframe tbody tr th:only-of-type {\n",
       "        vertical-align: middle;\n",
       "    }\n",
       "\n",
       "    .dataframe tbody tr th {\n",
       "        vertical-align: top;\n",
       "    }\n",
       "\n",
       "    .dataframe thead th {\n",
       "        text-align: right;\n",
       "    }\n",
       "</style>\n",
       "<table border=\"1\" class=\"dataframe\">\n",
       "  <thead>\n",
       "    <tr style=\"text-align: right;\">\n",
       "      <th></th>\n",
       "      <th>관리번호</th>\n",
       "      <th>공원명</th>\n",
       "      <th>공원구분</th>\n",
       "      <th>소재지도로명주소</th>\n",
       "      <th>소재지지번주소</th>\n",
       "      <th>위도</th>\n",
       "      <th>경도</th>\n",
       "      <th>공원면적</th>\n",
       "      <th>지정고시일</th>\n",
       "      <th>관리기관명</th>\n",
       "      <th>전화번호</th>\n",
       "      <th>데이터기준일자</th>\n",
       "      <th>제공기관코드</th>\n",
       "      <th>제공기관명</th>\n",
       "      <th>시도</th>\n",
       "      <th>구군</th>\n",
       "    </tr>\n",
       "  </thead>\n",
       "  <tbody>\n",
       "  </tbody>\n",
       "</table>\n",
       "</div>"
      ],
      "text/plain": [
       "Empty DataFrame\n",
       "Columns: [관리번호, 공원명, 공원구분, 소재지도로명주소, 소재지지번주소, 위도, 경도, 공원면적, 지정고시일, 관리기관명, 전화번호, 데이터기준일자, 제공기관코드, 제공기관명, 시도, 구군]\n",
       "Index: []"
      ]
     },
     "execution_count": 35,
     "metadata": {},
     "output_type": "execute_result"
    }
   ],
   "source": [
    "df2[df2.duplicated()]"
   ]
  },
  {
   "cell_type": "code",
   "execution_count": 36,
   "id": "dedad510",
   "metadata": {},
   "outputs": [
    {
     "data": {
      "text/html": [
       "<div>\n",
       "<style scoped>\n",
       "    .dataframe tbody tr th:only-of-type {\n",
       "        vertical-align: middle;\n",
       "    }\n",
       "\n",
       "    .dataframe tbody tr th {\n",
       "        vertical-align: top;\n",
       "    }\n",
       "\n",
       "    .dataframe thead th {\n",
       "        text-align: right;\n",
       "    }\n",
       "</style>\n",
       "<table border=\"1\" class=\"dataframe\">\n",
       "  <thead>\n",
       "    <tr style=\"text-align: right;\">\n",
       "      <th></th>\n",
       "      <th>관리번호</th>\n",
       "      <th>공원명</th>\n",
       "      <th>공원구분</th>\n",
       "      <th>소재지도로명주소</th>\n",
       "      <th>소재지지번주소</th>\n",
       "      <th>위도</th>\n",
       "      <th>경도</th>\n",
       "      <th>공원면적</th>\n",
       "      <th>지정고시일</th>\n",
       "      <th>관리기관명</th>\n",
       "      <th>전화번호</th>\n",
       "      <th>데이터기준일자</th>\n",
       "      <th>제공기관코드</th>\n",
       "      <th>제공기관명</th>\n",
       "      <th>시도</th>\n",
       "      <th>구군</th>\n",
       "    </tr>\n",
       "  </thead>\n",
       "  <tbody>\n",
       "    <tr>\n",
       "      <th>0</th>\n",
       "      <td>47190-00127</td>\n",
       "      <td>백현체육공원</td>\n",
       "      <td>체육공원</td>\n",
       "      <td>NaN</td>\n",
       "      <td>경상북도 구미시 산동면 백현리 79</td>\n",
       "      <td>36.186429</td>\n",
       "      <td>128.478491</td>\n",
       "      <td>90967.0</td>\n",
       "      <td>NaN</td>\n",
       "      <td>NaN</td>\n",
       "      <td>NaN</td>\n",
       "      <td>2022-06-09</td>\n",
       "      <td>5080000</td>\n",
       "      <td>경상북도 구미시</td>\n",
       "      <td>경상북도</td>\n",
       "      <td>구미시</td>\n",
       "    </tr>\n",
       "    <tr>\n",
       "      <th>1</th>\n",
       "      <td>47190-00128</td>\n",
       "      <td>둘모아공원</td>\n",
       "      <td>어린이공원</td>\n",
       "      <td>NaN</td>\n",
       "      <td>경상북도 구미시 봉곡동 584-2</td>\n",
       "      <td>36.148431</td>\n",
       "      <td>128.316594</td>\n",
       "      <td>4279.0</td>\n",
       "      <td>NaN</td>\n",
       "      <td>NaN</td>\n",
       "      <td>NaN</td>\n",
       "      <td>2022-06-09</td>\n",
       "      <td>5080000</td>\n",
       "      <td>경상북도 구미시</td>\n",
       "      <td>경상북도</td>\n",
       "      <td>구미시</td>\n",
       "    </tr>\n",
       "    <tr>\n",
       "      <th>2</th>\n",
       "      <td>47190-00129</td>\n",
       "      <td>다붓소공원</td>\n",
       "      <td>소공원</td>\n",
       "      <td>NaN</td>\n",
       "      <td>경상북도 구미시 봉곡동 765 일원</td>\n",
       "      <td>36.155883</td>\n",
       "      <td>128.311526</td>\n",
       "      <td>805.0</td>\n",
       "      <td>NaN</td>\n",
       "      <td>NaN</td>\n",
       "      <td>NaN</td>\n",
       "      <td>2022-06-09</td>\n",
       "      <td>5080000</td>\n",
       "      <td>경상북도 구미시</td>\n",
       "      <td>경상북도</td>\n",
       "      <td>구미시</td>\n",
       "    </tr>\n",
       "    <tr>\n",
       "      <th>3</th>\n",
       "      <td>47190-00130</td>\n",
       "      <td>다붓1공원</td>\n",
       "      <td>어린이공원</td>\n",
       "      <td>NaN</td>\n",
       "      <td>경상북도 구미시 봉곡동 457-1</td>\n",
       "      <td>36.156392</td>\n",
       "      <td>128.314372</td>\n",
       "      <td>1585.0</td>\n",
       "      <td>NaN</td>\n",
       "      <td>NaN</td>\n",
       "      <td>NaN</td>\n",
       "      <td>2022-06-09</td>\n",
       "      <td>5080000</td>\n",
       "      <td>경상북도 구미시</td>\n",
       "      <td>경상북도</td>\n",
       "      <td>구미시</td>\n",
       "    </tr>\n",
       "    <tr>\n",
       "      <th>4</th>\n",
       "      <td>47190-00131</td>\n",
       "      <td>다붓2공원</td>\n",
       "      <td>어린이공원</td>\n",
       "      <td>NaN</td>\n",
       "      <td>경상북도 구미시 봉곡동 767</td>\n",
       "      <td>36.154808</td>\n",
       "      <td>128.314372</td>\n",
       "      <td>1637.0</td>\n",
       "      <td>NaN</td>\n",
       "      <td>NaN</td>\n",
       "      <td>NaN</td>\n",
       "      <td>2022-06-09</td>\n",
       "      <td>5080000</td>\n",
       "      <td>경상북도 구미시</td>\n",
       "      <td>경상북도</td>\n",
       "      <td>구미시</td>\n",
       "    </tr>\n",
       "  </tbody>\n",
       "</table>\n",
       "</div>"
      ],
      "text/plain": [
       "          관리번호     공원명   공원구분 소재지도로명주소              소재지지번주소         위도  \\\n",
       "0  47190-00127  백현체육공원   체육공원      NaN  경상북도 구미시 산동면 백현리 79  36.186429   \n",
       "1  47190-00128   둘모아공원  어린이공원      NaN   경상북도 구미시 봉곡동 584-2  36.148431   \n",
       "2  47190-00129   다붓소공원    소공원      NaN  경상북도 구미시 봉곡동 765 일원  36.155883   \n",
       "3  47190-00130   다붓1공원  어린이공원      NaN   경상북도 구미시 봉곡동 457-1  36.156392   \n",
       "4  47190-00131   다붓2공원  어린이공원      NaN     경상북도 구미시 봉곡동 767  36.154808   \n",
       "\n",
       "           경도     공원면적 지정고시일 관리기관명 전화번호     데이터기준일자   제공기관코드     제공기관명    시도  \\\n",
       "0  128.478491  90967.0   NaN   NaN  NaN  2022-06-09  5080000  경상북도 구미시  경상북도   \n",
       "1  128.316594   4279.0   NaN   NaN  NaN  2022-06-09  5080000  경상북도 구미시  경상북도   \n",
       "2  128.311526    805.0   NaN   NaN  NaN  2022-06-09  5080000  경상북도 구미시  경상북도   \n",
       "3  128.314372   1585.0   NaN   NaN  NaN  2022-06-09  5080000  경상북도 구미시  경상북도   \n",
       "4  128.314372   1637.0   NaN   NaN  NaN  2022-06-09  5080000  경상북도 구미시  경상북도   \n",
       "\n",
       "    구군  \n",
       "0  구미시  \n",
       "1  구미시  \n",
       "2  구미시  \n",
       "3  구미시  \n",
       "4  구미시  "
      ]
     },
     "execution_count": 36,
     "metadata": {},
     "output_type": "execute_result"
    }
   ],
   "source": [
    "df2.head()"
   ]
  },
  {
   "cell_type": "code",
   "execution_count": 37,
   "id": "573ff503",
   "metadata": {},
   "outputs": [],
   "source": [
    "temp = df2['데이터기준일자'].str.split(pat=\"-\", expand=True)\n",
    "df2['년도'] = temp[0]\n",
    "df2['월'] = temp[1]\n",
    "df2['일'] = temp[2]"
   ]
  },
  {
   "cell_type": "code",
   "execution_count": 38,
   "id": "ea5a4d93",
   "metadata": {},
   "outputs": [
    {
     "data": {
      "text/plain": [
       "array(['2022', '2021', '2020', '2019', '2018'], dtype=object)"
      ]
     },
     "execution_count": 38,
     "metadata": {},
     "output_type": "execute_result"
    }
   ],
   "source": [
    "df2['년도'].unique()"
   ]
  },
  {
   "cell_type": "code",
   "execution_count": 39,
   "id": "5ef7faf5",
   "metadata": {},
   "outputs": [],
   "source": [
    "# df2[df2['전화번호'].notnull()]\n",
    "# 정규표현식"
   ]
  },
  {
   "cell_type": "code",
   "execution_count": 40,
   "id": "74735325",
   "metadata": {},
   "outputs": [],
   "source": [
    "import re"
   ]
  },
  {
   "cell_type": "markdown",
   "id": "6ae0ee9b",
   "metadata": {},
   "source": [
    "* 파이썬 공식문서 정규표현식 참고하기 : \n",
    "    * https://docs.python.org/3.8/library/re.html#re.sub"
   ]
  },
  {
   "cell_type": "code",
   "execution_count": 59,
   "id": "92a8582e",
   "metadata": {},
   "outputs": [
    {
     "data": {
      "text/plain": [
       "'052-24**-**42'"
      ]
     },
     "execution_count": 59,
     "metadata": {},
     "output_type": "execute_result"
    }
   ],
   "source": [
    "# re.sub(규칙,패턴,데이터)\n",
    "re.sub(\"(\\d{3})-(\\d{1,2})(\\d{2})-(\\d{2})(\\d{2})\", r\"\\1-\\2**-**\\5\",\"052-2413-7942\")"
   ]
  },
  {
   "cell_type": "code",
   "execution_count": 62,
   "id": "bbb74891",
   "metadata": {},
   "outputs": [],
   "source": [
    "index =  df2[df2['전화번호'].notnull()].index\n",
    "changef = lambda x : re.sub(\"(\\d{3})-(\\d{1,2})(\\d{2})-(\\d{2})(\\d{2})\", r\"\\1-\\2**-**\\5\",x)"
   ]
  },
  {
   "cell_type": "code",
   "execution_count": 63,
   "id": "b7a04132",
   "metadata": {},
   "outputs": [],
   "source": [
    "df2.loc[index,'전화번호'] = df2.loc[index,'전화번호'].apply(changef)"
   ]
  },
  {
   "cell_type": "code",
   "execution_count": 64,
   "id": "8c5b6749",
   "metadata": {},
   "outputs": [
    {
     "data": {
      "text/plain": [
       "29       052-2**-**42\n",
       "30       052-2**-**42\n",
       "31       052-2**-**42\n",
       "32       052-2**-**42\n",
       "33       052-2**-**42\n",
       "             ...     \n",
       "18105    033-7**-**26\n",
       "18106    033-7**-**26\n",
       "18107    033-7**-**26\n",
       "18108    033-7**-**82\n",
       "18136    043-6**-**15\n",
       "Name: 전화번호, Length: 16807, dtype: object"
      ]
     },
     "execution_count": 64,
     "metadata": {},
     "output_type": "execute_result"
    }
   ],
   "source": [
    "df2.loc[index,'전화번호']"
   ]
  },
  {
   "cell_type": "code",
   "execution_count": 66,
   "id": "179bb18a",
   "metadata": {},
   "outputs": [
    {
     "data": {
      "text/plain": [
       "<AxesSubplot:xlabel='년도', ylabel='count'>"
      ]
     },
     "execution_count": 66,
     "metadata": {},
     "output_type": "execute_result"
    },
    {
     "data": {
      "image/png": "[encoded data removed]",
      "text/plain": [
       "<Figure size 432x288 with 1 Axes>"
      ]
     },
     "metadata": {
      "needs_background": "light"
     },
     "output_type": "display_data"
    }
   ],
   "source": [
    "sns.countplot(data=df2,x='년도')"
   ]
  },
  {
   "cell_type": "code",
   "execution_count": 84,
   "id": "79d2cbd9",
   "metadata": {},
   "outputs": [
    {
     "data": {
      "text/plain": [
       "<matplotlib.legend.Legend at 0x1e2e9b160d0>"
      ]
     },
     "execution_count": 84,
     "metadata": {},
     "output_type": "execute_result"
    },
    {
     "data": {
      "image/png": "[encoded data removed]",
      "text/plain": [
       "<Figure size 1080x360 with 1 Axes>"
      ]
     },
     "metadata": {
      "needs_background": "light"
     },
     "output_type": "display_data"
    }
   ],
   "source": [
    "plt.figure(figsize=(15,5))\n",
    "sns.countplot(data=df2,y='년도',hue='시도')\n",
    "plt.legend(bbox_to_anchor=(1.1,1),loc = 'upper right')"
   ]
  },
  {
   "cell_type": "code",
   "execution_count": 96,
   "id": "a195bc79",
   "metadata": {
    "scrolled": true
   },
   "outputs": [
    {
     "data": {
      "text/plain": [
       "<seaborn.axisgrid.FacetGrid at 0x1e2f3e19040>"
      ]
     },
     "execution_count": 96,
     "metadata": {},
     "output_type": "execute_result"
    },
    {
     "data": {
      "image/png": "[encoded data removed]",
      "text/plain": [
       "<Figure size 1440x1800 with 17 Axes>"
      ]
     },
     "metadata": {
      "needs_background": "light"
     },
     "output_type": "display_data"
    }
   ],
   "source": [
    "# 연도별 공원의수\n",
    "temp = df2.groupby(['년도','시도'])['관리번호'].count()\n",
    "temp = temp.reset_index()\n",
    "temp.columns = ['년도','시도','공원수']\n",
    "temp\n",
    "sns.catplot(data=temp,x='공원수',y ='년도' , col='시도', col_wrap=4, kind='bar',sharex=False)"
   ]
  },
  {
   "cell_type": "code",
   "execution_count": 97,
   "id": "952ef228",
   "metadata": {},
   "outputs": [
    {
     "name": "stdout",
     "output_type": "stream",
     "text": [
      "Requirement already satisfied: folium in c:\\users\\user\\miniconda3\\envs\\ml\\lib\\site-packages (0.12.1.post1)\n",
      "Requirement already satisfied: jinja2>=2.9 in c:\\users\\user\\miniconda3\\envs\\ml\\lib\\site-packages (from folium) (3.0.3)\n",
      "Requirement already satisfied: requests in c:\\users\\user\\miniconda3\\envs\\ml\\lib\\site-packages (from folium) (2.28.1)\n",
      "Requirement already satisfied: branca>=0.3.0 in c:\\users\\user\\miniconda3\\envs\\ml\\lib\\site-packages (from folium) (0.5.0)\n",
      "Requirement already satisfied: numpy in c:\\users\\user\\miniconda3\\envs\\ml\\lib\\site-packages (from folium) (1.23.1)\n",
      "Requirement already satisfied: MarkupSafe>=2.0 in c:\\users\\user\\miniconda3\\envs\\ml\\lib\\site-packages (from jinja2>=2.9->folium) (2.1.1)\n",
      "Requirement already satisfied: charset-normalizer<3,>=2 in c:\\users\\user\\miniconda3\\envs\\ml\\lib\\site-packages (from requests->folium) (2.0.4)\n",
      "Requirement already satisfied: urllib3<1.27,>=1.21.1 in c:\\users\\user\\miniconda3\\envs\\ml\\lib\\site-packages (from requests->folium) (1.26.11)\n",
      "Requirement already satisfied: certifi>=2017.4.17 in c:\\users\\user\\miniconda3\\envs\\ml\\lib\\site-packages (from requests->folium) (2022.6.15)\n",
      "Requirement already satisfied: idna<4,>=2.5 in c:\\users\\user\\miniconda3\\envs\\ml\\lib\\site-packages (from requests->folium) (3.3)\n",
      "Note: you may need to restart the kernel to use updated packages.\n"
     ]
    }
   ],
   "source": [
    "pip install folium"
   ]
  },
  {
   "cell_type": "code",
   "execution_count": 98,
   "id": "ef84dad3",
   "metadata": {},
   "outputs": [],
   "source": [
    "import folium"
   ]
  },
  {
   "cell_type": "code",
   "execution_count": 115,
   "id": "e57b0d76",
   "metadata": {},
   "outputs": [],
   "source": [
    "df_gyeonggido= df2[df2['시도'] == '경기도']\n",
    "df_gyeonggido_youngin = df_gyeonggido[df_gyeonggido['구군'] == '용인시']"
   ]
  },
  {
   "cell_type": "code",
   "execution_count": 116,
   "id": "87b20c73",
   "metadata": {
    "scrolled": true
   },
   "outputs": [],
   "source": [
    "df_gyeonggido_youngin.reset_index(drop=True,inplace=True)\n",
    "lat = df_gyeonggido_youngin['위도'].mean()\n",
    "lng = df_gyeonggido_youngin['경도'].mean()\n",
    "m =  folium.Map([lat,lng], zoom_start=12)\n",
    "for i in range(len(df_gyeonggido_youngin)):\n",
    "    rowData = df_gyeonggido_youngin.loc[i]\n",
    "    folium.Marker(\n",
    "        [rowData['위도'], rowData['경도'] ]\n",
    "        ,tooltip=rowData['공원명']+'-'+rowData['소재지지번주소']\n",
    "    ).add_to(m)    \n",
    "m.save('df_gyeonggido_youngin.html')"
   ]
  },
  {
   "cell_type": "code",
   "execution_count": 117,
   "id": "645fd80d",
   "metadata": {},
   "outputs": [],
   "source": [
    "df_gyeonggido_youngin.reset_index(drop=True,inplace=True)\n",
    "lat = df_gyeonggido_youngin['위도'].mean()\n",
    "lng = df_gyeonggido_youngin['경도'].mean()\n",
    "m =  folium.Map([lat,lng], zoom_start=12,tiles='stamen toner')\n",
    "for i in range(len(df_gyeonggido_youngin)):\n",
    "    rowData = df_gyeonggido_youngin.loc[i]\n",
    "    folium.CircleMarker(\n",
    "        [rowData['위도'], rowData['경도'] ]\n",
    "        ,tooltip=rowData['공원명']+'-'+rowData['소재지지번주소']\n",
    "    ).add_to(m)    \n",
    "m.save('df_gyeonggido_youngin_circle.html')"
   ]
  },
  {
   "cell_type": "code",
   "execution_count": 118,
   "id": "7e982dae",
   "metadata": {},
   "outputs": [],
   "source": [
    "from folium.plugins import MarkerCluster\n",
    "\n",
    "df_gyeonggido_youngin.reset_index(drop=True,inplace=True)\n",
    "lat = df_gyeonggido_youngin['위도'].mean()\n",
    "lng = df_gyeonggido_youngin['경도'].mean()\n",
    "\n",
    "m =  folium.Map([lat,lng], zoom_start=12,tiles='stamen toner')\n",
    "mt = MarkerCluster().add_to(m)\n",
    "\n",
    "for i in range(len(df_gyeonggido_youngin)):\n",
    "    rowData = df_gyeonggido_youngin.loc[i]\n",
    "    folium.CircleMarker(\n",
    "        [rowData['위도'], rowData['경도'] ]\n",
    "        ,tooltip=rowData['공원명']+'-'+rowData['소재지지번주소']\n",
    "    ).add_to(mt)    \n",
    "m.save('df_gyeonggido_youngin_markerCluster.html')"
   ]
  },
  {
   "cell_type": "code",
   "execution_count": 124,
   "id": "25a97507",
   "metadata": {},
   "outputs": [
    {
     "data": {
      "text/html": [
       "<div>\n",
       "<style scoped>\n",
       "    .dataframe tbody tr th:only-of-type {\n",
       "        vertical-align: middle;\n",
       "    }\n",
       "\n",
       "    .dataframe tbody tr th {\n",
       "        vertical-align: top;\n",
       "    }\n",
       "\n",
       "    .dataframe thead th {\n",
       "        text-align: right;\n",
       "    }\n",
       "</style>\n",
       "<table border=\"1\" class=\"dataframe\">\n",
       "  <thead>\n",
       "    <tr style=\"text-align: right;\">\n",
       "      <th></th>\n",
       "      <th>위도</th>\n",
       "      <th>경도</th>\n",
       "      <th>구군</th>\n",
       "    </tr>\n",
       "  </thead>\n",
       "  <tbody>\n",
       "    <tr>\n",
       "      <th>0</th>\n",
       "      <td>37.327201</td>\n",
       "      <td>127.065201</td>\n",
       "      <td>용인시</td>\n",
       "    </tr>\n",
       "    <tr>\n",
       "      <th>1</th>\n",
       "      <td>37.322801</td>\n",
       "      <td>127.081501</td>\n",
       "      <td>용인시</td>\n",
       "    </tr>\n",
       "    <tr>\n",
       "      <th>2</th>\n",
       "      <td>37.318501</td>\n",
       "      <td>127.081101</td>\n",
       "      <td>용인시</td>\n",
       "    </tr>\n",
       "    <tr>\n",
       "      <th>3</th>\n",
       "      <td>37.334901</td>\n",
       "      <td>127.096801</td>\n",
       "      <td>용인시</td>\n",
       "    </tr>\n",
       "    <tr>\n",
       "      <th>4</th>\n",
       "      <td>37.323701</td>\n",
       "      <td>127.084901</td>\n",
       "      <td>용인시</td>\n",
       "    </tr>\n",
       "    <tr>\n",
       "      <th>...</th>\n",
       "      <td>...</td>\n",
       "      <td>...</td>\n",
       "      <td>...</td>\n",
       "    </tr>\n",
       "    <tr>\n",
       "      <th>274</th>\n",
       "      <td>37.277901</td>\n",
       "      <td>127.096901</td>\n",
       "      <td>용인시</td>\n",
       "    </tr>\n",
       "    <tr>\n",
       "      <th>275</th>\n",
       "      <td>37.307901</td>\n",
       "      <td>127.092501</td>\n",
       "      <td>용인시</td>\n",
       "    </tr>\n",
       "    <tr>\n",
       "      <th>276</th>\n",
       "      <td>37.266101</td>\n",
       "      <td>127.214501</td>\n",
       "      <td>용인시</td>\n",
       "    </tr>\n",
       "    <tr>\n",
       "      <th>277</th>\n",
       "      <td>37.306401</td>\n",
       "      <td>127.108801</td>\n",
       "      <td>용인시</td>\n",
       "    </tr>\n",
       "    <tr>\n",
       "      <th>278</th>\n",
       "      <td>37.237701</td>\n",
       "      <td>127.192401</td>\n",
       "      <td>용인시</td>\n",
       "    </tr>\n",
       "  </tbody>\n",
       "</table>\n",
       "<p>279 rows × 3 columns</p>\n",
       "</div>"
      ],
      "text/plain": [
       "            위도          경도   구군\n",
       "0    37.327201  127.065201  용인시\n",
       "1    37.322801  127.081501  용인시\n",
       "2    37.318501  127.081101  용인시\n",
       "3    37.334901  127.096801  용인시\n",
       "4    37.323701  127.084901  용인시\n",
       "..         ...         ...  ...\n",
       "274  37.277901  127.096901  용인시\n",
       "275  37.307901  127.092501  용인시\n",
       "276  37.266101  127.214501  용인시\n",
       "277  37.306401  127.108801  용인시\n",
       "278  37.237701  127.192401  용인시\n",
       "\n",
       "[279 rows x 3 columns]"
      ]
     },
     "execution_count": 124,
     "metadata": {},
     "output_type": "execute_result"
    }
   ],
   "source": [
    "sample = df_gyeonggido_youngin[['위도','경도','구군']].copy()\n",
    "sample"
   ]
  },
  {
   "cell_type": "code",
   "execution_count": null,
   "id": "fc2f3db5",
   "metadata": {},
   "outputs": [],
   "source": []
  }
 ],
 "metadata": {
  "kernelspec": {
   "display_name": "Python 3 (ipykernel)",
   "language": "python",
   "name": "python3"
  },
  "language_info": {
   "codemirror_mode": {
    "name": "ipython",
    "version": 3
   },
   "file_extension": ".py",
   "mimetype": "text/x-python",
   "name": "python",
   "nbconvert_exporter": "python",
   "pygments_lexer": "ipython3",
   "version": "3.9.12"
  }
 },
 "nbformat": 4,
 "nbformat_minor": 5
}
