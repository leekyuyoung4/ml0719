{
 "cells": [
  {
   "cell_type": "code",
   "execution_count": 1,
   "id": "5665f4e5",
   "metadata": {},
   "outputs": [],
   "source": [
    "import pandas as pd\n",
    "import numpy as np\n",
    "import matplotlib.pyplot as plt\n",
    "import seaborn as sns\n",
    "# C:/Windows/Fonts/H2GSRB.TTF\n",
    "import matplotlib as mp\n",
    "import matplotlib.font_manager as fm\n",
    "import os\n",
    "# 한글폰트 - matplot lib 한글을 지원안하므로 자신의 컴에 있는 한글 폰트는 셋팅\n",
    "location = 'C:/Windows/Fonts/H2GSRB.TTF'\n",
    "font_name = fm.FontProperties(fname=location).get_name()\n",
    "mp.rc('font',family=font_name)"
   ]
  },
  {
   "cell_type": "code",
   "execution_count": 2,
   "id": "759fc573",
   "metadata": {},
   "outputs": [
    {
     "data": {
      "text/plain": [
       "<AxesSubplot:title={'center':'한글'}>"
      ]
     },
     "execution_count": 2,
     "metadata": {},
     "output_type": "execute_result"
    },
    {
     "data": {
      "image/png": "[encoded data removed]",
      "text/plain": [
       "<Figure size 432x288 with 1 Axes>"
      ]
     },
     "metadata": {
      "needs_background": "light"
     },
     "output_type": "display_data"
    }
   ],
   "source": [
    "pd.Series([1,2,3]).plot(title='한글')"
   ]
  },
  {
   "cell_type": "code",
   "execution_count": 26,
   "id": "a3e0c979",
   "metadata": {},
   "outputs": [
    {
     "data": {
      "text/html": [
       "<div>\n",
       "<style scoped>\n",
       "    .dataframe tbody tr th:only-of-type {\n",
       "        vertical-align: middle;\n",
       "    }\n",
       "\n",
       "    .dataframe tbody tr th {\n",
       "        vertical-align: top;\n",
       "    }\n",
       "\n",
       "    .dataframe thead th {\n",
       "        text-align: right;\n",
       "    }\n",
       "</style>\n",
       "<table border=\"1\" class=\"dataframe\">\n",
       "  <thead>\n",
       "    <tr style=\"text-align: right;\">\n",
       "      <th></th>\n",
       "      <th>관리번호</th>\n",
       "      <th>공원명</th>\n",
       "      <th>공원구분</th>\n",
       "      <th>소재지도로명주소</th>\n",
       "      <th>소재지지번주소</th>\n",
       "      <th>위도</th>\n",
       "      <th>경도</th>\n",
       "      <th>공원면적</th>\n",
       "      <th>공원보유시설(운동시설)</th>\n",
       "      <th>공원보유시설(유희시설)</th>\n",
       "      <th>공원보유시설(편익시설)</th>\n",
       "      <th>공원보유시설(교양시설)</th>\n",
       "      <th>공원보유시설(기타시설)</th>\n",
       "      <th>지정고시일</th>\n",
       "      <th>관리기관명</th>\n",
       "      <th>전화번호</th>\n",
       "      <th>데이터기준일자</th>\n",
       "      <th>제공기관코드</th>\n",
       "      <th>제공기관명</th>\n",
       "    </tr>\n",
       "  </thead>\n",
       "  <tbody>\n",
       "    <tr>\n",
       "      <th>0</th>\n",
       "      <td>47190-00127</td>\n",
       "      <td>백현체육공원</td>\n",
       "      <td>체육공원</td>\n",
       "      <td>NaN</td>\n",
       "      <td>경상북도 구미시 산동면 백현리 79</td>\n",
       "      <td>36.186429</td>\n",
       "      <td>128.478491</td>\n",
       "      <td>90967.0</td>\n",
       "      <td>NaN</td>\n",
       "      <td>NaN</td>\n",
       "      <td>NaN</td>\n",
       "      <td>NaN</td>\n",
       "      <td>NaN</td>\n",
       "      <td>NaN</td>\n",
       "      <td>NaN</td>\n",
       "      <td>NaN</td>\n",
       "      <td>2022-06-09</td>\n",
       "      <td>5080000</td>\n",
       "      <td>경상북도 구미시</td>\n",
       "    </tr>\n",
       "    <tr>\n",
       "      <th>1</th>\n",
       "      <td>47190-00128</td>\n",
       "      <td>둘모아공원</td>\n",
       "      <td>어린이공원</td>\n",
       "      <td>NaN</td>\n",
       "      <td>경상북도 구미시 봉곡동 584-2</td>\n",
       "      <td>36.148431</td>\n",
       "      <td>128.316594</td>\n",
       "      <td>4279.0</td>\n",
       "      <td>NaN</td>\n",
       "      <td>NaN</td>\n",
       "      <td>NaN</td>\n",
       "      <td>NaN</td>\n",
       "      <td>NaN</td>\n",
       "      <td>NaN</td>\n",
       "      <td>NaN</td>\n",
       "      <td>NaN</td>\n",
       "      <td>2022-06-09</td>\n",
       "      <td>5080000</td>\n",
       "      <td>경상북도 구미시</td>\n",
       "    </tr>\n",
       "    <tr>\n",
       "      <th>2</th>\n",
       "      <td>47190-00129</td>\n",
       "      <td>다붓소공원</td>\n",
       "      <td>소공원</td>\n",
       "      <td>NaN</td>\n",
       "      <td>경상북도 구미시 봉곡동 765 일원</td>\n",
       "      <td>36.155883</td>\n",
       "      <td>128.311526</td>\n",
       "      <td>805.0</td>\n",
       "      <td>NaN</td>\n",
       "      <td>NaN</td>\n",
       "      <td>NaN</td>\n",
       "      <td>NaN</td>\n",
       "      <td>NaN</td>\n",
       "      <td>NaN</td>\n",
       "      <td>NaN</td>\n",
       "      <td>NaN</td>\n",
       "      <td>2022-06-09</td>\n",
       "      <td>5080000</td>\n",
       "      <td>경상북도 구미시</td>\n",
       "    </tr>\n",
       "    <tr>\n",
       "      <th>3</th>\n",
       "      <td>47190-00130</td>\n",
       "      <td>다붓1공원</td>\n",
       "      <td>어린이공원</td>\n",
       "      <td>NaN</td>\n",
       "      <td>경상북도 구미시 봉곡동 457-1</td>\n",
       "      <td>36.156392</td>\n",
       "      <td>128.314372</td>\n",
       "      <td>1585.0</td>\n",
       "      <td>NaN</td>\n",
       "      <td>NaN</td>\n",
       "      <td>NaN</td>\n",
       "      <td>NaN</td>\n",
       "      <td>NaN</td>\n",
       "      <td>NaN</td>\n",
       "      <td>NaN</td>\n",
       "      <td>NaN</td>\n",
       "      <td>2022-06-09</td>\n",
       "      <td>5080000</td>\n",
       "      <td>경상북도 구미시</td>\n",
       "    </tr>\n",
       "    <tr>\n",
       "      <th>4</th>\n",
       "      <td>47190-00131</td>\n",
       "      <td>다붓2공원</td>\n",
       "      <td>어린이공원</td>\n",
       "      <td>NaN</td>\n",
       "      <td>경상북도 구미시 봉곡동 767</td>\n",
       "      <td>36.154808</td>\n",
       "      <td>128.314372</td>\n",
       "      <td>1637.0</td>\n",
       "      <td>NaN</td>\n",
       "      <td>NaN</td>\n",
       "      <td>NaN</td>\n",
       "      <td>NaN</td>\n",
       "      <td>NaN</td>\n",
       "      <td>NaN</td>\n",
       "      <td>NaN</td>\n",
       "      <td>NaN</td>\n",
       "      <td>2022-06-09</td>\n",
       "      <td>5080000</td>\n",
       "      <td>경상북도 구미시</td>\n",
       "    </tr>\n",
       "  </tbody>\n",
       "</table>\n",
       "</div>"
      ],
      "text/plain": [
       "          관리번호     공원명   공원구분 소재지도로명주소              소재지지번주소         위도  \\\n",
       "0  47190-00127  백현체육공원   체육공원      NaN  경상북도 구미시 산동면 백현리 79  36.186429   \n",
       "1  47190-00128   둘모아공원  어린이공원      NaN   경상북도 구미시 봉곡동 584-2  36.148431   \n",
       "2  47190-00129   다붓소공원    소공원      NaN  경상북도 구미시 봉곡동 765 일원  36.155883   \n",
       "3  47190-00130   다붓1공원  어린이공원      NaN   경상북도 구미시 봉곡동 457-1  36.156392   \n",
       "4  47190-00131   다붓2공원  어린이공원      NaN     경상북도 구미시 봉곡동 767  36.154808   \n",
       "\n",
       "           경도     공원면적 공원보유시설(운동시설) 공원보유시설(유희시설) 공원보유시설(편익시설) 공원보유시설(교양시설)  \\\n",
       "0  128.478491  90967.0          NaN          NaN          NaN          NaN   \n",
       "1  128.316594   4279.0          NaN          NaN          NaN          NaN   \n",
       "2  128.311526    805.0          NaN          NaN          NaN          NaN   \n",
       "3  128.314372   1585.0          NaN          NaN          NaN          NaN   \n",
       "4  128.314372   1637.0          NaN          NaN          NaN          NaN   \n",
       "\n",
       "  공원보유시설(기타시설) 지정고시일 관리기관명 전화번호     데이터기준일자   제공기관코드     제공기관명  \n",
       "0          NaN   NaN   NaN  NaN  2022-06-09  5080000  경상북도 구미시  \n",
       "1          NaN   NaN   NaN  NaN  2022-06-09  5080000  경상북도 구미시  \n",
       "2          NaN   NaN   NaN  NaN  2022-06-09  5080000  경상북도 구미시  \n",
       "3          NaN   NaN   NaN  NaN  2022-06-09  5080000  경상북도 구미시  \n",
       "4          NaN   NaN   NaN  NaN  2022-06-09  5080000  경상북도 구미시  "
      ]
     },
     "execution_count": 26,
     "metadata": {},
     "output_type": "execute_result"
    }
   ],
   "source": [
    "# 데이터 로드\n",
    "df = pd.read_csv('전국도시공원정보표준데이터.csv',encoding='cp949')\n",
    "df.head()"
   ]
  },
  {
   "cell_type": "code",
   "execution_count": 27,
   "id": "813a1ade",
   "metadata": {},
   "outputs": [
    {
     "name": "stdout",
     "output_type": "stream",
     "text": [
      "<class 'pandas.core.frame.DataFrame'>\n",
      "RangeIndex: 18400 entries, 0 to 18399\n",
      "Data columns (total 19 columns):\n",
      " #   Column        Non-Null Count  Dtype  \n",
      "---  ------        --------------  -----  \n",
      " 0   관리번호          18400 non-null  object \n",
      " 1   공원명           18400 non-null  object \n",
      " 2   공원구분          18400 non-null  object \n",
      " 3   소재지도로명주소      5357 non-null   object \n",
      " 4   소재지지번주소       17916 non-null  object \n",
      " 5   위도            18207 non-null  float64\n",
      " 6   경도            18200 non-null  float64\n",
      " 7   공원면적          18400 non-null  float64\n",
      " 8   공원보유시설(운동시설)  4978 non-null   object \n",
      " 9   공원보유시설(유희시설)  6574 non-null   object \n",
      " 10  공원보유시설(편익시설)  5315 non-null   object \n",
      " 11  공원보유시설(교양시설)  899 non-null    object \n",
      " 12  공원보유시설(기타시설)  2846 non-null   object \n",
      " 13  지정고시일         15997 non-null  object \n",
      " 14  관리기관명         17457 non-null  object \n",
      " 15  전화번호          17074 non-null  object \n",
      " 16  데이터기준일자       18400 non-null  object \n",
      " 17  제공기관코드        18400 non-null  object \n",
      " 18  제공기관명         18400 non-null  object \n",
      "dtypes: float64(3), object(16)\n",
      "memory usage: 2.7+ MB\n"
     ]
    }
   ],
   "source": [
    "df.info()"
   ]
  },
  {
   "cell_type": "code",
   "execution_count": 28,
   "id": "b135f5ee",
   "metadata": {},
   "outputs": [
    {
     "data": {
      "text/plain": [
       "<AxesSubplot:>"
      ]
     },
     "execution_count": 28,
     "metadata": {},
     "output_type": "execute_result"
    },
    {
     "data": {
      "image/png": "[encoded data removed]",
      "text/plain": [
       "<Figure size 432x288 with 1 Axes>"
      ]
     },
     "metadata": {
      "needs_background": "light"
     },
     "output_type": "display_data"
    }
   ],
   "source": [
    "df.isna().mean().plot.barh()"
   ]
  },
  {
   "cell_type": "code",
   "execution_count": 29,
   "id": "aa35fa0c",
   "metadata": {},
   "outputs": [
    {
     "data": {
      "text/plain": [
       "Index(['공원보유시설(운동시설)', '공원보유시설(유희시설)', '공원보유시설(편익시설)', '공원보유시설(교양시설)',\n",
       "       '공원보유시설(기타시설)'],\n",
       "      dtype='object')"
      ]
     },
     "execution_count": 29,
     "metadata": {},
     "output_type": "execute_result"
    }
   ],
   "source": [
    "remove_cols = df.columns[ df.isna().mean() > 0.5]\n",
    "remove_cols = remove_cols[1:]\n",
    "remove_cols"
   ]
  },
  {
   "cell_type": "code",
   "execution_count": 30,
   "id": "36007684",
   "metadata": {},
   "outputs": [
    {
     "data": {
      "text/plain": [
       "관리번호        0.000000\n",
       "공원명         0.000000\n",
       "공원구분        0.000000\n",
       "소재지도로명주소    0.708859\n",
       "소재지지번주소     0.026304\n",
       "위도          0.010489\n",
       "경도          0.010870\n",
       "공원면적        0.000000\n",
       "지정고시일       0.130598\n",
       "관리기관명       0.051250\n",
       "전화번호        0.072065\n",
       "데이터기준일자     0.000000\n",
       "제공기관코드      0.000000\n",
       "제공기관명       0.000000\n",
       "dtype: float64"
      ]
     },
     "execution_count": 30,
     "metadata": {},
     "output_type": "execute_result"
    }
   ],
   "source": [
    "df2 =  df.drop(columns=remove_cols).copy()\n",
    "df2.isna().mean()"
   ]
  },
  {
   "cell_type": "code",
   "execution_count": 31,
   "id": "831f4ce0",
   "metadata": {},
   "outputs": [
    {
     "data": {
      "text/plain": [
       "484"
      ]
     },
     "execution_count": 31,
     "metadata": {},
     "output_type": "execute_result"
    }
   ],
   "source": [
    "(df2['소재지지번주소'].isnull() & df2['소재지도로명주소'].notnull()).sum()"
   ]
  },
  {
   "cell_type": "code",
   "execution_count": 32,
   "id": "590a8967",
   "metadata": {},
   "outputs": [],
   "source": [
    "df2['소재지지번주소'] = df2['소재지지번주소'].fillna(df2['소재지도로명주소'])"
   ]
  },
  {
   "cell_type": "code",
   "execution_count": 33,
   "id": "3d62dbdf",
   "metadata": {},
   "outputs": [
    {
     "data": {
      "text/plain": [
       "관리번호        0.000000\n",
       "공원명         0.000000\n",
       "공원구분        0.000000\n",
       "소재지도로명주소    0.708859\n",
       "소재지지번주소     0.000000\n",
       "위도          0.010489\n",
       "경도          0.010870\n",
       "공원면적        0.000000\n",
       "지정고시일       0.130598\n",
       "관리기관명       0.051250\n",
       "전화번호        0.072065\n",
       "데이터기준일자     0.000000\n",
       "제공기관코드      0.000000\n",
       "제공기관명       0.000000\n",
       "dtype: float64"
      ]
     },
     "execution_count": 33,
     "metadata": {},
     "output_type": "execute_result"
    }
   ],
   "source": [
    "df2.isnull().mean()"
   ]
  },
  {
   "cell_type": "code",
   "execution_count": 34,
   "id": "8360fae6",
   "metadata": {},
   "outputs": [
    {
     "data": {
      "text/html": [
       "<div>\n",
       "<style scoped>\n",
       "    .dataframe tbody tr th:only-of-type {\n",
       "        vertical-align: middle;\n",
       "    }\n",
       "\n",
       "    .dataframe tbody tr th {\n",
       "        vertical-align: top;\n",
       "    }\n",
       "\n",
       "    .dataframe thead th {\n",
       "        text-align: right;\n",
       "    }\n",
       "</style>\n",
       "<table border=\"1\" class=\"dataframe\">\n",
       "  <thead>\n",
       "    <tr style=\"text-align: right;\">\n",
       "      <th></th>\n",
       "      <th>관리번호</th>\n",
       "      <th>공원명</th>\n",
       "      <th>공원구분</th>\n",
       "      <th>소재지도로명주소</th>\n",
       "      <th>소재지지번주소</th>\n",
       "      <th>위도</th>\n",
       "      <th>경도</th>\n",
       "      <th>공원면적</th>\n",
       "      <th>지정고시일</th>\n",
       "      <th>관리기관명</th>\n",
       "      <th>전화번호</th>\n",
       "      <th>데이터기준일자</th>\n",
       "      <th>제공기관코드</th>\n",
       "      <th>제공기관명</th>\n",
       "    </tr>\n",
       "  </thead>\n",
       "  <tbody>\n",
       "    <tr>\n",
       "      <th>0</th>\n",
       "      <td>47190-00127</td>\n",
       "      <td>백현체육공원</td>\n",
       "      <td>체육공원</td>\n",
       "      <td>NaN</td>\n",
       "      <td>경상북도 구미시 산동면 백현리 79</td>\n",
       "      <td>36.186429</td>\n",
       "      <td>128.478491</td>\n",
       "      <td>90967.0</td>\n",
       "      <td>NaN</td>\n",
       "      <td>NaN</td>\n",
       "      <td>NaN</td>\n",
       "      <td>2022-06-09</td>\n",
       "      <td>5080000</td>\n",
       "      <td>경상북도 구미시</td>\n",
       "    </tr>\n",
       "    <tr>\n",
       "      <th>1</th>\n",
       "      <td>47190-00128</td>\n",
       "      <td>둘모아공원</td>\n",
       "      <td>어린이공원</td>\n",
       "      <td>NaN</td>\n",
       "      <td>경상북도 구미시 봉곡동 584-2</td>\n",
       "      <td>36.148431</td>\n",
       "      <td>128.316594</td>\n",
       "      <td>4279.0</td>\n",
       "      <td>NaN</td>\n",
       "      <td>NaN</td>\n",
       "      <td>NaN</td>\n",
       "      <td>2022-06-09</td>\n",
       "      <td>5080000</td>\n",
       "      <td>경상북도 구미시</td>\n",
       "    </tr>\n",
       "    <tr>\n",
       "      <th>2</th>\n",
       "      <td>47190-00129</td>\n",
       "      <td>다붓소공원</td>\n",
       "      <td>소공원</td>\n",
       "      <td>NaN</td>\n",
       "      <td>경상북도 구미시 봉곡동 765 일원</td>\n",
       "      <td>36.155883</td>\n",
       "      <td>128.311526</td>\n",
       "      <td>805.0</td>\n",
       "      <td>NaN</td>\n",
       "      <td>NaN</td>\n",
       "      <td>NaN</td>\n",
       "      <td>2022-06-09</td>\n",
       "      <td>5080000</td>\n",
       "      <td>경상북도 구미시</td>\n",
       "    </tr>\n",
       "    <tr>\n",
       "      <th>3</th>\n",
       "      <td>47190-00130</td>\n",
       "      <td>다붓1공원</td>\n",
       "      <td>어린이공원</td>\n",
       "      <td>NaN</td>\n",
       "      <td>경상북도 구미시 봉곡동 457-1</td>\n",
       "      <td>36.156392</td>\n",
       "      <td>128.314372</td>\n",
       "      <td>1585.0</td>\n",
       "      <td>NaN</td>\n",
       "      <td>NaN</td>\n",
       "      <td>NaN</td>\n",
       "      <td>2022-06-09</td>\n",
       "      <td>5080000</td>\n",
       "      <td>경상북도 구미시</td>\n",
       "    </tr>\n",
       "    <tr>\n",
       "      <th>4</th>\n",
       "      <td>47190-00131</td>\n",
       "      <td>다붓2공원</td>\n",
       "      <td>어린이공원</td>\n",
       "      <td>NaN</td>\n",
       "      <td>경상북도 구미시 봉곡동 767</td>\n",
       "      <td>36.154808</td>\n",
       "      <td>128.314372</td>\n",
       "      <td>1637.0</td>\n",
       "      <td>NaN</td>\n",
       "      <td>NaN</td>\n",
       "      <td>NaN</td>\n",
       "      <td>2022-06-09</td>\n",
       "      <td>5080000</td>\n",
       "      <td>경상북도 구미시</td>\n",
       "    </tr>\n",
       "  </tbody>\n",
       "</table>\n",
       "</div>"
      ],
      "text/plain": [
       "          관리번호     공원명   공원구분 소재지도로명주소              소재지지번주소         위도  \\\n",
       "0  47190-00127  백현체육공원   체육공원      NaN  경상북도 구미시 산동면 백현리 79  36.186429   \n",
       "1  47190-00128   둘모아공원  어린이공원      NaN   경상북도 구미시 봉곡동 584-2  36.148431   \n",
       "2  47190-00129   다붓소공원    소공원      NaN  경상북도 구미시 봉곡동 765 일원  36.155883   \n",
       "3  47190-00130   다붓1공원  어린이공원      NaN   경상북도 구미시 봉곡동 457-1  36.156392   \n",
       "4  47190-00131   다붓2공원  어린이공원      NaN     경상북도 구미시 봉곡동 767  36.154808   \n",
       "\n",
       "           경도     공원면적 지정고시일 관리기관명 전화번호     데이터기준일자   제공기관코드     제공기관명  \n",
       "0  128.478491  90967.0   NaN   NaN  NaN  2022-06-09  5080000  경상북도 구미시  \n",
       "1  128.316594   4279.0   NaN   NaN  NaN  2022-06-09  5080000  경상북도 구미시  \n",
       "2  128.311526    805.0   NaN   NaN  NaN  2022-06-09  5080000  경상북도 구미시  \n",
       "3  128.314372   1585.0   NaN   NaN  NaN  2022-06-09  5080000  경상북도 구미시  \n",
       "4  128.314372   1637.0   NaN   NaN  NaN  2022-06-09  5080000  경상북도 구미시  "
      ]
     },
     "execution_count": 34,
     "metadata": {},
     "output_type": "execute_result"
    }
   ],
   "source": [
    "df2.head()"
   ]
  },
  {
   "cell_type": "code",
   "execution_count": 78,
   "id": "420b7958",
   "metadata": {},
   "outputs": [],
   "source": [
    "df2['시도'] =  df2['제공기관명'].str.split(expand=True)[0]"
   ]
  },
  {
   "cell_type": "code",
   "execution_count": 79,
   "id": "aec30773",
   "metadata": {},
   "outputs": [
    {
     "data": {
      "text/plain": [
       "array(['경상북도', '울산광역시', '서울특별시', '경기도', '인천광역시', '강원도', '경상남도', '전라남도',\n",
       "       '부산광역시', '대전광역시', '대구광역시', '제주특별자치도', '전라북도', '충청남도', '광주광역시',\n",
       "       '충청북도', '부산관광공사', '인천시설공단', '울산시설공단', '세종특별자치시', '기장군도시관리공단'],\n",
       "      dtype=object)"
      ]
     },
     "execution_count": 79,
     "metadata": {},
     "output_type": "execute_result"
    }
   ],
   "source": [
    "df2['시도'].unique()"
   ]
  },
  {
   "cell_type": "code",
   "execution_count": 97,
   "id": "1cb701ba",
   "metadata": {},
   "outputs": [
    {
     "name": "stderr",
     "output_type": "stream",
     "text": [
      "C:\\Users\\user\\AppData\\Local\\Temp\\ipykernel_11360\\3115052670.py:2: SettingWithCopyWarning: \n",
      "A value is trying to be set on a copy of a slice from a DataFrame.\n",
      "Try using .loc[row_indexer,col_indexer] = value instead\n",
      "\n",
      "See the caveats in the documentation: https://pandas.pydata.org/pandas-docs/stable/user_guide/indexing.html#returning-a-view-versus-a-copy\n",
      "  df2[df2['시도'] == '부산관광공사']['시도'] = '부산광역시'\n"
     ]
    }
   ],
   "source": [
    "# 부산관광공사 , 기장군도시관리공단\n",
    "df2[df2['시도'] == '부산관광공사']['시도'] = '부산광역시'\n",
    "\n",
    "# df2['시도'] == '기장군도시관리공단'"
   ]
  },
  {
   "cell_type": "code",
   "execution_count": 99,
   "id": "a4f7a626",
   "metadata": {},
   "outputs": [
    {
     "name": "stderr",
     "output_type": "stream",
     "text": [
      "C:\\Users\\user\\AppData\\Local\\Temp\\ipykernel_11360\\1738551941.py:1: SettingWithCopyWarning: \n",
      "A value is trying to be set on a copy of a slice from a DataFrame.\n",
      "Try using .loc[row_indexer,col_indexer] = value instead\n",
      "\n",
      "See the caveats in the documentation: https://pandas.pydata.org/pandas-docs/stable/user_guide/indexing.html#returning-a-view-versus-a-copy\n",
      "  df2[df2['시도'] == '기장군도시관리공단']['시도'] = '부산광역시'\n"
     ]
    }
   ],
   "source": [
    "df2[df2['시도'] == '기장군도시관리공단']['시도'] = '부산광역시'"
   ]
  },
  {
   "cell_type": "code",
   "execution_count": 100,
   "id": "8c8c5a8a",
   "metadata": {},
   "outputs": [
    {
     "data": {
      "text/plain": [
       "array(['경상북도', '울산광역시', '서울특별시', '경기도', '인천광역시', '강원도', '경상남도', '전라남도',\n",
       "       '부산광역시', '대전광역시', '대구광역시', '제주특별자치도', '전라북도', '충청남도', '광주광역시',\n",
       "       '충청북도', '부산관광공사', '인천시설공단', '울산시설공단', '세종특별자치시', '기장군도시관리공단'],\n",
       "      dtype=object)"
      ]
     },
     "execution_count": 100,
     "metadata": {},
     "output_type": "execute_result"
    }
   ],
   "source": [
    "df2['시도'].unique()"
   ]
  }
 ],
 "metadata": {
  "kernelspec": {
   "display_name": "Python 3 (ipykernel)",
   "language": "python",
   "name": "python3"
  },
  "language_info": {
   "codemirror_mode": {
    "name": "ipython",
    "version": 3
   },
   "file_extension": ".py",
   "mimetype": "text/x-python",
   "name": "python",
   "nbconvert_exporter": "python",
   "pygments_lexer": "ipython3",
   "version": "3.9.12"
  }
 },
 "nbformat": 4,
 "nbformat_minor": 5
}
