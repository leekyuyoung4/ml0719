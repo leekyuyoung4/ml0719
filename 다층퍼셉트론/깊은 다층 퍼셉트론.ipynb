{
 "cells": [
  {
   "cell_type": "code",
   "execution_count": 1,
   "id": "972adbf3",
   "metadata": {},
   "outputs": [],
   "source": [
    "# MNIST로 인식"
   ]
  },
  {
   "cell_type": "code",
   "execution_count": 1,
   "id": "026ef96f",
   "metadata": {},
   "outputs": [],
   "source": [
    "import numpy as np\n",
    "import pandas as pd\n",
    "import seaborn as sns\n",
    "import tensorflow as tf\n",
    "from tensorflow.keras.datasets import mnist\n",
    "from tensorflow.keras.models import Sequential\n",
    "from tensorflow.keras.layers import Dense\n",
    "from tensorflow.keras.optimizers import Adam"
   ]
  },
  {
   "cell_type": "code",
   "execution_count": 2,
   "id": "a7dc187c",
   "metadata": {},
   "outputs": [],
   "source": [
    "(x_train,y_train),(x_test,y_test)= mnist.load_data()"
   ]
  },
  {
   "cell_type": "code",
   "execution_count": 3,
   "id": "bf3e7a63",
   "metadata": {},
   "outputs": [],
   "source": [
    "# 층이 5개인 딥 러닝 모델\n",
    "\n",
    "# 데이터 텐서모양 변경 : 2차원\n",
    "# 표준화(0 ~ 1) - 학습\n",
    "# 정답은 one hot encoding\n",
    "# 딥러닝 모델구조를 Sequential\n",
    "# hidden layer : Dense 를 3\n",
    "# 컴파일\n",
    "# 학습 : hist변수로 받아서 차후에 시각화\n",
    "# 정확률 측정\n",
    "# hist를 이용해서  시각화를 통해 최적의 epoch를 유추"
   ]
  },
  {
   "cell_type": "code",
   "execution_count": 4,
   "id": "00c80e9b",
   "metadata": {},
   "outputs": [],
   "source": [
    "x_train = x_train.reshape(-1,28*28)\n",
    "x_test = x_test.reshape(-1,28*28)\n",
    "x_train = x_train.astype(np.float32) / 255.0\n",
    "x_test = x_test.astype(np.float32) / 255.0\n",
    "y_train = tf.keras.utils.to_categorical(y_train)\n",
    "y_test = tf.keras.utils.to_categorical(y_test)"
   ]
  },
  {
   "cell_type": "code",
   "execution_count": 5,
   "id": "e953d5ed",
   "metadata": {},
   "outputs": [],
   "source": [
    "# 최초\n",
    "n_input = 28*28\n",
    "n_hidden1 = 28*28*2\n",
    "n_hidden2 = n_hidden1 / 2\n",
    "n_hidden3 = n_hidden2 / 2\n",
    "n_output = 10"
   ]
  },
  {
   "cell_type": "code",
   "execution_count": 7,
   "id": "329530ff",
   "metadata": {},
   "outputs": [],
   "source": [
    "# 신경망 구조 설계\n",
    "model = Sequential()\n",
    "#입력층과 연결되는 Dense\n",
    "dense1= Dense(units=n_hidden1,input_shape=(n_input,)\n",
    "              , kernel_initializer='random_uniform',activation='tanh')\n",
    "dense2= Dense(units=n_hidden2,activation='tanh')\n",
    "dense3= Dense(units=n_hidden3,activation='tanh')\n",
    "# 출력층 Dense\n",
    "dense4= Dense(units=n_output,activation='tanh')\n",
    "model.add(dense1)\n",
    "model.add(dense2)\n",
    "model.add(dense3)\n",
    "model.add(dense4)"
   ]
  },
  {
   "cell_type": "code",
   "execution_count": 8,
   "id": "1c8041b7",
   "metadata": {},
   "outputs": [],
   "source": [
    "# 신경망 학습\n",
    "model.compile(loss='mean_squared_error'\n",
    "              ,optimizer=Adam(learning_rate=0.001),metrics=['accuracy'])"
   ]
  },
  {
   "cell_type": "code",
   "execution_count": null,
   "id": "e792ce67",
   "metadata": {},
   "outputs": [
    {
     "name": "stdout",
     "output_type": "stream",
     "text": [
      "Epoch 1/30\n",
      "469/469 [==============================] - 16s 33ms/step - loss: 0.3176 - accuracy: 0.0996 - val_loss: 0.2797 - val_accuracy: 0.1032\n",
      "Epoch 2/30\n",
      "469/469 [==============================] - 17s 35ms/step - loss: 0.2779 - accuracy: 0.0993 - val_loss: 0.2767 - val_accuracy: 0.1032\n",
      "Epoch 3/30\n",
      "469/469 [==============================] - 15s 33ms/step - loss: 0.2759 - accuracy: 0.0993 - val_loss: 0.2759 - val_accuracy: 0.1032\n",
      "Epoch 4/30\n",
      "469/469 [==============================] - 14s 31ms/step - loss: 0.2748 - accuracy: 0.0993 - val_loss: 0.2748 - val_accuracy: 0.1032\n",
      "Epoch 5/30\n",
      "469/469 [==============================] - 14s 29ms/step - loss: 0.2742 - accuracy: 0.0993 - val_loss: 0.2750 - val_accuracy: 0.1032\n",
      "Epoch 6/30\n",
      "469/469 [==============================] - 14s 29ms/step - loss: 0.2737 - accuracy: 0.0993 - val_loss: 0.2744 - val_accuracy: 0.1032\n",
      "Epoch 7/30\n",
      "469/469 [==============================] - 13s 29ms/step - loss: 0.2733 - accuracy: 0.0993 - val_loss: 0.2741 - val_accuracy: 0.1032\n",
      "Epoch 8/30\n",
      "469/469 [==============================] - 13s 29ms/step - loss: 0.2731 - accuracy: 0.0993 - val_loss: 0.2738 - val_accuracy: 0.1032\n",
      "Epoch 9/30\n",
      "469/469 [==============================] - 13s 29ms/step - loss: 0.2728 - accuracy: 0.0993 - val_loss: 0.2742 - val_accuracy: 0.1032\n",
      "Epoch 10/30\n",
      "469/469 [==============================] - 14s 29ms/step - loss: 0.2727 - accuracy: 0.0993 - val_loss: 0.2738 - val_accuracy: 0.1032\n",
      "Epoch 11/30\n",
      "469/469 [==============================] - 14s 29ms/step - loss: 0.2725 - accuracy: 0.0993 - val_loss: 0.2740 - val_accuracy: 0.1032\n",
      "Epoch 12/30\n",
      "469/469 [==============================] - 14s 30ms/step - loss: 0.2725 - accuracy: 0.0993 - val_loss: 0.2735 - val_accuracy: 0.1032\n",
      "Epoch 13/30\n",
      " 97/469 [=====>........................] - ETA: 10s - loss: 0.2725 - accuracy: 0.0975"
     ]
    }
   ],
   "source": [
    "hist = model.fit(x_train, y_train, batch_size=128\n",
    "          , epochs=30, validation_data=(x_test,y_test))"
   ]
  },
  {
   "cell_type": "code",
   "execution_count": null,
   "id": "d73cc8c0",
   "metadata": {},
   "outputs": [],
   "source": []
  }
 ],
 "metadata": {
  "kernelspec": {
   "display_name": "Python 3 (ipykernel)",
   "language": "python",
   "name": "python3"
  },
  "language_info": {
   "codemirror_mode": {
    "name": "ipython",
    "version": 3
   },
   "file_extension": ".py",
   "mimetype": "text/x-python",
   "name": "python",
   "nbconvert_exporter": "python",
   "pygments_lexer": "ipython3",
   "version": "3.9.12"
  }
 },
 "nbformat": 4,
 "nbformat_minor": 5
}
