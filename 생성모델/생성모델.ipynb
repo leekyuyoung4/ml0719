{
 "cells": [
  {
   "cell_type": "code",
   "execution_count": 1,
   "id": "92bd9d53",
   "metadata": {},
   "outputs": [],
   "source": [
    "# 분별 모델\n",
    "# 표정을보고 상대의 감정을 읽는다 - SVM, 다층퍼셉트론,컨볼류션 신경망, LSTM, 강화학습"
   ]
  },
  {
   "cell_type": "code",
   "execution_count": 2,
   "id": "bdd75218",
   "metadata": {},
   "outputs": [],
   "source": [
    "# 생성모델\n",
    "# GAN "
   ]
  },
  {
   "cell_type": "code",
   "execution_count": 3,
   "id": "522cdbea",
   "metadata": {},
   "outputs": [],
   "source": [
    "# 확률생성 모델을 MNIST 필기 숫자에 적용\n",
    "import numpy as np\n",
    "from tensorflow.keras.datasets import mnist"
   ]
  },
  {
   "cell_type": "code",
   "execution_count": 4,
   "id": "bf529383",
   "metadata": {},
   "outputs": [],
   "source": [
    "# 0만 추출\n",
    "(x_train,y_train),(x_test,y_test) =  mnist.load_data()"
   ]
  },
  {
   "cell_type": "code",
   "execution_count": 71,
   "id": "3acc3965",
   "metadata": {},
   "outputs": [],
   "source": [
    "# X = x_train[y_train==0]\n",
    "X=x_train[np.isin(y_train,[0])]"
   ]
  },
  {
   "cell_type": "code",
   "execution_count": 72,
   "id": "8e23ff15",
   "metadata": {},
   "outputs": [
    {
     "data": {
      "text/plain": [
       "<matplotlib.image.AxesImage at 0x23c4eb77c10>"
      ]
     },
     "execution_count": 72,
     "metadata": {},
     "output_type": "execute_result"
    },
    {
     "data": {
      "image/png": "[encoded data removed]",
      "text/plain": [
       "<Figure size 432x288 with 1 Axes>"
      ]
     },
     "metadata": {
      "needs_background": "light"
     },
     "output_type": "display_data"
    }
   ],
   "source": [
    "import matplotlib.pyplot as plt\n",
    "plt.imshow(X[-2],cmap='gray_r')"
   ]
  },
  {
   "cell_type": "code",
   "execution_count": 84,
   "id": "5e1785b1",
   "metadata": {},
   "outputs": [],
   "source": [
    "import numpy as np\n",
    "from tensorflow.keras.datasets import mnist\n",
    "\n",
    "# MNIST 데이터를 읽고 0 패턴만 추출\n",
    "(x_train,y_train),(x_test,y_test)=mnist.load_data()\n",
    "X=x_train[np.isin(y_train,[0])]\n",
    "\n",
    "# 화소 수준의 확률 생성 모델 구축\n",
    "P=np.zeros((28,28,256))\n",
    "for k in range(X.shape[0]):\n",
    "    for i in range(X.shape[1]):\n",
    "        for j in range(X.shape[2]):\n",
    "            P[i][j][X[k][i][j]]+=1\n",
    "P=P/X.shape[0]\n",
    "\n",
    "# 확률 생성 모델을 이용하여 20개 샘플을 생성\n",
    "Xnew=np.zeros((20,28,28))\n",
    "for i in range(20):\n",
    "    for r in range(28):\n",
    "        for c in range(28):\n",
    "            Xnew[i][r][c]=np.random.choice(range(256),p=P[r][c])"
   ]
  },
  {
   "cell_type": "code",
   "execution_count": 87,
   "id": "85473e35",
   "metadata": {},
   "outputs": [
    {
     "data": {
      "text/plain": [
       "<matplotlib.image.AxesImage at 0x23c4720ad90>"
      ]
     },
     "execution_count": 87,
     "metadata": {},
     "output_type": "execute_result"
    },
    {
     "data": {
      "image/png": "[encoded data removed]",
      "text/plain": [
       "<Figure size 432x288 with 1 Axes>"
      ]
     },
     "metadata": {
      "needs_background": "light"
     },
     "output_type": "display_data"
    }
   ],
   "source": [
    "plt.imshow(Xnew[0],cmap='gray')"
   ]
  },
  {
   "cell_type": "code",
   "execution_count": null,
   "id": "8fb1fdc5",
   "metadata": {},
   "outputs": [],
   "source": []
  }
 ],
 "metadata": {
  "kernelspec": {
   "display_name": "Python 3 (ipykernel)",
   "language": "python",
   "name": "python3"
  },
  "language_info": {
   "codemirror_mode": {
    "name": "ipython",
    "version": 3
   },
   "file_extension": ".py",
   "mimetype": "text/x-python",
   "name": "python",
   "nbconvert_exporter": "python",
   "pygments_lexer": "ipython3",
   "version": "3.9.12"
  }
 },
 "nbformat": 4,
 "nbformat_minor": 5
}
