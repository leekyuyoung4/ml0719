{
 "cells": [
  {
   "cell_type": "code",
   "execution_count": 3,
   "id": "b710ccea",
   "metadata": {},
   "outputs": [],
   "source": [
    "from tensorflow.keras.datasets import imdb\n",
    "(train_in,train_target),(test_in,test_target) =  imdb.load_data(num_words=500)"
   ]
  },
  {
   "cell_type": "code",
   "execution_count": 4,
   "id": "c77a6272",
   "metadata": {},
   "outputs": [],
   "source": [
    "from sklearn.model_selection import train_test_split\n",
    "x_train,x_test,y_train,y_test =  train_test_split(train_in, train_target,test_size=0.2,random_state=42)"
   ]
  },
  {
   "cell_type": "code",
   "execution_count": 6,
   "id": "d73044c3",
   "metadata": {},
   "outputs": [],
   "source": [
    "import numpy as np\n",
    "lengths =  np.array([ len(se) for se in x_train])"
   ]
  },
  {
   "cell_type": "code",
   "execution_count": 8,
   "id": "9fdc3ba8",
   "metadata": {},
   "outputs": [
    {
     "data": {
      "image/png": "[encoded data removed]",
      "text/plain": [
       "<Figure size 432x288 with 1 Axes>"
      ]
     },
     "metadata": {
      "needs_background": "light"
     },
     "output_type": "display_data"
    }
   ],
   "source": [
    "import matplotlib.pyplot as plt\n",
    "plt.hist(lengths)\n",
    "plt.xlabel('lenght')\n",
    "plt.ylabel('frequency')\n",
    "plt.show()"
   ]
  },
  {
   "cell_type": "code",
   "execution_count": 16,
   "id": "f0d13985",
   "metadata": {},
   "outputs": [
    {
     "data": {
      "text/plain": [
       "(20000, 100)"
      ]
     },
     "execution_count": 16,
     "metadata": {},
     "output_type": "execute_result"
    }
   ],
   "source": [
    "from tensorflow.keras.preprocessing.sequence import pad_sequences\n",
    "train_seq = pad_sequences(x_train,maxlen=100)\n",
    "train_seq.shape"
   ]
  },
  {
   "cell_type": "code",
   "execution_count": 15,
   "id": "4c6ce03e",
   "metadata": {},
   "outputs": [
    {
     "data": {
      "text/plain": [
       "(5000, 100)"
      ]
     },
     "execution_count": 15,
     "metadata": {},
     "output_type": "execute_result"
    }
   ],
   "source": [
    "val_seq = pad_sequences(x_test,maxlen=100)\n",
    "val_seq.shape"
   ]
  },
  {
   "cell_type": "code",
   "execution_count": 47,
   "id": "340a6eed",
   "metadata": {},
   "outputs": [
    {
     "data": {
      "text/plain": [
       "(10000, 100, 500)"
      ]
     },
     "execution_count": 47,
     "metadata": {},
     "output_type": "execute_result"
    }
   ],
   "source": [
    "train_oh = keras.utils.to_categorical(train_seq[:10000])\n",
    "train_oh.shape"
   ]
  },
  {
   "cell_type": "code",
   "execution_count": 23,
   "id": "55cbc633",
   "metadata": {},
   "outputs": [
    {
     "data": {
      "text/plain": [
       "(5000, 100)"
      ]
     },
     "execution_count": 23,
     "metadata": {},
     "output_type": "execute_result"
    }
   ],
   "source": [
    "val_seq.shape"
   ]
  },
  {
   "cell_type": "code",
   "execution_count": 48,
   "id": "7d597c51",
   "metadata": {},
   "outputs": [],
   "source": [
    "val_oh = keras.utils.to_categorical(val_seq[:2500])"
   ]
  },
  {
   "cell_type": "code",
   "execution_count": 25,
   "id": "27875b49",
   "metadata": {},
   "outputs": [
    {
     "name": "stdout",
     "output_type": "stream",
     "text": [
      "Model: \"sequential_2\"\n",
      "_________________________________________________________________\n",
      " Layer (type)                Output Shape              Param #   \n",
      "=================================================================\n",
      " simple_rnn (SimpleRNN)      (None, 8)                 4072      \n",
      "                                                                 \n",
      " dense (Dense)               (None, 1)                 9         \n",
      "                                                                 \n",
      "=================================================================\n",
      "Total params: 4,081\n",
      "Trainable params: 4,081\n",
      "Non-trainable params: 0\n",
      "_________________________________________________________________\n"
     ]
    }
   ],
   "source": [
    "model.summary()"
   ]
  },
  {
   "cell_type": "code",
   "execution_count": 73,
   "id": "ffb4399c",
   "metadata": {},
   "outputs": [
    {
     "name": "stdout",
     "output_type": "stream",
     "text": [
      "Epoch 1/100\n",
      "157/157 [==============================] - 5s 29ms/step - loss: 0.6991 - accuracy: 0.5001 - val_loss: 0.6953 - val_accuracy: 0.5168\n",
      "Epoch 2/100\n",
      "157/157 [==============================] - 4s 26ms/step - loss: 0.6829 - accuracy: 0.5597 - val_loss: 0.6714 - val_accuracy: 0.5960\n",
      "Epoch 3/100\n",
      "157/157 [==============================] - 4s 26ms/step - loss: 0.6488 - accuracy: 0.6462 - val_loss: 0.6461 - val_accuracy: 0.6424\n",
      "Epoch 4/100\n",
      "157/157 [==============================] - 4s 26ms/step - loss: 0.6146 - accuracy: 0.6918 - val_loss: 0.6200 - val_accuracy: 0.6796\n",
      "Epoch 5/100\n",
      "157/157 [==============================] - 4s 27ms/step - loss: 0.5781 - accuracy: 0.7310 - val_loss: 0.5849 - val_accuracy: 0.7088\n",
      "Epoch 6/100\n",
      "157/157 [==============================] - 4s 27ms/step - loss: 0.5467 - accuracy: 0.7567 - val_loss: 0.5748 - val_accuracy: 0.7200\n",
      "Epoch 7/100\n",
      "157/157 [==============================] - 4s 25ms/step - loss: 0.5200 - accuracy: 0.7717 - val_loss: 0.5972 - val_accuracy: 0.6808\n",
      "Epoch 8/100\n",
      "157/157 [==============================] - 4s 26ms/step - loss: 0.4961 - accuracy: 0.7870 - val_loss: 0.5504 - val_accuracy: 0.7244\n",
      "Epoch 9/100\n",
      "157/157 [==============================] - 4s 26ms/step - loss: 0.4763 - accuracy: 0.7956 - val_loss: 0.5130 - val_accuracy: 0.7572\n",
      "Epoch 10/100\n",
      "157/157 [==============================] - 4s 26ms/step - loss: 0.4610 - accuracy: 0.8030 - val_loss: 0.5127 - val_accuracy: 0.7504\n",
      "Epoch 11/100\n",
      "157/157 [==============================] - 4s 25ms/step - loss: 0.4461 - accuracy: 0.8104 - val_loss: 0.5129 - val_accuracy: 0.7516\n",
      "Epoch 12/100\n",
      "157/157 [==============================] - 4s 26ms/step - loss: 0.4341 - accuracy: 0.8152 - val_loss: 0.4962 - val_accuracy: 0.7636\n",
      "Epoch 13/100\n",
      "157/157 [==============================] - 4s 24ms/step - loss: 0.4247 - accuracy: 0.8192 - val_loss: 0.5016 - val_accuracy: 0.7580\n",
      "Epoch 14/100\n",
      "157/157 [==============================] - 4s 26ms/step - loss: 0.4148 - accuracy: 0.8231 - val_loss: 0.4894 - val_accuracy: 0.7736\n",
      "Epoch 15/100\n",
      "157/157 [==============================] - 4s 26ms/step - loss: 0.4078 - accuracy: 0.8242 - val_loss: 0.4890 - val_accuracy: 0.7760\n",
      "Epoch 16/100\n",
      "157/157 [==============================] - 4s 25ms/step - loss: 0.4023 - accuracy: 0.8280 - val_loss: 0.4943 - val_accuracy: 0.7760\n",
      "Epoch 17/100\n",
      "157/157 [==============================] - 4s 25ms/step - loss: 0.3956 - accuracy: 0.8328 - val_loss: 0.4921 - val_accuracy: 0.7688\n",
      "Epoch 18/100\n",
      "157/157 [==============================] - 4s 23ms/step - loss: 0.3921 - accuracy: 0.8354 - val_loss: 0.4907 - val_accuracy: 0.7728\n"
     ]
    }
   ],
   "source": [
    "from tensorflow import keras\n",
    "train_oh = keras.utils.to_categorical(train_seq[:10000])\n",
    "val_oh = keras.utils.to_categorical(val_seq[:2500])\n",
    "\n",
    "model =  keras.Sequential()\n",
    "model.add(keras.layers.SimpleRNN(8,input_shape=(100,500)))\n",
    "model.add(keras.layers.Dense(1,activation='sigmoid'))\n",
    "\n",
    "rmsprop = keras.optimizers.RMSprop(learning_rate=0.0004)\n",
    "model.compile(optimizer=rmsprop, loss='binary_crossentropy',metrics=['accuracy'])\n",
    "checkpoint_cd = keras.callbacks.ModelCheckpoint('best-simple-model.h5',save_best_only=True)\n",
    "early_stopping_cb = keras.callbacks.EarlyStopping(patience=3,restore_best_weights=True)\n",
    "history=model.fit(train_oh,y_train[:10000],epochs=100,batch_size=64,\n",
    "                  validation_data=(val_oh,y_test[:2500]),\n",
    "                 callbacks=[checkpoint_cd,early_stopping_cb])"
   ]
  },
  {
   "cell_type": "code",
   "execution_count": 59,
   "id": "f39bc003",
   "metadata": {},
   "outputs": [
    {
     "data": {
      "text/plain": [
       "((10000, 100, 500), (10000,))"
      ]
     },
     "execution_count": 59,
     "metadata": {},
     "output_type": "execute_result"
    }
   ],
   "source": [
    "train_oh.shape, y_train[:10000].shape"
   ]
  },
  {
   "cell_type": "code",
   "execution_count": 60,
   "id": "f92cbfa6",
   "metadata": {},
   "outputs": [
    {
     "data": {
      "text/plain": [
       "((2500, 100, 500), (2500,))"
      ]
     },
     "execution_count": 60,
     "metadata": {},
     "output_type": "execute_result"
    }
   ],
   "source": [
    "val_oh.shape,y_test[:2500].shape"
   ]
  },
  {
   "cell_type": "code",
   "execution_count": 74,
   "id": "e15014e4",
   "metadata": {},
   "outputs": [
    {
     "data": {
      "image/png": "[encoded data removed]",
      "text/plain": [
       "<Figure size 432x288 with 1 Axes>"
      ]
     },
     "metadata": {
      "needs_background": "light"
     },
     "output_type": "display_data"
    }
   ],
   "source": [
    "plt.plot(history.history['loss'])\n",
    "plt.plot(history.history['val_loss'])\n",
    "plt.xlabel('epoch')\n",
    "plt.ylabel('loss')\n",
    "plt.legend(['train','val'])\n",
    "plt.show()"
   ]
  },
  {
   "cell_type": "code",
   "execution_count": 75,
   "id": "0787ab52",
   "metadata": {},
   "outputs": [
    {
     "name": "stdout",
     "output_type": "stream",
     "text": [
      "Model: \"sequential_8\"\n",
      "_________________________________________________________________\n",
      " Layer (type)                Output Shape              Param #   \n",
      "=================================================================\n",
      " embedding_3 (Embedding)     (None, 100, 16)           8000      \n",
      "                                                                 \n",
      " simple_rnn_6 (SimpleRNN)    (None, 8)                 200       \n",
      "                                                                 \n",
      " dense_6 (Dense)             (None, 1)                 9         \n",
      "                                                                 \n",
      "=================================================================\n",
      "Total params: 8,209\n",
      "Trainable params: 8,209\n",
      "Non-trainable params: 0\n",
      "_________________________________________________________________\n"
     ]
    }
   ],
   "source": [
    "# 원핫인코딩으로 데이터를 변환, 토큰1개가 500차원 -> 입력데이터의 크기가 증가.\n",
    "# 단어 임베딩\n",
    "model2 = keras.Sequential()\n",
    "model2.add(keras.layers.Embedding(500,16,input_length=100))\n",
    "model2.add(keras.layers.SimpleRNN(8))\n",
    "model2.add(keras.layers.Dense(1,activation='sigmoid'))\n",
    "model2.summary()"
   ]
  },
  {
   "cell_type": "code",
   "execution_count": 67,
   "id": "cd0ef8aa",
   "metadata": {},
   "outputs": [
    {
     "data": {
      "text/plain": [
       "(20000, 100)"
      ]
     },
     "execution_count": 67,
     "metadata": {},
     "output_type": "execute_result"
    }
   ],
   "source": [
    "train_seq.shape"
   ]
  },
  {
   "cell_type": "code",
   "execution_count": 76,
   "id": "33a4af0c",
   "metadata": {},
   "outputs": [
    {
     "name": "stdout",
     "output_type": "stream",
     "text": [
      "Epoch 1/100\n",
      "313/313 [==============================] - 5s 12ms/step - loss: 0.6536 - accuracy: 0.6425 - val_loss: 0.6005 - val_accuracy: 0.7322\n",
      "Epoch 2/100\n",
      "313/313 [==============================] - 4s 12ms/step - loss: 0.5591 - accuracy: 0.7500 - val_loss: 0.5596 - val_accuracy: 0.7226\n",
      "Epoch 3/100\n",
      "313/313 [==============================] - 4s 12ms/step - loss: 0.4915 - accuracy: 0.7832 - val_loss: 0.5058 - val_accuracy: 0.7588\n",
      "Epoch 4/100\n",
      "313/313 [==============================] - 4s 12ms/step - loss: 0.4617 - accuracy: 0.7927 - val_loss: 0.4637 - val_accuracy: 0.7852\n",
      "Epoch 5/100\n",
      "313/313 [==============================] - 4s 12ms/step - loss: 0.4462 - accuracy: 0.7993 - val_loss: 0.4718 - val_accuracy: 0.7788\n",
      "Epoch 6/100\n",
      "313/313 [==============================] - 4s 12ms/step - loss: 0.4361 - accuracy: 0.8064 - val_loss: 0.4672 - val_accuracy: 0.7820\n",
      "Epoch 7/100\n",
      "313/313 [==============================] - 4s 12ms/step - loss: 0.4267 - accuracy: 0.8087 - val_loss: 0.5102 - val_accuracy: 0.7490\n"
     ]
    }
   ],
   "source": [
    "from tensorflow import keras\n",
    "\n",
    "rmsprop = keras.optimizers.RMSprop(learning_rate=0.0004)\n",
    "model2.compile(optimizer=rmsprop, loss='binary_crossentropy',metrics=['accuracy'])\n",
    "checkpoint_cd = keras.callbacks.ModelCheckpoint('best-RNN-model.h5',save_best_only=True)\n",
    "early_stopping_cb = keras.callbacks.EarlyStopping(patience=3,restore_best_weights=True)\n",
    "history=model2.fit(train_seq,y_train,epochs=100,batch_size=64,\n",
    "                  validation_data=(val_seq,y_test),\n",
    "                 callbacks=[checkpoint_cd,early_stopping_cb])"
   ]
  },
  {
   "cell_type": "code",
   "execution_count": 77,
   "id": "5972be2b",
   "metadata": {},
   "outputs": [
    {
     "data": {
      "image/png": "[encoded data removed]",
      "text/plain": [
       "<Figure size 432x288 with 1 Axes>"
      ]
     },
     "metadata": {
      "needs_background": "light"
     },
     "output_type": "display_data"
    }
   ],
   "source": [
    "plt.plot(history.history['loss'])\n",
    "plt.plot(history.history['val_loss'])\n",
    "plt.xlabel('epoch')\n",
    "plt.ylabel('loss')\n",
    "plt.legend(['train','val'])\n",
    "plt.show()"
   ]
  },
  {
   "cell_type": "code",
   "execution_count": 78,
   "id": "2737c48f",
   "metadata": {},
   "outputs": [],
   "source": [
    "# LSTM  신경망\n",
    "# RNN 신경망과 관련된정보와 그 정보를 사용하는 지점사이의 거리가 멀경우 역전파할때 그래디언트가 점차 소멸\n",
    "# 성능이 떨어지는문제가 있음 \n",
    "# LSTM RNN에서 그래디언트 소멸문제를 해결하기위해서. 각각의 뉴런사이에 HIDEEN STATE 상태 값을 저장하는 \n",
    "# 구조를 만들어서  사용"
   ]
  },
  {
   "cell_type": "code",
   "execution_count": 79,
   "id": "522ca343",
   "metadata": {},
   "outputs": [],
   "source": [
    "(x_train,y_train),(x_test,y_test) =  imdb.load_data(num_words=500)"
   ]
  },
  {
   "cell_type": "code",
   "execution_count": 80,
   "id": "b774d9c3",
   "metadata": {},
   "outputs": [],
   "source": [
    "x_train_split,x_test_split,y_train_split,y_test_split =  train_test_split(x_train,y_train,test_size=0.2, random_state=42)"
   ]
  },
  {
   "cell_type": "code",
   "execution_count": 81,
   "id": "588dc0c9",
   "metadata": {},
   "outputs": [],
   "source": [
    "train_seq= pad_sequences(x_train_split,maxlen=100)\n",
    "val_seq = pad_sequences(x_test_split,maxlen=100)"
   ]
  },
  {
   "cell_type": "code",
   "execution_count": 82,
   "id": "b3cf5e72",
   "metadata": {},
   "outputs": [
    {
     "name": "stdout",
     "output_type": "stream",
     "text": [
      "Model: \"sequential_9\"\n",
      "_________________________________________________________________\n",
      " Layer (type)                Output Shape              Param #   \n",
      "=================================================================\n",
      " embedding_4 (Embedding)     (None, 100, 16)           8000      \n",
      "                                                                 \n",
      " lstm (LSTM)                 (None, 8)                 800       \n",
      "                                                                 \n",
      " dense_7 (Dense)             (None, 1)                 9         \n",
      "                                                                 \n",
      "=================================================================\n",
      "Total params: 8,809\n",
      "Trainable params: 8,809\n",
      "Non-trainable params: 0\n",
      "_________________________________________________________________\n"
     ]
    }
   ],
   "source": [
    "model3 = keras.Sequential()\n",
    "model3.add(keras.layers.Embedding(500,16,input_length=100))\n",
    "model3.add(keras.layers.LSTM(8))\n",
    "model3.add(keras.layers.Dense(1,activation='sigmoid'))\n",
    "model3.summary()"
   ]
  },
  {
   "cell_type": "code",
   "execution_count": 84,
   "id": "7003892d",
   "metadata": {},
   "outputs": [
    {
     "name": "stdout",
     "output_type": "stream",
     "text": [
      "Epoch 1/100\n",
      "313/313 [==============================] - 9s 23ms/step - loss: 0.6738 - accuracy: 0.6038 - val_loss: 0.6190 - val_accuracy: 0.7056\n",
      "Epoch 2/100\n",
      "313/313 [==============================] - 7s 22ms/step - loss: 0.5757 - accuracy: 0.7416 - val_loss: 0.5474 - val_accuracy: 0.7512\n",
      "Epoch 3/100\n",
      "313/313 [==============================] - 7s 22ms/step - loss: 0.5126 - accuracy: 0.7764 - val_loss: 0.4992 - val_accuracy: 0.7764\n",
      "Epoch 4/100\n",
      "313/313 [==============================] - 7s 22ms/step - loss: 0.4712 - accuracy: 0.7942 - val_loss: 0.4713 - val_accuracy: 0.7976\n",
      "Epoch 5/100\n",
      "313/313 [==============================] - 7s 22ms/step - loss: 0.4492 - accuracy: 0.7995 - val_loss: 0.4507 - val_accuracy: 0.7946\n",
      "Epoch 6/100\n",
      "313/313 [==============================] - 7s 22ms/step - loss: 0.4357 - accuracy: 0.8052 - val_loss: 0.4482 - val_accuracy: 0.7926\n",
      "Epoch 7/100\n",
      "313/313 [==============================] - 7s 22ms/step - loss: 0.4265 - accuracy: 0.8077 - val_loss: 0.4444 - val_accuracy: 0.7978\n",
      "Epoch 8/100\n",
      "313/313 [==============================] - 7s 22ms/step - loss: 0.4219 - accuracy: 0.8094 - val_loss: 0.4416 - val_accuracy: 0.7954\n",
      "Epoch 9/100\n",
      "313/313 [==============================] - 7s 22ms/step - loss: 0.4168 - accuracy: 0.8115 - val_loss: 0.4350 - val_accuracy: 0.7982\n",
      "Epoch 10/100\n",
      "313/313 [==============================] - 7s 22ms/step - loss: 0.4139 - accuracy: 0.8120 - val_loss: 0.4349 - val_accuracy: 0.7992\n",
      "Epoch 11/100\n",
      "313/313 [==============================] - 7s 21ms/step - loss: 0.4105 - accuracy: 0.8116 - val_loss: 0.4474 - val_accuracy: 0.7942\n",
      "Epoch 12/100\n",
      "313/313 [==============================] - 7s 21ms/step - loss: 0.4093 - accuracy: 0.8141 - val_loss: 0.4356 - val_accuracy: 0.8028\n",
      "Epoch 13/100\n",
      "313/313 [==============================] - 7s 23ms/step - loss: 0.4066 - accuracy: 0.8134 - val_loss: 0.4334 - val_accuracy: 0.8002\n",
      "Epoch 14/100\n",
      "313/313 [==============================] - 7s 24ms/step - loss: 0.4049 - accuracy: 0.8161 - val_loss: 0.4470 - val_accuracy: 0.7920\n",
      "Epoch 15/100\n",
      "313/313 [==============================] - 7s 24ms/step - loss: 0.4040 - accuracy: 0.8142 - val_loss: 0.4342 - val_accuracy: 0.8034\n",
      "Epoch 16/100\n",
      "313/313 [==============================] - 7s 23ms/step - loss: 0.4011 - accuracy: 0.8146 - val_loss: 0.4533 - val_accuracy: 0.7898\n"
     ]
    }
   ],
   "source": [
    "rmsprop = keras.optimizers.RMSprop(learning_rate=0.0004)\n",
    "model3.compile(optimizer=rmsprop, loss='binary_crossentropy',metrics=['accuracy'])\n",
    "checkpoint_cd = keras.callbacks.ModelCheckpoint('best-lstm-model.h5',save_best_only=True)\n",
    "early_stopping_cb = keras.callbacks.EarlyStopping(patience=3,restore_best_weights=True)\n",
    "history=model3.fit(train_seq,y_train_split,epochs=100,batch_size=64,\n",
    "                  validation_data=(val_seq,y_test_split),\n",
    "                 callbacks=[checkpoint_cd,early_stopping_cb])"
   ]
  },
  {
   "cell_type": "code",
   "execution_count": 85,
   "id": "60a5cc10",
   "metadata": {},
   "outputs": [
    {
     "data": {
      "image/png": "[encoded data removed]",
      "text/plain": [
       "<Figure size 432x288 with 1 Axes>"
      ]
     },
     "metadata": {
      "needs_background": "light"
     },
     "output_type": "display_data"
    }
   ],
   "source": [
    "plt.plot(history.history['loss'])\n",
    "plt.plot(history.history['val_loss'])\n",
    "plt.xlabel('epoch')\n",
    "plt.ylabel('loss')\n",
    "plt.legend(['train','val'])\n",
    "plt.show()"
   ]
  },
  {
   "cell_type": "code",
   "execution_count": null,
   "id": "ecfe9c2e",
   "metadata": {},
   "outputs": [],
   "source": []
  }
 ],
 "metadata": {
  "kernelspec": {
   "display_name": "Python 3 (ipykernel)",
   "language": "python",
   "name": "python3"
  },
  "language_info": {
   "codemirror_mode": {
    "name": "ipython",
    "version": 3
   },
   "file_extension": ".py",
   "mimetype": "text/x-python",
   "name": "python",
   "nbconvert_exporter": "python",
   "pygments_lexer": "ipython3",
   "version": "3.9.12"
  }
 },
 "nbformat": 4,
 "nbformat_minor": 5
}
