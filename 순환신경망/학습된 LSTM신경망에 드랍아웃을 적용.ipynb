{
 "cells": [
  {
   "cell_type": "code",
   "execution_count": 1,
   "id": "d2961aa4",
   "metadata": {},
   "outputs": [],
   "source": [
    "from tensorflow import keras"
   ]
  },
  {
   "cell_type": "code",
   "execution_count": 2,
   "id": "0083db7a",
   "metadata": {},
   "outputs": [],
   "source": [
    "model = keras.models.load_model('best-lstm-model.h5')"
   ]
  },
  {
   "cell_type": "code",
   "execution_count": 3,
   "id": "c1388879",
   "metadata": {},
   "outputs": [],
   "source": [
    "# 필요한 데이터 로드\n",
    "from tensorflow.keras.datasets import imdb\n",
    "from sklearn.model_selection import train_test_split"
   ]
  },
  {
   "cell_type": "code",
   "execution_count": 4,
   "id": "1e47b917",
   "metadata": {},
   "outputs": [],
   "source": [
    "(x_train_raw,y_train_raw),(x_test_raw,y_test_raw) =  imdb.load_data(num_words=500)\n",
    "x_train,x_test,y_train,y_test =  train_test_split(x_train_raw,y_train_raw)"
   ]
  },
  {
   "cell_type": "code",
   "execution_count": 6,
   "id": "1934fb90",
   "metadata": {},
   "outputs": [],
   "source": [
    "# pad sequence를 통해 데이터의 길이를 맞춰준다\n",
    "from tensorflow.keras.preprocessing.sequence import pad_sequences\n",
    "x_train_pad =  pad_sequences(x_train, maxlen=100)\n",
    "x_test_pad =  pad_sequences(x_test, maxlen=100)"
   ]
  },
  {
   "cell_type": "code",
   "execution_count": 7,
   "id": "52d5560d",
   "metadata": {},
   "outputs": [],
   "source": [
    "# 순환층에 드랍아웃을 적용"
   ]
  },
  {
   "cell_type": "code",
   "execution_count": 8,
   "id": "e721912f",
   "metadata": {},
   "outputs": [],
   "source": [
    "model2 =  keras.Sequential()\n",
    "model2.add(keras.layers.Embedding(500,16,input_length=100))\n",
    "model2.add(keras.layers.LSTM(8,dropout=0.3))\n",
    "model2.add(keras.layers.Dense(1,activation='sigmoid'))"
   ]
  },
  {
   "cell_type": "code",
   "execution_count": 9,
   "id": "169fa209",
   "metadata": {},
   "outputs": [
    {
     "name": "stdout",
     "output_type": "stream",
     "text": [
      "Epoch 1/100\n",
      "293/293 [==============================] - 9s 24ms/step - loss: 0.6921 - accuracy: 0.5262 - val_loss: 0.6910 - val_accuracy: 0.5619\n",
      "Epoch 2/100\n",
      "293/293 [==============================] - 7s 24ms/step - loss: 0.6885 - accuracy: 0.6018 - val_loss: 0.6862 - val_accuracy: 0.6115\n",
      "Epoch 3/100\n",
      "293/293 [==============================] - 7s 23ms/step - loss: 0.6800 - accuracy: 0.6446 - val_loss: 0.6730 - val_accuracy: 0.6550\n",
      "Epoch 4/100\n",
      "293/293 [==============================] - 7s 22ms/step - loss: 0.6455 - accuracy: 0.6920 - val_loss: 0.6044 - val_accuracy: 0.7053\n",
      "Epoch 5/100\n",
      "293/293 [==============================] - 9s 32ms/step - loss: 0.5665 - accuracy: 0.7238 - val_loss: 0.5534 - val_accuracy: 0.7322\n",
      "Epoch 6/100\n",
      "293/293 [==============================] - 7s 24ms/step - loss: 0.5380 - accuracy: 0.7449 - val_loss: 0.5306 - val_accuracy: 0.7478\n",
      "Epoch 7/100\n",
      "293/293 [==============================] - 7s 22ms/step - loss: 0.5176 - accuracy: 0.7606 - val_loss: 0.5133 - val_accuracy: 0.7576\n",
      "Epoch 8/100\n",
      "293/293 [==============================] - 7s 23ms/step - loss: 0.5002 - accuracy: 0.7725 - val_loss: 0.4984 - val_accuracy: 0.7674\n",
      "Epoch 9/100\n",
      "293/293 [==============================] - 6s 22ms/step - loss: 0.4859 - accuracy: 0.7806 - val_loss: 0.4878 - val_accuracy: 0.7686\n",
      "Epoch 10/100\n",
      "293/293 [==============================] - 7s 22ms/step - loss: 0.4744 - accuracy: 0.7860 - val_loss: 0.4773 - val_accuracy: 0.7752\n",
      "Epoch 11/100\n",
      "293/293 [==============================] - 7s 22ms/step - loss: 0.4676 - accuracy: 0.7867 - val_loss: 0.4706 - val_accuracy: 0.7805\n",
      "Epoch 12/100\n",
      "293/293 [==============================] - 7s 24ms/step - loss: 0.4575 - accuracy: 0.7936 - val_loss: 0.4631 - val_accuracy: 0.7811\n",
      "Epoch 13/100\n",
      "293/293 [==============================] - 7s 24ms/step - loss: 0.4540 - accuracy: 0.7965 - val_loss: 0.4596 - val_accuracy: 0.7866\n",
      "Epoch 14/100\n",
      "293/293 [==============================] - 7s 23ms/step - loss: 0.4470 - accuracy: 0.7963 - val_loss: 0.4580 - val_accuracy: 0.7854\n",
      "Epoch 15/100\n",
      "293/293 [==============================] - 7s 23ms/step - loss: 0.4443 - accuracy: 0.7991 - val_loss: 0.4523 - val_accuracy: 0.7870\n",
      "Epoch 16/100\n",
      "293/293 [==============================] - 7s 23ms/step - loss: 0.4409 - accuracy: 0.8000 - val_loss: 0.4496 - val_accuracy: 0.7894\n",
      "Epoch 17/100\n",
      "293/293 [==============================] - 7s 23ms/step - loss: 0.4378 - accuracy: 0.7993 - val_loss: 0.4489 - val_accuracy: 0.7891\n",
      "Epoch 18/100\n",
      "293/293 [==============================] - 7s 23ms/step - loss: 0.4359 - accuracy: 0.8050 - val_loss: 0.4459 - val_accuracy: 0.7901\n",
      "Epoch 19/100\n",
      "293/293 [==============================] - 7s 23ms/step - loss: 0.4339 - accuracy: 0.8035 - val_loss: 0.4441 - val_accuracy: 0.7936\n",
      "Epoch 20/100\n",
      "293/293 [==============================] - 7s 22ms/step - loss: 0.4316 - accuracy: 0.8036 - val_loss: 0.4423 - val_accuracy: 0.7891\n",
      "Epoch 21/100\n",
      "293/293 [==============================] - 6s 22ms/step - loss: 0.4293 - accuracy: 0.8060 - val_loss: 0.4441 - val_accuracy: 0.7907\n",
      "Epoch 22/100\n",
      "293/293 [==============================] - 6s 22ms/step - loss: 0.4291 - accuracy: 0.8069 - val_loss: 0.4405 - val_accuracy: 0.7910\n",
      "Epoch 23/100\n",
      "293/293 [==============================] - 6s 22ms/step - loss: 0.4250 - accuracy: 0.8062 - val_loss: 0.4406 - val_accuracy: 0.7920\n",
      "Epoch 24/100\n",
      "293/293 [==============================] - 6s 22ms/step - loss: 0.4269 - accuracy: 0.8080 - val_loss: 0.4389 - val_accuracy: 0.7925\n",
      "Epoch 25/100\n",
      "293/293 [==============================] - 6s 22ms/step - loss: 0.4252 - accuracy: 0.8079 - val_loss: 0.4381 - val_accuracy: 0.7933\n",
      "Epoch 26/100\n",
      "293/293 [==============================] - 6s 22ms/step - loss: 0.4240 - accuracy: 0.8064 - val_loss: 0.4372 - val_accuracy: 0.7933\n",
      "Epoch 27/100\n",
      "293/293 [==============================] - 6s 22ms/step - loss: 0.4235 - accuracy: 0.8084 - val_loss: 0.4376 - val_accuracy: 0.7920\n",
      "Epoch 28/100\n",
      "293/293 [==============================] - 6s 22ms/step - loss: 0.4223 - accuracy: 0.8100 - val_loss: 0.4363 - val_accuracy: 0.7931\n",
      "Epoch 29/100\n",
      "293/293 [==============================] - 6s 22ms/step - loss: 0.4218 - accuracy: 0.8072 - val_loss: 0.4366 - val_accuracy: 0.7939\n",
      "Epoch 30/100\n",
      "293/293 [==============================] - 7s 22ms/step - loss: 0.4214 - accuracy: 0.8081 - val_loss: 0.4352 - val_accuracy: 0.7939\n",
      "Epoch 31/100\n",
      "293/293 [==============================] - 7s 22ms/step - loss: 0.4193 - accuracy: 0.8107 - val_loss: 0.4353 - val_accuracy: 0.7934\n",
      "Epoch 32/100\n",
      "293/293 [==============================] - 7s 22ms/step - loss: 0.4203 - accuracy: 0.8090 - val_loss: 0.4351 - val_accuracy: 0.7950\n",
      "Epoch 33/100\n",
      "293/293 [==============================] - 7s 23ms/step - loss: 0.4176 - accuracy: 0.8092 - val_loss: 0.4333 - val_accuracy: 0.7942\n",
      "Epoch 34/100\n",
      "293/293 [==============================] - 7s 23ms/step - loss: 0.4187 - accuracy: 0.8117 - val_loss: 0.4330 - val_accuracy: 0.7946\n",
      "Epoch 35/100\n",
      "293/293 [==============================] - 7s 23ms/step - loss: 0.4174 - accuracy: 0.8094 - val_loss: 0.4325 - val_accuracy: 0.7934\n",
      "Epoch 36/100\n",
      "293/293 [==============================] - 7s 23ms/step - loss: 0.4168 - accuracy: 0.8100 - val_loss: 0.4335 - val_accuracy: 0.7949\n",
      "Epoch 37/100\n",
      "293/293 [==============================] - 7s 22ms/step - loss: 0.4146 - accuracy: 0.8088 - val_loss: 0.4328 - val_accuracy: 0.7966\n",
      "Epoch 38/100\n",
      "293/293 [==============================] - 7s 22ms/step - loss: 0.4169 - accuracy: 0.8105 - val_loss: 0.4320 - val_accuracy: 0.7971\n",
      "Epoch 39/100\n",
      "293/293 [==============================] - 6s 22ms/step - loss: 0.4153 - accuracy: 0.8098 - val_loss: 0.4334 - val_accuracy: 0.7962\n",
      "Epoch 40/100\n",
      "293/293 [==============================] - 7s 22ms/step - loss: 0.4135 - accuracy: 0.8107 - val_loss: 0.4312 - val_accuracy: 0.7966\n",
      "Epoch 41/100\n",
      "293/293 [==============================] - 7s 22ms/step - loss: 0.4136 - accuracy: 0.8109 - val_loss: 0.4311 - val_accuracy: 0.7958\n",
      "Epoch 42/100\n",
      "293/293 [==============================] - 6s 22ms/step - loss: 0.4134 - accuracy: 0.8122 - val_loss: 0.4311 - val_accuracy: 0.7987\n",
      "Epoch 43/100\n",
      "293/293 [==============================] - 6s 22ms/step - loss: 0.4129 - accuracy: 0.8103 - val_loss: 0.4316 - val_accuracy: 0.7976\n",
      "Epoch 44/100\n",
      "293/293 [==============================] - 7s 22ms/step - loss: 0.4124 - accuracy: 0.8131 - val_loss: 0.4305 - val_accuracy: 0.7986\n",
      "Epoch 45/100\n",
      "293/293 [==============================] - 7s 22ms/step - loss: 0.4122 - accuracy: 0.8103 - val_loss: 0.4302 - val_accuracy: 0.7997\n",
      "Epoch 46/100\n",
      "293/293 [==============================] - 6s 22ms/step - loss: 0.4132 - accuracy: 0.8126 - val_loss: 0.4302 - val_accuracy: 0.7973\n",
      "Epoch 47/100\n",
      "293/293 [==============================] - 7s 22ms/step - loss: 0.4102 - accuracy: 0.8114 - val_loss: 0.4291 - val_accuracy: 0.7984\n",
      "Epoch 48/100\n",
      "293/293 [==============================] - 6s 22ms/step - loss: 0.4102 - accuracy: 0.8124 - val_loss: 0.4289 - val_accuracy: 0.7981\n",
      "Epoch 49/100\n",
      "293/293 [==============================] - 6s 22ms/step - loss: 0.4107 - accuracy: 0.8130 - val_loss: 0.4299 - val_accuracy: 0.7968\n",
      "Epoch 50/100\n",
      "293/293 [==============================] - 6s 22ms/step - loss: 0.4100 - accuracy: 0.8144 - val_loss: 0.4299 - val_accuracy: 0.7970\n",
      "Epoch 51/100\n",
      "293/293 [==============================] - 7s 22ms/step - loss: 0.4098 - accuracy: 0.8156 - val_loss: 0.4286 - val_accuracy: 0.7984\n",
      "Epoch 52/100\n",
      "293/293 [==============================] - 7s 23ms/step - loss: 0.4100 - accuracy: 0.8129 - val_loss: 0.4291 - val_accuracy: 0.7994\n",
      "Epoch 53/100\n",
      "293/293 [==============================] - 7s 23ms/step - loss: 0.4093 - accuracy: 0.8137 - val_loss: 0.4291 - val_accuracy: 0.7982\n",
      "Epoch 54/100\n",
      "293/293 [==============================] - 7s 23ms/step - loss: 0.4079 - accuracy: 0.8129 - val_loss: 0.4284 - val_accuracy: 0.8002\n",
      "Epoch 55/100\n",
      "293/293 [==============================] - 7s 23ms/step - loss: 0.4079 - accuracy: 0.8139 - val_loss: 0.4297 - val_accuracy: 0.7976\n",
      "Epoch 56/100\n",
      "293/293 [==============================] - 7s 22ms/step - loss: 0.4070 - accuracy: 0.8123 - val_loss: 0.4297 - val_accuracy: 0.7984\n",
      "Epoch 57/100\n"
     ]
    },
    {
     "name": "stdout",
     "output_type": "stream",
     "text": [
      "293/293 [==============================] - 7s 22ms/step - loss: 0.4062 - accuracy: 0.8130 - val_loss: 0.4284 - val_accuracy: 0.8003\n"
     ]
    }
   ],
   "source": [
    "rmsprop =  keras.optimizers.RMSprop(learning_rate=1e-4)  # 0.0001\n",
    "model2.compile(optimizer=rmsprop, loss='binary_crossentropy', metrics=['accuracy'])\n",
    "checkpoint_cb = keras.callbacks.ModelCheckpoint('best-dropout-model.h5',save_best_only=True)\n",
    "early_stopping_cb = keras.callbacks.EarlyStopping(patience=3, restore_best_weights=True)\n",
    "history = model2.fit(x_train_pad,y_train,epochs=100, batch_size=64, \n",
    "                     validation_data=(x_test_pad,y_test),\n",
    "                     callbacks=[checkpoint_cb,early_stopping_cb]\n",
    "                    )"
   ]
  },
  {
   "cell_type": "code",
   "execution_count": 10,
   "id": "b492ead9",
   "metadata": {},
   "outputs": [],
   "source": [
    "import matplotlib.pyplot as plt"
   ]
  },
  {
   "cell_type": "code",
   "execution_count": 11,
   "id": "321921c2",
   "metadata": {},
   "outputs": [
    {
     "data": {
      "image/png": "[encoded data removed]",
      "text/plain": [
       "<Figure size 432x288 with 1 Axes>"
      ]
     },
     "metadata": {
      "needs_background": "light"
     },
     "output_type": "display_data"
    }
   ],
   "source": [
    "plt.plot(history.history['loss'])\n",
    "plt.plot(history.history['val_loss'])\n",
    "plt.xlabel('epoch')\n",
    "plt.ylabel('loss')\n",
    "plt.legend(['train','val'])\n",
    "plt.show()"
   ]
  },
  {
   "cell_type": "code",
   "execution_count": 15,
   "id": "941cad85",
   "metadata": {},
   "outputs": [],
   "source": [
    "# 순환신경망 2개 연결하기\n",
    "model3 =  keras.Sequential()\n",
    "model3.add(keras.layers.Embedding(500,16,input_length=100))\n",
    "model3.add(keras.layers.LSTM(8,dropout=0.3,return_sequences=True))\n",
    "model3.add(keras.layers.LSTM(8,dropout=0.3))\n",
    "model3.add(keras.layers.Dense(1,activation='sigmoid'))"
   ]
  },
  {
   "cell_type": "code",
   "execution_count": 17,
   "id": "fae59f76",
   "metadata": {},
   "outputs": [
    {
     "name": "stdout",
     "output_type": "stream",
     "text": [
      "Model: \"sequential_4\"\n",
      "_________________________________________________________________\n",
      " Layer (type)                Output Shape              Param #   \n",
      "=================================================================\n",
      " embedding_4 (Embedding)     (None, 100, 16)           8000      \n",
      "                                                                 \n",
      " lstm_4 (LSTM)               (None, 100, 8)            800       \n",
      "                                                                 \n",
      " lstm_5 (LSTM)               (None, 8)                 544       \n",
      "                                                                 \n",
      " dense_1 (Dense)             (None, 1)                 9         \n",
      "                                                                 \n",
      "=================================================================\n",
      "Total params: 9,353\n",
      "Trainable params: 9,353\n",
      "Non-trainable params: 0\n",
      "_________________________________________________________________\n"
     ]
    }
   ],
   "source": [
    "model3.summary()"
   ]
  },
  {
   "cell_type": "code",
   "execution_count": 18,
   "id": "62b94b87",
   "metadata": {},
   "outputs": [
    {
     "name": "stdout",
     "output_type": "stream",
     "text": [
      "Epoch 1/100\n",
      "293/293 [==============================] - 17s 44ms/step - loss: 0.6930 - accuracy: 0.5086 - val_loss: 0.6926 - val_accuracy: 0.5760\n",
      "Epoch 2/100\n",
      "293/293 [==============================] - 13s 45ms/step - loss: 0.6918 - accuracy: 0.5735 - val_loss: 0.6903 - val_accuracy: 0.6264\n",
      "Epoch 3/100\n",
      "293/293 [==============================] - 12s 42ms/step - loss: 0.6845 - accuracy: 0.6331 - val_loss: 0.6728 - val_accuracy: 0.6235\n",
      "Epoch 4/100\n",
      "293/293 [==============================] - 13s 43ms/step - loss: 0.6324 - accuracy: 0.6661 - val_loss: 0.6038 - val_accuracy: 0.7107\n",
      "Epoch 5/100\n",
      "293/293 [==============================] - 12s 42ms/step - loss: 0.5855 - accuracy: 0.7225 - val_loss: 0.5714 - val_accuracy: 0.7261\n",
      "Epoch 6/100\n",
      "293/293 [==============================] - 12s 42ms/step - loss: 0.5560 - accuracy: 0.7350 - val_loss: 0.5454 - val_accuracy: 0.7440\n",
      "Epoch 7/100\n",
      "293/293 [==============================] - 12s 42ms/step - loss: 0.5299 - accuracy: 0.7464 - val_loss: 0.5239 - val_accuracy: 0.7445\n",
      "Epoch 8/100\n",
      "293/293 [==============================] - 13s 43ms/step - loss: 0.5111 - accuracy: 0.7588 - val_loss: 0.5044 - val_accuracy: 0.7634\n",
      "Epoch 9/100\n",
      "293/293 [==============================] - 13s 44ms/step - loss: 0.5013 - accuracy: 0.7625 - val_loss: 0.4966 - val_accuracy: 0.7638\n",
      "Epoch 10/100\n",
      "293/293 [==============================] - 12s 41ms/step - loss: 0.4880 - accuracy: 0.7714 - val_loss: 0.4930 - val_accuracy: 0.7699\n",
      "Epoch 11/100\n",
      "293/293 [==============================] - 12s 42ms/step - loss: 0.4826 - accuracy: 0.7747 - val_loss: 0.4829 - val_accuracy: 0.7752\n",
      "Epoch 12/100\n",
      "293/293 [==============================] - 12s 41ms/step - loss: 0.4736 - accuracy: 0.7818 - val_loss: 0.4781 - val_accuracy: 0.7778\n",
      "Epoch 13/100\n",
      "293/293 [==============================] - 12s 42ms/step - loss: 0.4722 - accuracy: 0.7831 - val_loss: 0.4707 - val_accuracy: 0.7771\n",
      "Epoch 14/100\n",
      "293/293 [==============================] - 12s 41ms/step - loss: 0.4656 - accuracy: 0.7855 - val_loss: 0.4713 - val_accuracy: 0.7824\n",
      "Epoch 15/100\n",
      "293/293 [==============================] - 12s 42ms/step - loss: 0.4618 - accuracy: 0.7885 - val_loss: 0.4644 - val_accuracy: 0.7790\n",
      "Epoch 16/100\n",
      "293/293 [==============================] - 12s 41ms/step - loss: 0.4589 - accuracy: 0.7873 - val_loss: 0.4632 - val_accuracy: 0.7771\n",
      "Epoch 17/100\n",
      "293/293 [==============================] - 12s 41ms/step - loss: 0.4558 - accuracy: 0.7910 - val_loss: 0.4598 - val_accuracy: 0.7819\n",
      "Epoch 18/100\n",
      "293/293 [==============================] - 12s 41ms/step - loss: 0.4548 - accuracy: 0.7912 - val_loss: 0.4582 - val_accuracy: 0.7816\n",
      "Epoch 19/100\n",
      "293/293 [==============================] - 12s 42ms/step - loss: 0.4494 - accuracy: 0.7924 - val_loss: 0.4565 - val_accuracy: 0.7848\n",
      "Epoch 20/100\n",
      "293/293 [==============================] - 12s 41ms/step - loss: 0.4482 - accuracy: 0.7957 - val_loss: 0.4555 - val_accuracy: 0.7821\n",
      "Epoch 21/100\n",
      "293/293 [==============================] - 12s 41ms/step - loss: 0.4453 - accuracy: 0.7957 - val_loss: 0.4556 - val_accuracy: 0.7826\n",
      "Epoch 22/100\n",
      "293/293 [==============================] - 13s 43ms/step - loss: 0.4430 - accuracy: 0.7961 - val_loss: 0.4515 - val_accuracy: 0.7866\n",
      "Epoch 23/100\n",
      "293/293 [==============================] - 13s 44ms/step - loss: 0.4416 - accuracy: 0.7994 - val_loss: 0.4541 - val_accuracy: 0.7872\n",
      "Epoch 24/100\n",
      "293/293 [==============================] - 13s 45ms/step - loss: 0.4395 - accuracy: 0.7987 - val_loss: 0.4506 - val_accuracy: 0.7870\n",
      "Epoch 25/100\n",
      "293/293 [==============================] - 12s 42ms/step - loss: 0.4408 - accuracy: 0.7957 - val_loss: 0.4488 - val_accuracy: 0.7877\n",
      "Epoch 26/100\n",
      "293/293 [==============================] - 13s 43ms/step - loss: 0.4378 - accuracy: 0.7994 - val_loss: 0.4463 - val_accuracy: 0.7867\n",
      "Epoch 27/100\n",
      "293/293 [==============================] - 12s 42ms/step - loss: 0.4348 - accuracy: 0.8012 - val_loss: 0.4453 - val_accuracy: 0.7877\n",
      "Epoch 28/100\n",
      "293/293 [==============================] - 13s 43ms/step - loss: 0.4348 - accuracy: 0.8015 - val_loss: 0.4442 - val_accuracy: 0.7870\n",
      "Epoch 29/100\n",
      "293/293 [==============================] - 12s 42ms/step - loss: 0.4313 - accuracy: 0.8012 - val_loss: 0.4449 - val_accuracy: 0.7925\n",
      "Epoch 30/100\n",
      "293/293 [==============================] - 13s 43ms/step - loss: 0.4299 - accuracy: 0.8057 - val_loss: 0.4432 - val_accuracy: 0.7891\n",
      "Epoch 31/100\n",
      "293/293 [==============================] - 13s 43ms/step - loss: 0.4286 - accuracy: 0.8034 - val_loss: 0.4429 - val_accuracy: 0.7941\n",
      "Epoch 32/100\n",
      "293/293 [==============================] - 12s 41ms/step - loss: 0.4283 - accuracy: 0.8055 - val_loss: 0.4408 - val_accuracy: 0.7946\n",
      "Epoch 33/100\n",
      "293/293 [==============================] - 13s 45ms/step - loss: 0.4248 - accuracy: 0.8043 - val_loss: 0.4398 - val_accuracy: 0.7907\n",
      "Epoch 34/100\n",
      "293/293 [==============================] - 13s 43ms/step - loss: 0.4267 - accuracy: 0.8044 - val_loss: 0.4383 - val_accuracy: 0.7923\n",
      "Epoch 35/100\n",
      "293/293 [==============================] - 12s 41ms/step - loss: 0.4237 - accuracy: 0.8061 - val_loss: 0.4376 - val_accuracy: 0.7910\n",
      "Epoch 36/100\n",
      "293/293 [==============================] - 12s 41ms/step - loss: 0.4230 - accuracy: 0.8062 - val_loss: 0.4383 - val_accuracy: 0.7930\n",
      "Epoch 37/100\n",
      "293/293 [==============================] - 12s 41ms/step - loss: 0.4229 - accuracy: 0.8031 - val_loss: 0.4363 - val_accuracy: 0.7922\n",
      "Epoch 38/100\n",
      "293/293 [==============================] - 12s 41ms/step - loss: 0.4218 - accuracy: 0.8058 - val_loss: 0.4368 - val_accuracy: 0.7901\n",
      "Epoch 39/100\n",
      "293/293 [==============================] - 12s 42ms/step - loss: 0.4206 - accuracy: 0.8063 - val_loss: 0.4356 - val_accuracy: 0.7910\n",
      "Epoch 40/100\n",
      "293/293 [==============================] - 12s 41ms/step - loss: 0.4199 - accuracy: 0.8059 - val_loss: 0.4359 - val_accuracy: 0.7915\n",
      "Epoch 41/100\n",
      "293/293 [==============================] - 12s 41ms/step - loss: 0.4187 - accuracy: 0.8063 - val_loss: 0.4346 - val_accuracy: 0.7928\n",
      "Epoch 42/100\n",
      "293/293 [==============================] - 12s 41ms/step - loss: 0.4190 - accuracy: 0.8084 - val_loss: 0.4341 - val_accuracy: 0.7936\n",
      "Epoch 43/100\n",
      "293/293 [==============================] - 12s 42ms/step - loss: 0.4149 - accuracy: 0.8087 - val_loss: 0.4331 - val_accuracy: 0.7946\n",
      "Epoch 44/100\n",
      "293/293 [==============================] - 12s 41ms/step - loss: 0.4172 - accuracy: 0.8070 - val_loss: 0.4338 - val_accuracy: 0.7914\n",
      "Epoch 45/100\n",
      "293/293 [==============================] - 12s 41ms/step - loss: 0.4172 - accuracy: 0.8090 - val_loss: 0.4335 - val_accuracy: 0.7930\n",
      "Epoch 46/100\n",
      "293/293 [==============================] - 12s 42ms/step - loss: 0.4137 - accuracy: 0.8116 - val_loss: 0.4316 - val_accuracy: 0.7949\n",
      "Epoch 47/100\n",
      "293/293 [==============================] - 13s 43ms/step - loss: 0.4139 - accuracy: 0.8099 - val_loss: 0.4347 - val_accuracy: 0.7926\n",
      "Epoch 48/100\n",
      "293/293 [==============================] - 12s 41ms/step - loss: 0.4128 - accuracy: 0.8097 - val_loss: 0.4332 - val_accuracy: 0.7949\n",
      "Epoch 49/100\n",
      "293/293 [==============================] - 12s 41ms/step - loss: 0.4133 - accuracy: 0.8116 - val_loss: 0.4330 - val_accuracy: 0.7957\n"
     ]
    }
   ],
   "source": [
    "rmsprop =  keras.optimizers.RMSprop(learning_rate=1e-4)  # 0.0001\n",
    "model3.compile(optimizer=rmsprop, loss='binary_crossentropy', metrics=['accuracy'])\n",
    "checkpoint_cb = keras.callbacks.ModelCheckpoint('best-2lstmdropout-model.h5',save_best_only=True)\n",
    "early_stopping_cb = keras.callbacks.EarlyStopping(patience=3, restore_best_weights=True)\n",
    "history = model3.fit(x_train_pad,y_train,epochs=100, batch_size=64, \n",
    "                     validation_data=(x_test_pad,y_test),\n",
    "                     callbacks=[checkpoint_cb,early_stopping_cb]\n",
    "                    )"
   ]
  },
  {
   "cell_type": "code",
   "execution_count": 19,
   "id": "5b89e0b0",
   "metadata": {},
   "outputs": [
    {
     "data": {
      "image/png": "[encoded data removed]",
      "text/plain": [
       "<Figure size 432x288 with 1 Axes>"
      ]
     },
     "metadata": {
      "needs_background": "light"
     },
     "output_type": "display_data"
    }
   ],
   "source": [
    "plt.plot(history.history['loss'])\n",
    "plt.plot(history.history['val_loss'])\n",
    "plt.xlabel('epoch')\n",
    "plt.ylabel('loss')\n",
    "plt.legend(['train','val'])\n",
    "plt.show()"
   ]
  },
  {
   "cell_type": "code",
   "execution_count": 20,
   "id": "c5bb328c",
   "metadata": {},
   "outputs": [],
   "source": [
    "# GRU신경망  gated recurrent unit "
   ]
  },
  {
   "cell_type": "code",
   "execution_count": 28,
   "id": "eb9bd085",
   "metadata": {},
   "outputs": [
    {
     "name": "stdout",
     "output_type": "stream",
     "text": [
      "Model: \"sequential_7\"\n",
      "_________________________________________________________________\n",
      " Layer (type)                Output Shape              Param #   \n",
      "=================================================================\n",
      " embedding_6 (Embedding)     (None, 100, 16)           8000      \n",
      "                                                                 \n",
      " gru (GRU)                   (None, 8)                 624       \n",
      "                                                                 \n",
      " dense_2 (Dense)             (None, 1)                 9         \n",
      "                                                                 \n",
      "=================================================================\n",
      "Total params: 8,633\n",
      "Trainable params: 8,633\n",
      "Non-trainable params: 0\n",
      "_________________________________________________________________\n"
     ]
    }
   ],
   "source": [
    "model4 =  keras.Sequential()\n",
    "model4.add(keras.layers.Embedding(500,16,input_length=100))\n",
    "model4.add(keras.layers.GRU(8))\n",
    "model4.add(keras.layers.Dense(1,activation='sigmoid'))\n",
    "model4.summary()           "
   ]
  },
  {
   "cell_type": "code",
   "execution_count": null,
   "id": "6d22c1c8",
   "metadata": {},
   "outputs": [
    {
     "name": "stdout",
     "output_type": "stream",
     "text": [
      "Epoch 1/100\n",
      "293/293 [==============================] - 9s 25ms/step - loss: 0.6920 - accuracy: 0.5397 - val_loss: 0.6910 - val_accuracy: 0.5730\n",
      "Epoch 2/100\n",
      "293/293 [==============================] - 7s 23ms/step - loss: 0.6900 - accuracy: 0.5759 - val_loss: 0.6887 - val_accuracy: 0.5858\n",
      "Epoch 3/100\n",
      "293/293 [==============================] - 7s 26ms/step - loss: 0.6868 - accuracy: 0.5962 - val_loss: 0.6849 - val_accuracy: 0.6051\n",
      "Epoch 4/100\n",
      "293/293 [==============================] - 7s 25ms/step - loss: 0.6817 - accuracy: 0.6125 - val_loss: 0.6791 - val_accuracy: 0.6134\n",
      "Epoch 5/100\n",
      "293/293 [==============================] - 7s 24ms/step - loss: 0.6740 - accuracy: 0.6234 - val_loss: 0.6710 - val_accuracy: 0.6176\n",
      "Epoch 6/100\n",
      "293/293 [==============================] - 7s 24ms/step - loss: 0.6627 - accuracy: 0.6416 - val_loss: 0.6583 - val_accuracy: 0.6341\n",
      "Epoch 7/100\n",
      "293/293 [==============================] - 7s 24ms/step - loss: 0.6457 - accuracy: 0.6564 - val_loss: 0.6394 - val_accuracy: 0.6518\n",
      "Epoch 8/100\n",
      "293/293 [==============================] - 9s 29ms/step - loss: 0.6189 - accuracy: 0.6786 - val_loss: 0.6094 - val_accuracy: 0.6787\n",
      "Epoch 9/100\n",
      "293/293 [==============================] - 7s 25ms/step - loss: 0.5742 - accuracy: 0.7160 - val_loss: 0.5554 - val_accuracy: 0.7240\n",
      "Epoch 10/100\n",
      "293/293 [==============================] - 7s 23ms/step - loss: 0.5176 - accuracy: 0.7522 - val_loss: 0.5196 - val_accuracy: 0.7491\n",
      "Epoch 11/100\n",
      "293/293 [==============================] - 7s 24ms/step - loss: 0.4964 - accuracy: 0.7646 - val_loss: 0.5086 - val_accuracy: 0.7587\n",
      "Epoch 12/100\n",
      "293/293 [==============================] - 7s 23ms/step - loss: 0.4838 - accuracy: 0.7742 - val_loss: 0.5005 - val_accuracy: 0.7635\n",
      "Epoch 13/100\n",
      "293/293 [==============================] - 7s 25ms/step - loss: 0.4737 - accuracy: 0.7802 - val_loss: 0.4918 - val_accuracy: 0.7677\n",
      "Epoch 14/100\n",
      "293/293 [==============================] - 7s 25ms/step - loss: 0.4653 - accuracy: 0.7878 - val_loss: 0.4849 - val_accuracy: 0.7690\n",
      "Epoch 15/100\n",
      "220/293 [=====================>........] - ETA: 1s - loss: 0.4595 - accuracy: 0.7935"
     ]
    }
   ],
   "source": [
    "rmsprop =  keras.optimizers.RMSprop(learning_rate=1e-4)  # 0.0001\n",
    "model4.compile(optimizer=rmsprop, loss='binary_crossentropy', metrics=['accuracy'])\n",
    "checkpoint_cb = keras.callbacks.ModelCheckpoint('best-2lstmdropout-model.h5',save_best_only=True)\n",
    "early_stopping_cb = keras.callbacks.EarlyStopping(patience=3, restore_best_weights=True)\n",
    "history = model4.fit(x_train_pad,y_train,epochs=100, batch_size=64, \n",
    "                     validation_data=(x_test_pad,y_test),\n",
    "                     callbacks=[checkpoint_cb,early_stopping_cb]\n",
    "                    )"
   ]
  }
 ],
 "metadata": {
  "kernelspec": {
   "display_name": "Python 3 (ipykernel)",
   "language": "python",
   "name": "python3"
  },
  "language_info": {
   "codemirror_mode": {
    "name": "ipython",
    "version": 3
   },
   "file_extension": ".py",
   "mimetype": "text/x-python",
   "name": "python",
   "nbconvert_exporter": "python",
   "pygments_lexer": "ipython3",
   "version": "3.9.12"
  }
 },
 "nbformat": 4,
 "nbformat_minor": 5
}
