{
 "cells": [
  {
   "cell_type": "code",
   "execution_count": 1,
   "id": "95499cd0",
   "metadata": {},
   "outputs": [],
   "source": [
    "from bs4 import BeautifulSoup"
   ]
  },
  {
   "cell_type": "code",
   "execution_count": 37,
   "id": "77f9645f",
   "metadata": {},
   "outputs": [],
   "source": [
    "html = '<h1 id=\"title\"> 한빛출판네트워크</h1><div class=\"top\"> <ul class=\"menu\">  <li>   <a class=\"login\" href=\"http://www.hanbit.co.kr/member/login.html\">    로그인   </a>  </li> </ul> <ul class=\"brand\">  <li>   <a \"=\"\" academy=\"\" href=\"http://www.hanbit.co.kr/media/&gt;한빛미디어&lt;li&gt;&lt;a href=\" http:=\"\" www.hanbit.co.kr=\"\">    한빛아카데미   </a>  </li><li>   <a \"=\"\" academy=\"\" href=\"http://www.hanbit.co.kr/media/&gt;한빛미디어&lt;li&gt;&lt;a href=\" http:=\"\" www.hanbit.co.kr=\"\">    아카데미   </a>  </li> </ul></div>'"
   ]
  },
  {
   "cell_type": "code",
   "execution_count": 38,
   "id": "c65470c4",
   "metadata": {},
   "outputs": [],
   "source": [
    "soup = BeautifulSoup(html,'html.parser')"
   ]
  },
  {
   "cell_type": "code",
   "execution_count": 39,
   "id": "1f374d90",
   "metadata": {},
   "outputs": [
    {
     "name": "stdout",
     "output_type": "stream",
     "text": [
      "<h1 id=\"title\">\n",
      " 한빛출판네트워크\n",
      "</h1>\n",
      "<div class=\"top\">\n",
      " <ul class=\"menu\">\n",
      "  <li>\n",
      "   <a class=\"login\" href=\"http://www.hanbit.co.kr/member/login.html\">\n",
      "    로그인\n",
      "   </a>\n",
      "  </li>\n",
      " </ul>\n",
      " <ul class=\"brand\">\n",
      "  <li>\n",
      "   <a \"=\"\" academy=\"\" href=\"http://www.hanbit.co.kr/media/&gt;한빛미디어&lt;li&gt;&lt;a href=\" http:=\"\" www.hanbit.co.kr=\"\">\n",
      "    한빛아카데미\n",
      "   </a>\n",
      "  </li>\n",
      "  <li>\n",
      "   <a \"=\"\" academy=\"\" href=\"http://www.hanbit.co.kr/media/&gt;한빛미디어&lt;li&gt;&lt;a href=\" http:=\"\" www.hanbit.co.kr=\"\">\n",
      "    아카데미\n",
      "   </a>\n",
      "  </li>\n",
      " </ul>\n",
      "</div>\n"
     ]
    }
   ],
   "source": [
    "print(soup.prettify())"
   ]
  },
  {
   "cell_type": "code",
   "execution_count": 40,
   "id": "f2850858",
   "metadata": {},
   "outputs": [
    {
     "data": {
      "text/plain": [
       "<h1 id=\"title\"> 한빛출판네트워크</h1>"
      ]
     },
     "execution_count": 40,
     "metadata": {},
     "output_type": "execute_result"
    }
   ],
   "source": [
    "tag_h1 =  soup.h1\n",
    "tag_h1"
   ]
  },
  {
   "cell_type": "code",
   "execution_count": 41,
   "id": "b970b4d8",
   "metadata": {},
   "outputs": [
    {
     "data": {
      "text/plain": [
       "<div class=\"top\"> <ul class=\"menu\"> <li> <a class=\"login\" href=\"http://www.hanbit.co.kr/member/login.html\">    로그인   </a> </li> </ul> <ul class=\"brand\"> <li> <a \"=\"\" academy=\"\" href=\"http://www.hanbit.co.kr/media/&gt;한빛미디어&lt;li&gt;&lt;a href=\" http:=\"\" www.hanbit.co.kr=\"\">    한빛아카데미   </a> </li><li> <a \"=\"\" academy=\"\" href=\"http://www.hanbit.co.kr/media/&gt;한빛미디어&lt;li&gt;&lt;a href=\" http:=\"\" www.hanbit.co.kr=\"\">    아카데미   </a> </li> </ul></div>"
      ]
     },
     "execution_count": 41,
     "metadata": {},
     "output_type": "execute_result"
    }
   ],
   "source": [
    "tag_div = soup.div\n",
    "tag_div"
   ]
  },
  {
   "cell_type": "code",
   "execution_count": 42,
   "id": "1f03383c",
   "metadata": {},
   "outputs": [
    {
     "data": {
      "text/plain": [
       "<ul class=\"menu\"> <li> <a class=\"login\" href=\"http://www.hanbit.co.kr/member/login.html\">    로그인   </a> </li> </ul>"
      ]
     },
     "execution_count": 42,
     "metadata": {},
     "output_type": "execute_result"
    }
   ],
   "source": [
    "tag_ul = soup.ul\n",
    "tag_ul"
   ]
  },
  {
   "cell_type": "code",
   "execution_count": 43,
   "id": "31965748",
   "metadata": {},
   "outputs": [
    {
     "data": {
      "text/plain": [
       "<li> <a class=\"login\" href=\"http://www.hanbit.co.kr/member/login.html\">    로그인   </a> </li>"
      ]
     },
     "execution_count": 43,
     "metadata": {},
     "output_type": "execute_result"
    }
   ],
   "source": [
    "tag_li = soup.li\n",
    "tag_li"
   ]
  },
  {
   "cell_type": "code",
   "execution_count": 44,
   "id": "2d60dfce",
   "metadata": {},
   "outputs": [
    {
     "data": {
      "text/plain": [
       "<a class=\"login\" href=\"http://www.hanbit.co.kr/member/login.html\">    로그인   </a>"
      ]
     },
     "execution_count": 44,
     "metadata": {},
     "output_type": "execute_result"
    }
   ],
   "source": [
    "tag_a = soup.a\n",
    "tag_a"
   ]
  },
  {
   "cell_type": "code",
   "execution_count": 45,
   "id": "b147f632",
   "metadata": {},
   "outputs": [
    {
     "data": {
      "text/plain": [
       "[<ul class=\"menu\"> <li> <a class=\"login\" href=\"http://www.hanbit.co.kr/member/login.html\">    로그인   </a> </li> </ul>,\n",
       " <ul class=\"brand\"> <li> <a \"=\"\" academy=\"\" href=\"http://www.hanbit.co.kr/media/&gt;한빛미디어&lt;li&gt;&lt;a href=\" http:=\"\" www.hanbit.co.kr=\"\">    한빛아카데미   </a> </li><li> <a \"=\"\" academy=\"\" href=\"http://www.hanbit.co.kr/media/&gt;한빛미디어&lt;li&gt;&lt;a href=\" http:=\"\" www.hanbit.co.kr=\"\">    아카데미   </a> </li> </ul>]"
      ]
     },
     "execution_count": 45,
     "metadata": {},
     "output_type": "execute_result"
    }
   ],
   "source": [
    "tag_ul_all = soup.find_all(\"ul\")\n",
    "tag_ul_all"
   ]
  },
  {
   "cell_type": "code",
   "execution_count": 46,
   "id": "76ff29c5",
   "metadata": {},
   "outputs": [
    {
     "data": {
      "text/plain": [
       "[<li> <a class=\"login\" href=\"http://www.hanbit.co.kr/member/login.html\">    로그인   </a> </li>,\n",
       " <li> <a \"=\"\" academy=\"\" href=\"http://www.hanbit.co.kr/media/&gt;한빛미디어&lt;li&gt;&lt;a href=\" http:=\"\" www.hanbit.co.kr=\"\">    한빛아카데미   </a> </li>,\n",
       " <li> <a \"=\"\" academy=\"\" href=\"http://www.hanbit.co.kr/media/&gt;한빛미디어&lt;li&gt;&lt;a href=\" http:=\"\" www.hanbit.co.kr=\"\">    아카데미   </a> </li>]"
      ]
     },
     "execution_count": 46,
     "metadata": {},
     "output_type": "execute_result"
    }
   ],
   "source": [
    "tag_li_all = soup.find_all(\"li\")\n",
    "tag_li_all"
   ]
  },
  {
   "cell_type": "code",
   "execution_count": 47,
   "id": "769ae088",
   "metadata": {},
   "outputs": [
    {
     "data": {
      "text/plain": [
       "[<a class=\"login\" href=\"http://www.hanbit.co.kr/member/login.html\">    로그인   </a>,\n",
       " <a \"=\"\" academy=\"\" href=\"http://www.hanbit.co.kr/media/&gt;한빛미디어&lt;li&gt;&lt;a href=\" http:=\"\" www.hanbit.co.kr=\"\">    한빛아카데미   </a>,\n",
       " <a \"=\"\" academy=\"\" href=\"http://www.hanbit.co.kr/media/&gt;한빛미디어&lt;li&gt;&lt;a href=\" http:=\"\" www.hanbit.co.kr=\"\">    아카데미   </a>]"
      ]
     },
     "execution_count": 47,
     "metadata": {},
     "output_type": "execute_result"
    }
   ],
   "source": [
    "tag_a_all = soup.find_all(\"a\")\n",
    "tag_a_all"
   ]
  },
  {
   "cell_type": "code",
   "execution_count": 48,
   "id": "ee83d983",
   "metadata": {},
   "outputs": [],
   "source": [
    "# 속성을 이용해서 파싱\n",
    "# attrs : 이름과 값으로 구성된 딕셔너리\n",
    "# find() : 속성을 이용해서 특정태그를 파싱\n",
    "# select() 지정한 태그를 모두 파싱 리스트로 구성"
   ]
  },
  {
   "cell_type": "code",
   "execution_count": 49,
   "id": "c6f27a9a",
   "metadata": {},
   "outputs": [
    {
     "data": {
      "text/plain": [
       "<a class=\"login\" href=\"http://www.hanbit.co.kr/member/login.html\">    로그인   </a>"
      ]
     },
     "execution_count": 49,
     "metadata": {},
     "output_type": "execute_result"
    }
   ],
   "source": [
    "tag_a"
   ]
  },
  {
   "cell_type": "code",
   "execution_count": 50,
   "id": "d8f57716",
   "metadata": {},
   "outputs": [
    {
     "data": {
      "text/plain": [
       "{'class': ['login'], 'href': 'http://www.hanbit.co.kr/member/login.html'}"
      ]
     },
     "execution_count": 50,
     "metadata": {},
     "output_type": "execute_result"
    }
   ],
   "source": [
    "tag_a.attrs"
   ]
  },
  {
   "cell_type": "code",
   "execution_count": 51,
   "id": "8f7d4716",
   "metadata": {},
   "outputs": [
    {
     "data": {
      "text/plain": [
       "'http://www.hanbit.co.kr/member/login.html'"
      ]
     },
     "execution_count": 51,
     "metadata": {},
     "output_type": "execute_result"
    }
   ],
   "source": [
    "tag_a['href']"
   ]
  },
  {
   "cell_type": "code",
   "execution_count": 52,
   "id": "58b149bd",
   "metadata": {},
   "outputs": [
    {
     "data": {
      "text/plain": [
       "'http://www.hanbit.co.kr/member/login.html'"
      ]
     },
     "execution_count": 52,
     "metadata": {},
     "output_type": "execute_result"
    }
   ],
   "source": [
    "tag_a.attrs['href']"
   ]
  },
  {
   "cell_type": "code",
   "execution_count": 53,
   "id": "650546d7",
   "metadata": {},
   "outputs": [
    {
     "data": {
      "text/plain": [
       "['login']"
      ]
     },
     "execution_count": 53,
     "metadata": {},
     "output_type": "execute_result"
    }
   ],
   "source": [
    "tag_a['class']"
   ]
  },
  {
   "cell_type": "code",
   "execution_count": 54,
   "id": "18a492bc",
   "metadata": {},
   "outputs": [
    {
     "data": {
      "text/plain": [
       "<ul class=\"brand\"> <li> <a \"=\"\" academy=\"\" href=\"http://www.hanbit.co.kr/media/&gt;한빛미디어&lt;li&gt;&lt;a href=\" http:=\"\" www.hanbit.co.kr=\"\">    한빛아카데미   </a> </li><li> <a \"=\"\" academy=\"\" href=\"http://www.hanbit.co.kr/media/&gt;한빛미디어&lt;li&gt;&lt;a href=\" http:=\"\" www.hanbit.co.kr=\"\">    아카데미   </a> </li> </ul>"
      ]
     },
     "execution_count": 54,
     "metadata": {},
     "output_type": "execute_result"
    }
   ],
   "source": [
    "tag_ul_2 =  soup.find('ul',attrs={'class':'brand'})\n",
    "tag_ul_2"
   ]
  },
  {
   "cell_type": "code",
   "execution_count": 55,
   "id": "94809693",
   "metadata": {},
   "outputs": [
    {
     "data": {
      "text/plain": [
       "<h1 id=\"title\"> 한빛출판네트워크</h1>"
      ]
     },
     "execution_count": 55,
     "metadata": {},
     "output_type": "execute_result"
    }
   ],
   "source": [
    "title =  soup.find(id = 'title')\n",
    "title"
   ]
  },
  {
   "cell_type": "code",
   "execution_count": 56,
   "id": "dd3335b6",
   "metadata": {},
   "outputs": [
    {
     "data": {
      "text/plain": [
       "' 한빛출판네트워크'"
      ]
     },
     "execution_count": 56,
     "metadata": {},
     "output_type": "execute_result"
    }
   ],
   "source": [
    "title.string"
   ]
  },
  {
   "cell_type": "code",
   "execution_count": 65,
   "id": "57649a41",
   "metadata": {},
   "outputs": [
    {
     "data": {
      "text/plain": [
       "[<a \"=\"\" academy=\"\" href=\"http://www.hanbit.co.kr/media/&gt;한빛미디어&lt;li&gt;&lt;a href=\" http:=\"\" www.hanbit.co.kr=\"\">    한빛아카데미   </a>,\n",
       " <a \"=\"\" academy=\"\" href=\"http://www.hanbit.co.kr/media/&gt;한빛미디어&lt;li&gt;&lt;a href=\" http:=\"\" www.hanbit.co.kr=\"\">    아카데미   </a>]"
      ]
     },
     "execution_count": 65,
     "metadata": {},
     "output_type": "execute_result"
    }
   ],
   "source": [
    "li_list =  soup.select(\"div>ul.brand>li>a\")\n",
    "li_list"
   ]
  },
  {
   "cell_type": "code",
   "execution_count": 66,
   "id": "35c38a30",
   "metadata": {},
   "outputs": [
    {
     "data": {
      "text/plain": [
       "['    한빛아카데미   ', '    아카데미   ']"
      ]
     },
     "execution_count": 66,
     "metadata": {},
     "output_type": "execute_result"
    }
   ],
   "source": [
    "[i.string for i in li_list]"
   ]
  },
  {
   "cell_type": "code",
   "execution_count": null,
   "id": "c9b01e0d",
   "metadata": {},
   "outputs": [],
   "source": [
    "# 크롤링할 주소에 / robots.txt\n",
    "# 모든 접근금지\n",
    "# User-agent: *\n",
    "# Disallow: /\n",
    "\n",
    "#모든 접근 허용\n",
    "# User-agent: *\n",
    "# Disallow: \n",
    "\n",
    "# User-agent: *\n",
    "# Allow: /\n",
    "\n",
    "# 특정 디렉터리만 금지\n",
    "# User-agent: *\n",
    "# Disallow: /news/"
   ]
  },
  {
   "cell_type": "code",
   "execution_count": null,
   "id": "1b7dc84a",
   "metadata": {},
   "outputs": [],
   "source": [
    "# https://www.hollys.co.kr/store/korea/korStore2.do"
   ]
  }
 ],
 "metadata": {
  "kernelspec": {
   "display_name": "Python 3 (ipykernel)",
   "language": "python",
   "name": "python3"
  },
  "language_info": {
   "codemirror_mode": {
    "name": "ipython",
    "version": 3
   },
   "file_extension": ".py",
   "mimetype": "text/x-python",
   "name": "python",
   "nbconvert_exporter": "python",
   "pygments_lexer": "ipython3",
   "version": "3.9.12"
  }
 },
 "nbformat": 4,
 "nbformat_minor": 5
}
