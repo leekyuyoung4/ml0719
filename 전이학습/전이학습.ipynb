{
  "nbformat": 4,
  "nbformat_minor": 0,
  "metadata": {
    "colab": {
      "provenance": []
    },
    "kernelspec": {
      "name": "python3",
      "display_name": "Python 3"
    },
    "language_info": {
      "name": "python"
    }
  },
  "cells": [
    {
      "cell_type": "code",
      "execution_count": 1,
      "metadata": {
        "id": "70qeu3k5RzeV"
      },
      "outputs": [],
      "source": [
        "# 축구를 잘하는 사람이 족구도 잘한다.\n",
        "# 요리를 잘하는 사람이 라면도 잘 끓인다\n",
        "# 파이썬을 공부한 사람은 다른 언어를 잘 할 가능성이 많다."
      ]
    },
    {
      "cell_type": "code",
      "source": [
        "# 딥러닝에도 적용\n",
        "# 자연영상으로 학습한 신경망을 새나 개의 종을 분류하거나 자율주행에서 차선과 보행자 인식하는사용"
      ],
      "metadata": {
        "id": "4k2mCl3ESDts"
      },
      "execution_count": 2,
      "outputs": []
    },
    {
      "cell_type": "code",
      "source": [
        "# 어떤 도메인의 데이터로 학습한 모델을 다른 도메인의 데이터를 인식하는데 활용해서 성능 향상을 도모하는 기법\n",
        "# cub200-2011 : 200종의 새 영상을 가지는데 부류별로 60장 밖에 안되서 과잉적합우려\n",
        "# ImageNet으로 예비학습된 모델을 cub200-2011로 전이하는 전이학습"
      ],
      "metadata": {
        "id": "cgE74WBKSOZb"
      },
      "execution_count": 3,
      "outputs": []
    },
    {
      "cell_type": "code",
      "source": [
        "#ImageNet으로 학습된 ResNet50을 cub 데이터셋으로 전이 학습\n",
        "import numpy as np\n",
        "import tensorflow as tf\n",
        "from tensorflow.keras.models import Sequential\n",
        "from tensorflow.keras.layers import Flatten,Dense\n",
        "from tensorflow.keras.optimizers import Adam\n",
        "from tensorflow.keras.applications.resnet50 import ResNet50,preprocess_input\n",
        "from tensorflow.keras.preprocessing import image\n",
        "import os"
      ],
      "metadata": {
        "id": "ENGQacRFT71D"
      },
      "execution_count": 4,
      "outputs": []
    },
    {
      "cell_type": "code",
      "source": [
        "!unzip -qq \"/content/drive/MyDrive/CUB200/CUB200.zip\""
      ],
      "metadata": {
        "id": "EBbRVXLfWrDE"
      },
      "execution_count": 5,
      "outputs": []
    },
    {
      "cell_type": "code",
      "source": [
        "class_reduce = 0.1\n",
        "train_folder = \"/content/drive/MyDrive/CUB200/CUB200.zip (Unzipped Files)/train\"\n",
        "test_folder = \"/content/drive/MyDrive/CUB200/CUB200.zip (Unzipped Files)/test\""
      ],
      "metadata": {
        "id": "uDUiF7-ZXQrT"
      },
      "execution_count": 6,
      "outputs": []
    },
    {
      "cell_type": "code",
      "source": [
        "len(os.listdir(train_folder)),len(os.listdir(test_folder))"
      ],
      "metadata": {
        "colab": {
          "base_uri": "https://localhost:8080/"
        },
        "id": "JgGlQ6TOYeEC",
        "outputId": "fe569ae6-e8c8-4fcd-ebe1-d502d0cd009c"
      },
      "execution_count": 15,
      "outputs": [
        {
          "output_type": "execute_result",
          "data": {
            "text/plain": [
              "(200, 200)"
            ]
          },
          "metadata": {},
          "execution_count": 15
        }
      ]
    },
    {
      "cell_type": "code",
      "source": [
        "no_class =len(os.listdir(train_folder))*class_reduce\n",
        "no_class"
      ],
      "metadata": {
        "colab": {
          "base_uri": "https://localhost:8080/"
        },
        "id": "cki38fNuYktj",
        "outputId": "23d74290-f512-4461-acb6-437ad8dc5503"
      },
      "execution_count": 14,
      "outputs": [
        {
          "output_type": "execute_result",
          "data": {
            "text/plain": [
              "20.0"
            ]
          },
          "metadata": {},
          "execution_count": 14
        }
      ]
    },
    {
      "cell_type": "code",
      "source": [
        "import glob\n",
        "# 현재경로 뿐만 아니라 특정경로의 디렉터리명이나 확장자를 지정하면 해당 파일만\n",
        "# 가져오는데 절대경로로 가져온다.\n",
        "glob.glob(train_folder+\"/*\")"
      ],
      "metadata": {
        "id": "kkCHKRFKZ-kT"
      },
      "execution_count": null,
      "outputs": []
    },
    {
      "cell_type": "code",
      "source": [
        "def convertXYData(foldername):\n",
        "  x_train,y_train = [],[]\n",
        "  for i, class_name in  enumerate(os.listdir(train_folder)):\n",
        "    if i < no_class:\n",
        "      for fname in os.listdir(foldername+'/'+class_name):\n",
        "        img = image.load_img(foldername+'/'+class_name+'/'+fname,target_size=(224,224))\n",
        "        if len(img.getbands()) != 3:\n",
        "          print(f\"유효하지 않은 영상발생 {class_name} {fname}\")\n",
        "          continue\n",
        "        x = image.img_to_array(img)\n",
        "        x = preprocess_input(x)\n",
        "        x_train.append(x)\n",
        "        y_train.append(i)\n",
        "  return (x_train,y_train)"
      ],
      "metadata": {
        "id": "LuhBWU6bZDXS"
      },
      "execution_count": 21,
      "outputs": []
    },
    {
      "cell_type": "code",
      "source": [],
      "metadata": {
        "id": "UBy33-fkZcQ7"
      },
      "execution_count": null,
      "outputs": []
    }
  ]
}