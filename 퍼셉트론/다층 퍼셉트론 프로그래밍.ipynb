{
 "cells": [
  {
   "cell_type": "code",
   "execution_count": 2,
   "id": "5d0a692e",
   "metadata": {},
   "outputs": [],
   "source": [
    "from sklearn import datasets\n",
    "from sklearn.neural_network import MLPClassifier  # 다층 퍼센트론\n",
    "from sklearn.model_selection import train_test_split  # 학습데이터와 검증 데이터를 구분\n",
    "import numpy as np"
   ]
  },
  {
   "cell_type": "code",
   "execution_count": 3,
   "id": "2b27c63c",
   "metadata": {},
   "outputs": [],
   "source": [
    "digit =  datasets.load_digits()\n",
    "x_train,x_test,y_train,y_test =  train_test_split(digit.data, digit.target, test_size=0.3,random_state=32)"
   ]
  },
  {
   "cell_type": "code",
   "execution_count": 8,
   "id": "8e5b2fd1",
   "metadata": {},
   "outputs": [],
   "source": [
    "# MLP 분류기 학습\n",
    "mlp = MLPClassifier(hidden_layer_sizes=(100), learning_rate_init=0.001\n",
    "                    ,batch_size=32, max_iter=300,solver='sgd',verbose=True)"
   ]
  },
  {
   "cell_type": "code",
   "execution_count": 9,
   "id": "45f5be4c",
   "metadata": {},
   "outputs": [
    {
     "name": "stdout",
     "output_type": "stream",
     "text": [
      "Iteration 1, loss = 1.93526082\n",
      "Iteration 2, loss = 0.30499166\n",
      "Iteration 3, loss = 0.20518619\n",
      "Iteration 4, loss = 0.17194707\n",
      "Iteration 5, loss = 0.13625988\n",
      "Iteration 6, loss = 0.12314918\n",
      "Iteration 7, loss = 0.09883630\n",
      "Iteration 8, loss = 0.09113916\n",
      "Iteration 9, loss = 0.08634297\n",
      "Iteration 10, loss = 0.07034629\n",
      "Iteration 11, loss = 0.06501872\n",
      "Iteration 12, loss = 0.05923711\n",
      "Iteration 13, loss = 0.05632586\n",
      "Iteration 14, loss = 0.05435492\n",
      "Iteration 15, loss = 0.04552747\n",
      "Iteration 16, loss = 0.04187715\n",
      "Iteration 17, loss = 0.04160702\n",
      "Iteration 18, loss = 0.03690780\n",
      "Iteration 19, loss = 0.03544066\n",
      "Iteration 20, loss = 0.03269717\n",
      "Iteration 21, loss = 0.03059052\n",
      "Iteration 22, loss = 0.02789111\n",
      "Iteration 23, loss = 0.02806371\n",
      "Iteration 24, loss = 0.02598766\n",
      "Iteration 25, loss = 0.02543072\n",
      "Iteration 26, loss = 0.02358393\n",
      "Iteration 27, loss = 0.02313127\n",
      "Iteration 28, loss = 0.02232915\n",
      "Iteration 29, loss = 0.02144768\n",
      "Iteration 30, loss = 0.02073240\n",
      "Iteration 31, loss = 0.01945990\n",
      "Iteration 32, loss = 0.01841236\n",
      "Iteration 33, loss = 0.01812724\n",
      "Iteration 34, loss = 0.01710306\n",
      "Iteration 35, loss = 0.01690759\n",
      "Iteration 36, loss = 0.01657333\n",
      "Iteration 37, loss = 0.01663739\n",
      "Iteration 38, loss = 0.01492248\n",
      "Iteration 39, loss = 0.01483502\n",
      "Iteration 40, loss = 0.01443298\n",
      "Iteration 41, loss = 0.01410438\n",
      "Iteration 42, loss = 0.01368962\n",
      "Iteration 43, loss = 0.01309368\n",
      "Iteration 44, loss = 0.01282815\n",
      "Iteration 45, loss = 0.01226627\n",
      "Iteration 46, loss = 0.01241311\n",
      "Iteration 47, loss = 0.01196199\n",
      "Iteration 48, loss = 0.01191647\n",
      "Iteration 49, loss = 0.01120522\n",
      "Iteration 50, loss = 0.01104352\n",
      "Iteration 51, loss = 0.01093415\n",
      "Iteration 52, loss = 0.01030237\n",
      "Iteration 53, loss = 0.01042555\n",
      "Iteration 54, loss = 0.01005863\n",
      "Iteration 55, loss = 0.00969045\n",
      "Iteration 56, loss = 0.01017289\n",
      "Iteration 57, loss = 0.00959532\n",
      "Iteration 58, loss = 0.00917191\n",
      "Iteration 59, loss = 0.00914237\n",
      "Iteration 60, loss = 0.00909894\n",
      "Iteration 61, loss = 0.00884181\n",
      "Iteration 62, loss = 0.00868104\n",
      "Iteration 63, loss = 0.00847788\n",
      "Iteration 64, loss = 0.00819510\n",
      "Iteration 65, loss = 0.00815812\n",
      "Iteration 66, loss = 0.00805621\n",
      "Iteration 67, loss = 0.00786286\n",
      "Iteration 68, loss = 0.00768239\n",
      "Iteration 69, loss = 0.00770851\n",
      "Iteration 70, loss = 0.00749202\n",
      "Iteration 71, loss = 0.00743168\n",
      "Iteration 72, loss = 0.00731308\n",
      "Iteration 73, loss = 0.00714126\n",
      "Iteration 74, loss = 0.00719406\n",
      "Iteration 75, loss = 0.00689818\n",
      "Iteration 76, loss = 0.00691060\n",
      "Iteration 77, loss = 0.00670630\n",
      "Iteration 78, loss = 0.00660847\n",
      "Iteration 79, loss = 0.00658121\n",
      "Iteration 80, loss = 0.00639723\n",
      "Iteration 81, loss = 0.00629187\n",
      "Iteration 82, loss = 0.00627120\n",
      "Iteration 83, loss = 0.00630387\n",
      "Iteration 84, loss = 0.00599900\n",
      "Iteration 85, loss = 0.00594911\n",
      "Iteration 86, loss = 0.00592841\n",
      "Iteration 87, loss = 0.00582913\n",
      "Iteration 88, loss = 0.00575839\n",
      "Iteration 89, loss = 0.00572036\n",
      "Iteration 90, loss = 0.00565892\n",
      "Iteration 91, loss = 0.00562749\n",
      "Iteration 92, loss = 0.00546499\n",
      "Iteration 93, loss = 0.00545873\n",
      "Iteration 94, loss = 0.00534679\n",
      "Iteration 95, loss = 0.00526498\n",
      "Iteration 96, loss = 0.00528106\n",
      "Iteration 97, loss = 0.00512727\n",
      "Iteration 98, loss = 0.00507956\n",
      "Iteration 99, loss = 0.00501011\n",
      "Iteration 100, loss = 0.00499261\n",
      "Iteration 101, loss = 0.00493759\n",
      "Iteration 102, loss = 0.00486477\n",
      "Iteration 103, loss = 0.00484617\n",
      "Iteration 104, loss = 0.00478207\n",
      "Iteration 105, loss = 0.00474780\n",
      "Iteration 106, loss = 0.00469756\n",
      "Iteration 107, loss = 0.00464539\n",
      "Iteration 108, loss = 0.00453558\n",
      "Iteration 109, loss = 0.00461046\n",
      "Iteration 110, loss = 0.00450259\n",
      "Iteration 111, loss = 0.00446080\n",
      "Iteration 112, loss = 0.00438565\n",
      "Iteration 113, loss = 0.00435913\n",
      "Iteration 114, loss = 0.00432273\n",
      "Iteration 115, loss = 0.00427188\n",
      "Iteration 116, loss = 0.00420314\n",
      "Iteration 117, loss = 0.00418546\n",
      "Iteration 118, loss = 0.00416830\n",
      "Iteration 119, loss = 0.00415103\n",
      "Training loss did not improve more than tol=0.000100 for 10 consecutive epochs. Stopping.\n"
     ]
    },
    {
     "data": {
      "text/html": [
       "<style>#sk-container-id-3 {color: black;background-color: white;}#sk-container-id-3 pre{padding: 0;}#sk-container-id-3 div.sk-toggleable {background-color: white;}#sk-container-id-3 label.sk-toggleable__label {cursor: pointer;display: block;width: 100%;margin-bottom: 0;padding: 0.3em;box-sizing: border-box;text-align: center;}#sk-container-id-3 label.sk-toggleable__label-arrow:before {content: \"▸\";float: left;margin-right: 0.25em;color: #696969;}#sk-container-id-3 label.sk-toggleable__label-arrow:hover:before {color: black;}#sk-container-id-3 div.sk-estimator:hover label.sk-toggleable__label-arrow:before {color: black;}#sk-container-id-3 div.sk-toggleable__content {max-height: 0;max-width: 0;overflow: hidden;text-align: left;background-color: #f0f8ff;}#sk-container-id-3 div.sk-toggleable__content pre {margin: 0.2em;color: black;border-radius: 0.25em;background-color: #f0f8ff;}#sk-container-id-3 input.sk-toggleable__control:checked~div.sk-toggleable__content {max-height: 200px;max-width: 100%;overflow: auto;}#sk-container-id-3 input.sk-toggleable__control:checked~label.sk-toggleable__label-arrow:before {content: \"▾\";}#sk-container-id-3 div.sk-estimator input.sk-toggleable__control:checked~label.sk-toggleable__label {background-color: #d4ebff;}#sk-container-id-3 div.sk-label input.sk-toggleable__control:checked~label.sk-toggleable__label {background-color: #d4ebff;}#sk-container-id-3 input.sk-hidden--visually {border: 0;clip: rect(1px 1px 1px 1px);clip: rect(1px, 1px, 1px, 1px);height: 1px;margin: -1px;overflow: hidden;padding: 0;position: absolute;width: 1px;}#sk-container-id-3 div.sk-estimator {font-family: monospace;background-color: #f0f8ff;border: 1px dotted black;border-radius: 0.25em;box-sizing: border-box;margin-bottom: 0.5em;}#sk-container-id-3 div.sk-estimator:hover {background-color: #d4ebff;}#sk-container-id-3 div.sk-parallel-item::after {content: \"\";width: 100%;border-bottom: 1px solid gray;flex-grow: 1;}#sk-container-id-3 div.sk-label:hover label.sk-toggleable__label {background-color: #d4ebff;}#sk-container-id-3 div.sk-serial::before {content: \"\";position: absolute;border-left: 1px solid gray;box-sizing: border-box;top: 0;bottom: 0;left: 50%;z-index: 0;}#sk-container-id-3 div.sk-serial {display: flex;flex-direction: column;align-items: center;background-color: white;padding-right: 0.2em;padding-left: 0.2em;position: relative;}#sk-container-id-3 div.sk-item {position: relative;z-index: 1;}#sk-container-id-3 div.sk-parallel {display: flex;align-items: stretch;justify-content: center;background-color: white;position: relative;}#sk-container-id-3 div.sk-item::before, #sk-container-id-3 div.sk-parallel-item::before {content: \"\";position: absolute;border-left: 1px solid gray;box-sizing: border-box;top: 0;bottom: 0;left: 50%;z-index: -1;}#sk-container-id-3 div.sk-parallel-item {display: flex;flex-direction: column;z-index: 1;position: relative;background-color: white;}#sk-container-id-3 div.sk-parallel-item:first-child::after {align-self: flex-end;width: 50%;}#sk-container-id-3 div.sk-parallel-item:last-child::after {align-self: flex-start;width: 50%;}#sk-container-id-3 div.sk-parallel-item:only-child::after {width: 0;}#sk-container-id-3 div.sk-dashed-wrapped {border: 1px dashed gray;margin: 0 0.4em 0.5em 0.4em;box-sizing: border-box;padding-bottom: 0.4em;background-color: white;}#sk-container-id-3 div.sk-label label {font-family: monospace;font-weight: bold;display: inline-block;line-height: 1.2em;}#sk-container-id-3 div.sk-label-container {text-align: center;}#sk-container-id-3 div.sk-container {/* jupyter's `normalize.less` sets `[hidden] { display: none; }` but bootstrap.min.css set `[hidden] { display: none !important; }` so we also need the `!important` here to be able to override the default hidden behavior on the sphinx rendered scikit-learn.org. See: https://github.com/scikit-learn/scikit-learn/issues/21755 */display: inline-block !important;position: relative;}#sk-container-id-3 div.sk-text-repr-fallback {display: none;}</style><div id=\"sk-container-id-3\" class=\"sk-top-container\"><div class=\"sk-text-repr-fallback\"><pre>MLPClassifier(batch_size=32, hidden_layer_sizes=100, max_iter=300, solver=&#x27;sgd&#x27;,\n",
       "              verbose=True)</pre><b>In a Jupyter environment, please rerun this cell to show the HTML representation or trust the notebook. <br />On GitHub, the HTML representation is unable to render, please try loading this page with nbviewer.org.</b></div><div class=\"sk-container\" hidden><div class=\"sk-item\"><div class=\"sk-estimator sk-toggleable\"><input class=\"sk-toggleable__control sk-hidden--visually\" id=\"sk-estimator-id-3\" type=\"checkbox\" checked><label for=\"sk-estimator-id-3\" class=\"sk-toggleable__label sk-toggleable__label-arrow\">MLPClassifier</label><div class=\"sk-toggleable__content\"><pre>MLPClassifier(batch_size=32, hidden_layer_sizes=100, max_iter=300, solver=&#x27;sgd&#x27;,\n",
       "              verbose=True)</pre></div></div></div></div></div>"
      ],
      "text/plain": [
       "MLPClassifier(batch_size=32, hidden_layer_sizes=100, max_iter=300, solver='sgd',\n",
       "              verbose=True)"
      ]
     },
     "execution_count": 9,
     "metadata": {},
     "output_type": "execute_result"
    }
   ],
   "source": [
    "mlp.fit(x_train,y_train)"
   ]
  },
  {
   "cell_type": "code",
   "execution_count": 11,
   "id": "cd576ff5",
   "metadata": {},
   "outputs": [
    {
     "data": {
      "text/plain": [
       "0.9796296296296296"
      ]
     },
     "execution_count": 11,
     "metadata": {},
     "output_type": "execute_result"
    }
   ],
   "source": [
    "# 예측\n",
    "predict =  mlp.predict(x_test)\n",
    "mlp.score(x_test,y_test)"
   ]
  },
  {
   "cell_type": "code",
   "execution_count": 14,
   "id": "f4097bfb",
   "metadata": {},
   "outputs": [
    {
     "data": {
      "text/plain": [
       "array([3, 9, 4, 4, 7, 8, 8, 6, 1, 1, 8, 0, 5, 8, 3, 0, 6, 3, 9, 7, 3, 2,\n",
       "       2, 7, 4, 4, 9, 9, 5, 1, 0, 3, 0, 3, 1, 4, 5, 9, 6, 5, 6, 2, 6, 9,\n",
       "       1, 6, 8, 8, 5, 5, 5, 3, 7, 7, 5, 1, 6, 3, 2, 9, 6, 3, 3, 1, 8, 4,\n",
       "       3, 4, 3, 6, 4, 4, 0, 7, 7, 8, 0, 6, 3, 6, 3, 0, 0, 7, 3, 0, 7, 3,\n",
       "       5, 6, 3, 6, 1, 6, 0, 8, 9, 3, 0, 5, 9, 0, 4, 2, 9, 3, 8, 3, 9, 3,\n",
       "       3, 6, 3, 1, 0, 0, 5, 5, 2, 7, 0, 0, 7, 7, 1, 5, 7, 8, 0, 3, 0, 7,\n",
       "       3, 3, 9, 9, 0, 8, 3, 2, 1, 8, 2, 0, 6, 5, 3, 1, 9, 0, 6, 6, 3, 7,\n",
       "       4, 8, 8, 0, 5, 1, 3, 0, 7, 0, 3, 9, 5, 8, 9, 9, 3, 3, 6, 2, 1, 2,\n",
       "       2, 7, 0, 6, 9, 5, 6, 9, 4, 1, 9, 3, 4, 4, 3, 1, 2, 9, 0, 9, 5, 9,\n",
       "       1, 5, 4, 4, 2, 0, 5, 7, 0, 1, 4, 6, 4, 1, 3, 9, 3, 2, 3, 8, 3, 1,\n",
       "       5, 7, 2, 9, 2, 6, 4, 2, 5, 6, 5, 7, 6, 8, 9, 4, 0, 3, 2, 7, 7, 0,\n",
       "       2, 4, 6, 3, 7, 4, 1, 5, 1, 8, 0, 7, 9, 5, 9, 6, 1, 3, 5, 1, 0, 2,\n",
       "       5, 4, 8, 7, 3, 9, 4, 4, 5, 0, 3, 9, 7, 8, 2, 8, 2, 9, 1, 7, 7, 8,\n",
       "       9, 1, 5, 1, 0, 3, 6, 4, 2, 0, 1, 5, 2, 1, 6, 1, 1, 5, 6, 1, 9, 3,\n",
       "       5, 4, 7, 3, 3, 2, 8, 4, 5, 8, 3, 2, 5, 8, 2, 1, 0, 3, 8, 1, 9, 5,\n",
       "       5, 7, 2, 2, 0, 6, 4, 3, 9, 7, 7, 7, 3, 2, 0, 7, 2, 3, 1, 1, 3, 6,\n",
       "       6, 3, 2, 4, 6, 9, 3, 4, 7, 4, 0, 4, 7, 0, 4, 8, 5, 5, 6, 2, 9, 2,\n",
       "       4, 8, 0, 3, 8, 4, 1, 4, 9, 9, 5, 4, 1, 2, 3, 6, 7, 4, 1, 6, 3, 6,\n",
       "       3, 2, 3, 7, 4, 6, 6, 1, 7, 9, 6, 7, 5, 5, 2, 5, 3, 1, 7, 7, 4, 3,\n",
       "       5, 8, 1, 7, 7, 9, 7, 6, 3, 1, 2, 3, 9, 6, 1, 6, 7, 5, 0, 9, 3, 8,\n",
       "       0, 2, 9, 7, 6, 4, 4, 6, 6, 8, 3, 5, 5, 8, 9, 4, 5, 7, 2, 0, 1, 5,\n",
       "       2, 9, 6, 0, 3, 8, 7, 5, 3, 5, 5, 9, 4, 6, 5, 1, 6, 1, 1, 7, 1, 7,\n",
       "       5, 9, 2, 9, 0, 6, 8, 4, 3, 9, 8, 6, 6, 3, 6, 4, 5, 2, 1, 1, 3, 1,\n",
       "       3, 4, 9, 9, 9, 1, 6, 4, 4, 0, 0, 8, 6, 1, 9, 6, 7, 5, 5, 5, 1, 6,\n",
       "       2, 8, 4, 8, 2, 7, 9, 4, 3, 1, 9, 5])"
      ]
     },
     "execution_count": 14,
     "metadata": {},
     "output_type": "execute_result"
    }
   ],
   "source": [
    "y_test"
   ]
  },
  {
   "cell_type": "code",
   "execution_count": 16,
   "id": "901c6daa",
   "metadata": {},
   "outputs": [
    {
     "data": {
      "text/plain": [
       "array([[48.,  0.,  0.,  0.,  0.,  0.,  0.,  0.,  0.,  0.],\n",
       "       [ 0., 55.,  0.,  0.,  0.,  0.,  0.,  0.,  0.,  0.],\n",
       "       [ 0.,  0., 45.,  0.,  0.,  1.,  0.,  0.,  0.,  0.],\n",
       "       [ 0.,  0.,  0., 72.,  0.,  0.,  0.,  0.,  0.,  0.],\n",
       "       [ 0.,  0.,  0.,  0., 50.,  0.,  0.,  1.,  0.,  0.],\n",
       "       [ 0.,  0.,  0.,  1.,  1., 55.,  0.,  0.,  0.,  0.],\n",
       "       [ 0.,  0.,  0.,  0.,  0.,  0., 57.,  0.,  0.,  0.],\n",
       "       [ 0.,  0.,  0.,  0.,  0.,  0.,  0., 51.,  0.,  0.],\n",
       "       [ 0.,  0.,  0.,  0.,  1.,  0.,  1.,  0., 40.,  0.],\n",
       "       [ 0.,  1.,  0.,  1.,  0.,  2.,  0.,  1.,  0., 56.]])"
      ]
     },
     "execution_count": 16,
     "metadata": {},
     "output_type": "execute_result"
    }
   ],
   "source": [
    "# 혼동행렬\n",
    "conf =  np.zeros((10,10))\n",
    "for i in range(len(predict)):    \n",
    "    conf[ predict[i], y_test[i] ] += 1\n",
    "conf    "
   ]
  },
  {
   "cell_type": "code",
   "execution_count": 25,
   "id": "7261314f",
   "metadata": {},
   "outputs": [
    {
     "data": {
      "text/plain": [
       "0.9796296296296296"
      ]
     },
     "execution_count": 25,
     "metadata": {},
     "output_type": "execute_result"
    }
   ],
   "source": [
    "sum([conf[i,i] for i in range(len(conf)) ]) / len(predict)   "
   ]
  },
  {
   "cell_type": "code",
   "execution_count": 26,
   "id": "f5805862",
   "metadata": {},
   "outputs": [],
   "source": [
    "# 퍼셉트론 < 다층퍼셉트론 < svm"
   ]
  },
  {
   "cell_type": "code",
   "execution_count": null,
   "id": "24fa2063",
   "metadata": {},
   "outputs": [],
   "source": [
    "# 화소수가 많은 MNIST 데이터 셋으로 확장\n",
    "# 8*8  -> 28*28"
   ]
  },
  {
   "cell_type": "code",
   "execution_count": 27,
   "id": "b9e5d5a6",
   "metadata": {},
   "outputs": [],
   "source": [
    "#  MNIST 데이터셋을 다층 퍼셉트론으로 인식\n",
    "from sklearn.datasets import fetch_openml"
   ]
  },
  {
   "cell_type": "code",
   "execution_count": 28,
   "id": "b50c253f",
   "metadata": {},
   "outputs": [],
   "source": [
    "import matplotlib.pyplot as plt\n",
    "import seaborn as sns"
   ]
  },
  {
   "cell_type": "code",
   "execution_count": 29,
   "id": "a6d759c7",
   "metadata": {},
   "outputs": [],
   "source": [
    "# MNIST 데이터셋 읽기\n",
    "mnist = fetch_openml('mnist_784')"
   ]
  },
  {
   "cell_type": "code",
   "execution_count": 34,
   "id": "88437200",
   "metadata": {},
   "outputs": [
    {
     "data": {
      "text/plain": [
       "dict_keys(['data', 'target', 'frame', 'categories', 'feature_names', 'target_names', 'DESCR', 'details', 'url'])"
      ]
     },
     "execution_count": 34,
     "metadata": {},
     "output_type": "execute_result"
    }
   ],
   "source": [
    "mnist.keys()"
   ]
  },
  {
   "cell_type": "code",
   "execution_count": 37,
   "id": "1ef8c346",
   "metadata": {},
   "outputs": [],
   "source": [
    "X = mnist.data\n",
    "Y = mnist.target"
   ]
  },
  {
   "cell_type": "code",
   "execution_count": 38,
   "id": "7f07b1de",
   "metadata": {},
   "outputs": [
    {
     "data": {
      "text/plain": [
       "((70000, 784), (70000,))"
      ]
     },
     "execution_count": 38,
     "metadata": {},
     "output_type": "execute_result"
    }
   ],
   "source": [
    "X.shape, Y.shape"
   ]
  },
  {
   "cell_type": "code",
   "execution_count": 39,
   "id": "2f256f40",
   "metadata": {},
   "outputs": [],
   "source": [
    "x_train,x_test,y_train,y_test = train_test_split(X,Y,test_size=0.3, random_state=32)"
   ]
  },
  {
   "cell_type": "code",
   "execution_count": 41,
   "id": "f1ef2a70",
   "metadata": {},
   "outputs": [],
   "source": [
    "mlp =  MLPClassifier(hidden_layer_sizes=(100), learning_rate_init=0.001\n",
    "              ,batch_size=512,max_iter=300,solver='adam',verbose=True)"
   ]
  },
  {
   "cell_type": "code",
   "execution_count": 42,
   "id": "6c8afedf",
   "metadata": {},
   "outputs": [
    {
     "name": "stdout",
     "output_type": "stream",
     "text": [
      "Iteration 1, loss = 5.79315765\n",
      "Iteration 2, loss = 1.97271006\n",
      "Iteration 3, loss = 1.27245276\n",
      "Iteration 4, loss = 0.90252762\n",
      "Iteration 5, loss = 0.66270472\n",
      "Iteration 6, loss = 0.50572898\n",
      "Iteration 7, loss = 0.40084277\n",
      "Iteration 8, loss = 0.31976139\n",
      "Iteration 9, loss = 0.25820776\n",
      "Iteration 10, loss = 0.20875652\n",
      "Iteration 11, loss = 0.17879591\n",
      "Iteration 12, loss = 0.14550325\n",
      "Iteration 13, loss = 0.12857482\n",
      "Iteration 14, loss = 0.10491306\n",
      "Iteration 15, loss = 0.09762973\n",
      "Iteration 16, loss = 0.08126069\n",
      "Iteration 17, loss = 0.07432833\n",
      "Iteration 18, loss = 0.06126787\n",
      "Iteration 19, loss = 0.05917151\n",
      "Iteration 20, loss = 0.05410146\n",
      "Iteration 21, loss = 0.05319710\n",
      "Iteration 22, loss = 0.04577020\n",
      "Iteration 23, loss = 0.04013426\n",
      "Iteration 24, loss = 0.03729324\n",
      "Iteration 25, loss = 0.03594367\n",
      "Iteration 26, loss = 0.04151682\n",
      "Iteration 27, loss = 0.03890363\n",
      "Iteration 28, loss = 0.03507800\n",
      "Iteration 29, loss = 0.02946276\n",
      "Iteration 30, loss = 0.04039891\n",
      "Iteration 31, loss = 0.04683886\n",
      "Iteration 32, loss = 0.04362482\n",
      "Iteration 33, loss = 0.03646921\n",
      "Iteration 34, loss = 0.04021605\n",
      "Iteration 35, loss = 0.03979935\n",
      "Iteration 36, loss = 0.04507687\n",
      "Iteration 37, loss = 0.04776726\n",
      "Iteration 38, loss = 0.05752963\n",
      "Iteration 39, loss = 0.05074429\n",
      "Iteration 40, loss = 0.03802197\n",
      "Training loss did not improve more than tol=0.000100 for 10 consecutive epochs. Stopping.\n"
     ]
    },
    {
     "data": {
      "text/html": [
       "<style>#sk-container-id-5 {color: black;background-color: white;}#sk-container-id-5 pre{padding: 0;}#sk-container-id-5 div.sk-toggleable {background-color: white;}#sk-container-id-5 label.sk-toggleable__label {cursor: pointer;display: block;width: 100%;margin-bottom: 0;padding: 0.3em;box-sizing: border-box;text-align: center;}#sk-container-id-5 label.sk-toggleable__label-arrow:before {content: \"▸\";float: left;margin-right: 0.25em;color: #696969;}#sk-container-id-5 label.sk-toggleable__label-arrow:hover:before {color: black;}#sk-container-id-5 div.sk-estimator:hover label.sk-toggleable__label-arrow:before {color: black;}#sk-container-id-5 div.sk-toggleable__content {max-height: 0;max-width: 0;overflow: hidden;text-align: left;background-color: #f0f8ff;}#sk-container-id-5 div.sk-toggleable__content pre {margin: 0.2em;color: black;border-radius: 0.25em;background-color: #f0f8ff;}#sk-container-id-5 input.sk-toggleable__control:checked~div.sk-toggleable__content {max-height: 200px;max-width: 100%;overflow: auto;}#sk-container-id-5 input.sk-toggleable__control:checked~label.sk-toggleable__label-arrow:before {content: \"▾\";}#sk-container-id-5 div.sk-estimator input.sk-toggleable__control:checked~label.sk-toggleable__label {background-color: #d4ebff;}#sk-container-id-5 div.sk-label input.sk-toggleable__control:checked~label.sk-toggleable__label {background-color: #d4ebff;}#sk-container-id-5 input.sk-hidden--visually {border: 0;clip: rect(1px 1px 1px 1px);clip: rect(1px, 1px, 1px, 1px);height: 1px;margin: -1px;overflow: hidden;padding: 0;position: absolute;width: 1px;}#sk-container-id-5 div.sk-estimator {font-family: monospace;background-color: #f0f8ff;border: 1px dotted black;border-radius: 0.25em;box-sizing: border-box;margin-bottom: 0.5em;}#sk-container-id-5 div.sk-estimator:hover {background-color: #d4ebff;}#sk-container-id-5 div.sk-parallel-item::after {content: \"\";width: 100%;border-bottom: 1px solid gray;flex-grow: 1;}#sk-container-id-5 div.sk-label:hover label.sk-toggleable__label {background-color: #d4ebff;}#sk-container-id-5 div.sk-serial::before {content: \"\";position: absolute;border-left: 1px solid gray;box-sizing: border-box;top: 0;bottom: 0;left: 50%;z-index: 0;}#sk-container-id-5 div.sk-serial {display: flex;flex-direction: column;align-items: center;background-color: white;padding-right: 0.2em;padding-left: 0.2em;position: relative;}#sk-container-id-5 div.sk-item {position: relative;z-index: 1;}#sk-container-id-5 div.sk-parallel {display: flex;align-items: stretch;justify-content: center;background-color: white;position: relative;}#sk-container-id-5 div.sk-item::before, #sk-container-id-5 div.sk-parallel-item::before {content: \"\";position: absolute;border-left: 1px solid gray;box-sizing: border-box;top: 0;bottom: 0;left: 50%;z-index: -1;}#sk-container-id-5 div.sk-parallel-item {display: flex;flex-direction: column;z-index: 1;position: relative;background-color: white;}#sk-container-id-5 div.sk-parallel-item:first-child::after {align-self: flex-end;width: 50%;}#sk-container-id-5 div.sk-parallel-item:last-child::after {align-self: flex-start;width: 50%;}#sk-container-id-5 div.sk-parallel-item:only-child::after {width: 0;}#sk-container-id-5 div.sk-dashed-wrapped {border: 1px dashed gray;margin: 0 0.4em 0.5em 0.4em;box-sizing: border-box;padding-bottom: 0.4em;background-color: white;}#sk-container-id-5 div.sk-label label {font-family: monospace;font-weight: bold;display: inline-block;line-height: 1.2em;}#sk-container-id-5 div.sk-label-container {text-align: center;}#sk-container-id-5 div.sk-container {/* jupyter's `normalize.less` sets `[hidden] { display: none; }` but bootstrap.min.css set `[hidden] { display: none !important; }` so we also need the `!important` here to be able to override the default hidden behavior on the sphinx rendered scikit-learn.org. See: https://github.com/scikit-learn/scikit-learn/issues/21755 */display: inline-block !important;position: relative;}#sk-container-id-5 div.sk-text-repr-fallback {display: none;}</style><div id=\"sk-container-id-5\" class=\"sk-top-container\"><div class=\"sk-text-repr-fallback\"><pre>MLPClassifier(batch_size=512, hidden_layer_sizes=100, max_iter=300,\n",
       "              verbose=True)</pre><b>In a Jupyter environment, please rerun this cell to show the HTML representation or trust the notebook. <br />On GitHub, the HTML representation is unable to render, please try loading this page with nbviewer.org.</b></div><div class=\"sk-container\" hidden><div class=\"sk-item\"><div class=\"sk-estimator sk-toggleable\"><input class=\"sk-toggleable__control sk-hidden--visually\" id=\"sk-estimator-id-5\" type=\"checkbox\" checked><label for=\"sk-estimator-id-5\" class=\"sk-toggleable__label sk-toggleable__label-arrow\">MLPClassifier</label><div class=\"sk-toggleable__content\"><pre>MLPClassifier(batch_size=512, hidden_layer_sizes=100, max_iter=300,\n",
       "              verbose=True)</pre></div></div></div></div></div>"
      ],
      "text/plain": [
       "MLPClassifier(batch_size=512, hidden_layer_sizes=100, max_iter=300,\n",
       "              verbose=True)"
      ]
     },
     "execution_count": 42,
     "metadata": {},
     "output_type": "execute_result"
    }
   ],
   "source": [
    "mlp.fit(x_train,y_train)"
   ]
  },
  {
   "cell_type": "code",
   "execution_count": 43,
   "id": "814367e1",
   "metadata": {},
   "outputs": [],
   "source": [
    "predict =  mlp.predict(x_test)"
   ]
  },
  {
   "cell_type": "code",
   "execution_count": 44,
   "id": "78a8d09f",
   "metadata": {},
   "outputs": [
    {
     "data": {
      "text/plain": [
       "0.9514761904761905"
      ]
     },
     "execution_count": 44,
     "metadata": {},
     "output_type": "execute_result"
    }
   ],
   "source": [
    "mlp.score(x_test,y_test)"
   ]
  },
  {
   "cell_type": "code",
   "execution_count": 45,
   "id": "0fe4c106",
   "metadata": {},
   "outputs": [],
   "source": [
    "# 하이퍼 매개변수의 값을 결정하는 방법"
   ]
  },
  {
   "cell_type": "code",
   "execution_count": 47,
   "id": "535f41dc",
   "metadata": {},
   "outputs": [],
   "source": [
    "# hidden_layer_sizes=(100)  100개의 노드를 가지는 히든데리어 한개 층을 둔다\n",
    "# hidden_layer_sizes=(100,80)\n",
    "# learning_rate_init = 0.001 학습률 p 0.001\n",
    "# batch_size = 32 미니배치 크기를 32로 설정\n",
    "# max_iter = 300 최대 epoch수를 300\n",
    "# solv = 'sgd' 최적화 알고리즘(옵티마이져) 스토캐스틱 경사하강법\n",
    "# 학습을 중간에 멈춘이유 n_iter_no_change=10 10세대 동안 손실 함수감소량이 tol=0.0001 0.0001이하이면 멈추"
   ]
  },
  {
   "cell_type": "code",
   "execution_count": 50,
   "id": "8e71b18d",
   "metadata": {},
   "outputs": [],
   "source": [
    "# 단일 하이퍼 매개변수 최적화 : validation_curve 함수 이용\n",
    "import time\n",
    "from sklearn.model_selection import validation_curve  # 교차검증"
   ]
  },
  {
   "cell_type": "code",
   "execution_count": null,
   "id": "7de52559",
   "metadata": {},
   "outputs": [],
   "source": [
    "start = time.time()\n",
    "mlp = MLPClassifier(learning_rate_init=0.001,batch_size=32,max_iter=300,solver='sgd')\n",
    "prange = (50,1001,50)\n",
    "train_score, test_score =  validation_curve(mlp,x_train,y_train,param_name='hidden_layer_sizes'\n",
    "                 ,param_range=prange,cv=10,scoring='accuracy',n_jobs=6)\n",
    "end = time.time()\n",
    "print(f\"하이퍼 매개변수 최적화에 걸린시간은 {end-start}\")"
   ]
  },
  {
   "cell_type": "code",
   "execution_count": null,
   "id": "f6c4fca5",
   "metadata": {},
   "outputs": [],
   "source": []
  },
  {
   "cell_type": "code",
   "execution_count": null,
   "id": "2de41f15",
   "metadata": {},
   "outputs": [],
   "source": []
  },
  {
   "cell_type": "code",
   "execution_count": null,
   "id": "fbc2ab8e",
   "metadata": {},
   "outputs": [],
   "source": []
  },
  {
   "cell_type": "code",
   "execution_count": null,
   "id": "f388704b",
   "metadata": {},
   "outputs": [],
   "source": []
  },
  {
   "cell_type": "code",
   "execution_count": null,
   "id": "9078a1e5",
   "metadata": {},
   "outputs": [],
   "source": []
  }
 ],
 "metadata": {
  "kernelspec": {
   "display_name": "Python 3 (ipykernel)",
   "language": "python",
   "name": "python3"
  },
  "language_info": {
   "codemirror_mode": {
    "name": "ipython",
    "version": 3
   },
   "file_extension": ".py",
   "mimetype": "text/x-python",
   "name": "python",
   "nbconvert_exporter": "python",
   "pygments_lexer": "ipython3",
   "version": "3.9.12"
  }
 },
 "nbformat": 4,
 "nbformat_minor": 5
}
