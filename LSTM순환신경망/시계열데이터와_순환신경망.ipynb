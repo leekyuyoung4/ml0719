{
  "nbformat": 4,
  "nbformat_minor": 0,
  "metadata": {
    "colab": {
      "provenance": []
    },
    "kernelspec": {
      "name": "python3",
      "display_name": "Python 3"
    },
    "language_info": {
      "name": "python"
    }
  },
  "cells": [
    {
      "cell_type": "code",
      "execution_count": null,
      "metadata": {
        "id": "MIBrRDzLpcQO"
      },
      "outputs": [],
      "source": [
        "# 시계열 데이터 - "
      ]
    },
    {
      "cell_type": "markdown",
      "source": [
        "시계열 데이터 \n",
        "\n",
        "1.시간정보가 들어있는 데이터\n",
        "*   \"세상에는 시계열 데이터가 참 많다\n",
        "*   단어가 나타내는 순서가 중요하다\n",
        "*   샘플의 길이가 다름    \n",
        "2.시계열 데이터를 인식하는 고전적인 모델\n",
        "*   ARIMA, SARIMA\n",
        "*   Prophet 등...\n",
        "3.시계열 데이터를 인식하는 딥러닝 모델\n",
        "*   순환 신경망(RNN)\n",
        "*   LSTM(Long short term memory) : 선별기억능력을 갖춰 장기 문맥처리에 유리\n"
      ],
      "metadata": {
        "id": "epzGAJuypkTL"
      }
    },
    {
      "cell_type": "markdown",
      "source": [
        "매일 기온,  습도, 미세먼지 농도를 기록한다.  a1 = (23.2,42,0.25) a2=(, , ,)\n",
        "* x = (a1,a2,a3 ,,,, at)\n",
        "* 대표적인 응용은 미래 예측(prediction 또는 forecasting)\n",
        "1.   내일 주가예측\n",
        "2.   내일 날씨 예측\n",
        "3.   기계의 고장 예측\n",
        "4.   풍속과 풍향 예측(풍력 발전기의 효율 향상)\n",
        "5.   농산물 가격/수요량 예측\n",
        "6.   언어번역에 응용\n",
        "7.   생성모델에 응용(사진을 보고 설명 문장 생성)\n"
      ],
      "metadata": {
        "id": "JVDTHUXirYBJ"
      }
    },
    {
      "cell_type": "markdown",
      "source": [
        "비트코인 예측하기"
      ],
      "metadata": {
        "id": "Ee_OW-JktH86"
      }
    },
    {
      "cell_type": "code",
      "source": [
        "import numpy as np\n",
        "import pandas as pd\n",
        "import matplotlib.pyplot as plt\n",
        "import seaborn as sns"
      ],
      "metadata": {
        "id": "MJ40R2s8tJfK"
      },
      "execution_count": 90,
      "outputs": []
    },
    {
      "cell_type": "code",
      "source": [
        "f = open('bitcoin.csv','r')\n",
        "df = pd.read_csv(f,header=0)\n"
      ],
      "metadata": {
        "id": "UvKHa4o2tbYJ"
      },
      "execution_count": 99,
      "outputs": []
    },
    {
      "cell_type": "markdown",
      "source": [
        "Closing Price (USD) 종가만 가져온다"
      ],
      "metadata": {
        "id": "4pEExwQfuzBR"
      }
    },
    {
      "cell_type": "code",
      "source": [
        "seq = df[['Closing Price (USD)']].to_numpy()"
      ],
      "metadata": {
        "id": "oipLVQwtu1Sy"
      },
      "execution_count": 100,
      "outputs": []
    },
    {
      "cell_type": "code",
      "source": [
        "def seq2dataset(seq,window,horizon):\n",
        "    X=[]; Y=[]\n",
        "    for i in range(len(seq)-(window+horizon)+1):\n",
        "        x=seq[i:(i+window)]\n",
        "        y=(seq[i+window+horizon-1])\n",
        "        X.append(x); Y.append(y)\n",
        "    return np.array(X), np.array(Y)"
      ],
      "metadata": {
        "id": "TeAXBJ0OvIBx"
      },
      "execution_count": 103,
      "outputs": []
    },
    {
      "cell_type": "code",
      "source": [
        "w=7 # 윈도우 크기\n",
        "h=1 # 수평선 계수\n",
        "\n",
        "X,Y = seq2dataset(seq,w,h)"
      ],
      "metadata": {
        "id": "TTAu1oU-vL5R"
      },
      "execution_count": 104,
      "outputs": []
    },
    {
      "cell_type": "code",
      "source": [
        "# 훈련 집합과 테스트 집합으로 분할\n",
        "split=int(len(X)*0.7)\n",
        "x_train=X[0:split]; y_train=Y[0:split]\n",
        "x_test=X[split:]; y_test=Y[split:]"
      ],
      "metadata": {
        "id": "jqXLcxo28zlx"
      },
      "execution_count": 105,
      "outputs": []
    },
    {
      "cell_type": "code",
      "source": [
        "x_train[0].shape"
      ],
      "metadata": {
        "colab": {
          "base_uri": "https://localhost:8080/"
        },
        "id": "Oj6jm9aG9W-K",
        "outputId": "69f15d96-a00b-4576-c716-b0e3920ac75f"
      },
      "execution_count": 106,
      "outputs": [
        {
          "output_type": "execute_result",
          "data": {
            "text/plain": [
              "(7, 1)"
            ]
          },
          "metadata": {},
          "execution_count": 106
        }
      ]
    },
    {
      "cell_type": "code",
      "source": [
        "# LSTM 모델 설계와 학습\n",
        "model=Sequential()\n",
        "model.add(LSTM(units=128,activation='relu',input_shape=x_train[0].shape))\n",
        "model.add(Dense(1))\n",
        "model.compile(loss='mae',optimizer='adam',metrics=['mae'])\n",
        "hist=model.fit(x_train,y_train,epochs=200,batch_size=1,validation_data=(x_test,y_test),verbose=2)"
      ],
      "metadata": {
        "colab": {
          "base_uri": "https://localhost:8080/"
        },
        "id": "PEyifYza82YZ",
        "outputId": "618da7da-ca56-42ae-fe8c-3cae006ce156"
      },
      "execution_count": null,
      "outputs": [
        {
          "output_type": "stream",
          "name": "stdout",
          "text": [
            "Epoch 1/200\n",
            "250/250 - 2s - loss: 1685.9900 - mae: 1685.9900 - val_loss: 474.6467 - val_mae: 474.6467 - 2s/epoch - 10ms/step\n",
            "Epoch 2/200\n",
            "250/250 - 1s - loss: 550.0173 - mae: 550.0173 - val_loss: 337.6149 - val_mae: 337.6149 - 996ms/epoch - 4ms/step\n",
            "Epoch 3/200\n",
            "250/250 - 1s - loss: 529.8935 - mae: 529.8935 - val_loss: 493.8566 - val_mae: 493.8566 - 977ms/epoch - 4ms/step\n",
            "Epoch 4/200\n",
            "250/250 - 1s - loss: 524.9998 - mae: 524.9998 - val_loss: 322.3449 - val_mae: 322.3449 - 929ms/epoch - 4ms/step\n",
            "Epoch 5/200\n",
            "250/250 - 1s - loss: 516.8251 - mae: 516.8251 - val_loss: 566.7067 - val_mae: 566.7067 - 1s/epoch - 4ms/step\n",
            "Epoch 6/200\n",
            "250/250 - 1s - loss: 528.4459 - mae: 528.4459 - val_loss: 511.4722 - val_mae: 511.4722 - 1s/epoch - 4ms/step\n",
            "Epoch 7/200\n",
            "250/250 - 1s - loss: 561.3167 - mae: 561.3167 - val_loss: 305.9604 - val_mae: 305.9604 - 927ms/epoch - 4ms/step\n",
            "Epoch 8/200\n",
            "250/250 - 1s - loss: 491.8047 - mae: 491.8047 - val_loss: 311.7328 - val_mae: 311.7328 - 934ms/epoch - 4ms/step\n",
            "Epoch 9/200\n",
            "250/250 - 1s - loss: 458.5429 - mae: 458.5429 - val_loss: 425.4603 - val_mae: 425.4603 - 1s/epoch - 4ms/step\n",
            "Epoch 10/200\n",
            "250/250 - 1s - loss: 485.2191 - mae: 485.2191 - val_loss: 289.8835 - val_mae: 289.8835 - 961ms/epoch - 4ms/step\n",
            "Epoch 11/200\n",
            "250/250 - 1s - loss: 529.4968 - mae: 529.4968 - val_loss: 366.8778 - val_mae: 366.8778 - 1s/epoch - 4ms/step\n",
            "Epoch 12/200\n",
            "250/250 - 1s - loss: 486.8869 - mae: 486.8869 - val_loss: 610.8090 - val_mae: 610.8090 - 1s/epoch - 4ms/step\n",
            "Epoch 13/200\n",
            "250/250 - 1s - loss: 438.1591 - mae: 438.1591 - val_loss: 697.6478 - val_mae: 697.6478 - 1s/epoch - 4ms/step\n",
            "Epoch 14/200\n",
            "250/250 - 1s - loss: 868.2014 - mae: 868.2014 - val_loss: 1999.4678 - val_mae: 1999.4678 - 925ms/epoch - 4ms/step\n",
            "Epoch 15/200\n",
            "250/250 - 1s - loss: 609.7247 - mae: 609.7247 - val_loss: 321.0951 - val_mae: 321.0951 - 1s/epoch - 4ms/step\n",
            "Epoch 16/200\n",
            "250/250 - 1s - loss: 566.6058 - mae: 566.6058 - val_loss: 319.8151 - val_mae: 319.8151 - 1s/epoch - 4ms/step\n",
            "Epoch 17/200\n",
            "250/250 - 1s - loss: 518.2106 - mae: 518.2106 - val_loss: 345.3527 - val_mae: 345.3527 - 1s/epoch - 4ms/step\n",
            "Epoch 18/200\n",
            "250/250 - 1s - loss: 537.8448 - mae: 537.8448 - val_loss: 316.5757 - val_mae: 316.5757 - 894ms/epoch - 4ms/step\n",
            "Epoch 19/200\n",
            "250/250 - 1s - loss: 523.1553 - mae: 523.1553 - val_loss: 319.8768 - val_mae: 319.8768 - 1s/epoch - 4ms/step\n",
            "Epoch 20/200\n",
            "250/250 - 1s - loss: 492.0746 - mae: 492.0746 - val_loss: 415.7755 - val_mae: 415.7755 - 970ms/epoch - 4ms/step\n",
            "Epoch 21/200\n",
            "250/250 - 1s - loss: 530.3979 - mae: 530.3979 - val_loss: 425.3672 - val_mae: 425.3672 - 1s/epoch - 4ms/step\n",
            "Epoch 22/200\n",
            "250/250 - 1s - loss: 497.4564 - mae: 497.4564 - val_loss: 372.5680 - val_mae: 372.5680 - 1s/epoch - 4ms/step\n",
            "Epoch 23/200\n",
            "250/250 - 1s - loss: 482.9650 - mae: 482.9650 - val_loss: 304.2242 - val_mae: 304.2242 - 1s/epoch - 4ms/step\n",
            "Epoch 24/200\n",
            "250/250 - 1s - loss: 502.5948 - mae: 502.5948 - val_loss: 307.9621 - val_mae: 307.9621 - 1s/epoch - 5ms/step\n",
            "Epoch 25/200\n",
            "250/250 - 1s - loss: 475.1891 - mae: 475.1891 - val_loss: 297.5155 - val_mae: 297.5155 - 1s/epoch - 5ms/step\n",
            "Epoch 26/200\n",
            "250/250 - 1s - loss: 483.5179 - mae: 483.5179 - val_loss: 291.1043 - val_mae: 291.1043 - 1s/epoch - 5ms/step\n",
            "Epoch 27/200\n",
            "250/250 - 1s - loss: 460.9529 - mae: 460.9529 - val_loss: 295.4939 - val_mae: 295.4939 - 1s/epoch - 5ms/step\n",
            "Epoch 28/200\n",
            "250/250 - 1s - loss: 458.8946 - mae: 458.8946 - val_loss: 606.1651 - val_mae: 606.1651 - 1s/epoch - 5ms/step\n",
            "Epoch 29/200\n"
          ]
        }
      ]
    },
    {
      "cell_type": "code",
      "source": [],
      "metadata": {
        "id": "mH5bGxz884Y5"
      },
      "execution_count": null,
      "outputs": []
    }
  ]
}