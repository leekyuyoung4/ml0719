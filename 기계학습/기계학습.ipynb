{
 "cells": [
  {
   "cell_type": "code",
   "execution_count": 1,
   "id": "3567e200",
   "metadata": {},
   "outputs": [],
   "source": [
    "# 인공지능 -> 기계학습 -> 신경망 -> 딥러닝"
   ]
  },
  {
   "cell_type": "code",
   "execution_count": 2,
   "id": "3ec09c22",
   "metadata": {},
   "outputs": [],
   "source": [
    "# 가장단순한 iris 데이터 ... start"
   ]
  },
  {
   "cell_type": "code",
   "execution_count": 3,
   "id": "50d9013a",
   "metadata": {},
   "outputs": [
    {
     "name": "stdout",
     "output_type": "stream",
     "text": [
      "Requirement already satisfied: scikit-learn in c:\\users\\user\\miniconda3\\envs\\ml\\lib\\site-packages (1.1.2)\n",
      "Requirement already satisfied: numpy>=1.17.3 in c:\\users\\user\\miniconda3\\envs\\ml\\lib\\site-packages (from scikit-learn) (1.23.1)\n",
      "Requirement already satisfied: threadpoolctl>=2.0.0 in c:\\users\\user\\miniconda3\\envs\\ml\\lib\\site-packages (from scikit-learn) (3.1.0)\n",
      "Requirement already satisfied: scipy>=1.3.2 in c:\\users\\user\\miniconda3\\envs\\ml\\lib\\site-packages (from scikit-learn) (1.9.0)\n",
      "Requirement already satisfied: joblib>=1.0.0 in c:\\users\\user\\miniconda3\\envs\\ml\\lib\\site-packages (from scikit-learn) (1.1.0)\n"
     ]
    }
   ],
   "source": [
    "!pip install scikit-learn"
   ]
  },
  {
   "cell_type": "code",
   "execution_count": 4,
   "id": "b7ccf75a",
   "metadata": {},
   "outputs": [],
   "source": [
    "from sklearn import datasets"
   ]
  },
  {
   "cell_type": "code",
   "execution_count": 5,
   "id": "fdeaa64d",
   "metadata": {},
   "outputs": [],
   "source": [
    "d = datasets.load_iris()"
   ]
  },
  {
   "cell_type": "code",
   "execution_count": 6,
   "id": "1e081caf",
   "metadata": {},
   "outputs": [
    {
     "name": "stdout",
     "output_type": "stream",
     "text": [
      ".. _iris_dataset:\n",
      "\n",
      "Iris plants dataset\n",
      "--------------------\n",
      "\n",
      "**Data Set Characteristics:**\n",
      "\n",
      "    :Number of Instances: 150 (50 in each of three classes)\n",
      "    :Number of Attributes: 4 numeric, predictive attributes and the class\n",
      "    :Attribute Information:\n",
      "        - sepal length in cm\n",
      "        - sepal width in cm\n",
      "        - petal length in cm\n",
      "        - petal width in cm\n",
      "        - class:\n",
      "                - Iris-Setosa\n",
      "                - Iris-Versicolour\n",
      "                - Iris-Virginica\n",
      "                \n",
      "    :Summary Statistics:\n",
      "\n",
      "    ============== ==== ==== ======= ===== ====================\n",
      "                    Min  Max   Mean    SD   Class Correlation\n",
      "    ============== ==== ==== ======= ===== ====================\n",
      "    sepal length:   4.3  7.9   5.84   0.83    0.7826\n",
      "    sepal width:    2.0  4.4   3.05   0.43   -0.4194\n",
      "    petal length:   1.0  6.9   3.76   1.76    0.9490  (high!)\n",
      "    petal width:    0.1  2.5   1.20   0.76    0.9565  (high!)\n",
      "    ============== ==== ==== ======= ===== ====================\n",
      "\n",
      "    :Missing Attribute Values: None\n",
      "    :Class Distribution: 33.3% for each of 3 classes.\n",
      "    :Creator: R.A. Fisher\n",
      "    :Donor: Michael Marshall (MARSHALL%PLU@io.arc.nasa.gov)\n",
      "    :Date: July, 1988\n",
      "\n",
      "The famous Iris database, first used by Sir R.A. Fisher. The dataset is taken\n",
      "from Fisher's paper. Note that it's the same as in R, but not as in the UCI\n",
      "Machine Learning Repository, which has two wrong data points.\n",
      "\n",
      "This is perhaps the best known database to be found in the\n",
      "pattern recognition literature.  Fisher's paper is a classic in the field and\n",
      "is referenced frequently to this day.  (See Duda & Hart, for example.)  The\n",
      "data set contains 3 classes of 50 instances each, where each class refers to a\n",
      "type of iris plant.  One class is linearly separable from the other 2; the\n",
      "latter are NOT linearly separable from each other.\n",
      "\n",
      ".. topic:: References\n",
      "\n",
      "   - Fisher, R.A. \"The use of multiple measurements in taxonomic problems\"\n",
      "     Annual Eugenics, 7, Part II, 179-188 (1936); also in \"Contributions to\n",
      "     Mathematical Statistics\" (John Wiley, NY, 1950).\n",
      "   - Duda, R.O., & Hart, P.E. (1973) Pattern Classification and Scene Analysis.\n",
      "     (Q327.D83) John Wiley & Sons.  ISBN 0-471-22361-1.  See page 218.\n",
      "   - Dasarathy, B.V. (1980) \"Nosing Around the Neighborhood: A New System\n",
      "     Structure and Classification Rule for Recognition in Partially Exposed\n",
      "     Environments\".  IEEE Transactions on Pattern Analysis and Machine\n",
      "     Intelligence, Vol. PAMI-2, No. 1, 67-71.\n",
      "   - Gates, G.W. (1972) \"The Reduced Nearest Neighbor Rule\".  IEEE Transactions\n",
      "     on Information Theory, May 1972, 431-433.\n",
      "   - See also: 1988 MLC Proceedings, 54-64.  Cheeseman et al\"s AUTOCLASS II\n",
      "     conceptual clustering system finds 3 classes in the data.\n",
      "   - Many, many more ...\n"
     ]
    }
   ],
   "source": [
    "print(d.DESCR)"
   ]
  },
  {
   "cell_type": "code",
   "execution_count": 7,
   "id": "04e0eef6",
   "metadata": {},
   "outputs": [],
   "source": [
    "# 특징을 구분하는 특징벡터(feature vector)\n",
    "# 부류(class)"
   ]
  },
  {
   "cell_type": "code",
   "execution_count": 8,
   "id": "5bb3e53a",
   "metadata": {},
   "outputs": [
    {
     "name": "stdout",
     "output_type": "stream",
     "text": [
      "1 [5.1 3.5 1.4 0.2] 0\n",
      "2 [4.9 3.  1.4 0.2] 0\n",
      "3 [4.7 3.2 1.3 0.2] 0\n",
      "4 [4.6 3.1 1.5 0.2] 0\n",
      "5 [5.  3.6 1.4 0.2] 0\n",
      "6 [5.4 3.9 1.7 0.4] 0\n",
      "7 [4.6 3.4 1.4 0.3] 0\n",
      "8 [5.  3.4 1.5 0.2] 0\n",
      "9 [4.4 2.9 1.4 0.2] 0\n",
      "10 [4.9 3.1 1.5 0.1] 0\n",
      "11 [5.4 3.7 1.5 0.2] 0\n",
      "12 [4.8 3.4 1.6 0.2] 0\n",
      "13 [4.8 3.  1.4 0.1] 0\n",
      "14 [4.3 3.  1.1 0.1] 0\n",
      "15 [5.8 4.  1.2 0.2] 0\n",
      "16 [5.7 4.4 1.5 0.4] 0\n",
      "17 [5.4 3.9 1.3 0.4] 0\n",
      "18 [5.1 3.5 1.4 0.3] 0\n",
      "19 [5.7 3.8 1.7 0.3] 0\n",
      "20 [5.1 3.8 1.5 0.3] 0\n",
      "21 [5.4 3.4 1.7 0.2] 0\n",
      "22 [5.1 3.7 1.5 0.4] 0\n",
      "23 [4.6 3.6 1.  0.2] 0\n",
      "24 [5.1 3.3 1.7 0.5] 0\n",
      "25 [4.8 3.4 1.9 0.2] 0\n",
      "26 [5.  3.  1.6 0.2] 0\n",
      "27 [5.  3.4 1.6 0.4] 0\n",
      "28 [5.2 3.5 1.5 0.2] 0\n",
      "29 [5.2 3.4 1.4 0.2] 0\n",
      "30 [4.7 3.2 1.6 0.2] 0\n",
      "31 [4.8 3.1 1.6 0.2] 0\n",
      "32 [5.4 3.4 1.5 0.4] 0\n",
      "33 [5.2 4.1 1.5 0.1] 0\n",
      "34 [5.5 4.2 1.4 0.2] 0\n",
      "35 [4.9 3.1 1.5 0.2] 0\n",
      "36 [5.  3.2 1.2 0.2] 0\n",
      "37 [5.5 3.5 1.3 0.2] 0\n",
      "38 [4.9 3.6 1.4 0.1] 0\n",
      "39 [4.4 3.  1.3 0.2] 0\n",
      "40 [5.1 3.4 1.5 0.2] 0\n",
      "41 [5.  3.5 1.3 0.3] 0\n",
      "42 [4.5 2.3 1.3 0.3] 0\n",
      "43 [4.4 3.2 1.3 0.2] 0\n",
      "44 [5.  3.5 1.6 0.6] 0\n",
      "45 [5.1 3.8 1.9 0.4] 0\n",
      "46 [4.8 3.  1.4 0.3] 0\n",
      "47 [5.1 3.8 1.6 0.2] 0\n",
      "48 [4.6 3.2 1.4 0.2] 0\n",
      "49 [5.3 3.7 1.5 0.2] 0\n",
      "50 [5.  3.3 1.4 0.2] 0\n",
      "51 [7.  3.2 4.7 1.4] 1\n",
      "52 [6.4 3.2 4.5 1.5] 1\n",
      "53 [6.9 3.1 4.9 1.5] 1\n",
      "54 [5.5 2.3 4.  1.3] 1\n",
      "55 [6.5 2.8 4.6 1.5] 1\n",
      "56 [5.7 2.8 4.5 1.3] 1\n",
      "57 [6.3 3.3 4.7 1.6] 1\n",
      "58 [4.9 2.4 3.3 1. ] 1\n",
      "59 [6.6 2.9 4.6 1.3] 1\n",
      "60 [5.2 2.7 3.9 1.4] 1\n",
      "61 [5.  2.  3.5 1. ] 1\n",
      "62 [5.9 3.  4.2 1.5] 1\n",
      "63 [6.  2.2 4.  1. ] 1\n",
      "64 [6.1 2.9 4.7 1.4] 1\n",
      "65 [5.6 2.9 3.6 1.3] 1\n",
      "66 [6.7 3.1 4.4 1.4] 1\n",
      "67 [5.6 3.  4.5 1.5] 1\n",
      "68 [5.8 2.7 4.1 1. ] 1\n",
      "69 [6.2 2.2 4.5 1.5] 1\n",
      "70 [5.6 2.5 3.9 1.1] 1\n",
      "71 [5.9 3.2 4.8 1.8] 1\n",
      "72 [6.1 2.8 4.  1.3] 1\n",
      "73 [6.3 2.5 4.9 1.5] 1\n",
      "74 [6.1 2.8 4.7 1.2] 1\n",
      "75 [6.4 2.9 4.3 1.3] 1\n",
      "76 [6.6 3.  4.4 1.4] 1\n",
      "77 [6.8 2.8 4.8 1.4] 1\n",
      "78 [6.7 3.  5.  1.7] 1\n",
      "79 [6.  2.9 4.5 1.5] 1\n",
      "80 [5.7 2.6 3.5 1. ] 1\n",
      "81 [5.5 2.4 3.8 1.1] 1\n",
      "82 [5.5 2.4 3.7 1. ] 1\n",
      "83 [5.8 2.7 3.9 1.2] 1\n",
      "84 [6.  2.7 5.1 1.6] 1\n",
      "85 [5.4 3.  4.5 1.5] 1\n",
      "86 [6.  3.4 4.5 1.6] 1\n",
      "87 [6.7 3.1 4.7 1.5] 1\n",
      "88 [6.3 2.3 4.4 1.3] 1\n",
      "89 [5.6 3.  4.1 1.3] 1\n",
      "90 [5.5 2.5 4.  1.3] 1\n",
      "91 [5.5 2.6 4.4 1.2] 1\n",
      "92 [6.1 3.  4.6 1.4] 1\n",
      "93 [5.8 2.6 4.  1.2] 1\n",
      "94 [5.  2.3 3.3 1. ] 1\n",
      "95 [5.6 2.7 4.2 1.3] 1\n",
      "96 [5.7 3.  4.2 1.2] 1\n",
      "97 [5.7 2.9 4.2 1.3] 1\n",
      "98 [6.2 2.9 4.3 1.3] 1\n",
      "99 [5.1 2.5 3.  1.1] 1\n",
      "100 [5.7 2.8 4.1 1.3] 1\n",
      "101 [6.3 3.3 6.  2.5] 2\n",
      "102 [5.8 2.7 5.1 1.9] 2\n",
      "103 [7.1 3.  5.9 2.1] 2\n",
      "104 [6.3 2.9 5.6 1.8] 2\n",
      "105 [6.5 3.  5.8 2.2] 2\n",
      "106 [7.6 3.  6.6 2.1] 2\n",
      "107 [4.9 2.5 4.5 1.7] 2\n",
      "108 [7.3 2.9 6.3 1.8] 2\n",
      "109 [6.7 2.5 5.8 1.8] 2\n",
      "110 [7.2 3.6 6.1 2.5] 2\n",
      "111 [6.5 3.2 5.1 2. ] 2\n",
      "112 [6.4 2.7 5.3 1.9] 2\n",
      "113 [6.8 3.  5.5 2.1] 2\n",
      "114 [5.7 2.5 5.  2. ] 2\n",
      "115 [5.8 2.8 5.1 2.4] 2\n",
      "116 [6.4 3.2 5.3 2.3] 2\n",
      "117 [6.5 3.  5.5 1.8] 2\n",
      "118 [7.7 3.8 6.7 2.2] 2\n",
      "119 [7.7 2.6 6.9 2.3] 2\n",
      "120 [6.  2.2 5.  1.5] 2\n",
      "121 [6.9 3.2 5.7 2.3] 2\n",
      "122 [5.6 2.8 4.9 2. ] 2\n",
      "123 [7.7 2.8 6.7 2. ] 2\n",
      "124 [6.3 2.7 4.9 1.8] 2\n",
      "125 [6.7 3.3 5.7 2.1] 2\n",
      "126 [7.2 3.2 6.  1.8] 2\n",
      "127 [6.2 2.8 4.8 1.8] 2\n",
      "128 [6.1 3.  4.9 1.8] 2\n",
      "129 [6.4 2.8 5.6 2.1] 2\n",
      "130 [7.2 3.  5.8 1.6] 2\n",
      "131 [7.4 2.8 6.1 1.9] 2\n",
      "132 [7.9 3.8 6.4 2. ] 2\n",
      "133 [6.4 2.8 5.6 2.2] 2\n",
      "134 [6.3 2.8 5.1 1.5] 2\n",
      "135 [6.1 2.6 5.6 1.4] 2\n",
      "136 [7.7 3.  6.1 2.3] 2\n",
      "137 [6.3 3.4 5.6 2.4] 2\n",
      "138 [6.4 3.1 5.5 1.8] 2\n",
      "139 [6.  3.  4.8 1.8] 2\n",
      "140 [6.9 3.1 5.4 2.1] 2\n",
      "141 [6.7 3.1 5.6 2.4] 2\n",
      "142 [6.9 3.1 5.1 2.3] 2\n",
      "143 [5.8 2.7 5.1 1.9] 2\n",
      "144 [6.8 3.2 5.9 2.3] 2\n",
      "145 [6.7 3.3 5.7 2.5] 2\n",
      "146 [6.7 3.  5.2 2.3] 2\n",
      "147 [6.3 2.5 5.  1.9] 2\n",
      "148 [6.5 3.  5.2 2. ] 2\n",
      "149 [6.2 3.4 5.4 2.3] 2\n",
      "150 [5.9 3.  5.1 1.8] 2\n"
     ]
    }
   ],
   "source": [
    "# 데이터를 순서대로 출력\n",
    "for i in range(len(d.data)):\n",
    "    print(i+1,d.data[i],d.target[i])\n",
    "\n",
    "\n"
   ]
  },
  {
   "cell_type": "code",
   "execution_count": 9,
   "id": "07b354cc",
   "metadata": {},
   "outputs": [],
   "source": [
    "# 특징 벡터 x = (x1,x2.... xd)\n",
    "# 레이블 0 1 2  -> 원핫 인코딩\n",
    "# Setosa        0    (1,0,0)\n",
    "# Versicolour   1    (0,1,0)\n",
    "# Virginica     2    (0,0,1)"
   ]
  },
  {
   "cell_type": "code",
   "execution_count": 10,
   "id": "52f52fab",
   "metadata": {},
   "outputs": [
    {
     "data": {
      "text/plain": [
       "(150, 4)"
      ]
     },
     "execution_count": 10,
     "metadata": {},
     "output_type": "execute_result"
    }
   ],
   "source": [
    "len(d.data), len(d.data[0])"
   ]
  },
  {
   "cell_type": "code",
   "execution_count": 11,
   "id": "f57dc4e9",
   "metadata": {},
   "outputs": [],
   "source": [
    "# 분류모델 SVM(support vector machine)\n",
    "from sklearn import svm"
   ]
  },
  {
   "cell_type": "code",
   "execution_count": 12,
   "id": "60170db8",
   "metadata": {},
   "outputs": [
    {
     "data": {
      "text/plain": [
       "SVC()"
      ]
     },
     "execution_count": 12,
     "metadata": {},
     "output_type": "execute_result"
    }
   ],
   "source": [
    "#. 1. 모델을 객체화\n",
    "s = svm.SVC()\n",
    "# 2. 객체를 가지고 데이터를 적용 fit  훈련집합(독립변수, 종족변수) - 학습\n",
    "s.fit(d.data, d.target)\n"
   ]
  },
  {
   "cell_type": "code",
   "execution_count": 13,
   "id": "ba414315",
   "metadata": {},
   "outputs": [
    {
     "data": {
      "text/plain": [
       "(array([6.3, 3.3, 6. , 2.5]), array([7. , 3.2, 4.7, 1.4]))"
      ]
     },
     "execution_count": 13,
     "metadata": {},
     "output_type": "execute_result"
    }
   ],
   "source": [
    "#d가 가지고 있는 데이터 중에서 100,50데이터를 샘플을 변형\n",
    "d.data[100],d.data[50]"
   ]
  },
  {
   "cell_type": "code",
   "execution_count": 14,
   "id": "b07a042f",
   "metadata": {},
   "outputs": [
    {
     "data": {
      "text/plain": [
       "[[7.3, 4.3, 7.0, 3.5], [6.0, 2.2, 3.7, 0.3999999999999999]]"
      ]
     },
     "execution_count": 14,
     "metadata": {},
     "output_type": "execute_result"
    }
   ],
   "source": [
    "list((d.data[100]+1))\n",
    "new_d = [list(d.data[100]+1),list(d.data[50]-1)]\n",
    "new_d\n"
   ]
  },
  {
   "cell_type": "code",
   "execution_count": 15,
   "id": "8c4a8de0",
   "metadata": {},
   "outputs": [
    {
     "data": {
      "text/plain": [
       "array([2, 1])"
      ]
     },
     "execution_count": 15,
     "metadata": {},
     "output_type": "execute_result"
    }
   ],
   "source": [
    "# 3. 새로운(검증용) 셈플을 예측\n",
    "res = s.predict(new_d)\n",
    "res"
   ]
  },
  {
   "cell_type": "code",
   "execution_count": 16,
   "id": "65032988",
   "metadata": {},
   "outputs": [
    {
     "data": {
      "text/plain": [
       "(2, 1)"
      ]
     },
     "execution_count": 16,
     "metadata": {},
     "output_type": "execute_result"
    }
   ],
   "source": [
    "d.target[100], d.target[50]"
   ]
  },
  {
   "cell_type": "code",
   "execution_count": 17,
   "id": "a53daf78",
   "metadata": {},
   "outputs": [],
   "source": [
    "# 훈련 집합 vs 테스트 집합"
   ]
  },
  {
   "cell_type": "code",
   "execution_count": 18,
   "id": "d3611b8f",
   "metadata": {},
   "outputs": [],
   "source": [
    "# 하이퍼 매개변수\n",
    "# 학습전에 설정 - 적절한 값 - 최적의 성능\n",
    "# 최적의 하이퍼 매개변수값을 자동으로 설정--> 매개변수 최적화"
   ]
  },
  {
   "cell_type": "code",
   "execution_count": 19,
   "id": "4936b07e",
   "metadata": {},
   "outputs": [],
   "source": [
    "# 인공지능 설계\n",
    "# 1. 데이터 확보\n",
    "#    상중하 비율이 비슷하게 수집(농작물 사과) - 여러농장 수집 - data bias를 방지 - 데이터 편중\n",
    "#    이미지로 저장\n",
    "# 2. 특성 벡터와 레이블 준비\n",
    "#    어떤특징 : 크기, 색갈, 표면의 균일도, 당도\n",
    "# 3. 데이터를 전처리  na, outlier, create(수치형 데이터->범주형 데이터)  재 해석\n",
    "# 4. 적합한 머신러닝을  선택\n",
    "#     하이퍼 매개변수 최적화, 정규화/표준화, 결과비교\n",
    "# 5. 실제 적용"
   ]
  },
  {
   "cell_type": "code",
   "execution_count": 20,
   "id": "793f4772",
   "metadata": {},
   "outputs": [],
   "source": [
    "# 규칙기반 vs 고전적 기계학습 vs 딥러닝"
   ]
  },
  {
   "cell_type": "code",
   "execution_count": 21,
   "id": "08f6709c",
   "metadata": {},
   "outputs": [],
   "source": [
    "# 규칙기반 - 분류하는 규칙을 사람이 - 과거에 사용\n",
    "# 기계학습 - 규칙을 기계학습모델을 이용\n",
    "# 딥러닝 - 특징 벡터를 학습을통해서 자동으로 알아냄,, 특징학습 / 표현학습 \n",
    "#   특징추출과 분류를 동시에 최적화... 성능보장"
   ]
  },
  {
   "cell_type": "code",
   "execution_count": 22,
   "id": "74db7306",
   "metadata": {},
   "outputs": [],
   "source": [
    "# 특징공간에서 데이터 분포\n",
    "# 사이킷런에서 제공하는 데이터"
   ]
  },
  {
   "cell_type": "code",
   "execution_count": 23,
   "id": "24781893",
   "metadata": {},
   "outputs": [
    {
     "name": "stdout",
     "output_type": "stream",
     "text": [
      "Requirement already satisfied: plotly in c:\\users\\user\\anaconda3\\envs\\yourenvname\\lib\\site-packages (5.8.2)\n",
      "Requirement already satisfied: tenacity>=6.2.0 in c:\\users\\user\\anaconda3\\envs\\yourenvname\\lib\\site-packages (from plotly) (8.0.1)\n",
      "Note: you may need to restart the kernel to use updated packages.\n"
     ]
    }
   ],
   "source": [
    "pip install plotly"
   ]
  },
  {
   "cell_type": "code",
   "execution_count": 24,
   "id": "014d3af9",
   "metadata": {},
   "outputs": [],
   "source": [
    "import plotly.express as px"
   ]
  },
  {
   "cell_type": "code",
   "execution_count": 25,
   "id": "fcf47d61",
   "metadata": {},
   "outputs": [],
   "source": [
    "df= px.data.iris()\n",
    "fig = px.scatter_3d(df,x='sepal_length', y = 'sepal_width', z='petal_width', color='species')\n",
    "fig.show(renderer='browser')"
   ]
  },
  {
   "cell_type": "code",
   "execution_count": 26,
   "id": "74c5aeac",
   "metadata": {},
   "outputs": [],
   "source": [
    "# 다차원 공간의 특징\n",
    "# 2차원 상의 두 점의 거리  x = (x1,x2), y = (y1,y2) d(x,y) = root((x1-y2)**2 + (x2-y2)**2)\n",
    "# d차원상의 두점의 거리  d(x,y) = root(sigma(i = 1~d)(xi-yi)**2 )"
   ]
  },
  {
   "cell_type": "code",
   "execution_count": 27,
   "id": "d1883a08",
   "metadata": {},
   "outputs": [],
   "source": [
    "# 기계학습.. 차원이 수백 ~ 수만 개의 차원\n",
    "# 차원은 곧 우리가 다룰 또는 학습할 데이터의 컬럼 또는 퓨처"
   ]
  },
  {
   "cell_type": "code",
   "execution_count": 28,
   "id": "2b1e37e6",
   "metadata": {},
   "outputs": [],
   "source": [
    "# 필기 숫자 데이터셋\n",
    "# 사이킷런. 8x8(64개 화소)  [0,16]명암\n",
    "# MNIST 데이터셋 : 28  X 28(784화소) [90,255]명암"
   ]
  },
  {
   "cell_type": "code",
   "execution_count": 29,
   "id": "dded4bb7",
   "metadata": {},
   "outputs": [],
   "source": [
    "import matplotlib.pyplot as plt\n",
    "import seaborn as sns"
   ]
  },
  {
   "cell_type": "code",
   "execution_count": 30,
   "id": "8e817a11",
   "metadata": {},
   "outputs": [],
   "source": [
    "digit = datasets.load_digits()"
   ]
  },
  {
   "cell_type": "code",
   "execution_count": 31,
   "id": "c002d7c9",
   "metadata": {},
   "outputs": [
    {
     "data": {
      "text/plain": [
       "array([[ 0.,  0.,  5., 13.,  9.,  1.,  0.,  0.],\n",
       "       [ 0.,  0., 13., 15., 10., 15.,  5.,  0.],\n",
       "       [ 0.,  3., 15.,  2.,  0., 11.,  8.,  0.],\n",
       "       [ 0.,  4., 12.,  0.,  0.,  8.,  8.,  0.],\n",
       "       [ 0.,  5.,  8.,  0.,  0.,  9.,  8.,  0.],\n",
       "       [ 0.,  4., 11.,  0.,  1., 12.,  7.,  0.],\n",
       "       [ 0.,  2., 14.,  5., 10., 12.,  0.,  0.],\n",
       "       [ 0.,  0.,  6., 13., 10.,  0.,  0.,  0.]])"
      ]
     },
     "execution_count": 31,
     "metadata": {},
     "output_type": "execute_result"
    }
   ],
   "source": [
    "digit.images[0]"
   ]
  },
  {
   "cell_type": "code",
   "execution_count": 32,
   "id": "48b82d8f",
   "metadata": {},
   "outputs": [
    {
     "data": {
      "image/png": "[encoded data removed]",
      "text/plain": [
       "<Figure size 432x288 with 1 Axes>"
      ]
     },
     "metadata": {
      "needs_background": "light"
     },
     "output_type": "display_data"
    },
    {
     "name": "stdout",
     "output_type": "stream",
     "text": [
      "이 숫자는  0  입니다.\n"
     ]
    }
   ],
   "source": [
    "plt.imshow(digit.images[0],cmap=plt.cm.gray_r,interpolation='nearest')\n",
    "plt.show()\n",
    "print(\"이 숫자는 \",digit.target[0],\" 입니다.\")"
   ]
  },
  {
   "cell_type": "code",
   "execution_count": 33,
   "id": "969f47db",
   "metadata": {},
   "outputs": [],
   "source": [
    "# lfw 데이터셋  유명인의 얼굴영상 50 x 37  0,255 명암\n",
    "# 데이터편향(어린이,다양한 인종이 없음(주로 백인)) -> 얼굴인식프로그램 못 만든다"
   ]
  },
  {
   "cell_type": "code",
   "execution_count": 37,
   "id": "96027142",
   "metadata": {},
   "outputs": [],
   "source": [
    "lfw = datasets.fetch_lfw_people(min_faces_per_person=10,resize=0.4)"
   ]
  },
  {
   "cell_type": "code",
   "execution_count": 41,
   "id": "253cc370",
   "metadata": {},
   "outputs": [
    {
     "data": {
      "text/plain": [
       "(50, 37)"
      ]
     },
     "execution_count": 41,
     "metadata": {},
     "output_type": "execute_result"
    }
   ],
   "source": [
    "lfw.images[0].shape"
   ]
  },
  {
   "cell_type": "code",
   "execution_count": 52,
   "id": "916abc39",
   "metadata": {},
   "outputs": [
    {
     "data": {
      "image/png": "[encoded data removed]",
      "text/plain": [
       "<Figure size 720x720 with 8 Axes>"
      ]
     },
     "metadata": {
      "needs_background": "light"
     },
     "output_type": "display_data"
    }
   ],
   "source": [
    "# 처음 8명을 디스플레이\n",
    "fig,ax = plt.subplots(1,8,figsize=(10,10))\n",
    "for i in range(8):    \n",
    "    ax[i].imshow( lfw.images[i],cmap=plt.cm.bone)"
   ]
  },
  {
   "cell_type": "code",
   "execution_count": 54,
   "id": "896d6eed",
   "metadata": {},
   "outputs": [],
   "source": [
    "# 웹에서 수집한 문서  20개 부류\n",
    "# 시계열 데이터(단어가 나타나는 순서가 중요..) -- 순환신경망에 다룸"
   ]
  },
  {
   "cell_type": "code",
   "execution_count": 59,
   "id": "17ce952b",
   "metadata": {},
   "outputs": [
    {
     "name": "stdout",
     "output_type": "stream",
     "text": [
      "From: lerxst@wam.umd.edu (where's my thing)\n",
      "Subject: WHAT car is this!?\n",
      "Nntp-Posting-Host: rac3.wam.umd.edu\n",
      "Organization: University of Maryland, College Park\n",
      "Lines: 15\n",
      "\n",
      " I was wondering if anyone out there could enlighten me on this car I saw\n",
      "the other day. It was a 2-door sports car, looked to be from the late 60s/\n",
      "early 70s. It was called a Bricklin. The doors were really small. In addition,\n",
      "the front bumper was separate from the rest of the body. This is \n",
      "all I know. If anyone can tellme a model name, engine specs, years\n",
      "of production, where this car is made, history, or whatever info you\n",
      "have on this funky looking car, please e-mail.\n",
      "\n",
      "Thanks,\n",
      "- IL\n",
      "   ---- brought to you by your neighborhood Lerxst ----\n",
      "\n",
      "\n",
      "\n",
      "\n",
      "\n"
     ]
    },
    {
     "data": {
      "text/plain": [
       "'rec.autos'"
      ]
     },
     "execution_count": 59,
     "metadata": {},
     "output_type": "execute_result"
    }
   ],
   "source": [
    "news =  datasets.fetch_20newsgroups(subset='train')\n",
    "print(news.data[0])\n",
    "news.target_names[news.target[0]]"
   ]
  },
  {
   "cell_type": "code",
   "execution_count": 64,
   "id": "291577b4",
   "metadata": {},
   "outputs": [
    {
     "data": {
      "image/jpeg": "[encoded data removed]",
      "text/plain": [
       "<IPython.core.display.Image object>"
      ]
     },
     "execution_count": 64,
     "metadata": {},
     "output_type": "execute_result"
    }
   ],
   "source": [
    "# 특징 추출과 표현\n",
    "# 기계학습의 과정\n",
    "# 데이터수집->특징추출->모델링->예측\n",
    "# 기계학습은 높은 분별력을 지는 특성을 사용해야 \n",
    "# 현대사회에서는 아래와 같은 4가지 종류의 데이터를 사용\n",
    "from IPython import display\n",
    "display.Image('E:/1 강남야간/img/001.jpg')"
   ]
  },
  {
   "cell_type": "code",
   "execution_count": null,
   "id": "c322a8aa",
   "metadata": {},
   "outputs": [],
   "source": [
    "# 특징.. 피처\n",
    "#1. 수치형\n",
    "#    iris 실수, 거리개념,  실수 또는 정수 , 이진값\n",
    "#2. 범주형\n",
    "#     학점,등급,혈액형,지역\n",
    "#   순서형(sequence) : 학점 수능등급, 거리개념, 순서대로 정수를 부여하면 수치형으로 변환\n",
    "#   이름형(category) : 혈액형, 지역  거리개념이 없음  one-hot 코드로 표현 A형0001  "
   ]
  },
  {
   "cell_type": "code",
   "execution_count": 65,
   "id": "1022357a",
   "metadata": {},
   "outputs": [],
   "source": [
    "# 데이터수집->특징추출->모델링->예측 순서대로 필기숫자 데이터셋\n",
    "# 특징추출을위한 코드\n",
    "# sklearn이 제공하는 fit함수 모델링\n",
    "# predict 함수로 예측"
   ]
  },
  {
   "cell_type": "code",
   "execution_count": 66,
   "id": "dc62dac9",
   "metadata": {},
   "outputs": [],
   "source": [
    "# 8*8 64  차원이 64 결국 특징이 64\n",
    "# 2차원벡터를 1차원으로 표현"
   ]
  },
  {
   "cell_type": "code",
   "execution_count": 69,
   "id": "b5df5831",
   "metadata": {},
   "outputs": [
    {
     "data": {
      "text/plain": [
       "SVC(C=10, gamma=0.1)"
      ]
     },
     "execution_count": 69,
     "metadata": {},
     "output_type": "execute_result"
    }
   ],
   "source": [
    "# SVM의 분류기 모델 학습\n",
    "s =  svm.SVC(gamma=0.1,C=10)\n",
    "s.fit(digit.data,digit.target)"
   ]
  },
  {
   "cell_type": "code",
   "execution_count": 73,
   "id": "61beb00f",
   "metadata": {},
   "outputs": [
    {
     "name": "stdout",
     "output_type": "stream",
     "text": [
      "예측값은 : [0 1 2]\n",
      "정답은 : [0 1 2]\n"
     ]
    }
   ],
   "source": [
    "# 처음3개의 데이터를 새로운 셈플 가정\n",
    "new_d = digit.data[:3]\n",
    "predic = s.predict(new_d)\n",
    "print(f\"예측값은 : {predic}\")\n",
    "print(f\"정답은 : {digit.target[:3]}\")"
   ]
  },
  {
   "cell_type": "code",
   "execution_count": 76,
   "id": "c8edadec",
   "metadata": {},
   "outputs": [
    {
     "data": {
      "text/plain": [
       "1.0"
      ]
     },
     "execution_count": 76,
     "metadata": {},
     "output_type": "execute_result"
    }
   ],
   "source": [
    "(predic == digit.target[:3]).mean()"
   ]
  },
  {
   "cell_type": "code",
   "execution_count": 78,
   "id": "653f7641",
   "metadata": {},
   "outputs": [
    {
     "data": {
      "text/plain": [
       "1.0"
      ]
     },
     "execution_count": 78,
     "metadata": {},
     "output_type": "execute_result"
    }
   ],
   "source": [
    "# 훈련데이터를 테스트 집합으로 간주 정확률을 측정\n",
    "predic = s.predict(digit.data)\n",
    "(predic == digit.target).mean()"
   ]
  },
  {
   "cell_type": "code",
   "execution_count": 79,
   "id": "1349d8cd",
   "metadata": {},
   "outputs": [],
   "source": [
    "#성능 측정\n",
    "# 1.객관적인 성능 측정의 중요성\n",
    "#     모델 선택할때 중요\n",
    "#     현장설치 여부를  결정\n",
    "# 2. 일반화 능력\n",
    "#   비학습 데이터에 대한 성능  모델을 수행할때마다 결과가 조금씩 다르다.\n",
    "#   표준화된 성능측정방법이 필요"
   ]
  },
  {
   "cell_type": "code",
   "execution_count": 85,
   "id": "c10f0998",
   "metadata": {},
   "outputs": [
    {
     "data": {
      "image/jpeg": "[encoded data removed]",
      "text/plain": [
       "<IPython.core.display.Image object>"
      ]
     },
     "execution_count": 85,
     "metadata": {
      "image/jpeg": {
       "height": 500,
       "width": 500
      }
     },
     "output_type": "execute_result"
    }
   ],
   "source": [
    "# 혼동행렬 confusion matrix\n",
    "display.Image('E:/1 강남야간/img/002.jpg',width=500, height=500)"
   ]
  },
  {
   "cell_type": "code",
   "execution_count": 86,
   "id": "7d455eee",
   "metadata": {},
   "outputs": [],
   "source": [
    "# 이진분류에서 긍정(positive) 과 부정(nagative)\n",
    "# 검출하고자하는 것이 긍정(환자는긍정, 정상인이 부정, 불량이 긍정, 정상 부정)\n",
    "# confusion matrix는 성능측정 기준 또는 방법\n",
    "# 정확률 accuracy - 부류가 불균형일때 성능을 제대로 측정하지 못함 - 보편적인 측정방법\n",
    "# 맞힌샘플수 / 전체 -- > 대각선 샘플의 수 / 전체 샘플의 수"
   ]
  },
  {
   "cell_type": "code",
   "execution_count": null,
   "id": "fdc66f53",
   "metadata": {},
   "outputs": [],
   "source": [
    "# 특이도(specificity),민감도(sensitivity) --> 의료에서 사용\n",
    "# TN/ TN + FP          TP / TP + FN\n",
    "#  음성중에서 맞춘 음성의수      양성중에서 맞춘 양성의수\n"
   ]
  },
  {
   "cell_type": "code",
   "execution_count": null,
   "id": "73b256cb",
   "metadata": {},
   "outputs": [],
   "source": [
    "# 정밀도(precisioin),재현율(recall) --> 정보검색에서 사용\n",
    "# TP / FP + TP      TP / FN + TP "
   ]
  },
  {
   "cell_type": "code",
   "execution_count": null,
   "id": "5ab010b0",
   "metadata": {},
   "outputs": [],
   "source": [
    "# 훈련 검증 테스트\n",
    "# 모델선택 포함 : 훈련 검증 테스트 집합으로 나눠(모델이 여러개를 놓고 비교평가)\n",
    "# 모델선택 제외 : 훈련 테스트 - 한가지모델(이미 정해진경우)"
   ]
  },
  {
   "cell_type": "code",
   "execution_count": 87,
   "id": "a2237983",
   "metadata": {},
   "outputs": [],
   "source": [
    "from sklearn.model_selection import train_test_split"
   ]
  },
  {
   "cell_type": "code",
   "execution_count": 89,
   "id": "79928ffd",
   "metadata": {},
   "outputs": [],
   "source": [
    "x_train,x_test,y_train,y_test =  train_test_split(digit.data, digit.target,train_size=0.6)"
   ]
  },
  {
   "cell_type": "code",
   "execution_count": 90,
   "id": "dc96be2d",
   "metadata": {},
   "outputs": [
    {
     "data": {
      "text/plain": [
       "SVC(gamma=0.001)"
      ]
     },
     "execution_count": 90,
     "metadata": {},
     "output_type": "execute_result"
    }
   ],
   "source": [
    "# 학습\n",
    "s = svm.SVC(gamma=0.001)\n",
    "s.fit(x_train,y_train)"
   ]
  },
  {
   "cell_type": "code",
   "execution_count": 92,
   "id": "3ff8f5e9",
   "metadata": {},
   "outputs": [],
   "source": [
    "# 예측\n",
    "predict = s.predict(x_test)"
   ]
  },
  {
   "cell_type": "code",
   "execution_count": 97,
   "id": "107b0522",
   "metadata": {},
   "outputs": [
    {
     "data": {
      "text/plain": [
       "array([0, 1, 2, 3, 4, 5, 6, 7, 8, 9])"
      ]
     },
     "execution_count": 97,
     "metadata": {},
     "output_type": "execute_result"
    }
   ],
   "source": [
    "#혼동행렬\n",
    "import numpy as np\n",
    "np.unique( digit.target)"
   ]
  },
  {
   "cell_type": "code",
   "execution_count": null,
   "id": "5f76b5d7",
   "metadata": {},
   "outputs": [],
   "source": []
  },
  {
   "cell_type": "code",
   "execution_count": null,
   "id": "56a48d61",
   "metadata": {},
   "outputs": [],
   "source": []
  }
 ],
 "metadata": {
  "kernelspec": {
   "display_name": "Jupyter-pycaret",
   "language": "python",
   "name": "yourenvname"
  },
  "language_info": {
   "codemirror_mode": {
    "name": "ipython",
    "version": 3
   },
   "file_extension": ".py",
   "mimetype": "text/x-python",
   "name": "python",
   "nbconvert_exporter": "python",
   "pygments_lexer": "ipython3",
   "version": "3.8.13"
  }
 },
 "nbformat": 4,
 "nbformat_minor": 5
}
