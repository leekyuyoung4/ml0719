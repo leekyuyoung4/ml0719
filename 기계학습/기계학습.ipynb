{
 "cells": [
  {
   "cell_type": "code",
   "execution_count": 1,
   "id": "ec2f9fc6",
   "metadata": {},
   "outputs": [],
   "source": [
    "# 인공지능 -> 기계학습 -> 신경망 -> 딥러닝"
   ]
  },
  {
   "cell_type": "code",
   "execution_count": 2,
   "id": "80cf492f",
   "metadata": {},
   "outputs": [],
   "source": [
    "# 가장단순한 iris 데이터 ... start"
   ]
  },
  {
   "cell_type": "code",
   "execution_count": 4,
   "id": "7e37636a",
   "metadata": {},
   "outputs": [
    {
     "name": "stdout",
     "output_type": "stream",
     "text": [
      "Requirement already satisfied: scikit-learn in c:\\users\\user\\miniconda3\\envs\\ml\\lib\\site-packages (1.1.2)\n",
      "Requirement already satisfied: joblib>=1.0.0 in c:\\users\\user\\miniconda3\\envs\\ml\\lib\\site-packages (from scikit-learn) (1.1.0)\n",
      "Requirement already satisfied: numpy>=1.17.3 in c:\\users\\user\\miniconda3\\envs\\ml\\lib\\site-packages (from scikit-learn) (1.23.1)\n",
      "Requirement already satisfied: threadpoolctl>=2.0.0 in c:\\users\\user\\miniconda3\\envs\\ml\\lib\\site-packages (from scikit-learn) (3.1.0)\n",
      "Requirement already satisfied: scipy>=1.3.2 in c:\\users\\user\\miniconda3\\envs\\ml\\lib\\site-packages (from scikit-learn) (1.9.0)\n"
     ]
    }
   ],
   "source": [
    "!pip install scikit-learn"
   ]
  },
  {
   "cell_type": "code",
   "execution_count": 5,
   "id": "ce11b42f",
   "metadata": {},
   "outputs": [],
   "source": [
    "from sklearn import datasets"
   ]
  },
  {
   "cell_type": "code",
   "execution_count": 6,
   "id": "e46e9148",
   "metadata": {},
   "outputs": [],
   "source": [
    "d = datasets.load_iris()"
   ]
  },
  {
   "cell_type": "code",
   "execution_count": 8,
   "id": "cf0bd28f",
   "metadata": {},
   "outputs": [
    {
     "name": "stdout",
     "output_type": "stream",
     "text": [
      ".. _iris_dataset:\n",
      "\n",
      "Iris plants dataset\n",
      "--------------------\n",
      "\n",
      "**Data Set Characteristics:**\n",
      "\n",
      "    :Number of Instances: 150 (50 in each of three classes)\n",
      "    :Number of Attributes: 4 numeric, predictive attributes and the class\n",
      "    :Attribute Information:\n",
      "        - sepal length in cm\n",
      "        - sepal width in cm\n",
      "        - petal length in cm\n",
      "        - petal width in cm\n",
      "        - class:\n",
      "                - Iris-Setosa\n",
      "                - Iris-Versicolour\n",
      "                - Iris-Virginica\n",
      "                \n",
      "    :Summary Statistics:\n",
      "\n",
      "    ============== ==== ==== ======= ===== ====================\n",
      "                    Min  Max   Mean    SD   Class Correlation\n",
      "    ============== ==== ==== ======= ===== ====================\n",
      "    sepal length:   4.3  7.9   5.84   0.83    0.7826\n",
      "    sepal width:    2.0  4.4   3.05   0.43   -0.4194\n",
      "    petal length:   1.0  6.9   3.76   1.76    0.9490  (high!)\n",
      "    petal width:    0.1  2.5   1.20   0.76    0.9565  (high!)\n",
      "    ============== ==== ==== ======= ===== ====================\n",
      "\n",
      "    :Missing Attribute Values: None\n",
      "    :Class Distribution: 33.3% for each of 3 classes.\n",
      "    :Creator: R.A. Fisher\n",
      "    :Donor: Michael Marshall (MARSHALL%PLU@io.arc.nasa.gov)\n",
      "    :Date: July, 1988\n",
      "\n",
      "The famous Iris database, first used by Sir R.A. Fisher. The dataset is taken\n",
      "from Fisher's paper. Note that it's the same as in R, but not as in the UCI\n",
      "Machine Learning Repository, which has two wrong data points.\n",
      "\n",
      "This is perhaps the best known database to be found in the\n",
      "pattern recognition literature.  Fisher's paper is a classic in the field and\n",
      "is referenced frequently to this day.  (See Duda & Hart, for example.)  The\n",
      "data set contains 3 classes of 50 instances each, where each class refers to a\n",
      "type of iris plant.  One class is linearly separable from the other 2; the\n",
      "latter are NOT linearly separable from each other.\n",
      "\n",
      ".. topic:: References\n",
      "\n",
      "   - Fisher, R.A. \"The use of multiple measurements in taxonomic problems\"\n",
      "     Annual Eugenics, 7, Part II, 179-188 (1936); also in \"Contributions to\n",
      "     Mathematical Statistics\" (John Wiley, NY, 1950).\n",
      "   - Duda, R.O., & Hart, P.E. (1973) Pattern Classification and Scene Analysis.\n",
      "     (Q327.D83) John Wiley & Sons.  ISBN 0-471-22361-1.  See page 218.\n",
      "   - Dasarathy, B.V. (1980) \"Nosing Around the Neighborhood: A New System\n",
      "     Structure and Classification Rule for Recognition in Partially Exposed\n",
      "     Environments\".  IEEE Transactions on Pattern Analysis and Machine\n",
      "     Intelligence, Vol. PAMI-2, No. 1, 67-71.\n",
      "   - Gates, G.W. (1972) \"The Reduced Nearest Neighbor Rule\".  IEEE Transactions\n",
      "     on Information Theory, May 1972, 431-433.\n",
      "   - See also: 1988 MLC Proceedings, 54-64.  Cheeseman et al\"s AUTOCLASS II\n",
      "     conceptual clustering system finds 3 classes in the data.\n",
      "   - Many, many more ...\n"
     ]
    }
   ],
   "source": [
    "print(d.DESCR)"
   ]
  },
  {
   "cell_type": "code",
   "execution_count": null,
   "id": "5a0edbc3",
   "metadata": {},
   "outputs": [],
   "source": [
    "# 특징을 구분하는 특징벡터(feature vector)\n",
    "# 부류(class)"
   ]
  },
  {
   "cell_type": "code",
   "execution_count": 12,
   "id": "647cbb41",
   "metadata": {},
   "outputs": [
    {
     "name": "stdout",
     "output_type": "stream",
     "text": [
      "1 [5.1 3.5 1.4 0.2] 0\n",
      "2 [4.9 3.  1.4 0.2] 0\n",
      "3 [4.7 3.2 1.3 0.2] 0\n",
      "4 [4.6 3.1 1.5 0.2] 0\n",
      "5 [5.  3.6 1.4 0.2] 0\n",
      "6 [5.4 3.9 1.7 0.4] 0\n",
      "7 [4.6 3.4 1.4 0.3] 0\n",
      "8 [5.  3.4 1.5 0.2] 0\n",
      "9 [4.4 2.9 1.4 0.2] 0\n",
      "10 [4.9 3.1 1.5 0.1] 0\n",
      "11 [5.4 3.7 1.5 0.2] 0\n",
      "12 [4.8 3.4 1.6 0.2] 0\n",
      "13 [4.8 3.  1.4 0.1] 0\n",
      "14 [4.3 3.  1.1 0.1] 0\n",
      "15 [5.8 4.  1.2 0.2] 0\n",
      "16 [5.7 4.4 1.5 0.4] 0\n",
      "17 [5.4 3.9 1.3 0.4] 0\n",
      "18 [5.1 3.5 1.4 0.3] 0\n",
      "19 [5.7 3.8 1.7 0.3] 0\n",
      "20 [5.1 3.8 1.5 0.3] 0\n",
      "21 [5.4 3.4 1.7 0.2] 0\n",
      "22 [5.1 3.7 1.5 0.4] 0\n",
      "23 [4.6 3.6 1.  0.2] 0\n",
      "24 [5.1 3.3 1.7 0.5] 0\n",
      "25 [4.8 3.4 1.9 0.2] 0\n",
      "26 [5.  3.  1.6 0.2] 0\n",
      "27 [5.  3.4 1.6 0.4] 0\n",
      "28 [5.2 3.5 1.5 0.2] 0\n",
      "29 [5.2 3.4 1.4 0.2] 0\n",
      "30 [4.7 3.2 1.6 0.2] 0\n",
      "31 [4.8 3.1 1.6 0.2] 0\n",
      "32 [5.4 3.4 1.5 0.4] 0\n",
      "33 [5.2 4.1 1.5 0.1] 0\n",
      "34 [5.5 4.2 1.4 0.2] 0\n",
      "35 [4.9 3.1 1.5 0.2] 0\n",
      "36 [5.  3.2 1.2 0.2] 0\n",
      "37 [5.5 3.5 1.3 0.2] 0\n",
      "38 [4.9 3.6 1.4 0.1] 0\n",
      "39 [4.4 3.  1.3 0.2] 0\n",
      "40 [5.1 3.4 1.5 0.2] 0\n",
      "41 [5.  3.5 1.3 0.3] 0\n",
      "42 [4.5 2.3 1.3 0.3] 0\n",
      "43 [4.4 3.2 1.3 0.2] 0\n",
      "44 [5.  3.5 1.6 0.6] 0\n",
      "45 [5.1 3.8 1.9 0.4] 0\n",
      "46 [4.8 3.  1.4 0.3] 0\n",
      "47 [5.1 3.8 1.6 0.2] 0\n",
      "48 [4.6 3.2 1.4 0.2] 0\n",
      "49 [5.3 3.7 1.5 0.2] 0\n",
      "50 [5.  3.3 1.4 0.2] 0\n",
      "51 [7.  3.2 4.7 1.4] 1\n",
      "52 [6.4 3.2 4.5 1.5] 1\n",
      "53 [6.9 3.1 4.9 1.5] 1\n",
      "54 [5.5 2.3 4.  1.3] 1\n",
      "55 [6.5 2.8 4.6 1.5] 1\n",
      "56 [5.7 2.8 4.5 1.3] 1\n",
      "57 [6.3 3.3 4.7 1.6] 1\n",
      "58 [4.9 2.4 3.3 1. ] 1\n",
      "59 [6.6 2.9 4.6 1.3] 1\n",
      "60 [5.2 2.7 3.9 1.4] 1\n",
      "61 [5.  2.  3.5 1. ] 1\n",
      "62 [5.9 3.  4.2 1.5] 1\n",
      "63 [6.  2.2 4.  1. ] 1\n",
      "64 [6.1 2.9 4.7 1.4] 1\n",
      "65 [5.6 2.9 3.6 1.3] 1\n",
      "66 [6.7 3.1 4.4 1.4] 1\n",
      "67 [5.6 3.  4.5 1.5] 1\n",
      "68 [5.8 2.7 4.1 1. ] 1\n",
      "69 [6.2 2.2 4.5 1.5] 1\n",
      "70 [5.6 2.5 3.9 1.1] 1\n",
      "71 [5.9 3.2 4.8 1.8] 1\n",
      "72 [6.1 2.8 4.  1.3] 1\n",
      "73 [6.3 2.5 4.9 1.5] 1\n",
      "74 [6.1 2.8 4.7 1.2] 1\n",
      "75 [6.4 2.9 4.3 1.3] 1\n",
      "76 [6.6 3.  4.4 1.4] 1\n",
      "77 [6.8 2.8 4.8 1.4] 1\n",
      "78 [6.7 3.  5.  1.7] 1\n",
      "79 [6.  2.9 4.5 1.5] 1\n",
      "80 [5.7 2.6 3.5 1. ] 1\n",
      "81 [5.5 2.4 3.8 1.1] 1\n",
      "82 [5.5 2.4 3.7 1. ] 1\n",
      "83 [5.8 2.7 3.9 1.2] 1\n",
      "84 [6.  2.7 5.1 1.6] 1\n",
      "85 [5.4 3.  4.5 1.5] 1\n",
      "86 [6.  3.4 4.5 1.6] 1\n",
      "87 [6.7 3.1 4.7 1.5] 1\n",
      "88 [6.3 2.3 4.4 1.3] 1\n",
      "89 [5.6 3.  4.1 1.3] 1\n",
      "90 [5.5 2.5 4.  1.3] 1\n",
      "91 [5.5 2.6 4.4 1.2] 1\n",
      "92 [6.1 3.  4.6 1.4] 1\n",
      "93 [5.8 2.6 4.  1.2] 1\n",
      "94 [5.  2.3 3.3 1. ] 1\n",
      "95 [5.6 2.7 4.2 1.3] 1\n",
      "96 [5.7 3.  4.2 1.2] 1\n",
      "97 [5.7 2.9 4.2 1.3] 1\n",
      "98 [6.2 2.9 4.3 1.3] 1\n",
      "99 [5.1 2.5 3.  1.1] 1\n",
      "100 [5.7 2.8 4.1 1.3] 1\n",
      "101 [6.3 3.3 6.  2.5] 2\n",
      "102 [5.8 2.7 5.1 1.9] 2\n",
      "103 [7.1 3.  5.9 2.1] 2\n",
      "104 [6.3 2.9 5.6 1.8] 2\n",
      "105 [6.5 3.  5.8 2.2] 2\n",
      "106 [7.6 3.  6.6 2.1] 2\n",
      "107 [4.9 2.5 4.5 1.7] 2\n",
      "108 [7.3 2.9 6.3 1.8] 2\n",
      "109 [6.7 2.5 5.8 1.8] 2\n",
      "110 [7.2 3.6 6.1 2.5] 2\n",
      "111 [6.5 3.2 5.1 2. ] 2\n",
      "112 [6.4 2.7 5.3 1.9] 2\n",
      "113 [6.8 3.  5.5 2.1] 2\n",
      "114 [5.7 2.5 5.  2. ] 2\n",
      "115 [5.8 2.8 5.1 2.4] 2\n",
      "116 [6.4 3.2 5.3 2.3] 2\n",
      "117 [6.5 3.  5.5 1.8] 2\n",
      "118 [7.7 3.8 6.7 2.2] 2\n",
      "119 [7.7 2.6 6.9 2.3] 2\n",
      "120 [6.  2.2 5.  1.5] 2\n",
      "121 [6.9 3.2 5.7 2.3] 2\n",
      "122 [5.6 2.8 4.9 2. ] 2\n",
      "123 [7.7 2.8 6.7 2. ] 2\n",
      "124 [6.3 2.7 4.9 1.8] 2\n",
      "125 [6.7 3.3 5.7 2.1] 2\n",
      "126 [7.2 3.2 6.  1.8] 2\n",
      "127 [6.2 2.8 4.8 1.8] 2\n",
      "128 [6.1 3.  4.9 1.8] 2\n",
      "129 [6.4 2.8 5.6 2.1] 2\n",
      "130 [7.2 3.  5.8 1.6] 2\n",
      "131 [7.4 2.8 6.1 1.9] 2\n",
      "132 [7.9 3.8 6.4 2. ] 2\n",
      "133 [6.4 2.8 5.6 2.2] 2\n",
      "134 [6.3 2.8 5.1 1.5] 2\n",
      "135 [6.1 2.6 5.6 1.4] 2\n",
      "136 [7.7 3.  6.1 2.3] 2\n",
      "137 [6.3 3.4 5.6 2.4] 2\n",
      "138 [6.4 3.1 5.5 1.8] 2\n",
      "139 [6.  3.  4.8 1.8] 2\n",
      "140 [6.9 3.1 5.4 2.1] 2\n",
      "141 [6.7 3.1 5.6 2.4] 2\n",
      "142 [6.9 3.1 5.1 2.3] 2\n",
      "143 [5.8 2.7 5.1 1.9] 2\n",
      "144 [6.8 3.2 5.9 2.3] 2\n",
      "145 [6.7 3.3 5.7 2.5] 2\n",
      "146 [6.7 3.  5.2 2.3] 2\n",
      "147 [6.3 2.5 5.  1.9] 2\n",
      "148 [6.5 3.  5.2 2. ] 2\n",
      "149 [6.2 3.4 5.4 2.3] 2\n",
      "150 [5.9 3.  5.1 1.8] 2\n"
     ]
    }
   ],
   "source": [
    "# 데이터를 순서대로 출력\n",
    "for i in range(len(d.data)):\n",
    "    print(i+1,d.data[i],d.target[i])\n",
    "\n",
    "\n"
   ]
  },
  {
   "cell_type": "code",
   "execution_count": null,
   "id": "4b932605",
   "metadata": {},
   "outputs": [],
   "source": [
    "# 특징 벡터 x = (x1,x2.... xd)\n",
    "# 레이블 0 1 2  -> 원핫 인코딩\n",
    "# Setosa        0    (1,0,0)\n",
    "# Versicolour   1    (0,1,0)\n",
    "# Virginica     2    (0,0,1)"
   ]
  },
  {
   "cell_type": "code",
   "execution_count": 14,
   "id": "183b33ea",
   "metadata": {},
   "outputs": [
    {
     "data": {
      "text/plain": [
       "(150, 4)"
      ]
     },
     "execution_count": 14,
     "metadata": {},
     "output_type": "execute_result"
    }
   ],
   "source": [
    "len(d.data), len(d.data[0])"
   ]
  },
  {
   "cell_type": "code",
   "execution_count": 15,
   "id": "4784211c",
   "metadata": {},
   "outputs": [],
   "source": [
    "# 분류모델 SVM(support vector machine)\n",
    "from sklearn import svm"
   ]
  },
  {
   "cell_type": "code",
   "execution_count": 17,
   "id": "64396286",
   "metadata": {},
   "outputs": [
    {
     "data": {
      "text/plain": [
       "SVC()"
      ]
     },
     "execution_count": 17,
     "metadata": {},
     "output_type": "execute_result"
    }
   ],
   "source": [
    "#. 1. 모델을 객체화\n",
    "s = svm.SVC()\n",
    "# 2. 객체를 가지고 데이터를 적용 fit  훈련집합(독립변수, 종족변수) - 학습\n",
    "s.fit(d.data, d.target)\n"
   ]
  },
  {
   "cell_type": "code",
   "execution_count": 18,
   "id": "1dad9f8a",
   "metadata": {},
   "outputs": [
    {
     "data": {
      "text/plain": [
       "(array([6.3, 3.3, 6. , 2.5]), array([7. , 3.2, 4.7, 1.4]))"
      ]
     },
     "execution_count": 18,
     "metadata": {},
     "output_type": "execute_result"
    }
   ],
   "source": [
    "#d가 가지고 있는 데이터 중에서 100,50데이터를 샘플을 변형\n",
    "d.data[100],d.data[50]"
   ]
  },
  {
   "cell_type": "code",
   "execution_count": 31,
   "id": "908ff815",
   "metadata": {},
   "outputs": [
    {
     "data": {
      "text/plain": [
       "[[7.3, 4.3, 7.0, 3.5], [6.0, 2.2, 3.7, 0.3999999999999999]]"
      ]
     },
     "execution_count": 31,
     "metadata": {},
     "output_type": "execute_result"
    }
   ],
   "source": [
    "list((d.data[100]+1))\n",
    "new_d = [list(d.data[100]+1),list(d.data[50]-1)]\n",
    "new_d\n"
   ]
  },
  {
   "cell_type": "code",
   "execution_count": 33,
   "id": "2fd55e50",
   "metadata": {},
   "outputs": [
    {
     "data": {
      "text/plain": [
       "array([2, 1])"
      ]
     },
     "execution_count": 33,
     "metadata": {},
     "output_type": "execute_result"
    }
   ],
   "source": [
    "# 3. 새로운(검증용) 셈플을 예측\n",
    "res = s.predict(new_d)\n",
    "res"
   ]
  },
  {
   "cell_type": "code",
   "execution_count": 35,
   "id": "93566cc1",
   "metadata": {},
   "outputs": [
    {
     "data": {
      "text/plain": [
       "(2, 1)"
      ]
     },
     "execution_count": 35,
     "metadata": {},
     "output_type": "execute_result"
    }
   ],
   "source": [
    "d.target[100], d.target[50]"
   ]
  },
  {
   "cell_type": "code",
   "execution_count": 36,
   "id": "a916c84d",
   "metadata": {},
   "outputs": [],
   "source": [
    "# 훈련 집합 vs 테스트 집합"
   ]
  },
  {
   "cell_type": "code",
   "execution_count": null,
   "id": "bcc8ad20",
   "metadata": {},
   "outputs": [],
   "source": [
    "# 하이퍼 매개변수\n",
    "# 학습전에 설정 - 적절한 값 - 최적의 성능\n",
    "# 최적의 하이퍼 매개변수값을 자동으로 설정--> 매개변수 최적화"
   ]
  },
  {
   "cell_type": "code",
   "execution_count": null,
   "id": "b1e9c242",
   "metadata": {},
   "outputs": [],
   "source": [
    "# 인공지능 설계\n",
    "# 1. 데이터 확보\n",
    "#    상중하 비율이 비슷하게 수집(농작물 사과) - 여러농장 수집 - data bias를 방지 - 데이터 편중\n",
    "#    이미지로 저장\n",
    "# 2. 특성 벡터와 레이블 준비\n",
    "#    어떤특징 : 크기, 색갈, 표면의 균일도, 당도\n",
    "# 3. 데이터를 전처리  na, outlier, create(수치형 데이터->범주형 데이터)  재 해석\n",
    "# 4. 적합한 머신러닝을  선택\n",
    "#     하이퍼 매개변수 최적화, 정규화/표준화, 결과비교\n",
    "# 5. 실제 적용"
   ]
  },
  {
   "cell_type": "code",
   "execution_count": 37,
   "id": "6ae06b41",
   "metadata": {},
   "outputs": [],
   "source": [
    "# 규칙기반 vs 고전적 기계학습 vs 딥러닝"
   ]
  },
  {
   "cell_type": "code",
   "execution_count": null,
   "id": "56acdced",
   "metadata": {},
   "outputs": [],
   "source": [
    "# 규칙기반 - 분류하는 규칙을 사람이 - 과거에 사용\n",
    "# 기계학습 - 규칙을 기계학습모델을 이용\n",
    "# 딥러닝 - 특징 벡터를 학습을통해서 자동으로 알아냄,, 특징학습 / 표현학습 \n",
    "#   특징추출과 분류를 동시에 최적화... 성능보장"
   ]
  },
  {
   "cell_type": "code",
   "execution_count": null,
   "id": "57dce0d5",
   "metadata": {},
   "outputs": [],
   "source": [
    "# 특징공간에서 데이터 분포\n",
    "# 사이킷런에서 제공하는 데이터"
   ]
  },
  {
   "cell_type": "code",
   "execution_count": 38,
   "id": "dc6bb977",
   "metadata": {},
   "outputs": [],
   "source": [
    "import plotly.express as px"
   ]
  },
  {
   "cell_type": "code",
   "execution_count": 39,
   "id": "96482de7",
   "metadata": {},
   "outputs": [
    {
     "data": {
      "text/html": [
       "<div>\n",
       "<style scoped>\n",
       "    .dataframe tbody tr th:only-of-type {\n",
       "        vertical-align: middle;\n",
       "    }\n",
       "\n",
       "    .dataframe tbody tr th {\n",
       "        vertical-align: top;\n",
       "    }\n",
       "\n",
       "    .dataframe thead th {\n",
       "        text-align: right;\n",
       "    }\n",
       "</style>\n",
       "<table border=\"1\" class=\"dataframe\">\n",
       "  <thead>\n",
       "    <tr style=\"text-align: right;\">\n",
       "      <th></th>\n",
       "      <th>sepal_length</th>\n",
       "      <th>sepal_width</th>\n",
       "      <th>petal_length</th>\n",
       "      <th>petal_width</th>\n",
       "      <th>species</th>\n",
       "      <th>species_id</th>\n",
       "    </tr>\n",
       "  </thead>\n",
       "  <tbody>\n",
       "    <tr>\n",
       "      <th>0</th>\n",
       "      <td>5.1</td>\n",
       "      <td>3.5</td>\n",
       "      <td>1.4</td>\n",
       "      <td>0.2</td>\n",
       "      <td>setosa</td>\n",
       "      <td>1</td>\n",
       "    </tr>\n",
       "    <tr>\n",
       "      <th>1</th>\n",
       "      <td>4.9</td>\n",
       "      <td>3.0</td>\n",
       "      <td>1.4</td>\n",
       "      <td>0.2</td>\n",
       "      <td>setosa</td>\n",
       "      <td>1</td>\n",
       "    </tr>\n",
       "    <tr>\n",
       "      <th>2</th>\n",
       "      <td>4.7</td>\n",
       "      <td>3.2</td>\n",
       "      <td>1.3</td>\n",
       "      <td>0.2</td>\n",
       "      <td>setosa</td>\n",
       "      <td>1</td>\n",
       "    </tr>\n",
       "    <tr>\n",
       "      <th>3</th>\n",
       "      <td>4.6</td>\n",
       "      <td>3.1</td>\n",
       "      <td>1.5</td>\n",
       "      <td>0.2</td>\n",
       "      <td>setosa</td>\n",
       "      <td>1</td>\n",
       "    </tr>\n",
       "    <tr>\n",
       "      <th>4</th>\n",
       "      <td>5.0</td>\n",
       "      <td>3.6</td>\n",
       "      <td>1.4</td>\n",
       "      <td>0.2</td>\n",
       "      <td>setosa</td>\n",
       "      <td>1</td>\n",
       "    </tr>\n",
       "    <tr>\n",
       "      <th>...</th>\n",
       "      <td>...</td>\n",
       "      <td>...</td>\n",
       "      <td>...</td>\n",
       "      <td>...</td>\n",
       "      <td>...</td>\n",
       "      <td>...</td>\n",
       "    </tr>\n",
       "    <tr>\n",
       "      <th>145</th>\n",
       "      <td>6.7</td>\n",
       "      <td>3.0</td>\n",
       "      <td>5.2</td>\n",
       "      <td>2.3</td>\n",
       "      <td>virginica</td>\n",
       "      <td>3</td>\n",
       "    </tr>\n",
       "    <tr>\n",
       "      <th>146</th>\n",
       "      <td>6.3</td>\n",
       "      <td>2.5</td>\n",
       "      <td>5.0</td>\n",
       "      <td>1.9</td>\n",
       "      <td>virginica</td>\n",
       "      <td>3</td>\n",
       "    </tr>\n",
       "    <tr>\n",
       "      <th>147</th>\n",
       "      <td>6.5</td>\n",
       "      <td>3.0</td>\n",
       "      <td>5.2</td>\n",
       "      <td>2.0</td>\n",
       "      <td>virginica</td>\n",
       "      <td>3</td>\n",
       "    </tr>\n",
       "    <tr>\n",
       "      <th>148</th>\n",
       "      <td>6.2</td>\n",
       "      <td>3.4</td>\n",
       "      <td>5.4</td>\n",
       "      <td>2.3</td>\n",
       "      <td>virginica</td>\n",
       "      <td>3</td>\n",
       "    </tr>\n",
       "    <tr>\n",
       "      <th>149</th>\n",
       "      <td>5.9</td>\n",
       "      <td>3.0</td>\n",
       "      <td>5.1</td>\n",
       "      <td>1.8</td>\n",
       "      <td>virginica</td>\n",
       "      <td>3</td>\n",
       "    </tr>\n",
       "  </tbody>\n",
       "</table>\n",
       "<p>150 rows × 6 columns</p>\n",
       "</div>"
      ],
      "text/plain": [
       "     sepal_length  sepal_width  petal_length  petal_width    species  \\\n",
       "0             5.1          3.5           1.4          0.2     setosa   \n",
       "1             4.9          3.0           1.4          0.2     setosa   \n",
       "2             4.7          3.2           1.3          0.2     setosa   \n",
       "3             4.6          3.1           1.5          0.2     setosa   \n",
       "4             5.0          3.6           1.4          0.2     setosa   \n",
       "..            ...          ...           ...          ...        ...   \n",
       "145           6.7          3.0           5.2          2.3  virginica   \n",
       "146           6.3          2.5           5.0          1.9  virginica   \n",
       "147           6.5          3.0           5.2          2.0  virginica   \n",
       "148           6.2          3.4           5.4          2.3  virginica   \n",
       "149           5.9          3.0           5.1          1.8  virginica   \n",
       "\n",
       "     species_id  \n",
       "0             1  \n",
       "1             1  \n",
       "2             1  \n",
       "3             1  \n",
       "4             1  \n",
       "..          ...  \n",
       "145           3  \n",
       "146           3  \n",
       "147           3  \n",
       "148           3  \n",
       "149           3  \n",
       "\n",
       "[150 rows x 6 columns]"
      ]
     },
     "execution_count": 39,
     "metadata": {},
     "output_type": "execute_result"
    }
   ],
   "source": [
    "df= px.data.iris()\n",
    "df"
   ]
  },
  {
   "cell_type": "code",
   "execution_count": null,
   "id": "1706eba4",
   "metadata": {},
   "outputs": [],
   "source": []
  },
  {
   "cell_type": "code",
   "execution_count": null,
   "id": "2852a890",
   "metadata": {},
   "outputs": [],
   "source": []
  },
  {
   "cell_type": "code",
   "execution_count": null,
   "id": "6b4af264",
   "metadata": {},
   "outputs": [],
   "source": []
  },
  {
   "cell_type": "code",
   "execution_count": null,
   "id": "f14ffc3b",
   "metadata": {},
   "outputs": [],
   "source": []
  }
 ],
 "metadata": {
  "kernelspec": {
   "display_name": "Jupyter-pycaret",
   "language": "python",
   "name": "yourenvname"
  },
  "language_info": {
   "codemirror_mode": {
    "name": "ipython",
    "version": 3
   },
   "file_extension": ".py",
   "mimetype": "text/x-python",
   "name": "python",
   "nbconvert_exporter": "python",
   "pygments_lexer": "ipython3",
   "version": "3.8.13"
  }
 },
 "nbformat": 4,
 "nbformat_minor": 5
}
