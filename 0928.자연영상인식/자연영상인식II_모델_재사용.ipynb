{
  "nbformat": 4,
  "nbformat_minor": 0,
  "metadata": {
    "colab": {
      "provenance": []
    },
    "kernelspec": {
      "name": "python3",
      "display_name": "Python 3"
    },
    "language_info": {
      "name": "python"
    }
  },
  "cells": [
    {
      "cell_type": "code",
      "execution_count": 2,
      "metadata": {
        "id": "5mTtvlwT0eNC"
      },
      "outputs": [],
      "source": [
        "# 학습된 모델 불러다 다시 사용\n",
        "import numpy as np\n",
        "import tensorflow as tf\n",
        "from tensorflow.keras.datasets import cifar10"
      ]
    },
    {
      "cell_type": "code",
      "source": [
        "# 신경망 구조와 가중치를 저장하고 있는  파일을 읽어옴\n",
        "cnn = tf.keras.models.load_model(\"/content/cnn1.h5\")\n",
        "cnn.summary()"
      ],
      "metadata": {
        "colab": {
          "base_uri": "https://localhost:8080/"
        },
        "id": "JivKqKng1Hbd",
        "outputId": "43647476-4ab0-4d8e-dc7b-5b5a85ec7e6d"
      },
      "execution_count": 3,
      "outputs": [
        {
          "output_type": "stream",
          "name": "stdout",
          "text": [
            "Model: \"sequential\"\n",
            "_________________________________________________________________\n",
            " Layer (type)                Output Shape              Param #   \n",
            "=================================================================\n",
            " conv2d (Conv2D)             (None, 30, 30, 32)        896       \n",
            "                                                                 \n",
            " conv2d_1 (Conv2D)           (None, 28, 28, 32)        9248      \n",
            "                                                                 \n",
            " max_pooling2d (MaxPooling2D  (None, 14, 14, 32)       0         \n",
            " )                                                               \n",
            "                                                                 \n",
            " dropout (Dropout)           (None, 14, 14, 32)        0         \n",
            "                                                                 \n",
            " conv2d_2 (Conv2D)           (None, 12, 12, 64)        18496     \n",
            "                                                                 \n",
            " conv2d_3 (Conv2D)           (None, 10, 10, 64)        36928     \n",
            "                                                                 \n",
            " max_pooling2d_1 (MaxPooling  (None, 5, 5, 64)         0         \n",
            " 2D)                                                             \n",
            "                                                                 \n",
            " dropout_1 (Dropout)         (None, 5, 5, 64)          0         \n",
            "                                                                 \n",
            " flatten (Flatten)           (None, 1600)              0         \n",
            "                                                                 \n",
            " dense (Dense)               (None, 512)               819712    \n",
            "                                                                 \n",
            " dropout_2 (Dropout)         (None, 512)               0         \n",
            "                                                                 \n",
            " dense_1 (Dense)             (None, 10)                5130      \n",
            "                                                                 \n",
            "=================================================================\n",
            "Total params: 890,410\n",
            "Trainable params: 890,410\n",
            "Non-trainable params: 0\n",
            "_________________________________________________________________\n"
          ]
        }
      ]
    },
    {
      "cell_type": "code",
      "source": [
        "# 데이터 확보\n",
        "(x_train,y_train),(x_test,y_test)= cifar10.load_data()\n",
        "x_train = x_train.astype(np.float32)/255.0\n",
        "x_test = x_test.astype(np.float32)/255.0\n",
        "\n",
        "y_train = tf.keras.utils.to_categorical(y_train)\n",
        "y_test = tf.keras.utils.to_categorical(y_test)"
      ],
      "metadata": {
        "colab": {
          "base_uri": "https://localhost:8080/"
        },
        "id": "wMQdxYQ715Vi",
        "outputId": "4b4a804b-3b4d-4aa6-f479-f4f54012c607"
      },
      "execution_count": 4,
      "outputs": [
        {
          "output_type": "stream",
          "name": "stdout",
          "text": [
            "Downloading data from https://www.cs.toronto.edu/~kriz/cifar-10-python.tar.gz\n",
            "170500096/170498071 [==============================] - 6s 0us/step\n",
            "170508288/170498071 [==============================] - 6s 0us/step\n"
          ]
        }
      ]
    },
    {
      "cell_type": "code",
      "source": [
        "res = cnn.evaluate(x_test,y_test,verbose=2)\n",
        "res"
      ],
      "metadata": {
        "colab": {
          "base_uri": "https://localhost:8080/"
        },
        "id": "mt9dfI_c21Hz",
        "outputId": "4190b229-c08b-4213-cad9-ce7c4599a29a"
      },
      "execution_count": 5,
      "outputs": [
        {
          "output_type": "stream",
          "name": "stdout",
          "text": [
            "313/313 - 6s - loss: 0.6646 - accuracy: 0.7849 - 6s/epoch - 20ms/step\n"
          ]
        },
        {
          "output_type": "execute_result",
          "data": {
            "text/plain": [
              "[0.6645742058753967, 0.7849000096321106]"
            ]
          },
          "metadata": {},
          "execution_count": 5
        }
      ]
    },
    {
      "cell_type": "code",
      "source": [
        "# [0.664574146270752, 0.7849000096321106]"
      ],
      "metadata": {
        "id": "UoJOVB1M265h"
      },
      "execution_count": 6,
      "outputs": []
    },
    {
      "cell_type": "code",
      "source": [
        "cnn.layers"
      ],
      "metadata": {
        "colab": {
          "base_uri": "https://localhost:8080/"
        },
        "id": "JibwJ3PD3FA4",
        "outputId": "8a21a9b1-fc5a-42e6-fa4c-31850736e957"
      },
      "execution_count": 7,
      "outputs": [
        {
          "output_type": "execute_result",
          "data": {
            "text/plain": [
              "[<keras.layers.convolutional.Conv2D at 0x7f8072474250>,\n",
              " <keras.layers.convolutional.Conv2D at 0x7f8071d36090>,\n",
              " <keras.layers.pooling.MaxPooling2D at 0x7f8071d40810>,\n",
              " <keras.layers.core.dropout.Dropout at 0x7f8071d40a90>,\n",
              " <keras.layers.convolutional.Conv2D at 0x7f8071d40350>,\n",
              " <keras.layers.convolutional.Conv2D at 0x7f806df3ae90>,\n",
              " <keras.layers.pooling.MaxPooling2D at 0x7f806df56590>,\n",
              " <keras.layers.core.dropout.Dropout at 0x7f806df56750>,\n",
              " <keras.layers.core.flatten.Flatten at 0x7f806df63190>,\n",
              " <keras.layers.core.dense.Dense at 0x7f806df56210>,\n",
              " <keras.layers.core.dropout.Dropout at 0x7f806df56790>,\n",
              " <keras.layers.core.dense.Dense at 0x7f806df56890>]"
            ]
          },
          "metadata": {},
          "execution_count": 7
        }
      ]
    },
    {
      "cell_type": "code",
      "source": [
        "cnn.layers[0].name"
      ],
      "metadata": {
        "colab": {
          "base_uri": "https://localhost:8080/",
          "height": 35
        },
        "id": "4uRQzdsY3GcS",
        "outputId": "2a621006-27a7-4265-f408-d5ef727f7f97"
      },
      "execution_count": 9,
      "outputs": [
        {
          "output_type": "execute_result",
          "data": {
            "text/plain": [
              "'conv2d'"
            ],
            "application/vnd.google.colaboratory.intrinsic+json": {
              "type": "string"
            }
          },
          "metadata": {},
          "execution_count": 9
        }
      ]
    },
    {
      "cell_type": "code",
      "source": [
        "''"
      ],
      "metadata": {
        "id": "Sx6gar8k3GhR"
      },
      "execution_count": null,
      "outputs": []
    },
    {
      "cell_type": "code",
      "source": [],
      "metadata": {
        "id": "amQozL933Gmi"
      },
      "execution_count": null,
      "outputs": []
    }
  ]
}