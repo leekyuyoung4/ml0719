{
  "nbformat": 4,
  "nbformat_minor": 0,
  "metadata": {
    "colab": {
      "provenance": []
    },
    "kernelspec": {
      "name": "python3",
      "display_name": "Python 3"
    },
    "language_info": {
      "name": "python"
    }
  },
  "cells": [
    {
      "cell_type": "code",
      "execution_count": 2,
      "metadata": {
        "id": "5mTtvlwT0eNC"
      },
      "outputs": [],
      "source": [
        "# 학습된 모델 불러다 다시 사용\n",
        "import numpy as np\n",
        "import tensorflow as tf\n",
        "from tensorflow.keras.datasets import cifar10"
      ]
    },
    {
      "cell_type": "code",
      "source": [
        "# 신경망 구조와 가중치를 저장하고 있는  파일을 읽어옴\n",
        "cnn = tf.keras.models.load_model(\"/content/cnn1.h5\")\n",
        "cnn.summary()"
      ],
      "metadata": {
        "colab": {
          "base_uri": "https://localhost:8080/"
        },
        "id": "JivKqKng1Hbd",
        "outputId": "43647476-4ab0-4d8e-dc7b-5b5a85ec7e6d"
      },
      "execution_count": 3,
      "outputs": [
        {
          "output_type": "stream",
          "name": "stdout",
          "text": [
            "Model: \"sequential\"\n",
            "_________________________________________________________________\n",
            " Layer (type)                Output Shape              Param #   \n",
            "=================================================================\n",
            " conv2d (Conv2D)             (None, 30, 30, 32)        896       \n",
            "                                                                 \n",
            " conv2d_1 (Conv2D)           (None, 28, 28, 32)        9248      \n",
            "                                                                 \n",
            " max_pooling2d (MaxPooling2D  (None, 14, 14, 32)       0         \n",
            " )                                                               \n",
            "                                                                 \n",
            " dropout (Dropout)           (None, 14, 14, 32)        0         \n",
            "                                                                 \n",
            " conv2d_2 (Conv2D)           (None, 12, 12, 64)        18496     \n",
            "                                                                 \n",
            " conv2d_3 (Conv2D)           (None, 10, 10, 64)        36928     \n",
            "                                                                 \n",
            " max_pooling2d_1 (MaxPooling  (None, 5, 5, 64)         0         \n",
            " 2D)                                                             \n",
            "                                                                 \n",
            " dropout_1 (Dropout)         (None, 5, 5, 64)          0         \n",
            "                                                                 \n",
            " flatten (Flatten)           (None, 1600)              0         \n",
            "                                                                 \n",
            " dense (Dense)               (None, 512)               819712    \n",
            "                                                                 \n",
            " dropout_2 (Dropout)         (None, 512)               0         \n",
            "                                                                 \n",
            " dense_1 (Dense)             (None, 10)                5130      \n",
            "                                                                 \n",
            "=================================================================\n",
            "Total params: 890,410\n",
            "Trainable params: 890,410\n",
            "Non-trainable params: 0\n",
            "_________________________________________________________________\n"
          ]
        }
      ]
    },
    {
      "cell_type": "code",
      "source": [
        "# 데이터 확보\n",
        "(x_train,y_train),(x_test,y_test)= cifar10.load_data()\n",
        "x_train = x_train.astype(np.float32)/255.0\n",
        "x_test = x_test.astype(np.float32)/255.0\n",
        "\n",
        "y_train = tf.keras.utils.to_categorical(y_train)\n",
        "y_test = tf.keras.utils.to_categorical(y_test)"
      ],
      "metadata": {
        "colab": {
          "base_uri": "https://localhost:8080/"
        },
        "id": "wMQdxYQ715Vi",
        "outputId": "4b4a804b-3b4d-4aa6-f479-f4f54012c607"
      },
      "execution_count": 4,
      "outputs": [
        {
          "output_type": "stream",
          "name": "stdout",
          "text": [
            "Downloading data from https://www.cs.toronto.edu/~kriz/cifar-10-python.tar.gz\n",
            "170500096/170498071 [==============================] - 6s 0us/step\n",
            "170508288/170498071 [==============================] - 6s 0us/step\n"
          ]
        }
      ]
    },
    {
      "cell_type": "code",
      "source": [
        "res = cnn.evaluate(x_test,y_test,verbose=2)\n",
        "res"
      ],
      "metadata": {
        "colab": {
          "base_uri": "https://localhost:8080/"
        },
        "id": "mt9dfI_c21Hz",
        "outputId": "4190b229-c08b-4213-cad9-ce7c4599a29a"
      },
      "execution_count": 5,
      "outputs": [
        {
          "output_type": "stream",
          "name": "stdout",
          "text": [
            "313/313 - 6s - loss: 0.6646 - accuracy: 0.7849 - 6s/epoch - 20ms/step\n"
          ]
        },
        {
          "output_type": "execute_result",
          "data": {
            "text/plain": [
              "[0.6645742058753967, 0.7849000096321106]"
            ]
          },
          "metadata": {},
          "execution_count": 5
        }
      ]
    },
    {
      "cell_type": "code",
      "source": [
        "# [0.664574146270752, 0.7849000096321106]"
      ],
      "metadata": {
        "id": "UoJOVB1M265h"
      },
      "execution_count": 6,
      "outputs": []
    },
    {
      "cell_type": "code",
      "source": [
        "cnn.layers"
      ],
      "metadata": {
        "colab": {
          "base_uri": "https://localhost:8080/"
        },
        "id": "JibwJ3PD3FA4",
        "outputId": "8a21a9b1-fc5a-42e6-fa4c-31850736e957"
      },
      "execution_count": 7,
      "outputs": [
        {
          "output_type": "execute_result",
          "data": {
            "text/plain": [
              "[<keras.layers.convolutional.Conv2D at 0x7f8072474250>,\n",
              " <keras.layers.convolutional.Conv2D at 0x7f8071d36090>,\n",
              " <keras.layers.pooling.MaxPooling2D at 0x7f8071d40810>,\n",
              " <keras.layers.core.dropout.Dropout at 0x7f8071d40a90>,\n",
              " <keras.layers.convolutional.Conv2D at 0x7f8071d40350>,\n",
              " <keras.layers.convolutional.Conv2D at 0x7f806df3ae90>,\n",
              " <keras.layers.pooling.MaxPooling2D at 0x7f806df56590>,\n",
              " <keras.layers.core.dropout.Dropout at 0x7f806df56750>,\n",
              " <keras.layers.core.flatten.Flatten at 0x7f806df63190>,\n",
              " <keras.layers.core.dense.Dense at 0x7f806df56210>,\n",
              " <keras.layers.core.dropout.Dropout at 0x7f806df56790>,\n",
              " <keras.layers.core.dense.Dense at 0x7f806df56890>]"
            ]
          },
          "metadata": {},
          "execution_count": 7
        }
      ]
    },
    {
      "cell_type": "code",
      "source": [
        "[i.name for i in cnn.layers]"
      ],
      "metadata": {
        "colab": {
          "base_uri": "https://localhost:8080/"
        },
        "id": "4uRQzdsY3GcS",
        "outputId": "10570ac4-95db-4a45-d544-cdb23f5daab6"
      },
      "execution_count": 11,
      "outputs": [
        {
          "output_type": "execute_result",
          "data": {
            "text/plain": [
              "['conv2d',\n",
              " 'conv2d_1',\n",
              " 'max_pooling2d',\n",
              " 'dropout',\n",
              " 'conv2d_2',\n",
              " 'conv2d_3',\n",
              " 'max_pooling2d_1',\n",
              " 'dropout_1',\n",
              " 'flatten',\n",
              " 'dense',\n",
              " 'dropout_2',\n",
              " 'dense_1']"
            ]
          },
          "metadata": {},
          "execution_count": 11
        }
      ]
    },
    {
      "cell_type": "code",
      "source": [
        "for layer in cnn.layers:\n",
        "  if 'conv' in layer.name:\n",
        "    kernel,biases =  layer.get_weights()\n",
        "    print(layer.name, kernel.shape)"
      ],
      "metadata": {
        "colab": {
          "base_uri": "https://localhost:8080/"
        },
        "id": "Sx6gar8k3GhR",
        "outputId": "6f202aee-d152-48ba-cef6-fac38b30ede5"
      },
      "execution_count": 12,
      "outputs": [
        {
          "output_type": "stream",
          "name": "stdout",
          "text": [
            "conv2d (3, 3, 3, 32)\n",
            "conv2d_1 (3, 3, 32, 32)\n",
            "conv2d_2 (3, 3, 32, 64)\n",
            "conv2d_3 (3, 3, 64, 64)\n"
          ]
        }
      ]
    },
    {
      "cell_type": "code",
      "source": [
        "#맨 앞의 있는 컨볼류션층의 커널 정보를 추출\n",
        "kernel, biases =  cnn.layers[0].get_weights()"
      ],
      "metadata": {
        "id": "amQozL933Gmi"
      },
      "execution_count": 27,
      "outputs": []
    },
    {
      "cell_type": "code",
      "source": [
        "minv, maxv =  kernel.min(),kernel.max()"
      ],
      "metadata": {
        "id": "QX4J8xEx8qoB"
      },
      "execution_count": 16,
      "outputs": []
    },
    {
      "cell_type": "code",
      "source": [
        "# 커널의 값을 표준화  minmax scaler\n",
        "kernel = (kernel - minv ) / (maxv - minv)"
      ],
      "metadata": {
        "id": "6ACK_RG98_MZ"
      },
      "execution_count": 30,
      "outputs": []
    },
    {
      "cell_type": "code",
      "source": [
        "import matplotlib.pyplot as plt\n",
        "import seaborn as sns"
      ],
      "metadata": {
        "id": "ajMez7Ws9ZJx"
      },
      "execution_count": 19,
      "outputs": []
    },
    {
      "cell_type": "code",
      "source": [
        "kernel.shape"
      ],
      "metadata": {
        "colab": {
          "base_uri": "https://localhost:8080/"
        },
        "id": "ykbM2Duq9sx5",
        "outputId": "104c3baa-de89-4b02-c7dd-f6c5e7987014"
      },
      "execution_count": 22,
      "outputs": [
        {
          "output_type": "execute_result",
          "data": {
            "text/plain": [
              "(3, 3, 3, 32)"
            ]
          },
          "metadata": {},
          "execution_count": 22
        }
      ]
    },
    {
      "cell_type": "code",
      "source": [
        "\n",
        "# temp = kernel[:,:,0,0] ~ temp = kernel[:,:,0,31]\n",
        "temp = kernel[:,:,0,0]\n",
        "plt.imshow(temp,cmap='gray')"
      ],
      "metadata": {
        "colab": {
          "base_uri": "https://localhost:8080/",
          "height": 287
        },
        "id": "mBbfVYgy-AZ4",
        "outputId": "5a4eac09-4b98-4d70-df95-149d811eb09b"
      },
      "execution_count": 38,
      "outputs": [
        {
          "output_type": "execute_result",
          "data": {
            "text/plain": [
              "<matplotlib.image.AxesImage at 0x7f80681fc790>"
            ]
          },
          "metadata": {},
          "execution_count": 38
        },
        {
          "output_type": "display_data",
          "data": {
            "text/plain": [
              "<Figure size 432x288 with 1 Axes>"
            ],
            "image/png": "[encoded data removed]"
          },
          "metadata": {
            "needs_background": "light"
          }
        }
      ]
    },
    {
      "cell_type": "code",
      "source": [
        "# (3, 3, 3, 32)\n",
        "# fig,ax =  plt.subplots(3,32,figsize=(10,10) )\n",
        "plt.figure(figsize=(20,3))\n",
        "for i in range(32):  \n",
        "  f = kernel[:,:,:,i]\n",
        "  for j in range(3):    \n",
        "    plt.subplot(3,32,j*32+i+1)\n",
        "    temp = f[:,:,j]\n",
        "    plt.imshow(temp,cmap='gray')\n",
        "\n"
      ],
      "metadata": {
        "colab": {
          "base_uri": "https://localhost:8080/",
          "height": 164
        },
        "id": "uEijZBG2-bCp",
        "outputId": "ec61e9fc-52f0-46f3-e10b-a931d135c62e"
      },
      "execution_count": 50,
      "outputs": [
        {
          "output_type": "display_data",
          "data": {
            "text/plain": [
              "<Figure size 1440x216 with 96 Axes>"
            ],
            "image/png": "[encoded data removed]"
          },
          "metadata": {
            "needs_background": "light"
          }
        }
      ]
    },
    {
      "cell_type": "code",
      "source": [
        "for layer in cnn.layers:\n",
        "  if 'conv' in layer.name:\n",
        "    kernel,biases =  layer.get_weights()\n",
        "    print(layer.name, kernel.shape)"
      ],
      "metadata": {
        "colab": {
          "base_uri": "https://localhost:8080/"
        },
        "id": "WvCAUTUqA5Cr",
        "outputId": "e41e10b0-f06c-4807-8f77-3236f2cad35f"
      },
      "execution_count": 48,
      "outputs": [
        {
          "output_type": "stream",
          "name": "stdout",
          "text": [
            "conv2d (3, 3, 3, 32)\n",
            "conv2d_1 (3, 3, 32, 32)\n",
            "conv2d_2 (3, 3, 32, 64)\n",
            "conv2d_3 (3, 3, 64, 64)\n"
          ]
        }
      ]
    },
    {
      "cell_type": "code",
      "source": [
        "for i in range(32):\n",
        "  for j in range(3):\n",
        "    print(j*32+i+1)"
      ],
      "metadata": {
        "id": "uVW2KQWbCYfx"
      },
      "execution_count": null,
      "outputs": []
    },
    {
      "cell_type": "code",
      "source": [
        "# 신경망의 특징 맵을 시각화\n",
        "for layer in cnn.layers:\n",
        "  if 'conv' in layer.name:\n",
        "    print(layer.name, layer.output.shape)"
      ],
      "metadata": {
        "colab": {
          "base_uri": "https://localhost:8080/"
        },
        "id": "Cub-N_VuDzKn",
        "outputId": "d9de2870-a533-4a2f-afce-9a540957e3c3"
      },
      "execution_count": 51,
      "outputs": [
        {
          "output_type": "stream",
          "name": "stdout",
          "text": [
            "conv2d (None, 30, 30, 32)\n",
            "conv2d_1 (None, 28, 28, 32)\n",
            "conv2d_2 (None, 12, 12, 64)\n",
            "conv2d_3 (None, 10, 10, 64)\n"
          ]
        }
      ]
    },
    {
      "cell_type": "code",
      "source": [
        "# 0번째 층을 따로 테어내서 객체에 저장\n",
        "from tensorflow.keras.models import Model"
      ],
      "metadata": {
        "id": "2O58jcPREHa6"
      },
      "execution_count": 52,
      "outputs": []
    },
    {
      "cell_type": "code",
      "source": [
        "m =  Model(inputs = cnn.inputs, outputs=cnn.layers[0].output)\n",
        "m.summary()"
      ],
      "metadata": {
        "colab": {
          "base_uri": "https://localhost:8080/"
        },
        "id": "ZrvAzDWmEpyb",
        "outputId": "444cdc24-7ee8-435d-b128-e100493eb1f4"
      },
      "execution_count": 54,
      "outputs": [
        {
          "output_type": "stream",
          "name": "stdout",
          "text": [
            "Model: \"model\"\n",
            "_________________________________________________________________\n",
            " Layer (type)                Output Shape              Param #   \n",
            "=================================================================\n",
            " conv2d_input (InputLayer)   [(None, 32, 32, 3)]       0         \n",
            "                                                                 \n",
            " conv2d (Conv2D)             (None, 30, 30, 32)        896       \n",
            "                                                                 \n",
            "=================================================================\n",
            "Total params: 896\n",
            "Trainable params: 896\n",
            "Non-trainable params: 0\n",
            "_________________________________________________________________\n"
          ]
        }
      ]
    },
    {
      "cell_type": "code",
      "source": [
        "freature_map = m.predict(x_test)"
      ],
      "metadata": {
        "id": "8G9sFI1NFHhR"
      },
      "execution_count": 56,
      "outputs": []
    },
    {
      "cell_type": "code",
      "source": [],
      "metadata": {
        "id": "11GtSk46FXOh"
      },
      "execution_count": null,
      "outputs": []
    }
  ]
}