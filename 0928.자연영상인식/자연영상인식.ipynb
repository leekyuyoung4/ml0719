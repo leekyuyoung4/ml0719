{
  "nbformat": 4,
  "nbformat_minor": 0,
  "metadata": {
    "colab": {
      "provenance": []
    },
    "kernelspec": {
      "name": "python3",
      "display_name": "Python 3"
    },
    "language_info": {
      "name": "python"
    },
    "accelerator": "GPU"
  },
  "cells": [
    {
      "cell_type": "code",
      "execution_count": 1,
      "metadata": {
        "id": "L_yoq5rYHWNb"
      },
      "outputs": [],
      "source": [
        "# 딥러닝 학습용 데이터베이스\n",
        "# imageNet\n",
        "# MSCoCo\n",
        "# CIFAR - 10\n",
        "\n",
        "#CNN 인식"
      ]
    },
    {
      "cell_type": "code",
      "source": [
        "import numpy as np\n",
        "import tensorflow as tf\n",
        "from tensorflow.keras.datasets import cifar10\n",
        "from tensorflow.keras.models import Sequential\n",
        "from tensorflow.keras.layers import Conv2D,MaxPooling2D,Flatten,Dense,Dropout\n",
        "from tensorflow.keras.optimizers import Adam\n",
        "import matplotlib.pyplot as plt\n",
        "import seaborn as sns"
      ],
      "metadata": {
        "id": "30vx1tGgHkhP"
      },
      "execution_count": 2,
      "outputs": []
    },
    {
      "cell_type": "code",
      "source": [
        "# 데이터 확보\n",
        "(x_train,y_train),(x_test,y_test)= cifar10.load_data()\n",
        "x_train = x_train.astype(np.float32)/255.0\n",
        "x_test = x_test.astype(np.float32)/255.0\n",
        "\n",
        "y_train = tf.keras.utils.to_categorical(y_train)\n",
        "y_test = tf.keras.utils.to_categorical(y_test)"
      ],
      "metadata": {
        "id": "8WS0YML0H7Iu",
        "colab": {
          "base_uri": "https://localhost:8080/"
        },
        "outputId": "09477ae6-8e32-46fe-ee89-e4547cd688cc"
      },
      "execution_count": 3,
      "outputs": [
        {
          "output_type": "stream",
          "name": "stdout",
          "text": [
            "Downloading data from https://www.cs.toronto.edu/~kriz/cifar-10-python.tar.gz\n",
            "170500096/170498071 [==============================] - 15s 0us/step\n",
            "170508288/170498071 [==============================] - 15s 0us/step\n"
          ]
        }
      ]
    },
    {
      "cell_type": "code",
      "source": [
        "x_train.shape"
      ],
      "metadata": {
        "id": "aRu_vOKouugW",
        "colab": {
          "base_uri": "https://localhost:8080/"
        },
        "outputId": "7dee37f0-7960-46f7-c499-ce8cdf7d879e"
      },
      "execution_count": 4,
      "outputs": [
        {
          "output_type": "execute_result",
          "data": {
            "text/plain": [
              "(50000, 32, 32, 3)"
            ]
          },
          "metadata": {},
          "execution_count": 4
        }
      ]
    },
    {
      "cell_type": "code",
      "source": [
        "# 신경망 설계  ccp d ccp d f fc d fc\n",
        "cnn = Sequential()\n",
        "cnn.add(Conv2D(32,(3,3),activation='relu',input_shape = (32, 32, 3)  ))\n",
        "cnn.add(Conv2D(32,(3,3),activation='relu'))\n",
        "cnn.add(MaxPooling2D(pool_size=(2,2)))\n",
        "cnn.add(Dropout(0.25))\n",
        "\n",
        "cnn.add(Conv2D(64,(3,3),activation='relu' ))\n",
        "cnn.add(Conv2D(64,(3,3),activation='relu'))\n",
        "cnn.add(MaxPooling2D(pool_size=(2,2)))\n",
        "cnn.add(Dropout(0.25))\n",
        "\n",
        "cnn.add(Flatten())\n",
        "cnn.add(Dense(512,activation='relu'))\n",
        "cnn.add(Dropout(0.5))\n",
        "cnn.add(Dense(10,activation='softmax'))"
      ],
      "metadata": {
        "id": "sxNpHO9BIHFG"
      },
      "execution_count": 5,
      "outputs": []
    },
    {
      "cell_type": "code",
      "source": [
        "x_train.shape, y_train.shape ,  y_test.shape"
      ],
      "metadata": {
        "colab": {
          "base_uri": "https://localhost:8080/"
        },
        "id": "-BAMeHbZysv8",
        "outputId": "0c805af8-90f6-40c3-ff22-4e4fddfbee5c"
      },
      "execution_count": 17,
      "outputs": [
        {
          "output_type": "execute_result",
          "data": {
            "text/plain": [
              "((50000, 32, 32, 3), (50000, 10), (10000, 10))"
            ]
          },
          "metadata": {},
          "execution_count": 17
        }
      ]
    },
    {
      "cell_type": "code",
      "source": [],
      "metadata": {
        "id": "kICN2SCNy-rT"
      },
      "execution_count": null,
      "outputs": []
    },
    {
      "cell_type": "code",
      "source": [
        "from tensorflow.python import metrics\n",
        "#신경망 모델 학습\n",
        "cnn.compile(loss = tf.keras.losses.categorical_crossentropy, optimizer=Adam(),metrics=['accuracy'])\n",
        "hist = cnn.fit(x_train,y_train,batch_size=128,epochs=30,validation_data=(x_test,y_test),verbose=2)"
      ],
      "metadata": {
        "id": "bnTUM-GjILRt"
      },
      "execution_count": null,
      "outputs": []
    },
    {
      "cell_type": "code",
      "source": [
        "#신경망 모델 정확률 평가\n",
        "res = cnn.evaluate(x_test,y_test,verbose=2)\n",
        "res"
      ],
      "metadata": {
        "id": "awUQA9i7IlwP",
        "colab": {
          "base_uri": "https://localhost:8080/"
        },
        "outputId": "c7cd0644-e7fc-489f-9924-0dafa6f72c78"
      },
      "execution_count": 7,
      "outputs": [
        {
          "output_type": "stream",
          "name": "stdout",
          "text": [
            "313/313 - 1s - loss: 0.6646 - accuracy: 0.7849 - 936ms/epoch - 3ms/step\n"
          ]
        },
        {
          "output_type": "execute_result",
          "data": {
            "text/plain": [
              "[0.664574146270752, 0.7849000096321106]"
            ]
          },
          "metadata": {},
          "execution_count": 7
        }
      ]
    },
    {
      "cell_type": "code",
      "source": [
        "hist.history.keys()"
      ],
      "metadata": {
        "colab": {
          "base_uri": "https://localhost:8080/"
        },
        "id": "mRxLVljUzoN8",
        "outputId": "a97d784a-2ea5-4e7b-81d0-5dfbbd654165"
      },
      "execution_count": 21,
      "outputs": [
        {
          "output_type": "execute_result",
          "data": {
            "text/plain": [
              "dict_keys(['loss', 'accuracy', 'val_loss', 'val_accuracy'])"
            ]
          },
          "metadata": {},
          "execution_count": 21
        }
      ]
    },
    {
      "cell_type": "code",
      "source": [
        "#시각화\n",
        "sns.lineplot(data= hist.history['accuracy'])\n",
        "sns.lineplot(data= hist.history['val_accuracy'])"
      ],
      "metadata": {
        "id": "gPp3wg-Nvd3r",
        "colab": {
          "base_uri": "https://localhost:8080/",
          "height": 283
        },
        "outputId": "c946cdb9-bdd3-4b94-ac53-a5472904add6"
      },
      "execution_count": 22,
      "outputs": [
        {
          "output_type": "execute_result",
          "data": {
            "text/plain": [
              "<matplotlib.axes._subplots.AxesSubplot at 0x7f1793469110>"
            ]
          },
          "metadata": {},
          "execution_count": 22
        },
        {
          "output_type": "display_data",
          "data": {
            "text/plain": [
              "<Figure size 432x288 with 1 Axes>"
            ],
            "image/png": "[encoded data removed]"
          },
          "metadata": {
            "needs_background": "light"
          }
        }
      ]
    },
    {
      "cell_type": "code",
      "source": [
        "sns.lineplot(data= hist.history['loss'])\n",
        "sns.lineplot(data= hist.history['val_loss'])"
      ],
      "metadata": {
        "colab": {
          "base_uri": "https://localhost:8080/",
          "height": 283
        },
        "id": "Mhtvdx7TyHRc",
        "outputId": "e31de4a0-7b94-4d8c-cbcb-a6aa491b8d7b"
      },
      "execution_count": 23,
      "outputs": [
        {
          "output_type": "execute_result",
          "data": {
            "text/plain": [
              "<matplotlib.axes._subplots.AxesSubplot at 0x7f179344db50>"
            ]
          },
          "metadata": {},
          "execution_count": 23
        },
        {
          "output_type": "display_data",
          "data": {
            "text/plain": [
              "<Figure size 432x288 with 1 Axes>"
            ],
            "image/png": "[encoded data removed]"
          },
          "metadata": {
            "needs_background": "light"
          }
        }
      ]
    },
    {
      "cell_type": "code",
      "source": [
        "# 학습된 모델을 저장하고 재 활용\n",
        "# 학습에 시간이 많이 걸리기때문에 저장해 두고 필요할때 불러쓴다.\n",
        "# save 함수로 구현(신경망의 구조정보와. 가중치 정보를 저장해 HDF5 파일 형식 )"
      ],
      "metadata": {
        "id": "TpA9Qq6tz4cI"
      },
      "execution_count": 24,
      "outputs": []
    },
    {
      "cell_type": "code",
      "source": [
        "cnn.save('cnn1.h5')"
      ],
      "metadata": {
        "id": "A-4_yVlR0UAp"
      },
      "execution_count": 26,
      "outputs": []
    },
    {
      "cell_type": "code",
      "source": [],
      "metadata": {
        "id": "H8dA3jFQ0YIp"
      },
      "execution_count": null,
      "outputs": []
    }
  ]
}