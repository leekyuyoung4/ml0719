{
 "cells": [
  {
   "cell_type": "code",
   "execution_count": 1,
   "id": "e66053ec",
   "metadata": {},
   "outputs": [],
   "source": [
    "# MNIST 와 fashion MNIST 데이터를 이용한 다층 퍼셉트론을 인식하는 프로그램"
   ]
  },
  {
   "cell_type": "code",
   "execution_count": 2,
   "id": "2be4b195",
   "metadata": {},
   "outputs": [],
   "source": [
    "import numpy as np\n",
    "import tensorflow as tf\n",
    "from tensorflow.keras.datasets import mnist"
   ]
  },
  {
   "cell_type": "code",
   "execution_count": 3,
   "id": "9d641c58",
   "metadata": {},
   "outputs": [],
   "source": [
    "from tensorflow.keras.models import Sequential\n",
    "from tensorflow.keras.layers import Dense\n",
    "from tensorflow.keras.optimizers import Adam"
   ]
  },
  {
   "cell_type": "code",
   "execution_count": 4,
   "id": "8571485e",
   "metadata": {},
   "outputs": [],
   "source": [
    "# mnist 읽어 와서 싱경망에 입력하는 형태로 변환\n",
    "(x_train,y_train),(x_test,y_test)= mnist.load_data()"
   ]
  },
  {
   "cell_type": "code",
   "execution_count": 5,
   "id": "e23b3e0e",
   "metadata": {},
   "outputs": [
    {
     "data": {
      "text/plain": [
       "(60000, 28, 28)"
      ]
     },
     "execution_count": 5,
     "metadata": {},
     "output_type": "execute_result"
    }
   ],
   "source": [
    "x_train.shape"
   ]
  },
  {
   "cell_type": "code",
   "execution_count": 6,
   "id": "27e04c2b",
   "metadata": {},
   "outputs": [
    {
     "data": {
      "text/plain": [
       "(28, 28)"
      ]
     },
     "execution_count": 6,
     "metadata": {},
     "output_type": "execute_result"
    }
   ],
   "source": [
    "x_train[0].shape"
   ]
  },
  {
   "cell_type": "code",
   "execution_count": 7,
   "id": "96c9f760",
   "metadata": {},
   "outputs": [],
   "source": [
    "import matplotlib.pyplot as plt"
   ]
  },
  {
   "cell_type": "code",
   "execution_count": 8,
   "id": "48b8584f",
   "metadata": {},
   "outputs": [
    {
     "data": {
      "image/png": "[encoded data removed]",
      "text/plain": [
       "<Figure size 432x288 with 1 Axes>"
      ]
     },
     "metadata": {
      "needs_background": "light"
     },
     "output_type": "display_data"
    }
   ],
   "source": [
    "plt.imshow(x_train[2],cmap='gray_r')\n",
    "plt.show()"
   ]
  },
  {
   "cell_type": "code",
   "execution_count": 9,
   "id": "d510ae46",
   "metadata": {},
   "outputs": [],
   "source": [
    "x_train = x_train.reshape(-1,28*28)\n",
    "x_test = x_test.reshape(-1,28*28)"
   ]
  },
  {
   "cell_type": "code",
   "execution_count": 10,
   "id": "2abca461",
   "metadata": {},
   "outputs": [],
   "source": [
    "# 데이터의 범위를 조정 - 전처리 -  0 ~1 사이의 값을 갖도록\n",
    "# 이미지는 0 ~ 255   0~1 조정\n",
    "# 일반화(Normalization) vs 표준화(Standardization)"
   ]
  },
  {
   "cell_type": "code",
   "execution_count": 11,
   "id": "7ec5a1ed",
   "metadata": {},
   "outputs": [],
   "source": [
    "# 일반화(Normalization)\n",
    "# x =  (x - min(x)) / max(x) - min(x)   0 ~ 1 사의의 값으로 축소\n",
    "# 최소는 0 최대는 1 나머지는 정규화 형태 원래데이터의 분포는 손실되지 않는다. "
   ]
  },
  {
   "cell_type": "code",
   "execution_count": 12,
   "id": "5be18a6e",
   "metadata": {},
   "outputs": [],
   "source": [
    "# 표준화 \n",
    "# 평균에 비해서 최대값이 멀리떨어져 있는경우 - outlier가 존재\n",
    "# z-score를 먼저 계산해야 한다.\n",
    "# z = (x - m) / std    평균에서 크게 벗어난 outlier일수록 큰 절대 값을 갖는다\n",
    "# 이 score -2 ~ 2를 벗어난 값들은 모두 지워 "
   ]
  },
  {
   "cell_type": "code",
   "execution_count": 13,
   "id": "bc189759",
   "metadata": {},
   "outputs": [],
   "source": [
    "#일반화(정규화)\n",
    "x_train =  x_train.astype(np.float32)/255.0\n",
    "x_test = x_test.astype(np.float32)/255.0"
   ]
  },
  {
   "cell_type": "code",
   "execution_count": 14,
   "id": "267b57e9",
   "metadata": {},
   "outputs": [],
   "source": [
    "#  라벨정보는 원핫인코딩\n",
    "y_train = tf.keras.utils.to_categorical(y_train,10)\n",
    "y_test = tf.keras.utils.to_categorical(y_test,10)"
   ]
  },
  {
   "cell_type": "code",
   "execution_count": 15,
   "id": "8a8b94e2",
   "metadata": {},
   "outputs": [
    {
     "data": {
      "text/plain": [
       "(60000, 784)"
      ]
     },
     "execution_count": 15,
     "metadata": {},
     "output_type": "execute_result"
    }
   ],
   "source": [
    "x_train.shape"
   ]
  },
  {
   "cell_type": "code",
   "execution_count": 17,
   "id": "50f35bf0",
   "metadata": {},
   "outputs": [],
   "source": [
    "n_input = 784\n",
    "n_output = 10\n",
    "n_hidden = 784*2"
   ]
  },
  {
   "cell_type": "code",
   "execution_count": 24,
   "id": "624ac02f",
   "metadata": {},
   "outputs": [],
   "source": [
    "# 신경망 설계  - 두번째 hidden층부터는 초기화는 선택이다.\n",
    "model = Sequential()\n",
    "dense1 = Dense(units=n_hidden,activation='tanh',input_shape=(n_input,)\n",
    "               ,kernel_initializer='random_uniform', bias_initializer='zeros')\n",
    "dense2 = Dense(units=n_output,activation='tanh')\n",
    "model.add(dense1)\n",
    "model.add(dense2)\n",
    "model.compile(loss='mean_squared_error'\n",
    "              , optimizer=Adam(learning_rate=0.001),metrics=['accuracy'] )\n"
   ]
  },
  {
   "cell_type": "code",
   "execution_count": null,
   "id": "983c0b90",
   "metadata": {},
   "outputs": [
    {
     "name": "stdout",
     "output_type": "stream",
     "text": [
      "Epoch 1/30\n",
      "469/469 [==============================] - 7s 15ms/step - loss: 0.0570 - accuracy: 0.8160 - val_loss: 0.0328 - val_accuracy: 0.9043\n",
      "Epoch 2/30\n",
      "469/469 [==============================] - 7s 15ms/step - loss: 0.0258 - accuracy: 0.9247 - val_loss: 0.0214 - val_accuracy: 0.9391\n",
      "Epoch 3/30\n",
      "469/469 [==============================] - 7s 16ms/step - loss: 0.0194 - accuracy: 0.9449 - val_loss: 0.0177 - val_accuracy: 0.9491\n",
      "Epoch 4/30\n",
      "469/469 [==============================] - 7s 15ms/step - loss: 0.0160 - accuracy: 0.9546 - val_loss: 0.0154 - val_accuracy: 0.9571\n",
      "Epoch 5/30\n",
      "469/469 [==============================] - ETA: 0s - loss: 0.0141 - accuracy: 0.9610"
     ]
    }
   ],
   "source": [
    "hist = model.fit(x_train, y_train, batch_size=128, epochs=30\n",
    "                 ,validation_data=(x_test,y_test))"
   ]
  },
  {
   "cell_type": "code",
   "execution_count": null,
   "id": "a8992bc3",
   "metadata": {},
   "outputs": [],
   "source": []
  }
 ],
 "metadata": {
  "kernelspec": {
   "display_name": "Python 3 (ipykernel)",
   "language": "python",
   "name": "python3"
  },
  "language_info": {
   "codemirror_mode": {
    "name": "ipython",
    "version": 3
   },
   "file_extension": ".py",
   "mimetype": "text/x-python",
   "name": "python",
   "nbconvert_exporter": "python",
   "pygments_lexer": "ipython3",
   "version": "3.9.12"
  }
 },
 "nbformat": 4,
 "nbformat_minor": 5
}
