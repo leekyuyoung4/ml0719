{
  "nbformat": 4,
  "nbformat_minor": 0,
  "metadata": {
    "colab": {
      "provenance": []
    },
    "kernelspec": {
      "name": "python3",
      "display_name": "Python 3"
    },
    "language_info": {
      "name": "python"
    },
    "accelerator": "GPU",
    "gpuClass": "standard",
    "widgets": {
      "application/vnd.jupyter.widget-state+json": {
        "228ae9ebbd564c84915066d64a165d38": {
          "model_module": "@jupyter-widgets/controls",
          "model_name": "HBoxModel",
          "model_module_version": "1.5.0",
          "state": {
            "_dom_classes": [],
            "_model_module": "@jupyter-widgets/controls",
            "_model_module_version": "1.5.0",
            "_model_name": "HBoxModel",
            "_view_count": null,
            "_view_module": "@jupyter-widgets/controls",
            "_view_module_version": "1.5.0",
            "_view_name": "HBoxView",
            "box_style": "",
            "children": [
              "IPY_MODEL_9ca10a1ca2d545159b45914bb5dd91ae",
              "IPY_MODEL_3ccab898467f403fb830b7915abf898f",
              "IPY_MODEL_6f455a20bcd7481fa824ea9ab647e759"
            ],
            "layout": "IPY_MODEL_4b3e5d2a991c4e288ff00562c22f60f5"
          }
        },
        "9ca10a1ca2d545159b45914bb5dd91ae": {
          "model_module": "@jupyter-widgets/controls",
          "model_name": "HTMLModel",
          "model_module_version": "1.5.0",
          "state": {
            "_dom_classes": [],
            "_model_module": "@jupyter-widgets/controls",
            "_model_module_version": "1.5.0",
            "_model_name": "HTMLModel",
            "_view_count": null,
            "_view_module": "@jupyter-widgets/controls",
            "_view_module_version": "1.5.0",
            "_view_name": "HTMLView",
            "description": "",
            "description_tooltip": null,
            "layout": "IPY_MODEL_4e414989af8447108b814ea1f07ad930",
            "placeholder": "​",
            "style": "IPY_MODEL_0e7752838d614a89b521668e307b7f79",
            "value": "100%"
          }
        },
        "3ccab898467f403fb830b7915abf898f": {
          "model_module": "@jupyter-widgets/controls",
          "model_name": "FloatProgressModel",
          "model_module_version": "1.5.0",
          "state": {
            "_dom_classes": [],
            "_model_module": "@jupyter-widgets/controls",
            "_model_module_version": "1.5.0",
            "_model_name": "FloatProgressModel",
            "_view_count": null,
            "_view_module": "@jupyter-widgets/controls",
            "_view_module_version": "1.5.0",
            "_view_name": "ProgressView",
            "bar_style": "success",
            "description": "",
            "description_tooltip": null,
            "layout": "IPY_MODEL_a0b4bcfed48246cda606c53b54011393",
            "max": 87319819,
            "min": 0,
            "orientation": "horizontal",
            "style": "IPY_MODEL_4d42bf2e8da3425e9668dea020008c9a",
            "value": 87319819
          }
        },
        "6f455a20bcd7481fa824ea9ab647e759": {
          "model_module": "@jupyter-widgets/controls",
          "model_name": "HTMLModel",
          "model_module_version": "1.5.0",
          "state": {
            "_dom_classes": [],
            "_model_module": "@jupyter-widgets/controls",
            "_model_module_version": "1.5.0",
            "_model_name": "HTMLModel",
            "_view_count": null,
            "_view_module": "@jupyter-widgets/controls",
            "_view_module_version": "1.5.0",
            "_view_name": "HTMLView",
            "description": "",
            "description_tooltip": null,
            "layout": "IPY_MODEL_787acb4186394339afaf25d9d7d5a4af",
            "placeholder": "​",
            "style": "IPY_MODEL_dfefff37681549d28241f3187f945b43",
            "value": " 83.3M/83.3M [00:01&lt;00:00, 167MB/s]"
          }
        },
        "4b3e5d2a991c4e288ff00562c22f60f5": {
          "model_module": "@jupyter-widgets/base",
          "model_name": "LayoutModel",
          "model_module_version": "1.2.0",
          "state": {
            "_model_module": "@jupyter-widgets/base",
            "_model_module_version": "1.2.0",
            "_model_name": "LayoutModel",
            "_view_count": null,
            "_view_module": "@jupyter-widgets/base",
            "_view_module_version": "1.2.0",
            "_view_name": "LayoutView",
            "align_content": null,
            "align_items": null,
            "align_self": null,
            "border": null,
            "bottom": null,
            "display": null,
            "flex": null,
            "flex_flow": null,
            "grid_area": null,
            "grid_auto_columns": null,
            "grid_auto_flow": null,
            "grid_auto_rows": null,
            "grid_column": null,
            "grid_gap": null,
            "grid_row": null,
            "grid_template_areas": null,
            "grid_template_columns": null,
            "grid_template_rows": null,
            "height": null,
            "justify_content": null,
            "justify_items": null,
            "left": null,
            "margin": null,
            "max_height": null,
            "max_width": null,
            "min_height": null,
            "min_width": null,
            "object_fit": null,
            "object_position": null,
            "order": null,
            "overflow": null,
            "overflow_x": null,
            "overflow_y": null,
            "padding": null,
            "right": null,
            "top": null,
            "visibility": null,
            "width": null
          }
        },
        "4e414989af8447108b814ea1f07ad930": {
          "model_module": "@jupyter-widgets/base",
          "model_name": "LayoutModel",
          "model_module_version": "1.2.0",
          "state": {
            "_model_module": "@jupyter-widgets/base",
            "_model_module_version": "1.2.0",
            "_model_name": "LayoutModel",
            "_view_count": null,
            "_view_module": "@jupyter-widgets/base",
            "_view_module_version": "1.2.0",
            "_view_name": "LayoutView",
            "align_content": null,
            "align_items": null,
            "align_self": null,
            "border": null,
            "bottom": null,
            "display": null,
            "flex": null,
            "flex_flow": null,
            "grid_area": null,
            "grid_auto_columns": null,
            "grid_auto_flow": null,
            "grid_auto_rows": null,
            "grid_column": null,
            "grid_gap": null,
            "grid_row": null,
            "grid_template_areas": null,
            "grid_template_columns": null,
            "grid_template_rows": null,
            "height": null,
            "justify_content": null,
            "justify_items": null,
            "left": null,
            "margin": null,
            "max_height": null,
            "max_width": null,
            "min_height": null,
            "min_width": null,
            "object_fit": null,
            "object_position": null,
            "order": null,
            "overflow": null,
            "overflow_x": null,
            "overflow_y": null,
            "padding": null,
            "right": null,
            "top": null,
            "visibility": null,
            "width": null
          }
        },
        "0e7752838d614a89b521668e307b7f79": {
          "model_module": "@jupyter-widgets/controls",
          "model_name": "DescriptionStyleModel",
          "model_module_version": "1.5.0",
          "state": {
            "_model_module": "@jupyter-widgets/controls",
            "_model_module_version": "1.5.0",
            "_model_name": "DescriptionStyleModel",
            "_view_count": null,
            "_view_module": "@jupyter-widgets/base",
            "_view_module_version": "1.2.0",
            "_view_name": "StyleView",
            "description_width": ""
          }
        },
        "a0b4bcfed48246cda606c53b54011393": {
          "model_module": "@jupyter-widgets/base",
          "model_name": "LayoutModel",
          "model_module_version": "1.2.0",
          "state": {
            "_model_module": "@jupyter-widgets/base",
            "_model_module_version": "1.2.0",
            "_model_name": "LayoutModel",
            "_view_count": null,
            "_view_module": "@jupyter-widgets/base",
            "_view_module_version": "1.2.0",
            "_view_name": "LayoutView",
            "align_content": null,
            "align_items": null,
            "align_self": null,
            "border": null,
            "bottom": null,
            "display": null,
            "flex": null,
            "flex_flow": null,
            "grid_area": null,
            "grid_auto_columns": null,
            "grid_auto_flow": null,
            "grid_auto_rows": null,
            "grid_column": null,
            "grid_gap": null,
            "grid_row": null,
            "grid_template_areas": null,
            "grid_template_columns": null,
            "grid_template_rows": null,
            "height": null,
            "justify_content": null,
            "justify_items": null,
            "left": null,
            "margin": null,
            "max_height": null,
            "max_width": null,
            "min_height": null,
            "min_width": null,
            "object_fit": null,
            "object_position": null,
            "order": null,
            "overflow": null,
            "overflow_x": null,
            "overflow_y": null,
            "padding": null,
            "right": null,
            "top": null,
            "visibility": null,
            "width": null
          }
        },
        "4d42bf2e8da3425e9668dea020008c9a": {
          "model_module": "@jupyter-widgets/controls",
          "model_name": "ProgressStyleModel",
          "model_module_version": "1.5.0",
          "state": {
            "_model_module": "@jupyter-widgets/controls",
            "_model_module_version": "1.5.0",
            "_model_name": "ProgressStyleModel",
            "_view_count": null,
            "_view_module": "@jupyter-widgets/base",
            "_view_module_version": "1.2.0",
            "_view_name": "StyleView",
            "bar_color": null,
            "description_width": ""
          }
        },
        "787acb4186394339afaf25d9d7d5a4af": {
          "model_module": "@jupyter-widgets/base",
          "model_name": "LayoutModel",
          "model_module_version": "1.2.0",
          "state": {
            "_model_module": "@jupyter-widgets/base",
            "_model_module_version": "1.2.0",
            "_model_name": "LayoutModel",
            "_view_count": null,
            "_view_module": "@jupyter-widgets/base",
            "_view_module_version": "1.2.0",
            "_view_name": "LayoutView",
            "align_content": null,
            "align_items": null,
            "align_self": null,
            "border": null,
            "bottom": null,
            "display": null,
            "flex": null,
            "flex_flow": null,
            "grid_area": null,
            "grid_auto_columns": null,
            "grid_auto_flow": null,
            "grid_auto_rows": null,
            "grid_column": null,
            "grid_gap": null,
            "grid_row": null,
            "grid_template_areas": null,
            "grid_template_columns": null,
            "grid_template_rows": null,
            "height": null,
            "justify_content": null,
            "justify_items": null,
            "left": null,
            "margin": null,
            "max_height": null,
            "max_width": null,
            "min_height": null,
            "min_width": null,
            "object_fit": null,
            "object_position": null,
            "order": null,
            "overflow": null,
            "overflow_x": null,
            "overflow_y": null,
            "padding": null,
            "right": null,
            "top": null,
            "visibility": null,
            "width": null
          }
        },
        "dfefff37681549d28241f3187f945b43": {
          "model_module": "@jupyter-widgets/controls",
          "model_name": "DescriptionStyleModel",
          "model_module_version": "1.5.0",
          "state": {
            "_model_module": "@jupyter-widgets/controls",
            "_model_module_version": "1.5.0",
            "_model_name": "DescriptionStyleModel",
            "_view_count": null,
            "_view_module": "@jupyter-widgets/base",
            "_view_module_version": "1.2.0",
            "_view_name": "StyleView",
            "description_width": ""
          }
        }
      }
    }
  },
  "cells": [
    {
      "cell_type": "code",
      "execution_count": 1,
      "metadata": {
        "id": "J4PHkmbL0mHI"
      },
      "outputs": [],
      "source": [
        "import numpy as np\n",
        "import matplotlib.pyplot as plt\n",
        "\n",
        "import torch\n",
        "import torch.nn as nn\n",
        "import torch.nn.functional as F\n",
        "from torchvision import transforms, datasets"
      ]
    },
    {
      "cell_type": "code",
      "source": [
        "if torch.cuda.is_available():\n",
        "    DEVICE = torch.device('cuda')\n",
        "else:\n",
        "    DEVICE = torch.device('cpu')\n",
        "print('Using PyTorch version:', torch.__version__, ' Device:', DEVICE)"
      ],
      "metadata": {
        "colab": {
          "base_uri": "https://localhost:8080/"
        },
        "id": "ei_0rE6r4t8Y",
        "outputId": "b057fd2d-a850-47c1-fbd3-68785a43035c"
      },
      "execution_count": 2,
      "outputs": [
        {
          "output_type": "stream",
          "name": "stdout",
          "text": [
            "Using PyTorch version: 1.12.1+cu113  Device: cuda\n"
          ]
        }
      ]
    },
    {
      "cell_type": "code",
      "source": [
        "batch_size = 32\n",
        "epochs = 10"
      ],
      "metadata": {
        "id": "nKPN02_h421Q"
      },
      "execution_count": 3,
      "outputs": []
    },
    {
      "cell_type": "code",
      "source": [
        "# data Augmentation이 적용된 데이터 로더\n",
        "train_dataset = datasets.CIFAR10(root = '../data/CIFAR_10', train=True, download = True\n",
        "                 , transform=transforms.Compose([\n",
        "                     transforms.RandomHorizontalFlip(),\n",
        "                     transforms.ToTensor(),\n",
        "                     transforms.Normalize((0.5,0.5,0.5),(0.5,0.5,0.5))\n",
        "                 ])\n",
        "                 )\n",
        "test_dataset = datasets.CIFAR10(root = '../data/CIFAR_10', train=False, download = True\n",
        "                 , transform=transforms.Compose([\n",
        "                     transforms.RandomHorizontalFlip(),\n",
        "                     transforms.ToTensor(),\n",
        "                     transforms.Normalize((0.5,0.5,0.5),(0.5,0.5,0.5))\n",
        "                 ])\n",
        "                 )\n",
        "train_loader = torch.utils.data.DataLoader(dataset = train_dataset,batch_size = batch_size,shuffle=True)\n",
        "test_loader = torch.utils.data.DataLoader(dataset = train_dataset,batch_size = batch_size,shuffle=False)"
      ],
      "metadata": {
        "id": "jbDgppwr5WL2"
      },
      "execution_count": null,
      "outputs": []
    },
    {
      "cell_type": "code",
      "source": [
        "from torchvision.models.mobilenetv3 import Weights\n",
        "# 파이토치에서 제공하는 ResNet34모델을 불러온후 FC 층 추가 및 output크기 설정\n",
        "import torchvision.models as models\n",
        "model = models.resnet34(weights = False )"
      ],
      "metadata": {
        "id": "QWFDNSwF6GtQ"
      },
      "execution_count": null,
      "outputs": []
    },
    {
      "cell_type": "code",
      "source": [
        "num_ftrs =  model.fc.in_features"
      ],
      "metadata": {
        "id": "hnLp1jVU687p"
      },
      "execution_count": 14,
      "outputs": []
    },
    {
      "cell_type": "code",
      "source": [
        "model.fc = nn.Linear(num_ftrs,10)\n",
        "model = model.to(DEVICE)"
      ],
      "metadata": {
        "id": "sJrfZgWl7Eb-"
      },
      "execution_count": 15,
      "outputs": []
    },
    {
      "cell_type": "code",
      "source": [
        "optimizer = torch.optim.Adam(model.parameters(), lr = 0.001)\n",
        "criterion = nn.CrossEntropyLoss()\n",
        "model"
      ],
      "metadata": {
        "id": "jHtsEixv8Etg"
      },
      "execution_count": null,
      "outputs": []
    },
    {
      "cell_type": "code",
      "source": [
        "def train(model, train_loader, optimizer, log_interval):\n",
        "  model.train()\n",
        "  for batch_idx, (image,label) in enumerate(train_loader):\n",
        "    image = image.to(DEVICE)\n",
        "    label = label.to(DEVICE)\n",
        "    optimizer.zero_grad()\n",
        "    output = model(image)\n",
        "    loss = criterion(output, label)\n",
        "    loss.backward()\n",
        "    optimizer.step()\n",
        "    if batch_idx % log_interval == 0:\n",
        "      print(\"Train Epoch: {} [{}/{} ({:.0f}%)]\\tTrain Loss: {:.6f}\".format(\n",
        "          epochs, batch_idx * len(image), \n",
        "          len(train_loader.dataset), 100. * batch_idx / len(train_loader), \n",
        "          loss.item()))\n"
      ],
      "metadata": {
        "id": "vtVIDepu8Yo2"
      },
      "execution_count": 17,
      "outputs": []
    },
    {
      "cell_type": "code",
      "source": [
        "# 검증용 함수 정의\n",
        "def evaluate(model, test_loader):\n",
        "    model.eval()\n",
        "    test_loss = 0\n",
        "    correct = 0\n",
        "\n",
        "    with torch.no_grad():\n",
        "        for image, label in test_loader:\n",
        "            image = image.to(DEVICE)\n",
        "            label = label.to(DEVICE)\n",
        "            output = model(image)\n",
        "            test_loss += criterion(output, label).item()\n",
        "            prediction = output.max(1, keepdim = True)[1]\n",
        "            correct += prediction.eq(label.view_as(prediction)).sum().item()\n",
        "    \n",
        "    test_loss /= len(test_loader.dataset)\n",
        "    test_accuracy = 100. * correct / len(test_loader.dataset)\n",
        "    return test_loss, test_accuracy"
      ],
      "metadata": {
        "id": "LxNnAZ1B92PP"
      },
      "execution_count": 18,
      "outputs": []
    },
    {
      "cell_type": "code",
      "source": [
        "# ResNet34 학습 train, test loss accuracy 확인하기\n",
        "for epoch in range(1, epochs+1):\n",
        "  train(model, train_loader, optimizer,200)\n",
        "  test_loss, test_accuracy =  evaluate(model, test_loader)\n",
        "  print(f\"[epoch:{epoch}], loss : {test_loss}  accuracy : {test_accuracy}\")"
      ],
      "metadata": {
        "colab": {
          "base_uri": "https://localhost:8080/"
        },
        "id": "707bxCGm9-hF",
        "outputId": "14b8fd4e-6494-4b8c-e49f-491243257be5"
      },
      "execution_count": 19,
      "outputs": [
        {
          "output_type": "stream",
          "name": "stdout",
          "text": [
            "Train Epoch: 10 [0/50000 (0%)]\tTrain Loss: 2.571666\n",
            "Train Epoch: 10 [6400/50000 (13%)]\tTrain Loss: 2.070665\n",
            "Train Epoch: 10 [12800/50000 (26%)]\tTrain Loss: 1.592525\n",
            "Train Epoch: 10 [19200/50000 (38%)]\tTrain Loss: 1.466715\n",
            "Train Epoch: 10 [25600/50000 (51%)]\tTrain Loss: 1.223977\n",
            "Train Epoch: 10 [32000/50000 (64%)]\tTrain Loss: 1.330877\n",
            "Train Epoch: 10 [38400/50000 (77%)]\tTrain Loss: 1.239332\n",
            "Train Epoch: 10 [44800/50000 (90%)]\tTrain Loss: 1.341710\n",
            "[epoch:1], loss : 0.034280876103639606  accuracy : 61.326\n",
            "Train Epoch: 10 [0/50000 (0%)]\tTrain Loss: 1.063032\n",
            "Train Epoch: 10 [6400/50000 (13%)]\tTrain Loss: 0.988820\n",
            "Train Epoch: 10 [12800/50000 (26%)]\tTrain Loss: 1.211275\n",
            "Train Epoch: 10 [19200/50000 (38%)]\tTrain Loss: 1.199988\n",
            "Train Epoch: 10 [25600/50000 (51%)]\tTrain Loss: 1.401958\n",
            "Train Epoch: 10 [32000/50000 (64%)]\tTrain Loss: 1.087926\n",
            "Train Epoch: 10 [38400/50000 (77%)]\tTrain Loss: 1.341031\n",
            "Train Epoch: 10 [44800/50000 (90%)]\tTrain Loss: 1.169402\n",
            "[epoch:2], loss : 0.030974212233424187  accuracy : 65.404\n",
            "Train Epoch: 10 [0/50000 (0%)]\tTrain Loss: 1.004110\n",
            "Train Epoch: 10 [6400/50000 (13%)]\tTrain Loss: 0.851312\n",
            "Train Epoch: 10 [12800/50000 (26%)]\tTrain Loss: 1.160784\n",
            "Train Epoch: 10 [19200/50000 (38%)]\tTrain Loss: 1.076182\n",
            "Train Epoch: 10 [25600/50000 (51%)]\tTrain Loss: 0.791275\n",
            "Train Epoch: 10 [32000/50000 (64%)]\tTrain Loss: 0.796066\n",
            "Train Epoch: 10 [38400/50000 (77%)]\tTrain Loss: 0.803229\n",
            "Train Epoch: 10 [44800/50000 (90%)]\tTrain Loss: 0.903396\n",
            "[epoch:3], loss : 0.02597478795468807  accuracy : 71.544\n",
            "Train Epoch: 10 [0/50000 (0%)]\tTrain Loss: 0.626354\n",
            "Train Epoch: 10 [6400/50000 (13%)]\tTrain Loss: 0.952959\n",
            "Train Epoch: 10 [12800/50000 (26%)]\tTrain Loss: 1.067995\n",
            "Train Epoch: 10 [19200/50000 (38%)]\tTrain Loss: 0.877724\n",
            "Train Epoch: 10 [25600/50000 (51%)]\tTrain Loss: 0.590107\n",
            "Train Epoch: 10 [32000/50000 (64%)]\tTrain Loss: 0.688607\n",
            "Train Epoch: 10 [38400/50000 (77%)]\tTrain Loss: 0.662554\n",
            "Train Epoch: 10 [44800/50000 (90%)]\tTrain Loss: 0.712045\n",
            "[epoch:4], loss : 0.021505353925228118  accuracy : 76.07\n",
            "Train Epoch: 10 [0/50000 (0%)]\tTrain Loss: 0.581327\n",
            "Train Epoch: 10 [6400/50000 (13%)]\tTrain Loss: 0.386074\n",
            "Train Epoch: 10 [12800/50000 (26%)]\tTrain Loss: 0.909643\n",
            "Train Epoch: 10 [19200/50000 (38%)]\tTrain Loss: 0.774395\n",
            "Train Epoch: 10 [25600/50000 (51%)]\tTrain Loss: 0.667192\n",
            "Train Epoch: 10 [32000/50000 (64%)]\tTrain Loss: 0.492939\n",
            "Train Epoch: 10 [38400/50000 (77%)]\tTrain Loss: 0.847276\n",
            "Train Epoch: 10 [44800/50000 (90%)]\tTrain Loss: 0.733890\n",
            "[epoch:5], loss : 0.018818900666236878  accuracy : 79.786\n",
            "Train Epoch: 10 [0/50000 (0%)]\tTrain Loss: 0.502708\n",
            "Train Epoch: 10 [6400/50000 (13%)]\tTrain Loss: 0.675666\n",
            "Train Epoch: 10 [12800/50000 (26%)]\tTrain Loss: 0.749653\n",
            "Train Epoch: 10 [19200/50000 (38%)]\tTrain Loss: 0.796856\n",
            "Train Epoch: 10 [25600/50000 (51%)]\tTrain Loss: 0.558376\n",
            "Train Epoch: 10 [32000/50000 (64%)]\tTrain Loss: 0.782351\n",
            "Train Epoch: 10 [38400/50000 (77%)]\tTrain Loss: 0.621294\n",
            "Train Epoch: 10 [44800/50000 (90%)]\tTrain Loss: 0.493912\n",
            "[epoch:6], loss : 0.016879068024158478  accuracy : 81.398\n",
            "Train Epoch: 10 [0/50000 (0%)]\tTrain Loss: 0.528328\n",
            "Train Epoch: 10 [6400/50000 (13%)]\tTrain Loss: 0.935657\n",
            "Train Epoch: 10 [12800/50000 (26%)]\tTrain Loss: 0.629535\n",
            "Train Epoch: 10 [19200/50000 (38%)]\tTrain Loss: 1.051618\n",
            "Train Epoch: 10 [25600/50000 (51%)]\tTrain Loss: 0.594655\n",
            "Train Epoch: 10 [32000/50000 (64%)]\tTrain Loss: 0.913133\n",
            "Train Epoch: 10 [38400/50000 (77%)]\tTrain Loss: 0.543934\n",
            "Train Epoch: 10 [44800/50000 (90%)]\tTrain Loss: 0.620259\n",
            "[epoch:7], loss : 0.015412178519517183  accuracy : 83.042\n",
            "Train Epoch: 10 [0/50000 (0%)]\tTrain Loss: 0.394721\n",
            "Train Epoch: 10 [6400/50000 (13%)]\tTrain Loss: 0.597192\n",
            "Train Epoch: 10 [12800/50000 (26%)]\tTrain Loss: 0.270708\n",
            "Train Epoch: 10 [19200/50000 (38%)]\tTrain Loss: 0.552015\n",
            "Train Epoch: 10 [25600/50000 (51%)]\tTrain Loss: 0.546720\n",
            "Train Epoch: 10 [32000/50000 (64%)]\tTrain Loss: 0.531174\n",
            "Train Epoch: 10 [38400/50000 (77%)]\tTrain Loss: 0.368519\n",
            "Train Epoch: 10 [44800/50000 (90%)]\tTrain Loss: 0.679983\n",
            "[epoch:8], loss : 0.013729844780266285  accuracy : 84.864\n",
            "Train Epoch: 10 [0/50000 (0%)]\tTrain Loss: 0.421923\n",
            "Train Epoch: 10 [6400/50000 (13%)]\tTrain Loss: 0.686913\n",
            "Train Epoch: 10 [12800/50000 (26%)]\tTrain Loss: 0.403499\n",
            "Train Epoch: 10 [19200/50000 (38%)]\tTrain Loss: 0.511930\n",
            "Train Epoch: 10 [25600/50000 (51%)]\tTrain Loss: 0.604191\n",
            "Train Epoch: 10 [32000/50000 (64%)]\tTrain Loss: 0.432006\n",
            "Train Epoch: 10 [38400/50000 (77%)]\tTrain Loss: 0.324131\n",
            "Train Epoch: 10 [44800/50000 (90%)]\tTrain Loss: 0.218733\n",
            "[epoch:9], loss : 0.012884995096623898  accuracy : 85.598\n",
            "Train Epoch: 10 [0/50000 (0%)]\tTrain Loss: 0.329864\n",
            "Train Epoch: 10 [6400/50000 (13%)]\tTrain Loss: 0.274556\n",
            "Train Epoch: 10 [12800/50000 (26%)]\tTrain Loss: 0.425569\n",
            "Train Epoch: 10 [19200/50000 (38%)]\tTrain Loss: 0.451667\n",
            "Train Epoch: 10 [25600/50000 (51%)]\tTrain Loss: 0.269674\n",
            "Train Epoch: 10 [32000/50000 (64%)]\tTrain Loss: 0.496521\n",
            "Train Epoch: 10 [38400/50000 (77%)]\tTrain Loss: 0.379337\n",
            "Train Epoch: 10 [44800/50000 (90%)]\tTrain Loss: 0.395632\n",
            "[epoch:10], loss : 0.011936357741206884  accuracy : 87.286\n"
          ]
        }
      ]
    },
    {
      "cell_type": "code",
      "source": [
        "# 미세조정 fineTurning\n",
        "model_ft = models.resnet34(weights = True )\n",
        "num_ftrs_finturning = model_ft.fc.in_features\n",
        "model_ft.fc = nn.Linear(num_ftrs_finturning,10)\n",
        "model_ft = model_ft.to(DEVICE)\n",
        "optimizer = torch.optim.Adam(model_ft.parameters(), lr = 0.001)\n",
        "for epoch in range(1, epochs+1):\n",
        "  train(model, train_loader, optimizer,200)\n",
        "  test_loss, test_accuracy =  evaluate(model, test_loader)\n",
        "  print(f\"[epoch:{epoch}], loss : {test_loss}  accuracy : {test_accuracy}\")"
      ],
      "metadata": {
        "colab": {
          "base_uri": "https://localhost:8080/",
          "height": 1000,
          "referenced_widgets": [
            "228ae9ebbd564c84915066d64a165d38",
            "9ca10a1ca2d545159b45914bb5dd91ae",
            "3ccab898467f403fb830b7915abf898f",
            "6f455a20bcd7481fa824ea9ab647e759",
            "4b3e5d2a991c4e288ff00562c22f60f5",
            "4e414989af8447108b814ea1f07ad930",
            "0e7752838d614a89b521668e307b7f79",
            "a0b4bcfed48246cda606c53b54011393",
            "4d42bf2e8da3425e9668dea020008c9a",
            "787acb4186394339afaf25d9d7d5a4af",
            "dfefff37681549d28241f3187f945b43"
          ]
        },
        "id": "BHuy5YFM-t0f",
        "outputId": "c7fdbaf6-8d91-493a-b603-72d850c0173f"
      },
      "execution_count": null,
      "outputs": [
        {
          "output_type": "stream",
          "name": "stderr",
          "text": [
            "/usr/local/lib/python3.8/dist-packages/torchvision/models/_utils.py:223: UserWarning: Arguments other than a weight enum or `None` for 'weights' are deprecated since 0.13 and will be removed in 0.15. The current behavior is equivalent to passing `weights=ResNet34_Weights.IMAGENET1K_V1`. You can also use `weights=ResNet34_Weights.DEFAULT` to get the most up-to-date weights.\n",
            "  warnings.warn(msg)\n",
            "Downloading: \"https://download.pytorch.org/models/resnet34-b627a593.pth\" to /root/.cache/torch/hub/checkpoints/resnet34-b627a593.pth\n"
          ]
        },
        {
          "output_type": "display_data",
          "data": {
            "text/plain": [
              "  0%|          | 0.00/83.3M [00:00<?, ?B/s]"
            ],
            "application/vnd.jupyter.widget-view+json": {
              "version_major": 2,
              "version_minor": 0,
              "model_id": "228ae9ebbd564c84915066d64a165d38"
            }
          },
          "metadata": {}
        },
        {
          "output_type": "stream",
          "name": "stdout",
          "text": [
            "Train Epoch: 10 [0/50000 (0%)]\tTrain Loss: 0.257738\n",
            "Train Epoch: 10 [6400/50000 (13%)]\tTrain Loss: 0.356691\n",
            "Train Epoch: 10 [12800/50000 (26%)]\tTrain Loss: 0.348255\n",
            "Train Epoch: 10 [19200/50000 (38%)]\tTrain Loss: 0.455195\n",
            "Train Epoch: 10 [25600/50000 (51%)]\tTrain Loss: 0.484703\n",
            "Train Epoch: 10 [32000/50000 (64%)]\tTrain Loss: 0.344703\n",
            "Train Epoch: 10 [38400/50000 (77%)]\tTrain Loss: 0.301215\n",
            "Train Epoch: 10 [44800/50000 (90%)]\tTrain Loss: 0.380047\n",
            "[epoch:1], loss : 0.01115169466048479  accuracy : 87.852\n",
            "Train Epoch: 10 [0/50000 (0%)]\tTrain Loss: 0.449837\n",
            "Train Epoch: 10 [6400/50000 (13%)]\tTrain Loss: 0.728127\n",
            "Train Epoch: 10 [12800/50000 (26%)]\tTrain Loss: 0.304030\n",
            "Train Epoch: 10 [19200/50000 (38%)]\tTrain Loss: 0.352457\n",
            "Train Epoch: 10 [25600/50000 (51%)]\tTrain Loss: 0.534126\n",
            "Train Epoch: 10 [32000/50000 (64%)]\tTrain Loss: 0.400349\n",
            "Train Epoch: 10 [38400/50000 (77%)]\tTrain Loss: 0.261137\n",
            "Train Epoch: 10 [44800/50000 (90%)]\tTrain Loss: 0.808286\n",
            "[epoch:2], loss : 0.011022283936440945  accuracy : 87.96\n",
            "Train Epoch: 10 [0/50000 (0%)]\tTrain Loss: 0.466091\n",
            "Train Epoch: 10 [6400/50000 (13%)]\tTrain Loss: 0.697291\n",
            "Train Epoch: 10 [12800/50000 (26%)]\tTrain Loss: 0.575915\n",
            "Train Epoch: 10 [19200/50000 (38%)]\tTrain Loss: 0.238249\n",
            "Train Epoch: 10 [25600/50000 (51%)]\tTrain Loss: 0.292445\n",
            "Train Epoch: 10 [32000/50000 (64%)]\tTrain Loss: 0.459666\n",
            "Train Epoch: 10 [38400/50000 (77%)]\tTrain Loss: 0.637722\n",
            "Train Epoch: 10 [44800/50000 (90%)]\tTrain Loss: 0.413556\n",
            "[epoch:3], loss : 0.011277586379423738  accuracy : 87.93\n",
            "Train Epoch: 10 [0/50000 (0%)]\tTrain Loss: 0.310216\n",
            "Train Epoch: 10 [6400/50000 (13%)]\tTrain Loss: 0.295803\n",
            "Train Epoch: 10 [12800/50000 (26%)]\tTrain Loss: 0.356682\n",
            "Train Epoch: 10 [19200/50000 (38%)]\tTrain Loss: 0.378774\n",
            "Train Epoch: 10 [25600/50000 (51%)]\tTrain Loss: 0.210327\n",
            "Train Epoch: 10 [32000/50000 (64%)]\tTrain Loss: 0.325992\n",
            "Train Epoch: 10 [38400/50000 (77%)]\tTrain Loss: 0.359255\n",
            "Train Epoch: 10 [44800/50000 (90%)]\tTrain Loss: 0.343095\n",
            "[epoch:4], loss : 0.011233327779173852  accuracy : 87.814\n",
            "Train Epoch: 10 [0/50000 (0%)]\tTrain Loss: 0.188868\n",
            "Train Epoch: 10 [6400/50000 (13%)]\tTrain Loss: 0.384549\n",
            "Train Epoch: 10 [12800/50000 (26%)]\tTrain Loss: 0.284075\n",
            "Train Epoch: 10 [19200/50000 (38%)]\tTrain Loss: 0.378365\n",
            "Train Epoch: 10 [25600/50000 (51%)]\tTrain Loss: 0.243105\n",
            "Train Epoch: 10 [32000/50000 (64%)]\tTrain Loss: 0.180163\n",
            "Train Epoch: 10 [38400/50000 (77%)]\tTrain Loss: 0.329915\n",
            "Train Epoch: 10 [44800/50000 (90%)]\tTrain Loss: 0.386163\n",
            "[epoch:5], loss : 0.01100519021242857  accuracy : 87.928\n",
            "Train Epoch: 10 [0/50000 (0%)]\tTrain Loss: 0.341608\n",
            "Train Epoch: 10 [6400/50000 (13%)]\tTrain Loss: 0.704415\n",
            "Train Epoch: 10 [12800/50000 (26%)]\tTrain Loss: 0.227102\n",
            "Train Epoch: 10 [19200/50000 (38%)]\tTrain Loss: 0.389721\n",
            "Train Epoch: 10 [25600/50000 (51%)]\tTrain Loss: 0.295986\n",
            "Train Epoch: 10 [32000/50000 (64%)]\tTrain Loss: 0.595799\n",
            "Train Epoch: 10 [38400/50000 (77%)]\tTrain Loss: 0.401473\n",
            "Train Epoch: 10 [44800/50000 (90%)]\tTrain Loss: 0.486524\n"
          ]
        }
      ]
    },
    {
      "cell_type": "code",
      "source": [],
      "metadata": {
        "id": "1wThzHHIC1jh"
      },
      "execution_count": null,
      "outputs": []
    }
  ]
}