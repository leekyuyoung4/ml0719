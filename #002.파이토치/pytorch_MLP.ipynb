{
 "cells": [
  {
   "cell_type": "code",
   "execution_count": 1,
   "id": "44f6f69e-e531-4ca9-a469-d59e3493ce68",
   "metadata": {},
   "outputs": [],
   "source": [
    "# Autograde : 자동미분  Tensor의 모든 연산에 대해 자동 미분을 제공\n",
    "# autograde에 Back Propagation을 이용해 파라메터를 업데이트하는 방법을 쉽게 구현 할 수 있도록 설정"
   ]
  },
  {
   "cell_type": "code",
   "execution_count": 2,
   "id": "5cca4b03-237c-453f-8f2f-71b68b5cd80c",
   "metadata": {},
   "outputs": [],
   "source": [
    "import torch"
   ]
  },
  {
   "cell_type": "code",
   "execution_count": 3,
   "id": "9075b8c8-3a6a-4766-a78b-b86e672ae152",
   "metadata": {},
   "outputs": [],
   "source": [
    "if torch.cuda.is_available():\n",
    "    DEVICE = torch.device('cuda')\n",
    "else:\n",
    "    DEVICE = torch.device('cpu')"
   ]
  },
  {
   "cell_type": "code",
   "execution_count": 4,
   "id": "efab8744-34d0-4e8c-9e14-281634c1df88",
   "metadata": {},
   "outputs": [
    {
     "data": {
      "text/plain": [
       "device(type='cpu')"
      ]
     },
     "execution_count": 4,
     "metadata": {},
     "output_type": "execute_result"
    }
   ],
   "source": [
    "DEVICE"
   ]
  },
  {
   "cell_type": "code",
   "execution_count": 6,
   "id": "232d356a-0c75-4455-a048-c6f99fbfba45",
   "metadata": {},
   "outputs": [],
   "source": [
    "# 딥러닝 파라메터  설정\n",
    "BATCH_SIZE = 64\n",
    "INPUT_SIZE = 1000   # 입력층의 노드개수\n",
    "HIDDEN_SIZE = 100   # 은닉층의 노드수  (INPUT_SIZE 를 다수의 파라메터를 이용해서 계산할 결과에 한번 더 계산되는 파라메터수)\n",
    "OUTPUT_SIZE = 10  # 최종 출력노드의 수 (class 개수)"
   ]
  },
  {
   "cell_type": "code",
   "execution_count": 16,
   "id": "cb9c4cd3-a103-478d-a3a6-3915de206d0f",
   "metadata": {},
   "outputs": [
    {
     "name": "stdout",
     "output_type": "stream",
     "text": [
      "epoch : 100, loss : 696.9352416992188\n",
      "epoch : 200, loss : 6.282679080963135\n",
      "epoch : 300, loss : 0.09331756830215454\n",
      "epoch : 400, loss : 0.002102192025631666\n",
      "epoch : 500, loss : 0.0001821616169763729\n"
     ]
    }
   ],
   "source": [
    "x = torch.randn(BATCH_SIZE, INPUT_SIZE,device=DEVICE,dtype = torch.float, requires_grad = False)\n",
    "y= torch.randn(BATCH_SIZE, OUTPUT_SIZE,device=DEVICE,dtype = torch.float, requires_grad = False)\n",
    "w1 = torch.randn(INPUT_SIZE, HIDDEN_SIZE,device=DEVICE,dtype = torch.float, requires_grad = True)\n",
    "w2 = torch.randn(HIDDEN_SIZE, OUTPUT_SIZE,device=DEVICE,dtype = torch.float, requires_grad = True)\n",
    "# 학습율\n",
    "learning_rate = 1e-6\n",
    "# epoch 500(500번 학습)\n",
    "for t in range(1,501):\n",
    "    # 주어진 x와 가중치를 이용해서 relu를 적용한 예측 값을 출력\n",
    "    y_pred = x.mm(w1).clamp(min=0).mm(w2)\n",
    "    # 손실함수 정의 mse\n",
    "    loss = (y_pred - y).pow(2).sum()\n",
    "    if t % 100 == 0:\n",
    "        print(f\"epoch : {t}, loss : {loss.item()}\")\n",
    "    loss.backward() # 각 파라메터에 대해서 Gradient를 계산하고 계산된 결과로 back propagation\n",
    "    with torch.no_grad(): # 기울기 고정(파라메터를 업데이트 하기 위해서) validation을 할때는 gradient를 사용하지 않게 설정해서 빠르게 수행\n",
    "        w1 -= learning_rate*w1.grad  # gradient descent로 파라메터 업데이트\n",
    "        w2 -= learning_rate*w2.grad\n",
    "        \n",
    "        w1.grad.zero_()  # Gradient 초기화( Gradient 값을 loss.backward()통해 새로 계산)\n",
    "        w2.grad.zero_()\n",
    "        \n",
    "    \n",
    "    "
   ]
  },
  {
   "cell_type": "code",
   "execution_count": 17,
   "id": "4b837a39-6eec-48ab-a7da-e858a655a04d",
   "metadata": {},
   "outputs": [],
   "source": [
    "# 딥러닝 MNIST"
   ]
  },
  {
   "cell_type": "code",
   "execution_count": 18,
   "id": "71b78f5e-b2d5-4bf1-bbbc-ac7e61866708",
   "metadata": {},
   "outputs": [],
   "source": [
    "import numpy as np\n",
    "import torch.nn as nn\n",
    "import torch.nn.functional as F\n",
    "from torchvision import transforms, datasets"
   ]
  },
  {
   "cell_type": "code",
   "execution_count": 19,
   "id": "20c6ba5e-ef59-4957-8816-53b71c6b90c7",
   "metadata": {},
   "outputs": [
    {
     "name": "stdout",
     "output_type": "stream",
     "text": [
      "Downloading http://yann.lecun.com/exdb/mnist/train-images-idx3-ubyte.gz\n",
      "Downloading http://yann.lecun.com/exdb/mnist/train-images-idx3-ubyte.gz to ./data/MNIST\\MNIST\\raw\\train-images-idx3-ubyte.gz\n"
     ]
    },
    {
     "data": {
      "application/vnd.jupyter.widget-view+json": {
       "model_id": "816fad8fa6a74acd8e3195acf1f57274",
       "version_major": 2,
       "version_minor": 0
      },
      "text/plain": [
       "  0%|          | 0/9912422 [00:00<?, ?it/s]"
      ]
     },
     "metadata": {},
     "output_type": "display_data"
    },
    {
     "name": "stdout",
     "output_type": "stream",
     "text": [
      "Extracting ./data/MNIST\\MNIST\\raw\\train-images-idx3-ubyte.gz to ./data/MNIST\\MNIST\\raw\n",
      "\n",
      "Downloading http://yann.lecun.com/exdb/mnist/train-labels-idx1-ubyte.gz\n",
      "Downloading http://yann.lecun.com/exdb/mnist/train-labels-idx1-ubyte.gz to ./data/MNIST\\MNIST\\raw\\train-labels-idx1-ubyte.gz\n"
     ]
    },
    {
     "data": {
      "application/vnd.jupyter.widget-view+json": {
       "model_id": "8def28e72c704f7496f27282acaefccb",
       "version_major": 2,
       "version_minor": 0
      },
      "text/plain": [
       "  0%|          | 0/28881 [00:00<?, ?it/s]"
      ]
     },
     "metadata": {},
     "output_type": "display_data"
    },
    {
     "name": "stdout",
     "output_type": "stream",
     "text": [
      "Extracting ./data/MNIST\\MNIST\\raw\\train-labels-idx1-ubyte.gz to ./data/MNIST\\MNIST\\raw\n",
      "\n",
      "Downloading http://yann.lecun.com/exdb/mnist/t10k-images-idx3-ubyte.gz\n",
      "Downloading http://yann.lecun.com/exdb/mnist/t10k-images-idx3-ubyte.gz to ./data/MNIST\\MNIST\\raw\\t10k-images-idx3-ubyte.gz\n"
     ]
    },
    {
     "data": {
      "application/vnd.jupyter.widget-view+json": {
       "model_id": "f022fe59f284494985d0be662509a6a1",
       "version_major": 2,
       "version_minor": 0
      },
      "text/plain": [
       "  0%|          | 0/1648877 [00:00<?, ?it/s]"
      ]
     },
     "metadata": {},
     "output_type": "display_data"
    },
    {
     "name": "stdout",
     "output_type": "stream",
     "text": [
      "Extracting ./data/MNIST\\MNIST\\raw\\t10k-images-idx3-ubyte.gz to ./data/MNIST\\MNIST\\raw\n",
      "\n",
      "Downloading http://yann.lecun.com/exdb/mnist/t10k-labels-idx1-ubyte.gz\n",
      "Downloading http://yann.lecun.com/exdb/mnist/t10k-labels-idx1-ubyte.gz to ./data/MNIST\\MNIST\\raw\\t10k-labels-idx1-ubyte.gz\n"
     ]
    },
    {
     "data": {
      "application/vnd.jupyter.widget-view+json": {
       "model_id": "b40d1fe0b12446f79e3985826728f5c9",
       "version_major": 2,
       "version_minor": 0
      },
      "text/plain": [
       "  0%|          | 0/4542 [00:00<?, ?it/s]"
      ]
     },
     "metadata": {},
     "output_type": "display_data"
    },
    {
     "name": "stdout",
     "output_type": "stream",
     "text": [
      "Extracting ./data/MNIST\\MNIST\\raw\\t10k-labels-idx1-ubyte.gz to ./data/MNIST\\MNIST\\raw\n",
      "\n"
     ]
    }
   ],
   "source": [
    "# 데이터셋 만들기\n",
    "train_dataset =  datasets.MNIST(\n",
    "    root = './data/MNIST'\n",
    "    ,train=True\n",
    "    ,download=True\n",
    "    ,transform = transforms.ToTensor()\n",
    ")\n",
    "test_dataset =  datasets.MNIST(\n",
    "    root = './data/MNIST'\n",
    "    ,train=False\n",
    "    ,download=True\n",
    "    ,transform = transforms.ToTensor()\n",
    ")"
   ]
  },
  {
   "cell_type": "code",
   "execution_count": 34,
   "id": "0c8dd7da-edec-4d71-a2da-8f6f4aac9c7e",
   "metadata": {},
   "outputs": [
    {
     "data": {
      "text/plain": [
       "Dataset MNIST\n",
       "    Number of datapoints: 60000\n",
       "    Root location: ./data/MNIST\n",
       "    Split: Train\n",
       "    StandardTransform\n",
       "Transform: ToTensor()"
      ]
     },
     "execution_count": 34,
     "metadata": {},
     "output_type": "execute_result"
    }
   ],
   "source": [
    "train_dataset"
   ]
  },
  {
   "cell_type": "code",
   "execution_count": 23,
   "id": "72deeeae-b8fe-4e73-b254-ea7af4a991a7",
   "metadata": {},
   "outputs": [],
   "source": [
    "train_loader = torch.utils.data.DataLoader(dataset=train_dataset, batch_size=BATCH_SIZE,shuffle=True)\n",
    "test_loader = torch.utils.data.DataLoader(dataset=test_dataset, batch_size=BATCH_SIZE,shuffle=True)"
   ]
  },
  {
   "cell_type": "code",
   "execution_count": 37,
   "id": "c3d3e6e8-be9b-4120-a8da-9deba33bbac4",
   "metadata": {},
   "outputs": [
    {
     "name": "stdout",
     "output_type": "stream",
     "text": [
      "torch.Size([64, 1, 28, 28]) torch.Size([64])\n"
     ]
    }
   ],
   "source": [
    "for x_train,y_train in train_loader:  # 938\n",
    "    print(x_train.shape, y_train.shape)\n",
    "    break\n",
    "# 938, 64, 1, 28, 28    "
   ]
  },
  {
   "cell_type": "code",
   "execution_count": 36,
   "id": "201bdca9-46df-4119-b3c4-b9fe16e99ecf",
   "metadata": {},
   "outputs": [
    {
     "data": {
      "text/plain": [
       "938"
      ]
     },
     "execution_count": 36,
     "metadata": {},
     "output_type": "execute_result"
    }
   ],
   "source": [
    "len([ _ for i in train_loader])"
   ]
  },
  {
   "cell_type": "code",
   "execution_count": 39,
   "id": "410bf91b-1a7f-475e-af8a-6cf42e8b7352",
   "metadata": {},
   "outputs": [
    {
     "data": {
      "text/plain": [
       "torch.Size([64, 1, 28, 28])"
      ]
     },
     "execution_count": 39,
     "metadata": {},
     "output_type": "execute_result"
    }
   ],
   "source": [
    "x_train.shape"
   ]
  },
  {
   "cell_type": "code",
   "execution_count": null,
   "id": "82995b0a-5e3b-4e3e-89b2-ec14f8489685",
   "metadata": {},
   "outputs": [],
   "source": []
  }
 ],
 "metadata": {
  "kernelspec": {
   "display_name": "Python 3 (ipykernel)",
   "language": "python",
   "name": "python3"
  },
  "language_info": {
   "codemirror_mode": {
    "name": "ipython",
    "version": 3
   },
   "file_extension": ".py",
   "mimetype": "text/x-python",
   "name": "python",
   "nbconvert_exporter": "python",
   "pygments_lexer": "ipython3",
   "version": "3.9.12"
  }
 },
 "nbformat": 4,
 "nbformat_minor": 5
}
