{
 "cells": [
  {
   "cell_type": "code",
   "execution_count": 1,
   "id": "70d34906-6106-4fd2-9e03-fcda419c3b70",
   "metadata": {},
   "outputs": [
    {
     "name": "stderr",
     "output_type": "stream",
     "text": [
      "C:\\Users\\user\\miniconda3\\envs\\ml\\lib\\site-packages\\requests\\__init__.py:78: RequestsDependencyWarning: urllib3 (1.26.12) or chardet (3.0.4) doesn't match a supported version!\n",
      "  warnings.warn(\"urllib3 ({0}) or chardet ({1}) doesn't match a supported \"\n"
     ]
    }
   ],
   "source": [
    "# module import\n",
    "import numpy as np\n",
    "import matplotlib.pyplot as plt\n",
    "import torch\n",
    "import torch.nn as nn\n",
    "import torch.nn.functional as F\n",
    "from torchvision import transforms, datasets"
   ]
  },
  {
   "cell_type": "code",
   "execution_count": 2,
   "id": "d59bb90c-6eb5-4baf-8850-73b00b9fc588",
   "metadata": {
    "tags": []
   },
   "outputs": [],
   "source": [
    "# 딥러닝 모델을 설계할때 활용하는 장비 확인\n",
    "if torch.cuda.is_available():\n",
    "    DEVICE = torch.device('cuda')\n",
    "else:\n",
    "    DEVICE = torch.device('cpu')"
   ]
  },
  {
   "cell_type": "code",
   "execution_count": 3,
   "id": "58333121-61a2-473a-bc0d-fde1b8f34ace",
   "metadata": {},
   "outputs": [],
   "source": [
    "BATCH_SIZE = 32\n",
    "EPOCHS = 10"
   ]
  },
  {
   "cell_type": "code",
   "execution_count": 4,
   "id": "2557b3e9-ce79-4f95-b46e-14ab2c9e8732",
   "metadata": {},
   "outputs": [],
   "source": [
    "# 데이터 다운로드\n",
    "train_dataset = datasets.MNIST(root='./'\n",
    "                               , train=True,download=True,transform=transforms.ToTensor())\n",
    "test_dataset = datasets.MNIST(root='./'\n",
    "                               , train=False,download=True,transform=transforms.ToTensor())\n",
    "train_loader = torch.utils.data.DataLoader(dataset=train_dataset,batch_size=BATCH_SIZE,shuffle=True)\n",
    "test_loader = torch.utils.data.DataLoader(dataset=test_dataset,batch_size=BATCH_SIZE,shuffle=True)"
   ]
  },
  {
   "cell_type": "code",
   "execution_count": 5,
   "id": "e4f26a02-0f21-420c-a33c-671a3912931f",
   "metadata": {},
   "outputs": [
    {
     "name": "stdout",
     "output_type": "stream",
     "text": [
      "x_train : torch.Size([32, 1, 28, 28]) type: torch.FloatTensor\n",
      "y_train : torch.Size([32]) type: torch.LongTensor\n"
     ]
    }
   ],
   "source": [
    "# 데이터 확인1\n",
    "for x_train,y_train in train_loader:\n",
    "    print(f\"x_train : {x_train.size()} type: {x_train.type()}\")\n",
    "    print(f\"y_train : {y_train.size()} type: {y_train.type()}\")\n",
    "    break"
   ]
  },
  {
   "cell_type": "code",
   "execution_count": 6,
   "id": "07049b5e-dd81-4411-beae-650dae238c90",
   "metadata": {},
   "outputs": [
    {
     "data": {
      "image/png": "[encoded data removed]",
      "text/plain": [
       "<Figure size 640x480 with 10 Axes>"
      ]
     },
     "metadata": {},
     "output_type": "display_data"
    }
   ],
   "source": [
    "# 데이터 확인2\n",
    "import os\n",
    "os.environ['KMP_DUPLICATE_LIB_OK']='TRUE'\n",
    "\n",
    "for i in range(10):\n",
    "    plt.subplot(1,10,i+1)\n",
    "    plt.axis('off')\n",
    "    plt.title(y_train[i].item()) \n",
    "    plt.imshow(x_train[i].numpy().reshape(28,28),cmap='gray_r')"
   ]
  },
  {
   "cell_type": "code",
   "execution_count": 17,
   "id": "f2c1b504-e2a6-47eb-b0b0-52420a4f0247",
   "metadata": {},
   "outputs": [],
   "source": [
    "# 모델 설계  L = 5  Linear 5\n",
    "class Net(nn.Module):\n",
    "    def __init__(self):\n",
    "        super().__init__()\n",
    "        self.fc1 = nn.Linear(28*28, 512)\n",
    "        self.fc2 = nn.Linear(512, 10)\n",
    "        # self.fc2 = nn.Linear(512, 256)\n",
    "        # self.fc3 = nn.Linear(256, 128)\n",
    "        # self.fc4 = nn.Linear(128, 64)\n",
    "        # self.fc5 = nn.Linear(64, 10)\n",
    "        self.dropput_prob = 0.5\n",
    "        self.batch_norm1 = nn.BatchNorm1d(512)\n",
    "        \n",
    "    def forward(self,x):   #히든층-출력함수-드랍아웃\n",
    "        x = x.view(-1,28*28)  # 입력데이터를 2차원 행렬로 변경\n",
    "        x = self.fc1(x)\n",
    "        x = self.batch_norm1(x)\n",
    "        x = torch.relu(x)\n",
    "        x = torch.dropout(input=x, p=self.dropput_prob, train=self.training)        \n",
    "        x = self.fc2(x)\n",
    "        # x = torch.relu(x)\n",
    "        # x = torch.dropout(input=x, p=self.dropput_prob, train=self.training)\n",
    "        # x = self.fc3(x)\n",
    "        # x = torch.relu(x)\n",
    "        # x = torch.dropout(input=x, p=self.dropput_prob, train=self.training)\n",
    "        # x = self.fc4(x)\n",
    "        # x = torch.relu(x)\n",
    "        # x = torch.dropout(input=x, p=self.dropput_prob, train=self.training)\n",
    "        # x = self.fc5(x)\n",
    "        x = torch.softmax(x,dim=1)\n",
    "        return x"
   ]
  },
  {
   "cell_type": "code",
   "execution_count": 18,
   "id": "b75eb274-8fde-481e-b0b9-01f8b385d910",
   "metadata": {},
   "outputs": [
    {
     "name": "stdout",
     "output_type": "stream",
     "text": [
      "Net(\n",
      "  (fc1): Linear(in_features=784, out_features=512, bias=True)\n",
      "  (fc2): Linear(in_features=512, out_features=10, bias=True)\n",
      "  (batch_norm1): BatchNorm1d(512, eps=1e-05, momentum=0.1, affine=True, track_running_stats=True)\n",
      ")\n"
     ]
    }
   ],
   "source": [
    "# model object, optimizer, loss function 생성\n",
    "model = Net().to(DEVICE)\n",
    "optimizer = torch.optim.Adam(model.parameters(),lr = 1e-3)\n",
    "criterion = nn.CrossEntropyLoss()\n",
    "print(model)"
   ]
  },
  {
   "cell_type": "code",
   "execution_count": 19,
   "id": "dc7a1363-4257-49b1-a848-92830c35d854",
   "metadata": {},
   "outputs": [],
   "source": [
    "# 학습함수 : 학습진행, 진행상태\n",
    "from tqdm import tqdm\n",
    "def train(model, train_loader,optimizer):\n",
    "    model.train()\n",
    "    for (images, labels) in tqdm(train_loader):\n",
    "        images = images.to(DEVICE)\n",
    "        labels = labels.to(DEVICE)\n",
    "        optimizer.zero_grad() # 기울기를 업데이트 하지 않는다.. 즉 고정한다.\n",
    "        output = model(images)\n",
    "        loss = criterion(output, labels)\n",
    "        loss.backward() # 오류 역전파\n",
    "        optimizer.step() # 오류 역전파 값을 적용한다\n",
    "        # if idx%100 == 0:\n",
    "        #     print(f\"loss : {loss.item()}\")"
   ]
  },
  {
   "cell_type": "code",
   "execution_count": 20,
   "id": "fbaa5873-4ed6-4dbe-9374-6b4857c4b052",
   "metadata": {},
   "outputs": [],
   "source": [
    "# 평가 함수\n",
    "def evaluate(model, test_loader):\n",
    "    model.eval()\n",
    "    test_loss = 0\n",
    "    correct = 0\n",
    "    with torch.no_grad(): #평가는 전방계산만 하고 역전파 안하기 때문에 가중치를 고정\n",
    "        for images, labels in test_loader:\n",
    "            images = images.to(DEVICE)\n",
    "            labels = labels.to(DEVICE)            \n",
    "            output = model(images)\n",
    "            test_loss += criterion(output, labels).item()\n",
    "            prediction = output.max(1,keepdim =True)[1]\n",
    "            correct += prediction.eq(labels.view_as(prediction)).sum().item() \n",
    "    \n",
    "    test_loss /= len(test_loader.dataset)\n",
    "    test_accuracy = 100.* correct / len(test_loader.dataset)\n",
    "    return test_loss, test_accuracy"
   ]
  },
  {
   "cell_type": "code",
   "execution_count": 21,
   "id": "767e72de-4404-4f52-b7e9-9a85661e9942",
   "metadata": {
    "tags": []
   },
   "outputs": [
    {
     "name": "stderr",
     "output_type": "stream",
     "text": [
      "100%|███████████████████████████████████████████████████████████████| 1875/1875 [00:24<00:00, 75.81it/s]\n"
     ]
    },
    {
     "name": "stdout",
     "output_type": "stream",
     "text": [
      "epoch : 1 loss : 0.047309763860702514  accuracy : 95.38\n"
     ]
    },
    {
     "name": "stderr",
     "output_type": "stream",
     "text": [
      "100%|███████████████████████████████████████████████████████████████| 1875/1875 [00:24<00:00, 77.25it/s]\n"
     ]
    },
    {
     "name": "stdout",
     "output_type": "stream",
     "text": [
      "epoch : 2 loss : 0.046998671293258666  accuracy : 96.25\n"
     ]
    },
    {
     "name": "stderr",
     "output_type": "stream",
     "text": [
      "100%|███████████████████████████████████████████████████████████████| 1875/1875 [00:24<00:00, 75.61it/s]\n"
     ]
    },
    {
     "name": "stdout",
     "output_type": "stream",
     "text": [
      "epoch : 3 loss : 0.04685232895612717  accuracy : 96.63\n"
     ]
    },
    {
     "name": "stderr",
     "output_type": "stream",
     "text": [
      "100%|███████████████████████████████████████████████████████████████| 1875/1875 [00:24<00:00, 75.52it/s]\n"
     ]
    },
    {
     "name": "stdout",
     "output_type": "stream",
     "text": [
      "epoch : 4 loss : 0.04672949826717377  accuracy : 97.0\n"
     ]
    },
    {
     "name": "stderr",
     "output_type": "stream",
     "text": [
      "100%|███████████████████████████████████████████████████████████████| 1875/1875 [00:21<00:00, 86.54it/s]\n"
     ]
    },
    {
     "name": "stdout",
     "output_type": "stream",
     "text": [
      "epoch : 5 loss : 0.046607714796066284  accuracy : 97.37\n"
     ]
    },
    {
     "name": "stderr",
     "output_type": "stream",
     "text": [
      "100%|███████████████████████████████████████████████████████████████| 1875/1875 [00:20<00:00, 89.47it/s]\n"
     ]
    },
    {
     "name": "stdout",
     "output_type": "stream",
     "text": [
      "epoch : 6 loss : 0.0465742396235466  accuracy : 97.51\n"
     ]
    },
    {
     "name": "stderr",
     "output_type": "stream",
     "text": [
      "100%|███████████████████████████████████████████████████████████████| 1875/1875 [00:23<00:00, 78.16it/s]\n"
     ]
    },
    {
     "name": "stdout",
     "output_type": "stream",
     "text": [
      "epoch : 7 loss : 0.04660997141599655  accuracy : 97.25\n"
     ]
    },
    {
     "name": "stderr",
     "output_type": "stream",
     "text": [
      "100%|███████████████████████████████████████████████████████████████| 1875/1875 [00:26<00:00, 70.85it/s]\n"
     ]
    },
    {
     "name": "stdout",
     "output_type": "stream",
     "text": [
      "epoch : 8 loss : 0.04657374492883682  accuracy : 97.4\n"
     ]
    },
    {
     "name": "stderr",
     "output_type": "stream",
     "text": [
      "100%|███████████████████████████████████████████████████████████████| 1875/1875 [00:22<00:00, 82.63it/s]\n"
     ]
    },
    {
     "name": "stdout",
     "output_type": "stream",
     "text": [
      "epoch : 9 loss : 0.04648741685152054  accuracy : 97.72\n"
     ]
    },
    {
     "name": "stderr",
     "output_type": "stream",
     "text": [
      "100%|███████████████████████████████████████████████████████████████| 1875/1875 [00:24<00:00, 75.75it/s]\n"
     ]
    },
    {
     "name": "stdout",
     "output_type": "stream",
     "text": [
      "epoch : 10 loss : 0.04655100234746933  accuracy : 97.46\n"
     ]
    }
   ],
   "source": [
    "# 학습진행\n",
    "test_loss, test_accuracy = [],[],\n",
    "for epoch in range(1, EPOCHS+1):\n",
    "    train(model,train_loader,optimizer)\n",
    "    tloss, taccuracy = evaluate(model,test_loader)\n",
    "    test_loss.append(tloss)\n",
    "    test_accuracy.append(taccuracy)\n",
    "    print(f\"epoch : {epoch} loss : {tloss}  accuracy : {taccuracy}\")"
   ]
  },
  {
   "cell_type": "code",
   "execution_count": null,
   "id": "dcfe3c62-62b7-4396-add1-13920982b93c",
   "metadata": {},
   "outputs": [],
   "source": [
    "# plt.plot(range(1,11), test_loss)\n",
    "plt.plot(range(1,11), test_accuracy)"
   ]
  },
  {
   "cell_type": "code",
   "execution_count": 22,
   "id": "6c1aa337-1813-415b-92fb-0815260d54f8",
   "metadata": {},
   "outputs": [],
   "source": [
    "# 초기화 방법에 따른 학습 효율의 변화\n",
    "# 학습시작시점을 좋게 설정해서 학습이 좋은 방향으로 나아갈수 있도록 함"
   ]
  },
  {
   "cell_type": "code",
   "execution_count": 23,
   "id": "9c7972b0-f5ca-4247-961c-a663fd7f5712",
   "metadata": {},
   "outputs": [
    {
     "name": "stderr",
     "output_type": "stream",
     "text": [
      "100%|███████████████████████████████████████████████████████████████| 1875/1875 [00:23<00:00, 80.84it/s]\n"
     ]
    },
    {
     "name": "stdout",
     "output_type": "stream",
     "text": [
      "epoch : 1 loss : 0.0474077947974205  accuracy : 95.11\n"
     ]
    },
    {
     "name": "stderr",
     "output_type": "stream",
     "text": [
      "100%|███████████████████████████████████████████████████████████████| 1875/1875 [00:23<00:00, 79.10it/s]\n"
     ]
    },
    {
     "name": "stdout",
     "output_type": "stream",
     "text": [
      "epoch : 2 loss : 0.04698192805051803  accuracy : 96.36\n"
     ]
    },
    {
     "name": "stderr",
     "output_type": "stream",
     "text": [
      "100%|███████████████████████████████████████████████████████████████| 1875/1875 [00:23<00:00, 79.71it/s]\n"
     ]
    },
    {
     "name": "stdout",
     "output_type": "stream",
     "text": [
      "epoch : 3 loss : 0.04683911890983582  accuracy : 96.76\n"
     ]
    },
    {
     "name": "stderr",
     "output_type": "stream",
     "text": [
      "100%|███████████████████████████████████████████████████████████████| 1875/1875 [00:22<00:00, 83.85it/s]\n"
     ]
    },
    {
     "name": "stdout",
     "output_type": "stream",
     "text": [
      "epoch : 4 loss : 0.046753851115703585  accuracy : 96.89\n"
     ]
    },
    {
     "name": "stderr",
     "output_type": "stream",
     "text": [
      "100%|███████████████████████████████████████████████████████████████| 1875/1875 [00:22<00:00, 84.09it/s]\n"
     ]
    },
    {
     "name": "stdout",
     "output_type": "stream",
     "text": [
      "epoch : 5 loss : 0.04667591199874878  accuracy : 97.17\n"
     ]
    },
    {
     "name": "stderr",
     "output_type": "stream",
     "text": [
      "100%|███████████████████████████████████████████████████████████████| 1875/1875 [00:23<00:00, 79.17it/s]\n"
     ]
    },
    {
     "name": "stdout",
     "output_type": "stream",
     "text": [
      "epoch : 6 loss : 0.046569552063941956  accuracy : 97.46\n"
     ]
    },
    {
     "name": "stderr",
     "output_type": "stream",
     "text": [
      "100%|███████████████████████████████████████████████████████████████| 1875/1875 [00:21<00:00, 87.80it/s]\n"
     ]
    },
    {
     "name": "stdout",
     "output_type": "stream",
     "text": [
      "epoch : 7 loss : 0.04659095020294189  accuracy : 97.38\n"
     ]
    },
    {
     "name": "stderr",
     "output_type": "stream",
     "text": [
      "100%|███████████████████████████████████████████████████████████████| 1875/1875 [00:25<00:00, 74.54it/s]\n"
     ]
    },
    {
     "name": "stdout",
     "output_type": "stream",
     "text": [
      "epoch : 8 loss : 0.046562024772167206  accuracy : 97.46\n"
     ]
    },
    {
     "name": "stderr",
     "output_type": "stream",
     "text": [
      "100%|███████████████████████████████████████████████████████████████| 1875/1875 [00:26<00:00, 69.80it/s]\n"
     ]
    },
    {
     "name": "stdout",
     "output_type": "stream",
     "text": [
      "epoch : 9 loss : 0.046556088399887084  accuracy : 97.51\n"
     ]
    },
    {
     "name": "stderr",
     "output_type": "stream",
     "text": [
      "100%|███████████████████████████████████████████████████████████████| 1875/1875 [00:29<00:00, 64.32it/s]\n"
     ]
    },
    {
     "name": "stdout",
     "output_type": "stream",
     "text": [
      "epoch : 10 loss : 0.04647438786029816  accuracy : 97.64\n"
     ]
    }
   ],
   "source": [
    "import torch.nn.init as init\n",
    "def weight_init(m):\n",
    "    if isinstance(m, nn.Linear):\n",
    "        init.kaiming_normal_(m.weight.data)\n",
    "\n",
    "model = Net().to(DEVICE)\n",
    "model.apply(weight_init)\n",
    "optimizer = torch.optim.Adam(model.parameters(),lr = 1e-3)\n",
    "criterion = nn.CrossEntropyLoss()    \n",
    "\n",
    "# 학습진행\n",
    "weight_init_test_loss, weight_init_test_accuracy = [],[],\n",
    "for epoch in range(1, EPOCHS+1):\n",
    "    train(model,train_loader,optimizer)\n",
    "    tloss, taccuracy = evaluate(model,test_loader)\n",
    "    weight_init_test_loss.append(tloss)\n",
    "    weight_init_test_accuracy.append(taccuracy)\n",
    "    print(f\"epoch : {epoch} loss : {tloss}  accuracy : {taccuracy}\")"
   ]
  },
  {
   "cell_type": "code",
   "execution_count": null,
   "id": "19c9f16f-ebfe-4956-9968-517789a49396",
   "metadata": {},
   "outputs": [],
   "source": [
    "# autoEncorder 이용\n",
    "# 앞 부분을 hidden layer로 압축시킨뒤 output부분을 input과 동일하게 만들어서 decoding "
   ]
  },
  {
   "cell_type": "code",
   "execution_count": 24,
   "id": "0d02c9be-e05b-4b4e-ae9b-409b631b09b7",
   "metadata": {},
   "outputs": [],
   "source": [
    "class AE(nn.Module):\n",
    "    def __init__(self):\n",
    "        super().__init__()\n",
    "        self.encoder = nn.Sequential(\n",
    "            nn.Linear(28*28,512),\n",
    "            nn.ReLU(),\n",
    "            nn.Linear(512,256),\n",
    "            nn.ReLU(),\n",
    "            nn.Linear(256,32)\n",
    "        )\n",
    "        self.decoder = nn.Sequential(\n",
    "            nn.Linear(32,256),\n",
    "            nn.ReLU(),\n",
    "            nn.Linear(256,512),\n",
    "            nn.ReLU(),\n",
    "            nn.Linear(512,28*28),\n",
    "        )\n",
    "    def forward(self,x):\n",
    "        encorder = self.encoder(x)\n",
    "        decorder = self.decoder(encoder)\n",
    "        return encorder, decorder"
   ]
  },
  {
   "cell_type": "code",
   "execution_count": 26,
   "id": "442099e5-70fa-4b44-8257-71a598f2452d",
   "metadata": {},
   "outputs": [
    {
     "name": "stdout",
     "output_type": "stream",
     "text": [
      "AE(\n",
      "  (encoder): Sequential(\n",
      "    (0): Linear(in_features=784, out_features=512, bias=True)\n",
      "    (1): ReLU()\n",
      "    (2): Linear(in_features=512, out_features=256, bias=True)\n",
      "    (3): ReLU()\n",
      "    (4): Linear(in_features=256, out_features=32, bias=True)\n",
      "  )\n",
      "  (decoder): Sequential(\n",
      "    (0): Linear(in_features=32, out_features=256, bias=True)\n",
      "    (1): ReLU()\n",
      "    (2): Linear(in_features=256, out_features=512, bias=True)\n",
      "    (3): ReLU()\n",
      "    (4): Linear(in_features=512, out_features=784, bias=True)\n",
      "  )\n",
      ")\n"
     ]
    }
   ],
   "source": [
    "model = AE().to(DEVICE)\n",
    "optimizer = torch.optim.Adam(model.parameters(),lr = 1e-3)\n",
    "criterion = nn.MSELoss()\n",
    "print(model)"
   ]
  },
  {
   "cell_type": "code",
   "execution_count": null,
   "id": "dce754b6-287b-4daa-b577-b06b25637881",
   "metadata": {},
   "outputs": [],
   "source": []
  }
 ],
 "metadata": {
  "kernelspec": {
   "display_name": "Python 3 (ipykernel)",
   "language": "python",
   "name": "python3"
  },
  "language_info": {
   "codemirror_mode": {
    "name": "ipython",
    "version": 3
   },
   "file_extension": ".py",
   "mimetype": "text/x-python",
   "name": "python",
   "nbconvert_exporter": "python",
   "pygments_lexer": "ipython3",
   "version": "3.9.12"
  }
 },
 "nbformat": 4,
 "nbformat_minor": 5
}
