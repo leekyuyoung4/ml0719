{
 "cells": [
  {
   "cell_type": "code",
   "execution_count": 14,
   "id": "70d34906-6106-4fd2-9e03-fcda419c3b70",
   "metadata": {},
   "outputs": [],
   "source": [
    "# module import\n",
    "import numpy as np\n",
    "import matplotlib.pyplot as plt\n",
    "import torch\n",
    "import torch.nn as nn\n",
    "import torch.nn.functional as F\n",
    "from torchvision import transforms, datasets"
   ]
  },
  {
   "cell_type": "code",
   "execution_count": 2,
   "id": "d59bb90c-6eb5-4baf-8850-73b00b9fc588",
   "metadata": {
    "tags": []
   },
   "outputs": [],
   "source": [
    "# 딥러닝 모델을 설계할때 활용하는 장비 확인\n",
    "if torch.cuda.is_available():\n",
    "    DEVICE = torch.device('cuda')\n",
    "else:\n",
    "    DEVICE = torch.device('cpu')"
   ]
  },
  {
   "cell_type": "code",
   "execution_count": 3,
   "id": "58333121-61a2-473a-bc0d-fde1b8f34ace",
   "metadata": {},
   "outputs": [],
   "source": [
    "BATCH_SIZE = 32\n",
    "EPOCHS = 10"
   ]
  },
  {
   "cell_type": "code",
   "execution_count": 4,
   "id": "2557b3e9-ce79-4f95-b46e-14ab2c9e8732",
   "metadata": {},
   "outputs": [],
   "source": [
    "# 데이터 다운로드\n",
    "train_dataset = datasets.MNIST(root='./'\n",
    "                               , train=True,download=True,transform=transforms.ToTensor())\n",
    "test_dataset = datasets.MNIST(root='./'\n",
    "                               , train=False,download=True,transform=transforms.ToTensor())\n",
    "train_loader = torch.utils.data.DataLoader(dataset=train_dataset,batch_size=BATCH_SIZE,shuffle=True)\n",
    "test_loader = torch.utils.data.DataLoader(dataset=test_dataset,batch_size=BATCH_SIZE,shuffle=True)"
   ]
  },
  {
   "cell_type": "code",
   "execution_count": 5,
   "id": "e4f26a02-0f21-420c-a33c-671a3912931f",
   "metadata": {},
   "outputs": [
    {
     "name": "stdout",
     "output_type": "stream",
     "text": [
      "x_train : torch.Size([32, 1, 28, 28]) type: torch.FloatTensor\n",
      "y_train : torch.Size([32]) type: torch.LongTensor\n"
     ]
    }
   ],
   "source": [
    "# 데이터 확인1\n",
    "for x_train,y_train in train_loader:\n",
    "    print(f\"x_train : {x_train.size()} type: {x_train.type()}\")\n",
    "    print(f\"y_train : {y_train.size()} type: {y_train.type()}\")\n",
    "    break"
   ]
  },
  {
   "cell_type": "code",
   "execution_count": 12,
   "id": "07049b5e-dd81-4411-beae-650dae238c90",
   "metadata": {},
   "outputs": [
    {
     "data": {
      "image/png": "[encoded data removed]",
      "text/plain": [
       "<Figure size 640x480 with 10 Axes>"
      ]
     },
     "metadata": {},
     "output_type": "display_data"
    }
   ],
   "source": [
    "# 데이터 확인2\n",
    "import os\n",
    "os.environ['KMP_DUPLICATE_LIB_OK']='TRUE'\n",
    "\n",
    "for i in range(10):\n",
    "    plt.subplot(1,10,i+1)\n",
    "    plt.axis('off')\n",
    "    plt.title(y_train[i].item()) \n",
    "    plt.imshow(x_train[i].numpy().reshape(28,28),cmap='gray_r')"
   ]
  },
  {
   "cell_type": "code",
   "execution_count": 32,
   "id": "f2c1b504-e2a6-47eb-b0b0-52420a4f0247",
   "metadata": {},
   "outputs": [],
   "source": [
    "# 모델 설계  L = 5  Linear 5\n",
    "class Net(nn.Module):\n",
    "    def __init__(self):\n",
    "        super().__init__()\n",
    "        self.fc1 = nn.Linear(28*28, 512)\n",
    "        self.fc2 = nn.Linear(512, 256)\n",
    "        self.fc3 = nn.Linear(256, 128)\n",
    "        self.fc4 = nn.Linear(128, 64)\n",
    "        self.fc5 = nn.Linear(64, 10)\n",
    "        self.dropput_prob = 0.5\n",
    "    def forward(self,x):   #히든층-출력함수-드랍아웃\n",
    "        x = x.view(-1,28*28)  # 입력데이터를 2차원 행렬로 변경\n",
    "        x = self.fc1(x)\n",
    "        x = torch.sigmoid(x)\n",
    "        x = torch.dropout(input=x, p=self.dropput_prob, train=self.training)\n",
    "        x = self.fc2(x)\n",
    "        x = torch.sigmoid(x)\n",
    "        x = torch.dropout(input=x, p=self.dropput_prob, train=self.training)\n",
    "        x = self.fc3(x)\n",
    "        x = torch.sigmoid(x)\n",
    "        x = torch.dropout(input=x, p=self.dropput_prob, train=self.training)\n",
    "        x = self.fc4(x)\n",
    "        x = torch.sigmoid(x)\n",
    "        x = torch.dropout(input=x, p=self.dropput_prob, train=self.training)\n",
    "        x = self.fc5(x)\n",
    "        x = torch.softmax(x,dim=1)\n",
    "        return x"
   ]
  },
  {
   "cell_type": "code",
   "execution_count": 33,
   "id": "b75eb274-8fde-481e-b0b9-01f8b385d910",
   "metadata": {},
   "outputs": [
    {
     "name": "stdout",
     "output_type": "stream",
     "text": [
      "Net(\n",
      "  (fc1): Linear(in_features=784, out_features=512, bias=True)\n",
      "  (fc2): Linear(in_features=512, out_features=256, bias=True)\n",
      "  (fc3): Linear(in_features=256, out_features=128, bias=True)\n",
      "  (fc4): Linear(in_features=128, out_features=64, bias=True)\n",
      "  (fc5): Linear(in_features=64, out_features=10, bias=True)\n",
      ")\n"
     ]
    }
   ],
   "source": [
    "# model object, optimizer, loss function 생성\n",
    "model = Net().to(DEVICE)\n",
    "optimizer = torch.optim.Adam(model.parameters(),lr = 1e-3)\n",
    "criterion = nn.CrossEntropyLoss()\n",
    "print(model)"
   ]
  },
  {
   "cell_type": "code",
   "execution_count": 41,
   "id": "dc7a1363-4257-49b1-a848-92830c35d854",
   "metadata": {},
   "outputs": [],
   "source": [
    "# 학습함수 : 학습진행, 진행상태\n",
    "def train(model, train_loader,optimizer):\n",
    "    model.train()\n",
    "    for idx,(images, labels) in enumerate(train_loader):\n",
    "        images = images.to(DEVICE)\n",
    "        labels = labels.to(DEVICE)\n",
    "        optimizer.zero_grad() # 기울기를 업데이트 하지 않는다.. 즉 고정한다.\n",
    "        output = model(images)\n",
    "        loss = criterion(output, labels)\n",
    "        loss.backward() # 오류 역전파\n",
    "        optimizer.step() # 오류 역전파 값을 적용한다\n",
    "        if idx%100 == 0:\n",
    "            print(f\"loss : {loss.item()}\")"
   ]
  },
  {
   "cell_type": "code",
   "execution_count": 42,
   "id": "fbaa5873-4ed6-4dbe-9374-6b4857c4b052",
   "metadata": {},
   "outputs": [],
   "source": [
    "# 평가 함수\n",
    "def evaluate(model, test_loader):\n",
    "    model.eval()\n",
    "    test_loss = 0\n",
    "    correct = 0\n",
    "    with torch.no_grad(): #평가는 전방계산만 하고 역전파 안하기 때문에 가중치를 고정\n",
    "        for images, labels in test_loader:\n",
    "            images = images.to(DEVICE)\n",
    "            labels = labels.to(DEVICE)            \n",
    "            output = model(images)\n",
    "            test_loss += criterion(output, labels).item()\n",
    "            prediction = output.max(1,keepdim =True)[1]\n",
    "            correct += prediction.eq(labels.view_as(prediction)).sum().item() \n",
    "    \n",
    "    test_loss /= len(test_loader.dataset)\n",
    "    test_accuracy = 100.* correct / len(test_loader.dataset)\n",
    "    return test_loss, test_accuracy"
   ]
  },
  {
   "cell_type": "code",
   "execution_count": null,
   "id": "767e72de-4404-4f52-b7e9-9a85661e9942",
   "metadata": {
    "tags": []
   },
   "outputs": [
    {
     "name": "stdout",
     "output_type": "stream",
     "text": [
      "loss : 1.8386139869689941\n",
      "loss : 1.936757206916809\n",
      "loss : 1.9080429077148438\n",
      "loss : 1.8327209949493408\n",
      "loss : 1.8090133666992188\n",
      "loss : 1.7756378650665283\n",
      "loss : 1.8773103952407837\n",
      "loss : 1.755112648010254\n",
      "loss : 1.7906849384307861\n",
      "loss : 1.6997504234313965\n",
      "loss : 1.751420497894287\n",
      "loss : 1.6301976442337036\n",
      "loss : 1.6933231353759766\n",
      "loss : 1.6983115673065186\n",
      "loss : 1.7739601135253906\n",
      "loss : 1.7165699005126953\n",
      "loss : 1.7235798835754395\n",
      "loss : 1.7195770740509033\n",
      "loss : 1.599685549736023\n",
      "epoch : 1 loss : 0.052694436490535734  accuracy : 77.58\n",
      "loss : 1.7647455930709839\n",
      "loss : 1.739149570465088\n",
      "loss : 1.6506447792053223\n",
      "loss : 1.7721878290176392\n",
      "loss : 1.6190423965454102\n",
      "loss : 1.6730597019195557\n",
      "loss : 1.58197021484375\n",
      "loss : 1.50101900100708\n",
      "loss : 1.564404845237732\n",
      "loss : 1.619600772857666\n",
      "loss : 1.6976875066757202\n",
      "loss : 1.6574597358703613\n",
      "loss : 1.6217947006225586\n",
      "loss : 1.763014793395996\n",
      "loss : 1.639068603515625\n",
      "loss : 1.6832005977630615\n",
      "loss : 1.6517447233200073\n",
      "loss : 1.6509414911270142\n",
      "loss : 1.5617825984954834\n",
      "epoch : 2 loss : 0.05037071232795715  accuracy : 85.11\n",
      "loss : 1.5982269048690796\n",
      "loss : 1.614815354347229\n",
      "loss : 1.7183653116226196\n",
      "loss : 1.576836109161377\n",
      "loss : 1.6813082695007324\n",
      "loss : 1.7339588403701782\n",
      "loss : 1.623949646949768\n",
      "loss : 1.6915115118026733\n",
      "loss : 1.6886446475982666\n",
      "loss : 1.657454490661621\n",
      "loss : 1.6210976839065552\n",
      "loss : 1.681443214416504\n",
      "loss : 1.5601656436920166\n",
      "loss : 1.56336510181427\n",
      "loss : 1.498642921447754\n",
      "loss : 1.5880968570709229\n",
      "loss : 1.5962979793548584\n",
      "loss : 1.588038444519043\n",
      "loss : 1.6279631853103638\n",
      "epoch : 3 loss : 0.05004412415027618  accuracy : 86.14\n",
      "loss : 1.6837948560714722\n",
      "loss : 1.5985651016235352\n",
      "loss : 1.6502066850662231\n",
      "loss : 1.687821626663208\n",
      "loss : 1.6413273811340332\n",
      "loss : 1.5867257118225098\n",
      "loss : 1.8040618896484375\n",
      "loss : 1.6239442825317383\n",
      "loss : 1.4952327013015747\n",
      "loss : 1.7723124027252197\n",
      "loss : 1.55495285987854\n",
      "loss : 1.5871713161468506\n",
      "loss : 1.5465776920318604\n",
      "loss : 1.559336543083191\n"
     ]
    }
   ],
   "source": [
    "# 학습진행\n",
    "for epoch in range(1, EPOCHS+1):\n",
    "    train(model,train_loader,optimizer)\n",
    "    test_loss, test_accuracy = evaluate(model,test_loader)\n",
    "    print(f\"epoch : {epoch} loss : {test_loss}  accuracy : {test_accuracy}\")"
   ]
  },
  {
   "cell_type": "code",
   "execution_count": 40,
   "id": "dcfe3c62-62b7-4396-add1-13920982b93c",
   "metadata": {},
   "outputs": [
    {
     "ename": "NameError",
     "evalue": "name 'd' is not defined",
     "output_type": "error",
     "traceback": [
      "\u001b[1;31m---------------------------------------------------------------------------\u001b[0m",
      "\u001b[1;31mNameError\u001b[0m                                 Traceback (most recent call last)",
      "Cell \u001b[1;32mIn [40], line 1\u001b[0m\n\u001b[1;32m----> 1\u001b[0m \u001b[43md\u001b[49m\n",
      "\u001b[1;31mNameError\u001b[0m: name 'd' is not defined"
     ]
    }
   ],
   "source": []
  },
  {
   "cell_type": "code",
   "execution_count": null,
   "id": "6c1aa337-1813-415b-92fb-0815260d54f8",
   "metadata": {},
   "outputs": [],
   "source": []
  }
 ],
 "metadata": {
  "kernelspec": {
   "display_name": "Python 3 (ipykernel)",
   "language": "python",
   "name": "python3"
  },
  "language_info": {
   "codemirror_mode": {
    "name": "ipython",
    "version": 3
   },
   "file_extension": ".py",
   "mimetype": "text/x-python",
   "name": "python",
   "nbconvert_exporter": "python",
   "pygments_lexer": "ipython3",
   "version": "3.9.12"
  }
 },
 "nbformat": 4,
 "nbformat_minor": 5
}
