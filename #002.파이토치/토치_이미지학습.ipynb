{
 "cells": [
  {
   "cell_type": "code",
   "execution_count": 1,
   "id": "bec1c367-126b-4c9c-a14c-d966654d6eba",
   "metadata": {},
   "outputs": [],
   "source": [
    "from torchvision import datasets"
   ]
  },
  {
   "cell_type": "code",
   "execution_count": 2,
   "id": "cbc37138-a9d0-42db-9b4f-76c253c1a0c0",
   "metadata": {},
   "outputs": [
    {
     "name": "stdout",
     "output_type": "stream",
     "text": [
      "Files already downloaded and verified\n",
      "Files already downloaded and verified\n"
     ]
    }
   ],
   "source": [
    "data_path = '../data/'\n",
    "cifar10 = datasets.CIFAR10(data_path,train=True,download=True)\n",
    "cifar10_val = datasets.CIFAR10(data_path,train=False,download=True)"
   ]
  },
  {
   "cell_type": "code",
   "execution_count": 3,
   "id": "606a5573-3634-4c40-b326-daa40eb5613d",
   "metadata": {},
   "outputs": [
    {
     "data": {
      "text/plain": [
       "Dataset CIFAR10\n",
       "    Number of datapoints: 50000\n",
       "    Root location: ../data/\n",
       "    Split: Train"
      ]
     },
     "execution_count": 3,
     "metadata": {},
     "output_type": "execute_result"
    }
   ],
   "source": [
    "cifar10"
   ]
  },
  {
   "cell_type": "code",
   "execution_count": 4,
   "id": "8d82e8ee-1675-47e6-9a78-1248bf9655f8",
   "metadata": {},
   "outputs": [
    {
     "data": {
      "text/plain": [
       "50000"
      ]
     },
     "execution_count": 4,
     "metadata": {},
     "output_type": "execute_result"
    }
   ],
   "source": [
    "# 데이터 셋에는 __getitem__메소드가 구현되어 있음\n",
    "# __len __ 구현되어 있어서 len()함수 사용\n",
    "len(cifar10)"
   ]
  },
  {
   "cell_type": "code",
   "execution_count": 5,
   "id": "e3974879-b14c-440e-96c6-87e7e4bd2864",
   "metadata": {},
   "outputs": [],
   "source": [
    "img, label = cifar10[99]"
   ]
  },
  {
   "cell_type": "code",
   "execution_count": 6,
   "id": "be208ec4-407f-4490-80f7-590e9245069c",
   "metadata": {},
   "outputs": [
    {
     "data": {
      "text/plain": [
       "(torchvision.datasets.cifar.CIFAR10,\n",
       " torchvision.datasets.vision.VisionDataset,\n",
       " torch.utils.data.dataset.Dataset,\n",
       " typing.Generic,\n",
       " object)"
      ]
     },
     "execution_count": 6,
     "metadata": {},
     "output_type": "execute_result"
    }
   ],
   "source": [
    "type(cifar10).__mro__"
   ]
  },
  {
   "cell_type": "code",
   "execution_count": 7,
   "id": "4ffcfc99-aaf3-4f3f-956b-ebcff5fdb5ee",
   "metadata": {},
   "outputs": [],
   "source": [
    "class_name = ['airplane','automobile','bird','cat','deer',\n",
    "               'dog','frog','horse','ship','truck']"
   ]
  },
  {
   "cell_type": "code",
   "execution_count": 8,
   "id": "c9bcdc5b-84ee-48ca-8dce-fe926691f615",
   "metadata": {},
   "outputs": [
    {
     "data": {
      "image/png": "[encoded data removed]",
      "text/plain": [
       "<PIL.Image.Image image mode=RGB size=32x32>"
      ]
     },
     "execution_count": 8,
     "metadata": {},
     "output_type": "execute_result"
    }
   ],
   "source": [
    "img"
   ]
  },
  {
   "cell_type": "code",
   "execution_count": 9,
   "id": "7b813592-58b8-4fe9-a14a-d72933ec38ba",
   "metadata": {},
   "outputs": [
    {
     "data": {
      "text/plain": [
       "(1, 'automobile')"
      ]
     },
     "execution_count": 9,
     "metadata": {},
     "output_type": "execute_result"
    }
   ],
   "source": [
    "label, class_name[label]"
   ]
  },
  {
   "cell_type": "code",
   "execution_count": 10,
   "id": "100c1bea-f418-4fd9-b646-03754893614a",
   "metadata": {},
   "outputs": [
    {
     "data": {
      "text/plain": [
       "['AugMix',\n",
       " 'AutoAugment',\n",
       " 'AutoAugmentPolicy',\n",
       " 'CenterCrop',\n",
       " 'ColorJitter',\n",
       " 'Compose',\n",
       " 'ConvertImageDtype',\n",
       " 'ElasticTransform',\n",
       " 'FiveCrop',\n",
       " 'GaussianBlur',\n",
       " 'Grayscale',\n",
       " 'InterpolationMode',\n",
       " 'Lambda',\n",
       " 'LinearTransformation',\n",
       " 'Normalize',\n",
       " 'PILToTensor',\n",
       " 'Pad',\n",
       " 'RandAugment',\n",
       " 'RandomAdjustSharpness',\n",
       " 'RandomAffine',\n",
       " 'RandomApply',\n",
       " 'RandomAutocontrast',\n",
       " 'RandomChoice',\n",
       " 'RandomCrop',\n",
       " 'RandomEqualize',\n",
       " 'RandomErasing',\n",
       " 'RandomGrayscale',\n",
       " 'RandomHorizontalFlip',\n",
       " 'RandomInvert',\n",
       " 'RandomOrder',\n",
       " 'RandomPerspective',\n",
       " 'RandomPosterize',\n",
       " 'RandomResizedCrop',\n",
       " 'RandomRotation',\n",
       " 'RandomSolarize',\n",
       " 'RandomVerticalFlip',\n",
       " 'Resize',\n",
       " 'TenCrop',\n",
       " 'ToPILImage',\n",
       " 'ToTensor',\n",
       " 'TrivialAugmentWide',\n",
       " '__builtins__',\n",
       " '__cached__',\n",
       " '__doc__',\n",
       " '__file__',\n",
       " '__loader__',\n",
       " '__name__',\n",
       " '__package__',\n",
       " '__path__',\n",
       " '__spec__',\n",
       " '_pil_constants',\n",
       " '_presets',\n",
       " 'autoaugment',\n",
       " 'functional',\n",
       " 'functional_pil',\n",
       " 'functional_tensor',\n",
       " 'transforms']"
      ]
     },
     "execution_count": 10,
     "metadata": {},
     "output_type": "execute_result"
    }
   ],
   "source": [
    "# 이미지를 파이토치 텐서로 변환\n",
    "from torchvision import transforms\n",
    "dir(transforms)"
   ]
  },
  {
   "cell_type": "code",
   "execution_count": 11,
   "id": "a0ff62e9-829a-4812-8824-1ae132c01d10",
   "metadata": {},
   "outputs": [],
   "source": [
    "# transforms.ToTensor  넘파이 배열, PIL이미지를 텐서로 바꾸는역활, C x H x W로 맞춰준다"
   ]
  },
  {
   "cell_type": "code",
   "execution_count": 12,
   "id": "5e59fb9c-4ed0-4a6e-95b5-650af658ae98",
   "metadata": {},
   "outputs": [
    {
     "data": {
      "text/plain": [
       "torch.Size([3, 32, 32])"
      ]
     },
     "execution_count": 12,
     "metadata": {},
     "output_type": "execute_result"
    }
   ],
   "source": [
    "to_tensor = transforms.ToTensor()\n",
    "img_t = to_tensor(img)\n",
    "img_t.shape"
   ]
  },
  {
   "cell_type": "code",
   "execution_count": 13,
   "id": "dbb43641-3353-4ecb-8f85-8cc858e022bd",
   "metadata": {},
   "outputs": [],
   "source": [
    "tensor_cifar10 = datasets.CIFAR10(data_path,train=True,download=False, transform=transforms.ToTensor())"
   ]
  },
  {
   "cell_type": "code",
   "execution_count": 14,
   "id": "1cc2a2c3-2d5d-4a96-93b9-5b4eeef5b140",
   "metadata": {},
   "outputs": [
    {
     "data": {
      "text/plain": [
       "torch.Tensor"
      ]
     },
     "execution_count": 14,
     "metadata": {},
     "output_type": "execute_result"
    }
   ],
   "source": [
    "img_t, label = tensor_cifar10[99]\n",
    "type(img_t)"
   ]
  },
  {
   "cell_type": "code",
   "execution_count": 15,
   "id": "ee9bec21-6c8a-43bc-935d-f9c8ec0d5d1d",
   "metadata": {},
   "outputs": [
    {
     "data": {
      "text/plain": [
       "(torch.Size([3, 32, 32]), torch.float32)"
      ]
     },
     "execution_count": 15,
     "metadata": {},
     "output_type": "execute_result"
    }
   ],
   "source": [
    "img_t.shape, img_t.dtype"
   ]
  },
  {
   "cell_type": "code",
   "execution_count": 16,
   "id": "f2a8cb47-c12d-481a-bad8-40f9f123392b",
   "metadata": {},
   "outputs": [
    {
     "data": {
      "text/plain": [
       "(tensor(0.), tensor(1.))"
      ]
     },
     "execution_count": 16,
     "metadata": {},
     "output_type": "execute_result"
    }
   ],
   "source": [
    "# toTensor()는 이미지를 텐서로 변경하면서 데이터를 scaled 한다.. 0.0 ~ 1.0\n",
    "img_t.min(), img_t.max()"
   ]
  },
  {
   "cell_type": "code",
   "execution_count": 17,
   "id": "9bb0dd63-e119-4c04-891c-922b1848e67c",
   "metadata": {},
   "outputs": [],
   "source": [
    "# 동일한 이미지 인지 확인한다\n",
    "import matplotlib.pylab as plt"
   ]
  },
  {
   "cell_type": "code",
   "execution_count": 18,
   "id": "a176bb1a-caaf-47b0-b704-68e3692fb98b",
   "metadata": {},
   "outputs": [],
   "source": [
    "import os\n",
    "os.environ['KMP_DUPLICATE_LIB_OK'] = 'True'\n",
    "# KMP_DUPLICATE_LIB_OK=TRUE"
   ]
  },
  {
   "cell_type": "code",
   "execution_count": 26,
   "id": "746ffde1-4c95-4f3d-836a-54e89b85cb35",
   "metadata": {},
   "outputs": [
    {
     "data": {
      "text/plain": [
       "<matplotlib.image.AxesImage at 0x228d89d0a30>"
      ]
     },
     "execution_count": 26,
     "metadata": {},
     "output_type": "execute_result"
    },
    {
     "data": {
      "image/png": "[encoded data removed]",
      "text/plain": [
       "<Figure size 640x480 with 1 Axes>"
      ]
     },
     "metadata": {},
     "output_type": "display_data"
    }
   ],
   "source": [
    "import numpy as np\n",
    "new_img =  np.array(img_t).transpose(1,2,0)\n",
    "plt.imshow(new_img)"
   ]
  },
  {
   "cell_type": "code",
   "execution_count": 28,
   "id": "a2ac2a45-df09-4fc2-946b-62e9af8bbdff",
   "metadata": {},
   "outputs": [
    {
     "data": {
      "text/plain": [
       "<matplotlib.image.AxesImage at 0x228d935c5b0>"
      ]
     },
     "execution_count": 28,
     "metadata": {},
     "output_type": "execute_result"
    },
    {
     "data": {
      "image/png": "[encoded data removed]",
      "text/plain": [
       "<Figure size 640x480 with 1 Axes>"
      ]
     },
     "metadata": {},
     "output_type": "display_data"
    }
   ],
   "source": [
    "plt.imshow(img_t.permute(1,2,0))"
   ]
  },
  {
   "cell_type": "code",
   "execution_count": 29,
   "id": "456e56bf-3b55-431f-ae45-c6391ae1ff66",
   "metadata": {},
   "outputs": [],
   "source": [
    "# 데이터 정규화\n",
    "# 변환작업을  transeforms.Compose로 여러 변환을 엮어서 사용"
   ]
  },
  {
   "cell_type": "code",
   "execution_count": 32,
   "id": "d5c0733d-4ee5-49b5-8b1d-25f1a9d82aba",
   "metadata": {},
   "outputs": [],
   "source": [
    "import torch"
   ]
  },
  {
   "cell_type": "code",
   "execution_count": 33,
   "id": "4fe82cae-2d19-4003-834f-75e769db7492",
   "metadata": {},
   "outputs": [
    {
     "data": {
      "text/plain": [
       "torch.Size([3, 32, 32, 50000])"
      ]
     },
     "execution_count": 33,
     "metadata": {},
     "output_type": "execute_result"
    }
   ],
   "source": [
    "imgs = torch.stack( [img_t for img_t, label in tensor_cifar10], dim=3)\n",
    "imgs.shape"
   ]
  },
  {
   "cell_type": "code",
   "execution_count": 36,
   "id": "22394dd2-762d-4b9d-92a4-5b04566e6b28",
   "metadata": {},
   "outputs": [
    {
     "data": {
      "text/plain": [
       "tensor([0.4914, 0.4822, 0.4465])"
      ]
     },
     "execution_count": 36,
     "metadata": {},
     "output_type": "execute_result"
    }
   ],
   "source": [
    "# 채널별로 평균\n",
    "imgs.view(3,-1).mean(dim=1)"
   ]
  },
  {
   "cell_type": "code",
   "execution_count": 37,
   "id": "c055e775-3437-4fb7-a3de-d688652d2adb",
   "metadata": {},
   "outputs": [
    {
     "data": {
      "text/plain": [
       "tensor([0.2470, 0.2435, 0.2616])"
      ]
     },
     "execution_count": 37,
     "metadata": {},
     "output_type": "execute_result"
    }
   ],
   "source": [
    "# 채널별로 표준편차\n",
    "imgs.view(3,-1).std(dim=1)"
   ]
  },
  {
   "cell_type": "code",
   "execution_count": 38,
   "id": "c0781261-92a3-4b2a-9981-6686f336ffef",
   "metadata": {},
   "outputs": [],
   "source": [
    "# 정규화   = (요소 - 평균) / 표준편차"
   ]
  },
  {
   "cell_type": "code",
   "execution_count": 39,
   "id": "5dbf496f-70c2-4881-a750-792327596c21",
   "metadata": {},
   "outputs": [
    {
     "data": {
      "text/plain": [
       "Normalize(mean=(0.4914, 0.4822, 0.4465), std=(0.247, 0.2435, 0.2616))"
      ]
     },
     "execution_count": 39,
     "metadata": {},
     "output_type": "execute_result"
    }
   ],
   "source": [
    "transforms.Normalize((0.4914, 0.4822, 0.4465),(0.2470, 0.2435, 0.2616))"
   ]
  },
  {
   "cell_type": "code",
   "execution_count": 70,
   "id": "b821cd17-52fc-4af7-a6e4-ad09e6efb5f5",
   "metadata": {},
   "outputs": [],
   "source": [
    "# 이미지 데이터를 토치로 변경, 정규화\n",
    "transformed_cifar10 = datasets.CIFAR10(data_path,train=True,download=False\n",
    "                                       , transform=transforms.Compose([\n",
    "                                           transforms.ToTensor(),\n",
    "                                           transforms.Normalize((0.4914, 0.4822, 0.4465),(0.2470, 0.2435, 0.2616))\n",
    "                                       ])                                       \n",
    "                                      )\n",
    "transformed_cifar10_val = datasets.CIFAR10(data_path,train=False,download=False\n",
    "                                       , transform=transforms.Compose([\n",
    "                                           transforms.ToTensor(),\n",
    "                                           transforms.Normalize((0.4914, 0.4822, 0.4465),(0.2470, 0.2435, 0.2616))\n",
    "                                       ])                                       \n",
    "                                      )"
   ]
  },
  {
   "cell_type": "code",
   "execution_count": 42,
   "id": "d3b0d2a6-ac48-4b72-ab5d-d811ecabe440",
   "metadata": {},
   "outputs": [
    {
     "name": "stderr",
     "output_type": "stream",
     "text": [
      "Clipping input data to the valid range for imshow with RGB data ([0..1] for floats or [0..255] for integers).\n"
     ]
    },
    {
     "data": {
      "text/plain": [
       "<matplotlib.image.AxesImage at 0x228d96f0670>"
      ]
     },
     "execution_count": 42,
     "metadata": {},
     "output_type": "execute_result"
    },
    {
     "data": {
      "image/png": "[encoded data removed]",
      "text/plain": [
       "<Figure size 640x480 with 1 Axes>"
      ]
     },
     "metadata": {},
     "output_type": "display_data"
    }
   ],
   "source": [
    "img_t, label =  transformed_cifar10[99]\n",
    "plt.imshow(img_t.permute(1,2,0))"
   ]
  },
  {
   "cell_type": "code",
   "execution_count": 43,
   "id": "86854ad0-af03-4cd0-821d-37b383d74934",
   "metadata": {},
   "outputs": [],
   "source": [
    "# 새와 비행기를 구분하기"
   ]
  },
  {
   "cell_type": "code",
   "execution_count": 71,
   "id": "7dddae9c-82c6-4db8-9289-80ee00b00daf",
   "metadata": {},
   "outputs": [],
   "source": [
    "label_map = {0:0, 2:1}\n",
    "class_name = ['airplane','bird']\n",
    "cifar2 = [(img,label_map[label]) for img,label in transformed_cifar10 if label in [0,2]]\n",
    "cifar2_val = [(img,label_map[label]) for img,label in transformed_cifar10_val if label in [0,2]]"
   ]
  },
  {
   "cell_type": "code",
   "execution_count": 72,
   "id": "7f1c36b3-f0c5-49c7-81a0-e3ce28c2618e",
   "metadata": {},
   "outputs": [
    {
     "data": {
      "text/plain": [
       "tensor([[[ 0.4556,  0.4556,  0.4873,  ...,  0.0904,  0.1063,  0.2174],\n",
       "         [ 0.5191,  0.4714,  0.4873,  ..., -0.0366, -0.0366,  0.0904],\n",
       "         [ 0.6620,  0.5984,  0.5984,  ...,  0.0745,  0.0904,  0.2015],\n",
       "         ...,\n",
       "         [-0.4653, -0.5447, -0.5764,  ..., -0.5447, -0.6082, -0.5606],\n",
       "         [-0.4335, -0.5288, -0.5129,  ..., -0.6082, -0.5447, -0.5129],\n",
       "         [-0.4653, -0.5288, -0.5129,  ..., -0.6558, -0.6399, -0.4971]],\n",
       "\n",
       "        [[ 1.2085,  1.1924,  1.2246,  ...,  1.0797,  1.0958,  1.1602],\n",
       "         [ 1.2246,  1.1602,  1.1763,  ...,  0.9830,  0.9991,  1.0797],\n",
       "         [ 1.3534,  1.2729,  1.2729,  ...,  1.0152,  1.0475,  1.1119],\n",
       "         ...,\n",
       "         [-0.7563, -0.8368, -0.8690,  ..., -0.8368, -0.9013, -0.8529],\n",
       "         [-0.7080, -0.8207, -0.7885,  ..., -0.9013, -0.8368, -0.8046],\n",
       "         [-0.7402, -0.8046, -0.7885,  ..., -0.9496, -0.9174, -0.7885]],\n",
       "\n",
       "        [[ 1.3963,  1.3813,  1.4263,  ...,  1.3963,  1.4113,  1.5012],\n",
       "         [ 1.3813,  1.3213,  1.3363,  ...,  1.3513,  1.3663,  1.4712],\n",
       "         [ 1.4562,  1.3813,  1.3813,  ...,  1.3213,  1.3513,  1.4263],\n",
       "         ...,\n",
       "         [-0.7324, -0.8074, -0.8373,  ..., -0.8074, -0.8673, -0.8224],\n",
       "         [-0.7174, -0.8074, -0.7924,  ..., -0.8523, -0.8074, -0.7774],\n",
       "         [-0.7774, -0.8224, -0.8074,  ..., -0.8823, -0.8973, -0.7624]]])"
      ]
     },
     "execution_count": 72,
     "metadata": {},
     "output_type": "execute_result"
    }
   ],
   "source": [
    "img,label =  cifar2[99]\n",
    "img"
   ]
  },
  {
   "cell_type": "code",
   "execution_count": 48,
   "id": "4286d388-0aa1-4675-8a3e-a9b5d41bfcee",
   "metadata": {},
   "outputs": [
    {
     "data": {
      "text/plain": [
       "0"
      ]
     },
     "execution_count": 48,
     "metadata": {},
     "output_type": "execute_result"
    }
   ],
   "source": [
    "label"
   ]
  },
  {
   "attachments": {
    "752012c3-bb6b-4680-aede-e38bd16cd45a.png": {
     "image/png": "[encoded data removed]"
    }
   },
   "cell_type": "markdown",
   "id": "06b6bb6b-ae96-454b-85d8-d12fac7570bb",
   "metadata": {},
   "source": [
    "![image.png](attachment:752012c3-bb6b-4680-aede-e38bd16cd45a.png)"
   ]
  },
  {
   "cell_type": "code",
   "execution_count": 73,
   "id": "a755103c-e6ed-4c6b-bfa2-6818e9fe76c6",
   "metadata": {},
   "outputs": [],
   "source": [
    "import torch.nn as nn\n",
    "n_out = 2\n",
    "model = nn.Sequential(\n",
    "    nn.Linear(3*32*32,512),\n",
    "    nn.Sigmoid(),\n",
    "    nn.Linear(512,n_out)\n",
    ")"
   ]
  },
  {
   "cell_type": "code",
   "execution_count": 74,
   "id": "12b0d828-d979-4429-9fff-5f82e7db7b0a",
   "metadata": {},
   "outputs": [],
   "source": [
    "def softmax(x):\n",
    "    return torch.exp(x) / torch.exp(x).sum()"
   ]
  },
  {
   "cell_type": "code",
   "execution_count": 75,
   "id": "2ecf695c-7e32-4ca0-8f1a-f939a3410d1c",
   "metadata": {},
   "outputs": [
    {
     "data": {
      "text/plain": [
       "tensor([0.0900, 0.2447, 0.6652])"
      ]
     },
     "execution_count": 75,
     "metadata": {},
     "output_type": "execute_result"
    }
   ],
   "source": [
    "x = torch.tensor([1.0,2.0,3.0])\n",
    "sx = softmax(x)\n",
    "sx"
   ]
  },
  {
   "cell_type": "code",
   "execution_count": 76,
   "id": "a61d7a7b-dd03-4c1b-a0d9-0c9b67a72421",
   "metadata": {},
   "outputs": [
    {
     "data": {
      "text/plain": [
       "tensor(1.)"
      ]
     },
     "execution_count": 76,
     "metadata": {},
     "output_type": "execute_result"
    }
   ],
   "source": [
    "sx.sum()"
   ]
  },
  {
   "cell_type": "code",
   "execution_count": 77,
   "id": "e24f0b44-308e-46d7-96b9-16754d060b32",
   "metadata": {},
   "outputs": [
    {
     "data": {
      "text/plain": [
       "torch.Size([2, 3])"
      ]
     },
     "execution_count": 77,
     "metadata": {},
     "output_type": "execute_result"
    }
   ],
   "source": [
    "softmax = nn.Softmax(dim=1)\n",
    "x = torch.tensor([\n",
    "    [1.0,2.0,3.0],\n",
    "    [1.0,2.0,3.0]\n",
    "])\n",
    "x.shape"
   ]
  },
  {
   "cell_type": "code",
   "execution_count": 78,
   "id": "591a678c-8089-4ab5-bd6d-9b8910ff4723",
   "metadata": {},
   "outputs": [
    {
     "data": {
      "text/plain": [
       "(tensor([[0.0900, 0.2447, 0.6652],\n",
       "         [0.0900, 0.2447, 0.6652]]),\n",
       " tensor(2.0000))"
      ]
     },
     "execution_count": 78,
     "metadata": {},
     "output_type": "execute_result"
    }
   ],
   "source": [
    "softmax(x), softmax(x).sum()"
   ]
  },
  {
   "cell_type": "code",
   "execution_count": 79,
   "id": "a545b878-614e-48d8-af14-fb89c75ba4bb",
   "metadata": {},
   "outputs": [],
   "source": [
    "model = nn.Sequential(\n",
    "    nn.Linear(3*32*32,512),\n",
    "    nn.Sigmoid(),\n",
    "    nn.Linear(512,n_out),\n",
    "    nn.Softmax(dim=1)\n",
    ")"
   ]
  },
  {
   "cell_type": "code",
   "execution_count": 81,
   "id": "a7d49eeb-f87f-4f1b-8627-0bd24cedf001",
   "metadata": {},
   "outputs": [
    {
     "name": "stderr",
     "output_type": "stream",
     "text": [
      "Clipping input data to the valid range for imshow with RGB data ([0..1] for floats or [0..255] for integers).\n"
     ]
    },
    {
     "data": {
      "text/plain": [
       "<matplotlib.image.AxesImage at 0x228e600aca0>"
      ]
     },
     "execution_count": 81,
     "metadata": {},
     "output_type": "execute_result"
    },
    {
     "data": {
      "image/png": "[encoded data removed]",
      "text/plain": [
       "<Figure size 640x480 with 1 Axes>"
      ]
     },
     "metadata": {},
     "output_type": "display_data"
    }
   ],
   "source": [
    "img,label = cifar2[0]\n",
    "plt.imshow(img.permute(1,2,0))"
   ]
  },
  {
   "cell_type": "code",
   "execution_count": 82,
   "id": "f00aa5b1-8286-4188-bc2e-3ef55027f75d",
   "metadata": {},
   "outputs": [
    {
     "data": {
      "text/plain": [
       "torch.Size([3, 32, 32])"
      ]
     },
     "execution_count": 82,
     "metadata": {},
     "output_type": "execute_result"
    }
   ],
   "source": [
    "img.shape"
   ]
  },
  {
   "cell_type": "code",
   "execution_count": 85,
   "id": "769c726f-3a6c-469a-811d-def78d5f4415",
   "metadata": {},
   "outputs": [
    {
     "data": {
      "text/plain": [
       "torch.Size([1, 3072])"
      ]
     },
     "execution_count": 85,
     "metadata": {},
     "output_type": "execute_result"
    }
   ],
   "source": [
    "img.view(-1).unsqueeze(0).shape"
   ]
  },
  {
   "cell_type": "code",
   "execution_count": 86,
   "id": "9e51c820-81b3-4e51-9a55-8c4e7db15a21",
   "metadata": {},
   "outputs": [],
   "source": [
    "img_batch = img.view(-1).unsqueeze(0)"
   ]
  },
  {
   "cell_type": "code",
   "execution_count": 87,
   "id": "5e940452-629d-4e6e-a16e-bf5dd0e1164b",
   "metadata": {},
   "outputs": [
    {
     "data": {
      "text/plain": [
       "tensor([[0.5766, 0.4234]], grad_fn=<SoftmaxBackward0>)"
      ]
     },
     "execution_count": 87,
     "metadata": {},
     "output_type": "execute_result"
    }
   ],
   "source": [
    "out = model(img_batch)\n",
    "out"
   ]
  },
  {
   "cell_type": "code",
   "execution_count": 92,
   "id": "4d07be6f-d4c1-41a2-95bf-67ee71e6c675",
   "metadata": {},
   "outputs": [
    {
     "data": {
      "text/plain": [
       "0"
      ]
     },
     "execution_count": 92,
     "metadata": {},
     "output_type": "execute_result"
    }
   ],
   "source": [
    "_,index = torch.max(out,dim=1)\n",
    "index.item()"
   ]
  },
  {
   "cell_type": "code",
   "execution_count": 93,
   "id": "e59cbf6a-f4b2-41b9-88e1-31d3e111cf62",
   "metadata": {},
   "outputs": [],
   "source": [
    "model = nn.Sequential(\n",
    "    nn.Linear(3*32*32,512),\n",
    "    nn.Sigmoid(),\n",
    "    nn.Linear(512,n_out),\n",
    "    nn.LogSoftmax(dim=1)\n",
    ")"
   ]
  },
  {
   "cell_type": "code",
   "execution_count": 94,
   "id": "e6d77f8a-0914-4538-b167-f685c1bfcf4e",
   "metadata": {},
   "outputs": [],
   "source": [
    "# 분류기 훈련"
   ]
  },
  {
   "cell_type": "code",
   "execution_count": 97,
   "id": "1ea4659c-bc56-4453-ac7f-984608dabfa9",
   "metadata": {},
   "outputs": [],
   "source": [
    "import torch\n",
    "import torch.nn as nn\n",
    "model = nn.Sequential(\n",
    "    nn.Linear(3*32*32,512),\n",
    "    nn.LeakyReLU(),\n",
    "    nn.Linear(512,2),\n",
    "    nn.LogSoftmax(dim=1)\n",
    ")\n",
    "learning_rate = 1e-2\n",
    "optimizer = torch.optim.SGD(model.parameters(), lr = learning_rate)\n",
    "loss_fn = nn.NLLLoss()\n",
    "n_epochs = 100\n",
    "for epoch in range(n_epochs):\n",
    "    for img,label in cifar2:  # 전체데이터를 한꺼번에 학습하는 구조라서 시간이 꽤 걸림.. (실행하지 않음)\n",
    "        out = model(img.view(-1).unsqueeze(0))\n",
    "        loss = loss_fn(out, torch.tensor([label]))\n",
    "        optimizer.zero_grad()\n",
    "        loss.backward()\n",
    "        optimizer.step()\n",
    "    print(f\"epoch:{epoch} loss : {float(loss)}\")\n"
   ]
  },
  {
   "cell_type": "code",
   "execution_count": 99,
   "id": "5a914ef3-c022-4762-b669-f74af3a3cb66",
   "metadata": {},
   "outputs": [],
   "source": [
    "# 내부루프안에서 한번에 하나의 샘플을 평가하고 단일 샘플에 대해 역전파"
   ]
  },
  {
   "cell_type": "code",
   "execution_count": 100,
   "id": "e6732f28-672c-45e6-acd4-855dc6dfac2d",
   "metadata": {},
   "outputs": [],
   "source": [
    "import torch\n",
    "import torch.nn as nn\n",
    "train_loader = torch.utils.data.DataLoader(cifar2,batch_size=64,shuffle=True)"
   ]
  },
  {
   "cell_type": "code",
   "execution_count": 102,
   "id": "4e6aed2a-470d-460a-ba79-73acfd5910a2",
   "metadata": {},
   "outputs": [
    {
     "data": {
      "text/plain": [
       "(157, 10000)"
      ]
     },
     "execution_count": 102,
     "metadata": {},
     "output_type": "execute_result"
    }
   ],
   "source": [
    "len(train_loader), len(cifar2)"
   ]
  },
  {
   "cell_type": "code",
   "execution_count": 105,
   "id": "2ca1c2e0-2323-4e58-a108-2b672a050dc1",
   "metadata": {},
   "outputs": [
    {
     "name": "stdout",
     "output_type": "stream",
     "text": [
      "2\n"
     ]
    }
   ],
   "source": [
    "for idx, data in enumerate(train_loader):\n",
    "    if idx == 156:\n",
    "        print(len(data))\n",
    "    "
   ]
  },
  {
   "cell_type": "code",
   "execution_count": null,
   "id": "503b2628-f419-4c0a-83b7-0801f632f640",
   "metadata": {},
   "outputs": [],
   "source": []
  }
 ],
 "metadata": {
  "kernelspec": {
   "display_name": "Python 3 (ipykernel)",
   "language": "python",
   "name": "python3"
  },
  "language_info": {
   "codemirror_mode": {
    "name": "ipython",
    "version": 3
   },
   "file_extension": ".py",
   "mimetype": "text/x-python",
   "name": "python",
   "nbconvert_exporter": "python",
   "pygments_lexer": "ipython3",
   "version": "3.9.12"
  }
 },
 "nbformat": 4,
 "nbformat_minor": 5
}
