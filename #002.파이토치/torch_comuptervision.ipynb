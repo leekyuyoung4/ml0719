{
 "cells": [
  {
   "cell_type": "code",
   "execution_count": 1,
   "id": "7abaab8b-d8d6-4b50-b505-fbc367b14c6c",
   "metadata": {},
   "outputs": [
    {
     "name": "stderr",
     "output_type": "stream",
     "text": [
      "C:\\Users\\user\\miniconda3\\envs\\ml\\lib\\site-packages\\requests\\__init__.py:78: RequestsDependencyWarning: urllib3 (1.26.12) or chardet (3.0.4) doesn't match a supported version!\n",
      "  warnings.warn(\"urllib3 ({0}) or chardet ({1}) doesn't match a supported \"\n"
     ]
    }
   ],
   "source": [
    "import numpy as np\n",
    "import matplotlib.pyplot as plt\n",
    "import torch\n",
    "import torch.nn as nn\n",
    "import torch.nn.functional as F\n",
    "from torchvision import transforms, datasets"
   ]
  },
  {
   "cell_type": "code",
   "execution_count": 2,
   "id": "abfd043d-c261-4548-ae99-6058004f8ea4",
   "metadata": {},
   "outputs": [],
   "source": [
    "DEVICE = 'cpu'"
   ]
  },
  {
   "cell_type": "code",
   "execution_count": 3,
   "id": "0eee7606-a5d4-4da8-b745-3836cc0d5dda",
   "metadata": {},
   "outputs": [],
   "source": [
    "BATCH_SIZE = 32\n",
    "EPOCHS = 10"
   ]
  },
  {
   "cell_type": "code",
   "execution_count": 4,
   "id": "fede1f92-088b-48e1-96c9-d7b4ff6ae0da",
   "metadata": {},
   "outputs": [
    {
     "name": "stdout",
     "output_type": "stream",
     "text": [
      "Files already downloaded and verified\n"
     ]
    }
   ],
   "source": [
    "train_dataset = datasets.CIFAR10(root = \"../data/CIFAR10\",\n",
    "                                      train = True,\n",
    "                                      download = True,\n",
    "                                      transform = transforms.ToTensor())\n",
    "\n",
    "test_dataset = datasets.CIFAR10(root = \"../data/CIFAR10\",\n",
    "                                     train = False,\n",
    "                                     transform = transforms.ToTensor())\n",
    "\n",
    "train_loader = torch.utils.data.DataLoader(dataset = train_dataset,\n",
    "                                           batch_size = BATCH_SIZE,\n",
    "                                           shuffle = True)\n",
    "\n",
    "test_loader = torch.utils.data.DataLoader(dataset = test_dataset,\n",
    "                                          batch_size = BATCH_SIZE,\n",
    "                                          shuffle = False)"
   ]
  },
  {
   "cell_type": "code",
   "execution_count": null,
   "id": "25381d0f-1660-4666-bfd9-17c49ee84669",
   "metadata": {},
   "outputs": [],
   "source": [
    "train,target =  train_dataset[0]\n",
    "print(train.shape,  target)\n",
    "np.transpose(train,(1,2,0)).shape"
   ]
  },
  {
   "cell_type": "code",
   "execution_count": null,
   "id": "7175aac1-0620-4217-bbbc-bd351cf32267",
   "metadata": {},
   "outputs": [],
   "source": [
    "import os\n",
    "os.environ['KMP_DUPLICATE_LIB_OK']='TRUE'\n",
    "# train 데이터를 10개만 가져오자\n",
    "for cnt, (x,y) in enumerate(train_dataset):\n",
    "    if cnt >= 10: break \n",
    "    plt.subplot(1,10,cnt+1)\n",
    "    plt.axis('off')\n",
    "    # TypeError: Invalid shape (3, 32, 32) for image data\n",
    "    plt.imshow(np.transpose(x, (1,2,0)))    \n",
    "    plt.title(y)\n",
    "\n",
    "\n"
   ]
  },
  {
   "cell_type": "code",
   "execution_count": null,
   "id": "20d44a1b-c774-42d4-9b11-87ee9c09f7f3",
   "metadata": {},
   "outputs": [],
   "source": [
    "# 분류 10 설계  MLP\n",
    "class Net(nn.Module):\n",
    "    def __init__(self):\n",
    "        super().__init__()\n",
    "        self.fc1 = nn.Linear(32*32*3,512)\n",
    "        self.fc2 = nn.Linear(512,256)\n",
    "        self.fc3 = nn.Linear(256,10)\n",
    "    def forward(self,x):\n",
    "        x = x.view(-1,32*32*3)\n",
    "        x = self.fc1(x)\n",
    "        x = F.relu(x)\n",
    "        x = self.fc2(x)\n",
    "        x = F.relu(x)\n",
    "        x = self.fc3(x)\n",
    "        x = F.log_softmax(x, dim = 1)\n",
    "        return x      \n"
   ]
  },
  {
   "cell_type": "code",
   "execution_count": null,
   "id": "5d70b887-a88d-43f4-9c11-f110ae80bde2",
   "metadata": {},
   "outputs": [],
   "source": [
    "model = Net().to(DEVICE)\n",
    "optimizer = torch.optim.Adam(model.parameters(), lr = 1e-3)\n",
    "criterion = nn.CrossEntropyLoss()\n",
    "print(model)"
   ]
  },
  {
   "cell_type": "code",
   "execution_count": 5,
   "id": "3aa11a23-d6c0-4194-8270-ccd238e04547",
   "metadata": {},
   "outputs": [],
   "source": [
    "# model.train()  전체 레이어를 사용 : 전체 layer의 전원을 켠다\n",
    "# model.eval() evaluation, 사용하지 않는 layer들의 전원을 끈다\n",
    "from tqdm import tqdm # 진행상황을 progress bar로 표시\n",
    "def train(model, train_loader,optimizer):\n",
    "    model.train()\n",
    "    for image, label in tqdm(train_loader):  # 배치단위로 출력\n",
    "        image = image.to(DEVICE)\n",
    "        label = label.to(DEVICE)\n",
    "        optimizer.zero_grad()\n",
    "        output = model(image)        \n",
    "        loss = criterion(output, label)\n",
    "        loss.backward()\n",
    "        optimizer.step()"
   ]
  },
  {
   "cell_type": "code",
   "execution_count": 6,
   "id": "7f29d0d7-51c0-4c17-9beb-a64abe23215c",
   "metadata": {},
   "outputs": [],
   "source": [
    "def evaluate(model, test_loader):\n",
    "    model.eval()\n",
    "    test_loss = 0\n",
    "    correct = 0\n",
    "    with torch.no_grad():\n",
    "        for image, label in test_loader:\n",
    "            image = image.to(DEVICE)\n",
    "            label = label.to(DEVICE)\n",
    "            output = model(image)\n",
    "            test_loss += criterion(output, label).item()\n",
    "            prediction = output.max(1,keepdim = True)[1]\n",
    "            correct += prediction.eq(label.view_as(prediction)).sum().item()\n",
    "    test_loss /= len(test_loader.dataset)\n",
    "    test_accuracy = 100.*correct / len(test_loader.dataset)\n",
    "    return test_loss, test_accuracy"
   ]
  },
  {
   "cell_type": "code",
   "execution_count": null,
   "id": "55747c80-0583-4d0d-a5c0-9f9978e0ad1c",
   "metadata": {
    "tags": []
   },
   "outputs": [],
   "source": [
    "for epoch in range(1, EPOCHS+1):\n",
    "    train(model,train_loader,optimizer)\n",
    "    test_loss, test_accuracy = evaluate(model, test_loader)\n",
    "    print(f\"epoch : {epoch}  loss : {test_loss}, accuracy : {test_accuracy}\")"
   ]
  },
  {
   "cell_type": "code",
   "execution_count": 7,
   "id": "b3ce781f-9ba6-418f-8600-d9202c21f3f0",
   "metadata": {},
   "outputs": [],
   "source": [
    "# CNN 모델 설계\n",
    "class CNN(nn.Module):\n",
    "    def __init__(self):\n",
    "        super().__init__()\n",
    "        self.conv1 = nn.Conv2d(\n",
    "            in_channels = 3, out_channels = 8,\n",
    "            kernel_size = 3,\n",
    "            padding = 1\n",
    "        )\n",
    "        self.conv2 = nn.Conv2d(\n",
    "            in_channels = 8, out_channels = 16,\n",
    "            kernel_size = 3,\n",
    "            padding = 1\n",
    "        )\n",
    "        self.pool = nn.MaxPool2d(\n",
    "            kernel_size =2, stride = 2\n",
    "        )\n",
    "\n",
    "        self.fc1 = nn.Linear(8 * 8 * 16, 64)\n",
    "        self.fc2 = nn.Linear(64, 32)\n",
    "        self.fc3 = nn.Linear(32, 10)\n",
    "  \n",
    "    def forward(self, x):\n",
    "        # x = (32, 32, 3)        \n",
    "        x = self.conv1(x) # x = (32, 32, 3) ## len(x) - kernel_size + 1        \n",
    "        x = F.relu(x)\n",
    "        x = self.pool(x) # x = (16, 16, 3)        \n",
    "        x = self.conv2(x) # x = (16, 16, 3)         \n",
    "        x = F.relu(x)\n",
    "        x = self.pool(x) # x = (8, 8, 3)        \n",
    "\n",
    "        x = x.view(-1, 8* 8 * 16)\n",
    "        x = self.fc1(x)\n",
    "        x = F.relu(x)\n",
    "        x = self.fc2(x)\n",
    "        x = F.relu(x)\n",
    "        x = self.fc3(x)\n",
    "        x = F.softmax(x,dim=1)\n",
    "\n",
    "        return x\n",
    "        \n",
    "        "
   ]
  },
  {
   "cell_type": "code",
   "execution_count": 9,
   "id": "1ae2b6a8-8ec4-493f-ab1c-18e05ba0780c",
   "metadata": {},
   "outputs": [
    {
     "name": "stderr",
     "output_type": "stream",
     "text": [
      "100%|███████████████████████████████████████████████████████████████| 1563/1563 [00:26<00:00, 59.98it/s]\n"
     ]
    },
    {
     "name": "stdout",
     "output_type": "stream",
     "text": [
      "epoch : 1  loss : 0.06532504324913024, accuracy : 36.58\n"
     ]
    },
    {
     "name": "stderr",
     "output_type": "stream",
     "text": [
      "100%|███████████████████████████████████████████████████████████████| 1563/1563 [00:26<00:00, 57.92it/s]\n"
     ]
    },
    {
     "name": "stdout",
     "output_type": "stream",
     "text": [
      "epoch : 2  loss : 0.0637384945988655, accuracy : 42.23\n"
     ]
    },
    {
     "name": "stderr",
     "output_type": "stream",
     "text": [
      "100%|███████████████████████████████████████████████████████████████| 1563/1563 [00:27<00:00, 57.62it/s]\n"
     ]
    },
    {
     "name": "stdout",
     "output_type": "stream",
     "text": [
      "epoch : 3  loss : 0.06332648178339005, accuracy : 43.27\n"
     ]
    },
    {
     "name": "stderr",
     "output_type": "stream",
     "text": [
      "100%|███████████████████████████████████████████████████████████████| 1563/1563 [00:27<00:00, 57.46it/s]\n"
     ]
    },
    {
     "name": "stdout",
     "output_type": "stream",
     "text": [
      "epoch : 4  loss : 0.0619778923034668, accuracy : 47.82\n"
     ]
    },
    {
     "name": "stderr",
     "output_type": "stream",
     "text": [
      "100%|███████████████████████████████████████████████████████████████| 1563/1563 [00:30<00:00, 51.91it/s]\n"
     ]
    },
    {
     "name": "stdout",
     "output_type": "stream",
     "text": [
      "epoch : 5  loss : 0.06147929986715317, accuracy : 49.56\n"
     ]
    },
    {
     "name": "stderr",
     "output_type": "stream",
     "text": [
      "100%|███████████████████████████████████████████████████████████████| 1563/1563 [00:30<00:00, 51.12it/s]\n"
     ]
    },
    {
     "name": "stdout",
     "output_type": "stream",
     "text": [
      "epoch : 6  loss : 0.06098788685798645, accuracy : 51.12\n"
     ]
    },
    {
     "name": "stderr",
     "output_type": "stream",
     "text": [
      "100%|███████████████████████████████████████████████████████████████| 1563/1563 [00:30<00:00, 51.90it/s]\n"
     ]
    },
    {
     "name": "stdout",
     "output_type": "stream",
     "text": [
      "epoch : 7  loss : 0.06046890217065811, accuracy : 52.7\n"
     ]
    },
    {
     "name": "stderr",
     "output_type": "stream",
     "text": [
      "100%|███████████████████████████████████████████████████████████████| 1563/1563 [00:32<00:00, 47.74it/s]\n"
     ]
    },
    {
     "name": "stdout",
     "output_type": "stream",
     "text": [
      "epoch : 8  loss : 0.06089850665330887, accuracy : 51.31\n"
     ]
    },
    {
     "name": "stderr",
     "output_type": "stream",
     "text": [
      "100%|███████████████████████████████████████████████████████████████| 1563/1563 [00:31<00:00, 49.99it/s]\n"
     ]
    },
    {
     "name": "stdout",
     "output_type": "stream",
     "text": [
      "epoch : 9  loss : 0.06015770288705826, accuracy : 53.81\n"
     ]
    },
    {
     "name": "stderr",
     "output_type": "stream",
     "text": [
      "100%|███████████████████████████████████████████████████████████████| 1563/1563 [00:28<00:00, 55.77it/s]\n"
     ]
    },
    {
     "name": "stdout",
     "output_type": "stream",
     "text": [
      "epoch : 10  loss : 0.05946773216724396, accuracy : 55.71\n"
     ]
    }
   ],
   "source": [
    "cnnModel = CNN().to(DEVICE)\n",
    "optimizer = torch.optim.Adam(cnnModel.parameters(), lr = 1e-3)\n",
    "criterion = nn.CrossEntropyLoss()\n",
    "for epoch in range(1, EPOCHS+1):\n",
    "    train(cnnModel,train_loader,optimizer)\n",
    "    test_loss, test_accuracy = evaluate(cnnModel, test_loader)\n",
    "    print(f\"epoch : {epoch}  loss : {test_loss}, accuracy : {test_accuracy}\")    "
   ]
  },
  {
   "cell_type": "code",
   "execution_count": 17,
   "id": "9c5b925a-529c-4e23-9e61-54bff06dc764",
   "metadata": {},
   "outputs": [],
   "source": [
    "# Data 변형해서 데이터 증폭"
   ]
  },
  {
   "cell_type": "code",
   "execution_count": 18,
   "id": "0cc61a99-8c18-4b77-8d30-6bd359ad5850",
   "metadata": {},
   "outputs": [
    {
     "name": "stdout",
     "output_type": "stream",
     "text": [
      "Downloading https://www.cs.toronto.edu/~kriz/cifar-10-python.tar.gz to ../data/CIFAR10\\cifar-10-python.tar.gz\n"
     ]
    },
    {
     "data": {
      "application/vnd.jupyter.widget-view+json": {
       "model_id": "20ad343b8e4244c0ba71744147add789",
       "version_major": 2,
       "version_minor": 0
      },
      "text/plain": [
       "  0%|          | 0/170498071 [00:00<?, ?it/s]"
      ]
     },
     "metadata": {},
     "output_type": "display_data"
    },
    {
     "name": "stdout",
     "output_type": "stream",
     "text": [
      "Extracting ../data/CIFAR10\\cifar-10-python.tar.gz to ../data/CIFAR10\n"
     ]
    }
   ],
   "source": [
    "train_dataset = datasets.CIFAR10(root = \"../data/CIFAR10\",\n",
    "                                      train = True,\n",
    "                                      download = True,\n",
    "                                      transform = transforms.Compose([\n",
    "                                          transforms.RandomHorizontalFlip(), # 좌우반전(50%확률)\n",
    "                                          transforms.ToTensor(),  # 정규화(0~1) 및 텐서\n",
    "                                          transforms.Normalize((0.5,0.5,0.5),(0.5,0.5,0.5)) # 데이터 정규화\n",
    "                                      ])\n",
    "                                )\n",
    "\n",
    "test_dataset = datasets.CIFAR10(root = \"../data/CIFAR10\",\n",
    "                                     train = False,\n",
    "                                     transform = transforms.Compose([\n",
    "                                          transforms.RandomHorizontalFlip(), # 좌우반전(50%확률)\n",
    "                                          transforms.ToTensor(),  # 정규화(0~1) 및 텐서\n",
    "                                          transforms.Normalize((0.5,0.5,0.5),(0.5,0.5,0.5)) # 데이터 정규화\n",
    "                                      ])\n",
    "                               )\n",
    "\n",
    "train_loader = torch.utils.data.DataLoader(dataset = train_dataset,\n",
    "                                           batch_size = BATCH_SIZE,\n",
    "                                           shuffle = True)\n",
    "\n",
    "test_loader = torch.utils.data.DataLoader(dataset = test_dataset,\n",
    "                                          batch_size = BATCH_SIZE,\n",
    "                                          shuffle = False)"
   ]
  },
  {
   "cell_type": "code",
   "execution_count": 58,
   "id": "90317f7d-0783-4673-aeab-36a265fa1aaf",
   "metadata": {},
   "outputs": [
    {
     "data": {
      "image/png": "[encoded data removed]",
      "text/plain": [
       "<Figure size 1000x1000 with 10 Axes>"
      ]
     },
     "metadata": {},
     "output_type": "display_data"
    }
   ],
   "source": [
    "import os\n",
    "os.environ['KMP_DUPLICATE_LIB_OK']='TRUE'\n",
    "\n",
    "temp = np.array(train_dataset.targets)\n",
    "np.where(temp==1)\n",
    "temp2 = train_dataset.data[np.where(temp==1)]\n",
    "# class 1인 이미지\n",
    "plt.figure(figsize=(10,10))\n",
    "for cnt, x in enumerate(temp2):    \n",
    "    if cnt >= 10: break \n",
    "    plt.subplot(1,10,cnt+1)\n",
    "    plt.axis('off')    \n",
    "    plt.imshow(x)      "
   ]
  },
  {
   "cell_type": "code",
   "execution_count": 59,
   "id": "a67e0767-36f1-4750-bbcb-ddaae186b520",
   "metadata": {},
   "outputs": [],
   "source": [
    "# 증폭된 데이터 이미지로 학습하기"
   ]
  },
  {
   "cell_type": "code",
   "execution_count": 60,
   "id": "31594bae-2208-4aed-a6be-ff51612e3302",
   "metadata": {},
   "outputs": [
    {
     "name": "stderr",
     "output_type": "stream",
     "text": [
      "100%|███████████████████████████████████████████████████████████████| 1563/1563 [00:32<00:00, 48.57it/s]\n"
     ]
    },
    {
     "name": "stdout",
     "output_type": "stream",
     "text": [
      "epoch : 1  loss : 0.06333858617544175, accuracy : 43.46\n"
     ]
    },
    {
     "name": "stderr",
     "output_type": "stream",
     "text": [
      "100%|███████████████████████████████████████████████████████████████| 1563/1563 [00:33<00:00, 46.96it/s]\n"
     ]
    },
    {
     "name": "stdout",
     "output_type": "stream",
     "text": [
      "epoch : 2  loss : 0.061841877460479734, accuracy : 48.33\n"
     ]
    },
    {
     "name": "stderr",
     "output_type": "stream",
     "text": [
      "100%|███████████████████████████████████████████████████████████████| 1563/1563 [00:34<00:00, 44.83it/s]\n"
     ]
    },
    {
     "name": "stdout",
     "output_type": "stream",
     "text": [
      "epoch : 3  loss : 0.06158387483358383, accuracy : 48.95\n"
     ]
    },
    {
     "name": "stderr",
     "output_type": "stream",
     "text": [
      "100%|███████████████████████████████████████████████████████████████| 1563/1563 [00:33<00:00, 46.72it/s]\n"
     ]
    },
    {
     "name": "stdout",
     "output_type": "stream",
     "text": [
      "epoch : 4  loss : 0.060238312649726865, accuracy : 53.57\n"
     ]
    },
    {
     "name": "stderr",
     "output_type": "stream",
     "text": [
      "100%|███████████████████████████████████████████████████████████████| 1563/1563 [00:33<00:00, 46.37it/s]\n"
     ]
    },
    {
     "name": "stdout",
     "output_type": "stream",
     "text": [
      "epoch : 5  loss : 0.059487630999088284, accuracy : 55.74\n"
     ]
    },
    {
     "name": "stderr",
     "output_type": "stream",
     "text": [
      "100%|███████████████████████████████████████████████████████████████| 1563/1563 [00:33<00:00, 46.24it/s]\n"
     ]
    },
    {
     "name": "stdout",
     "output_type": "stream",
     "text": [
      "epoch : 6  loss : 0.058970972204208376, accuracy : 57.46\n"
     ]
    },
    {
     "name": "stderr",
     "output_type": "stream",
     "text": [
      "100%|███████████████████████████████████████████████████████████████| 1563/1563 [00:33<00:00, 46.42it/s]\n"
     ]
    },
    {
     "name": "stdout",
     "output_type": "stream",
     "text": [
      "epoch : 7  loss : 0.058558646512031555, accuracy : 58.65\n"
     ]
    },
    {
     "name": "stderr",
     "output_type": "stream",
     "text": [
      "100%|███████████████████████████████████████████████████████████████| 1563/1563 [00:32<00:00, 48.59it/s]\n"
     ]
    },
    {
     "name": "stdout",
     "output_type": "stream",
     "text": [
      "epoch : 8  loss : 0.05836676058769226, accuracy : 59.67\n"
     ]
    },
    {
     "name": "stderr",
     "output_type": "stream",
     "text": [
      "100%|███████████████████████████████████████████████████████████████| 1563/1563 [00:34<00:00, 45.49it/s]\n"
     ]
    },
    {
     "name": "stdout",
     "output_type": "stream",
     "text": [
      "epoch : 9  loss : 0.05796397223472595, accuracy : 60.58\n"
     ]
    },
    {
     "name": "stderr",
     "output_type": "stream",
     "text": [
      "100%|███████████████████████████████████████████████████████████████| 1563/1563 [00:36<00:00, 43.16it/s]\n"
     ]
    },
    {
     "name": "stdout",
     "output_type": "stream",
     "text": [
      "epoch : 10  loss : 0.05784950633049011, accuracy : 60.96\n"
     ]
    }
   ],
   "source": [
    "cnnModel = CNN().to(DEVICE)\n",
    "optimizer = torch.optim.Adam(cnnModel.parameters(), lr = 1e-3)\n",
    "criterion = nn.CrossEntropyLoss()\n",
    "for epoch in range(1, EPOCHS+1):\n",
    "    train(cnnModel,train_loader,optimizer)\n",
    "    test_loss, test_accuracy = evaluate(cnnModel, test_loader)\n",
    "    print(f\"epoch : {epoch}  loss : {test_loss}, accuracy : {test_accuracy}\")  "
   ]
  },
  {
   "cell_type": "markdown",
   "id": "e6e0327e-c8d0-4666-b5d2-7463e5262d47",
   "metadata": {},
   "source": [
    "# CNN 아키텍처"
   ]
  },
  {
   "cell_type": "markdown",
   "id": "18a54f1f-d7e8-425c-96c2-1b84c33910a2",
   "metadata": {},
   "source": [
    "#### ImageNet\n",
    "#### 이미지 분류 모델을 측정하기 위한 데이터로 가장 많이 사용되는 데이터\n",
    "\n",
    "#### Network Architecture\n",
    "#### 네트워크의 성능을 높이기 위한 구조, 깊게 쌓으면서 과적합을 방지하고자 하는 연구.\n",
    "\n",
    "#### LeNet\n",
    "#### 최초의 CNN모델. (1990년대에 나온 모델이므로 비교적 단순한 구조를 가지고 있음)\n",
    "\n",
    "#### Alexnet\n",
    "#### 2012 ILSVRC 대회 우승 모델. 구조는 크게 다르지 않지만 Dropoout, DataAugmentation등을 적용했다.\n",
    "\n",
    "#### VGG\n",
    "#### 2014 ILSVRC 대회에서 2등을 차지한 모델.\n",
    "\n",
    "#### 3*3 합성곱 층을 깊게 중첩하는 것이 특징\n",
    "\n",
    "#### GoogLeNet\n",
    "#### 2014 ILSVRC 대회에서 1등한 모델.\n",
    "\n",
    "#### Inception 구조를 처음 적용하고 Gloval Average Pooling 을 처음 적용했음.\n",
    "\n",
    "#### ResNet\n",
    "#### 2015 ILSVRC 대회에서 1등. 이미지 분류의 기본 모델로 사용하고 있음.\n",
    "\n",
    "#### Residual Block 이란 개념 도입. (이전 층의 feature Map을 다음 층의 feature map 에 더해줌) -> 기울기 소실 제거\n",
    "\n",
    "#### DenseNet\n",
    "#### ResNet의 확장형 버전. 모든 층에 대해 Skip connection 을 연결한다."
   ]
  },
  {
   "cell_type": "code",
   "execution_count": null,
   "id": "6baefc6e-7b28-4b26-a1df-5a3ac30d6c2c",
   "metadata": {},
   "outputs": [],
   "source": []
  }
 ],
 "metadata": {
  "kernelspec": {
   "display_name": "Python 3 (ipykernel)",
   "language": "python",
   "name": "python3"
  },
  "language_info": {
   "codemirror_mode": {
    "name": "ipython",
    "version": 3
   },
   "file_extension": ".py",
   "mimetype": "text/x-python",
   "name": "python",
   "nbconvert_exporter": "python",
   "pygments_lexer": "ipython3",
   "version": "3.9.12"
  }
 },
 "nbformat": 4,
 "nbformat_minor": 5
}
