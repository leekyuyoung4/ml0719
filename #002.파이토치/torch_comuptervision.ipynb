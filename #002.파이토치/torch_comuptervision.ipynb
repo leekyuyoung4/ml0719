{
 "cells": [
  {
   "cell_type": "code",
   "execution_count": 1,
   "id": "7abaab8b-d8d6-4b50-b505-fbc367b14c6c",
   "metadata": {},
   "outputs": [
    {
     "name": "stderr",
     "output_type": "stream",
     "text": [
      "C:\\Users\\user\\miniconda3\\envs\\ml\\lib\\site-packages\\requests\\__init__.py:78: RequestsDependencyWarning: urllib3 (1.26.12) or chardet (3.0.4) doesn't match a supported version!\n",
      "  warnings.warn(\"urllib3 ({0}) or chardet ({1}) doesn't match a supported \"\n"
     ]
    }
   ],
   "source": [
    "import numpy as np\n",
    "import matplotlib.pyplot as plt\n",
    "import torch\n",
    "import torch.nn as nn\n",
    "import torch.nn.functional as F\n",
    "from torchvision import transforms, datasets"
   ]
  },
  {
   "cell_type": "code",
   "execution_count": 2,
   "id": "abfd043d-c261-4548-ae99-6058004f8ea4",
   "metadata": {},
   "outputs": [],
   "source": [
    "DEVICE = 'cpu'"
   ]
  },
  {
   "cell_type": "code",
   "execution_count": 3,
   "id": "0eee7606-a5d4-4da8-b745-3836cc0d5dda",
   "metadata": {},
   "outputs": [],
   "source": [
    "BATCH_SIZE = 32\n",
    "EPOCHS = 10"
   ]
  },
  {
   "cell_type": "code",
   "execution_count": 4,
   "id": "fede1f92-088b-48e1-96c9-d7b4ff6ae0da",
   "metadata": {},
   "outputs": [
    {
     "name": "stdout",
     "output_type": "stream",
     "text": [
      "Files already downloaded and verified\n"
     ]
    }
   ],
   "source": [
    "train_dataset = datasets.CIFAR10(root = \"../data/CIFAR10\",\n",
    "                                      train = True,\n",
    "                                      download = True,\n",
    "                                      transform = transforms.ToTensor())\n",
    "\n",
    "test_dataset = datasets.CIFAR10(root = \"../data/CIFAR10\",\n",
    "                                     train = False,\n",
    "                                     transform = transforms.ToTensor())\n",
    "\n",
    "train_loader = torch.utils.data.DataLoader(dataset = train_dataset,\n",
    "                                           batch_size = BATCH_SIZE,\n",
    "                                           shuffle = True)\n",
    "\n",
    "test_loader = torch.utils.data.DataLoader(dataset = test_dataset,\n",
    "                                          batch_size = BATCH_SIZE,\n",
    "                                          shuffle = False)"
   ]
  },
  {
   "cell_type": "code",
   "execution_count": null,
   "id": "25381d0f-1660-4666-bfd9-17c49ee84669",
   "metadata": {},
   "outputs": [],
   "source": [
    "train,target =  train_dataset[0]\n",
    "print(train.shape,  target)\n",
    "np.transpose(train,(1,2,0)).shape"
   ]
  },
  {
   "cell_type": "code",
   "execution_count": null,
   "id": "7175aac1-0620-4217-bbbc-bd351cf32267",
   "metadata": {},
   "outputs": [],
   "source": [
    "import os\n",
    "os.environ['KMP_DUPLICATE_LIB_OK']='TRUE'\n",
    "# train 데이터를 10개만 가져오자\n",
    "for cnt, (x,y) in enumerate(train_dataset):\n",
    "    if cnt >= 10: break \n",
    "    plt.subplot(1,10,cnt+1)\n",
    "    plt.axis('off')\n",
    "    # TypeError: Invalid shape (3, 32, 32) for image data\n",
    "    plt.imshow(np.transpose(x, (1,2,0)))    \n",
    "    plt.title(y)\n",
    "\n",
    "\n"
   ]
  },
  {
   "cell_type": "code",
   "execution_count": null,
   "id": "20d44a1b-c774-42d4-9b11-87ee9c09f7f3",
   "metadata": {},
   "outputs": [],
   "source": [
    "# 분류 10 설계  MLP\n",
    "class Net(nn.Module):\n",
    "    def __init__(self):\n",
    "        super().__init__()\n",
    "        self.fc1 = nn.Linear(32*32*3,512)\n",
    "        self.fc2 = nn.Linear(512,256)\n",
    "        self.fc3 = nn.Linear(256,10)\n",
    "    def forward(self,x):\n",
    "        x = x.view(-1,32*32*3)\n",
    "        x = self.fc1(x)\n",
    "        x = F.relu(x)\n",
    "        x = self.fc2(x)\n",
    "        x = F.relu(x)\n",
    "        x = self.fc3(x)\n",
    "        x = F.log_softmax(x, dim = 1)\n",
    "        return x      \n"
   ]
  },
  {
   "cell_type": "code",
   "execution_count": null,
   "id": "5d70b887-a88d-43f4-9c11-f110ae80bde2",
   "metadata": {},
   "outputs": [],
   "source": [
    "model = Net().to(DEVICE)\n",
    "optimizer = torch.optim.Adam(model.parameters(), lr = 1e-3)\n",
    "criterion = nn.CrossEntropyLoss()\n",
    "print(model)"
   ]
  },
  {
   "cell_type": "code",
   "execution_count": 5,
   "id": "3aa11a23-d6c0-4194-8270-ccd238e04547",
   "metadata": {},
   "outputs": [],
   "source": [
    "# model.train()  전체 레이어를 사용 : 전체 layer의 전원을 켠다\n",
    "# model.eval() evaluation, 사용하지 않는 layer들의 전원을 끈다\n",
    "from tqdm import tqdm # 진행상황을 progress bar로 표시\n",
    "def train(model, train_loader,optimizer):\n",
    "    model.train()\n",
    "    for image, label in tqdm(train_loader):  # 배치단위로 출력\n",
    "        image = image.to(DEVICE)\n",
    "        label = label.to(DEVICE)\n",
    "        optimizer.zero_grad()\n",
    "        output = model(image)        \n",
    "        loss = criterion(output, label)\n",
    "        loss.backward()\n",
    "        optimizer.step()"
   ]
  },
  {
   "cell_type": "code",
   "execution_count": 6,
   "id": "7f29d0d7-51c0-4c17-9beb-a64abe23215c",
   "metadata": {},
   "outputs": [],
   "source": [
    "def evaluate(model, test_loader):\n",
    "    model.eval()\n",
    "    test_loss = 0\n",
    "    correct = 0\n",
    "    with torch.no_grad():\n",
    "        for image, label in test_loader:\n",
    "            image = image.to(DEVICE)\n",
    "            label = label.to(DEVICE)\n",
    "            output = model(image)\n",
    "            test_loss += criterion(output, label).item()\n",
    "            prediction = output.max(1,keepdim = True)[1]\n",
    "            correct += prediction.eq(label.view_as(prediction)).sum().item()\n",
    "    test_loss /= len(test_loader.dataset)\n",
    "    test_accuracy = 100.*correct / len(test_loader.dataset)\n",
    "    return test_loss, test_accuracy"
   ]
  },
  {
   "cell_type": "code",
   "execution_count": null,
   "id": "55747c80-0583-4d0d-a5c0-9f9978e0ad1c",
   "metadata": {
    "tags": []
   },
   "outputs": [],
   "source": [
    "for epoch in range(1, EPOCHS+1):\n",
    "    train(model,train_loader,optimizer)\n",
    "    test_loss, test_accuracy = evaluate(model, test_loader)\n",
    "    print(f\"epoch : {epoch}  loss : {test_loss}, accuracy : {test_accuracy}\")"
   ]
  },
  {
   "cell_type": "code",
   "execution_count": 7,
   "id": "b3ce781f-9ba6-418f-8600-d9202c21f3f0",
   "metadata": {},
   "outputs": [],
   "source": [
    "# CNN 모델 설계\n",
    "class CNN(nn.Module):\n",
    "    def __init__(self):\n",
    "        super().__init__()\n",
    "        self.conv1 = nn.Conv2d(\n",
    "            in_channels = 3, out_channels = 8,\n",
    "            kernel_size = 3,\n",
    "            padding = 1\n",
    "        )\n",
    "        self.conv2 = nn.Conv2d(\n",
    "            in_channels = 8, out_channels = 16,\n",
    "            kernel_size = 3,\n",
    "            padding = 1\n",
    "        )\n",
    "        self.pool = nn.MaxPool2d(\n",
    "            kernel_size =2, stride = 2\n",
    "        )\n",
    "\n",
    "        self.fc1 = nn.Linear(8 * 8 * 16, 64)\n",
    "        self.fc2 = nn.Linear(64, 32)\n",
    "        self.fc3 = nn.Linear(32, 10)\n",
    "  \n",
    "    def forward(self, x):\n",
    "        # x = (32, 32, 3)        \n",
    "        x = self.conv1(x) # x = (32, 32, 3) ## len(x) - kernel_size + 1        \n",
    "        x = F.relu(x)\n",
    "        x = self.pool(x) # x = (16, 16, 3)        \n",
    "        x = self.conv2(x) # x = (16, 16, 3)         \n",
    "        x = F.relu(x)\n",
    "        x = self.pool(x) # x = (8, 8, 3)        \n",
    "\n",
    "        x = x.view(-1, 8* 8 * 16)\n",
    "        x = self.fc1(x)\n",
    "        x = F.relu(x)\n",
    "        x = self.fc2(x)\n",
    "        x = F.relu(x)\n",
    "        x = self.fc3(x)\n",
    "        x = F.softmax(x,dim=1)\n",
    "\n",
    "        return x\n",
    "        \n",
    "        "
   ]
  },
  {
   "cell_type": "code",
   "execution_count": null,
   "id": "1ae2b6a8-8ec4-493f-ab1c-18e05ba0780c",
   "metadata": {},
   "outputs": [
    {
     "name": "stderr",
     "output_type": "stream",
     "text": [
      "100%|███████████████████████████████████████████████████████████████| 1563/1563 [00:26<00:00, 59.98it/s]\n"
     ]
    },
    {
     "name": "stdout",
     "output_type": "stream",
     "text": [
      "epoch : 1  loss : 0.06532504324913024, accuracy : 36.58\n"
     ]
    },
    {
     "name": "stderr",
     "output_type": "stream",
     "text": [
      "100%|███████████████████████████████████████████████████████████████| 1563/1563 [00:26<00:00, 57.92it/s]\n"
     ]
    },
    {
     "name": "stdout",
     "output_type": "stream",
     "text": [
      "epoch : 2  loss : 0.0637384945988655, accuracy : 42.23\n"
     ]
    },
    {
     "name": "stderr",
     "output_type": "stream",
     "text": [
      "100%|███████████████████████████████████████████████████████████████| 1563/1563 [00:27<00:00, 57.62it/s]\n"
     ]
    },
    {
     "name": "stdout",
     "output_type": "stream",
     "text": [
      "epoch : 3  loss : 0.06332648178339005, accuracy : 43.27\n"
     ]
    },
    {
     "name": "stderr",
     "output_type": "stream",
     "text": [
      "100%|███████████████████████████████████████████████████████████████| 1563/1563 [00:27<00:00, 57.46it/s]\n"
     ]
    },
    {
     "name": "stdout",
     "output_type": "stream",
     "text": [
      "epoch : 4  loss : 0.0619778923034668, accuracy : 47.82\n"
     ]
    },
    {
     "name": "stderr",
     "output_type": "stream",
     "text": [
      "100%|███████████████████████████████████████████████████████████████| 1563/1563 [00:30<00:00, 51.91it/s]\n"
     ]
    },
    {
     "name": "stdout",
     "output_type": "stream",
     "text": [
      "epoch : 5  loss : 0.06147929986715317, accuracy : 49.56\n"
     ]
    },
    {
     "name": "stderr",
     "output_type": "stream",
     "text": [
      " 69%|███████████████████████████████████████████▎                   | 1076/1563 [00:21<00:10, 48.37it/s]"
     ]
    }
   ],
   "source": [
    "cnnModel = CNN().to(DEVICE)\n",
    "optimizer = torch.optim.Adam(cnnModel.parameters(), lr = 1e-3)\n",
    "criterion = nn.CrossEntropyLoss()\n",
    "for epoch in range(1, EPOCHS+1):\n",
    "    train(cnnModel,train_loader,optimizer)\n",
    "    test_loss, test_accuracy = evaluate(cnnModel, test_loader)\n",
    "    print(f\"epoch : {epoch}  loss : {test_loss}, accuracy : {test_accuracy}\")    "
   ]
  },
  {
   "cell_type": "code",
   "execution_count": null,
   "id": "9c5b925a-529c-4e23-9e61-54bff06dc764",
   "metadata": {},
   "outputs": [],
   "source": []
  }
 ],
 "metadata": {
  "kernelspec": {
   "display_name": "Python 3 (ipykernel)",
   "language": "python",
   "name": "python3"
  },
  "language_info": {
   "codemirror_mode": {
    "name": "ipython",
    "version": 3
   },
   "file_extension": ".py",
   "mimetype": "text/x-python",
   "name": "python",
   "nbconvert_exporter": "python",
   "pygments_lexer": "ipython3",
   "version": "3.9.12"
  }
 },
 "nbformat": 4,
 "nbformat_minor": 5
}
