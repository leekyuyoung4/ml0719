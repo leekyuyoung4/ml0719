{
 "cells": [
  {
   "cell_type": "code",
   "execution_count": 1,
   "id": "62b88efd-9697-4682-a3b0-32a03d1104cc",
   "metadata": {},
   "outputs": [
    {
     "name": "stdout",
     "output_type": "stream",
     "text": [
      "Files already downloaded and verified\n",
      "Files already downloaded and verified\n"
     ]
    }
   ],
   "source": [
    "from torchvision import datasets\n",
    "data_path = '../data/'\n",
    "cifar10 = datasets.CIFAR10(data_path,train=True,download=True)\n",
    "cifar10_val = datasets.CIFAR10(data_path,train=False,download=True)"
   ]
  },
  {
   "cell_type": "code",
   "execution_count": 2,
   "id": "7a6591b0-840b-4661-9129-aee9f11ae833",
   "metadata": {
    "tags": []
   },
   "outputs": [
    {
     "data": {
      "text/plain": [
       "['AugMix',\n",
       " 'AutoAugment',\n",
       " 'AutoAugmentPolicy',\n",
       " 'CenterCrop',\n",
       " 'ColorJitter',\n",
       " 'Compose',\n",
       " 'ConvertImageDtype',\n",
       " 'ElasticTransform',\n",
       " 'FiveCrop',\n",
       " 'GaussianBlur',\n",
       " 'Grayscale',\n",
       " 'InterpolationMode',\n",
       " 'Lambda',\n",
       " 'LinearTransformation',\n",
       " 'Normalize',\n",
       " 'PILToTensor',\n",
       " 'Pad',\n",
       " 'RandAugment',\n",
       " 'RandomAdjustSharpness',\n",
       " 'RandomAffine',\n",
       " 'RandomApply',\n",
       " 'RandomAutocontrast',\n",
       " 'RandomChoice',\n",
       " 'RandomCrop',\n",
       " 'RandomEqualize',\n",
       " 'RandomErasing',\n",
       " 'RandomGrayscale',\n",
       " 'RandomHorizontalFlip',\n",
       " 'RandomInvert',\n",
       " 'RandomOrder',\n",
       " 'RandomPerspective',\n",
       " 'RandomPosterize',\n",
       " 'RandomResizedCrop',\n",
       " 'RandomRotation',\n",
       " 'RandomSolarize',\n",
       " 'RandomVerticalFlip',\n",
       " 'Resize',\n",
       " 'TenCrop',\n",
       " 'ToPILImage',\n",
       " 'ToTensor',\n",
       " 'TrivialAugmentWide',\n",
       " '__builtins__',\n",
       " '__cached__',\n",
       " '__doc__',\n",
       " '__file__',\n",
       " '__loader__',\n",
       " '__name__',\n",
       " '__package__',\n",
       " '__path__',\n",
       " '__spec__',\n",
       " '_pil_constants',\n",
       " '_presets',\n",
       " 'autoaugment',\n",
       " 'functional',\n",
       " 'functional_pil',\n",
       " 'functional_tensor',\n",
       " 'transforms']"
      ]
     },
     "execution_count": 2,
     "metadata": {},
     "output_type": "execute_result"
    }
   ],
   "source": [
    "# 이미지 데이터를 변경하는 라이브러리\n",
    "from torchvision import transforms\n",
    "dir(transforms) # 해당 명령어가 가지고 있는 함수리스트를 보여줌"
   ]
  },
  {
   "cell_type": "code",
   "execution_count": 3,
   "id": "5b59f937-9e07-411a-947e-41b5d183ec7f",
   "metadata": {},
   "outputs": [],
   "source": [
    "img, label =  cifar10[0] # 0번째 데이터를 가져온다"
   ]
  },
  {
   "cell_type": "code",
   "execution_count": 4,
   "id": "85af7f86-49b8-42bd-b13d-3d910570bf3f",
   "metadata": {},
   "outputs": [
    {
     "data": {
      "image/png": "[encoded data removed]",
      "text/plain": [
       "<PIL.Image.Image image mode=RGB size=32x32>"
      ]
     },
     "execution_count": 4,
     "metadata": {},
     "output_type": "execute_result"
    }
   ],
   "source": [
    "img"
   ]
  },
  {
   "cell_type": "code",
   "execution_count": 5,
   "id": "d8e179cc-ec3e-4565-a7b8-4f9e5e16d630",
   "metadata": {},
   "outputs": [
    {
     "data": {
      "text/plain": [
       "torch.Size([3, 32, 32])"
      ]
     },
     "execution_count": 5,
     "metadata": {},
     "output_type": "execute_result"
    }
   ],
   "source": [
    "# 토치에서 제공하는 데이터를 변환작업을 하지 않으면 이미지 데이터를 가져오고\n",
    "# 수치데이터로 변경하려면\n",
    "to_tensor = transforms.ToTensor()\n",
    "img_t = to_tensor(img)\n",
    "img_t.shape"
   ]
  },
  {
   "cell_type": "code",
   "execution_count": 6,
   "id": "e9e36e73-b990-44c4-ac6e-45b0908031cd",
   "metadata": {},
   "outputs": [
    {
     "data": {
      "text/plain": [
       "Conv2d(3, 16, kernel_size=(3, 3), stride=(1, 1))"
      ]
     },
     "execution_count": 6,
     "metadata": {},
     "output_type": "execute_result"
    }
   ],
   "source": [
    "# 셈플데이터은 CIFAR-10의 채널은 3\n",
    "import torch.nn as nn\n",
    "conv = nn.Conv2d(3,16, kernel_size=3)\n",
    "conv"
   ]
  },
  {
   "cell_type": "code",
   "execution_count": 7,
   "id": "83256232-cc41-411c-9b42-0b6df18d4ae0",
   "metadata": {},
   "outputs": [
    {
     "data": {
      "text/plain": [
       "(torch.Size([16, 3, 3, 3]), torch.Size([16]))"
      ]
     },
     "execution_count": 7,
     "metadata": {},
     "output_type": "execute_result"
    }
   ],
   "source": [
    "conv.weight.shape, conv.bias.shape"
   ]
  },
  {
   "cell_type": "code",
   "execution_count": 8,
   "id": "c71aceae-0966-4da7-9b2c-7bcaa112ba4d",
   "metadata": {},
   "outputs": [],
   "source": [
    "# nn.Conv2d는 입력으로 B C H W 받으므로 이미지 한개를 적용해 보려면 0번째 차원을 unsqueeze를 통해서 느린다.(배치사이즈로사용)"
   ]
  },
  {
   "cell_type": "code",
   "execution_count": 9,
   "id": "d34c3d8b-9280-46bd-8bc7-70ba30117e15",
   "metadata": {},
   "outputs": [
    {
     "name": "stdout",
     "output_type": "stream",
     "text": [
      "torch.Size([3, 32, 32])\n"
     ]
    },
    {
     "data": {
      "text/plain": [
       "torch.Size([1, 3, 32, 32])"
      ]
     },
     "execution_count": 9,
     "metadata": {},
     "output_type": "execute_result"
    }
   ],
   "source": [
    "img,label = cifar10[0]\n",
    "img_t = to_tensor(img)\n",
    "print(img_t.shape)\n",
    "img_t = img_t.unsqueeze(0)\n",
    "img_t.shape"
   ]
  },
  {
   "cell_type": "code",
   "execution_count": 10,
   "id": "e204ea61-6cd7-4cd3-a3a3-8832fd943a4a",
   "metadata": {},
   "outputs": [
    {
     "data": {
      "image/png": "[encoded data removed]",
      "text/plain": [
       "<PIL.Image.Image image mode=RGB size=32x32>"
      ]
     },
     "execution_count": 10,
     "metadata": {},
     "output_type": "execute_result"
    }
   ],
   "source": [
    "img"
   ]
  },
  {
   "cell_type": "code",
   "execution_count": 11,
   "id": "68c9e79f-da29-4cfd-9fdb-0ec6c41e0b17",
   "metadata": {},
   "outputs": [
    {
     "data": {
      "text/plain": [
       "torch.Size([1, 16, 30, 30])"
      ]
     },
     "execution_count": 11,
     "metadata": {},
     "output_type": "execute_result"
    }
   ],
   "source": [
    "output =  conv(img_t)\n",
    "output.shape"
   ]
  },
  {
   "cell_type": "code",
   "execution_count": 12,
   "id": "769109c6-4972-4a8a-9953-2077b05ebf31",
   "metadata": {},
   "outputs": [],
   "source": [
    "import matplotlib.pylab as plt\n",
    "import os\n",
    "os.environ['KMP_DUPLICATE_LIB_OK'] = 'True'"
   ]
  },
  {
   "cell_type": "code",
   "execution_count": 16,
   "id": "54918fd3-321b-4454-b176-68898e72d3cb",
   "metadata": {},
   "outputs": [
    {
     "data": {
      "text/plain": [
       "torch.Size([30, 30])"
      ]
     },
     "execution_count": 16,
     "metadata": {},
     "output_type": "execute_result"
    }
   ],
   "source": [
    "output[0,0].detach().shape"
   ]
  },
  {
   "cell_type": "code",
   "execution_count": 18,
   "id": "1961c1d3-bc84-4959-acc5-0c30d9ff6c29",
   "metadata": {},
   "outputs": [
    {
     "data": {
      "text/plain": [
       "<matplotlib.image.AxesImage at 0x222b628ffd0>"
      ]
     },
     "execution_count": 18,
     "metadata": {},
     "output_type": "execute_result"
    },
    {
     "data": {
      "image/png": "[encoded data removed]",
      "text/plain": [
       "<Figure size 640x480 with 1 Axes>"
      ]
     },
     "metadata": {},
     "output_type": "display_data"
    }
   ],
   "source": [
    "plt.imshow(output[0,0].detach(),cmap='gray')"
   ]
  },
  {
   "cell_type": "code",
   "execution_count": 24,
   "id": "4951444c-c547-4742-ab4b-fd12920ce432",
   "metadata": {},
   "outputs": [
    {
     "name": "stdout",
     "output_type": "stream",
     "text": [
      "torch.Size([3, 32, 32]) 6\n"
     ]
    }
   ],
   "source": [
    "import torch\n",
    "tensor_cifar10 = datasets.CIFAR10(data_path,train=True,download=False, transform=transforms.ToTensor())\n",
    "for image, label in tensor_cifar10:\n",
    "    print(image.shape, label)\n",
    "    break"
   ]
  },
  {
   "cell_type": "code",
   "execution_count": 25,
   "id": "f9960f94-39f9-4549-972f-b0f6510aee76",
   "metadata": {},
   "outputs": [
    {
     "data": {
      "text/plain": [
       "torch.Size([3, 32, 32, 50000])"
      ]
     },
     "execution_count": 25,
     "metadata": {},
     "output_type": "execute_result"
    }
   ],
   "source": [
    "imgs = torch.stack( [img_t for img_t, label in tensor_cifar10], dim=3)\n",
    "imgs.shape"
   ]
  },
  {
   "cell_type": "code",
   "execution_count": 20,
   "id": "516fa265-8969-4e78-96b5-a1dafafd644c",
   "metadata": {},
   "outputs": [
    {
     "data": {
      "text/plain": [
       "tensor([[0.2314, 0.6039, 1.0000,  ..., 0.0471, 0.7647, 0.6392],\n",
       "        [0.2431, 0.6941, 1.0000,  ..., 0.1216, 0.7451, 0.6392],\n",
       "        [0.2471, 0.7333, 1.0000,  ..., 0.1961, 0.6706, 0.6314]])"
      ]
     },
     "execution_count": 20,
     "metadata": {},
     "output_type": "execute_result"
    }
   ],
   "source": [
    "imgs.view(3,-1)"
   ]
  },
  {
   "cell_type": "code",
   "execution_count": 26,
   "id": "239fedf6-dc40-4f43-8a7c-a64936cf238e",
   "metadata": {},
   "outputs": [
    {
     "data": {
      "text/plain": [
       "tensor([0.4914, 0.4822, 0.4465])"
      ]
     },
     "execution_count": 26,
     "metadata": {},
     "output_type": "execute_result"
    }
   ],
   "source": [
    "# 채널별로 평균\n",
    "imgs.view(3,-1).mean(dim=1)"
   ]
  },
  {
   "cell_type": "code",
   "execution_count": 27,
   "id": "da31adfe-435b-4ebc-9daa-d00ee52e0001",
   "metadata": {},
   "outputs": [
    {
     "data": {
      "text/plain": [
       "tensor([0.2470, 0.2435, 0.2616])"
      ]
     },
     "execution_count": 27,
     "metadata": {},
     "output_type": "execute_result"
    }
   ],
   "source": [
    "# 채널별로 표준편차\n",
    "imgs.view(3,-1).std(dim=1)"
   ]
  },
  {
   "cell_type": "code",
   "execution_count": 28,
   "id": "d09e7bed-254f-4c5c-8cfc-8a4c6fa79694",
   "metadata": {},
   "outputs": [],
   "source": [
    "torch_normalize = transforms.Normalize((0.4914, 0.4822, 0.4465),(0.2470, 0.2435, 0.2616))"
   ]
  },
  {
   "cell_type": "code",
   "execution_count": 29,
   "id": "21b6c198-c28c-459a-a0ad-055e36f71e1b",
   "metadata": {},
   "outputs": [
    {
     "name": "stdout",
     "output_type": "stream",
     "text": [
      "Files already downloaded and verified\n",
      "Files already downloaded and verified\n"
     ]
    }
   ],
   "source": [
    "# 데이터를 가져올때는 데이터를 정규화하면서 가져온다.\n",
    "from torchvision import datasets\n",
    "data_path = '../data/'\n",
    "cifar10 = datasets.CIFAR10(data_path,train=True,download=True\n",
    "                           ,transform=transforms.Compose([\n",
    "                                           transforms.ToTensor(),\n",
    "                                           torch_normalize\n",
    "                                       ])    \n",
    "                          )\n",
    "\n",
    "cifar10_val = datasets.CIFAR10(data_path,train=False,download=True\n",
    "                           ,transform=transforms.Compose([\n",
    "                                           transforms.ToTensor(),\n",
    "                                           torch_normalize\n",
    "                                       ])    \n",
    "                          )"
   ]
  },
  {
   "cell_type": "code",
   "execution_count": 30,
   "id": "fa43d51d-589e-471a-a6a6-1e0989feb106",
   "metadata": {},
   "outputs": [],
   "source": [
    "img,label = cifar10[0]"
   ]
  },
  {
   "cell_type": "code",
   "execution_count": 31,
   "id": "1c3293aa-26cc-4e3b-a263-aa8dd2df212c",
   "metadata": {},
   "outputs": [
    {
     "data": {
      "text/plain": [
       "torch.Size([3, 32, 32])"
      ]
     },
     "execution_count": 31,
     "metadata": {},
     "output_type": "execute_result"
    }
   ],
   "source": [
    "img.shape"
   ]
  },
  {
   "cell_type": "code",
   "execution_count": 55,
   "id": "75c12a41-23f1-455d-bbbf-72f6475340e7",
   "metadata": {},
   "outputs": [
    {
     "name": "stderr",
     "output_type": "stream",
     "text": [
      "Clipping input data to the valid range for imshow with RGB data ([0..1] for floats or [0..255] for integers).\n"
     ]
    },
    {
     "data": {
      "text/plain": [
       "<matplotlib.image.AxesImage at 0x222b1ca6ee0>"
      ]
     },
     "execution_count": 55,
     "metadata": {},
     "output_type": "execute_result"
    },
    {
     "data": {
      "image/png": "[encoded data removed]",
      "text/plain": [
       "<Figure size 640x480 with 1 Axes>"
      ]
     },
     "metadata": {},
     "output_type": "display_data"
    }
   ],
   "source": [
    "# plt 로 이미지를 그릴대는 마지막이 차수\n",
    "plt.imshow(img.permute(1,2,0) )"
   ]
  },
  {
   "cell_type": "code",
   "execution_count": 48,
   "id": "ea93287e-7639-4ae6-a8ce-5234c5139456",
   "metadata": {},
   "outputs": [
    {
     "data": {
      "text/plain": [
       "torch.Size([16, 30, 30])"
      ]
     },
     "execution_count": 48,
     "metadata": {},
     "output_type": "execute_result"
    }
   ],
   "source": [
    "conv(img).shape"
   ]
  },
  {
   "cell_type": "code",
   "execution_count": 45,
   "id": "abf7ee14-5a0b-4a48-9669-e8a9a4173ba8",
   "metadata": {},
   "outputs": [
    {
     "name": "stdout",
     "output_type": "stream",
     "text": [
      "torch.Size([30, 30])\n"
     ]
    },
    {
     "data": {
      "text/plain": [
       "<matplotlib.image.AxesImage at 0x222b1967eb0>"
      ]
     },
     "execution_count": 45,
     "metadata": {},
     "output_type": "execute_result"
    },
    {
     "data": {
      "image/png": "[encoded data removed]",
      "text/plain": [
       "<Figure size 640x480 with 1 Axes>"
      ]
     },
     "metadata": {},
     "output_type": "display_data"
    }
   ],
   "source": [
    "print(conv(img)[0].detach().shape)\n",
    "plt.imshow(conv(img)[0].detach())"
   ]
  },
  {
   "cell_type": "code",
   "execution_count": null,
   "id": "5847d388-65a2-471f-9add-6235624f1d9d",
   "metadata": {},
   "outputs": [],
   "source": []
  }
 ],
 "metadata": {
  "kernelspec": {
   "display_name": "Python 3 (ipykernel)",
   "language": "python",
   "name": "python3"
  },
  "language_info": {
   "codemirror_mode": {
    "name": "ipython",
    "version": 3
   },
   "file_extension": ".py",
   "mimetype": "text/x-python",
   "name": "python",
   "nbconvert_exporter": "python",
   "pygments_lexer": "ipython3",
   "version": "3.9.12"
  }
 },
 "nbformat": 4,
 "nbformat_minor": 5
}
