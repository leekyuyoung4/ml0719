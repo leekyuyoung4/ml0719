{
 "cells": [
  {
   "cell_type": "code",
   "execution_count": 1,
   "id": "e3a09482-11d3-4c1e-94cf-796d53840347",
   "metadata": {},
   "outputs": [
    {
     "name": "stderr",
     "output_type": "stream",
     "text": [
      "C:\\Users\\user\\miniconda3\\envs\\ml\\lib\\site-packages\\requests\\__init__.py:78: RequestsDependencyWarning: urllib3 (1.26.12) or chardet (3.0.4) doesn't match a supported version!\n",
      "  warnings.warn(\"urllib3 ({0}) or chardet ({1}) doesn't match a supported \"\n"
     ]
    }
   ],
   "source": [
    "import torch\n",
    "import numpy as np\n",
    "import torch.nn as nn\n",
    "import torch.nn.functional as F\n",
    "from torchvision import transforms, datasets"
   ]
  },
  {
   "cell_type": "code",
   "execution_count": 2,
   "id": "c1d5e740-5674-4be0-bafb-b75629a538ad",
   "metadata": {},
   "outputs": [],
   "source": [
    "if torch.cuda.is_available():\n",
    "    DEVICE = torch.device('cuda')\n",
    "else:\n",
    "    DEVICE = torch.device('cpu')"
   ]
  },
  {
   "cell_type": "code",
   "execution_count": 3,
   "id": "1d2e7d83-7f81-47e0-aaf3-9ae67956ed4b",
   "metadata": {},
   "outputs": [],
   "source": [
    "# 딥러닝 파라메터  설정\n",
    "BATCH_SIZE = 64\n",
    "INPUT_SIZE = 1000   # 입력층의 노드개수\n",
    "HIDDEN_SIZE = 100   # 은닉층의 노드수  (INPUT_SIZE 를 다수의 파라메터를 이용해서 계산할 결과에 한번 더 계산되는 파라메터수)\n",
    "OUTPUT_SIZE = 10  # 최종 출력노드의 수 (class 개수)"
   ]
  },
  {
   "cell_type": "code",
   "execution_count": 4,
   "id": "627a19f5-4163-4e11-ae28-9d76c6bebd0e",
   "metadata": {},
   "outputs": [],
   "source": [
    "\n",
    "# 데이터셋 만들기\n",
    "train_dataset =  datasets.MNIST(\n",
    "    root = './data/MNIST'\n",
    "    ,train=True\n",
    "    ,download=True\n",
    "    ,transform = transforms.ToTensor()\n",
    ")\n",
    "test_dataset =  datasets.MNIST(\n",
    "    root = './data/MNIST'\n",
    "    ,train=False\n",
    "    ,download=True\n",
    "    ,transform = transforms.ToTensor()\n",
    ")"
   ]
  },
  {
   "cell_type": "code",
   "execution_count": 5,
   "id": "cb14d30b-19ab-473a-b972-bd19bb361299",
   "metadata": {},
   "outputs": [],
   "source": [
    "train_loader = torch.utils.data.DataLoader(dataset=train_dataset, batch_size=BATCH_SIZE,shuffle=True)\n",
    "test_loader = torch.utils.data.DataLoader(dataset=test_dataset, batch_size=BATCH_SIZE,shuffle=True)"
   ]
  },
  {
   "cell_type": "code",
   "execution_count": 6,
   "id": "79a8c278-2061-48bc-9993-fac9e51a5225",
   "metadata": {},
   "outputs": [],
   "source": [
    "import matplotlib.pyplot as plt"
   ]
  },
  {
   "cell_type": "code",
   "execution_count": 7,
   "id": "42f82762-4aa8-4cb0-8629-152fbdf0356f",
   "metadata": {},
   "outputs": [],
   "source": [
    "for x_train,y_train in train_loader:\n",
    "    break"
   ]
  },
  {
   "cell_type": "code",
   "execution_count": 8,
   "id": "87ec6949-9f1b-4c7e-8015-51e161eed372",
   "metadata": {},
   "outputs": [
    {
     "data": {
      "text/plain": [
       "torch.Size([64, 1, 28, 28])"
      ]
     },
     "execution_count": 8,
     "metadata": {},
     "output_type": "execute_result"
    }
   ],
   "source": [
    "x_train.shape"
   ]
  },
  {
   "cell_type": "code",
   "execution_count": 9,
   "id": "bfc57d80-488d-43d9-a5c3-92812b0a51c7",
   "metadata": {},
   "outputs": [
    {
     "data": {
      "text/plain": [
       "torch.Size([1, 28, 28])"
      ]
     },
     "execution_count": 9,
     "metadata": {},
     "output_type": "execute_result"
    }
   ],
   "source": [
    "x_train[0].shape"
   ]
  },
  {
   "cell_type": "code",
   "execution_count": 10,
   "id": "74f1c38b-fa20-4a8f-a549-a48c63678305",
   "metadata": {},
   "outputs": [],
   "source": [
    "import os\n",
    "os.environ['KMP_DUPLICATE_LIB_OK']='TRUE'"
   ]
  },
  {
   "cell_type": "code",
   "execution_count": 13,
   "id": "241e1726-eb0f-480f-81be-2ecd2eadcc13",
   "metadata": {},
   "outputs": [
    {
     "data": {
      "image/png": "[encoded data removed]",
      "text/plain": [
       "<Figure size 640x480 with 10 Axes>"
      ]
     },
     "metadata": {},
     "output_type": "display_data"
    }
   ],
   "source": [
    "for i in range(10):\n",
    "    plt.subplot(1,10,i+1)\n",
    "    plt.imshow(x_train[i,:,:,:].numpy().reshape(28,28),cmap='gray_r')\n",
    "    plt.title(y_train[i].item())\n",
    "    plt.axis('off')\n",
    "plt.show()    "
   ]
  },
  {
   "cell_type": "code",
   "execution_count": 38,
   "id": "36ffdeae-41ac-4538-9e18-835f109884c2",
   "metadata": {},
   "outputs": [],
   "source": [
    "# 모델설계\n",
    "class Net(nn.Module):\n",
    "    def __init__(self):\n",
    "        super().__init__()\n",
    "        self.fc1 = nn.Linear(28*28,512)\n",
    "        self.fc2 = nn.Linear(512,256)\n",
    "        self.fc3 = nn.Linear(256,10)\n",
    "    def forward(self, x):\n",
    "        x = x.view(-1,28*28)\n",
    "        x = self.fc1(x)\n",
    "        x = torch.sigmoid(x)\n",
    "        x = self.fc2(x)\n",
    "        x = torch.sigmoid(x)\n",
    "        x = self.fc3(x)\n",
    "        x = F.log_softmax(x, dim=1)\n",
    "        return x       \n",
    "            "
   ]
  },
  {
   "cell_type": "code",
   "execution_count": 39,
   "id": "000cac5b-36c0-4955-8aa6-0abcb3bb3892",
   "metadata": {},
   "outputs": [],
   "source": [
    "# 모델 객체 만들기\n",
    "model =  Net().to(DEVICE)"
   ]
  },
  {
   "cell_type": "code",
   "execution_count": 40,
   "id": "4b688466-6098-4f65-aa9d-9e3ac0df1856",
   "metadata": {},
   "outputs": [
    {
     "data": {
      "text/plain": [
       "(Net(\n",
       "   (fc1): Linear(in_features=784, out_features=512, bias=True)\n",
       "   (fc2): Linear(in_features=512, out_features=256, bias=True)\n",
       "   (fc3): Linear(in_features=256, out_features=10, bias=True)\n",
       " ),\n",
       " <generator object Module.parameters at 0x0000026AB88E4200>)"
      ]
     },
     "execution_count": 40,
     "metadata": {},
     "output_type": "execute_result"
    }
   ],
   "source": [
    "model, model.parameters()"
   ]
  },
  {
   "cell_type": "code",
   "execution_count": 41,
   "id": "98ff890d-d688-49dd-91f3-f8ae901a33c2",
   "metadata": {},
   "outputs": [],
   "source": [
    "# 옵티마이져, 손실함수\n",
    "optimizer = torch.optim.Adam(model.parameters(), lr=0.01)\n",
    "criterion = nn.CrossEntropyLoss()"
   ]
  },
  {
   "cell_type": "code",
   "execution_count": 42,
   "id": "2a526a54-fd89-451c-bdd9-9c9b97185cf8",
   "metadata": {},
   "outputs": [],
   "source": [
    "# 학습함수\n",
    "def train(model, train_loader, optimizer, log_interval):\n",
    "    model.train()\n",
    "    epoch = 0\n",
    "    for batch_idx, (image,label) in enumerate(train_loader):\n",
    "        epoch += 1\n",
    "        image = image.to(DEVICE)\n",
    "        label = label.to(DEVICE)\n",
    "        optimizer.zero_grad()\n",
    "        output = model(image)\n",
    "        loss = criterion(output,label)\n",
    "        loss.backward()\n",
    "        optimizer.step()\n",
    "        if batch_idx % log_interval == 0:\n",
    "            print(f\"Train epoch : {epoch} [{batch_idx*len(image)} /{len(train_loader.dataset)} ] \\\n",
    "                  , Train loss : {loss.item()}\")"
   ]
  },
  {
   "cell_type": "code",
   "execution_count": null,
   "id": "8364186a-4bc4-44af-a0f2-c999bba336a5",
   "metadata": {},
   "outputs": [],
   "source": [
    "# evaluate 함수 만들기"
   ]
  },
  {
   "cell_type": "code",
   "execution_count": 43,
   "id": "615994c0-2085-4aee-8fb9-d775c0b84284",
   "metadata": {},
   "outputs": [
    {
     "name": "stdout",
     "output_type": "stream",
     "text": [
      "Train epoch : 1 [0 /60000 ]                   , Train loss : 2.3546383380889893\n",
      "Train epoch : 101 [6400 /60000 ]                   , Train loss : 0.3587450683116913\n",
      "Train epoch : 201 [12800 /60000 ]                   , Train loss : 0.04095350578427315\n",
      "Train epoch : 301 [19200 /60000 ]                   , Train loss : 0.23416489362716675\n",
      "Train epoch : 401 [25600 /60000 ]                   , Train loss : 0.3012775182723999\n",
      "Train epoch : 501 [32000 /60000 ]                   , Train loss : 0.05942797660827637\n",
      "Train epoch : 601 [38400 /60000 ]                   , Train loss : 0.06898081302642822\n",
      "Train epoch : 701 [44800 /60000 ]                   , Train loss : 0.12729567289352417\n",
      "Train epoch : 801 [51200 /60000 ]                   , Train loss : 0.02950691431760788\n",
      "Train epoch : 901 [57600 /60000 ]                   , Train loss : 0.3007625341415405\n",
      "Train epoch : 1 [0 /60000 ]                   , Train loss : 0.01402414869517088\n",
      "Train epoch : 101 [6400 /60000 ]                   , Train loss : 0.1528494507074356\n",
      "Train epoch : 201 [12800 /60000 ]                   , Train loss : 0.06781285256147385\n",
      "Train epoch : 301 [19200 /60000 ]                   , Train loss : 0.13432106375694275\n",
      "Train epoch : 401 [25600 /60000 ]                   , Train loss : 0.2649955153465271\n",
      "Train epoch : 501 [32000 /60000 ]                   , Train loss : 0.020657220855355263\n",
      "Train epoch : 601 [38400 /60000 ]                   , Train loss : 0.050198886543512344\n",
      "Train epoch : 701 [44800 /60000 ]                   , Train loss : 0.15071777999401093\n",
      "Train epoch : 801 [51200 /60000 ]                   , Train loss : 0.05126697197556496\n",
      "Train epoch : 901 [57600 /60000 ]                   , Train loss : 0.17835593223571777\n",
      "Train epoch : 1 [0 /60000 ]                   , Train loss : 0.07237054407596588\n"
     ]
    },
    {
     "ename": "KeyboardInterrupt",
     "evalue": "",
     "output_type": "error",
     "traceback": [
      "\u001b[1;31m---------------------------------------------------------------------------\u001b[0m",
      "\u001b[1;31mKeyboardInterrupt\u001b[0m                         Traceback (most recent call last)",
      "Cell \u001b[1;32mIn [43], line 2\u001b[0m\n\u001b[0;32m      1\u001b[0m \u001b[38;5;28;01mfor\u001b[39;00m epoch \u001b[38;5;129;01min\u001b[39;00m \u001b[38;5;28mrange\u001b[39m(\u001b[38;5;241m1\u001b[39m,\u001b[38;5;241m11\u001b[39m):\n\u001b[1;32m----> 2\u001b[0m     \u001b[43mtrain\u001b[49m\u001b[43m(\u001b[49m\u001b[43mmodel\u001b[49m\u001b[43m,\u001b[49m\u001b[43mtrain_loader\u001b[49m\u001b[43m,\u001b[49m\u001b[43moptimizer\u001b[49m\u001b[43m,\u001b[49m\u001b[38;5;241;43m100\u001b[39;49m\u001b[43m)\u001b[49m\n",
      "Cell \u001b[1;32mIn [42], line 12\u001b[0m, in \u001b[0;36mtrain\u001b[1;34m(model, train_loader, optimizer, log_interval)\u001b[0m\n\u001b[0;32m     10\u001b[0m output \u001b[38;5;241m=\u001b[39m model(image)\n\u001b[0;32m     11\u001b[0m loss \u001b[38;5;241m=\u001b[39m criterion(output,label)\n\u001b[1;32m---> 12\u001b[0m \u001b[43mloss\u001b[49m\u001b[38;5;241;43m.\u001b[39;49m\u001b[43mbackward\u001b[49m\u001b[43m(\u001b[49m\u001b[43m)\u001b[49m\n\u001b[0;32m     13\u001b[0m optimizer\u001b[38;5;241m.\u001b[39mstep()\n\u001b[0;32m     14\u001b[0m \u001b[38;5;28;01mif\u001b[39;00m batch_idx \u001b[38;5;241m%\u001b[39m log_interval \u001b[38;5;241m==\u001b[39m \u001b[38;5;241m0\u001b[39m:\n",
      "File \u001b[1;32m~\\miniconda3\\envs\\ml\\lib\\site-packages\\torch\\_tensor.py:487\u001b[0m, in \u001b[0;36mTensor.backward\u001b[1;34m(self, gradient, retain_graph, create_graph, inputs)\u001b[0m\n\u001b[0;32m    477\u001b[0m \u001b[38;5;28;01mif\u001b[39;00m has_torch_function_unary(\u001b[38;5;28mself\u001b[39m):\n\u001b[0;32m    478\u001b[0m     \u001b[38;5;28;01mreturn\u001b[39;00m handle_torch_function(\n\u001b[0;32m    479\u001b[0m         Tensor\u001b[38;5;241m.\u001b[39mbackward,\n\u001b[0;32m    480\u001b[0m         (\u001b[38;5;28mself\u001b[39m,),\n\u001b[1;32m   (...)\u001b[0m\n\u001b[0;32m    485\u001b[0m         inputs\u001b[38;5;241m=\u001b[39minputs,\n\u001b[0;32m    486\u001b[0m     )\n\u001b[1;32m--> 487\u001b[0m \u001b[43mtorch\u001b[49m\u001b[38;5;241;43m.\u001b[39;49m\u001b[43mautograd\u001b[49m\u001b[38;5;241;43m.\u001b[39;49m\u001b[43mbackward\u001b[49m\u001b[43m(\u001b[49m\n\u001b[0;32m    488\u001b[0m \u001b[43m    \u001b[49m\u001b[38;5;28;43mself\u001b[39;49m\u001b[43m,\u001b[49m\u001b[43m \u001b[49m\u001b[43mgradient\u001b[49m\u001b[43m,\u001b[49m\u001b[43m \u001b[49m\u001b[43mretain_graph\u001b[49m\u001b[43m,\u001b[49m\u001b[43m \u001b[49m\u001b[43mcreate_graph\u001b[49m\u001b[43m,\u001b[49m\u001b[43m \u001b[49m\u001b[43minputs\u001b[49m\u001b[38;5;241;43m=\u001b[39;49m\u001b[43minputs\u001b[49m\n\u001b[0;32m    489\u001b[0m \u001b[43m\u001b[49m\u001b[43m)\u001b[49m\n",
      "File \u001b[1;32m~\\miniconda3\\envs\\ml\\lib\\site-packages\\torch\\autograd\\__init__.py:197\u001b[0m, in \u001b[0;36mbackward\u001b[1;34m(tensors, grad_tensors, retain_graph, create_graph, grad_variables, inputs)\u001b[0m\n\u001b[0;32m    192\u001b[0m     retain_graph \u001b[38;5;241m=\u001b[39m create_graph\n\u001b[0;32m    194\u001b[0m \u001b[38;5;66;03m# The reason we repeat same the comment below is that\u001b[39;00m\n\u001b[0;32m    195\u001b[0m \u001b[38;5;66;03m# some Python versions print out the first line of a multi-line function\u001b[39;00m\n\u001b[0;32m    196\u001b[0m \u001b[38;5;66;03m# calls in the traceback and some print out the last line\u001b[39;00m\n\u001b[1;32m--> 197\u001b[0m \u001b[43mVariable\u001b[49m\u001b[38;5;241;43m.\u001b[39;49m\u001b[43m_execution_engine\u001b[49m\u001b[38;5;241;43m.\u001b[39;49m\u001b[43mrun_backward\u001b[49m\u001b[43m(\u001b[49m\u001b[43m  \u001b[49m\u001b[38;5;66;43;03m# Calls into the C++ engine to run the backward pass\u001b[39;49;00m\n\u001b[0;32m    198\u001b[0m \u001b[43m    \u001b[49m\u001b[43mtensors\u001b[49m\u001b[43m,\u001b[49m\u001b[43m \u001b[49m\u001b[43mgrad_tensors_\u001b[49m\u001b[43m,\u001b[49m\u001b[43m \u001b[49m\u001b[43mretain_graph\u001b[49m\u001b[43m,\u001b[49m\u001b[43m \u001b[49m\u001b[43mcreate_graph\u001b[49m\u001b[43m,\u001b[49m\u001b[43m \u001b[49m\u001b[43minputs\u001b[49m\u001b[43m,\u001b[49m\n\u001b[0;32m    199\u001b[0m \u001b[43m    \u001b[49m\u001b[43mallow_unreachable\u001b[49m\u001b[38;5;241;43m=\u001b[39;49m\u001b[38;5;28;43;01mTrue\u001b[39;49;00m\u001b[43m,\u001b[49m\u001b[43m \u001b[49m\u001b[43maccumulate_grad\u001b[49m\u001b[38;5;241;43m=\u001b[39;49m\u001b[38;5;28;43;01mTrue\u001b[39;49;00m\u001b[43m)\u001b[49m\n",
      "\u001b[1;31mKeyboardInterrupt\u001b[0m: "
     ]
    }
   ],
   "source": [
    "for epoch in range(1,11):\n",
    "    train(model,train_loader,optimizer,100)"
   ]
  },
  {
   "cell_type": "code",
   "execution_count": null,
   "id": "ee4f5ab8-b927-4321-bcad-1cef8fbeadcb",
   "metadata": {},
   "outputs": [],
   "source": []
  }
 ],
 "metadata": {
  "kernelspec": {
   "display_name": "Python 3 (ipykernel)",
   "language": "python",
   "name": "python3"
  },
  "language_info": {
   "codemirror_mode": {
    "name": "ipython",
    "version": 3
   },
   "file_extension": ".py",
   "mimetype": "text/x-python",
   "name": "python",
   "nbconvert_exporter": "python",
   "pygments_lexer": "ipython3",
   "version": "3.9.12"
  }
 },
 "nbformat": 4,
 "nbformat_minor": 5
}
