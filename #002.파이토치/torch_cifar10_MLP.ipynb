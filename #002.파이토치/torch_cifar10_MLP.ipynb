{
  "nbformat": 4,
  "nbformat_minor": 0,
  "metadata": {
    "colab": {
      "provenance": []
    },
    "kernelspec": {
      "name": "python3",
      "display_name": "Python 3"
    },
    "language_info": {
      "name": "python"
    },
    "accelerator": "GPU",
    "gpuClass": "standard"
  },
  "cells": [
    {
      "cell_type": "code",
      "execution_count": 1,
      "metadata": {
        "id": "iQ8vXYhSpvoP"
      },
      "outputs": [],
      "source": [
        "import numpy as np\n",
        "import matplotlib.pyplot as plt\n",
        "import torch\n",
        "import torch.nn as nn\n",
        "import torch.nn.functional as F\n",
        "from torchvision import transforms, datasets"
      ]
    },
    {
      "cell_type": "code",
      "source": [
        "if torch.cuda.is_available():\n",
        "  DEVICE = torch.device('cuda')\n",
        "else:\n",
        "    DEVICE = torch.device('cpu')\n",
        "DEVICE    "
      ],
      "metadata": {
        "colab": {
          "base_uri": "https://localhost:8080/"
        },
        "id": "13UjUF4EvFOv",
        "outputId": "8365bcee-0055-4f46-c8ee-ecc0dd8f7ed9"
      },
      "execution_count": 2,
      "outputs": [
        {
          "output_type": "execute_result",
          "data": {
            "text/plain": [
              "device(type='cuda')"
            ]
          },
          "metadata": {},
          "execution_count": 2
        }
      ]
    },
    {
      "cell_type": "code",
      "source": [
        "BATCH_SIZE = 32\n",
        "EPOCHS = 10"
      ],
      "metadata": {
        "id": "ocTJO--uvp31"
      },
      "execution_count": 3,
      "outputs": []
    },
    {
      "cell_type": "code",
      "source": [
        "train_dataset = datasets.CIFAR10(root = '../data/CIFAR_10',train=True, download = True, transform = transforms.ToTensor())\n",
        "test_dataset = datasets.CIFAR10(root = '../data/CIFAR_10',train=False, download = True, transform = transforms.ToTensor())\n",
        "train_loader = torch.utils.data.DataLoader(dataset= train_dataset,batch_size=BATCH_SIZE,shuffle=True)\n",
        "test_loader = torch.utils.data.DataLoader(dataset= test_dataset,batch_size=BATCH_SIZE,shuffle=True)"
      ],
      "metadata": {
        "colab": {
          "base_uri": "https://localhost:8080/"
        },
        "id": "_ImjHGrfvwUV",
        "outputId": "d7fa9242-328d-4f14-f90d-9188e0c27437"
      },
      "execution_count": 5,
      "outputs": [
        {
          "output_type": "stream",
          "name": "stdout",
          "text": [
            "Files already downloaded and verified\n",
            "Files already downloaded and verified\n"
          ]
        }
      ]
    },
    {
      "cell_type": "code",
      "source": [
        "for data,label in  train_dataset:\n",
        "  print(data.shape)\n",
        "  break"
      ],
      "metadata": {
        "colab": {
          "base_uri": "https://localhost:8080/"
        },
        "id": "9NFa6EA8xA62",
        "outputId": "b70df8fc-c756-4df4-fde5-94286577ead2"
      },
      "execution_count": 10,
      "outputs": [
        {
          "output_type": "stream",
          "name": "stdout",
          "text": [
            "torch.Size([3, 32, 32])\n"
          ]
        }
      ]
    },
    {
      "cell_type": "code",
      "source": [
        "# 모델 설계\n",
        "class Net(nn.Module):\n",
        "  def __init__(self) -> None:\n",
        "     super().__init__()\n",
        "     self.fc1 = nn.Linear(3*32*32,512)\n",
        "     self.fc2 = nn.Linear(512,256)\n",
        "     self.fc3 = nn.Linear(256,10)\n",
        "  def forward(self, x):\n",
        "    x = x.view(-1,3*32*32)\n",
        "    x = self.fc1(x)\n",
        "    x = torch.relu(x)\n",
        "    x = self.fc2(x)\n",
        "    x = torch.relu(x)\n",
        "    x = self.fc3(x)\n",
        "    x = F.log_softmax(x, dim=1)\n",
        "    return x  "
      ],
      "metadata": {
        "id": "_oeAMC85wdtN"
      },
      "execution_count": 12,
      "outputs": []
    },
    {
      "cell_type": "code",
      "source": [
        "model = Net().to(DEVICE)\n",
        "optimizer = torch.optim.Adam(model.parameters(), lr = 0.001)\n",
        "criterion = nn.CrossEntropyLoss()"
      ],
      "metadata": {
        "id": "j9XN0WCSxuF1"
      },
      "execution_count": 13,
      "outputs": []
    },
    {
      "cell_type": "code",
      "source": [
        "from tqdm import tqdm\n",
        "def train(model, train_loader, optimizer):\n",
        "  model.train() # 학습\n",
        "  # 모델 성능 확인\n",
        "  for batch_idx, (data,label) in tqdm(enumerate(train_loader)):\n",
        "    data = data.to(DEVICE)\n",
        "    label = label.to(DEVICE)\n",
        "    optimizer.zero_grad()\n",
        "    output = model(data)\n",
        "    loss = criterion(output, label)\n",
        "    loss.backward()\n",
        "    optimizer.step()\n",
        "\n",
        "    # 출력\n",
        "    # output_str =  f\"train epoch : {batch_idx} {len(data)}/{len(train_loader.dataset):.0f} train_loss : {loss.item():.6f}\"\n",
        "    # print(output_str)"
      ],
      "metadata": {
        "id": "T6FqJERCyd4s"
      },
      "execution_count": 29,
      "outputs": []
    },
    {
      "cell_type": "code",
      "source": [
        "def evaluate(model, test_loader):\n",
        "  model.eval()\n",
        "  test_loss = 0\n",
        "  correct = 0\n",
        "  with torch.no_grad():\n",
        "    for data, label in test_loader:\n",
        "      data = data.to(DEVICE)\n",
        "      label = label.to(DEVICE)\n",
        "      output = model(data)\n",
        "      test_loss += criterion(output,label).item()\n",
        "      prediction = output.max(1, keepdim =True)[1]\n",
        "      correct += prediction.eq(label.view_as(prediction)).sum().item()\n",
        "  test_loss /= len(test_loader.dataset)\n",
        "  test_accuracy = 100.*correct / len(test_loader.dataset)\n",
        "  return test_loss, test_accuracy"
      ],
      "metadata": {
        "id": "1__IkYTozWFF"
      },
      "execution_count": 30,
      "outputs": []
    },
    {
      "cell_type": "code",
      "source": [
        "# 학습"
      ],
      "metadata": {
        "id": "ZHP7N2szzU1-"
      },
      "execution_count": 31,
      "outputs": []
    },
    {
      "cell_type": "code",
      "source": [
        "for epoch in range(1, EPOCHS+1):\n",
        "  train(model,train_loader,optimizer)\n",
        "  test_loss, test_accuracy =  evaluate(model, test_loader)\n",
        "  print(f\"EPOCH:{epoch} , test loss:{test_loss:.4f}, test Accuracy:{test_accuracy:.2f}\")\n"
      ],
      "metadata": {
        "colab": {
          "base_uri": "https://localhost:8080/"
        },
        "id": "A6-gbJ_i2xjl",
        "outputId": "05a982ce-3232-4791-c66a-149985a75861"
      },
      "execution_count": 32,
      "outputs": [
        {
          "output_type": "stream",
          "name": "stderr",
          "text": [
            "1563it [00:08, 191.76it/s]\n"
          ]
        },
        {
          "output_type": "stream",
          "name": "stdout",
          "text": [
            "EPOCH:1 , test loss:0.0505, test Accuracy:42.43\n"
          ]
        },
        {
          "output_type": "stream",
          "name": "stderr",
          "text": [
            "1563it [00:08, 190.37it/s]\n"
          ]
        },
        {
          "output_type": "stream",
          "name": "stdout",
          "text": [
            "EPOCH:2 , test loss:0.0482, test Accuracy:45.22\n"
          ]
        },
        {
          "output_type": "stream",
          "name": "stderr",
          "text": [
            "1563it [00:08, 190.03it/s]\n"
          ]
        },
        {
          "output_type": "stream",
          "name": "stdout",
          "text": [
            "EPOCH:3 , test loss:0.0480, test Accuracy:45.72\n"
          ]
        },
        {
          "output_type": "stream",
          "name": "stderr",
          "text": [
            "1563it [00:08, 189.57it/s]\n"
          ]
        },
        {
          "output_type": "stream",
          "name": "stdout",
          "text": [
            "EPOCH:4 , test loss:0.0479, test Accuracy:45.42\n"
          ]
        },
        {
          "output_type": "stream",
          "name": "stderr",
          "text": [
            "1563it [00:08, 189.00it/s]\n"
          ]
        },
        {
          "output_type": "stream",
          "name": "stdout",
          "text": [
            "EPOCH:5 , test loss:0.0458, test Accuracy:47.76\n"
          ]
        },
        {
          "output_type": "stream",
          "name": "stderr",
          "text": [
            "1563it [00:08, 190.83it/s]\n"
          ]
        },
        {
          "output_type": "stream",
          "name": "stdout",
          "text": [
            "EPOCH:6 , test loss:0.0465, test Accuracy:46.78\n"
          ]
        },
        {
          "output_type": "stream",
          "name": "stderr",
          "text": [
            "1563it [00:08, 188.90it/s]\n"
          ]
        },
        {
          "output_type": "stream",
          "name": "stdout",
          "text": [
            "EPOCH:7 , test loss:0.0458, test Accuracy:48.38\n"
          ]
        },
        {
          "output_type": "stream",
          "name": "stderr",
          "text": [
            "1563it [00:08, 192.97it/s]\n"
          ]
        },
        {
          "output_type": "stream",
          "name": "stdout",
          "text": [
            "EPOCH:8 , test loss:0.0458, test Accuracy:48.29\n"
          ]
        },
        {
          "output_type": "stream",
          "name": "stderr",
          "text": [
            "1563it [00:08, 191.78it/s]\n"
          ]
        },
        {
          "output_type": "stream",
          "name": "stdout",
          "text": [
            "EPOCH:9 , test loss:0.0475, test Accuracy:46.43\n"
          ]
        },
        {
          "output_type": "stream",
          "name": "stderr",
          "text": [
            "1563it [00:08, 187.31it/s]\n"
          ]
        },
        {
          "output_type": "stream",
          "name": "stdout",
          "text": [
            "EPOCH:10 , test loss:0.0448, test Accuracy:49.44\n"
          ]
        }
      ]
    },
    {
      "cell_type": "code",
      "source": [
        "# 실제 데이터와 모델이 예측한 이미지 비교해보기\n",
        "sampleDatas = []\n",
        "for idx,datas in enumerate(test_dataset):\n",
        "  if idx > 10: break\n",
        "  sampleDatas.append(datas)  "
      ],
      "metadata": {
        "id": "26SpFztN3hum"
      },
      "execution_count": 46,
      "outputs": []
    },
    {
      "cell_type": "code",
      "source": [],
      "metadata": {
        "id": "V-w7Nzyo6sTd"
      },
      "execution_count": null,
      "outputs": []
    },
    {
      "cell_type": "code",
      "source": [
        "image = np.transpose(image,axes=(1,2,0))\n",
        "image.shape"
      ],
      "metadata": {
        "colab": {
          "base_uri": "https://localhost:8080/"
        },
        "id": "XWECPoVA47CE",
        "outputId": "cabcb600-2887-468a-db83-6e664435a14f"
      },
      "execution_count": 43,
      "outputs": [
        {
          "output_type": "execute_result",
          "data": {
            "text/plain": [
              "torch.Size([32, 32, 3])"
            ]
          },
          "metadata": {},
          "execution_count": 43
        }
      ]
    },
    {
      "cell_type": "code",
      "source": [
        "plt.imshow(image), label\n"
      ],
      "metadata": {
        "colab": {
          "base_uri": "https://localhost:8080/",
          "height": 284
        },
        "id": "_39ia71e5EB0",
        "outputId": "db758110-2b1b-4b5f-aa14-e4a82f2c5447"
      },
      "execution_count": 45,
      "outputs": [
        {
          "output_type": "execute_result",
          "data": {
            "text/plain": [
              "(<matplotlib.image.AxesImage at 0x7f83c120bb50>, 3)"
            ]
          },
          "metadata": {},
          "execution_count": 45
        },
        {
          "output_type": "display_data",
          "data": {
            "text/plain": [
              "<Figure size 432x288 with 1 Axes>"
            ],
            "image/png": "[encoded data removed]"
          },
          "metadata": {
            "needs_background": "light"
          }
        }
      ]
    },
    {
      "cell_type": "code",
      "source": [
        "help(image.view)"
      ],
      "metadata": {
        "colab": {
          "base_uri": "https://localhost:8080/"
        },
        "id": "XbWos81k5O4n",
        "outputId": "9fd36df0-e1be-4414-89bf-6535a68f8eb5"
      },
      "execution_count": 39,
      "outputs": [
        {
          "output_type": "stream",
          "name": "stdout",
          "text": [
            "Help on built-in function view:\n",
            "\n",
            "view(...) method of torch.Tensor instance\n",
            "    view(*shape) -> Tensor\n",
            "    \n",
            "    Returns a new tensor with the same data as the :attr:`self` tensor but of a\n",
            "    different :attr:`shape`.\n",
            "    \n",
            "    The returned tensor shares the same data and must have the same number\n",
            "    of elements, but may have a different size. For a tensor to be viewed, the new\n",
            "    view size must be compatible with its original size and stride, i.e., each new\n",
            "    view dimension must either be a subspace of an original dimension, or only span\n",
            "    across original dimensions :math:`d, d+1, \\dots, d+k` that satisfy the following\n",
            "    contiguity-like condition that :math:`\\forall i = d, \\dots, d+k-1`,\n",
            "    \n",
            "    .. math::\n",
            "    \n",
            "      \\text{stride}[i] = \\text{stride}[i+1] \\times \\text{size}[i+1]\n",
            "    \n",
            "    Otherwise, it will not be possible to view :attr:`self` tensor as :attr:`shape`\n",
            "    without copying it (e.g., via :meth:`contiguous`). When it is unclear whether a\n",
            "    :meth:`view` can be performed, it is advisable to use :meth:`reshape`, which\n",
            "    returns a view if the shapes are compatible, and copies (equivalent to calling\n",
            "    :meth:`contiguous`) otherwise.\n",
            "    \n",
            "    Args:\n",
            "        shape (torch.Size or int...): the desired size\n",
            "    \n",
            "    Example::\n",
            "    \n",
            "        >>> x = torch.randn(4, 4)\n",
            "        >>> x.size()\n",
            "        torch.Size([4, 4])\n",
            "        >>> y = x.view(16)\n",
            "        >>> y.size()\n",
            "        torch.Size([16])\n",
            "        >>> z = x.view(-1, 8)  # the size -1 is inferred from other dimensions\n",
            "        >>> z.size()\n",
            "        torch.Size([2, 8])\n",
            "    \n",
            "        >>> a = torch.randn(1, 2, 3, 4)\n",
            "        >>> a.size()\n",
            "        torch.Size([1, 2, 3, 4])\n",
            "        >>> b = a.transpose(1, 2)  # Swaps 2nd and 3rd dimension\n",
            "        >>> b.size()\n",
            "        torch.Size([1, 3, 2, 4])\n",
            "        >>> c = a.view(1, 3, 2, 4)  # Does not change tensor layout in memory\n",
            "        >>> c.size()\n",
            "        torch.Size([1, 3, 2, 4])\n",
            "        >>> torch.equal(b, c)\n",
            "        False\n",
            "    \n",
            "    \n",
            "    .. method:: view(dtype) -> Tensor\n",
            "       :noindex:\n",
            "    \n",
            "    Returns a new tensor with the same data as the :attr:`self` tensor but of a\n",
            "    different :attr:`dtype`.\n",
            "    \n",
            "    If the element size of :attr:`dtype` is different than that of ``self.dtype``,\n",
            "    then the size of the last dimension of the output will be scaled\n",
            "    proportionally.  For instance, if :attr:`dtype` element size is twice that of\n",
            "    ``self.dtype``, then each pair of elements in the last dimension of\n",
            "    :attr:`self` will be combined, and the size of the last dimension of the output\n",
            "    will be half that of :attr:`self`. If :attr:`dtype` element size is half that\n",
            "    of ``self.dtype``, then each element in the last dimension of :attr:`self` will\n",
            "    be split in two, and the size of the last dimension of the output will be\n",
            "    double that of :attr:`self`. For this to be possible, the following conditions\n",
            "    must be true:\n",
            "    \n",
            "        * ``self.dim()`` must be greater than 0.\n",
            "        * ``self.stride(-1)`` must be 1.\n",
            "    \n",
            "    Additionally, if the element size of :attr:`dtype` is greater than that of\n",
            "    ``self.dtype``, the following conditions must be true as well:\n",
            "    \n",
            "        * ``self.size(-1)`` must be divisible by the ratio between the element\n",
            "          sizes of the dtypes.\n",
            "        * ``self.storage_offset()`` must be divisible by the ratio between the\n",
            "          element sizes of the dtypes.\n",
            "        * The strides of all dimensions, except the last dimension, must be\n",
            "          divisible by the ratio between the element sizes of the dtypes.\n",
            "    \n",
            "    If any of the above conditions are not met, an error is thrown.\n",
            "    \n",
            "    .. warning::\n",
            "    \n",
            "        This overload is not supported by TorchScript, and using it in a Torchscript\n",
            "        program will cause undefined behavior.\n",
            "    \n",
            "    \n",
            "    Args:\n",
            "        dtype (:class:`torch.dtype`): the desired dtype\n",
            "    \n",
            "    Example::\n",
            "    \n",
            "        >>> x = torch.randn(4, 4)\n",
            "        >>> x\n",
            "        tensor([[ 0.9482, -0.0310,  1.4999, -0.5316],\n",
            "                [-0.1520,  0.7472,  0.5617, -0.8649],\n",
            "                [-2.4724, -0.0334, -0.2976, -0.8499],\n",
            "                [-0.2109,  1.9913, -0.9607, -0.6123]])\n",
            "        >>> x.dtype\n",
            "        torch.float32\n",
            "    \n",
            "        >>> y = x.view(torch.int32)\n",
            "        >>> y\n",
            "        tensor([[ 1064483442, -1124191867,  1069546515, -1089989247],\n",
            "                [-1105482831,  1061112040,  1057999968, -1084397505],\n",
            "                [-1071760287, -1123489973, -1097310419, -1084649136],\n",
            "                [-1101533110,  1073668768, -1082790149, -1088634448]],\n",
            "            dtype=torch.int32)\n",
            "        >>> y[0, 0] = 1000000000\n",
            "        >>> x\n",
            "        tensor([[ 0.0047, -0.0310,  1.4999, -0.5316],\n",
            "                [-0.1520,  0.7472,  0.5617, -0.8649],\n",
            "                [-2.4724, -0.0334, -0.2976, -0.8499],\n",
            "                [-0.2109,  1.9913, -0.9607, -0.6123]])\n",
            "    \n",
            "        >>> x.view(torch.cfloat)\n",
            "        tensor([[ 0.0047-0.0310j,  1.4999-0.5316j],\n",
            "                [-0.1520+0.7472j,  0.5617-0.8649j],\n",
            "                [-2.4724-0.0334j, -0.2976-0.8499j],\n",
            "                [-0.2109+1.9913j, -0.9607-0.6123j]])\n",
            "        >>> x.view(torch.cfloat).size()\n",
            "        torch.Size([4, 2])\n",
            "    \n",
            "        >>> x.view(torch.uint8)\n",
            "        tensor([[  0, 202, 154,  59, 182, 243, 253, 188, 185, 252, 191,  63, 240,  22,\n",
            "                   8, 191],\n",
            "                [227, 165,  27, 190, 128,  72,  63,  63, 146, 203,  15,  63,  22, 106,\n",
            "                  93, 191],\n",
            "                [205,  59,  30, 192, 112, 206,   8, 189,   7,  95, 152, 190,  12, 147,\n",
            "                  89, 191],\n",
            "                [ 43, 246,  87, 190, 235, 226, 254,  63, 111, 240, 117, 191, 177, 191,\n",
            "                  28, 191]], dtype=torch.uint8)\n",
            "        >>> x.view(torch.uint8).size()\n",
            "        torch.Size([4, 16])\n",
            "\n"
          ]
        }
      ]
    },
    {
      "cell_type": "code",
      "source": [],
      "metadata": {
        "id": "jQcthciw5oDr"
      },
      "execution_count": null,
      "outputs": []
    }
  ]
}