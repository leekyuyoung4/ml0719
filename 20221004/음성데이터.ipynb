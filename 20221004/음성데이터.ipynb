{
 "cells": [
  {
   "cell_type": "code",
   "execution_count": 5,
   "id": "6b3a4f0c",
   "metadata": {},
   "outputs": [],
   "source": [
    "import os\n",
    "import pathlib\n",
    "import urllib\n",
    "import matplotlib.pyplot as plt\n",
    "import seaborn as sns\n",
    "import pandas as pd\n",
    "import numpy as np\n",
    "import tensorflow as tf\n",
    "from tensorflow.keras import layers\n",
    "from tensorflow.keras import models\n",
    "from IPython import display\n",
    "\n",
    "seed = 42\n",
    "tf.random.set_seed(seed)\n",
    "np.random.seed(seed)"
   ]
  },
  {
   "cell_type": "code",
   "execution_count": 4,
   "id": "0f2bcc15",
   "metadata": {},
   "outputs": [
    {
     "name": "stdout",
     "output_type": "stream",
     "text": [
      "Downloading data from http://storage.googleapis.com/download.tensorflow.org/data/mini_speech_commands.zip\n",
      "182082353/182082353 [==============================] - 2s 0us/step\n"
     ]
    },
    {
     "data": {
      "text/plain": [
       "'.\\\\data\\\\speech.zip'"
      ]
     },
     "execution_count": 4,
     "metadata": {},
     "output_type": "execute_result"
    }
   ],
   "source": [
    "tf.keras.utils.get_file(\n",
    "    'speech.zip',\n",
    "    origin='http://storage.googleapis.com/download.tensorflow.org/data/mini_speech_commands.zip',\n",
    "    extract=True,\n",
    "    cache_dir='.', cache_subdir='data'\n",
    ")"
   ]
  },
  {
   "cell_type": "code",
   "execution_count": 12,
   "id": "18e08f0c",
   "metadata": {},
   "outputs": [],
   "source": [
    "class_names = os.listdir('D:\\leeky_ai\\data\\mini_speech_commands')\n",
    "# class_names != 'README.md'\n",
    "class_names = [w for w in class_names if w != 'README.md']"
   ]
  },
  {
   "cell_type": "code",
   "execution_count": 13,
   "id": "5cddcc32",
   "metadata": {},
   "outputs": [
    {
     "data": {
      "text/plain": [
       "['down', 'go', 'left', 'no', 'right', 'stop', 'up', 'yes']"
      ]
     },
     "execution_count": 13,
     "metadata": {},
     "output_type": "execute_result"
    }
   ],
   "source": [
    "class_names"
   ]
  },
  {
   "cell_type": "code",
   "execution_count": 15,
   "id": "b6adca66",
   "metadata": {},
   "outputs": [],
   "source": [
    "import glob"
   ]
  },
  {
   "cell_type": "code",
   "execution_count": 19,
   "id": "469265d9",
   "metadata": {},
   "outputs": [
    {
     "data": {
      "text/plain": [
       "WindowsPath('D:/leeky_ai/data/mini_speech_commands')"
      ]
     },
     "execution_count": 19,
     "metadata": {},
     "output_type": "execute_result"
    }
   ],
   "source": [
    "pathlib.Path('D:\\leeky_ai\\data\\mini_speech_commands')"
   ]
  },
  {
   "cell_type": "code",
   "execution_count": 23,
   "id": "d650ef20",
   "metadata": {},
   "outputs": [],
   "source": [
    "filenames = glob.glob('D:\\leeky_ai\\data\\mini_speech_commands'+'/*/*')"
   ]
  },
  {
   "cell_type": "code",
   "execution_count": 25,
   "id": "e672f467",
   "metadata": {},
   "outputs": [
    {
     "data": {
      "text/plain": [
       "['D:\\\\leeky_ai\\\\data\\\\mini_speech_commands\\\\yes\\\\fd395b74_nohash_1.wav',\n",
       " 'D:\\\\leeky_ai\\\\data\\\\mini_speech_commands\\\\yes\\\\fd395b74_nohash_2.wav',\n",
       " 'D:\\\\leeky_ai\\\\data\\\\mini_speech_commands\\\\yes\\\\fd395b74_nohash_3.wav',\n",
       " 'D:\\\\leeky_ai\\\\data\\\\mini_speech_commands\\\\yes\\\\fde2dee7_nohash_0.wav',\n",
       " 'D:\\\\leeky_ai\\\\data\\\\mini_speech_commands\\\\yes\\\\fde2dee7_nohash_1.wav',\n",
       " 'D:\\\\leeky_ai\\\\data\\\\mini_speech_commands\\\\yes\\\\fe1916ba_nohash_1.wav',\n",
       " 'D:\\\\leeky_ai\\\\data\\\\mini_speech_commands\\\\yes\\\\fe5c4a7a_nohash_0.wav',\n",
       " 'D:\\\\leeky_ai\\\\data\\\\mini_speech_commands\\\\yes\\\\ff21fb59_nohash_0.wav',\n",
       " 'D:\\\\leeky_ai\\\\data\\\\mini_speech_commands\\\\yes\\\\ffd2ba2f_nohash_0.wav',\n",
       " 'D:\\\\leeky_ai\\\\data\\\\mini_speech_commands\\\\yes\\\\ffd2ba2f_nohash_2.wav']"
      ]
     },
     "execution_count": 25,
     "metadata": {},
     "output_type": "execute_result"
    }
   ],
   "source": [
    "filenames[-10:]"
   ]
  },
  {
   "cell_type": "code",
   "execution_count": null,
   "id": "b9484a32",
   "metadata": {},
   "outputs": [],
   "source": [
    "# shuffle"
   ]
  }
 ],
 "metadata": {
  "kernelspec": {
   "display_name": "Python 3 (ipykernel)",
   "language": "python",
   "name": "python3"
  },
  "language_info": {
   "codemirror_mode": {
    "name": "ipython",
    "version": 3
   },
   "file_extension": ".py",
   "mimetype": "text/x-python",
   "name": "python",
   "nbconvert_exporter": "python",
   "pygments_lexer": "ipython3",
   "version": "3.9.12"
  }
 },
 "nbformat": 4,
 "nbformat_minor": 5
}
