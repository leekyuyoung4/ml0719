{
  "nbformat": 4,
  "nbformat_minor": 0,
  "metadata": {
    "colab": {
      "provenance": [],
      "collapsed_sections": []
    },
    "kernelspec": {
      "name": "python3",
      "display_name": "Python 3"
    },
    "language_info": {
      "name": "python"
    },
    "accelerator": "GPU"
  },
  "cells": [
    {
      "cell_type": "code",
      "execution_count": 1,
      "metadata": {
        "id": "70qeu3k5RzeV"
      },
      "outputs": [],
      "source": [
        "# 축구를 잘하는 사람이 족구도 잘한다.\n",
        "# 요리를 잘하는 사람이 라면도 잘 끓인다\n",
        "# 파이썬을 공부한 사람은 다른 언어를 잘 할 가능성이 많다."
      ]
    },
    {
      "cell_type": "code",
      "source": [
        "# 딥러닝에도 적용\n",
        "# 자연영상으로 학습한 신경망을 새나 개의 종을 분류하거나 자율주행에서 차선과 보행자 인식하는사용"
      ],
      "metadata": {
        "id": "4k2mCl3ESDts"
      },
      "execution_count": 2,
      "outputs": []
    },
    {
      "cell_type": "code",
      "source": [
        "# 어떤 도메인의 데이터로 학습한 모델을 다른 도메인의 데이터를 인식하는데 활용해서 성능 향상을 도모하는 기법\n",
        "# cub200-2011 : 200종의 새 영상을 가지는데 부류별로 60장 밖에 안되서 과잉적합우려\n",
        "# ImageNet으로 예비학습된 모델을 cub200-2011로 전이하는 전이학습"
      ],
      "metadata": {
        "id": "cgE74WBKSOZb"
      },
      "execution_count": 3,
      "outputs": []
    },
    {
      "cell_type": "code",
      "source": [
        "#ImageNet으로 학습된 ResNet50을 cub 데이터셋으로 전이 학습\n",
        "import numpy as np\n",
        "import tensorflow as tf\n",
        "from tensorflow.keras.models import Sequential\n",
        "from tensorflow.keras.layers import Flatten,Dense\n",
        "from tensorflow.keras.optimizers import Adam\n",
        "from tensorflow.keras.applications.resnet50 import ResNet50,preprocess_input\n",
        "from tensorflow.keras.preprocessing import image\n",
        "import os"
      ],
      "metadata": {
        "id": "ENGQacRFT71D"
      },
      "execution_count": 46,
      "outputs": []
    },
    {
      "cell_type": "code",
      "source": [
        "import zipfile\n",
        "zippath = \"/content/drive/MyDrive/CUB200/CUB200.zip\"\n",
        "zip_ref = zipfile.ZipFile(zippath,'r')\n",
        "zip_ref.extractall('/content/drive/MyDrive/CUB200')  \n",
        "zip_ref.close()\n",
        "# !unzip -qq \"/content/drive/MyDrive/CUB200/CUB200.zip\""
      ],
      "metadata": {
        "id": "EBbRVXLfWrDE"
      },
      "execution_count": 48,
      "outputs": []
    },
    {
      "cell_type": "code",
      "source": [
        "class_reduce = 0.1\n",
        "train_folder = \"/content/drive/MyDrive/CUB200/train\"\n",
        "test_folder = \"/content/drive/MyDrive/CUB200/test\""
      ],
      "metadata": {
        "id": "uDUiF7-ZXQrT"
      },
      "execution_count": 49,
      "outputs": []
    },
    {
      "cell_type": "code",
      "source": [
        "# 정답의 라벨수(부류의 갯수)\n",
        "no_class = int(len(os.listdir(test_folder))*class_reduce)"
      ],
      "metadata": {
        "id": "JgGlQ6TOYeEC"
      },
      "execution_count": 50,
      "outputs": []
    },
    {
      "cell_type": "code",
      "source": [
        "import glob\n",
        "# 현재경로 뿐만 아니라 특정경로의 디렉터리명이나 확장자를 지정하면 해당 파일만\n",
        "# 가져오는데 절대경로로 가져온다.\n",
        "glob.glob(train_folder+\"/*\")"
      ],
      "metadata": {
        "id": "kkCHKRFKZ-kT"
      },
      "execution_count": null,
      "outputs": []
    },
    {
      "cell_type": "code",
      "source": [
        "def convertXYData(foldername):\n",
        "  x_train,y_train = [],[]\n",
        "  for i, class_name in  enumerate(os.listdir(foldername)):        \n",
        "    if i < no_class:      \n",
        "      for fname in os.listdir(foldername+'/'+class_name):        \n",
        "        img = image.load_img(foldername+'/'+class_name+'/'+fname,target_size=(224,224) )        \n",
        "        if len(img.getbands()) != 3:\n",
        "          print(f\"유효하지 않은 영상발생 {class_name} {fname}\")\n",
        "          continue\n",
        "        x = image.img_to_array(img)\n",
        "        x = preprocess_input(x)\n",
        "        x_train.append(x)\n",
        "        y_train.append(i)\n",
        "  return (x_train,y_train)"
      ],
      "metadata": {
        "id": "LuhBWU6bZDXS"
      },
      "execution_count": 53,
      "outputs": []
    },
    {
      "cell_type": "code",
      "source": [
        "x_train,y_train = convertXYData(train_folder)"
      ],
      "metadata": {
        "id": "UBy33-fkZcQ7"
      },
      "execution_count": null,
      "outputs": []
    },
    {
      "cell_type": "code",
      "source": [
        "x_test,y_test = convertXYData(test_folder)"
      ],
      "metadata": {
        "id": "27U6-OYbfBUh"
      },
      "execution_count": 54,
      "outputs": []
    },
    {
      "cell_type": "code",
      "source": [
        "np.array(x_train).shape, np.array(x_test).shape"
      ],
      "metadata": {
        "colab": {
          "base_uri": "https://localhost:8080/"
        },
        "id": "zMG7qsf-gEmh",
        "outputId": "c15666ec-8742-4d51-c06f-6a703c7cae89"
      },
      "execution_count": 56,
      "outputs": [
        {
          "output_type": "execute_result",
          "data": {
            "text/plain": [
              "((600, 224, 224, 3), (515, 224, 224, 3))"
            ]
          },
          "metadata": {},
          "execution_count": 56
        }
      ]
    },
    {
      "cell_type": "code",
      "source": [
        "np.array(y_train).shape, np.array(y_test).shape"
      ],
      "metadata": {
        "colab": {
          "base_uri": "https://localhost:8080/"
        },
        "id": "aEudeuEDgaKx",
        "outputId": "87cd79d1-fd71-4185-9d2d-c058a45cedc4"
      },
      "execution_count": 57,
      "outputs": [
        {
          "output_type": "execute_result",
          "data": {
            "text/plain": [
              "((600,), (515,))"
            ]
          },
          "metadata": {},
          "execution_count": 57
        }
      ]
    },
    {
      "cell_type": "code",
      "source": [
        "x_train = np.asarray(x_train)\n",
        "y_train = np.asarray(y_train)\n",
        "x_test =  np.asarray(x_test)\n",
        "y_test = np.asarray(y_test)"
      ],
      "metadata": {
        "id": "QC9br96imTA5"
      },
      "execution_count": 60,
      "outputs": []
    },
    {
      "cell_type": "code",
      "source": [
        "y_train = tf.keras.utils.to_categorical(y_train,no_class)\n",
        "y_test = tf.keras.utils.to_categorical(y_test,no_class)"
      ],
      "metadata": {
        "id": "ot1LzGFNmsSR"
      },
      "execution_count": 64,
      "outputs": []
    },
    {
      "cell_type": "code",
      "source": [
        "# help(ResNet50)\n",
        "base_model = ResNet50(weights='imagenet',input_shape=(224, 224, 3), include_top = False)"
      ],
      "metadata": {
        "colab": {
          "base_uri": "https://localhost:8080/"
        },
        "id": "oEiIYXY1nNXL",
        "outputId": "70597123-7257-44e4-9fd6-0dcc3f8b1163"
      },
      "execution_count": 67,
      "outputs": [
        {
          "output_type": "stream",
          "name": "stdout",
          "text": [
            "Downloading data from https://storage.googleapis.com/tensorflow/keras-applications/resnet/resnet50_weights_tf_dim_ordering_tf_kernels_notop.h5\n",
            "94773248/94765736 [==============================] - 0s 0us/step\n",
            "94781440/94765736 [==============================] - 0s 0us/step\n"
          ]
        }
      ]
    },
    {
      "cell_type": "code",
      "source": [
        "######################  메인 알고리즘... #############\n",
        "cnn = Sequential()\n",
        "cnn.add(base_model)\n",
        "### 끝\n",
        "## 분류를 하기위해서 FC\n",
        "cnn.add(Flatten())\n",
        "cnn.add(Dense(1024, activation='relu'))\n",
        "cnn.add(Dense(no_class,activation='softmax'))"
      ],
      "metadata": {
        "id": "Olxhp0NOnTyZ"
      },
      "execution_count": 69,
      "outputs": []
    },
    {
      "cell_type": "code",
      "source": [],
      "metadata": {
        "id": "WLGAcm2PoiO4"
      },
      "execution_count": null,
      "outputs": []
    }
  ]
}