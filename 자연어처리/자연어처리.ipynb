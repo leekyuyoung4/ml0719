{
  "nbformat": 4,
  "nbformat_minor": 0,
  "metadata": {
    "colab": {
      "provenance": [],
      "collapsed_sections": []
    },
    "kernelspec": {
      "name": "python3",
      "display_name": "Python 3"
    },
    "language_info": {
      "name": "python"
    },
    "accelerator": "GPU"
  },
  "cells": [
    {
      "cell_type": "code",
      "execution_count": 19,
      "metadata": {
        "id": "hU0xJX767ILF"
      },
      "outputs": [],
      "source": [
        "from tensorflow.keras.datasets import imdb\n",
        "from tensorflow.keras.models import Sequential\n",
        "from tensorflow.keras.layers import Dense,Flatten,Embedding\n",
        "from tensorflow.keras import preprocessing"
      ]
    },
    {
      "cell_type": "code",
      "source": [
        "dic_siz=10000 # 사전의 크기(사전에 있는 단어 개수)\n",
        "sample_siz=512 # 샘플의 크기\n",
        "(x_train,y_train),(x_test,y_test) =  imdb.load_data(num_words=dic_siz)\n",
        "# 단어를 숫자, 숫자를 단어로 변환하는데 쓰는 표(표는 딕셔너리로 구현)\n",
        "word2id = imdb.get_word_index()\n",
        "id2word = {word:id for id,word in word2id.items()}"
      ],
      "metadata": {
        "id": "IXjkA5Y37MKM"
      },
      "execution_count": 20,
      "outputs": []
    },
    {
      "cell_type": "code",
      "source": [
        "for i in range(1,21):\n",
        "    print(id2word[i],end='/')"
      ],
      "metadata": {
        "colab": {
          "base_uri": "https://localhost:8080/"
        },
        "id": "yb2ZzANz7SUV",
        "outputId": "50dd026d-acb9-478c-bff8-97409605b027"
      },
      "execution_count": 21,
      "outputs": [
        {
          "output_type": "stream",
          "name": "stdout",
          "text": [
            "the/and/a/of/to/is/br/in/it/i/this/that/was/as/for/with/movie/but/film/on/"
          ]
        }
      ]
    },
    {
      "cell_type": "code",
      "source": [
        "embed_space_dim = 16 # 16차원의 임베딩 공간\n",
        "x_train = preprocessing.sequence.pad_sequences(x_train,maxlen=sample_siz)\n",
        "x_test = preprocessing.sequence.pad_sequences(x_test,maxlen=sample_siz)  # sample_size 셈플의 크기 고정\n",
        "# 512보다 작은 샘플은 pad_sequence함수가 특수 문자로 채움"
      ],
      "metadata": {
        "id": "QEELtb4T7WXE"
      },
      "execution_count": 22,
      "outputs": []
    },
    {
      "cell_type": "code",
      "source": [
        "# 신경망 설계 및 학습\n",
        "import tensorflow as tf\n",
        "embed=Sequential()\n",
        "embed.add(Embedding(input_dim=dic_siz,output_dim=embed_space_dim,input_length=sample_siz))\n",
        "embed.add(Flatten())\n",
        "embed.add(Dense(32,activation='relu'))\n",
        "embed.add(Dense(1,activation='sigmoid'))\n",
        "embed.compile(loss='binary_crossentropy',optimizer='Adam',metrics=['accuracy'])\n",
        "hist=embed.fit(x_train,y_train,epochs=20,batch_size=64,validation_data=(x_test,y_test),verbose=2)"
      ],
      "metadata": {
        "colab": {
          "base_uri": "https://localhost:8080/"
        },
        "id": "C_q0Y-m77frc",
        "outputId": "0417c8f1-dc5a-4477-c1f3-745692be55e5"
      },
      "execution_count": 23,
      "outputs": [
        {
          "output_type": "stream",
          "name": "stdout",
          "text": [
            "Epoch 1/20\n",
            "391/391 - 4s - loss: 0.4523 - accuracy: 0.7562 - val_loss: 0.2847 - val_accuracy: 0.8782 - 4s/epoch - 9ms/step\n",
            "Epoch 2/20\n",
            "391/391 - 2s - loss: 0.1745 - accuracy: 0.9357 - val_loss: 0.3371 - val_accuracy: 0.8604 - 2s/epoch - 5ms/step\n",
            "Epoch 3/20\n",
            "391/391 - 2s - loss: 0.0659 - accuracy: 0.9825 - val_loss: 0.3725 - val_accuracy: 0.8681 - 2s/epoch - 5ms/step\n",
            "Epoch 4/20\n",
            "391/391 - 3s - loss: 0.0189 - accuracy: 0.9970 - val_loss: 0.4347 - val_accuracy: 0.8652 - 3s/epoch - 6ms/step\n",
            "Epoch 5/20\n",
            "391/391 - 3s - loss: 0.0056 - accuracy: 0.9993 - val_loss: 0.4920 - val_accuracy: 0.8638 - 3s/epoch - 7ms/step\n",
            "Epoch 6/20\n",
            "391/391 - 3s - loss: 0.0018 - accuracy: 0.9999 - val_loss: 0.5278 - val_accuracy: 0.8658 - 3s/epoch - 7ms/step\n",
            "Epoch 7/20\n",
            "391/391 - 2s - loss: 8.3031e-04 - accuracy: 1.0000 - val_loss: 0.5556 - val_accuracy: 0.8666 - 2s/epoch - 5ms/step\n",
            "Epoch 8/20\n",
            "391/391 - 2s - loss: 5.2210e-04 - accuracy: 1.0000 - val_loss: 0.5796 - val_accuracy: 0.8663 - 2s/epoch - 5ms/step\n",
            "Epoch 9/20\n",
            "391/391 - 3s - loss: 3.4869e-04 - accuracy: 1.0000 - val_loss: 0.6019 - val_accuracy: 0.8670 - 3s/epoch - 6ms/step\n",
            "Epoch 10/20\n",
            "391/391 - 3s - loss: 2.4482e-04 - accuracy: 1.0000 - val_loss: 0.6209 - val_accuracy: 0.8662 - 3s/epoch - 6ms/step\n",
            "Epoch 11/20\n",
            "391/391 - 2s - loss: 1.7779e-04 - accuracy: 1.0000 - val_loss: 0.6395 - val_accuracy: 0.8668 - 2s/epoch - 5ms/step\n",
            "Epoch 12/20\n",
            "391/391 - 2s - loss: 1.3040e-04 - accuracy: 1.0000 - val_loss: 0.6577 - val_accuracy: 0.8668 - 2s/epoch - 5ms/step\n",
            "Epoch 13/20\n",
            "391/391 - 2s - loss: 9.8169e-05 - accuracy: 1.0000 - val_loss: 0.6768 - val_accuracy: 0.8674 - 2s/epoch - 5ms/step\n",
            "Epoch 14/20\n",
            "391/391 - 3s - loss: 7.4006e-05 - accuracy: 1.0000 - val_loss: 0.6912 - val_accuracy: 0.8670 - 3s/epoch - 6ms/step\n",
            "Epoch 15/20\n",
            "391/391 - 2s - loss: 5.6672e-05 - accuracy: 1.0000 - val_loss: 0.7078 - val_accuracy: 0.8668 - 2s/epoch - 5ms/step\n",
            "Epoch 16/20\n",
            "391/391 - 2s - loss: 4.3562e-05 - accuracy: 1.0000 - val_loss: 0.7233 - val_accuracy: 0.8668 - 2s/epoch - 6ms/step\n",
            "Epoch 17/20\n",
            "391/391 - 3s - loss: 3.3809e-05 - accuracy: 1.0000 - val_loss: 0.7385 - val_accuracy: 0.8670 - 3s/epoch - 6ms/step\n",
            "Epoch 18/20\n",
            "391/391 - 3s - loss: 2.6627e-05 - accuracy: 1.0000 - val_loss: 0.7535 - val_accuracy: 0.8670 - 3s/epoch - 6ms/step\n",
            "Epoch 19/20\n",
            "391/391 - 2s - loss: 2.0766e-05 - accuracy: 1.0000 - val_loss: 0.7683 - val_accuracy: 0.8671 - 2s/epoch - 5ms/step\n",
            "Epoch 20/20\n",
            "391/391 - 3s - loss: 1.6242e-05 - accuracy: 1.0000 - val_loss: 0.7831 - val_accuracy: 0.8670 - 3s/epoch - 6ms/step\n"
          ]
        }
      ]
    },
    {
      "cell_type": "code",
      "source": [
        "embed.summary()  "
      ],
      "metadata": {
        "colab": {
          "base_uri": "https://localhost:8080/"
        },
        "id": "XNWhjr4-7lb0",
        "outputId": "2f5555ea-990d-4adf-969e-72bcb90625da"
      },
      "execution_count": 24,
      "outputs": [
        {
          "output_type": "stream",
          "name": "stdout",
          "text": [
            "Model: \"sequential_2\"\n",
            "_________________________________________________________________\n",
            " Layer (type)                Output Shape              Param #   \n",
            "=================================================================\n",
            " embedding_2 (Embedding)     (None, 512, 16)           160000    \n",
            "                                                                 \n",
            " flatten_2 (Flatten)         (None, 8192)              0         \n",
            "                                                                 \n",
            " dense_4 (Dense)             (None, 32)                262176    \n",
            "                                                                 \n",
            " dense_5 (Dense)             (None, 1)                 33        \n",
            "                                                                 \n",
            "=================================================================\n",
            "Total params: 422,209\n",
            "Trainable params: 422,209\n",
            "Non-trainable params: 0\n",
            "_________________________________________________________________\n"
          ]
        }
      ]
    },
    {
      "cell_type": "code",
      "source": [
        "# 모델 평가\n",
        "res = embed.evaluate(x_test, y_test, verbose=0)\n",
        "res"
      ],
      "metadata": {
        "colab": {
          "base_uri": "https://localhost:8080/"
        },
        "id": "z0WjHjDs8fBe",
        "outputId": "4fc007df-09e0-4e84-b2a0-a4a1654f4975"
      },
      "execution_count": 25,
      "outputs": [
        {
          "output_type": "execute_result",
          "data": {
            "text/plain": [
              "[0.7831102609634399, 0.8669599890708923]"
            ]
          },
          "metadata": {},
          "execution_count": 25
        }
      ]
    },
    {
      "cell_type": "code",
      "source": [
        "import matplotlib.pyplot as plt"
      ],
      "metadata": {
        "id": "1arZyWTM82QX"
      },
      "execution_count": 26,
      "outputs": []
    },
    {
      "cell_type": "code",
      "source": [
        "#학습곡선\n",
        "plt.plot(hist.history['accuracy'])\n",
        "plt.plot(hist.history['val_accuracy'])\n",
        "plt.legend(['Train','Validation'])\n",
        "plt.grid()\n",
        "plt.show()"
      ],
      "metadata": {
        "colab": {
          "base_uri": "https://localhost:8080/",
          "height": 265
        },
        "id": "_QkAwK4w86E9",
        "outputId": "145e07df-386c-4718-a64a-88db9f24663d"
      },
      "execution_count": 27,
      "outputs": [
        {
          "output_type": "display_data",
          "data": {
            "text/plain": [
              "<Figure size 432x288 with 1 Axes>"
            ],
            "image/png": "[encoded data removed]"
          },
          "metadata": {
            "needs_background": "light"
          }
        }
      ]
    },
    {
      "cell_type": "code",
      "source": [
        "# 시계열 정보를 단어 임베딩을 이용해서 반영\n",
        "# 위에서 한건... 단어임베딩에 다층 퍼셉트론(신경망)을 적용. -> LSTM이용안함... -> 시계열 정보를 이용못함\n",
        "# 에포크가 2.5를 조금 넘어서면서부터 거의 개선사하이 없음.. -> 조기종료\n",
        "# 조기종료 : 훈련집합을 덜 수렴했어도. 검증집합에 대해  성능개선이 없으면 종료"
      ],
      "metadata": {
        "id": "Tfr1dEvo9IE0"
      },
      "execution_count": 28,
      "outputs": []
    },
    {
      "cell_type": "code",
      "source": [
        "from tensorflow.keras.layers import LSTM\n",
        "from tensorflow.keras.callbacks import EarlyStopping"
      ],
      "metadata": {
        "id": "Ucdjv8fGAUNX"
      },
      "execution_count": 29,
      "outputs": []
    },
    {
      "cell_type": "code",
      "source": [
        "from tensorflow.python.eager.context import monitoring\n",
        "# 조기종료 \n",
        "ealy = EarlyStopping(monitor='val_accuracy', patience=5,restore_best_weights=True)"
      ],
      "metadata": {
        "id": "jg5_DcV-AjR0"
      },
      "execution_count": 31,
      "outputs": []
    },
    {
      "cell_type": "code",
      "source": [
        "from pickle import UNICODE\n",
        "# 신경망 모델 설계 및 학습(LSTM)\n",
        "embed = Sequential()\n",
        "embed.add(Embedding(input_dim=dic_size , output_dim=embed_space_dim, input_length=sample_siz))\n",
        "embed.add(LSTM(units=32))\n",
        "embed.add(Dense(1,activation='sigmoid'))\n",
        "embed.compile(loss=tf.keras.losses.binary_crossentropy, optimizer='Adam', metrics=['accuracy'])\n",
        "hist = embed.fit(x_train, y_train,epochs=20,batch_size=64,validation_split=0.2,verbose=2,callbacks=[ealy])"
      ],
      "metadata": {
        "colab": {
          "base_uri": "https://localhost:8080/"
        },
        "id": "hRYnRDM8A9qG",
        "outputId": "f8856204-fe5d-4e47-b9f7-e86b58958837"
      },
      "execution_count": 34,
      "outputs": [
        {
          "output_type": "stream",
          "name": "stdout",
          "text": [
            "Epoch 1/20\n",
            "313/313 - 10s - loss: 0.4509 - accuracy: 0.7754 - val_loss: 0.3040 - val_accuracy: 0.8750 - 10s/epoch - 33ms/step\n",
            "Epoch 2/20\n",
            "313/313 - 7s - loss: 0.2341 - accuracy: 0.9136 - val_loss: 0.2936 - val_accuracy: 0.8812 - 7s/epoch - 21ms/step\n",
            "Epoch 3/20\n",
            "313/313 - 6s - loss: 0.1756 - accuracy: 0.9387 - val_loss: 0.3324 - val_accuracy: 0.8738 - 6s/epoch - 18ms/step\n",
            "Epoch 4/20\n",
            "313/313 - 6s - loss: 0.1528 - accuracy: 0.9475 - val_loss: 0.3925 - val_accuracy: 0.8532 - 6s/epoch - 18ms/step\n",
            "Epoch 5/20\n",
            "313/313 - 6s - loss: 0.1325 - accuracy: 0.9535 - val_loss: 0.3422 - val_accuracy: 0.8780 - 6s/epoch - 18ms/step\n",
            "Epoch 6/20\n",
            "313/313 - 6s - loss: 0.1016 - accuracy: 0.9661 - val_loss: 0.4130 - val_accuracy: 0.8728 - 6s/epoch - 18ms/step\n",
            "Epoch 7/20\n",
            "313/313 - 6s - loss: 0.0707 - accuracy: 0.9793 - val_loss: 0.4636 - val_accuracy: 0.8700 - 6s/epoch - 18ms/step\n"
          ]
        }
      ]
    },
    {
      "cell_type": "code",
      "source": [
        "res = embed.evaluate(x_test,y_test,verbose=0)\n",
        "res"
      ],
      "metadata": {
        "colab": {
          "base_uri": "https://localhost:8080/"
        },
        "id": "x3Y51L19ClM2",
        "outputId": "50347bb2-3e96-4b4b-b747-3afbdbc188cd"
      },
      "execution_count": 35,
      "outputs": [
        {
          "output_type": "execute_result",
          "data": {
            "text/plain": [
              "[0.311742901802063, 0.8745599985122681]"
            ]
          },
          "metadata": {},
          "execution_count": 35
        }
      ]
    },
    {
      "cell_type": "code",
      "source": [
        "#학습곡선\n",
        "plt.plot(hist.history['accuracy'])\n",
        "plt.plot(hist.history['val_accuracy'])\n",
        "plt.legend(['Train','Validation'])\n",
        "plt.grid()\n",
        "plt.show()"
      ],
      "metadata": {
        "colab": {
          "base_uri": "https://localhost:8080/",
          "height": 265
        },
        "id": "7563giLiC8N_",
        "outputId": "b1eb9755-b3ed-4abd-85e7-a5afc9f8ffee"
      },
      "execution_count": 36,
      "outputs": [
        {
          "output_type": "display_data",
          "data": {
            "text/plain": [
              "<Figure size 432x288 with 1 Axes>"
            ],
            "image/png": "[encoded data removed]"
          },
          "metadata": {
            "needs_background": "light"
          }
        }
      ]
    },
    {
      "cell_type": "code",
      "source": [
        "# 문제점\n",
        "# 빈도수에 따라서 분류했음\n",
        "# 문장의 의미를 파악해서 분류 한건 아님"
      ],
      "metadata": {
        "id": "DsYfzHXDDZdQ"
      },
      "execution_count": 37,
      "outputs": []
    },
    {
      "cell_type": "code",
      "source": [
        "# 문장의 의미를 가지고 해당 문장이 긍정이다 부정이다 판단하는 알고리즘\n",
        "# workd2vec(구글) \n",
        "# - 1000억개 가량의 뉴스데이터를 가지고 학습 300만개 가량의데이터를 300차원공간에 표현\n",
        "\n",
        "#GloVe(스텐퍼드 대학)\n",
        "# 위키피디아 문서 데이터를 사용  40만개  50, 100, 200, 300 차원 공안에 표현"
      ],
      "metadata": {
        "id": "YN7KcXYeDgh-"
      },
      "execution_count": 38,
      "outputs": []
    },
    {
      "cell_type": "code",
      "source": [],
      "metadata": {
        "id": "J1ml378BEKvG"
      },
      "execution_count": null,
      "outputs": []
    }
  ]
}