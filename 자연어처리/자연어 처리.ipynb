{
 "cells": [
  {
   "cell_type": "markdown",
   "id": "df63cd3f",
   "metadata": {},
   "source": [
    "### NLP (Natural language processing)\n",
    "#### 텍스트 데이터의 특징\n",
    "###### 심한잡음\n",
    "###### 형태소 분석 필요\n",
    "###### 구문론과 의미론\n",
    "###### 다양한 언어특성\n",
    "###### 신경망에 입력하려면 기호를 수치로 변환해야 함\n",
    "###### 원핫은 단어사이의 연관 관계를 반영못함 -> 임베딩"
   ]
  },
  {
   "cell_type": "code",
   "execution_count": 23,
   "id": "74c1dac9",
   "metadata": {},
   "outputs": [],
   "source": [
    "directory = 'D:/leeky_ai/data2/aclImdb/test/'"
   ]
  },
  {
   "cell_type": "code",
   "execution_count": 24,
   "id": "d398da56",
   "metadata": {},
   "outputs": [],
   "source": [
    "import os"
   ]
  },
  {
   "cell_type": "code",
   "execution_count": 28,
   "id": "3f1afd5f",
   "metadata": {},
   "outputs": [],
   "source": [
    "x,y = [],[]\n",
    "for name in ['neg','pos']:\n",
    "    curr = directory+name    \n",
    "    for filename in os.listdir(curr):\n",
    "        if filename[-4:] == '.txt':\n",
    "            with open(os.path.join(curr,filename),encoding='utf-8') as f:\n",
    "                x.append(f.read())\n",
    "                y.append(name)\n",
    "            "
   ]
  },
  {
   "cell_type": "code",
   "execution_count": 30,
   "id": "16455911",
   "metadata": {},
   "outputs": [
    {
     "data": {
      "text/plain": [
       "'neg'"
      ]
     },
     "execution_count": 30,
     "metadata": {},
     "output_type": "execute_result"
    }
   ],
   "source": [
    "y[0]"
   ]
  },
  {
   "cell_type": "markdown",
   "id": "f4445778",
   "metadata": {},
   "source": [
    "#### 텐서플로가 제공하는 IMDB - 쓰기 좋게 가공되어 있음"
   ]
  },
  {
   "cell_type": "code",
   "execution_count": 31,
   "id": "07c6ac6d",
   "metadata": {},
   "outputs": [],
   "source": [
    "from tensorflow.keras.datasets import imdb\n",
    "from tensorflow.keras.models import Sequential\n",
    "from tensorflow.keras.layers import Dense,Flatten,Embedding\n",
    "from tensorflow.keras import preprocessing"
   ]
  },
  {
   "cell_type": "code",
   "execution_count": 32,
   "id": "214ae797",
   "metadata": {},
   "outputs": [],
   "source": [
    "dic_size = 10000 #사전의 크기(사전에 있는 단어 개수)\n",
    "sample_size = 512 # 샘플의 크기"
   ]
  },
  {
   "cell_type": "code",
   "execution_count": 33,
   "id": "97b36b7e",
   "metadata": {},
   "outputs": [],
   "source": [
    "# tensorflow가 제공하는 간소한 버전의 IMDB 읽기"
   ]
  },
  {
   "cell_type": "code",
   "execution_count": 59,
   "id": "f2b9dde5",
   "metadata": {},
   "outputs": [],
   "source": [
    "(x_train,y_train),(x_test,y_test) =  imdb.load_data(num_words=dic_size)"
   ]
  },
  {
   "cell_type": "code",
   "execution_count": 35,
   "id": "1447e735",
   "metadata": {},
   "outputs": [
    {
     "name": "stdout",
     "output_type": "stream",
     "text": [
      "Downloading data from https://storage.googleapis.com/tensorflow/tf-keras-datasets/imdb_word_index.json\n",
      "1641221/1641221 [==============================] - 0s 0us/step\n"
     ]
    }
   ],
   "source": [
    "# 단어를 숫자, 숫자를 단어로 변환하는데 쓰는 표(표는 딕셔너리로 구현)\n",
    "word2id = imdb.get_word_index()\n",
    "id2word = {word:id for id,word in word2id.items()}"
   ]
  },
  {
   "cell_type": "code",
   "execution_count": 55,
   "id": "c2ff9148",
   "metadata": {},
   "outputs": [
    {
     "name": "stdout",
     "output_type": "stream",
     "text": [
      "the/and/a/of/to/is/br/in/it/i/this/that/was/as/for/with/movie/but/film/on/"
     ]
    }
   ],
   "source": [
    "# sorted(id2word.items(),reverse=True)\n",
    "# sorted(id2word.items())[:20]\n",
    "for i in range(1,21):\n",
    "    print(id2word[i],end='/')\n"
   ]
  },
  {
   "cell_type": "markdown",
   "id": "c04fa481",
   "metadata": {},
   "source": [
    "#### 단어 임베딩"
   ]
  },
  {
   "cell_type": "code",
   "execution_count": 61,
   "id": "e91385f3",
   "metadata": {},
   "outputs": [],
   "source": [
    "\n",
    "embed_space_dim = 16 # 16차원의 임베딩 공간\n",
    "x_train = preprocessing.sequence.pad_sequences(x_train,maxlen=sample_size)\n",
    "x_test = preprocessing.sequence.pad_sequences(x_test,maxlen=sample_size)  # sample_size 셈플의 크기 고정\n",
    "# 512보다 작은 샘플은 pad_sequence함수가 특수 문자로 채움"
   ]
  },
  {
   "cell_type": "code",
   "execution_count": 62,
   "id": "32990af8",
   "metadata": {},
   "outputs": [],
   "source": [
    "import tensorflow as tf"
   ]
  },
  {
   "cell_type": "markdown",
   "id": "b4fbfffe",
   "metadata": {},
   "source": [
    "#### 신경망 모델 설계 및 학습"
   ]
  },
  {
   "cell_type": "code",
   "execution_count": null,
   "id": "d1e8581b",
   "metadata": {},
   "outputs": [],
   "source": [
    "embed = Sequential()\n",
    "embed.add(Embedding(input_dim=dic_size, output_dim=embed_space_dim,input_length=sample_size))\n",
    "embed.add(Flatten())\n",
    "embed.add(Dense(32,activation='relu'))\n",
    "embed.add(Dense(1,activation='sigmoid'))\n",
    "embed.compile(loss=tf.keras.losses.categorical_crossentropy,optimizer='Adam',metrics=['accuracy'])\n",
    "hist = embed.fit(x_train,y_train,epochs=20,batch_siz)"
   ]
  }
 ],
 "metadata": {
  "kernelspec": {
   "display_name": "Python 3 (ipykernel)",
   "language": "python",
   "name": "python3"
  },
  "language_info": {
   "codemirror_mode": {
    "name": "ipython",
    "version": 3
   },
   "file_extension": ".py",
   "mimetype": "text/x-python",
   "name": "python",
   "nbconvert_exporter": "python",
   "pygments_lexer": "ipython3",
   "version": "3.9.12"
  }
 },
 "nbformat": 4,
 "nbformat_minor": 5
}
