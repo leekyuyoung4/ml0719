{
 "cells": [
  {
   "cell_type": "code",
   "execution_count": 2,
   "id": "e998e9cb",
   "metadata": {},
   "outputs": [
    {
     "name": "stdout",
     "output_type": "stream",
     "text": [
      "Requirement already satisfied: tensorflow_io in c:\\users\\user\\miniconda3\\envs\\ml\\lib\\site-packages (0.27.0)\n",
      "Requirement already satisfied: tensorflow-io-gcs-filesystem==0.27.0 in c:\\users\\user\\miniconda3\\envs\\ml\\lib\\site-packages (from tensorflow_io) (0.27.0)\n"
     ]
    }
   ],
   "source": [
    "!pip install tensorflow_io"
   ]
  },
  {
   "cell_type": "code",
   "execution_count": 3,
   "id": "89e1a541",
   "metadata": {},
   "outputs": [],
   "source": [
    "# 모델을 로드\n",
    "\n",
    "import os\n",
    "from IPython import display\n",
    "import matplotlib.pyplot as plt\n",
    "import numpy as np\n",
    "import pandas as pd\n",
    "import tensorflow as tf\n",
    "import tensorflow_io as tfio"
   ]
  },
  {
   "cell_type": "code",
   "execution_count": 4,
   "id": "2eecf3b6",
   "metadata": {},
   "outputs": [],
   "source": [
    "# 얌넷 : 오디오파형을 입력으로. AudioSet(단어들의 집합 - 말뭉치) 512개의 분류에대해 독립적으로 예측"
   ]
  },
  {
   "cell_type": "code",
   "execution_count": 5,
   "id": "0de13358",
   "metadata": {},
   "outputs": [],
   "source": [
    "# 16KHZ -1 ~ 1"
   ]
  },
  {
   "cell_type": "code",
   "execution_count": 6,
   "id": "e293dbb9",
   "metadata": {},
   "outputs": [
    {
     "name": "stdout",
     "output_type": "stream",
     "text": [
      "Collecting tensorflow-hub\n",
      "  Downloading tensorflow_hub-0.12.0-py2.py3-none-any.whl (108 kB)\n",
      "     -------------------------------------- 108.8/108.8 kB 3.2 MB/s eta 0:00:00\n",
      "Requirement already satisfied: protobuf>=3.8.0 in c:\\users\\user\\miniconda3\\envs\\ml\\lib\\site-packages (from tensorflow-hub) (3.19.4)\n",
      "Requirement already satisfied: numpy>=1.12.0 in c:\\users\\user\\miniconda3\\envs\\ml\\lib\\site-packages (from tensorflow-hub) (1.23.1)\n",
      "Installing collected packages: tensorflow-hub\n",
      "Successfully installed tensorflow-hub-0.12.0\n"
     ]
    }
   ],
   "source": [
    "!pip install --upgrade tensorflow-hub"
   ]
  },
  {
   "cell_type": "code",
   "execution_count": 7,
   "id": "7254b1c3",
   "metadata": {},
   "outputs": [],
   "source": [
    "import tensorflow_hub as hub\n",
    "url = 'https://tfhub.dev/google/yamnet/1'"
   ]
  },
  {
   "cell_type": "code",
   "execution_count": null,
   "id": "5f96c95e",
   "metadata": {},
   "outputs": [],
   "source": []
  }
 ],
 "metadata": {
  "kernelspec": {
   "display_name": "Python 3 (ipykernel)",
   "language": "python",
   "name": "python3"
  },
  "language_info": {
   "codemirror_mode": {
    "name": "ipython",
    "version": 3
   },
   "file_extension": ".py",
   "mimetype": "text/x-python",
   "name": "python",
   "nbconvert_exporter": "python",
   "pygments_lexer": "ipython3",
   "version": "3.9.12"
  }
 },
 "nbformat": 4,
 "nbformat_minor": 5
}
