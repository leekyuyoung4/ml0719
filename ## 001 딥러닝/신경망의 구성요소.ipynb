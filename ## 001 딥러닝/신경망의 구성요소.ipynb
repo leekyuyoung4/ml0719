{
 "cells": [
  {
   "cell_type": "code",
   "execution_count": 47,
   "id": "f286d916",
   "metadata": {},
   "outputs": [],
   "source": [
    "from tensorflow.keras.datasets import mnist\n",
    "(x_train,y_train),(x_test,y_test) = mnist.load_data()"
   ]
  },
  {
   "cell_type": "code",
   "execution_count": 48,
   "id": "8b8d60c9",
   "metadata": {},
   "outputs": [
    {
     "data": {
      "text/plain": [
       "((60000, 28, 28), (60000,))"
      ]
     },
     "execution_count": 48,
     "metadata": {},
     "output_type": "execute_result"
    }
   ],
   "source": [
    "x_train.shape,y_train.shape"
   ]
  },
  {
   "cell_type": "code",
   "execution_count": 49,
   "id": "4161cbee",
   "metadata": {},
   "outputs": [],
   "source": [
    "# 신경망 구조\n",
    "from tensorflow import keras\n",
    "from tensorflow.keras import layers\n",
    "model = keras.Sequential([\n",
    "    layers.Dense(512,activation = 'relu',input_shape=(28*28,)),\n",
    "    layers.Dense(10,activation = 'softmax')\n",
    "])"
   ]
  },
  {
   "cell_type": "code",
   "execution_count": 50,
   "id": "6aed6bb1",
   "metadata": {},
   "outputs": [],
   "source": [
    "x_train = x_train.astype('float32') / 255.0\n",
    "x_test = x_test.astype('float32') / 255.0"
   ]
  },
  {
   "cell_type": "code",
   "execution_count": 51,
   "id": "0b8df8bd",
   "metadata": {},
   "outputs": [],
   "source": [
    "x_train = x_train.reshape(x_train.shape[0],-1)\n",
    "x_test = x_test.reshape(x_test.shape[0],-1)"
   ]
  },
  {
   "cell_type": "code",
   "execution_count": 52,
   "id": "6aa6ee49",
   "metadata": {},
   "outputs": [
    {
     "data": {
      "text/plain": [
       "((60000, 784), (10000, 784))"
      ]
     },
     "execution_count": 52,
     "metadata": {},
     "output_type": "execute_result"
    }
   ],
   "source": [
    "x_train.shape,x_test.shape"
   ]
  },
  {
   "cell_type": "code",
   "execution_count": 53,
   "id": "5f08ff93",
   "metadata": {},
   "outputs": [],
   "source": [
    "#모델 훈련\n",
    "import tensorflow as tf\n",
    "model.compile(optimizer='Adam',loss=tf.keras.losses.sparse_categorical_crossentropy ,metrics=['accuracy'])"
   ]
  },
  {
   "cell_type": "code",
   "execution_count": 54,
   "id": "236f6bff",
   "metadata": {},
   "outputs": [
    {
     "name": "stdout",
     "output_type": "stream",
     "text": [
      "Epoch 1/5\n",
      "469/469 [==============================] - 3s 6ms/step - loss: 0.2689 - accuracy: 0.9236\n",
      "Epoch 2/5\n",
      "469/469 [==============================] - 2s 5ms/step - loss: 0.1089 - accuracy: 0.9686\n",
      "Epoch 3/5\n",
      "469/469 [==============================] - 2s 5ms/step - loss: 0.0696 - accuracy: 0.9791\n",
      "Epoch 4/5\n",
      "469/469 [==============================] - 2s 5ms/step - loss: 0.0495 - accuracy: 0.9858\n",
      "Epoch 5/5\n",
      "469/469 [==============================] - 2s 5ms/step - loss: 0.0364 - accuracy: 0.9894\n"
     ]
    },
    {
     "data": {
      "text/plain": [
       "<keras.callbacks.History at 0x2578a01b910>"
      ]
     },
     "execution_count": 54,
     "metadata": {},
     "output_type": "execute_result"
    }
   ],
   "source": [
    "model.fit(x_train,y_train,epochs=5,batch_size=128)"
   ]
  },
  {
   "cell_type": "code",
   "execution_count": 55,
   "id": "f137f787",
   "metadata": {},
   "outputs": [
    {
     "name": "stdout",
     "output_type": "stream",
     "text": [
      "1/1 [==============================] - 0s 45ms/step\n"
     ]
    },
    {
     "data": {
      "text/plain": [
       "7"
      ]
     },
     "execution_count": 55,
     "metadata": {},
     "output_type": "execute_result"
    }
   ],
   "source": [
    "# 모델 예측\n",
    "import numpy as np\n",
    "x_test10 = x_test[:10]\n",
    "predction = model.predict(x_test10)\n",
    "np.argmax(predction[0])"
   ]
  },
  {
   "cell_type": "code",
   "execution_count": 56,
   "id": "1a57dc20",
   "metadata": {},
   "outputs": [
    {
     "data": {
      "text/plain": [
       "7"
      ]
     },
     "execution_count": 56,
     "metadata": {},
     "output_type": "execute_result"
    }
   ],
   "source": [
    "y_test[0]"
   ]
  },
  {
   "cell_type": "code",
   "execution_count": 57,
   "id": "6dc90cce",
   "metadata": {},
   "outputs": [
    {
     "data": {
      "text/plain": [
       "0.99857974"
      ]
     },
     "execution_count": 57,
     "metadata": {},
     "output_type": "execute_result"
    }
   ],
   "source": [
    "predction[0][7]"
   ]
  },
  {
   "cell_type": "code",
   "execution_count": 58,
   "id": "ded75664",
   "metadata": {},
   "outputs": [
    {
     "name": "stdout",
     "output_type": "stream",
     "text": [
      "313/313 [==============================] - 1s 2ms/step - loss: 0.0607 - accuracy: 0.9825\n"
     ]
    },
    {
     "data": {
      "text/plain": [
       "[0.06072613596916199, 0.9825000166893005]"
      ]
     },
     "execution_count": 58,
     "metadata": {},
     "output_type": "execute_result"
    }
   ],
   "source": [
    "model.evaluate(x_test,y_test)"
   ]
  },
  {
   "cell_type": "code",
   "execution_count": 65,
   "id": "79a4cf27",
   "metadata": {},
   "outputs": [],
   "source": [
    "# 평가 교차알고리즘 KFold\n",
    "from sklearn.model_selection import KFold"
   ]
  },
  {
   "cell_type": "code",
   "execution_count": 67,
   "id": "d3b4b350",
   "metadata": {},
   "outputs": [
    {
     "name": "stdout",
     "output_type": "stream",
     "text": [
      "Epoch 1/5\n",
      "469/469 [==============================] - 3s 5ms/step - loss: 0.2684 - accuracy: 0.9240\n",
      "Epoch 2/5\n",
      "469/469 [==============================] - 2s 5ms/step - loss: 0.1086 - accuracy: 0.9688\n",
      "Epoch 3/5\n",
      "469/469 [==============================] - 2s 5ms/step - loss: 0.0697 - accuracy: 0.9800\n",
      "Epoch 4/5\n",
      "469/469 [==============================] - 2s 5ms/step - loss: 0.0508 - accuracy: 0.9851\n",
      "Epoch 5/5\n",
      "469/469 [==============================] - 2s 5ms/step - loss: 0.0364 - accuracy: 0.9895\n",
      "313/313 [==============================] - 1s 2ms/step - loss: 0.0657 - accuracy: 0.9799\n",
      "Epoch 1/5\n",
      "469/469 [==============================] - 3s 5ms/step - loss: 0.2669 - accuracy: 0.9256\n",
      "Epoch 2/5\n",
      "469/469 [==============================] - 3s 6ms/step - loss: 0.1093 - accuracy: 0.9681\n",
      "Epoch 3/5\n",
      "469/469 [==============================] - 3s 6ms/step - loss: 0.0708 - accuracy: 0.9796\n",
      "Epoch 4/5\n",
      "469/469 [==============================] - 3s 6ms/step - loss: 0.0491 - accuracy: 0.9858\n",
      "Epoch 5/5\n",
      "469/469 [==============================] - 3s 6ms/step - loss: 0.0369 - accuracy: 0.9895\n",
      "313/313 [==============================] - 1s 2ms/step - loss: 0.0707 - accuracy: 0.9781\n",
      "Epoch 1/5\n",
      "469/469 [==============================] - 4s 8ms/step - loss: 0.2671 - accuracy: 0.9249\n",
      "Epoch 2/5\n",
      "469/469 [==============================] - 3s 7ms/step - loss: 0.1066 - accuracy: 0.9689\n",
      "Epoch 3/5\n",
      "469/469 [==============================] - 3s 6ms/step - loss: 0.0694 - accuracy: 0.9795\n",
      "Epoch 4/5\n",
      "469/469 [==============================] - 3s 6ms/step - loss: 0.0498 - accuracy: 0.9854\n",
      "Epoch 5/5\n",
      "469/469 [==============================] - 3s 6ms/step - loss: 0.0359 - accuracy: 0.9896\n",
      "313/313 [==============================] - 1s 2ms/step - loss: 0.0624 - accuracy: 0.9795\n",
      "Epoch 1/5\n",
      "469/469 [==============================] - 3s 6ms/step - loss: 0.2688 - accuracy: 0.9233\n",
      "Epoch 2/5\n",
      "469/469 [==============================] - 3s 6ms/step - loss: 0.1066 - accuracy: 0.9691\n",
      "Epoch 3/5\n",
      "469/469 [==============================] - 2s 5ms/step - loss: 0.0701 - accuracy: 0.9795\n",
      "Epoch 4/5\n",
      "469/469 [==============================] - 3s 6ms/step - loss: 0.0500 - accuracy: 0.9861\n",
      "Epoch 5/5\n",
      "469/469 [==============================] - 3s 6ms/step - loss: 0.0360 - accuracy: 0.9895\n",
      "313/313 [==============================] - 1s 2ms/step - loss: 0.0660 - accuracy: 0.9795\n",
      "Epoch 1/5\n",
      "469/469 [==============================] - 3s 5ms/step - loss: 0.2659 - accuracy: 0.9236\n",
      "Epoch 2/5\n",
      "469/469 [==============================] - 2s 5ms/step - loss: 0.1050 - accuracy: 0.9698\n",
      "Epoch 3/5\n",
      "469/469 [==============================] - 2s 5ms/step - loss: 0.0691 - accuracy: 0.9793\n",
      "Epoch 4/5\n",
      "469/469 [==============================] - 2s 5ms/step - loss: 0.0492 - accuracy: 0.9856\n",
      "Epoch 5/5\n",
      "469/469 [==============================] - 2s 5ms/step - loss: 0.0364 - accuracy: 0.9892\n",
      "313/313 [==============================] - 1s 2ms/step - loss: 0.0699 - accuracy: 0.9775\n"
     ]
    }
   ],
   "source": [
    "accuracy = []\n",
    "for tindex, vindex in  KFold().split(x_train):\n",
    "    x_tr,x_val =  x_train[tindex],x_train[vindex]\n",
    "    y_tr,y_val =  y_train[tindex],y_train[vindex]\n",
    "    \n",
    "    model = keras.Sequential([\n",
    "        layers.Dense(512,activation = 'relu',input_shape=(28*28,)),\n",
    "        layers.Dense(10,activation = 'softmax')\n",
    "    ])\n",
    "    model.compile(optimizer='Adam',loss=tf.keras.losses.sparse_categorical_crossentropy ,metrics=['accuracy'])\n",
    "    model.fit(x_train,y_train,epochs=5,batch_size=128)\n",
    "    accuracy.append( model.evaluate(x_test,y_test)[1])    "
   ]
  },
  {
   "cell_type": "code",
   "execution_count": 68,
   "id": "3962009d",
   "metadata": {},
   "outputs": [
    {
     "data": {
      "text/plain": [
       "0.9789000034332276"
      ]
     },
     "execution_count": 68,
     "metadata": {},
     "output_type": "execute_result"
    }
   ],
   "source": [
    "np.array(accuracy).mean()"
   ]
  },
  {
   "cell_type": "code",
   "execution_count": 72,
   "id": "b3c5428a",
   "metadata": {},
   "outputs": [
    {
     "data": {
      "text/plain": [
       "((), array(12), 0)"
      ]
     },
     "execution_count": 72,
     "metadata": {},
     "output_type": "execute_result"
    }
   ],
   "source": [
    "# 신경망에서 사용하는 데이터\n",
    "# 스칼라(랭크-0 텐서)\n",
    "x = np.array(12)\n",
    "x.shape, x, x.ndim"
   ]
  },
  {
   "cell_type": "code",
   "execution_count": 74,
   "id": "da49c9db",
   "metadata": {},
   "outputs": [
    {
     "data": {
      "text/plain": [
       "(array([1, 2, 3, 4]), (4,), 1)"
      ]
     },
     "execution_count": 74,
     "metadata": {},
     "output_type": "execute_result"
    }
   ],
   "source": [
    "# 벡터(랭크-1 텐서)\n",
    "x = np.array([1,2,3,4])\n",
    "x, x.shape, x.ndim"
   ]
  },
  {
   "cell_type": "code",
   "execution_count": 79,
   "id": "be406472",
   "metadata": {},
   "outputs": [
    {
     "data": {
      "text/plain": [
       "(array([[1, 2, 3, 4],\n",
       "        [1, 2, 3, 4]]),\n",
       " (2, 4),\n",
       " 2)"
      ]
     },
     "execution_count": 79,
     "metadata": {},
     "output_type": "execute_result"
    }
   ],
   "source": [
    "# 행렬(랭크-2 텐서)\n",
    "x = np.array([[1,2,3,4],[1,2,3,4]])\n",
    "x, x.shape, x.ndim"
   ]
  },
  {
   "cell_type": "code",
   "execution_count": 80,
   "id": "ea879617",
   "metadata": {},
   "outputs": [],
   "source": [
    "# 랭크-3 텐서"
   ]
  },
  {
   "cell_type": "code",
   "execution_count": 81,
   "id": "0e020e33",
   "metadata": {},
   "outputs": [
    {
     "data": {
      "text/plain": [
       "(array([[[1, 2, 3, 4],\n",
       "         [1, 2, 3, 4]],\n",
       " \n",
       "        [[1, 2, 3, 4],\n",
       "         [1, 2, 3, 4]]]),\n",
       " (2, 2, 4),\n",
       " 3)"
      ]
     },
     "execution_count": 81,
     "metadata": {},
     "output_type": "execute_result"
    }
   ],
   "source": [
    "x = np.array([[[1,2,3,4],[1,2,3,4]],[[1,2,3,4],[1,2,3,4]]])\n",
    "x, x.shape, x.ndim"
   ]
  },
  {
   "cell_type": "code",
   "execution_count": 82,
   "id": "f3b3ded2",
   "metadata": {},
   "outputs": [],
   "source": [
    "(x_train,y_train),(x_test,y_test)=mnist.load_data()"
   ]
  },
  {
   "cell_type": "code",
   "execution_count": 83,
   "id": "a4f8f051",
   "metadata": {},
   "outputs": [
    {
     "data": {
      "text/plain": [
       "3"
      ]
     },
     "execution_count": 83,
     "metadata": {},
     "output_type": "execute_result"
    }
   ],
   "source": [
    "x_train.ndim"
   ]
  },
  {
   "cell_type": "code",
   "execution_count": 85,
   "id": "e5bf4016",
   "metadata": {},
   "outputs": [
    {
     "data": {
      "image/png": "[encoded data removed]",
      "text/plain": [
       "<Figure size 432x288 with 1 Axes>"
      ]
     },
     "metadata": {
      "needs_background": "light"
     },
     "output_type": "display_data"
    }
   ],
   "source": [
    "import matplotlib.pyplot as plt\n",
    "plt.imshow(x_train[0],cmap='gray_r')\n",
    "plt.axis('off')\n",
    "plt.show()"
   ]
  },
  {
   "cell_type": "code",
   "execution_count": 87,
   "id": "bb5afdeb",
   "metadata": {},
   "outputs": [
    {
     "data": {
      "text/plain": [
       "5"
      ]
     },
     "execution_count": 87,
     "metadata": {},
     "output_type": "execute_result"
    }
   ],
   "source": [
    "y_train[0]"
   ]
  },
  {
   "cell_type": "code",
   "execution_count": 89,
   "id": "1a9f48d2",
   "metadata": {},
   "outputs": [
    {
     "data": {
      "text/plain": [
       "(60000, 28, 28)"
      ]
     },
     "execution_count": 89,
     "metadata": {},
     "output_type": "execute_result"
    }
   ],
   "source": [
    "x_train.shape"
   ]
  },
  {
   "cell_type": "code",
   "execution_count": 88,
   "id": "c1a9a349",
   "metadata": {},
   "outputs": [
    {
     "data": {
      "text/plain": [
       "(10, 28, 28)"
      ]
     },
     "execution_count": 88,
     "metadata": {},
     "output_type": "execute_result"
    }
   ],
   "source": [
    "x_train10 = x_train[:10]\n",
    "x_train10.shape"
   ]
  },
  {
   "cell_type": "code",
   "execution_count": 90,
   "id": "6bc185c0",
   "metadata": {},
   "outputs": [
    {
     "data": {
      "text/plain": [
       "(10, 28, 28)"
      ]
     },
     "execution_count": 90,
     "metadata": {},
     "output_type": "execute_result"
    }
   ],
   "source": [
    "x_train10 = x_train[:10,:,:]\n",
    "x_train10.shape"
   ]
  },
  {
   "cell_type": "code",
   "execution_count": 91,
   "id": "47ec43b5",
   "metadata": {},
   "outputs": [
    {
     "data": {
      "text/plain": [
       "(10, 14, 14)"
      ]
     },
     "execution_count": 91,
     "metadata": {},
     "output_type": "execute_result"
    }
   ],
   "source": [
    "x_train10 = x_train[:10,:14,:14]\n",
    "x_train10.shape"
   ]
  },
  {
   "cell_type": "code",
   "execution_count": 92,
   "id": "1fc7eea5",
   "metadata": {},
   "outputs": [
    {
     "data": {
      "text/plain": [
       "(10, 18, 18)"
      ]
     },
     "execution_count": 92,
     "metadata": {},
     "output_type": "execute_result"
    }
   ],
   "source": [
    "x_train10 = x_train[:10,:-10,:-10]\n",
    "x_train10.shape"
   ]
  },
  {
   "cell_type": "code",
   "execution_count": 94,
   "id": "828a0650",
   "metadata": {},
   "outputs": [
    {
     "data": {
      "text/plain": [
       "(128, 28, 28)"
      ]
     },
     "execution_count": 94,
     "metadata": {},
     "output_type": "execute_result"
    }
   ],
   "source": [
    "# 배치 개념\n",
    "batch = x_train[:128]\n",
    "batch.shape"
   ]
  },
  {
   "cell_type": "code",
   "execution_count": 95,
   "id": "bfcb3a84",
   "metadata": {},
   "outputs": [
    {
     "data": {
      "text/plain": [
       "(128, 28, 28)"
      ]
     },
     "execution_count": 95,
     "metadata": {},
     "output_type": "execute_result"
    }
   ],
   "source": [
    "batch = x_train[128:128*2]\n",
    "batch.shape"
   ]
  },
  {
   "cell_type": "code",
   "execution_count": null,
   "id": "12add374",
   "metadata": {},
   "outputs": [],
   "source": [
    "n = 3\n",
    "batch = x_train[128*n:128*(n+1)]"
   ]
  },
  {
   "cell_type": "code",
   "execution_count": null,
   "id": "09ae31c1",
   "metadata": {},
   "outputs": [],
   "source": [
    "# 신경망이 학습한 모든 변환을  수치 데이터 텐서에 적용하는 텐서 연산으로 나타낼수 있다\n",
    "# 케라스의 층은\n",
    "# tf.keras.layers.Dense(512,activation='relu')\n",
    "# output = relu(dot(w,input) + b)\n",
    "\n"
   ]
  },
  {
   "cell_type": "code",
   "execution_count": 125,
   "id": "9c8b3dea",
   "metadata": {},
   "outputs": [],
   "source": [
    "x = np.array([[-2,-1,0,1,2],[1,1,1,1,1]])"
   ]
  },
  {
   "cell_type": "code",
   "execution_count": 126,
   "id": "c7eb69a1",
   "metadata": {},
   "outputs": [],
   "source": [
    "# 원소별 연산\n",
    "def naive_relu(x):\n",
    "    assert len(x.shape) == 2  \n",
    "    x = x.copy()\n",
    "    for i in range(x.shape[0]):\n",
    "        for j in range(x.shape[1]):\n",
    "            x[i,j] = max(x[i,j],0)\n",
    "    return x"
   ]
  },
  {
   "cell_type": "code",
   "execution_count": 136,
   "id": "3e12e70c",
   "metadata": {},
   "outputs": [],
   "source": [
    "def naive_add(x, y):\n",
    "    assert len(x.shape) == 2\n",
    "    assert x.shape == y.shape\n",
    "    x = x.copy()\n",
    "    for i in range(x.shape[0]):\n",
    "        for j in range(x.shape[1]):\n",
    "            x[i,j] += y[i,y]\n",
    "    return x"
   ]
  },
  {
   "cell_type": "code",
   "execution_count": 140,
   "id": "4f39d921",
   "metadata": {},
   "outputs": [
    {
     "name": "stdout",
     "output_type": "stream",
     "text": [
      "걸린시간 0.00600886344909668\n"
     ]
    }
   ],
   "source": [
    "import time\n",
    "x = np.random.random((20,100))\n",
    "y = np.random.random((20,100))\n",
    "t0 = time.time()\n",
    "for i in range(1000):\n",
    "    z = x + y\n",
    "    z = np.maximum(z,0)\n",
    "print(f\"걸린시간 {time.time()-t0}\")    "
   ]
  },
  {
   "cell_type": "code",
   "execution_count": 141,
   "id": "74dbd6df",
   "metadata": {},
   "outputs": [
    {
     "name": "stdout",
     "output_type": "stream",
     "text": [
      "걸린시간 49.33864188194275\n"
     ]
    }
   ],
   "source": [
    "for i in range(1000):\n",
    "    z = x + y\n",
    "    z = naive_relu(z)\n",
    "print(f\"걸린시간 {time.time()-t0}\")    "
   ]
  },
  {
   "cell_type": "code",
   "execution_count": 142,
   "id": "0ebe797b",
   "metadata": {},
   "outputs": [],
   "source": [
    "# 브로드 캐스팅"
   ]
  },
  {
   "cell_type": "code",
   "execution_count": 150,
   "id": "5d4a0a80",
   "metadata": {},
   "outputs": [],
   "source": [
    "import numpy as np\n",
    "x = np.random.random((32,10))\n",
    "y = np.random.random((10,))"
   ]
  },
  {
   "cell_type": "code",
   "execution_count": 151,
   "id": "59a9f238",
   "metadata": {},
   "outputs": [
    {
     "data": {
      "text/plain": [
       "array([[0.49986072, 0.51940828, 0.9927293 , 0.98483502, 0.0771733 ,\n",
       "        0.98008061, 0.07141996, 0.25604296, 0.8673602 , 0.56580581]])"
      ]
     },
     "execution_count": 151,
     "metadata": {},
     "output_type": "execute_result"
    }
   ],
   "source": [
    "y = np.expand_dims(y, axis=0)\n",
    "y.shape\n",
    "y"
   ]
  },
  {
   "cell_type": "code",
   "execution_count": 153,
   "id": "8f3aaee1",
   "metadata": {},
   "outputs": [],
   "source": [
    "y = np.concatenate([y]*32,axis = 0)"
   ]
  },
  {
   "cell_type": "code",
   "execution_count": 155,
   "id": "790bd837",
   "metadata": {},
   "outputs": [
    {
     "data": {
      "text/plain": [
       "((32, 10), (32, 10))"
      ]
     },
     "execution_count": 155,
     "metadata": {},
     "output_type": "execute_result"
    }
   ],
   "source": [
    "x.shape, y.shape"
   ]
  },
  {
   "cell_type": "code",
   "execution_count": null,
   "id": "942b72a9",
   "metadata": {},
   "outputs": [],
   "source": [
    "#브로드 케스팅\n",
    "def niave_add_matrix_and_vector(x,y):\n",
    "    assert len(x.shape) == 2    \n",
    "    assert len(x.shape) == 1\n",
    "    assert x.shape[1] == y.shape[0]\n",
    "    x = x.copy()\n",
    "    for i in range(x.shape[0]):\n",
    "        for j in range(x.shape[1]):\n",
    "            x[i,j] += y[j]\n",
    "    return x"
   ]
  },
  {
   "cell_type": "code",
   "execution_count": 164,
   "id": "fada15ca",
   "metadata": {},
   "outputs": [
    {
     "data": {
      "text/plain": [
       "((64, 3, 32, 10), (32, 10), (64, 3, 32, 10))"
      ]
     },
     "execution_count": 164,
     "metadata": {},
     "output_type": "execute_result"
    }
   ],
   "source": [
    "x = np.random.random((64,3,32,10))\n",
    "y = np.random.random((32,10))\n",
    "z = np.maximum(x,y)\n",
    "x.shape, y.shape, z.shape"
   ]
  },
  {
   "cell_type": "code",
   "execution_count": 157,
   "id": "91b82bd2",
   "metadata": {},
   "outputs": [
    {
     "data": {
      "text/plain": [
       "((32, 10), (10,))"
      ]
     },
     "execution_count": 157,
     "metadata": {},
     "output_type": "execute_result"
    }
   ],
   "source": [
    "x.shape, y.shape"
   ]
  },
  {
   "cell_type": "code",
   "execution_count": 167,
   "id": "1e9d7e1c",
   "metadata": {},
   "outputs": [
    {
     "data": {
      "text/plain": [
       "(array([10, 20]), array([2, 3]))"
      ]
     },
     "execution_count": 167,
     "metadata": {},
     "output_type": "execute_result"
    }
   ],
   "source": [
    "x = np.array([10,20])\n",
    "y = np.array([2,3])\n",
    "x, y"
   ]
  },
  {
   "cell_type": "code",
   "execution_count": 168,
   "id": "8e130760",
   "metadata": {},
   "outputs": [
    {
     "data": {
      "text/plain": [
       "80"
      ]
     },
     "execution_count": 168,
     "metadata": {},
     "output_type": "execute_result"
    }
   ],
   "source": [
    "np.dot(x,y)"
   ]
  },
  {
   "cell_type": "code",
   "execution_count": 169,
   "id": "c94e7f8a",
   "metadata": {},
   "outputs": [],
   "source": [
    "# 내적연산 dot  각 요소들끼리 곱한 결과를 합\n",
    "def naive_vector_dot(x,y):\n",
    "    assert len(x.shape) == 1\n",
    "    assert len(y.shape) == 1\n",
    "    assert x.shape[0] == y.shape[0]\n",
    "    z = 0\n",
    "    for i in range(x.shape[0]):\n",
    "        z += x[i]*y[i]\n",
    "    return z"
   ]
  },
  {
   "cell_type": "code",
   "execution_count": 180,
   "id": "a584d479",
   "metadata": {},
   "outputs": [],
   "source": [
    "def naive_matrix_vector_dot(x,y):\n",
    "    assert len(x.shape) == 2\n",
    "    assert len(y.shape) == 1\n",
    "    assert x.shape[1] == y.shape[0]\n",
    "    z = np.zeros(x.shape[0])\n",
    "    for i in range(x.shape[0]):\n",
    "        for j in ranage(x.shape[1]):\n",
    "            z[i] += x[i,j]*y[j] \n",
    "    return z"
   ]
  },
  {
   "cell_type": "code",
   "execution_count": 179,
   "id": "a0a62cb5",
   "metadata": {},
   "outputs": [
    {
     "data": {
      "text/plain": [
       "((2, 2), (2,))"
      ]
     },
     "execution_count": 179,
     "metadata": {},
     "output_type": "execute_result"
    }
   ],
   "source": [
    "x = np.array([[1,2],[3,4]])\n",
    "y = np.array([2,3])\n",
    "x.shape, y.shape"
   ]
  },
  {
   "cell_type": "code",
   "execution_count": 181,
   "id": "f77f47d8",
   "metadata": {},
   "outputs": [],
   "source": [
    "def naive_matrix_vector_dot(x,y):\n",
    "    z = np.zeros(x.shape[0])\n",
    "    for i in range(x.shape[0]):\n",
    "        z[i] = naive_vector_dot(x[i,:],y)\n",
    "    return z"
   ]
  },
  {
   "cell_type": "code",
   "execution_count": 182,
   "id": "19504ade",
   "metadata": {},
   "outputs": [
    {
     "data": {
      "text/plain": [
       "array([[ 7, 10],\n",
       "       [15, 22]])"
      ]
     },
     "execution_count": 182,
     "metadata": {},
     "output_type": "execute_result"
    }
   ],
   "source": [
    "x = np.array([[1,2],[3,4]])\n",
    "y = np.array([[1,2],[3,4]])\n",
    "np.dot(x,y)"
   ]
  },
  {
   "cell_type": "code",
   "execution_count": 183,
   "id": "bea163c4",
   "metadata": {},
   "outputs": [],
   "source": [
    "def naive_matrix_dot(x,y):\n",
    "    assert len(x.shape) == 2\n",
    "    assert len(y.shape) == 2\n",
    "    assert x.shape[1] == y.shape[0]\n",
    "    z = np.zeros((x.shape[0], x.shape[1]) )\n",
    "    for i in range(x.shape[0]):\n",
    "        for j in range(y.shape[1]):\n",
    "            row_x = x[i,:]\n",
    "            col_y = y[:,j]\n",
    "            z[i,j] =  naive_vector_dot(row_x, col_y)\n",
    "    return z"
   ]
  },
  {
   "cell_type": "code",
   "execution_count": 184,
   "id": "31da0209",
   "metadata": {},
   "outputs": [
    {
     "data": {
      "text/plain": [
       "(60000, 28, 28)"
      ]
     },
     "execution_count": 184,
     "metadata": {},
     "output_type": "execute_result"
    }
   ],
   "source": [
    "x_train.shape"
   ]
  },
  {
   "cell_type": "code",
   "execution_count": 185,
   "id": "bfc81ba7",
   "metadata": {},
   "outputs": [
    {
     "data": {
      "text/plain": [
       "array([[0, 0, 0, ..., 0, 0, 0],\n",
       "       [0, 0, 0, ..., 0, 0, 0],\n",
       "       [0, 0, 0, ..., 0, 0, 0],\n",
       "       ...,\n",
       "       [0, 0, 0, ..., 0, 0, 0],\n",
       "       [0, 0, 0, ..., 0, 0, 0],\n",
       "       [0, 0, 0, ..., 0, 0, 0]], dtype=uint8)"
      ]
     },
     "execution_count": 185,
     "metadata": {},
     "output_type": "execute_result"
    }
   ],
   "source": [
    "x_train.reshape(x_train.shape[0],-1)"
   ]
  },
  {
   "cell_type": "code",
   "execution_count": 187,
   "id": "06ee6421",
   "metadata": {},
   "outputs": [
    {
     "data": {
      "text/plain": [
       "array([[0., 1.],\n",
       "       [2., 3.],\n",
       "       [4., 5.]])"
      ]
     },
     "execution_count": 187,
     "metadata": {},
     "output_type": "execute_result"
    }
   ],
   "source": [
    "x = np.array([[0., 1.],\n",
    "             [2., 3.],\n",
    "             [4., 5.]])\n",
    "x"
   ]
  },
  {
   "cell_type": "code",
   "execution_count": 189,
   "id": "e7c2504a",
   "metadata": {},
   "outputs": [
    {
     "data": {
      "text/plain": [
       "array([[0.],\n",
       "       [1.],\n",
       "       [2.],\n",
       "       [3.],\n",
       "       [4.],\n",
       "       [5.]])"
      ]
     },
     "execution_count": 189,
     "metadata": {},
     "output_type": "execute_result"
    }
   ],
   "source": [
    "x.reshape(-1,1)"
   ]
  },
  {
   "cell_type": "code",
   "execution_count": 193,
   "id": "34897c08",
   "metadata": {},
   "outputs": [
    {
     "data": {
      "text/plain": [
       "array([[0., 0., 0., ..., 0., 0., 0.],\n",
       "       [0., 0., 0., ..., 0., 0., 0.],\n",
       "       [0., 0., 0., ..., 0., 0., 0.],\n",
       "       ...,\n",
       "       [0., 0., 0., ..., 0., 0., 0.],\n",
       "       [0., 0., 0., ..., 0., 0., 0.],\n",
       "       [0., 0., 0., ..., 0., 0., 0.]])"
      ]
     },
     "execution_count": 193,
     "metadata": {},
     "output_type": "execute_result"
    }
   ],
   "source": [
    "x = np.zeros((300,20))\n",
    "x"
   ]
  },
  {
   "cell_type": "code",
   "execution_count": 196,
   "id": "dcb4524f",
   "metadata": {},
   "outputs": [
    {
     "data": {
      "text/plain": [
       "(20, 300)"
      ]
     },
     "execution_count": 196,
     "metadata": {},
     "output_type": "execute_result"
    }
   ],
   "source": [
    "x.T.shape\n"
   ]
  },
  {
   "cell_type": "code",
   "execution_count": 197,
   "id": "c69ddec9",
   "metadata": {},
   "outputs": [],
   "source": [
    "# 그레이디언트 기반 최적화\n",
    "import tensorflow as tf"
   ]
  },
  {
   "cell_type": "code",
   "execution_count": 204,
   "id": "b8732525",
   "metadata": {},
   "outputs": [
    {
     "data": {
      "text/plain": [
       "<tf.Variable 'Variable:0' shape=() dtype=float32, numpy=0.0>"
      ]
     },
     "execution_count": 204,
     "metadata": {},
     "output_type": "execute_result"
    }
   ],
   "source": [
    "x = tf.Variable(0.)\n",
    "x"
   ]
  },
  {
   "cell_type": "code",
   "execution_count": null,
   "id": "50fa19d5",
   "metadata": {},
   "outputs": [],
   "source": [
    "# 그레이디언트 테이프  주어진 입력변수.. 데이터어 대해서 자동 미분"
   ]
  },
  {
   "cell_type": "code",
   "execution_count": 226,
   "id": "5bb7f7bf",
   "metadata": {},
   "outputs": [],
   "source": [
    "import tensorflow as tf\n",
    "x = tf.Variable(0.)\n",
    "with tf.GradientTape() as tape:\n",
    "    y = 2*x+3   \n",
    "grad_of_y_wrt_x = tape.gradient(x,y)    "
   ]
  },
  {
   "cell_type": "code",
   "execution_count": 227,
   "id": "9f57749b",
   "metadata": {},
   "outputs": [],
   "source": [
    "x = tf.Variable(tf.zeros((2,2)))\n",
    "with tf.GradientTape() as tape:\n",
    "    y = 2*x+3   \n",
    "grad_of_y_wrt_x = tape.gradient(x,y)  "
   ]
  },
  {
   "cell_type": "code",
   "execution_count": null,
   "id": "f0730da0",
   "metadata": {},
   "outputs": [],
   "source": [
    "tf.Variable(tf.random.uniform((2,2)))"
   ]
  },
  {
   "cell_type": "code",
   "execution_count": 217,
   "id": "cfa14a1c",
   "metadata": {},
   "outputs": [
    {
     "data": {
      "text/plain": [
       "<tf.Tensor: shape=(10,), dtype=float32, numpy=\n",
       "array([0.34458196, 0.4364164 , 0.91007257, 0.20915914, 0.68087864,\n",
       "       0.51040053, 0.4364257 , 0.36259305, 0.2354405 , 0.7002871 ],\n",
       "      dtype=float32)>"
      ]
     },
     "execution_count": 217,
     "metadata": {},
     "output_type": "execute_result"
    }
   ],
   "source": [
    "temp = tf.random.uniform([10],0,1)\n",
    "temp"
   ]
  },
  {
   "cell_type": "code",
   "execution_count": 207,
   "id": "d4f1bed8",
   "metadata": {},
   "outputs": [
    {
     "name": "stdout",
     "output_type": "stream",
     "text": [
      "Help on function random_uniform in module tensorflow.python.ops.random_ops:\n",
      "\n",
      "random_uniform(shape, minval=0, maxval=None, dtype=tf.float32, seed=None, name=None)\n",
      "    Outputs random values from a uniform distribution.\n",
      "    \n",
      "    The generated values follow a uniform distribution in the range\n",
      "    `[minval, maxval)`. The lower bound `minval` is included in the range, while\n",
      "    the upper bound `maxval` is excluded.\n",
      "    \n",
      "    For floats, the default range is `[0, 1)`.  For ints, at least `maxval` must\n",
      "    be specified explicitly.\n",
      "    \n",
      "    In the integer case, the random integers are slightly biased unless\n",
      "    `maxval - minval` is an exact power of two.  The bias is small for values of\n",
      "    `maxval - minval` significantly smaller than the range of the output (either\n",
      "    `2**32` or `2**64`).\n",
      "    \n",
      "    Examples:\n",
      "    \n",
      "    >>> tf.random.uniform(shape=[2])\n",
      "    <tf.Tensor: shape=(2,), dtype=float32, numpy=array([..., ...], dtype=float32)>\n",
      "    >>> tf.random.uniform(shape=[], minval=-1., maxval=0.)\n",
      "    <tf.Tensor: shape=(), dtype=float32, numpy=-...>\n",
      "    >>> tf.random.uniform(shape=[], minval=5, maxval=10, dtype=tf.int64)\n",
      "    <tf.Tensor: shape=(), dtype=int64, numpy=...>\n",
      "    \n",
      "    The `seed` argument produces a deterministic sequence of tensors across\n",
      "    multiple calls. To repeat that sequence, use `tf.random.set_seed`:\n",
      "    \n",
      "    >>> tf.random.set_seed(5)\n",
      "    >>> tf.random.uniform(shape=[], maxval=3, dtype=tf.int32, seed=10)\n",
      "    <tf.Tensor: shape=(), dtype=int32, numpy=2>\n",
      "    >>> tf.random.uniform(shape=[], maxval=3, dtype=tf.int32, seed=10)\n",
      "    <tf.Tensor: shape=(), dtype=int32, numpy=0>\n",
      "    >>> tf.random.set_seed(5)\n",
      "    >>> tf.random.uniform(shape=[], maxval=3, dtype=tf.int32, seed=10)\n",
      "    <tf.Tensor: shape=(), dtype=int32, numpy=2>\n",
      "    >>> tf.random.uniform(shape=[], maxval=3, dtype=tf.int32, seed=10)\n",
      "    <tf.Tensor: shape=(), dtype=int32, numpy=0>\n",
      "    \n",
      "    Without `tf.random.set_seed` but with a `seed` argument is specified, small\n",
      "    changes to function graphs or previously executed operations will change the\n",
      "    returned value. See `tf.random.set_seed` for details.\n",
      "    \n",
      "    Args:\n",
      "      shape: A 1-D integer Tensor or Python array. The shape of the output tensor.\n",
      "      minval: A Tensor or Python value of type `dtype`, broadcastable with\n",
      "        `shape` (for integer types, broadcasting is not supported, so it needs to\n",
      "        be a scalar). The lower bound on the range of random values to generate\n",
      "        (inclusive).  Defaults to 0.\n",
      "      maxval: A Tensor or Python value of type `dtype`, broadcastable with\n",
      "        `shape` (for integer types, broadcasting is not supported, so it needs to\n",
      "        be a scalar). The upper bound on the range of random values to generate\n",
      "        (exclusive). Defaults to 1 if `dtype` is floating point.\n",
      "      dtype: The type of the output: `float16`, `bfloat16`, `float32`, `float64`,\n",
      "        `int32`, or `int64`. Defaults to `float32`.\n",
      "      seed: A Python integer. Used in combination with `tf.random.set_seed` to\n",
      "        create a reproducible sequence of tensors across multiple calls.\n",
      "      name: A name for the operation (optional).\n",
      "    \n",
      "    Returns:\n",
      "      A tensor of the specified shape filled with random uniform values.\n",
      "    \n",
      "    Raises:\n",
      "      ValueError: If `dtype` is integral and `maxval` is not specified.\n",
      "\n"
     ]
    }
   ],
   "source": [
    "help(tf.random.uniform)"
   ]
  },
  {
   "cell_type": "code",
   "execution_count": null,
   "id": "e13e4eb3",
   "metadata": {},
   "outputs": [],
   "source": []
  }
 ],
 "metadata": {
  "kernelspec": {
   "display_name": "Python 3 (ipykernel)",
   "language": "python",
   "name": "python3"
  },
  "language_info": {
   "codemirror_mode": {
    "name": "ipython",
    "version": 3
   },
   "file_extension": ".py",
   "mimetype": "text/x-python",
   "name": "python",
   "nbconvert_exporter": "python",
   "pygments_lexer": "ipython3",
   "version": "3.9.12"
  }
 },
 "nbformat": 4,
 "nbformat_minor": 5
}
