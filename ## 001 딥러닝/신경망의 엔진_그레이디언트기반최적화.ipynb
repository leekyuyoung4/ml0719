{
 "cells": [
  {
   "cell_type": "code",
   "execution_count": 1,
   "id": "b9bfd65c",
   "metadata": {},
   "outputs": [],
   "source": [
    "# 텐서플로의 그레이디언트 테이프\n",
    "import tensorflow as tf\n",
    "x = tf.Variable(0.)"
   ]
  },
  {
   "cell_type": "code",
   "execution_count": 3,
   "id": "5a67dd11",
   "metadata": {},
   "outputs": [],
   "source": [
    "with tf.GradientTape() as tape:\n",
    "    y = 2*x+3\n",
    "grad_of_y_wrt_x = tape.gradient(x,y)    "
   ]
  },
  {
   "cell_type": "code",
   "execution_count": 5,
   "id": "3b47ec62",
   "metadata": {},
   "outputs": [],
   "source": [
    "x = tf.Variable(tf.zeros(2,2))\n",
    "with tf.GradientTape() as tape:\n",
    "    y = 2*x+3\n",
    "grad_of_y_wrt_x = tape.gradient(x,y)    "
   ]
  },
  {
   "cell_type": "code",
   "execution_count": 7,
   "id": "c213a7f5",
   "metadata": {},
   "outputs": [],
   "source": [
    "W = tf.Variable(tf.random.uniform((2,2))) # 가중치를 초기화\n",
    "b = tf.Variable(tf.zeros((2,)))\n",
    "x = tf.random.uniform((2,2))\n",
    "with tf.GradientTape() as tape:\n",
    "    y = tf.matmul(x,W) + b\n",
    "grad_of_y_wrt_W_and_b = tape.gradient(y, [W,b])    "
   ]
  },
  {
   "cell_type": "code",
   "execution_count": 12,
   "id": "0e83b324",
   "metadata": {},
   "outputs": [],
   "source": [
    "# 데이터 로드\n",
    "from tensorflow.keras.datasets import mnist\n",
    "(x_train,y_train),(x_test,y_test)  = mnist.load_data()\n",
    "x_train = x_train.astype('float32') / 255.0\n",
    "x_test = x_test.astype('float32') / 255.0\n",
    "\n",
    "x_train = x_train.reshape(x_train.shape[0],-1)\n",
    "x_test = x_test.reshape(x_test.shape[0],-1)"
   ]
  },
  {
   "cell_type": "code",
   "execution_count": 13,
   "id": "6f3b25b2",
   "metadata": {},
   "outputs": [
    {
     "data": {
      "text/plain": [
       "((60000, 784), (10000, 784))"
      ]
     },
     "execution_count": 13,
     "metadata": {},
     "output_type": "execute_result"
    }
   ],
   "source": [
    "x_train.shape, x_test.shape"
   ]
  },
  {
   "cell_type": "code",
   "execution_count": 14,
   "id": "fd389979",
   "metadata": {},
   "outputs": [],
   "source": [
    "model = tf.keras.Sequential([\n",
    "    tf.keras.layers.Dense(512, activation='relu'),\n",
    "    tf.keras.layers.Dense(10, activation='softmax'),\n",
    "])"
   ]
  },
  {
   "cell_type": "code",
   "execution_count": 15,
   "id": "7deb0692",
   "metadata": {},
   "outputs": [],
   "source": [
    "model.compile(optimizer='adam', loss=tf.keras.losses.sparse_categorical_crossentropy,\n",
    "             metrics=['acc'])"
   ]
  },
  {
   "cell_type": "code",
   "execution_count": 16,
   "id": "9acab727",
   "metadata": {},
   "outputs": [
    {
     "name": "stdout",
     "output_type": "stream",
     "text": [
      "Epoch 1/5\n",
      "469/469 [==============================] - 3s 5ms/step - loss: 0.2692 - acc: 0.9236\n",
      "Epoch 2/5\n",
      "469/469 [==============================] - 3s 6ms/step - loss: 0.1111 - acc: 0.9672\n",
      "Epoch 3/5\n",
      "469/469 [==============================] - 2s 5ms/step - loss: 0.0724 - acc: 0.9789\n",
      "Epoch 4/5\n",
      "469/469 [==============================] - 2s 5ms/step - loss: 0.0517 - acc: 0.9849\n",
      "Epoch 5/5\n",
      "469/469 [==============================] - 2s 5ms/step - loss: 0.0388 - acc: 0.9885\n"
     ]
    },
    {
     "data": {
      "text/plain": [
       "<keras.callbacks.History at 0x1dd8085baf0>"
      ]
     },
     "execution_count": 16,
     "metadata": {},
     "output_type": "execute_result"
    }
   ],
   "source": [
    "model.fit(x_train,y_train,epochs=5,batch_size=128)"
   ]
  },
  {
   "cell_type": "code",
   "execution_count": 17,
   "id": "ce0f2a80",
   "metadata": {},
   "outputs": [],
   "source": [
    "# 텐서플로우를 이용해서 위의 식을 구현해 보기"
   ]
  },
  {
   "cell_type": "code",
   "execution_count": 80,
   "id": "a1c51904",
   "metadata": {},
   "outputs": [],
   "source": [
    "import tensorflow as tf\n",
    "\n",
    "class NaiveDense:\n",
    "    def __init__(self, input_size, output_size, activation):\n",
    "        self.activation = activation\n",
    "\n",
    "        w_shape = (input_size, output_size)\n",
    "        w_initial_value = tf.random.uniform(w_shape, minval=0, maxval=1e-1)\n",
    "        self.W = tf.Variable(w_initial_value)\n",
    "\n",
    "        b_shape = (output_size,)\n",
    "        b_initial_value = tf.zeros(b_shape)\n",
    "        self.b = tf.Variable(b_initial_value)\n",
    "\n",
    "    def __call__(self, inputs):\n",
    "        return self.activation(tf.matmul(inputs, self.W) + self.b)\n",
    "\n",
    "    @property\n",
    "    def weights(self):\n",
    "        return [self.W, self.b]"
   ]
  },
  {
   "cell_type": "code",
   "execution_count": 81,
   "id": "f55b13f3",
   "metadata": {},
   "outputs": [],
   "source": [
    "class NaiveSequential:\n",
    "    def __init__(self, layers):\n",
    "        self.layers = layers\n",
    "\n",
    "    def __call__(self, inputs):\n",
    "        x = inputs\n",
    "        for layer in self.layers:\n",
    "            x = layer(x)\n",
    "        return x\n",
    "\n",
    "    @property\n",
    "    def weights(self):\n",
    "        weights = []\n",
    "        for layer in self.layers:\n",
    "            weights += layer.weights\n",
    "        return weights"
   ]
  },
  {
   "cell_type": "code",
   "execution_count": 82,
   "id": "2f9dcc59",
   "metadata": {},
   "outputs": [],
   "source": [
    "model = NaiveSequential([\n",
    "    NaiveDense(input_size=28 * 28, output_size=512, activation=tf.nn.relu),\n",
    "    NaiveDense(input_size=512, output_size=10, activation=tf.nn.softmax)\n",
    "])\n",
    "assert len(model.weights) == 4"
   ]
  },
  {
   "cell_type": "code",
   "execution_count": 83,
   "id": "f755d2cc",
   "metadata": {},
   "outputs": [],
   "source": [
    "#배치 제너레이터\n",
    "import math\n",
    "\n",
    "class BatchGenerator:\n",
    "    def __init__(self, images, labels, batch_size=128):\n",
    "        assert len(images) == len(labels)\n",
    "        self.index = 0\n",
    "        self.images = images\n",
    "        self.labels = labels\n",
    "        self.batch_size = batch_size\n",
    "        self.num_batches = math.ceil(len(images) / batch_size)\n",
    "\n",
    "    def next(self):\n",
    "        images = self.images[self.index : self.index + self.batch_size]\n",
    "        labels = self.labels[self.index : self.index + self.batch_size]\n",
    "        self.index += self.batch_size\n",
    "        return images, labels"
   ]
  },
  {
   "cell_type": "code",
   "execution_count": 84,
   "id": "9712d985",
   "metadata": {},
   "outputs": [],
   "source": [
    "# 훈련스텝 실행\n",
    "def one_training_step(model, images_batch, labels_batch):\n",
    "    with tf.GradientTape() as tape:\n",
    "        predictions = model(images_batch)\n",
    "        per_sample_losses = tf.keras.losses.sparse_categorical_crossentropy(\n",
    "            labels_batch, predictions)\n",
    "        average_loss = tf.reduce_mean(per_sample_losses)\n",
    "    gradients = tape.gradient(average_loss, model.weights)\n",
    "    update_weights(gradients, model.weights)\n",
    "    return average_loss"
   ]
  },
  {
   "cell_type": "code",
   "execution_count": 85,
   "id": "98a2304c",
   "metadata": {},
   "outputs": [],
   "source": [
    "# 가중치 업데이트\n",
    "\n",
    "learning_rate = 1e-3\n",
    "\n",
    "def update_weights(gradients, weights):\n",
    "    for g, w in zip(gradients, weights):\n",
    "        w.assign_sub(g * learning_rate)"
   ]
  },
  {
   "cell_type": "code",
   "execution_count": 86,
   "id": "0be02c42",
   "metadata": {},
   "outputs": [],
   "source": [
    "# 옵티마이져\n",
    "from tensorflow.keras import optimizers\n",
    "\n",
    "optimizer = optimizers.SGD(learning_rate=1e-3)\n",
    "\n",
    "def update_weights(gradients, weights):\n",
    "    optimizer.apply_gradients(zip(gradients, weights))"
   ]
  },
  {
   "cell_type": "code",
   "execution_count": 87,
   "id": "c61f83a2",
   "metadata": {},
   "outputs": [],
   "source": [
    "# 훈련\n",
    "def fit(model, images, labels, epochs, batch_size=128):\n",
    "    for epoch_counter in range(epochs):\n",
    "        print(f\"에포크 {epoch_counter}\")\n",
    "        batch_generator = BatchGenerator(images, labels)\n",
    "        for batch_counter in range(batch_generator.num_batches):\n",
    "            images_batch, labels_batch = batch_generator.next()\n",
    "            loss = one_training_step(model, images_batch, labels_batch)\n",
    "            if batch_counter % 100 == 0:\n",
    "                print(f\"{batch_counter}번째 배치 손실: {loss:.2f}\")"
   ]
  },
  {
   "cell_type": "code",
   "execution_count": 88,
   "id": "41581133",
   "metadata": {},
   "outputs": [
    {
     "name": "stdout",
     "output_type": "stream",
     "text": [
      "에포크 0\n",
      "0번째 배치 손실: 6.47\n",
      "100번째 배치 손실: 2.22\n",
      "200번째 배치 손실: 2.19\n",
      "300번째 배치 손실: 2.08\n",
      "400번째 배치 손실: 2.24\n",
      "에포크 1\n",
      "0번째 배치 손실: 1.88\n",
      "100번째 배치 손실: 1.86\n",
      "200번째 배치 손실: 1.81\n",
      "300번째 배치 손실: 1.71\n",
      "400번째 배치 손실: 1.85\n",
      "에포크 2\n",
      "0번째 배치 손실: 1.56\n",
      "100번째 배치 손실: 1.56\n",
      "200번째 배치 손실: 1.49\n",
      "300번째 배치 손실: 1.41\n",
      "400번째 배치 손실: 1.53\n",
      "에포크 3\n",
      "0번째 배치 손실: 1.30\n",
      "100번째 배치 손실: 1.33\n",
      "200번째 배치 손실: 1.23\n",
      "300번째 배치 손실: 1.20\n",
      "400번째 배치 손실: 1.29\n",
      "에포크 4\n",
      "0번째 배치 손실: 1.11\n",
      "100번째 배치 손실: 1.15\n",
      "200번째 배치 손실: 1.03\n",
      "300번째 배치 손실: 1.04\n",
      "400번째 배치 손실: 1.12\n",
      "에포크 5\n",
      "0번째 배치 손실: 0.97\n",
      "100번째 배치 손실: 1.01\n",
      "200번째 배치 손실: 0.89\n",
      "300번째 배치 손실: 0.92\n",
      "400번째 배치 손실: 1.00\n",
      "에포크 6\n",
      "0번째 배치 손실: 0.86\n",
      "100번째 배치 손실: 0.91\n",
      "200번째 배치 손실: 0.79\n",
      "300번째 배치 손실: 0.83\n",
      "400번째 배치 손실: 0.91\n",
      "에포크 7\n",
      "0번째 배치 손실: 0.78\n",
      "100번째 배치 손실: 0.83\n",
      "200번째 배치 손실: 0.71\n",
      "300번째 배치 손실: 0.77\n",
      "400번째 배치 손실: 0.84\n",
      "에포크 8\n",
      "0번째 배치 손실: 0.72\n",
      "100번째 배치 손실: 0.76\n",
      "200번째 배치 손실: 0.65\n",
      "300번째 배치 손실: 0.71\n",
      "400번째 배치 손실: 0.79\n",
      "에포크 9\n",
      "0번째 배치 손실: 0.67\n",
      "100번째 배치 손실: 0.71\n",
      "200번째 배치 손실: 0.60\n",
      "300번째 배치 손실: 0.67\n",
      "400번째 배치 손실: 0.74\n"
     ]
    }
   ],
   "source": [
    "from tensorflow.keras.datasets import mnist\n",
    "(train_images, train_labels), (test_images, test_labels) = mnist.load_data()\n",
    "\n",
    "train_images = train_images.reshape((60000, 28 * 28))\n",
    "train_images = train_images.astype(\"float32\") / 255\n",
    "test_images = test_images.reshape((10000, 28 * 28))\n",
    "test_images = test_images.astype(\"float32\") / 255\n",
    "\n",
    "fit(model, train_images, train_labels, epochs=10, batch_size=128)"
   ]
  },
  {
   "cell_type": "code",
   "execution_count": 89,
   "id": "52cf96a2",
   "metadata": {},
   "outputs": [
    {
     "name": "stdout",
     "output_type": "stream",
     "text": [
      "정확도: 0.82\n"
     ]
    }
   ],
   "source": [
    "# 모델평가하기\n",
    "predictions = model(test_images)\n",
    "predictions = predictions.numpy()\n",
    "predicted_labels = np.argmax(predictions, axis=1)\n",
    "matches = predicted_labels == test_labels\n",
    "print(f\"정확도: {matches.mean():.2f}\")"
   ]
  },
  {
   "cell_type": "code",
   "execution_count": null,
   "id": "7f468ffd",
   "metadata": {},
   "outputs": [],
   "source": []
  },
  {
   "cell_type": "code",
   "execution_count": null,
   "id": "2d8b62b3",
   "metadata": {},
   "outputs": [],
   "source": []
  }
 ],
 "metadata": {
  "kernelspec": {
   "display_name": "Python 3 (ipykernel)",
   "language": "python",
   "name": "python3"
  },
  "language_info": {
   "codemirror_mode": {
    "name": "ipython",
    "version": 3
   },
   "file_extension": ".py",
   "mimetype": "text/x-python",
   "name": "python",
   "nbconvert_exporter": "python",
   "pygments_lexer": "ipython3",
   "version": "3.9.12"
  }
 },
 "nbformat": 4,
 "nbformat_minor": 5
}
