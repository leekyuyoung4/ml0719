{
 "cells": [
  {
   "cell_type": "code",
   "execution_count": 1,
   "id": "c1676937",
   "metadata": {},
   "outputs": [],
   "source": [
    "# 텐서플로의 그레이디언트 테이프\n",
    "import tensorflow as tf\n",
    "x = tf.Variable(0.)"
   ]
  },
  {
   "cell_type": "code",
   "execution_count": 3,
   "id": "91b27d28",
   "metadata": {},
   "outputs": [],
   "source": [
    "with tf.GradientTape() as tape:\n",
    "    y = 2*x+3\n",
    "grad_of_y_wrt_x = tape.gradient(x,y)    "
   ]
  },
  {
   "cell_type": "code",
   "execution_count": 5,
   "id": "2e60f0d4",
   "metadata": {},
   "outputs": [],
   "source": [
    "x = tf.Variable(tf.zeros(2,2))\n",
    "with tf.GradientTape() as tape:\n",
    "    y = 2*x+3\n",
    "grad_of_y_wrt_x = tape.gradient(x,y)    "
   ]
  },
  {
   "cell_type": "code",
   "execution_count": 7,
   "id": "c1ed402b",
   "metadata": {},
   "outputs": [],
   "source": [
    "W = tf.Variable(tf.random.uniform((2,2))) # 가중치를 초기화\n",
    "b = tf.Variable(tf.zeros((2,)))\n",
    "x = tf.random.uniform((2,2))\n",
    "with tf.GradientTape() as tape:\n",
    "    y = tf.matmul(x,W) + b\n",
    "grad_of_y_wrt_W_and_b = tape.gradient(y, [W,b])    "
   ]
  },
  {
   "cell_type": "code",
   "execution_count": 12,
   "id": "492894d7",
   "metadata": {},
   "outputs": [],
   "source": [
    "# 데이터 로드\n",
    "from tensorflow.keras.datasets import mnist\n",
    "(x_train,y_train),(x_test,y_test)  = mnist.load_data()\n",
    "x_train = x_train.astype('float32') / 255.0\n",
    "x_test = x_test.astype('float32') / 255.0\n",
    "\n",
    "x_train = x_train.reshape(x_train.shape[0],-1)\n",
    "x_test = x_test.reshape(x_test.shape[0],-1)"
   ]
  },
  {
   "cell_type": "code",
   "execution_count": 13,
   "id": "07db8fc1",
   "metadata": {},
   "outputs": [
    {
     "data": {
      "text/plain": [
       "((60000, 784), (10000, 784))"
      ]
     },
     "execution_count": 13,
     "metadata": {},
     "output_type": "execute_result"
    }
   ],
   "source": [
    "x_train.shape, x_test.shape"
   ]
  },
  {
   "cell_type": "code",
   "execution_count": 14,
   "id": "6b3370f3",
   "metadata": {},
   "outputs": [],
   "source": [
    "model = tf.keras.Sequential([\n",
    "    tf.keras.layers.Dense(512, activation='relu'),\n",
    "    tf.keras.layers.Dense(10, activation='softmax'),\n",
    "])"
   ]
  },
  {
   "cell_type": "code",
   "execution_count": 15,
   "id": "1eee347c",
   "metadata": {},
   "outputs": [],
   "source": [
    "model.compile(optimizer='adam', loss=tf.keras.losses.sparse_categorical_crossentropy,\n",
    "             metrics=['acc'])"
   ]
  },
  {
   "cell_type": "code",
   "execution_count": 16,
   "id": "30bd74a9",
   "metadata": {},
   "outputs": [
    {
     "name": "stdout",
     "output_type": "stream",
     "text": [
      "Epoch 1/5\n",
      "469/469 [==============================] - 3s 5ms/step - loss: 0.2692 - acc: 0.9236\n",
      "Epoch 2/5\n",
      "469/469 [==============================] - 3s 6ms/step - loss: 0.1111 - acc: 0.9672\n",
      "Epoch 3/5\n",
      "469/469 [==============================] - 2s 5ms/step - loss: 0.0724 - acc: 0.9789\n",
      "Epoch 4/5\n",
      "469/469 [==============================] - 2s 5ms/step - loss: 0.0517 - acc: 0.9849\n",
      "Epoch 5/5\n",
      "469/469 [==============================] - 2s 5ms/step - loss: 0.0388 - acc: 0.9885\n"
     ]
    },
    {
     "data": {
      "text/plain": [
       "<keras.callbacks.History at 0x1dd8085baf0>"
      ]
     },
     "execution_count": 16,
     "metadata": {},
     "output_type": "execute_result"
    }
   ],
   "source": [
    "model.fit(x_train,y_train,epochs=5,batch_size=128)"
   ]
  },
  {
   "cell_type": "code",
   "execution_count": 17,
   "id": "33e520dc",
   "metadata": {},
   "outputs": [],
   "source": [
    "# 텐서플로우를 이용해서 위의 식을 구현해 보기"
   ]
  },
  {
   "cell_type": "code",
   "execution_count": 27,
   "id": "5483b8c8",
   "metadata": {},
   "outputs": [],
   "source": [
    "class NativeDense:\n",
    "    def __init__(self,input_size, output_size, activation):\n",
    "        self.activation = activation\n",
    "        w_shape = (input_size,output_size)\n",
    "        w_initial_value = tf.random.uniform(w_shape,minval=0, maxval=1e-1)  # 0.1\n",
    "        self.W = tf.Variable(w_initial_value)\n",
    "        \n",
    "        b_shape = (output_size,)\n",
    "        b_initial_value = tf.zeros(b_shape)\n",
    "        self.b = tf.Variable(b_initial_value)\n",
    "    def __call__(self, inputs):\n",
    "        return self.activation(tf.matmul(inputs, self.W) + self.b)\n",
    "    \n",
    "    @property\n",
    "    def weights(self):\n",
    "        return [self.W, self.b]"
   ]
  },
  {
   "cell_type": "code",
   "execution_count": 28,
   "id": "b8e6783c",
   "metadata": {},
   "outputs": [],
   "source": [
    "class NativeSequential:\n",
    "    def __init__(self, layers):\n",
    "        self.layers = layers\n",
    "    def __call__(self, inputs):\n",
    "        x = inputs\n",
    "        for layer in self.layers:\n",
    "            x = layer(x)\n",
    "        return x\n",
    "    @property\n",
    "    def weights(self):\n",
    "        weights = []\n",
    "        for layer in self.layers:\n",
    "            weights += layer.weights\n",
    "        return weights"
   ]
  },
  {
   "cell_type": "code",
   "execution_count": 29,
   "id": "b9c68282",
   "metadata": {},
   "outputs": [],
   "source": [
    "model = NativeSequential([\n",
    "    NativeDense(input_size=28*28,output_size=512,activation=tf.nn.relu),\n",
    "    NativeDense(input_size=512,output_size=10,activation=tf.nn.relu)    \n",
    "])\n",
    "assert len(model.weights) == 4"
   ]
  },
  {
   "cell_type": "code",
   "execution_count": 32,
   "id": "c8957ff5",
   "metadata": {},
   "outputs": [],
   "source": [
    "#배치 제너레이터\n",
    "import math\n",
    "class BachGenerator:\n",
    "    def __init__(self, images,labels,batch_size=128):\n",
    "        assert len(images) == len(label)\n",
    "        self.index = 0\n",
    "        self.images = images\n",
    "        self.labels = labels\n",
    "        self.batch_size = batch_size\n",
    "        self.num_batches = math.ceil(len(images) / batch_size)  \n",
    "    def next(self):\n",
    "        images = self.images[self.index : self.index+self.batch_size]\n",
    "        labes = self.labels[self.index : self.index+self.batch_size]\n",
    "        selft.index += self.batch_size\n",
    "        return images, labels"
   ]
  },
  {
   "cell_type": "code",
   "execution_count": 30,
   "id": "84c565e7",
   "metadata": {},
   "outputs": [],
   "source": [
    "# 훈련스텝 실행\n",
    "def one_training_step(model, image_batch, labels_batch):\n",
    "    with tf.GradientTape() as tape:\n",
    "        predictions = model(image_batch)\n",
    "        per_sample_losses =  tf.keras.losses.sparse_categorical_crossentropy(labels_batch,predictions)\n",
    "        average_loss = tf.reduce_mean(per_sample_losses)\n",
    "    gradients = tape.gradient(average_loss,model.weights)\n",
    "    update_weights(gradients, model.weights)\n",
    "    return average_loss"
   ]
  },
  {
   "cell_type": "code",
   "execution_count": 33,
   "id": "44f2a9cf",
   "metadata": {},
   "outputs": [],
   "source": [
    "# 가중치 업데이트\n",
    "learning_rate = 1e-3 # 0.001\n",
    "def update_weights(gradients, weights):\n",
    "    for g, w in  zip(gradients, weights):\n",
    "        w.assign_sub(g*learning_rate)"
   ]
  },
  {
   "cell_type": "code",
   "execution_count": 34,
   "id": "155538fc",
   "metadata": {},
   "outputs": [],
   "source": [
    "# 옵티마이져\n",
    "from tensorflow.keras import optimizers\n",
    "optimizer = optimizers.SGD(learning_rate=1e-3)\n",
    "def update_weights(gradients, weights):\n",
    "    optimizer.apply_gradients(zip(gradients, weights))"
   ]
  },
  {
   "cell_type": "code",
   "execution_count": 35,
   "id": "006c7b0e",
   "metadata": {},
   "outputs": [],
   "source": [
    "# 훈련\n",
    "def fit(model,images,labels,epochs,batch_size=128):\n",
    "    for epoch_counter in range(epochs):\n",
    "        print(f\"에포크 {epoch_counter}\")\n",
    "        batch_generator = BachGenerator(images,labels)\n",
    "        for batch_counter in range(batch_generator.num_batches):\n",
    "            images_batch, labels_batch =  batch_generator.next()\n",
    "            loss = one_training_step(model, image_batch, labels_batch)\n",
    "            if batch_counter % 100 ==0:\n",
    "                print(f\"{batch_counter}번째 배치 손실 : {loss:.2f}\")"
   ]
  },
  {
   "cell_type": "code",
   "execution_count": null,
   "id": "45f1c956",
   "metadata": {},
   "outputs": [],
   "source": []
  },
  {
   "cell_type": "code",
   "execution_count": null,
   "id": "4446784b",
   "metadata": {},
   "outputs": [],
   "source": []
  },
  {
   "cell_type": "code",
   "execution_count": null,
   "id": "80104ae4",
   "metadata": {},
   "outputs": [],
   "source": []
  },
  {
   "cell_type": "code",
   "execution_count": null,
   "id": "6b0a4c12",
   "metadata": {},
   "outputs": [],
   "source": []
  },
  {
   "cell_type": "code",
   "execution_count": null,
   "id": "b424c2bf",
   "metadata": {},
   "outputs": [],
   "source": []
  }
 ],
 "metadata": {
  "kernelspec": {
   "display_name": "Python 3 (ipykernel)",
   "language": "python",
   "name": "python3"
  },
  "language_info": {
   "codemirror_mode": {
    "name": "ipython",
    "version": 3
   },
   "file_extension": ".py",
   "mimetype": "text/x-python",
   "name": "python",
   "nbconvert_exporter": "python",
   "pygments_lexer": "ipython3",
   "version": "3.9.12"
  }
 },
 "nbformat": 4,
 "nbformat_minor": 5
}
