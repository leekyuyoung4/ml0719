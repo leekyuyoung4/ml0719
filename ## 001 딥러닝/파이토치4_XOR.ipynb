{
 "cells": [
  {
   "cell_type": "code",
   "execution_count": 1,
   "id": "f3889f68-2526-4535-a5e8-a119eba10beb",
   "metadata": {},
   "outputs": [],
   "source": [
    "# 라이브러리 임포트\n",
    "import torch\n",
    "import torch.nn as nn\n",
    "import torch.nn.functional as F\n",
    "import torch.optim as optim"
   ]
  },
  {
   "cell_type": "code",
   "execution_count": 2,
   "id": "d8e537eb-9f53-4073-a70b-42e2145dd224",
   "metadata": {},
   "outputs": [],
   "source": [
    "# XOR 데이터  양수(1) 음수(0) 일경우에는 양수(1)고 나머지는 음수(0)\n",
    "LABELS = [0,0,1,1] \n",
    "CENTERS = [(-3,-3),(3,3),(-3,3),(3,-3)]"
   ]
  },
  {
   "cell_type": "code",
   "execution_count": 3,
   "id": "48b0552b-1d76-4268-a431-66bdc4496994",
   "metadata": {},
   "outputs": [],
   "source": [
    "class MultilayerPerceptron(nn.Module):\n",
    "    \"\"\"\n",
    "    가중치 초기화 \n",
    "    input_size : 입력 크기\n",
    "    hidden_size : 은닉층 크기\n",
    "    output_size : 출력 크기\n",
    "    num_hidden_layers : 은닉층 개수\n",
    "    hidden_activation : 활성화 함수\n",
    "    \"\"\"\n",
    "    def __init__(self, input_size, hidden_size=2, output_size=3, num_hidden_layers=1, hidden_activation=nn.Sigmoid):\n",
    "        super(MultilayerPerceptron, self).__init__\n",
    "        self.module_list = nn.ModuleList()\n",
    "        interim_input_size =  input_size\n",
    "        interim_output_size = hidden_size\n",
    "        for _ in range(num_hidden_layers):\n",
    "            self.module_list.append(nn.Linear(interim_input_size,interim_output_size))\n",
    "            self.module_list.append(hidden_activation())\n",
    "            interim_input_size = interim_output_size\n",
    "        self.fc_final = nn.Linear(interim_input_size,  output_size)  \n",
    "        self.last_forward_cache = []\n",
    "    # MLP 정방향 계산\n",
    "    def forward(self, x, apply_softmax = False):  # 크로스 엔트로피를 사용하려면 apply_softmax 가 false\n",
    "        self.last_forward_cache = []\n",
    "        self.last_forward_cache.append(x.to('cpu').numpy())\n",
    "        for module in self.module_list:\n",
    "            x = module(x)\n",
    "            self.last_forward_cache.append(x.to('cpu').numpy())\n",
    "        output = self.fc_final(x)\n",
    "        self.last_forward_cache.append(x.to('cpu').numpy())\n",
    "        if apply_softmax:\n",
    "            output = F.softmax(output, dim=1)\n",
    "        return output"
   ]
  },
  {
   "cell_type": "code",
   "execution_count": 4,
   "id": "2e6b4fbb-6187-4b9e-818a-c6708d9b78fb",
   "metadata": {},
   "outputs": [],
   "source": [
    "# 데이터 생성함수\n",
    "def get_data(batch_size):\n",
    "    x_data = []\n",
    "    y_target = np.zeros(batch_size)\n",
    "    n_center = len(CENTERS)\n",
    "    for batch_id in range(batch_size):\n",
    "        center_idx = np.random.randint(0,n_center)\n",
    "        x_data.append(np.random.normal(loc = CENTER[center_idx]))\n",
    "        y_targets[batch_i] = LABELS[center_idx]\n",
    "    return torch.tensor(x_data,dtype=torch.float32), torch.tensor(y_target, dtype=torch.int16)"
   ]
  },
  {
   "cell_type": "code",
   "execution_count": null,
   "id": "523d4593-ec75-40c7-a5f6-0ff163da2654",
   "metadata": {},
   "outputs": [],
   "source": [
    "# 결과 시각화 함수\n",
    "def visulize_results(perceptron, x_data,y_truth,n_samples=1000, ax=None, epoch=None,\n",
    "                     title='',levels=[0.3,0.4,0.5], linestyles=['--','-','--']):\n",
    "    _, y_pred =  perceptron(x_data,apply_softmax=True).max(dim=1)\n",
    "    y_pred = y_pred.data.numpy()\n",
    "    \n",
    "    x_data = x_data.data.numpy()\n",
    "    y_truth = y_truth.data.numpy()\n",
    "    \n",
    "    n_classess = len(set(LABELS))\n",
    "    \n",
    "    all_x =[ []  for _ in range(n_classess)]\n",
    "    all_colors =[ []  for _ in range(n_classess)]\n",
    "    \n",
    "    colors = ['orange','green']\n",
    "    markers = ['o', '*']\n",
    "    enge_color = {'o':'orange', '*':'green'}\n",
    "    \n",
    "    for x_list, color_list,marker in zip(all_x, all_color,markers):\n",
    "        ax.scatter(x_list[:,0],x_list[:,1], edgecolor=enge_color[marker], marker=marker, facecolor=color_list,s=100)\n",
    "    xlim = (\n",
    "        min( [ x_list[:,0].min() for x_list in all_x  ]  ),\n",
    "        max( [ x_list[:,0].max() for x_list in all_x  ]  )\n",
    "    )\n",
    "    ylim = (\n",
    "        min( [ x_list[:,1].min() for x_list in all_x  ]  ),\n",
    "        max( [ x_list[:,1].max() for x_list in all_x  ]  )\n",
    "    )\n",
    "    # 평면\n",
    "    xx = np.linespace(xlim[0], xlim[1], 30)\n",
    "    yy = np.linespace(xlim[0], xlim[1], 30)\n",
    "    YY, XX = np.meshgrid(yy,xx)\n",
    "    xy = np.vstack([XX.ravel(), YY.ravel()] ).T\n",
    "    \n",
    "    for i in range(n_classess):\n",
    "        Z = perceptron(torch.tensor(xy, dtype=torch.float32), apply_softmax =True)\n",
    "        Z = Z[:,i].data.numpy().reshape(XX.shape)\n",
    "        ax.coutour(XX,YY, Z, colors=colors[i], levels=levels, linestyles = linestyles)\n",
    "    # 부가적인 출력\n",
    "    plt.subplot(title)\n",
    "    if epoch is not None:\n",
    "        plt.text(xlim[0], ylim[1], f'Epoch = {str(}'\n",
    "    "
   ]
  },
  {
   "cell_type": "code",
   "execution_count": 10,
   "id": "59d02d57-ae2b-4eaf-ba69-364a9671e81e",
   "metadata": {},
   "outputs": [
    {
     "name": "stdout",
     "output_type": "stream",
     "text": [
      "[1, 2, 3] orange o\n",
      "[4, 5, 6] green *\n"
     ]
    }
   ],
   "source": [
    "all_color = ['orange','green']\n",
    "markers = ['o', '*']\n",
    "enge_color = {'o':'orange', '*':'green'}\n",
    "all_x = [[1,2,3],[4,5,6]]\n",
    "for x_list, color_list,marker in zip(all_x, all_color,markers):\n",
    "    print(x_list,color_list,marker)"
   ]
  },
  {
   "cell_type": "code",
   "execution_count": null,
   "id": "af2660e4-84a1-4d18-88e2-473e07998bae",
   "metadata": {},
   "outputs": [],
   "source": []
  }
 ],
 "metadata": {
  "kernelspec": {
   "display_name": "Python 3 (ipykernel)",
   "language": "python",
   "name": "python3"
  },
  "language_info": {
   "codemirror_mode": {
    "name": "ipython",
    "version": 3
   },
   "file_extension": ".py",
   "mimetype": "text/x-python",
   "name": "python",
   "nbconvert_exporter": "python",
   "pygments_lexer": "ipython3",
   "version": "3.9.12"
  }
 },
 "nbformat": 4,
 "nbformat_minor": 5
}
