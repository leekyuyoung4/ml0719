{
  "nbformat": 4,
  "nbformat_minor": 0,
  "metadata": {
    "colab": {
      "provenance": [],
      "collapsed_sections": []
    },
    "kernelspec": {
      "name": "python3",
      "display_name": "Python 3"
    },
    "language_info": {
      "name": "python"
    },
    "accelerator": "GPU",
    "gpuClass": "standard"
  },
  "cells": [
    {
      "cell_type": "code",
      "execution_count": 1,
      "metadata": {
        "id": "HGhwyJkxmXgI"
      },
      "outputs": [],
      "source": [
        "filepath = '/content/drive/MyDrive/Colab Notebooks/mnist.zip'"
      ]
    },
    {
      "cell_type": "code",
      "source": [
        "import zipfile\n",
        "zipex = zipfile.ZipFile(filepath)\n",
        "zipex.extractall('/content/drive/MyDrive/Colab Notebooks/mnist')\n",
        "zipex.close()    "
      ],
      "metadata": {
        "id": "1EGIu8e8n1XB"
      },
      "execution_count": 5,
      "outputs": []
    },
    {
      "cell_type": "code",
      "source": [
        "# !unzip -qq '/content/drive/MyDrive/Colab Notebooks/mnist.zip'"
      ],
      "metadata": {
        "colab": {
          "base_uri": "https://localhost:8080/"
        },
        "id": "fNdZz5WroGxV",
        "outputId": "df611741-f929-499a-a975-a282460f368a"
      },
      "execution_count": 9,
      "outputs": [
        {
          "output_type": "stream",
          "name": "stdout",
          "text": [
            "replace sample_submission.csv? [y]es, [n]o, [A]ll, [N]one, [r]ename: y\n",
            "replace test.csv? [y]es, [n]o, [A]ll, [N]one, [r]ename: A\n"
          ]
        }
      ]
    },
    {
      "cell_type": "code",
      "source": [
        "import pandas as pd\n",
        "import numpy as np\n",
        "import tensorflow as tf\n",
        "from tensorflow.keras.layers import Conv2D,MaxPooling2D,Dropout,Flatten,Dense"
      ],
      "metadata": {
        "id": "hXHAr54uoQME"
      },
      "execution_count": 12,
      "outputs": []
    },
    {
      "cell_type": "code",
      "source": [
        "from scipy.sparse import random\n",
        "# 데이터 로드\n",
        "train_df = pd.read_csv('/content/drive/MyDrive/Colab Notebooks/mnist/train.csv',index_col=0)\n",
        "x_train = train_df.iloc[:,1:]\n",
        "y_train = train_df.iloc[:,0]\n",
        "x_train = x_train.astype('float32')/255.  # 데이터 정규화\n",
        "y_train = tf.keras.utils.to_categorical(y_train,10)\n",
        "\n",
        "from sklearn.model_selection import train_test_split\n",
        "x_train,x_test,y_train,y_test = train_test_split(x_train,y_train,random_state=32)\n",
        "x_train.shape, y_train.shape"
      ],
      "metadata": {
        "colab": {
          "base_uri": "https://localhost:8080/"
        },
        "id": "SD9gHFgWpmNG",
        "outputId": "f726537a-d251-4dad-b11c-2d3bbe547c2c"
      },
      "execution_count": 13,
      "outputs": [
        {
          "output_type": "execute_result",
          "data": {
            "text/plain": [
              "((45000, 784), (45000, 10))"
            ]
          },
          "metadata": {},
          "execution_count": 13
        }
      ]
    },
    {
      "cell_type": "code",
      "source": [
        "inputs = tf.keras.Input(shape=(28,28,1))\n",
        "x = Conv2D(32,3,activation='relu')(inputs)\n",
        "x = tf.keras.layers.BatchNormalization()(x)\n",
        "x = MaxPooling2D(2)(x)\n",
        "x = Conv2D(16,3,activation='relu')(x)\n",
        "x = tf.keras.layers.BatchNormalization()(x)\n",
        "x = MaxPooling2D(2)(x)\n",
        "x = Conv2D(32,3,activation='relu')(x)\n",
        "x = tf.keras.layers.BatchNormalization()(x)\n",
        "x = MaxPooling2D(2)(x)\n",
        "x = Flatten()(x)\n",
        "x = Dense(64,activation='relu')(x)\n",
        "outputs = Dense(10,activation='softmax')(x)"
      ],
      "metadata": {
        "id": "FLYIu68tpqiU"
      },
      "execution_count": 14,
      "outputs": []
    },
    {
      "cell_type": "code",
      "source": [
        "model = tf.keras.Model(inputs,outputs)\n",
        "callback = [\n",
        "    tf.keras.callbacks.EarlyStopping(patience=5)\n",
        "]\n",
        "model.compile(loss='mse',\n",
        "              optimizer='adam',metrics=['acc'])\n",
        "x_train_reshape = x_train.to_numpy().reshape(-1,28,28,1)\n",
        "x_test_reshape = x_test.to_numpy().reshape(-1,28,28,1)\n",
        "history = model.fit(x_train_reshape,y_train, batch_size=126\n",
        "                    , epochs=200,callbacks =callback ,validation_data=(x_test_reshape,y_test))"
      ],
      "metadata": {
        "colab": {
          "base_uri": "https://localhost:8080/"
        },
        "id": "4AzAxTtCptxM",
        "outputId": "e739bd8c-fa4a-4e14-98b8-f05d44aae6de"
      },
      "execution_count": 16,
      "outputs": [
        {
          "output_type": "stream",
          "name": "stdout",
          "text": [
            "Epoch 1/200\n",
            "358/358 [==============================] - 3s 8ms/step - loss: 0.0045 - acc: 0.9709 - val_loss: 0.0041 - val_acc: 0.9743\n",
            "Epoch 2/200\n",
            "358/358 [==============================] - 2s 6ms/step - loss: 0.0032 - acc: 0.9794 - val_loss: 0.0034 - val_acc: 0.9780\n",
            "Epoch 3/200\n",
            "358/358 [==============================] - 2s 6ms/step - loss: 0.0027 - acc: 0.9837 - val_loss: 0.0033 - val_acc: 0.9781\n",
            "Epoch 4/200\n",
            "358/358 [==============================] - 2s 6ms/step - loss: 0.0022 - acc: 0.9861 - val_loss: 0.0028 - val_acc: 0.9825\n",
            "Epoch 5/200\n",
            "358/358 [==============================] - 2s 6ms/step - loss: 0.0019 - acc: 0.9885 - val_loss: 0.0027 - val_acc: 0.9824\n",
            "Epoch 6/200\n",
            "358/358 [==============================] - 2s 6ms/step - loss: 0.0017 - acc: 0.9895 - val_loss: 0.0031 - val_acc: 0.9800\n",
            "Epoch 7/200\n",
            "358/358 [==============================] - 2s 6ms/step - loss: 0.0017 - acc: 0.9897 - val_loss: 0.0027 - val_acc: 0.9829\n",
            "Epoch 8/200\n",
            "358/358 [==============================] - 2s 6ms/step - loss: 0.0014 - acc: 0.9915 - val_loss: 0.0029 - val_acc: 0.9821\n",
            "Epoch 9/200\n",
            "358/358 [==============================] - 2s 6ms/step - loss: 0.0013 - acc: 0.9917 - val_loss: 0.0028 - val_acc: 0.9817\n",
            "Epoch 10/200\n",
            "358/358 [==============================] - 2s 6ms/step - loss: 0.0012 - acc: 0.9927 - val_loss: 0.0030 - val_acc: 0.9819\n"
          ]
        }
      ]
    },
    {
      "cell_type": "code",
      "source": [
        "# 모델이 완성되었으니  제공한 테스트를 돌려서 제출\n",
        "test_df = pd.read_csv('/content/drive/MyDrive/Colab Notebooks/mnist/test.csv',index_col=0)\n",
        "x_test = x_test.astype('float32')/255.  # 데이터 정규화"
      ],
      "metadata": {
        "id": "YQAc980RpzuU"
      },
      "execution_count": 36,
      "outputs": []
    },
    {
      "cell_type": "code",
      "source": [
        "len(test_df)"
      ],
      "metadata": {
        "colab": {
          "base_uri": "https://localhost:8080/"
        },
        "id": "-f05Y58kvMQ2",
        "outputId": "924903d4-b06f-4e99-adab-6fd47f0790c4"
      },
      "execution_count": 35,
      "outputs": [
        {
          "output_type": "execute_result",
          "data": {
            "text/plain": [
              "10000"
            ]
          },
          "metadata": {},
          "execution_count": 35
        }
      ]
    },
    {
      "cell_type": "code",
      "source": [
        "test_reshape = test_df.to_numpy().reshape(-1,28,28,1)\n",
        "test_reshape.shape"
      ],
      "metadata": {
        "colab": {
          "base_uri": "https://localhost:8080/"
        },
        "id": "h7I8sbH2tWbN",
        "outputId": "9ec174a9-6d75-44ed-884c-4df50903821c"
      },
      "execution_count": 37,
      "outputs": [
        {
          "output_type": "execute_result",
          "data": {
            "text/plain": [
              "(10000, 28, 28, 1)"
            ]
          },
          "metadata": {},
          "execution_count": 37
        }
      ]
    },
    {
      "cell_type": "code",
      "source": [
        "result = model.predict(test_reshape)"
      ],
      "metadata": {
        "colab": {
          "base_uri": "https://localhost:8080/"
        },
        "id": "-hjODAgMtYLc",
        "outputId": "7bfee1bc-ce35-40ec-d1fa-7218109f93f5"
      },
      "execution_count": 38,
      "outputs": [
        {
          "output_type": "stream",
          "name": "stdout",
          "text": [
            "313/313 [==============================] - 1s 2ms/step\n"
          ]
        }
      ]
    },
    {
      "cell_type": "code",
      "source": [
        "len(np.argmax(result,axis=1))"
      ],
      "metadata": {
        "colab": {
          "base_uri": "https://localhost:8080/"
        },
        "id": "yVw_Wsytt_nb",
        "outputId": "3a6fc98f-65a2-416a-a1a7-59d10c8c5260"
      },
      "execution_count": 39,
      "outputs": [
        {
          "output_type": "execute_result",
          "data": {
            "text/plain": [
              "10000"
            ]
          },
          "metadata": {},
          "execution_count": 39
        }
      ]
    },
    {
      "cell_type": "code",
      "source": [
        "[np.argmax(i) for i in result ]"
      ],
      "metadata": {
        "id": "aDJ6sy-duU_z"
      },
      "execution_count": null,
      "outputs": []
    },
    {
      "cell_type": "code",
      "source": [
        "submission_df = pd.read_csv('/content/drive/MyDrive/Colab Notebooks/mnist/sample_submission.csv',index_col=0)"
      ],
      "metadata": {
        "id": "_NcEnPlTuruz"
      },
      "execution_count": 41,
      "outputs": []
    },
    {
      "cell_type": "code",
      "source": [
        "submission_df['label'] = [np.argmax(i) for i in result ]"
      ],
      "metadata": {
        "id": "HSGanD-4u8vl"
      },
      "execution_count": 42,
      "outputs": []
    },
    {
      "cell_type": "code",
      "source": [
        "submission_df.to_csv('submission.csv')"
      ],
      "metadata": {
        "id": "x6z0S6FZu94M"
      },
      "execution_count": 45,
      "outputs": []
    },
    {
      "cell_type": "code",
      "source": [
        "train_df = pd.read_csv('/content/drive/MyDrive/Colab Notebooks/mnist/train.csv',index_col=0)\n",
        "x_train = train_df.iloc[:,1:]"
      ],
      "metadata": {
        "id": "Isv6VrSV3NF8"
      },
      "execution_count": 97,
      "outputs": []
    },
    {
      "cell_type": "code",
      "source": [
        "print(x_train.shape)\n",
        "a = pd.concat((x_train,pd.DataFrame( np.zeros((60000,4841)))) ,axis=1)\n",
        "print(a.shape)\n",
        "# np.concatenate((temp[0],np.zeros(4841)), axis=0)\n",
        "a.head()"
      ],
      "metadata": {
        "colab": {
          "base_uri": "https://localhost:8080/",
          "height": 315
        },
        "id": "2AVgITca6uBu",
        "outputId": "e9601342-e76d-48f5-8be8-e33743468b19"
      },
      "execution_count": 107,
      "outputs": [
        {
          "output_type": "stream",
          "name": "stdout",
          "text": [
            "(60000, 784)\n",
            "(60000, 5625)\n"
          ]
        },
        {
          "output_type": "execute_result",
          "data": {
            "text/plain": [
              "   px1  px2  px3  px4  px5  px6  px7  px8  px9  px10  ...  4831  4832  4833  \\\n",
              "0    0    0    0    0    0    0    0    0    0     0  ...   0.0   0.0   0.0   \n",
              "1    0    0    0    0    0    0    0    0    0     0  ...   0.0   0.0   0.0   \n",
              "2    0    0    0    0    0    0    0    0    0     0  ...   0.0   0.0   0.0   \n",
              "3    0    0    0    0    0    0    0    0    0     0  ...   0.0   0.0   0.0   \n",
              "4    0    0    0    0    0    0    0    0    0     0  ...   0.0   0.0   0.0   \n",
              "\n",
              "   4834  4835  4836  4837  4838  4839  4840  \n",
              "0   0.0   0.0   0.0   0.0   0.0   0.0   0.0  \n",
              "1   0.0   0.0   0.0   0.0   0.0   0.0   0.0  \n",
              "2   0.0   0.0   0.0   0.0   0.0   0.0   0.0  \n",
              "3   0.0   0.0   0.0   0.0   0.0   0.0   0.0  \n",
              "4   0.0   0.0   0.0   0.0   0.0   0.0   0.0  \n",
              "\n",
              "[5 rows x 5625 columns]"
            ],
            "text/html": [
              "\n",
              "  <div id=\"df-16d3a7bf-eec8-4355-ac3a-dd6aa5c5393a\">\n",
              "    <div class=\"colab-df-container\">\n",
              "      <div>\n",
              "<style scoped>\n",
              "    .dataframe tbody tr th:only-of-type {\n",
              "        vertical-align: middle;\n",
              "    }\n",
              "\n",
              "    .dataframe tbody tr th {\n",
              "        vertical-align: top;\n",
              "    }\n",
              "\n",
              "    .dataframe thead th {\n",
              "        text-align: right;\n",
              "    }\n",
              "</style>\n",
              "<table border=\"1\" class=\"dataframe\">\n",
              "  <thead>\n",
              "    <tr style=\"text-align: right;\">\n",
              "      <th></th>\n",
              "      <th>px1</th>\n",
              "      <th>px2</th>\n",
              "      <th>px3</th>\n",
              "      <th>px4</th>\n",
              "      <th>px5</th>\n",
              "      <th>px6</th>\n",
              "      <th>px7</th>\n",
              "      <th>px8</th>\n",
              "      <th>px9</th>\n",
              "      <th>px10</th>\n",
              "      <th>...</th>\n",
              "      <th>4831</th>\n",
              "      <th>4832</th>\n",
              "      <th>4833</th>\n",
              "      <th>4834</th>\n",
              "      <th>4835</th>\n",
              "      <th>4836</th>\n",
              "      <th>4837</th>\n",
              "      <th>4838</th>\n",
              "      <th>4839</th>\n",
              "      <th>4840</th>\n",
              "    </tr>\n",
              "  </thead>\n",
              "  <tbody>\n",
              "    <tr>\n",
              "      <th>0</th>\n",
              "      <td>0</td>\n",
              "      <td>0</td>\n",
              "      <td>0</td>\n",
              "      <td>0</td>\n",
              "      <td>0</td>\n",
              "      <td>0</td>\n",
              "      <td>0</td>\n",
              "      <td>0</td>\n",
              "      <td>0</td>\n",
              "      <td>0</td>\n",
              "      <td>...</td>\n",
              "      <td>0.0</td>\n",
              "      <td>0.0</td>\n",
              "      <td>0.0</td>\n",
              "      <td>0.0</td>\n",
              "      <td>0.0</td>\n",
              "      <td>0.0</td>\n",
              "      <td>0.0</td>\n",
              "      <td>0.0</td>\n",
              "      <td>0.0</td>\n",
              "      <td>0.0</td>\n",
              "    </tr>\n",
              "    <tr>\n",
              "      <th>1</th>\n",
              "      <td>0</td>\n",
              "      <td>0</td>\n",
              "      <td>0</td>\n",
              "      <td>0</td>\n",
              "      <td>0</td>\n",
              "      <td>0</td>\n",
              "      <td>0</td>\n",
              "      <td>0</td>\n",
              "      <td>0</td>\n",
              "      <td>0</td>\n",
              "      <td>...</td>\n",
              "      <td>0.0</td>\n",
              "      <td>0.0</td>\n",
              "      <td>0.0</td>\n",
              "      <td>0.0</td>\n",
              "      <td>0.0</td>\n",
              "      <td>0.0</td>\n",
              "      <td>0.0</td>\n",
              "      <td>0.0</td>\n",
              "      <td>0.0</td>\n",
              "      <td>0.0</td>\n",
              "    </tr>\n",
              "    <tr>\n",
              "      <th>2</th>\n",
              "      <td>0</td>\n",
              "      <td>0</td>\n",
              "      <td>0</td>\n",
              "      <td>0</td>\n",
              "      <td>0</td>\n",
              "      <td>0</td>\n",
              "      <td>0</td>\n",
              "      <td>0</td>\n",
              "      <td>0</td>\n",
              "      <td>0</td>\n",
              "      <td>...</td>\n",
              "      <td>0.0</td>\n",
              "      <td>0.0</td>\n",
              "      <td>0.0</td>\n",
              "      <td>0.0</td>\n",
              "      <td>0.0</td>\n",
              "      <td>0.0</td>\n",
              "      <td>0.0</td>\n",
              "      <td>0.0</td>\n",
              "      <td>0.0</td>\n",
              "      <td>0.0</td>\n",
              "    </tr>\n",
              "    <tr>\n",
              "      <th>3</th>\n",
              "      <td>0</td>\n",
              "      <td>0</td>\n",
              "      <td>0</td>\n",
              "      <td>0</td>\n",
              "      <td>0</td>\n",
              "      <td>0</td>\n",
              "      <td>0</td>\n",
              "      <td>0</td>\n",
              "      <td>0</td>\n",
              "      <td>0</td>\n",
              "      <td>...</td>\n",
              "      <td>0.0</td>\n",
              "      <td>0.0</td>\n",
              "      <td>0.0</td>\n",
              "      <td>0.0</td>\n",
              "      <td>0.0</td>\n",
              "      <td>0.0</td>\n",
              "      <td>0.0</td>\n",
              "      <td>0.0</td>\n",
              "      <td>0.0</td>\n",
              "      <td>0.0</td>\n",
              "    </tr>\n",
              "    <tr>\n",
              "      <th>4</th>\n",
              "      <td>0</td>\n",
              "      <td>0</td>\n",
              "      <td>0</td>\n",
              "      <td>0</td>\n",
              "      <td>0</td>\n",
              "      <td>0</td>\n",
              "      <td>0</td>\n",
              "      <td>0</td>\n",
              "      <td>0</td>\n",
              "      <td>0</td>\n",
              "      <td>...</td>\n",
              "      <td>0.0</td>\n",
              "      <td>0.0</td>\n",
              "      <td>0.0</td>\n",
              "      <td>0.0</td>\n",
              "      <td>0.0</td>\n",
              "      <td>0.0</td>\n",
              "      <td>0.0</td>\n",
              "      <td>0.0</td>\n",
              "      <td>0.0</td>\n",
              "      <td>0.0</td>\n",
              "    </tr>\n",
              "  </tbody>\n",
              "</table>\n",
              "<p>5 rows × 5625 columns</p>\n",
              "</div>\n",
              "      <button class=\"colab-df-convert\" onclick=\"convertToInteractive('df-16d3a7bf-eec8-4355-ac3a-dd6aa5c5393a')\"\n",
              "              title=\"Convert this dataframe to an interactive table.\"\n",
              "              style=\"display:none;\">\n",
              "        \n",
              "  <svg xmlns=\"http://www.w3.org/2000/svg\" height=\"24px\"viewBox=\"0 0 24 24\"\n",
              "       width=\"24px\">\n",
              "    <path d=\"M0 0h24v24H0V0z\" fill=\"none\"/>\n",
              "    <path d=\"M18.56 5.44l.94 2.06.94-2.06 2.06-.94-2.06-.94-.94-2.06-.94 2.06-2.06.94zm-11 1L8.5 8.5l.94-2.06 2.06-.94-2.06-.94L8.5 2.5l-.94 2.06-2.06.94zm10 10l.94 2.06.94-2.06 2.06-.94-2.06-.94-.94-2.06-.94 2.06-2.06.94z\"/><path d=\"M17.41 7.96l-1.37-1.37c-.4-.4-.92-.59-1.43-.59-.52 0-1.04.2-1.43.59L10.3 9.45l-7.72 7.72c-.78.78-.78 2.05 0 2.83L4 21.41c.39.39.9.59 1.41.59.51 0 1.02-.2 1.41-.59l7.78-7.78 2.81-2.81c.8-.78.8-2.07 0-2.86zM5.41 20L4 18.59l7.72-7.72 1.47 1.35L5.41 20z\"/>\n",
              "  </svg>\n",
              "      </button>\n",
              "      \n",
              "  <style>\n",
              "    .colab-df-container {\n",
              "      display:flex;\n",
              "      flex-wrap:wrap;\n",
              "      gap: 12px;\n",
              "    }\n",
              "\n",
              "    .colab-df-convert {\n",
              "      background-color: #E8F0FE;\n",
              "      border: none;\n",
              "      border-radius: 50%;\n",
              "      cursor: pointer;\n",
              "      display: none;\n",
              "      fill: #1967D2;\n",
              "      height: 32px;\n",
              "      padding: 0 0 0 0;\n",
              "      width: 32px;\n",
              "    }\n",
              "\n",
              "    .colab-df-convert:hover {\n",
              "      background-color: #E2EBFA;\n",
              "      box-shadow: 0px 1px 2px rgba(60, 64, 67, 0.3), 0px 1px 3px 1px rgba(60, 64, 67, 0.15);\n",
              "      fill: #174EA6;\n",
              "    }\n",
              "\n",
              "    [theme=dark] .colab-df-convert {\n",
              "      background-color: #3B4455;\n",
              "      fill: #D2E3FC;\n",
              "    }\n",
              "\n",
              "    [theme=dark] .colab-df-convert:hover {\n",
              "      background-color: #434B5C;\n",
              "      box-shadow: 0px 1px 3px 1px rgba(0, 0, 0, 0.15);\n",
              "      filter: drop-shadow(0px 1px 2px rgba(0, 0, 0, 0.3));\n",
              "      fill: #FFFFFF;\n",
              "    }\n",
              "  </style>\n",
              "\n",
              "      <script>\n",
              "        const buttonEl =\n",
              "          document.querySelector('#df-16d3a7bf-eec8-4355-ac3a-dd6aa5c5393a button.colab-df-convert');\n",
              "        buttonEl.style.display =\n",
              "          google.colab.kernel.accessAllowed ? 'block' : 'none';\n",
              "\n",
              "        async function convertToInteractive(key) {\n",
              "          const element = document.querySelector('#df-16d3a7bf-eec8-4355-ac3a-dd6aa5c5393a');\n",
              "          const dataTable =\n",
              "            await google.colab.kernel.invokeFunction('convertToInteractive',\n",
              "                                                     [key], {});\n",
              "          if (!dataTable) return;\n",
              "\n",
              "          const docLinkHtml = 'Like what you see? Visit the ' +\n",
              "            '<a target=\"_blank\" href=https://colab.research.google.com/notebooks/data_table.ipynb>data table notebook</a>'\n",
              "            + ' to learn more about interactive tables.';\n",
              "          element.innerHTML = '';\n",
              "          dataTable['output_type'] = 'display_data';\n",
              "          await google.colab.output.renderOutput(dataTable, element);\n",
              "          const docLink = document.createElement('div');\n",
              "          docLink.innerHTML = docLinkHtml;\n",
              "          element.appendChild(docLink);\n",
              "        }\n",
              "      </script>\n",
              "    </div>\n",
              "  </div>\n",
              "  "
            ]
          },
          "metadata": {},
          "execution_count": 107
        }
      ]
    },
    {
      "cell_type": "code",
      "source": [
        "a = a.to_numpy().reshape(-1,75,75)\n",
        "a.shape"
      ],
      "metadata": {
        "colab": {
          "base_uri": "https://localhost:8080/"
        },
        "id": "_Pj1W5Gg6uF_",
        "outputId": "38109c12-fdde-4306-cdda-615ef7cf7ee7"
      },
      "execution_count": 110,
      "outputs": [
        {
          "output_type": "execute_result",
          "data": {
            "text/plain": [
              "(60000, 75, 75)"
            ]
          },
          "metadata": {},
          "execution_count": 110
        }
      ]
    },
    {
      "cell_type": "code",
      "source": [],
      "metadata": {
        "id": "Fxn5W1HR6uLc"
      },
      "execution_count": null,
      "outputs": []
    },
    {
      "cell_type": "code",
      "source": [],
      "metadata": {
        "id": "00qpr6WJ6caT"
      },
      "execution_count": null,
      "outputs": []
    }
  ]
}