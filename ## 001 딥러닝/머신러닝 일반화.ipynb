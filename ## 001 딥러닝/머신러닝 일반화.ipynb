{
 "cells": [
  {
   "cell_type": "markdown",
   "id": "37ab3707",
   "metadata": {},
   "source": [
    "## 케라스 모델을 만드는 방법"
   ]
  },
  {
   "cell_type": "code",
   "execution_count": 2,
   "id": "9dc84008",
   "metadata": {},
   "outputs": [],
   "source": [
    "# Sequential 클래스\n",
    "from tensorflow import keras\n",
    "from tensorflow.keras import layers\n",
    "model = keras.Sequential([\n",
    "    layers.Dense(64,activation='relu'),\n",
    "    layers.Dense(10,activation='softmax'),\n",
    "])"
   ]
  },
  {
   "cell_type": "code",
   "execution_count": 11,
   "id": "13477f35",
   "metadata": {},
   "outputs": [],
   "source": [
    "# 점진적으로 Sequenential 모델 만들기\n",
    "model = keras.Sequential()\n",
    "model.add(layers.Dense(10,activation='relu'))\n",
    "model.add(layers.Dense(10,activation='softmax'))"
   ]
  },
  {
   "cell_type": "markdown",
   "id": "e4572b51",
   "metadata": {},
   "source": [
    "# 가중치를 만들기위해 모델을 호출"
   ]
  },
  {
   "cell_type": "code",
   "execution_count": 13,
   "id": "d0a81f57",
   "metadata": {},
   "outputs": [],
   "source": [
    "import numpy as np\n",
    "model.build(input_shape=(None,3))"
   ]
  },
  {
   "cell_type": "code",
   "execution_count": 14,
   "id": "9c11f591",
   "metadata": {},
   "outputs": [
    {
     "data": {
      "text/plain": [
       "[<tf.Variable 'dense_4/kernel:0' shape=(3, 10) dtype=float32, numpy=\n",
       " array([[ 0.65858877, -0.57797194,  0.41845393,  0.4902631 , -0.19472605,\n",
       "          0.6434659 , -0.6606332 , -0.15222257, -0.5996388 ,  0.39405823],\n",
       "        [-0.6489726 , -0.09328169, -0.5287276 , -0.43231142, -0.65720725,\n",
       "          0.51808226,  0.20914036,  0.25468862, -0.52722466, -0.5128592 ],\n",
       "        [ 0.0816353 , -0.49643606,  0.60862255,  0.30925995,  0.55039   ,\n",
       "          0.2997296 ,  0.03254402, -0.11580104,  0.18438011,  0.19523996]],\n",
       "       dtype=float32)>,\n",
       " <tf.Variable 'dense_4/bias:0' shape=(10,) dtype=float32, numpy=array([0., 0., 0., 0., 0., 0., 0., 0., 0., 0.], dtype=float32)>,\n",
       " <tf.Variable 'dense_5/kernel:0' shape=(10, 10) dtype=float32, numpy=\n",
       " array([[ 0.539994  ,  0.24339867,  0.19437599, -0.5031097 , -0.4557228 ,\n",
       "         -0.19302961,  0.2560475 ,  0.4392038 ,  0.39331698, -0.09758469],\n",
       "        [ 0.4964168 ,  0.24111158, -0.04845935, -0.12723494,  0.4446745 ,\n",
       "          0.43546015, -0.14564592, -0.11275151,  0.07982039,  0.03572202],\n",
       "        [-0.19464263,  0.23847204,  0.17951488, -0.34656912, -0.39082554,\n",
       "          0.38083118,  0.32756555, -0.20693585,  0.5327134 ,  0.374654  ],\n",
       "        [ 0.24349612,  0.46431673,  0.4748299 , -0.08192128, -0.362168  ,\n",
       "         -0.1915536 , -0.12128824,  0.29699314,  0.4620118 ,  0.382293  ],\n",
       "        [ 0.33148658, -0.4834093 , -0.38202265, -0.00957334, -0.19723219,\n",
       "         -0.4192174 , -0.13380778,  0.4020127 , -0.19376063, -0.32175   ],\n",
       "        [ 0.23401064,  0.19773883, -0.52846175,  0.03691113,  0.01085782,\n",
       "          0.12934864,  0.5075309 , -0.32334107,  0.02372485,  0.0840534 ],\n",
       "        [ 0.34964263, -0.46717063, -0.45930666,  0.4984243 , -0.09121713,\n",
       "         -0.17502254, -0.44036576, -0.00895399,  0.00841504, -0.4592278 ],\n",
       "        [ 0.1988312 , -0.4546315 ,  0.04263973,  0.4863248 , -0.09660295,\n",
       "         -0.4069687 , -0.29374906, -0.25414288, -0.5102925 ,  0.2678967 ],\n",
       "        [ 0.27554977,  0.10992652, -0.16152284, -0.38379496, -0.01986611,\n",
       "          0.22964549, -0.44524947,  0.07152104,  0.09870517, -0.06957674],\n",
       "        [ 0.07766467,  0.3494683 , -0.40143782, -0.17266089,  0.54515266,\n",
       "         -0.05470207, -0.51388884,  0.06597412, -0.44279024, -0.03905642]],\n",
       "       dtype=float32)>,\n",
       " <tf.Variable 'dense_5/bias:0' shape=(10,) dtype=float32, numpy=array([0., 0., 0., 0., 0., 0., 0., 0., 0., 0.], dtype=float32)>]"
      ]
     },
     "execution_count": 14,
     "metadata": {},
     "output_type": "execute_result"
    }
   ],
   "source": [
    "model.weights"
   ]
  },
  {
   "cell_type": "code",
   "execution_count": 15,
   "id": "efc7a9f9",
   "metadata": {},
   "outputs": [
    {
     "name": "stdout",
     "output_type": "stream",
     "text": [
      "Model: \"sequential_2\"\n",
      "_________________________________________________________________\n",
      " Layer (type)                Output Shape              Param #   \n",
      "=================================================================\n",
      " dense_4 (Dense)             (None, 10)                40        \n",
      "                                                                 \n",
      " dense_5 (Dense)             (None, 10)                110       \n",
      "                                                                 \n",
      "=================================================================\n",
      "Total params: 150\n",
      "Trainable params: 150\n",
      "Non-trainable params: 0\n",
      "_________________________________________________________________\n"
     ]
    }
   ],
   "source": [
    "model.summary()"
   ]
  },
  {
   "cell_type": "code",
   "execution_count": 16,
   "id": "051928df",
   "metadata": {},
   "outputs": [
    {
     "name": "stdout",
     "output_type": "stream",
     "text": [
      "Model: \"myModel\"\n",
      "_________________________________________________________________\n",
      " Layer (type)                Output Shape              Param #   \n",
      "=================================================================\n",
      " first_layer (Dense)         (None, 64)                256       \n",
      "                                                                 \n",
      " last_layer (Dense)          (None, 10)                650       \n",
      "                                                                 \n",
      "=================================================================\n",
      "Total params: 906\n",
      "Trainable params: 906\n",
      "Non-trainable params: 0\n",
      "_________________________________________________________________\n"
     ]
    }
   ],
   "source": [
    "model = keras.Sequential(name='myModel')\n",
    "model.add(layers.Dense(64,activation='relu', name='first_layer'))\n",
    "model.add(layers.Dense(10,activation='relu', name='last_layer'))\n",
    "model.build((None,3))\n",
    "model.summary()"
   ]
  },
  {
   "cell_type": "code",
   "execution_count": 17,
   "id": "3d3e6662",
   "metadata": {},
   "outputs": [
    {
     "name": "stdout",
     "output_type": "stream",
     "text": [
      "Model: \"sequential_3\"\n",
      "_________________________________________________________________\n",
      " Layer (type)                Output Shape              Param #   \n",
      "=================================================================\n",
      " dense_6 (Dense)             (None, 64)                256       \n",
      "                                                                 \n",
      "=================================================================\n",
      "Total params: 256\n",
      "Trainable params: 256\n",
      "Non-trainable params: 0\n",
      "_________________________________________________________________\n"
     ]
    }
   ],
   "source": [
    "# 모델의 입력 크기를 미리 지정\n",
    "model = keras.Sequential()\n",
    "model.add(keras.Input(shape=(3,)))\n",
    "model.add(layers.Dense(64,activation='relu'))\n",
    "model.summary()"
   ]
  },
  {
   "cell_type": "code",
   "execution_count": 18,
   "id": "eeabaaaf",
   "metadata": {},
   "outputs": [
    {
     "name": "stdout",
     "output_type": "stream",
     "text": [
      "Model: \"sequential_3\"\n",
      "_________________________________________________________________\n",
      " Layer (type)                Output Shape              Param #   \n",
      "=================================================================\n",
      " dense_6 (Dense)             (None, 64)                256       \n",
      "                                                                 \n",
      " dense_7 (Dense)             (None, 10)                650       \n",
      "                                                                 \n",
      "=================================================================\n",
      "Total params: 906\n",
      "Trainable params: 906\n",
      "Non-trainable params: 0\n",
      "_________________________________________________________________\n"
     ]
    }
   ],
   "source": [
    "model.add(layers.Dense(10,activation='softmax'))\n",
    "model.summary()"
   ]
  },
  {
   "cell_type": "markdown",
   "id": "b51ca6e5",
   "metadata": {},
   "source": [
    "# 함수형 API\n",
    "# 두개의 Dense층을 가지는 간단한 함수형 모델"
   ]
  },
  {
   "cell_type": "code",
   "execution_count": 26,
   "id": "c5e0bd46",
   "metadata": {},
   "outputs": [],
   "source": [
    "inputs = keras.Input(shape=(3,), name='my_input')\n",
    "features = layers.Dense(64,activation='relu')(inputs)\n",
    "outputs = layers.Dense(10,activation='softmax')(features)"
   ]
  },
  {
   "cell_type": "code",
   "execution_count": 28,
   "id": "95b61dd9",
   "metadata": {},
   "outputs": [
    {
     "name": "stdout",
     "output_type": "stream",
     "text": [
      "Model: \"model_1\"\n",
      "_________________________________________________________________\n",
      " Layer (type)                Output Shape              Param #   \n",
      "=================================================================\n",
      " my_input (InputLayer)       [(None, 3)]               0         \n",
      "                                                                 \n",
      " dense_9 (Dense)             (None, 64)                256       \n",
      "                                                                 \n",
      "=================================================================\n",
      "Total params: 256\n",
      "Trainable params: 256\n",
      "Non-trainable params: 0\n",
      "_________________________________________________________________\n"
     ]
    }
   ],
   "source": [
    "model = keras.Model(inputs=inputs, outputs=features)\n",
    "model.summary()"
   ]
  },
  {
   "cell_type": "code",
   "execution_count": 29,
   "id": "c36341cf",
   "metadata": {},
   "outputs": [
    {
     "name": "stdout",
     "output_type": "stream",
     "text": [
      "Model: \"model_2\"\n",
      "_________________________________________________________________\n",
      " Layer (type)                Output Shape              Param #   \n",
      "=================================================================\n",
      " my_input (InputLayer)       [(None, 3)]               0         \n",
      "                                                                 \n",
      " dense_9 (Dense)             (None, 64)                256       \n",
      "                                                                 \n",
      " dense_10 (Dense)            (None, 10)                650       \n",
      "                                                                 \n",
      "=================================================================\n",
      "Total params: 906\n",
      "Trainable params: 906\n",
      "Non-trainable params: 0\n",
      "_________________________________________________________________\n"
     ]
    }
   ],
   "source": [
    "model = keras.Model(inputs=inputs, outputs=outputs)\n",
    "model.summary()"
   ]
  },
  {
   "cell_type": "markdown",
   "id": "83be2459",
   "metadata": {},
   "source": [
    "# 다중입력, 다중 출력 함수형 모델"
   ]
  },
  {
   "cell_type": "code",
   "execution_count": 30,
   "id": "152c6445",
   "metadata": {},
   "outputs": [],
   "source": [
    "vocabulary_size = 10000\n",
    "num_tags = 100\n",
    "num_departments = 4"
   ]
  },
  {
   "cell_type": "code",
   "execution_count": 31,
   "id": "c9d3683d",
   "metadata": {},
   "outputs": [],
   "source": [
    "title = keras.Input(shape=(vocabulary_size,),name='title')\n",
    "text_body = keras.Input(shape=(vocabulary_size,), name='text_body')\n",
    "tags = keras.Input(shape=(num_tags,), name='tags')"
   ]
  },
  {
   "cell_type": "code",
   "execution_count": 33,
   "id": "c0608745",
   "metadata": {},
   "outputs": [],
   "source": [
    "features =  layers.Concatenate()([title,text_body,tags])\n",
    "features =  layers.Dense(64,activation='relu')(features)\n",
    "priority = layers.Dense(1,activation='sigmoid',name='priority')(features)\n",
    "department =  layers.Dense(num_departments,activation='softmax',name='department')(features)\n",
    "model = keras.Model(inputs=[title,text_body,tags], outputs = [priority,department])"
   ]
  },
  {
   "cell_type": "code",
   "execution_count": 38,
   "id": "1f3eb643",
   "metadata": {},
   "outputs": [
    {
     "name": "stdout",
     "output_type": "stream",
     "text": [
      "Model: \"model_3\"\n",
      "__________________________________________________________________________________________________\n",
      " Layer (type)                   Output Shape         Param #     Connected to                     \n",
      "==================================================================================================\n",
      " title (InputLayer)             [(None, 10000)]      0           []                               \n",
      "                                                                                                  \n",
      " text_body (InputLayer)         [(None, 10000)]      0           []                               \n",
      "                                                                                                  \n",
      " tags (InputLayer)              [(None, 100)]        0           []                               \n",
      "                                                                                                  \n",
      " concatenate (Concatenate)      (None, 20100)        0           ['title[0][0]',                  \n",
      "                                                                  'text_body[0][0]',              \n",
      "                                                                  'tags[0][0]']                   \n",
      "                                                                                                  \n",
      " dense_11 (Dense)               (None, 64)           1286464     ['concatenate[0][0]']            \n",
      "                                                                                                  \n",
      " priority (Dense)               (None, 1)            65          ['dense_11[0][0]']               \n",
      "                                                                                                  \n",
      " department (Dense)             (None, 4)            260         ['dense_11[0][0]']               \n",
      "                                                                                                  \n",
      "==================================================================================================\n",
      "Total params: 1,286,789\n",
      "Trainable params: 1,286,789\n",
      "Non-trainable params: 0\n",
      "__________________________________________________________________________________________________\n"
     ]
    }
   ],
   "source": [
    "model.summary()"
   ]
  },
  {
   "cell_type": "markdown",
   "id": "a71a0b37",
   "metadata": {},
   "source": [
    "# 입력과 타깃 배열 리스트를 전달해서 모델 훈련"
   ]
  },
  {
   "cell_type": "code",
   "execution_count": 41,
   "id": "d41b03d2",
   "metadata": {},
   "outputs": [],
   "source": [
    "import numpy as np\n",
    "num_samples = 1280\n",
    "title_data = np.random.randint(0,2, size=(num_samples, vocabulary_size))\n",
    "text_body = np.random.randint(0,2, size=(num_samples, vocabulary_size))\n",
    "tags_data = np.random.randint(0,2,size=(num_samples,num_tags))"
   ]
  },
  {
   "cell_type": "code",
   "execution_count": 42,
   "id": "3a5508f3",
   "metadata": {},
   "outputs": [],
   "source": [
    "priority_data = np.random.random(size=(num_samples,1))\n",
    "department_data = np.random.randint(0,2,size=(num_samples, num_departments))"
   ]
  },
  {
   "cell_type": "code",
   "execution_count": 43,
   "id": "16de56d5",
   "metadata": {},
   "outputs": [],
   "source": [
    "model.compile(optimizer='adam',loss = ['mse','categorical_crossentropy'],metrics=['mae','acc'])"
   ]
  },
  {
   "cell_type": "code",
   "execution_count": 45,
   "id": "8dffa1b3",
   "metadata": {},
   "outputs": [
    {
     "name": "stdout",
     "output_type": "stream",
     "text": [
      "40/40 [==============================] - 1s 14ms/step - loss: 16.1834 - priority_loss: 0.3153 - department_loss: 15.8681 - priority_mae: 0.4813 - priority_acc: 0.0000e+00 - department_mae: 0.5044 - department_acc: 0.2805\n"
     ]
    }
   ],
   "source": [
    "history = model.fit([title_data,text_body, tags_data],[priority_data,department_data],epochs=1)"
   ]
  },
  {
   "cell_type": "code",
   "execution_count": 46,
   "id": "c0f809d6",
   "metadata": {},
   "outputs": [
    {
     "name": "stdout",
     "output_type": "stream",
     "text": [
      "40/40 [==============================] - 0s 6ms/step - loss: 5.3147 - priority_loss: 0.3217 - department_loss: 4.9930 - priority_mae: 0.4880 - priority_acc: 0.0000e+00 - department_mae: 0.4727 - department_acc: 0.1562\n"
     ]
    },
    {
     "data": {
      "text/plain": [
       "[5.31471586227417,\n",
       " 0.32170844078063965,\n",
       " 4.993007659912109,\n",
       " 0.4879694879055023,\n",
       " 0.0,\n",
       " 0.47270798683166504,\n",
       " 0.15625]"
      ]
     },
     "execution_count": 46,
     "metadata": {},
     "output_type": "execute_result"
    }
   ],
   "source": [
    "model.evaluate([title_data,text_body, tags_data],[priority_data,department_data])"
   ]
  },
  {
   "cell_type": "code",
   "execution_count": 48,
   "id": "781a2a14",
   "metadata": {},
   "outputs": [
    {
     "name": "stdout",
     "output_type": "stream",
     "text": [
      "40/40 [==============================] - 0s 6ms/step\n"
     ]
    }
   ],
   "source": [
    "priority_preds, department_preds = model.predict([title_data, text_body, tags_data])"
   ]
  },
  {
   "cell_type": "code",
   "execution_count": 49,
   "id": "ac73f746",
   "metadata": {},
   "outputs": [
    {
     "data": {
      "text/plain": [
       "(array([[1.],\n",
       "        [1.],\n",
       "        [1.],\n",
       "        ...,\n",
       "        [1.],\n",
       "        [1.],\n",
       "        [1.]], dtype=float32),\n",
       " array([[2.5395232e-01, 2.4678588e-01, 8.3189848e-04, 4.9842989e-01],\n",
       "        [2.1257801e-01, 2.1136189e-01, 9.2253287e-04, 5.7513762e-01],\n",
       "        [2.8535211e-01, 1.4953715e-01, 3.5004059e-04, 5.6476074e-01],\n",
       "        ...,\n",
       "        [1.6822629e-01, 3.2191801e-01, 1.2392204e-03, 5.0861651e-01],\n",
       "        [1.3404514e-01, 1.7240125e-01, 8.2896464e-04, 6.9272470e-01],\n",
       "        [2.9021379e-01, 3.4761614e-01, 1.2575313e-03, 3.6091247e-01]],\n",
       "       dtype=float32))"
      ]
     },
     "execution_count": 49,
     "metadata": {},
     "output_type": "execute_result"
    }
   ],
   "source": [
    "priority_preds, department_preds"
   ]
  },
  {
   "cell_type": "code",
   "execution_count": null,
   "id": "b7ad598f",
   "metadata": {},
   "outputs": [],
   "source": []
  }
 ],
 "metadata": {
  "kernelspec": {
   "display_name": "Python 3 (ipykernel)",
   "language": "python",
   "name": "python3"
  },
  "language_info": {
   "codemirror_mode": {
    "name": "ipython",
    "version": 3
   },
   "file_extension": ".py",
   "mimetype": "text/x-python",
   "name": "python",
   "nbconvert_exporter": "python",
   "pygments_lexer": "ipython3",
   "version": "3.9.12"
  }
 },
 "nbformat": 4,
 "nbformat_minor": 5
}
