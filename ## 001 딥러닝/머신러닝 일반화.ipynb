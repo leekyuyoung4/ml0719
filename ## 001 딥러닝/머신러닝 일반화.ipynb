{
 "cells": [
  {
   "cell_type": "markdown",
   "id": "331558d7",
   "metadata": {},
   "source": [
    "## 케라스 모델을 만드는 방법"
   ]
  },
  {
   "cell_type": "code",
   "execution_count": 1,
   "id": "50ddda5b",
   "metadata": {},
   "outputs": [],
   "source": [
    "# Sequential 클래스\n",
    "from tensorflow import keras\n",
    "from tensorflow.keras import layers\n",
    "model = keras.Sequential([\n",
    "    layers.Dense(64,activation='relu'),\n",
    "    layers.Dense(10,activation='softmax'),\n",
    "])"
   ]
  },
  {
   "cell_type": "code",
   "execution_count": 2,
   "id": "d969cca6",
   "metadata": {},
   "outputs": [],
   "source": [
    "# 점진적으로 Sequenential 모델 만들기\n",
    "model = keras.Sequential()\n",
    "model.add(layers.Dense(10,activation='relu'))\n",
    "model.add(layers.Dense(10,activation='softmax'))"
   ]
  },
  {
   "cell_type": "markdown",
   "id": "5ed5513c",
   "metadata": {},
   "source": [
    "# 가중치를 만들기위해 모델을 호출"
   ]
  },
  {
   "cell_type": "code",
   "execution_count": 3,
   "id": "cf95065c",
   "metadata": {},
   "outputs": [],
   "source": [
    "import numpy as np\n",
    "model.build(input_shape=(None,3))"
   ]
  },
  {
   "cell_type": "code",
   "execution_count": 4,
   "id": "ee99d82e",
   "metadata": {},
   "outputs": [
    {
     "data": {
      "text/plain": [
       "[<tf.Variable 'dense_2/kernel:0' shape=(3, 10) dtype=float32, numpy=\n",
       " array([[-0.16003019,  0.5344566 ,  0.460621  , -0.36025003,  0.039177  ,\n",
       "         -0.4912628 , -0.29809383,  0.23702282, -0.0787316 , -0.28290474],\n",
       "        [-0.64474326,  0.10509002, -0.21858329,  0.5561538 ,  0.12178111,\n",
       "          0.3954916 , -0.4868639 ,  0.37747753, -0.00336224,  0.4739653 ],\n",
       "        [ 0.4572475 ,  0.02214909,  0.0750041 , -0.18858415, -0.5018818 ,\n",
       "         -0.49757004,  0.03912485, -0.35134974,  0.4703579 , -0.2239263 ]],\n",
       "       dtype=float32)>,\n",
       " <tf.Variable 'dense_2/bias:0' shape=(10,) dtype=float32, numpy=array([0., 0., 0., 0., 0., 0., 0., 0., 0., 0.], dtype=float32)>,\n",
       " <tf.Variable 'dense_3/kernel:0' shape=(10, 10) dtype=float32, numpy=\n",
       " array([[-0.37817788, -0.16607562, -0.32117748, -0.42449355,  0.41283238,\n",
       "         -0.18453452,  0.18620723, -0.08902171, -0.30454588, -0.5127676 ],\n",
       "        [-0.25651056, -0.5232064 , -0.20324597,  0.24858141, -0.51250374,\n",
       "         -0.05514398, -0.29820654, -0.32073504, -0.211339  , -0.13778546],\n",
       "        [ 0.28307223,  0.09066999, -0.04742497,  0.49449492, -0.44804233,\n",
       "          0.20605516,  0.1836307 , -0.4837817 ,  0.02250791,  0.00900346],\n",
       "        [ 0.4081661 , -0.5348673 , -0.10725129,  0.09991336, -0.25893816,\n",
       "         -0.40495718,  0.10018849,  0.46815932, -0.4701079 , -0.5457717 ],\n",
       "        [-0.25363725, -0.45883065, -0.45003065, -0.45398274, -0.52785254,\n",
       "          0.09037787, -0.14022535, -0.10749745, -0.54495335,  0.4074844 ],\n",
       "        [-0.39747727, -0.38759533,  0.12336588,  0.305215  ,  0.5146798 ,\n",
       "         -0.24379814,  0.00772083, -0.09480673,  0.28701574,  0.52017355],\n",
       "        [ 0.04864377, -0.20189819,  0.0626179 ,  0.00236887, -0.16860014,\n",
       "          0.5355865 ,  0.34395152, -0.04125655,  0.1944542 , -0.04871675],\n",
       "        [-0.22188574, -0.5244793 , -0.4805904 ,  0.28205472,  0.35035396,\n",
       "          0.46012998, -0.08097753, -0.2961323 ,  0.48579955, -0.24995169],\n",
       "        [ 0.5097605 , -0.48206827,  0.49261057,  0.32146215, -0.528614  ,\n",
       "         -0.45674846,  0.49689126, -0.09368184,  0.23264378,  0.03472364],\n",
       "        [ 0.12177575,  0.38994914, -0.40103078, -0.2701862 ,  0.34824353,\n",
       "         -0.3885997 , -0.28061134,  0.16656834,  0.3395844 , -0.4097035 ]],\n",
       "       dtype=float32)>,\n",
       " <tf.Variable 'dense_3/bias:0' shape=(10,) dtype=float32, numpy=array([0., 0., 0., 0., 0., 0., 0., 0., 0., 0.], dtype=float32)>]"
      ]
     },
     "execution_count": 4,
     "metadata": {},
     "output_type": "execute_result"
    }
   ],
   "source": [
    "model.weights"
   ]
  },
  {
   "cell_type": "code",
   "execution_count": 5,
   "id": "d72f1bb4",
   "metadata": {},
   "outputs": [
    {
     "name": "stdout",
     "output_type": "stream",
     "text": [
      "Model: \"sequential_1\"\n",
      "_________________________________________________________________\n",
      " Layer (type)                Output Shape              Param #   \n",
      "=================================================================\n",
      " dense_2 (Dense)             (None, 10)                40        \n",
      "                                                                 \n",
      " dense_3 (Dense)             (None, 10)                110       \n",
      "                                                                 \n",
      "=================================================================\n",
      "Total params: 150\n",
      "Trainable params: 150\n",
      "Non-trainable params: 0\n",
      "_________________________________________________________________\n"
     ]
    }
   ],
   "source": [
    "model.summary()"
   ]
  },
  {
   "cell_type": "code",
   "execution_count": 6,
   "id": "9b459fe1",
   "metadata": {},
   "outputs": [
    {
     "name": "stdout",
     "output_type": "stream",
     "text": [
      "Model: \"myModel\"\n",
      "_________________________________________________________________\n",
      " Layer (type)                Output Shape              Param #   \n",
      "=================================================================\n",
      " first_layer (Dense)         (None, 64)                256       \n",
      "                                                                 \n",
      " last_layer (Dense)          (None, 10)                650       \n",
      "                                                                 \n",
      "=================================================================\n",
      "Total params: 906\n",
      "Trainable params: 906\n",
      "Non-trainable params: 0\n",
      "_________________________________________________________________\n"
     ]
    }
   ],
   "source": [
    "model = keras.Sequential(name='myModel')\n",
    "model.add(layers.Dense(64,activation='relu', name='first_layer'))\n",
    "model.add(layers.Dense(10,activation='relu', name='last_layer'))\n",
    "model.build((None,3))\n",
    "model.summary()"
   ]
  },
  {
   "cell_type": "code",
   "execution_count": 7,
   "id": "e8400a81",
   "metadata": {},
   "outputs": [
    {
     "name": "stdout",
     "output_type": "stream",
     "text": [
      "Model: \"sequential_2\"\n",
      "_________________________________________________________________\n",
      " Layer (type)                Output Shape              Param #   \n",
      "=================================================================\n",
      " dense_4 (Dense)             (None, 64)                256       \n",
      "                                                                 \n",
      "=================================================================\n",
      "Total params: 256\n",
      "Trainable params: 256\n",
      "Non-trainable params: 0\n",
      "_________________________________________________________________\n"
     ]
    }
   ],
   "source": [
    "# 모델의 입력 크기를 미리 지정\n",
    "model = keras.Sequential()\n",
    "model.add(keras.Input(shape=(3,)))\n",
    "model.add(layers.Dense(64,activation='relu'))\n",
    "model.summary()"
   ]
  },
  {
   "cell_type": "code",
   "execution_count": 8,
   "id": "27740641",
   "metadata": {},
   "outputs": [
    {
     "name": "stdout",
     "output_type": "stream",
     "text": [
      "Model: \"sequential_2\"\n",
      "_________________________________________________________________\n",
      " Layer (type)                Output Shape              Param #   \n",
      "=================================================================\n",
      " dense_4 (Dense)             (None, 64)                256       \n",
      "                                                                 \n",
      " dense_5 (Dense)             (None, 10)                650       \n",
      "                                                                 \n",
      "=================================================================\n",
      "Total params: 906\n",
      "Trainable params: 906\n",
      "Non-trainable params: 0\n",
      "_________________________________________________________________\n"
     ]
    }
   ],
   "source": [
    "model.add(layers.Dense(10,activation='softmax'))\n",
    "model.summary()"
   ]
  },
  {
   "cell_type": "markdown",
   "id": "7db8fa13",
   "metadata": {},
   "source": [
    "# 함수형 API\n",
    "# 두개의 Dense층을 가지는 간단한 함수형 모델"
   ]
  },
  {
   "cell_type": "code",
   "execution_count": 9,
   "id": "ab363671",
   "metadata": {},
   "outputs": [],
   "source": [
    "inputs = keras.Input(shape=(3,), name='my_input')\n",
    "features = layers.Dense(64,activation='relu')(inputs)\n",
    "outputs = layers.Dense(10,activation='softmax')(features)"
   ]
  },
  {
   "cell_type": "code",
   "execution_count": 10,
   "id": "43e62ec0",
   "metadata": {},
   "outputs": [
    {
     "name": "stdout",
     "output_type": "stream",
     "text": [
      "Model: \"model\"\n",
      "_________________________________________________________________\n",
      " Layer (type)                Output Shape              Param #   \n",
      "=================================================================\n",
      " my_input (InputLayer)       [(None, 3)]               0         \n",
      "                                                                 \n",
      " dense_6 (Dense)             (None, 64)                256       \n",
      "                                                                 \n",
      "=================================================================\n",
      "Total params: 256\n",
      "Trainable params: 256\n",
      "Non-trainable params: 0\n",
      "_________________________________________________________________\n"
     ]
    }
   ],
   "source": [
    "model = keras.Model(inputs=inputs, outputs=features)\n",
    "model.summary()"
   ]
  },
  {
   "cell_type": "code",
   "execution_count": 11,
   "id": "5fde5e2e",
   "metadata": {},
   "outputs": [
    {
     "name": "stdout",
     "output_type": "stream",
     "text": [
      "Model: \"model_1\"\n",
      "_________________________________________________________________\n",
      " Layer (type)                Output Shape              Param #   \n",
      "=================================================================\n",
      " my_input (InputLayer)       [(None, 3)]               0         \n",
      "                                                                 \n",
      " dense_6 (Dense)             (None, 64)                256       \n",
      "                                                                 \n",
      " dense_7 (Dense)             (None, 10)                650       \n",
      "                                                                 \n",
      "=================================================================\n",
      "Total params: 906\n",
      "Trainable params: 906\n",
      "Non-trainable params: 0\n",
      "_________________________________________________________________\n"
     ]
    }
   ],
   "source": [
    "model = keras.Model(inputs=inputs, outputs=outputs)\n",
    "model.summary()"
   ]
  },
  {
   "cell_type": "markdown",
   "id": "a20e4714",
   "metadata": {},
   "source": [
    "# 다중입력, 다중 출력 함수형 모델"
   ]
  },
  {
   "cell_type": "code",
   "execution_count": 12,
   "id": "bb4290c4",
   "metadata": {},
   "outputs": [],
   "source": [
    "vocabulary_size = 10000\n",
    "num_tags = 100\n",
    "num_departments = 4"
   ]
  },
  {
   "cell_type": "code",
   "execution_count": 13,
   "id": "994f37c4",
   "metadata": {},
   "outputs": [],
   "source": [
    "title = keras.Input(shape=(vocabulary_size,),name='title')\n",
    "text_body = keras.Input(shape=(vocabulary_size,), name='text_body')\n",
    "tags = keras.Input(shape=(num_tags,), name='tags')"
   ]
  },
  {
   "cell_type": "code",
   "execution_count": 14,
   "id": "0d97aea7",
   "metadata": {},
   "outputs": [],
   "source": [
    "features =  layers.Concatenate()([title,text_body,tags])\n",
    "features =  layers.Dense(64,activation='relu')(features)\n",
    "priority = layers.Dense(1,activation='sigmoid',name='priority')(features)\n",
    "department =  layers.Dense(num_departments,activation='softmax',name='department')(features)\n",
    "model = keras.Model(inputs=[title,text_body,tags], outputs = [priority,department])"
   ]
  },
  {
   "cell_type": "code",
   "execution_count": 15,
   "id": "b5971761",
   "metadata": {},
   "outputs": [
    {
     "name": "stdout",
     "output_type": "stream",
     "text": [
      "Model: \"model_2\"\n",
      "__________________________________________________________________________________________________\n",
      " Layer (type)                   Output Shape         Param #     Connected to                     \n",
      "==================================================================================================\n",
      " title (InputLayer)             [(None, 10000)]      0           []                               \n",
      "                                                                                                  \n",
      " text_body (InputLayer)         [(None, 10000)]      0           []                               \n",
      "                                                                                                  \n",
      " tags (InputLayer)              [(None, 100)]        0           []                               \n",
      "                                                                                                  \n",
      " concatenate (Concatenate)      (None, 20100)        0           ['title[0][0]',                  \n",
      "                                                                  'text_body[0][0]',              \n",
      "                                                                  'tags[0][0]']                   \n",
      "                                                                                                  \n",
      " dense_8 (Dense)                (None, 64)           1286464     ['concatenate[0][0]']            \n",
      "                                                                                                  \n",
      " priority (Dense)               (None, 1)            65          ['dense_8[0][0]']                \n",
      "                                                                                                  \n",
      " department (Dense)             (None, 4)            260         ['dense_8[0][0]']                \n",
      "                                                                                                  \n",
      "==================================================================================================\n",
      "Total params: 1,286,789\n",
      "Trainable params: 1,286,789\n",
      "Non-trainable params: 0\n",
      "__________________________________________________________________________________________________\n"
     ]
    }
   ],
   "source": [
    "model.summary()"
   ]
  },
  {
   "cell_type": "markdown",
   "id": "a1489963",
   "metadata": {},
   "source": [
    "# 입력과 타깃 배열 리스트를 전달해서 모델 훈련"
   ]
  },
  {
   "cell_type": "code",
   "execution_count": 16,
   "id": "08f6e571",
   "metadata": {},
   "outputs": [],
   "source": [
    "import numpy as np\n",
    "num_samples = 1280\n",
    "title_data = np.random.randint(0,2, size=(num_samples, vocabulary_size))\n",
    "text_body = np.random.randint(0,2, size=(num_samples, vocabulary_size))\n",
    "tags_data = np.random.randint(0,2,size=(num_samples,num_tags))"
   ]
  },
  {
   "cell_type": "code",
   "execution_count": 17,
   "id": "838e6840",
   "metadata": {},
   "outputs": [],
   "source": [
    "priority_data = np.random.random(size=(num_samples,1))\n",
    "department_data = np.random.randint(0,2,size=(num_samples, num_departments))"
   ]
  },
  {
   "cell_type": "code",
   "execution_count": 18,
   "id": "22a36fd5",
   "metadata": {},
   "outputs": [],
   "source": [
    "model.compile(optimizer='adam',loss = ['mse','categorical_crossentropy'],metrics=['mae','acc'])"
   ]
  },
  {
   "cell_type": "code",
   "execution_count": 19,
   "id": "a73c38a8",
   "metadata": {},
   "outputs": [
    {
     "name": "stdout",
     "output_type": "stream",
     "text": [
      "40/40 [==============================] - 1s 14ms/step - loss: 8.5667 - priority_loss: 0.1977 - department_loss: 8.3690 - priority_mae: 0.3662 - priority_acc: 0.0000e+00 - department_mae: 0.5015 - department_acc: 0.2320\n"
     ]
    }
   ],
   "source": [
    "history = model.fit([title_data,text_body, tags_data],[priority_data,department_data],epochs=1)"
   ]
  },
  {
   "cell_type": "code",
   "execution_count": 20,
   "id": "e18b879d",
   "metadata": {},
   "outputs": [
    {
     "name": "stdout",
     "output_type": "stream",
     "text": [
      "40/40 [==============================] - 0s 6ms/step - loss: 7.0157 - priority_loss: 0.2535 - department_loss: 6.7622 - priority_mae: 0.4235 - priority_acc: 0.0000e+00 - department_mae: 0.4685 - department_acc: 0.3633\n"
     ]
    },
    {
     "data": {
      "text/plain": [
       "[7.0157060623168945,\n",
       " 0.2534959614276886,\n",
       " 6.762210845947266,\n",
       " 0.42353278398513794,\n",
       " 0.0,\n",
       " 0.46850505471229553,\n",
       " 0.36328125]"
      ]
     },
     "execution_count": 20,
     "metadata": {},
     "output_type": "execute_result"
    }
   ],
   "source": [
    "model.evaluate([title_data,text_body, tags_data],[priority_data,department_data])"
   ]
  },
  {
   "cell_type": "code",
   "execution_count": 21,
   "id": "1b4bf631",
   "metadata": {},
   "outputs": [
    {
     "name": "stdout",
     "output_type": "stream",
     "text": [
      "40/40 [==============================] - 0s 6ms/step\n"
     ]
    }
   ],
   "source": [
    "priority_preds, department_preds = model.predict([title_data, text_body, tags_data])"
   ]
  },
  {
   "cell_type": "code",
   "execution_count": 22,
   "id": "0ad02ca6",
   "metadata": {},
   "outputs": [
    {
     "data": {
      "text/plain": [
       "(array([[0.03331835],\n",
       "        [0.10668685],\n",
       "        [0.03830338],\n",
       "        ...,\n",
       "        [0.03032428],\n",
       "        [0.03179675],\n",
       "        [0.16824414]], dtype=float32),\n",
       " array([[6.8536502e-01, 1.8505234e-05, 2.6725760e-02, 2.8789073e-01],\n",
       "        [4.8905382e-01, 4.2329808e-05, 1.1150606e-01, 3.9939779e-01],\n",
       "        [3.3964890e-01, 1.9592414e-06, 1.6437940e-02, 6.4391118e-01],\n",
       "        ...,\n",
       "        [6.0716331e-02, 6.0576072e-04, 6.6221468e-02, 8.7245649e-01],\n",
       "        [2.2554022e-01, 8.7590910e-05, 5.9616487e-02, 7.1475577e-01],\n",
       "        [1.4627641e-01, 2.7046299e-05, 9.7577982e-02, 7.5611860e-01]],\n",
       "       dtype=float32))"
      ]
     },
     "execution_count": 22,
     "metadata": {},
     "output_type": "execute_result"
    }
   ],
   "source": [
    "priority_preds, department_preds"
   ]
  },
  {
   "cell_type": "markdown",
   "id": "6eca2ca0",
   "metadata": {},
   "source": [
    "# 입력 타깃과 배열을 딕셔너리로 전달해서 모델을 훈련"
   ]
  },
  {
   "cell_type": "code",
   "execution_count": 23,
   "id": "d23edc27",
   "metadata": {},
   "outputs": [
    {
     "name": "stdout",
     "output_type": "stream",
     "text": [
      "40/40 [==============================] - 1s 13ms/step - loss: 7.2700 - priority_loss: 0.3320 - department_loss: 6.9380 - priority_mae: 0.5035 - department_acc: 0.3453\n",
      "40/40 [==============================] - 0s 6ms/step - loss: 3.8085 - priority_loss: 0.3345 - department_loss: 3.4740 - priority_mae: 0.5059 - department_acc: 0.1734\n",
      "40/40 [==============================] - 0s 6ms/step\n"
     ]
    }
   ],
   "source": [
    "model.compile(optimizer='adam',\n",
    "              loss = {\"priority\" : 'mse', \"department\":'categorical_crossentropy'},\n",
    "              metrics={\"priority\":['mae'],\"department\":['acc']}\n",
    "             )\n",
    "\n",
    "history = model.fit(\n",
    "    {\"title\":title_data,\n",
    "     \"text_body\":text_body, \n",
    "     \"tags\":tags_data},\n",
    "    {\n",
    "        \"priority\":priority_data,\n",
    "        \"department\":department_data}\n",
    "    ,epochs=1)\n",
    "\n",
    "model.evaluate(\n",
    "    {\"title\":title_data,\n",
    "     \"text_body\":text_body, \n",
    "     \"tags\":tags_data},\n",
    "    {\n",
    "        \"priority\":priority_data,\n",
    "        \"department\":department_data}\n",
    ")\n",
    "priority_preds, department_preds = model.predict(\n",
    "    {\n",
    "        \"title\":title_data, \n",
    "        \"text_body\":text_body, \n",
    "        \"tags\":tags_data\n",
    "    }\n",
    ")"
   ]
  },
  {
   "cell_type": "markdown",
   "id": "d6a482d6",
   "metadata": {},
   "source": [
    "# 함수형 API의 장점 : 층 연결구조 활용"
   ]
  },
  {
   "cell_type": "code",
   "execution_count": 24,
   "id": "092b5607",
   "metadata": {},
   "outputs": [
    {
     "name": "stdout",
     "output_type": "stream",
     "text": [
      "Model: \"model_2\"\n",
      "__________________________________________________________________________________________________\n",
      " Layer (type)                   Output Shape         Param #     Connected to                     \n",
      "==================================================================================================\n",
      " title (InputLayer)             [(None, 10000)]      0           []                               \n",
      "                                                                                                  \n",
      " text_body (InputLayer)         [(None, 10000)]      0           []                               \n",
      "                                                                                                  \n",
      " tags (InputLayer)              [(None, 100)]        0           []                               \n",
      "                                                                                                  \n",
      " concatenate (Concatenate)      (None, 20100)        0           ['title[0][0]',                  \n",
      "                                                                  'text_body[0][0]',              \n",
      "                                                                  'tags[0][0]']                   \n",
      "                                                                                                  \n",
      " dense_8 (Dense)                (None, 64)           1286464     ['concatenate[0][0]']            \n",
      "                                                                                                  \n",
      " priority (Dense)               (None, 1)            65          ['dense_8[0][0]']                \n",
      "                                                                                                  \n",
      " department (Dense)             (None, 4)            260         ['dense_8[0][0]']                \n",
      "                                                                                                  \n",
      "==================================================================================================\n",
      "Total params: 1,286,789\n",
      "Trainable params: 1,286,789\n",
      "Non-trainable params: 0\n",
      "__________________________________________________________________________________________________\n"
     ]
    }
   ],
   "source": [
    "model.summary()"
   ]
  },
  {
   "cell_type": "code",
   "execution_count": 25,
   "id": "f3fbc307",
   "metadata": {},
   "outputs": [
    {
     "data": {
      "image/png": "[encoded data removed]",
      "text/plain": [
       "<IPython.core.display.Image object>"
      ]
     },
     "execution_count": 25,
     "metadata": {},
     "output_type": "execute_result"
    }
   ],
   "source": [
    "keras.utils.plot_model(model,'tiket_classifier.png')"
   ]
  },
  {
   "cell_type": "code",
   "execution_count": 26,
   "id": "c55cd049",
   "metadata": {},
   "outputs": [
    {
     "data": {
      "image/png": "[encoded data removed]",
      "text/plain": [
       "<IPython.core.display.Image object>"
      ]
     },
     "execution_count": 26,
     "metadata": {},
     "output_type": "execute_result"
    }
   ],
   "source": [
    "keras.utils.plot_model(model,'tiket_classifier_with_shape_info.png',show_shapes=True)"
   ]
  },
  {
   "cell_type": "markdown",
   "id": "09020f8a",
   "metadata": {},
   "source": [
    "# 함수형 모델에 있는 층의 입력과 출력을 출력"
   ]
  },
  {
   "cell_type": "code",
   "execution_count": 27,
   "id": "45fb885a",
   "metadata": {},
   "outputs": [
    {
     "data": {
      "text/plain": [
       "[<keras.engine.input_layer.InputLayer at 0x1cfcfa8c1c0>,\n",
       " <keras.engine.input_layer.InputLayer at 0x1cfcfa8cca0>,\n",
       " <keras.engine.input_layer.InputLayer at 0x1cfcfaf5a00>,\n",
       " <keras.layers.merging.concatenate.Concatenate at 0x1cfc495ba00>,\n",
       " <keras.layers.core.dense.Dense at 0x1cfc495bb50>,\n",
       " <keras.layers.core.dense.Dense at 0x1cfcf9aaca0>,\n",
       " <keras.layers.core.dense.Dense at 0x1cfcf919ca0>]"
      ]
     },
     "execution_count": 27,
     "metadata": {},
     "output_type": "execute_result"
    }
   ],
   "source": [
    "model.layers"
   ]
  },
  {
   "cell_type": "code",
   "execution_count": 28,
   "id": "5569fb9b",
   "metadata": {},
   "outputs": [
    {
     "data": {
      "text/plain": [
       "[<KerasTensor: shape=(None, 10000) dtype=float32 (created by layer 'title')>,\n",
       " <KerasTensor: shape=(None, 10000) dtype=float32 (created by layer 'text_body')>,\n",
       " <KerasTensor: shape=(None, 100) dtype=float32 (created by layer 'tags')>]"
      ]
     },
     "execution_count": 28,
     "metadata": {},
     "output_type": "execute_result"
    }
   ],
   "source": [
    "model.layers[3].input"
   ]
  },
  {
   "cell_type": "code",
   "execution_count": 29,
   "id": "671f70c1",
   "metadata": {},
   "outputs": [
    {
     "data": {
      "text/plain": [
       "<KerasTensor: shape=(None, 20100) dtype=float32 (created by layer 'concatenate')>"
      ]
     },
     "execution_count": 29,
     "metadata": {},
     "output_type": "execute_result"
    }
   ],
   "source": [
    "model.layers[3].output"
   ]
  },
  {
   "cell_type": "markdown",
   "id": "541f46b7",
   "metadata": {},
   "source": [
    "# 중간층의 출력을 재사용해서 새로운 모델 "
   ]
  },
  {
   "cell_type": "code",
   "execution_count": 31,
   "id": "fcdba958",
   "metadata": {},
   "outputs": [],
   "source": [
    "# feature = model.layers[4].output\n",
    "# difficulty =  layers.Dense(3,activation='softmax',name='difficulty')(feature)\n",
    "# new_model = keras.Model(inputs =[title,text_body,tags] ,  outputs = [priority,department])\n",
    "# model = keras.Model(inputs=[title,text_body,tags], outputs = [priority,department,difficulty])"
   ]
  },
  {
   "cell_type": "code",
   "execution_count": null,
   "id": "6784b247",
   "metadata": {},
   "outputs": [],
   "source": []
  },
  {
   "cell_type": "markdown",
   "id": "ce631dc8",
   "metadata": {},
   "source": [
    "# Model 서브클래싱"
   ]
  },
  {
   "cell_type": "code",
   "execution_count": 56,
   "id": "2d1d3621",
   "metadata": {},
   "outputs": [],
   "source": [
    "inputs = keras.Input(shape=(64,))\n",
    "outputs = layers.Dense(1, activation='sigmoid')(inputs)\n",
    "binary_classifier = keras.Model(inputs = inputs, outputs=outputs)\n",
    "class MyModel(keras.Model):\n",
    "    def __init__(self,num_classes=2):\n",
    "        super().__init__()\n",
    "        self.dense = layers.Dense(64,activation='relu')\n",
    "        self.classifier = binary_classifier\n",
    "        print(\"__init__\")\n",
    "    def call(self, inputs):\n",
    "        features = self.dense(inputs)\n",
    "        print(\"call.....\")\n",
    "        return self.classifier(features)        "
   ]
  },
  {
   "cell_type": "code",
   "execution_count": 60,
   "id": "65d887c1",
   "metadata": {},
   "outputs": [],
   "source": [
    "# 표준 플로우 워크 : compile(), fit(), evaluate(), predict()"
   ]
  },
  {
   "cell_type": "code",
   "execution_count": 61,
   "id": "5e2aae68",
   "metadata": {},
   "outputs": [],
   "source": [
    "from tensorflow.keras.datasets import mnist"
   ]
  },
  {
   "cell_type": "code",
   "execution_count": 77,
   "id": "deaf15ac",
   "metadata": {},
   "outputs": [],
   "source": [
    "def get_mnist_model():\n",
    "    inputs = keras.Input(shape=(28*28,))\n",
    "    features = layers.Dense(512,activation='relu')(inputs)\n",
    "    features = layers.Dropout(0.5)(features)\n",
    "    outputs = layers.Dense(10,activation='softmax')(features)\n",
    "    model = keras.Model(inputs, outputs)\n",
    "    return model"
   ]
  },
  {
   "cell_type": "code",
   "execution_count": 78,
   "id": "a5ead1d1",
   "metadata": {},
   "outputs": [],
   "source": [
    "(images,labes),(test_images, test_labels) = mnist.load_data()"
   ]
  },
  {
   "cell_type": "code",
   "execution_count": 79,
   "id": "6dba8bb3",
   "metadata": {},
   "outputs": [
    {
     "data": {
      "text/plain": [
       "(60000, 28, 28)"
      ]
     },
     "execution_count": 79,
     "metadata": {},
     "output_type": "execute_result"
    }
   ],
   "source": [
    "images.shape"
   ]
  },
  {
   "cell_type": "code",
   "execution_count": 80,
   "id": "1c1ed9b3",
   "metadata": {},
   "outputs": [],
   "source": [
    "# 전처리  28*28 - > 28 x 28\n",
    "# 데이터 표준화\n",
    "split = 10000\n",
    "images = images.reshape(-1,28*28).astype('float32') / 255\n",
    "test_images = test_images.reshape(-1,28*28).astype('float32') / 255\n",
    "# 데이터를 분할... 테스트 데이터 10000\n",
    "train_images,val_images = images[:-split],images[-split:]\n",
    "train_labels,val_labels = labes[:-split],labes[-split:]"
   ]
  },
  {
   "cell_type": "code",
   "execution_count": 81,
   "id": "aca65e24",
   "metadata": {},
   "outputs": [
    {
     "data": {
      "text/plain": [
       "((50000, 784), (10000, 784), (50000,), (10000,))"
      ]
     },
     "execution_count": 81,
     "metadata": {},
     "output_type": "execute_result"
    }
   ],
   "source": [
    "train_images.shape, val_images.shape, train_labels.shape, val_labels.shape"
   ]
  },
  {
   "cell_type": "code",
   "execution_count": 82,
   "id": "532af204",
   "metadata": {},
   "outputs": [
    {
     "name": "stdout",
     "output_type": "stream",
     "text": [
      "Epoch 1/3\n",
      "1563/1563 [==============================] - 10s 6ms/step - loss: 0.2934 - acc: 0.9123 - val_loss: 0.1335 - val_acc: 0.9626\n",
      "Epoch 2/3\n",
      "1563/1563 [==============================] - 8s 5ms/step - loss: 0.1484 - acc: 0.9552 - val_loss: 0.0919 - val_acc: 0.9736\n",
      "Epoch 3/3\n",
      "1563/1563 [==============================] - 7s 5ms/step - loss: 0.1154 - acc: 0.9649 - val_loss: 0.0867 - val_acc: 0.9739\n"
     ]
    },
    {
     "data": {
      "text/plain": [
       "<keras.callbacks.History at 0x1cfdf1b67c0>"
      ]
     },
     "execution_count": 82,
     "metadata": {},
     "output_type": "execute_result"
    }
   ],
   "source": [
    "model = get_mnist_model()\n",
    "model.compile(optimizer='adam',loss='sparse_categorical_crossentropy', metrics=['acc'])\n",
    "model.fit(train_images,train_labels,epochs=3,validation_data=(val_images,val_labels))"
   ]
  },
  {
   "cell_type": "code",
   "execution_count": 83,
   "id": "9ccbdc73",
   "metadata": {},
   "outputs": [
    {
     "name": "stdout",
     "output_type": "stream",
     "text": [
      "313/313 [==============================] - 1s 2ms/step - loss: 0.0885 - acc: 0.9728\n",
      "313/313 [==============================] - 1s 2ms/step\n"
     ]
    }
   ],
   "source": [
    "test_metrics =  model.evaluate(test_images,test_labels)\n",
    "predictions = model.predict(test_images)"
   ]
  },
  {
   "cell_type": "markdown",
   "id": "7da42517",
   "metadata": {},
   "source": [
    "#### 사용자 정의 지표 구현"
   ]
  },
  {
   "cell_type": "code",
   "execution_count": 86,
   "id": "b7a553bf",
   "metadata": {},
   "outputs": [],
   "source": [
    "import tensorflow as tf\n",
    "class RootMeanSquaredError(keras.metrics.Metric):\n",
    "    def __init__(self, name='rmse', **kwargs):\n",
    "        super().__init__(name=name, **kwargs)\n",
    "        self.mse_sum = self.add_weight(name='mse_sum', initializer='zeros')\n",
    "        self.total_samples = self.add_weight(\n",
    "            name='total_samples', initializer='zeros', dtype='int32'\n",
    "        )\n",
    "    def update_state(self, y_true, y_pred, sample_weight = None):\n",
    "        y_true = tf.one_hot(y_true, depth=tf.shape(y_pred)[1])\n",
    "        mse = tf.reduce_sum(tf.square(y_true-y_pred))\n",
    "        self.mse_sum.assign_add(mse)\n",
    "        num_samples = tf.shape(y_pred)[0]\n",
    "        self.total_samples.assign_add(num_samples)\n",
    "    def result(self):\n",
    "        return tf.sqrt(self.mse_sum / tf.cast(self.total_samples, tf.float32))\n",
    "    def reset_state(self):\n",
    "        self.mse_sum.assign(0)\n",
    "        self.total_samples.assign(0)"
   ]
  },
  {
   "cell_type": "code",
   "execution_count": 89,
   "id": "ab7a49d3",
   "metadata": {},
   "outputs": [
    {
     "name": "stdout",
     "output_type": "stream",
     "text": [
      "Epoch 1/3\n",
      "1563/1563 [==============================] - 9s 6ms/step - loss: 0.2911 - acc: 0.9122 - rmse: 7.1274 - val_loss: 0.1300 - val_acc: 0.9630 - val_rmse: 7.3309\n",
      "Epoch 2/3\n",
      "1563/1563 [==============================] - 9s 6ms/step - loss: 0.1458 - acc: 0.9553 - rmse: 7.3068 - val_loss: 0.1001 - val_acc: 0.9709 - val_rmse: 7.3823\n",
      "Epoch 3/3\n",
      "1563/1563 [==============================] - 8s 5ms/step - loss: 0.1170 - acc: 0.9637 - rmse: 7.3460 - val_loss: 0.0850 - val_acc: 0.9744 - val_rmse: 7.4121\n",
      "313/313 [==============================] - 1s 2ms/step - loss: 0.0839 - acc: 0.9739 - rmse: 7.4151\n"
     ]
    }
   ],
   "source": [
    "model = get_mnist_model()\n",
    "model.compile(optimizer='adam',loss='sparse_categorical_crossentropy',metrics=['acc',RootMeanSquaredError()])\n",
    "model.fit(train_images,train_labels,epochs=3,validation_data=(val_images,val_labels))\n",
    "test_metrics = model.evaluate(test_images,test_labels)"
   ]
  },
  {
   "cell_type": "code",
   "execution_count": 90,
   "id": "743a203a",
   "metadata": {},
   "outputs": [],
   "source": [
    "# callback method\n",
    "callback_list = [\n",
    "    keras.callbacks.EarlyStopping(\n",
    "        monitor=\"val_accuracy\",patience=2\n",
    "    ),\n",
    "    keras.callbacks.ModelCheckpoint(\n",
    "        filepath='checkpoint_path.keras',\n",
    "        monitor=\"val_loss\",\n",
    "        save_best_only=True\n",
    "    )\n",
    "]"
   ]
  },
  {
   "cell_type": "code",
   "execution_count": null,
   "id": "1dab4625",
   "metadata": {},
   "outputs": [],
   "source": []
  },
  {
   "cell_type": "code",
   "execution_count": null,
   "id": "20d3a93f",
   "metadata": {},
   "outputs": [],
   "source": []
  }
 ],
 "metadata": {
  "kernelspec": {
   "display_name": "Python 3 (ipykernel)",
   "language": "python",
   "name": "python3"
  },
  "language_info": {
   "codemirror_mode": {
    "name": "ipython",
    "version": 3
   },
   "file_extension": ".py",
   "mimetype": "text/x-python",
   "name": "python",
   "nbconvert_exporter": "python",
   "pygments_lexer": "ipython3",
   "version": "3.9.12"
  }
 },
 "nbformat": 4,
 "nbformat_minor": 5
}
