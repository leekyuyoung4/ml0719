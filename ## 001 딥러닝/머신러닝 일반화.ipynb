{
 "cells": [
  {
   "cell_type": "markdown",
   "id": "331558d7",
   "metadata": {},
   "source": [
    "## 케라스 모델을 만드는 방법"
   ]
  },
  {
   "cell_type": "code",
   "execution_count": 1,
   "id": "50ddda5b",
   "metadata": {},
   "outputs": [],
   "source": [
    "# Sequential 클래스\n",
    "from tensorflow import keras\n",
    "from tensorflow.keras import layers\n",
    "model = keras.Sequential([\n",
    "    layers.Dense(64,activation='relu'),\n",
    "    layers.Dense(10,activation='softmax'),\n",
    "])"
   ]
  },
  {
   "cell_type": "code",
   "execution_count": 2,
   "id": "d969cca6",
   "metadata": {},
   "outputs": [],
   "source": [
    "# 점진적으로 Sequenential 모델 만들기\n",
    "model = keras.Sequential()\n",
    "model.add(layers.Dense(10,activation='relu'))\n",
    "model.add(layers.Dense(10,activation='softmax'))"
   ]
  },
  {
   "cell_type": "markdown",
   "id": "5ed5513c",
   "metadata": {},
   "source": [
    "# 가중치를 만들기위해 모델을 호출"
   ]
  },
  {
   "cell_type": "code",
   "execution_count": 3,
   "id": "cf95065c",
   "metadata": {},
   "outputs": [],
   "source": [
    "import numpy as np\n",
    "model.build(input_shape=(None,3))"
   ]
  },
  {
   "cell_type": "code",
   "execution_count": 4,
   "id": "ee99d82e",
   "metadata": {},
   "outputs": [
    {
     "data": {
      "text/plain": [
       "[<tf.Variable 'dense_2/kernel:0' shape=(3, 10) dtype=float32, numpy=\n",
       " array([[-0.6304964 ,  0.00203228, -0.6458516 ,  0.5394832 , -0.03149605,\n",
       "         -0.4861958 ,  0.28285939, -0.3528561 ,  0.44857788, -0.15648746],\n",
       "        [ 0.5872041 ,  0.1290505 ,  0.28739887, -0.36054286,  0.36958957,\n",
       "          0.572719  ,  0.54796183, -0.18328828, -0.52452767,  0.5023954 ],\n",
       "        [-0.47542843,  0.4510182 , -0.5317421 ,  0.05433905,  0.22061348,\n",
       "         -0.19665012, -0.41377208, -0.22408682,  0.16001737, -0.3424467 ]],\n",
       "       dtype=float32)>,\n",
       " <tf.Variable 'dense_2/bias:0' shape=(10,) dtype=float32, numpy=array([0., 0., 0., 0., 0., 0., 0., 0., 0., 0.], dtype=float32)>,\n",
       " <tf.Variable 'dense_3/kernel:0' shape=(10, 10) dtype=float32, numpy=\n",
       " array([[-0.19966176,  0.12154096, -0.26169774,  0.0903939 , -0.40542233,\n",
       "         -0.00563133,  0.08930963, -0.37215653, -0.3100154 , -0.4326961 ],\n",
       "        [ 0.32109976,  0.53427994, -0.30453414,  0.18000722,  0.329341  ,\n",
       "         -0.3773504 , -0.1345059 ,  0.28201896,  0.15343231, -0.20581475],\n",
       "        [ 0.4151495 , -0.20300725, -0.4972838 , -0.25992477,  0.11406559,\n",
       "         -0.43780038, -0.08519512,  0.15718627,  0.35874206,  0.4396363 ],\n",
       "        [-0.03139549, -0.22405636, -0.15819743,  0.33450615, -0.522604  ,\n",
       "          0.07087755, -0.45371896, -0.5171366 ,  0.10278052,  0.32478195],\n",
       "        [-0.0737519 ,  0.39716464, -0.48804015,  0.14368647,  0.06385231,\n",
       "          0.22728628,  0.5249915 , -0.47203213, -0.15131417,  0.2936868 ],\n",
       "        [ 0.38613343,  0.2668708 ,  0.13351566, -0.21778503, -0.47703323,\n",
       "         -0.25100175, -0.5126535 , -0.5254427 , -0.5356538 ,  0.14503843],\n",
       "        [-0.45187926, -0.28210905, -0.36956736, -0.53359145,  0.29121608,\n",
       "         -0.31335035, -0.17123055, -0.26569358, -0.4124355 , -0.48297638],\n",
       "        [-0.49561462,  0.23893416,  0.1624465 ,  0.25241733, -0.35372335,\n",
       "          0.09247053, -0.53876287, -0.53219706, -0.35964888, -0.23267093],\n",
       "        [ 0.5018159 , -0.3528906 , -0.11375141, -0.23087248, -0.19005367,\n",
       "         -0.23194045,  0.36808455,  0.1565634 , -0.3141989 , -0.27123505],\n",
       "        [-0.03454411,  0.41540766, -0.32558402,  0.4894023 ,  0.29411656,\n",
       "          0.2360338 , -0.13936138,  0.4814993 , -0.10264575,  0.08956259]],\n",
       "       dtype=float32)>,\n",
       " <tf.Variable 'dense_3/bias:0' shape=(10,) dtype=float32, numpy=array([0., 0., 0., 0., 0., 0., 0., 0., 0., 0.], dtype=float32)>]"
      ]
     },
     "execution_count": 4,
     "metadata": {},
     "output_type": "execute_result"
    }
   ],
   "source": [
    "model.weights"
   ]
  },
  {
   "cell_type": "code",
   "execution_count": 5,
   "id": "d72f1bb4",
   "metadata": {},
   "outputs": [
    {
     "name": "stdout",
     "output_type": "stream",
     "text": [
      "Model: \"sequential_1\"\n",
      "_________________________________________________________________\n",
      " Layer (type)                Output Shape              Param #   \n",
      "=================================================================\n",
      " dense_2 (Dense)             (None, 10)                40        \n",
      "                                                                 \n",
      " dense_3 (Dense)             (None, 10)                110       \n",
      "                                                                 \n",
      "=================================================================\n",
      "Total params: 150\n",
      "Trainable params: 150\n",
      "Non-trainable params: 0\n",
      "_________________________________________________________________\n"
     ]
    }
   ],
   "source": [
    "model.summary()"
   ]
  },
  {
   "cell_type": "code",
   "execution_count": 6,
   "id": "9b459fe1",
   "metadata": {},
   "outputs": [
    {
     "name": "stdout",
     "output_type": "stream",
     "text": [
      "Model: \"myModel\"\n",
      "_________________________________________________________________\n",
      " Layer (type)                Output Shape              Param #   \n",
      "=================================================================\n",
      " first_layer (Dense)         (None, 64)                256       \n",
      "                                                                 \n",
      " last_layer (Dense)          (None, 10)                650       \n",
      "                                                                 \n",
      "=================================================================\n",
      "Total params: 906\n",
      "Trainable params: 906\n",
      "Non-trainable params: 0\n",
      "_________________________________________________________________\n"
     ]
    }
   ],
   "source": [
    "model = keras.Sequential(name='myModel')\n",
    "model.add(layers.Dense(64,activation='relu', name='first_layer'))\n",
    "model.add(layers.Dense(10,activation='relu', name='last_layer'))\n",
    "model.build((None,3))\n",
    "model.summary()"
   ]
  },
  {
   "cell_type": "code",
   "execution_count": 7,
   "id": "e8400a81",
   "metadata": {},
   "outputs": [
    {
     "name": "stdout",
     "output_type": "stream",
     "text": [
      "Model: \"sequential_2\"\n",
      "_________________________________________________________________\n",
      " Layer (type)                Output Shape              Param #   \n",
      "=================================================================\n",
      " dense_4 (Dense)             (None, 64)                256       \n",
      "                                                                 \n",
      "=================================================================\n",
      "Total params: 256\n",
      "Trainable params: 256\n",
      "Non-trainable params: 0\n",
      "_________________________________________________________________\n"
     ]
    }
   ],
   "source": [
    "# 모델의 입력 크기를 미리 지정\n",
    "model = keras.Sequential()\n",
    "model.add(keras.Input(shape=(3,)))\n",
    "model.add(layers.Dense(64,activation='relu'))\n",
    "model.summary()"
   ]
  },
  {
   "cell_type": "code",
   "execution_count": 8,
   "id": "27740641",
   "metadata": {},
   "outputs": [
    {
     "name": "stdout",
     "output_type": "stream",
     "text": [
      "Model: \"sequential_2\"\n",
      "_________________________________________________________________\n",
      " Layer (type)                Output Shape              Param #   \n",
      "=================================================================\n",
      " dense_4 (Dense)             (None, 64)                256       \n",
      "                                                                 \n",
      " dense_5 (Dense)             (None, 10)                650       \n",
      "                                                                 \n",
      "=================================================================\n",
      "Total params: 906\n",
      "Trainable params: 906\n",
      "Non-trainable params: 0\n",
      "_________________________________________________________________\n"
     ]
    }
   ],
   "source": [
    "model.add(layers.Dense(10,activation='softmax'))\n",
    "model.summary()"
   ]
  },
  {
   "cell_type": "markdown",
   "id": "7db8fa13",
   "metadata": {},
   "source": [
    "# 함수형 API\n",
    "# 두개의 Dense층을 가지는 간단한 함수형 모델"
   ]
  },
  {
   "cell_type": "code",
   "execution_count": 9,
   "id": "ab363671",
   "metadata": {},
   "outputs": [],
   "source": [
    "inputs = keras.Input(shape=(3,), name='my_input')\n",
    "features = layers.Dense(64,activation='relu')(inputs)\n",
    "outputs = layers.Dense(10,activation='softmax')(features)"
   ]
  },
  {
   "cell_type": "code",
   "execution_count": 10,
   "id": "43e62ec0",
   "metadata": {},
   "outputs": [
    {
     "name": "stdout",
     "output_type": "stream",
     "text": [
      "Model: \"model\"\n",
      "_________________________________________________________________\n",
      " Layer (type)                Output Shape              Param #   \n",
      "=================================================================\n",
      " my_input (InputLayer)       [(None, 3)]               0         \n",
      "                                                                 \n",
      " dense_6 (Dense)             (None, 64)                256       \n",
      "                                                                 \n",
      "=================================================================\n",
      "Total params: 256\n",
      "Trainable params: 256\n",
      "Non-trainable params: 0\n",
      "_________________________________________________________________\n"
     ]
    }
   ],
   "source": [
    "model = keras.Model(inputs=inputs, outputs=features)\n",
    "model.summary()"
   ]
  },
  {
   "cell_type": "code",
   "execution_count": 11,
   "id": "5fde5e2e",
   "metadata": {},
   "outputs": [
    {
     "name": "stdout",
     "output_type": "stream",
     "text": [
      "Model: \"model_1\"\n",
      "_________________________________________________________________\n",
      " Layer (type)                Output Shape              Param #   \n",
      "=================================================================\n",
      " my_input (InputLayer)       [(None, 3)]               0         \n",
      "                                                                 \n",
      " dense_6 (Dense)             (None, 64)                256       \n",
      "                                                                 \n",
      " dense_7 (Dense)             (None, 10)                650       \n",
      "                                                                 \n",
      "=================================================================\n",
      "Total params: 906\n",
      "Trainable params: 906\n",
      "Non-trainable params: 0\n",
      "_________________________________________________________________\n"
     ]
    }
   ],
   "source": [
    "model = keras.Model(inputs=inputs, outputs=outputs)\n",
    "model.summary()"
   ]
  },
  {
   "cell_type": "markdown",
   "id": "a20e4714",
   "metadata": {},
   "source": [
    "# 다중입력, 다중 출력 함수형 모델"
   ]
  },
  {
   "cell_type": "code",
   "execution_count": 96,
   "id": "bb4290c4",
   "metadata": {},
   "outputs": [],
   "source": [
    "vocabulary_size = 10000\n",
    "num_tags = 100\n",
    "num_departments = 4"
   ]
  },
  {
   "cell_type": "code",
   "execution_count": 97,
   "id": "994f37c4",
   "metadata": {},
   "outputs": [],
   "source": [
    "title = keras.Input(shape=(vocabulary_size,),name='title')\n",
    "text_body = keras.Input(shape=(vocabulary_size,), name='text_body')\n",
    "tags = keras.Input(shape=(num_tags,), name='tags')"
   ]
  },
  {
   "cell_type": "code",
   "execution_count": 98,
   "id": "0d97aea7",
   "metadata": {},
   "outputs": [],
   "source": [
    "features =  layers.Concatenate()([title,text_body,tags])\n",
    "features =  layers.Dense(64,activation='relu')(features)\n",
    "priority = layers.Dense(1,activation='sigmoid',name='priority')(features)\n",
    "department =  layers.Dense(num_departments,activation='softmax',name='department')(features)\n",
    "model = keras.Model(inputs=[title,text_body,tags], outputs = [priority,department])"
   ]
  },
  {
   "cell_type": "code",
   "execution_count": 99,
   "id": "b5971761",
   "metadata": {},
   "outputs": [
    {
     "name": "stdout",
     "output_type": "stream",
     "text": [
      "Model: \"model_21\"\n",
      "__________________________________________________________________________________________________\n",
      " Layer (type)                   Output Shape         Param #     Connected to                     \n",
      "==================================================================================================\n",
      " title (InputLayer)             [(None, 10000)]      0           []                               \n",
      "                                                                                                  \n",
      " text_body (InputLayer)         [(None, 10000)]      0           []                               \n",
      "                                                                                                  \n",
      " tags (InputLayer)              [(None, 100)]        0           []                               \n",
      "                                                                                                  \n",
      " concatenate_7 (Concatenate)    (None, 20100)        0           ['title[0][0]',                  \n",
      "                                                                  'text_body[0][0]',              \n",
      "                                                                  'tags[0][0]']                   \n",
      "                                                                                                  \n",
      " dense_15 (Dense)               (None, 64)           1286464     ['concatenate_7[0][0]']          \n",
      "                                                                                                  \n",
      " priority (Dense)               (None, 1)            65          ['dense_15[0][0]']               \n",
      "                                                                                                  \n",
      " department (Dense)             (None, 4)            260         ['dense_15[0][0]']               \n",
      "                                                                                                  \n",
      "==================================================================================================\n",
      "Total params: 1,286,789\n",
      "Trainable params: 1,286,789\n",
      "Non-trainable params: 0\n",
      "__________________________________________________________________________________________________\n"
     ]
    }
   ],
   "source": [
    "model.summary()"
   ]
  },
  {
   "cell_type": "markdown",
   "id": "a1489963",
   "metadata": {},
   "source": [
    "# 입력과 타깃 배열 리스트를 전달해서 모델 훈련"
   ]
  },
  {
   "cell_type": "code",
   "execution_count": 100,
   "id": "08f6e571",
   "metadata": {},
   "outputs": [],
   "source": [
    "import numpy as np\n",
    "num_samples = 1280\n",
    "title_data = np.random.randint(0,2, size=(num_samples, vocabulary_size))\n",
    "text_body = np.random.randint(0,2, size=(num_samples, vocabulary_size))\n",
    "tags_data = np.random.randint(0,2,size=(num_samples,num_tags))"
   ]
  },
  {
   "cell_type": "code",
   "execution_count": 101,
   "id": "838e6840",
   "metadata": {},
   "outputs": [],
   "source": [
    "priority_data = np.random.random(size=(num_samples,1))\n",
    "department_data = np.random.randint(0,2,size=(num_samples, num_departments))"
   ]
  },
  {
   "cell_type": "code",
   "execution_count": 102,
   "id": "22a36fd5",
   "metadata": {},
   "outputs": [],
   "source": [
    "model.compile(optimizer='adam',loss = ['mse','categorical_crossentropy'],metrics=['mae','acc'])"
   ]
  },
  {
   "cell_type": "code",
   "execution_count": 103,
   "id": "a73c38a8",
   "metadata": {},
   "outputs": [
    {
     "name": "stdout",
     "output_type": "stream",
     "text": [
      "40/40 [==============================] - 1s 14ms/step - loss: 8.2611 - priority_loss: 0.1762 - department_loss: 8.0849 - priority_mae: 0.3439 - priority_acc: 0.0000e+00 - department_mae: 0.4966 - department_acc: 0.2461\n"
     ]
    }
   ],
   "source": [
    "history = model.fit([title_data,text_body, tags_data],[priority_data,department_data],epochs=1)"
   ]
  },
  {
   "cell_type": "code",
   "execution_count": 104,
   "id": "e18b879d",
   "metadata": {},
   "outputs": [
    {
     "name": "stdout",
     "output_type": "stream",
     "text": [
      "40/40 [==============================] - 0s 7ms/step - loss: 3.1341 - priority_loss: 0.1117 - department_loss: 3.0224 - priority_mae: 0.2744 - priority_acc: 0.0000e+00 - department_mae: 0.4396 - department_acc: 0.2750\n"
     ]
    },
    {
     "data": {
      "text/plain": [
       "[3.134122133255005,\n",
       " 0.11173395812511444,\n",
       " 3.022387981414795,\n",
       " 0.2744312882423401,\n",
       " 0.0,\n",
       " 0.4396425187587738,\n",
       " 0.2750000059604645]"
      ]
     },
     "execution_count": 104,
     "metadata": {},
     "output_type": "execute_result"
    }
   ],
   "source": [
    "model.evaluate([title_data,text_body, tags_data],[priority_data,department_data])"
   ]
  },
  {
   "cell_type": "code",
   "execution_count": 105,
   "id": "1b4bf631",
   "metadata": {},
   "outputs": [
    {
     "name": "stdout",
     "output_type": "stream",
     "text": [
      "40/40 [==============================] - 0s 6ms/step\n"
     ]
    }
   ],
   "source": [
    "priority_preds, department_preds = model.predict([title_data, text_body, tags_data])"
   ]
  },
  {
   "cell_type": "code",
   "execution_count": 106,
   "id": "0ad02ca6",
   "metadata": {},
   "outputs": [
    {
     "data": {
      "text/plain": [
       "(array([[0.6643422 ],\n",
       "        [0.72859526],\n",
       "        [0.58799124],\n",
       "        ...,\n",
       "        [0.6283772 ],\n",
       "        [0.82782626],\n",
       "        [0.2167237 ]], dtype=float32),\n",
       " array([[0.06414925, 0.06532869, 0.7511464 , 0.11937569],\n",
       "        [0.07090159, 0.10386248, 0.7907687 , 0.03446726],\n",
       "        [0.29105106, 0.12979718, 0.52733105, 0.05182075],\n",
       "        ...,\n",
       "        [0.07190442, 0.17957456, 0.59992087, 0.14860019],\n",
       "        [0.3326099 , 0.08990952, 0.55300254, 0.02447809],\n",
       "        [0.01506353, 0.6369506 , 0.28341383, 0.06457209]], dtype=float32))"
      ]
     },
     "execution_count": 106,
     "metadata": {},
     "output_type": "execute_result"
    }
   ],
   "source": [
    "priority_preds, department_preds"
   ]
  },
  {
   "cell_type": "markdown",
   "id": "6eca2ca0",
   "metadata": {},
   "source": [
    "# 입력 타깃과 배열을 딕셔너리로 전달해서 모델을 훈련"
   ]
  },
  {
   "cell_type": "code",
   "execution_count": 107,
   "id": "d23edc27",
   "metadata": {},
   "outputs": [
    {
     "name": "stdout",
     "output_type": "stream",
     "text": [
      "40/40 [==============================] - 1s 15ms/step - loss: 7.8798 - priority_loss: 0.3144 - department_loss: 7.5653 - priority_mae: 0.4836 - department_acc: 0.2937\n",
      "40/40 [==============================] - 0s 7ms/step - loss: 3.0763 - priority_loss: 0.3264 - department_loss: 2.7499 - priority_mae: 0.4949 - department_acc: 0.3914\n",
      "40/40 [==============================] - 0s 6ms/step\n"
     ]
    }
   ],
   "source": [
    "model.compile(optimizer='adam',\n",
    "              loss = {\"priority\" : 'mse', \"department\":'categorical_crossentropy'},\n",
    "              metrics={\"priority\":['mae'],\"department\":['acc']}\n",
    "             )\n",
    "\n",
    "history = model.fit(\n",
    "    {\"title\":title_data,\n",
    "     \"text_body\":text_body, \n",
    "     \"tags\":tags_data},\n",
    "    {\n",
    "        \"priority\":priority_data,\n",
    "        \"department\":department_data}\n",
    "    ,epochs=1)\n",
    "\n",
    "model.evaluate(\n",
    "    {\"title\":title_data,\n",
    "     \"text_body\":text_body, \n",
    "     \"tags\":tags_data},\n",
    "    {\n",
    "        \"priority\":priority_data,\n",
    "        \"department\":department_data}\n",
    ")\n",
    "priority_preds, department_preds = model.predict(\n",
    "    {\n",
    "        \"title\":title_data, \n",
    "        \"text_body\":text_body, \n",
    "        \"tags\":tags_data\n",
    "    }\n",
    ")"
   ]
  },
  {
   "cell_type": "markdown",
   "id": "d6a482d6",
   "metadata": {},
   "source": [
    "# 함수형 API의 장점 : 층 연결구조 활용"
   ]
  },
  {
   "cell_type": "code",
   "execution_count": 108,
   "id": "092b5607",
   "metadata": {},
   "outputs": [
    {
     "name": "stdout",
     "output_type": "stream",
     "text": [
      "Model: \"model_21\"\n",
      "__________________________________________________________________________________________________\n",
      " Layer (type)                   Output Shape         Param #     Connected to                     \n",
      "==================================================================================================\n",
      " title (InputLayer)             [(None, 10000)]      0           []                               \n",
      "                                                                                                  \n",
      " text_body (InputLayer)         [(None, 10000)]      0           []                               \n",
      "                                                                                                  \n",
      " tags (InputLayer)              [(None, 100)]        0           []                               \n",
      "                                                                                                  \n",
      " concatenate_7 (Concatenate)    (None, 20100)        0           ['title[0][0]',                  \n",
      "                                                                  'text_body[0][0]',              \n",
      "                                                                  'tags[0][0]']                   \n",
      "                                                                                                  \n",
      " dense_15 (Dense)               (None, 64)           1286464     ['concatenate_7[0][0]']          \n",
      "                                                                                                  \n",
      " priority (Dense)               (None, 1)            65          ['dense_15[0][0]']               \n",
      "                                                                                                  \n",
      " department (Dense)             (None, 4)            260         ['dense_15[0][0]']               \n",
      "                                                                                                  \n",
      "==================================================================================================\n",
      "Total params: 1,286,789\n",
      "Trainable params: 1,286,789\n",
      "Non-trainable params: 0\n",
      "__________________________________________________________________________________________________\n"
     ]
    }
   ],
   "source": [
    "model.summary()"
   ]
  },
  {
   "cell_type": "code",
   "execution_count": 109,
   "id": "f3fbc307",
   "metadata": {},
   "outputs": [
    {
     "data": {
      "image/png": "[encoded data removed]",
      "text/plain": [
       "<IPython.core.display.Image object>"
      ]
     },
     "execution_count": 109,
     "metadata": {},
     "output_type": "execute_result"
    }
   ],
   "source": [
    "keras.utils.plot_model(model,'tiket_classifier.png')"
   ]
  },
  {
   "cell_type": "code",
   "execution_count": 110,
   "id": "c55cd049",
   "metadata": {},
   "outputs": [
    {
     "data": {
      "image/png": "[encoded data removed]",
      "text/plain": [
       "<IPython.core.display.Image object>"
      ]
     },
     "execution_count": 110,
     "metadata": {},
     "output_type": "execute_result"
    }
   ],
   "source": [
    "keras.utils.plot_model(model,'tiket_classifier_with_shape_info.png',show_shapes=True)"
   ]
  },
  {
   "cell_type": "markdown",
   "id": "09020f8a",
   "metadata": {},
   "source": [
    "# 함수형 모델에 있는 층의 입력과 출력을 출력"
   ]
  },
  {
   "cell_type": "code",
   "execution_count": 111,
   "id": "45fb885a",
   "metadata": {},
   "outputs": [
    {
     "data": {
      "text/plain": [
       "[<keras.engine.input_layer.InputLayer at 0x19919320fa0>,\n",
       " <keras.engine.input_layer.InputLayer at 0x1990c24ca30>,\n",
       " <keras.engine.input_layer.InputLayer at 0x19918cf6370>,\n",
       " <keras.layers.merging.concatenate.Concatenate at 0x19918cf6520>,\n",
       " <keras.layers.core.dense.Dense at 0x19919320e80>,\n",
       " <keras.layers.core.dense.Dense at 0x199193f9940>,\n",
       " <keras.layers.core.dense.Dense at 0x199193f27c0>]"
      ]
     },
     "execution_count": 111,
     "metadata": {},
     "output_type": "execute_result"
    }
   ],
   "source": [
    "model.layers"
   ]
  },
  {
   "cell_type": "code",
   "execution_count": 112,
   "id": "5569fb9b",
   "metadata": {},
   "outputs": [
    {
     "data": {
      "text/plain": [
       "[<KerasTensor: shape=(None, 10000) dtype=float32 (created by layer 'title')>,\n",
       " <KerasTensor: shape=(None, 10000) dtype=float32 (created by layer 'text_body')>,\n",
       " <KerasTensor: shape=(None, 100) dtype=float32 (created by layer 'tags')>]"
      ]
     },
     "execution_count": 112,
     "metadata": {},
     "output_type": "execute_result"
    }
   ],
   "source": [
    "model.layers[3].input"
   ]
  },
  {
   "cell_type": "code",
   "execution_count": 113,
   "id": "671f70c1",
   "metadata": {},
   "outputs": [
    {
     "data": {
      "text/plain": [
       "<KerasTensor: shape=(None, 20100) dtype=float32 (created by layer 'concatenate_7')>"
      ]
     },
     "execution_count": 113,
     "metadata": {},
     "output_type": "execute_result"
    }
   ],
   "source": [
    "model.layers[3].output"
   ]
  },
  {
   "cell_type": "markdown",
   "id": "541f46b7",
   "metadata": {},
   "source": [
    "# 중간층의 출력을 재사용해서 새로운 모델 "
   ]
  },
  {
   "cell_type": "code",
   "execution_count": 114,
   "id": "fcdba958",
   "metadata": {},
   "outputs": [
    {
     "ename": "ValueError",
     "evalue": "Found unexpected instance while processing input tensors for keras functional model. Expecting KerasTensor which is from tf.keras.Input() or output from keras layer call(). Got: [[0 0 1 ... 1 0 0]\n [0 1 1 ... 1 1 1]\n [0 1 1 ... 0 0 1]\n ...\n [1 1 1 ... 1 0 1]\n [1 0 0 ... 0 1 0]\n [1 0 0 ... 0 1 1]]",
     "output_type": "error",
     "traceback": [
      "\u001b[1;31m---------------------------------------------------------------------------\u001b[0m",
      "\u001b[1;31mValueError\u001b[0m                                Traceback (most recent call last)",
      "Input \u001b[1;32mIn [114]\u001b[0m, in \u001b[0;36m<cell line: 3>\u001b[1;34m()\u001b[0m\n\u001b[0;32m      1\u001b[0m feature \u001b[38;5;241m=\u001b[39m model\u001b[38;5;241m.\u001b[39mlayers[\u001b[38;5;241m4\u001b[39m]\u001b[38;5;241m.\u001b[39moutput\n\u001b[0;32m      2\u001b[0m difficulty \u001b[38;5;241m=\u001b[39m  layers\u001b[38;5;241m.\u001b[39mDense(\u001b[38;5;241m3\u001b[39m,activation\u001b[38;5;241m=\u001b[39m\u001b[38;5;124m'\u001b[39m\u001b[38;5;124msoftmax\u001b[39m\u001b[38;5;124m'\u001b[39m,name\u001b[38;5;241m=\u001b[39m\u001b[38;5;124m'\u001b[39m\u001b[38;5;124mdifficulty\u001b[39m\u001b[38;5;124m'\u001b[39m)(feature)\n\u001b[1;32m----> 3\u001b[0m new_model \u001b[38;5;241m=\u001b[39m \u001b[43mkeras\u001b[49m\u001b[38;5;241;43m.\u001b[39;49m\u001b[43mModel\u001b[49m\u001b[43m(\u001b[49m\u001b[43minputs\u001b[49m\u001b[43m \u001b[49m\u001b[38;5;241;43m=\u001b[39;49m\u001b[43m[\u001b[49m\u001b[43mtitle\u001b[49m\u001b[43m,\u001b[49m\u001b[43mtext_body\u001b[49m\u001b[43m,\u001b[49m\u001b[43mtags\u001b[49m\u001b[43m]\u001b[49m\u001b[43m \u001b[49m\u001b[43m,\u001b[49m\u001b[43m  \u001b[49m\u001b[43moutputs\u001b[49m\u001b[43m \u001b[49m\u001b[38;5;241;43m=\u001b[39;49m\u001b[43m \u001b[49m\u001b[43m[\u001b[49m\u001b[43mpriority\u001b[49m\u001b[43m,\u001b[49m\u001b[43mdepartment\u001b[49m\u001b[43m]\u001b[49m\u001b[43m)\u001b[49m\n\u001b[0;32m      4\u001b[0m model \u001b[38;5;241m=\u001b[39m keras\u001b[38;5;241m.\u001b[39mModel(inputs\u001b[38;5;241m=\u001b[39m[title,text_body,tags], outputs \u001b[38;5;241m=\u001b[39m [priority,department,difficulty])\n",
      "File \u001b[1;32m~\\miniconda3\\envs\\ml\\lib\\site-packages\\tensorflow\\python\\trackable\\base.py:205\u001b[0m, in \u001b[0;36mno_automatic_dependency_tracking.<locals>._method_wrapper\u001b[1;34m(self, *args, **kwargs)\u001b[0m\n\u001b[0;32m    203\u001b[0m \u001b[38;5;28mself\u001b[39m\u001b[38;5;241m.\u001b[39m_self_setattr_tracking \u001b[38;5;241m=\u001b[39m \u001b[38;5;28;01mFalse\u001b[39;00m  \u001b[38;5;66;03m# pylint: disable=protected-access\u001b[39;00m\n\u001b[0;32m    204\u001b[0m \u001b[38;5;28;01mtry\u001b[39;00m:\n\u001b[1;32m--> 205\u001b[0m   result \u001b[38;5;241m=\u001b[39m method(\u001b[38;5;28mself\u001b[39m, \u001b[38;5;241m*\u001b[39margs, \u001b[38;5;241m*\u001b[39m\u001b[38;5;241m*\u001b[39mkwargs)\n\u001b[0;32m    206\u001b[0m \u001b[38;5;28;01mfinally\u001b[39;00m:\n\u001b[0;32m    207\u001b[0m   \u001b[38;5;28mself\u001b[39m\u001b[38;5;241m.\u001b[39m_self_setattr_tracking \u001b[38;5;241m=\u001b[39m previous_value  \u001b[38;5;66;03m# pylint: disable=protected-access\u001b[39;00m\n",
      "File \u001b[1;32m~\\miniconda3\\envs\\ml\\lib\\site-packages\\keras\\engine\\functional.py:157\u001b[0m, in \u001b[0;36mFunctional.__init__\u001b[1;34m(self, inputs, outputs, name, trainable, **kwargs)\u001b[0m\n\u001b[0;32m    151\u001b[0m \u001b[38;5;66;03m# Check if the inputs contain any intermediate `KerasTensor` (not\u001b[39;00m\n\u001b[0;32m    152\u001b[0m \u001b[38;5;66;03m# created by tf.keras.Input()). In this case we need to clone the `Node`\u001b[39;00m\n\u001b[0;32m    153\u001b[0m \u001b[38;5;66;03m# and `KerasTensor` objects to mimic rebuilding a new model from new\u001b[39;00m\n\u001b[0;32m    154\u001b[0m \u001b[38;5;66;03m# inputs.  This feature is only enabled in TF2 not in v1 graph mode.\u001b[39;00m\n\u001b[0;32m    155\u001b[0m \u001b[38;5;28;01mif\u001b[39;00m tf\u001b[38;5;241m.\u001b[39mcompat\u001b[38;5;241m.\u001b[39mv1\u001b[38;5;241m.\u001b[39mexecuting_eagerly_outside_functions():\n\u001b[0;32m    156\u001b[0m     \u001b[38;5;28;01mif\u001b[39;00m \u001b[38;5;129;01mnot\u001b[39;00m \u001b[38;5;28mall\u001b[39m(\n\u001b[1;32m--> 157\u001b[0m         [\n\u001b[0;32m    158\u001b[0m             functional_utils\u001b[38;5;241m.\u001b[39mis_input_keras_tensor(t)\n\u001b[0;32m    159\u001b[0m             \u001b[38;5;28;01mfor\u001b[39;00m t \u001b[38;5;129;01min\u001b[39;00m tf\u001b[38;5;241m.\u001b[39mnest\u001b[38;5;241m.\u001b[39mflatten(inputs)\n\u001b[0;32m    160\u001b[0m         ]\n\u001b[0;32m    161\u001b[0m     ):\n\u001b[0;32m    162\u001b[0m         inputs, outputs \u001b[38;5;241m=\u001b[39m functional_utils\u001b[38;5;241m.\u001b[39mclone_graph_nodes(\n\u001b[0;32m    163\u001b[0m             inputs, outputs\n\u001b[0;32m    164\u001b[0m         )\n\u001b[0;32m    165\u001b[0m \u001b[38;5;28mself\u001b[39m\u001b[38;5;241m.\u001b[39m_init_graph_network(inputs, outputs)\n",
      "File \u001b[1;32m~\\miniconda3\\envs\\ml\\lib\\site-packages\\keras\\engine\\functional.py:158\u001b[0m, in \u001b[0;36m<listcomp>\u001b[1;34m(.0)\u001b[0m\n\u001b[0;32m    151\u001b[0m \u001b[38;5;66;03m# Check if the inputs contain any intermediate `KerasTensor` (not\u001b[39;00m\n\u001b[0;32m    152\u001b[0m \u001b[38;5;66;03m# created by tf.keras.Input()). In this case we need to clone the `Node`\u001b[39;00m\n\u001b[0;32m    153\u001b[0m \u001b[38;5;66;03m# and `KerasTensor` objects to mimic rebuilding a new model from new\u001b[39;00m\n\u001b[0;32m    154\u001b[0m \u001b[38;5;66;03m# inputs.  This feature is only enabled in TF2 not in v1 graph mode.\u001b[39;00m\n\u001b[0;32m    155\u001b[0m \u001b[38;5;28;01mif\u001b[39;00m tf\u001b[38;5;241m.\u001b[39mcompat\u001b[38;5;241m.\u001b[39mv1\u001b[38;5;241m.\u001b[39mexecuting_eagerly_outside_functions():\n\u001b[0;32m    156\u001b[0m     \u001b[38;5;28;01mif\u001b[39;00m \u001b[38;5;129;01mnot\u001b[39;00m \u001b[38;5;28mall\u001b[39m(\n\u001b[0;32m    157\u001b[0m         [\n\u001b[1;32m--> 158\u001b[0m             \u001b[43mfunctional_utils\u001b[49m\u001b[38;5;241;43m.\u001b[39;49m\u001b[43mis_input_keras_tensor\u001b[49m\u001b[43m(\u001b[49m\u001b[43mt\u001b[49m\u001b[43m)\u001b[49m\n\u001b[0;32m    159\u001b[0m             \u001b[38;5;28;01mfor\u001b[39;00m t \u001b[38;5;129;01min\u001b[39;00m tf\u001b[38;5;241m.\u001b[39mnest\u001b[38;5;241m.\u001b[39mflatten(inputs)\n\u001b[0;32m    160\u001b[0m         ]\n\u001b[0;32m    161\u001b[0m     ):\n\u001b[0;32m    162\u001b[0m         inputs, outputs \u001b[38;5;241m=\u001b[39m functional_utils\u001b[38;5;241m.\u001b[39mclone_graph_nodes(\n\u001b[0;32m    163\u001b[0m             inputs, outputs\n\u001b[0;32m    164\u001b[0m         )\n\u001b[0;32m    165\u001b[0m \u001b[38;5;28mself\u001b[39m\u001b[38;5;241m.\u001b[39m_init_graph_network(inputs, outputs)\n",
      "File \u001b[1;32m~\\miniconda3\\envs\\ml\\lib\\site-packages\\keras\\engine\\functional_utils.py:48\u001b[0m, in \u001b[0;36mis_input_keras_tensor\u001b[1;34m(tensor)\u001b[0m\n\u001b[0;32m     32\u001b[0m \u001b[38;5;124;03m\"\"\"Check if tensor is directly generated from `tf.keras.Input`.\u001b[39;00m\n\u001b[0;32m     33\u001b[0m \n\u001b[0;32m     34\u001b[0m \u001b[38;5;124;03mThis check is useful when constructing the functional model, since we will\u001b[39;00m\n\u001b[1;32m   (...)\u001b[0m\n\u001b[0;32m     45\u001b[0m \u001b[38;5;124;03m  ValueError: if the tensor is not a KerasTensor instance.\u001b[39;00m\n\u001b[0;32m     46\u001b[0m \u001b[38;5;124;03m\"\"\"\u001b[39;00m\n\u001b[0;32m     47\u001b[0m \u001b[38;5;28;01mif\u001b[39;00m \u001b[38;5;129;01mnot\u001b[39;00m node_module\u001b[38;5;241m.\u001b[39mis_keras_tensor(tensor):\n\u001b[1;32m---> 48\u001b[0m     \u001b[38;5;28;01mraise\u001b[39;00m \u001b[38;5;167;01mValueError\u001b[39;00m(_KERAS_TENSOR_TYPE_CHECK_ERROR_MSG\u001b[38;5;241m.\u001b[39mformat(tensor))\n\u001b[0;32m     49\u001b[0m \u001b[38;5;28;01mreturn\u001b[39;00m tensor\u001b[38;5;241m.\u001b[39mnode\u001b[38;5;241m.\u001b[39mis_input\n",
      "\u001b[1;31mValueError\u001b[0m: Found unexpected instance while processing input tensors for keras functional model. Expecting KerasTensor which is from tf.keras.Input() or output from keras layer call(). Got: [[0 0 1 ... 1 0 0]\n [0 1 1 ... 1 1 1]\n [0 1 1 ... 0 0 1]\n ...\n [1 1 1 ... 1 0 1]\n [1 0 0 ... 0 1 0]\n [1 0 0 ... 0 1 1]]"
     ]
    }
   ],
   "source": [
    "feature = model.layers[4].output\n",
    "difficulty =  layers.Dense(3,activation='softmax',name='difficulty')(feature)\n",
    "new_model = keras.Model(inputs =[title,text_body,tags] ,  outputs = [priority,department])\n",
    "model = keras.Model(inputs=[title,text_body,tags], outputs = [priority,department,difficulty])"
   ]
  },
  {
   "cell_type": "code",
   "execution_count": 115,
   "id": "6784b247",
   "metadata": {},
   "outputs": [
    {
     "data": {
      "text/plain": [
       "<KerasTensor: shape=(None, 4) dtype=float32 (created by layer 'department')>"
      ]
     },
     "execution_count": 115,
     "metadata": {},
     "output_type": "execute_result"
    }
   ],
   "source": [
    "department"
   ]
  },
  {
   "cell_type": "markdown",
   "id": "ce631dc8",
   "metadata": {},
   "source": [
    "# Model 서브클래싱"
   ]
  },
  {
   "cell_type": "code",
   "execution_count": null,
   "id": "2d1d3621",
   "metadata": {},
   "outputs": [],
   "source": []
  },
  {
   "cell_type": "code",
   "execution_count": null,
   "id": "a97fe85d",
   "metadata": {},
   "outputs": [],
   "source": []
  },
  {
   "cell_type": "code",
   "execution_count": null,
   "id": "65d887c1",
   "metadata": {},
   "outputs": [],
   "source": []
  },
  {
   "cell_type": "code",
   "execution_count": null,
   "id": "5e2aae68",
   "metadata": {},
   "outputs": [],
   "source": []
  },
  {
   "cell_type": "code",
   "execution_count": null,
   "id": "deaf15ac",
   "metadata": {},
   "outputs": [],
   "source": []
  },
  {
   "cell_type": "code",
   "execution_count": null,
   "id": "a5ead1d1",
   "metadata": {},
   "outputs": [],
   "source": []
  },
  {
   "cell_type": "code",
   "execution_count": null,
   "id": "6dba8bb3",
   "metadata": {},
   "outputs": [],
   "source": []
  }
 ],
 "metadata": {
  "kernelspec": {
   "display_name": "Python 3 (ipykernel)",
   "language": "python",
   "name": "python3"
  },
  "language_info": {
   "codemirror_mode": {
    "name": "ipython",
    "version": 3
   },
   "file_extension": ".py",
   "mimetype": "text/x-python",
   "name": "python",
   "nbconvert_exporter": "python",
   "pygments_lexer": "ipython3",
   "version": "3.9.12"
  }
 },
 "nbformat": 4,
 "nbformat_minor": 5
}
