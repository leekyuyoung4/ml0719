{
 "cells": [
  {
   "cell_type": "markdown",
   "id": "331558d7",
   "metadata": {},
   "source": [
    "## 케라스 모델을 만드는 방법"
   ]
  },
  {
   "cell_type": "code",
   "execution_count": 1,
   "id": "50ddda5b",
   "metadata": {},
   "outputs": [],
   "source": [
    "# Sequential 클래스\n",
    "from tensorflow import keras\n",
    "from tensorflow.keras import layers\n",
    "model = keras.Sequential([\n",
    "    layers.Dense(64,activation='relu'),\n",
    "    layers.Dense(10,activation='softmax'),\n",
    "])"
   ]
  },
  {
   "cell_type": "code",
   "execution_count": 2,
   "id": "d969cca6",
   "metadata": {},
   "outputs": [],
   "source": [
    "# 점진적으로 Sequenential 모델 만들기\n",
    "model = keras.Sequential()\n",
    "model.add(layers.Dense(10,activation='relu'))\n",
    "model.add(layers.Dense(10,activation='softmax'))"
   ]
  },
  {
   "cell_type": "markdown",
   "id": "5ed5513c",
   "metadata": {},
   "source": [
    "# 가중치를 만들기위해 모델을 호출"
   ]
  },
  {
   "cell_type": "code",
   "execution_count": 3,
   "id": "cf95065c",
   "metadata": {},
   "outputs": [],
   "source": [
    "import numpy as np\n",
    "model.build(input_shape=(None,3))"
   ]
  },
  {
   "cell_type": "code",
   "execution_count": 4,
   "id": "ee99d82e",
   "metadata": {},
   "outputs": [
    {
     "data": {
      "text/plain": [
       "[<tf.Variable 'dense_2/kernel:0' shape=(3, 10) dtype=float32, numpy=\n",
       " array([[-0.16003019,  0.5344566 ,  0.460621  , -0.36025003,  0.039177  ,\n",
       "         -0.4912628 , -0.29809383,  0.23702282, -0.0787316 , -0.28290474],\n",
       "        [-0.64474326,  0.10509002, -0.21858329,  0.5561538 ,  0.12178111,\n",
       "          0.3954916 , -0.4868639 ,  0.37747753, -0.00336224,  0.4739653 ],\n",
       "        [ 0.4572475 ,  0.02214909,  0.0750041 , -0.18858415, -0.5018818 ,\n",
       "         -0.49757004,  0.03912485, -0.35134974,  0.4703579 , -0.2239263 ]],\n",
       "       dtype=float32)>,\n",
       " <tf.Variable 'dense_2/bias:0' shape=(10,) dtype=float32, numpy=array([0., 0., 0., 0., 0., 0., 0., 0., 0., 0.], dtype=float32)>,\n",
       " <tf.Variable 'dense_3/kernel:0' shape=(10, 10) dtype=float32, numpy=\n",
       " array([[-0.37817788, -0.16607562, -0.32117748, -0.42449355,  0.41283238,\n",
       "         -0.18453452,  0.18620723, -0.08902171, -0.30454588, -0.5127676 ],\n",
       "        [-0.25651056, -0.5232064 , -0.20324597,  0.24858141, -0.51250374,\n",
       "         -0.05514398, -0.29820654, -0.32073504, -0.211339  , -0.13778546],\n",
       "        [ 0.28307223,  0.09066999, -0.04742497,  0.49449492, -0.44804233,\n",
       "          0.20605516,  0.1836307 , -0.4837817 ,  0.02250791,  0.00900346],\n",
       "        [ 0.4081661 , -0.5348673 , -0.10725129,  0.09991336, -0.25893816,\n",
       "         -0.40495718,  0.10018849,  0.46815932, -0.4701079 , -0.5457717 ],\n",
       "        [-0.25363725, -0.45883065, -0.45003065, -0.45398274, -0.52785254,\n",
       "          0.09037787, -0.14022535, -0.10749745, -0.54495335,  0.4074844 ],\n",
       "        [-0.39747727, -0.38759533,  0.12336588,  0.305215  ,  0.5146798 ,\n",
       "         -0.24379814,  0.00772083, -0.09480673,  0.28701574,  0.52017355],\n",
       "        [ 0.04864377, -0.20189819,  0.0626179 ,  0.00236887, -0.16860014,\n",
       "          0.5355865 ,  0.34395152, -0.04125655,  0.1944542 , -0.04871675],\n",
       "        [-0.22188574, -0.5244793 , -0.4805904 ,  0.28205472,  0.35035396,\n",
       "          0.46012998, -0.08097753, -0.2961323 ,  0.48579955, -0.24995169],\n",
       "        [ 0.5097605 , -0.48206827,  0.49261057,  0.32146215, -0.528614  ,\n",
       "         -0.45674846,  0.49689126, -0.09368184,  0.23264378,  0.03472364],\n",
       "        [ 0.12177575,  0.38994914, -0.40103078, -0.2701862 ,  0.34824353,\n",
       "         -0.3885997 , -0.28061134,  0.16656834,  0.3395844 , -0.4097035 ]],\n",
       "       dtype=float32)>,\n",
       " <tf.Variable 'dense_3/bias:0' shape=(10,) dtype=float32, numpy=array([0., 0., 0., 0., 0., 0., 0., 0., 0., 0.], dtype=float32)>]"
      ]
     },
     "execution_count": 4,
     "metadata": {},
     "output_type": "execute_result"
    }
   ],
   "source": [
    "model.weights"
   ]
  },
  {
   "cell_type": "code",
   "execution_count": 5,
   "id": "d72f1bb4",
   "metadata": {},
   "outputs": [
    {
     "name": "stdout",
     "output_type": "stream",
     "text": [
      "Model: \"sequential_1\"\n",
      "_________________________________________________________________\n",
      " Layer (type)                Output Shape              Param #   \n",
      "=================================================================\n",
      " dense_2 (Dense)             (None, 10)                40        \n",
      "                                                                 \n",
      " dense_3 (Dense)             (None, 10)                110       \n",
      "                                                                 \n",
      "=================================================================\n",
      "Total params: 150\n",
      "Trainable params: 150\n",
      "Non-trainable params: 0\n",
      "_________________________________________________________________\n"
     ]
    }
   ],
   "source": [
    "model.summary()"
   ]
  },
  {
   "cell_type": "code",
   "execution_count": 6,
   "id": "9b459fe1",
   "metadata": {},
   "outputs": [
    {
     "name": "stdout",
     "output_type": "stream",
     "text": [
      "Model: \"myModel\"\n",
      "_________________________________________________________________\n",
      " Layer (type)                Output Shape              Param #   \n",
      "=================================================================\n",
      " first_layer (Dense)         (None, 64)                256       \n",
      "                                                                 \n",
      " last_layer (Dense)          (None, 10)                650       \n",
      "                                                                 \n",
      "=================================================================\n",
      "Total params: 906\n",
      "Trainable params: 906\n",
      "Non-trainable params: 0\n",
      "_________________________________________________________________\n"
     ]
    }
   ],
   "source": [
    "model = keras.Sequential(name='myModel')\n",
    "model.add(layers.Dense(64,activation='relu', name='first_layer'))\n",
    "model.add(layers.Dense(10,activation='relu', name='last_layer'))\n",
    "model.build((None,3))\n",
    "model.summary()"
   ]
  },
  {
   "cell_type": "code",
   "execution_count": 7,
   "id": "e8400a81",
   "metadata": {},
   "outputs": [
    {
     "name": "stdout",
     "output_type": "stream",
     "text": [
      "Model: \"sequential_2\"\n",
      "_________________________________________________________________\n",
      " Layer (type)                Output Shape              Param #   \n",
      "=================================================================\n",
      " dense_4 (Dense)             (None, 64)                256       \n",
      "                                                                 \n",
      "=================================================================\n",
      "Total params: 256\n",
      "Trainable params: 256\n",
      "Non-trainable params: 0\n",
      "_________________________________________________________________\n"
     ]
    }
   ],
   "source": [
    "# 모델의 입력 크기를 미리 지정\n",
    "model = keras.Sequential()\n",
    "model.add(keras.Input(shape=(3,)))\n",
    "model.add(layers.Dense(64,activation='relu'))\n",
    "model.summary()"
   ]
  },
  {
   "cell_type": "code",
   "execution_count": 8,
   "id": "27740641",
   "metadata": {},
   "outputs": [
    {
     "name": "stdout",
     "output_type": "stream",
     "text": [
      "Model: \"sequential_2\"\n",
      "_________________________________________________________________\n",
      " Layer (type)                Output Shape              Param #   \n",
      "=================================================================\n",
      " dense_4 (Dense)             (None, 64)                256       \n",
      "                                                                 \n",
      " dense_5 (Dense)             (None, 10)                650       \n",
      "                                                                 \n",
      "=================================================================\n",
      "Total params: 906\n",
      "Trainable params: 906\n",
      "Non-trainable params: 0\n",
      "_________________________________________________________________\n"
     ]
    }
   ],
   "source": [
    "model.add(layers.Dense(10,activation='softmax'))\n",
    "model.summary()"
   ]
  },
  {
   "cell_type": "markdown",
   "id": "7db8fa13",
   "metadata": {},
   "source": [
    "# 함수형 API\n",
    "# 두개의 Dense층을 가지는 간단한 함수형 모델"
   ]
  },
  {
   "cell_type": "code",
   "execution_count": 9,
   "id": "ab363671",
   "metadata": {},
   "outputs": [],
   "source": [
    "inputs = keras.Input(shape=(3,), name='my_input')\n",
    "features = layers.Dense(64,activation='relu')(inputs)\n",
    "outputs = layers.Dense(10,activation='softmax')(features)"
   ]
  },
  {
   "cell_type": "code",
   "execution_count": 10,
   "id": "43e62ec0",
   "metadata": {},
   "outputs": [
    {
     "name": "stdout",
     "output_type": "stream",
     "text": [
      "Model: \"model\"\n",
      "_________________________________________________________________\n",
      " Layer (type)                Output Shape              Param #   \n",
      "=================================================================\n",
      " my_input (InputLayer)       [(None, 3)]               0         \n",
      "                                                                 \n",
      " dense_6 (Dense)             (None, 64)                256       \n",
      "                                                                 \n",
      "=================================================================\n",
      "Total params: 256\n",
      "Trainable params: 256\n",
      "Non-trainable params: 0\n",
      "_________________________________________________________________\n"
     ]
    }
   ],
   "source": [
    "model = keras.Model(inputs=inputs, outputs=features)\n",
    "model.summary()"
   ]
  },
  {
   "cell_type": "code",
   "execution_count": 11,
   "id": "5fde5e2e",
   "metadata": {},
   "outputs": [
    {
     "name": "stdout",
     "output_type": "stream",
     "text": [
      "Model: \"model_1\"\n",
      "_________________________________________________________________\n",
      " Layer (type)                Output Shape              Param #   \n",
      "=================================================================\n",
      " my_input (InputLayer)       [(None, 3)]               0         \n",
      "                                                                 \n",
      " dense_6 (Dense)             (None, 64)                256       \n",
      "                                                                 \n",
      " dense_7 (Dense)             (None, 10)                650       \n",
      "                                                                 \n",
      "=================================================================\n",
      "Total params: 906\n",
      "Trainable params: 906\n",
      "Non-trainable params: 0\n",
      "_________________________________________________________________\n"
     ]
    }
   ],
   "source": [
    "model = keras.Model(inputs=inputs, outputs=outputs)\n",
    "model.summary()"
   ]
  },
  {
   "cell_type": "markdown",
   "id": "a20e4714",
   "metadata": {},
   "source": [
    "# 다중입력, 다중 출력 함수형 모델"
   ]
  },
  {
   "cell_type": "code",
   "execution_count": 12,
   "id": "bb4290c4",
   "metadata": {},
   "outputs": [],
   "source": [
    "vocabulary_size = 10000\n",
    "num_tags = 100\n",
    "num_departments = 4"
   ]
  },
  {
   "cell_type": "code",
   "execution_count": 13,
   "id": "994f37c4",
   "metadata": {},
   "outputs": [],
   "source": [
    "title = keras.Input(shape=(vocabulary_size,),name='title')\n",
    "text_body = keras.Input(shape=(vocabulary_size,), name='text_body')\n",
    "tags = keras.Input(shape=(num_tags,), name='tags')"
   ]
  },
  {
   "cell_type": "code",
   "execution_count": 14,
   "id": "0d97aea7",
   "metadata": {},
   "outputs": [],
   "source": [
    "features =  layers.Concatenate()([title,text_body,tags])\n",
    "features =  layers.Dense(64,activation='relu')(features)\n",
    "priority = layers.Dense(1,activation='sigmoid',name='priority')(features)\n",
    "department =  layers.Dense(num_departments,activation='softmax',name='department')(features)\n",
    "model = keras.Model(inputs=[title,text_body,tags], outputs = [priority,department])"
   ]
  },
  {
   "cell_type": "code",
   "execution_count": 15,
   "id": "b5971761",
   "metadata": {},
   "outputs": [
    {
     "name": "stdout",
     "output_type": "stream",
     "text": [
      "Model: \"model_2\"\n",
      "__________________________________________________________________________________________________\n",
      " Layer (type)                   Output Shape         Param #     Connected to                     \n",
      "==================================================================================================\n",
      " title (InputLayer)             [(None, 10000)]      0           []                               \n",
      "                                                                                                  \n",
      " text_body (InputLayer)         [(None, 10000)]      0           []                               \n",
      "                                                                                                  \n",
      " tags (InputLayer)              [(None, 100)]        0           []                               \n",
      "                                                                                                  \n",
      " concatenate (Concatenate)      (None, 20100)        0           ['title[0][0]',                  \n",
      "                                                                  'text_body[0][0]',              \n",
      "                                                                  'tags[0][0]']                   \n",
      "                                                                                                  \n",
      " dense_8 (Dense)                (None, 64)           1286464     ['concatenate[0][0]']            \n",
      "                                                                                                  \n",
      " priority (Dense)               (None, 1)            65          ['dense_8[0][0]']                \n",
      "                                                                                                  \n",
      " department (Dense)             (None, 4)            260         ['dense_8[0][0]']                \n",
      "                                                                                                  \n",
      "==================================================================================================\n",
      "Total params: 1,286,789\n",
      "Trainable params: 1,286,789\n",
      "Non-trainable params: 0\n",
      "__________________________________________________________________________________________________\n"
     ]
    }
   ],
   "source": [
    "model.summary()"
   ]
  },
  {
   "cell_type": "markdown",
   "id": "a1489963",
   "metadata": {},
   "source": [
    "# 입력과 타깃 배열 리스트를 전달해서 모델 훈련"
   ]
  },
  {
   "cell_type": "code",
   "execution_count": 16,
   "id": "08f6e571",
   "metadata": {},
   "outputs": [],
   "source": [
    "import numpy as np\n",
    "num_samples = 1280\n",
    "title_data = np.random.randint(0,2, size=(num_samples, vocabulary_size))\n",
    "text_body = np.random.randint(0,2, size=(num_samples, vocabulary_size))\n",
    "tags_data = np.random.randint(0,2,size=(num_samples,num_tags))"
   ]
  },
  {
   "cell_type": "code",
   "execution_count": 17,
   "id": "838e6840",
   "metadata": {},
   "outputs": [],
   "source": [
    "priority_data = np.random.random(size=(num_samples,1))\n",
    "department_data = np.random.randint(0,2,size=(num_samples, num_departments))"
   ]
  },
  {
   "cell_type": "code",
   "execution_count": 18,
   "id": "22a36fd5",
   "metadata": {},
   "outputs": [],
   "source": [
    "model.compile(optimizer='adam',loss = ['mse','categorical_crossentropy'],metrics=['mae','acc'])"
   ]
  },
  {
   "cell_type": "code",
   "execution_count": 19,
   "id": "a73c38a8",
   "metadata": {},
   "outputs": [
    {
     "name": "stdout",
     "output_type": "stream",
     "text": [
      "40/40 [==============================] - 1s 14ms/step - loss: 8.5667 - priority_loss: 0.1977 - department_loss: 8.3690 - priority_mae: 0.3662 - priority_acc: 0.0000e+00 - department_mae: 0.5015 - department_acc: 0.2320\n"
     ]
    }
   ],
   "source": [
    "history = model.fit([title_data,text_body, tags_data],[priority_data,department_data],epochs=1)"
   ]
  },
  {
   "cell_type": "code",
   "execution_count": 20,
   "id": "e18b879d",
   "metadata": {},
   "outputs": [
    {
     "name": "stdout",
     "output_type": "stream",
     "text": [
      "40/40 [==============================] - 0s 6ms/step - loss: 7.0157 - priority_loss: 0.2535 - department_loss: 6.7622 - priority_mae: 0.4235 - priority_acc: 0.0000e+00 - department_mae: 0.4685 - department_acc: 0.3633\n"
     ]
    },
    {
     "data": {
      "text/plain": [
       "[7.0157060623168945,\n",
       " 0.2534959614276886,\n",
       " 6.762210845947266,\n",
       " 0.42353278398513794,\n",
       " 0.0,\n",
       " 0.46850505471229553,\n",
       " 0.36328125]"
      ]
     },
     "execution_count": 20,
     "metadata": {},
     "output_type": "execute_result"
    }
   ],
   "source": [
    "model.evaluate([title_data,text_body, tags_data],[priority_data,department_data])"
   ]
  },
  {
   "cell_type": "code",
   "execution_count": 21,
   "id": "1b4bf631",
   "metadata": {},
   "outputs": [
    {
     "name": "stdout",
     "output_type": "stream",
     "text": [
      "40/40 [==============================] - 0s 6ms/step\n"
     ]
    }
   ],
   "source": [
    "priority_preds, department_preds = model.predict([title_data, text_body, tags_data])"
   ]
  },
  {
   "cell_type": "code",
   "execution_count": 22,
   "id": "0ad02ca6",
   "metadata": {},
   "outputs": [
    {
     "data": {
      "text/plain": [
       "(array([[0.03331835],\n",
       "        [0.10668685],\n",
       "        [0.03830338],\n",
       "        ...,\n",
       "        [0.03032428],\n",
       "        [0.03179675],\n",
       "        [0.16824414]], dtype=float32),\n",
       " array([[6.8536502e-01, 1.8505234e-05, 2.6725760e-02, 2.8789073e-01],\n",
       "        [4.8905382e-01, 4.2329808e-05, 1.1150606e-01, 3.9939779e-01],\n",
       "        [3.3964890e-01, 1.9592414e-06, 1.6437940e-02, 6.4391118e-01],\n",
       "        ...,\n",
       "        [6.0716331e-02, 6.0576072e-04, 6.6221468e-02, 8.7245649e-01],\n",
       "        [2.2554022e-01, 8.7590910e-05, 5.9616487e-02, 7.1475577e-01],\n",
       "        [1.4627641e-01, 2.7046299e-05, 9.7577982e-02, 7.5611860e-01]],\n",
       "       dtype=float32))"
      ]
     },
     "execution_count": 22,
     "metadata": {},
     "output_type": "execute_result"
    }
   ],
   "source": [
    "priority_preds, department_preds"
   ]
  },
  {
   "cell_type": "markdown",
   "id": "6eca2ca0",
   "metadata": {},
   "source": [
    "# 입력 타깃과 배열을 딕셔너리로 전달해서 모델을 훈련"
   ]
  },
  {
   "cell_type": "code",
   "execution_count": 23,
   "id": "d23edc27",
   "metadata": {},
   "outputs": [
    {
     "name": "stdout",
     "output_type": "stream",
     "text": [
      "40/40 [==============================] - 1s 13ms/step - loss: 7.2700 - priority_loss: 0.3320 - department_loss: 6.9380 - priority_mae: 0.5035 - department_acc: 0.3453\n",
      "40/40 [==============================] - 0s 6ms/step - loss: 3.8085 - priority_loss: 0.3345 - department_loss: 3.4740 - priority_mae: 0.5059 - department_acc: 0.1734\n",
      "40/40 [==============================] - 0s 6ms/step\n"
     ]
    }
   ],
   "source": [
    "model.compile(optimizer='adam',\n",
    "              loss = {\"priority\" : 'mse', \"department\":'categorical_crossentropy'},\n",
    "              metrics={\"priority\":['mae'],\"department\":['acc']}\n",
    "             )\n",
    "\n",
    "history = model.fit(\n",
    "    {\"title\":title_data,\n",
    "     \"text_body\":text_body, \n",
    "     \"tags\":tags_data},\n",
    "    {\n",
    "        \"priority\":priority_data,\n",
    "        \"department\":department_data}\n",
    "    ,epochs=1)\n",
    "\n",
    "model.evaluate(\n",
    "    {\"title\":title_data,\n",
    "     \"text_body\":text_body, \n",
    "     \"tags\":tags_data},\n",
    "    {\n",
    "        \"priority\":priority_data,\n",
    "        \"department\":department_data}\n",
    ")\n",
    "priority_preds, department_preds = model.predict(\n",
    "    {\n",
    "        \"title\":title_data, \n",
    "        \"text_body\":text_body, \n",
    "        \"tags\":tags_data\n",
    "    }\n",
    ")"
   ]
  },
  {
   "cell_type": "markdown",
   "id": "d6a482d6",
   "metadata": {},
   "source": [
    "# 함수형 API의 장점 : 층 연결구조 활용"
   ]
  },
  {
   "cell_type": "code",
   "execution_count": 24,
   "id": "092b5607",
   "metadata": {},
   "outputs": [
    {
     "name": "stdout",
     "output_type": "stream",
     "text": [
      "Model: \"model_2\"\n",
      "__________________________________________________________________________________________________\n",
      " Layer (type)                   Output Shape         Param #     Connected to                     \n",
      "==================================================================================================\n",
      " title (InputLayer)             [(None, 10000)]      0           []                               \n",
      "                                                                                                  \n",
      " text_body (InputLayer)         [(None, 10000)]      0           []                               \n",
      "                                                                                                  \n",
      " tags (InputLayer)              [(None, 100)]        0           []                               \n",
      "                                                                                                  \n",
      " concatenate (Concatenate)      (None, 20100)        0           ['title[0][0]',                  \n",
      "                                                                  'text_body[0][0]',              \n",
      "                                                                  'tags[0][0]']                   \n",
      "                                                                                                  \n",
      " dense_8 (Dense)                (None, 64)           1286464     ['concatenate[0][0]']            \n",
      "                                                                                                  \n",
      " priority (Dense)               (None, 1)            65          ['dense_8[0][0]']                \n",
      "                                                                                                  \n",
      " department (Dense)             (None, 4)            260         ['dense_8[0][0]']                \n",
      "                                                                                                  \n",
      "==================================================================================================\n",
      "Total params: 1,286,789\n",
      "Trainable params: 1,286,789\n",
      "Non-trainable params: 0\n",
      "__________________________________________________________________________________________________\n"
     ]
    }
   ],
   "source": [
    "model.summary()"
   ]
  },
  {
   "cell_type": "code",
   "execution_count": 25,
   "id": "f3fbc307",
   "metadata": {},
   "outputs": [
    {
     "data": {
      "image/png": "[encoded data removed]",
      "text/plain": [
       "<IPython.core.display.Image object>"
      ]
     },
     "execution_count": 25,
     "metadata": {},
     "output_type": "execute_result"
    }
   ],
   "source": [
    "keras.utils.plot_model(model,'tiket_classifier.png')"
   ]
  },
  {
   "cell_type": "code",
   "execution_count": 26,
   "id": "c55cd049",
   "metadata": {},
   "outputs": [
    {
     "data": {
      "image/png": "[encoded data removed]",
      "text/plain": [
       "<IPython.core.display.Image object>"
      ]
     },
     "execution_count": 26,
     "metadata": {},
     "output_type": "execute_result"
    }
   ],
   "source": [
    "keras.utils.plot_model(model,'tiket_classifier_with_shape_info.png',show_shapes=True)"
   ]
  },
  {
   "cell_type": "markdown",
   "id": "09020f8a",
   "metadata": {},
   "source": [
    "# 함수형 모델에 있는 층의 입력과 출력을 출력"
   ]
  },
  {
   "cell_type": "code",
   "execution_count": 27,
   "id": "45fb885a",
   "metadata": {},
   "outputs": [
    {
     "data": {
      "text/plain": [
       "[<keras.engine.input_layer.InputLayer at 0x1cfcfa8c1c0>,\n",
       " <keras.engine.input_layer.InputLayer at 0x1cfcfa8cca0>,\n",
       " <keras.engine.input_layer.InputLayer at 0x1cfcfaf5a00>,\n",
       " <keras.layers.merging.concatenate.Concatenate at 0x1cfc495ba00>,\n",
       " <keras.layers.core.dense.Dense at 0x1cfc495bb50>,\n",
       " <keras.layers.core.dense.Dense at 0x1cfcf9aaca0>,\n",
       " <keras.layers.core.dense.Dense at 0x1cfcf919ca0>]"
      ]
     },
     "execution_count": 27,
     "metadata": {},
     "output_type": "execute_result"
    }
   ],
   "source": [
    "model.layers"
   ]
  },
  {
   "cell_type": "code",
   "execution_count": 28,
   "id": "5569fb9b",
   "metadata": {},
   "outputs": [
    {
     "data": {
      "text/plain": [
       "[<KerasTensor: shape=(None, 10000) dtype=float32 (created by layer 'title')>,\n",
       " <KerasTensor: shape=(None, 10000) dtype=float32 (created by layer 'text_body')>,\n",
       " <KerasTensor: shape=(None, 100) dtype=float32 (created by layer 'tags')>]"
      ]
     },
     "execution_count": 28,
     "metadata": {},
     "output_type": "execute_result"
    }
   ],
   "source": [
    "model.layers[3].input"
   ]
  },
  {
   "cell_type": "code",
   "execution_count": 29,
   "id": "671f70c1",
   "metadata": {},
   "outputs": [
    {
     "data": {
      "text/plain": [
       "<KerasTensor: shape=(None, 20100) dtype=float32 (created by layer 'concatenate')>"
      ]
     },
     "execution_count": 29,
     "metadata": {},
     "output_type": "execute_result"
    }
   ],
   "source": [
    "model.layers[3].output"
   ]
  },
  {
   "cell_type": "markdown",
   "id": "541f46b7",
   "metadata": {},
   "source": [
    "# 중간층의 출력을 재사용해서 새로운 모델 "
   ]
  },
  {
   "cell_type": "code",
   "execution_count": 31,
   "id": "fcdba958",
   "metadata": {},
   "outputs": [],
   "source": [
    "# feature = model.layers[4].output\n",
    "# difficulty =  layers.Dense(3,activation='softmax',name='difficulty')(feature)\n",
    "# new_model = keras.Model(inputs =[title,text_body,tags] ,  outputs = [priority,department])\n",
    "# model = keras.Model(inputs=[title,text_body,tags], outputs = [priority,department,difficulty])"
   ]
  },
  {
   "cell_type": "code",
   "execution_count": null,
   "id": "6784b247",
   "metadata": {},
   "outputs": [],
   "source": []
  },
  {
   "cell_type": "markdown",
   "id": "ce631dc8",
   "metadata": {},
   "source": [
    "# Model 서브클래싱"
   ]
  },
  {
   "cell_type": "code",
   "execution_count": 56,
   "id": "2d1d3621",
   "metadata": {},
   "outputs": [],
   "source": [
    "inputs = keras.Input(shape=(64,))\n",
    "outputs = layers.Dense(1, activation='sigmoid')(inputs)\n",
    "binary_classifier = keras.Model(inputs = inputs, outputs=outputs)\n",
    "class MyModel(keras.Model):\n",
    "    def __init__(self,num_classes=2):\n",
    "        super().__init__()\n",
    "        self.dense = layers.Dense(64,activation='relu')\n",
    "        self.classifier = binary_classifier\n",
    "        print(\"__init__\")\n",
    "    def call(self, inputs):\n",
    "        features = self.dense(inputs)\n",
    "        print(\"call.....\")\n",
    "        return self.classifier(features)        "
   ]
  },
  {
   "cell_type": "code",
   "execution_count": 60,
   "id": "65d887c1",
   "metadata": {},
   "outputs": [],
   "source": [
    "# 표준 플로우 워크 : compile(), fit(), evaluate(), predict()"
   ]
  },
  {
   "cell_type": "code",
   "execution_count": 61,
   "id": "5e2aae68",
   "metadata": {},
   "outputs": [],
   "source": [
    "from tensorflow.keras.datasets import mnist"
   ]
  },
  {
   "cell_type": "code",
   "execution_count": 77,
   "id": "deaf15ac",
   "metadata": {},
   "outputs": [],
   "source": [
    "def get_mnist_model():\n",
    "    inputs = keras.Input(shape=(28*28,))\n",
    "    features = layers.Dense(512,activation='relu')(inputs)\n",
    "    features = layers.Dropout(0.5)(features)\n",
    "    outputs = layers.Dense(10,activation='softmax')(features)\n",
    "    model = keras.Model(inputs, outputs)\n",
    "    return model"
   ]
  },
  {
   "cell_type": "code",
   "execution_count": 78,
   "id": "a5ead1d1",
   "metadata": {},
   "outputs": [],
   "source": [
    "(images,labes),(test_images, test_labels) = mnist.load_data()"
   ]
  },
  {
   "cell_type": "code",
   "execution_count": 79,
   "id": "6dba8bb3",
   "metadata": {},
   "outputs": [
    {
     "data": {
      "text/plain": [
       "(60000, 28, 28)"
      ]
     },
     "execution_count": 79,
     "metadata": {},
     "output_type": "execute_result"
    }
   ],
   "source": [
    "images.shape"
   ]
  },
  {
   "cell_type": "code",
   "execution_count": 80,
   "id": "495862b2",
   "metadata": {},
   "outputs": [],
   "source": [
    "# 전처리  28*28 - > 28 x 28\n",
    "# 데이터 표준화\n",
    "split = 10000\n",
    "images = images.reshape(-1,28*28).astype('float32') / 255\n",
    "test_images = test_images.reshape(-1,28*28).astype('float32') / 255\n",
    "# 데이터를 분할... 테스트 데이터 10000\n",
    "train_images,val_images = images[:-split],images[-split:]\n",
    "train_labels,val_labels = labes[:-split],labes[-split:]"
   ]
  },
  {
   "cell_type": "code",
   "execution_count": 81,
   "id": "1091c2bd",
   "metadata": {},
   "outputs": [
    {
     "data": {
      "text/plain": [
       "((50000, 784), (10000, 784), (50000,), (10000,))"
      ]
     },
     "execution_count": 81,
     "metadata": {},
     "output_type": "execute_result"
    }
   ],
   "source": [
    "train_images.shape, val_images.shape, train_labels.shape, val_labels.shape"
   ]
  },
  {
   "cell_type": "code",
   "execution_count": 82,
   "id": "e633af59",
   "metadata": {},
   "outputs": [
    {
     "name": "stdout",
     "output_type": "stream",
     "text": [
      "Epoch 1/3\n",
      "1563/1563 [==============================] - 10s 6ms/step - loss: 0.2934 - acc: 0.9123 - val_loss: 0.1335 - val_acc: 0.9626\n",
      "Epoch 2/3\n",
      "1563/1563 [==============================] - 8s 5ms/step - loss: 0.1484 - acc: 0.9552 - val_loss: 0.0919 - val_acc: 0.9736\n",
      "Epoch 3/3\n",
      "1563/1563 [==============================] - 7s 5ms/step - loss: 0.1154 - acc: 0.9649 - val_loss: 0.0867 - val_acc: 0.9739\n"
     ]
    },
    {
     "data": {
      "text/plain": [
       "<keras.callbacks.History at 0x1cfdf1b67c0>"
      ]
     },
     "execution_count": 82,
     "metadata": {},
     "output_type": "execute_result"
    }
   ],
   "source": [
    "model = get_mnist_model()\n",
    "model.compile(optimizer='adam',loss='sparse_categorical_crossentropy', metrics=['acc'])\n",
    "model.fit(train_images,train_labels,epochs=3,validation_data=(val_images,val_labels))"
   ]
  },
  {
   "cell_type": "code",
   "execution_count": 83,
   "id": "24b1c5ad",
   "metadata": {},
   "outputs": [
    {
     "name": "stdout",
     "output_type": "stream",
     "text": [
      "313/313 [==============================] - 1s 2ms/step - loss: 0.0885 - acc: 0.9728\n",
      "313/313 [==============================] - 1s 2ms/step\n"
     ]
    }
   ],
   "source": [
    "test_metrics =  model.evaluate(test_images,test_labels)\n",
    "predictions = model.predict(test_images)"
   ]
  },
  {
   "cell_type": "markdown",
   "id": "72d988e3",
   "metadata": {},
   "source": [
    "#### 사용자 정의 지표 구현"
   ]
  },
  {
   "cell_type": "code",
   "execution_count": 86,
   "id": "48a92680",
   "metadata": {},
   "outputs": [],
   "source": [
    "import tensorflow as tf\n",
    "class RootMeanSquaredError(keras.metrics.Metric):\n",
    "    def __init__(self, name='rmse', **kwargs):\n",
    "        super().__init__(name=name, **kwargs)\n",
    "        self.mse_sum = self.add_weight(name='mse_sum', initializer='zeros')\n",
    "        self.total_samples = self.add_weight(\n",
    "            name='total_samples', initializer='zeros', dtype='int32'\n",
    "        )\n",
    "    def update_state(self, y_true, y_pred, sample_weight = None):\n",
    "        y_true = tf.one_hot(y_true, depth=tf.shape(y_pred)[1])\n",
    "        mse = tf.reduce_sum(tf.square(y_true-y_pred))\n",
    "        self.mse_sum.assign_add(mse)\n",
    "        num_samples = tf.shape(y_pred)[0]\n",
    "        self.total_samples.assign_add(num_samples)\n",
    "    def result(self):\n",
    "        return tf.sqrt(self.mse_sum / tf.cast(self.total_samples, tf.float32))\n",
    "    def reset_state(self):\n",
    "        self.mse_sum.assign(0)\n",
    "        self.total_samples.assign(0)"
   ]
  },
  {
   "cell_type": "code",
   "execution_count": 89,
   "id": "98f496f3",
   "metadata": {},
   "outputs": [
    {
     "name": "stdout",
     "output_type": "stream",
     "text": [
      "Epoch 1/3\n",
      "1563/1563 [==============================] - 9s 6ms/step - loss: 0.2911 - acc: 0.9122 - rmse: 7.1274 - val_loss: 0.1300 - val_acc: 0.9630 - val_rmse: 7.3309\n",
      "Epoch 2/3\n",
      "1563/1563 [==============================] - 9s 6ms/step - loss: 0.1458 - acc: 0.9553 - rmse: 7.3068 - val_loss: 0.1001 - val_acc: 0.9709 - val_rmse: 7.3823\n",
      "Epoch 3/3\n",
      "1563/1563 [==============================] - 8s 5ms/step - loss: 0.1170 - acc: 0.9637 - rmse: 7.3460 - val_loss: 0.0850 - val_acc: 0.9744 - val_rmse: 7.4121\n",
      "313/313 [==============================] - 1s 2ms/step - loss: 0.0839 - acc: 0.9739 - rmse: 7.4151\n"
     ]
    }
   ],
   "source": [
    "model = get_mnist_model()\n",
    "model.compile(optimizer='adam',loss='sparse_categorical_crossentropy',metrics=['acc',RootMeanSquaredError()])\n",
    "model.fit(train_images,train_labels,epochs=3,validation_data=(val_images,val_labels))\n",
    "test_metrics = model.evaluate(test_images,test_labels)"
   ]
  },
  {
   "cell_type": "code",
   "execution_count": 91,
   "id": "cc5e531b",
   "metadata": {},
   "outputs": [
    {
     "name": "stdout",
     "output_type": "stream",
     "text": [
      "Epoch 1/100\n",
      "1563/1563 [==============================] - 9s 5ms/step - loss: 0.2930 - accuracy: 0.9128 - val_loss: 0.1239 - val_accuracy: 0.9654\n",
      "Epoch 2/100\n",
      "1563/1563 [==============================] - 9s 6ms/step - loss: 0.1507 - accuracy: 0.9539 - val_loss: 0.1000 - val_accuracy: 0.9695\n",
      "Epoch 3/100\n",
      "1563/1563 [==============================] - 8s 5ms/step - loss: 0.1157 - accuracy: 0.9641 - val_loss: 0.0811 - val_accuracy: 0.9760\n",
      "Epoch 4/100\n",
      "1563/1563 [==============================] - 8s 5ms/step - loss: 0.0944 - accuracy: 0.9701 - val_loss: 0.0782 - val_accuracy: 0.9773\n",
      "Epoch 5/100\n",
      "1563/1563 [==============================] - 8s 5ms/step - loss: 0.0860 - accuracy: 0.9718 - val_loss: 0.0775 - val_accuracy: 0.9777\n",
      "Epoch 6/100\n",
      "1563/1563 [==============================] - 8s 5ms/step - loss: 0.0749 - accuracy: 0.9760 - val_loss: 0.0677 - val_accuracy: 0.9792\n",
      "Epoch 7/100\n",
      "1563/1563 [==============================] - 7s 5ms/step - loss: 0.0677 - accuracy: 0.9777 - val_loss: 0.0729 - val_accuracy: 0.9796\n",
      "Epoch 8/100\n",
      "1563/1563 [==============================] - 7s 5ms/step - loss: 0.0669 - accuracy: 0.9786 - val_loss: 0.0747 - val_accuracy: 0.9781\n",
      "Epoch 9/100\n",
      "1563/1563 [==============================] - 7s 5ms/step - loss: 0.0607 - accuracy: 0.9799 - val_loss: 0.0743 - val_accuracy: 0.9800\n",
      "Epoch 10/100\n",
      "1563/1563 [==============================] - 7s 5ms/step - loss: 0.0515 - accuracy: 0.9823 - val_loss: 0.0679 - val_accuracy: 0.9824\n",
      "Epoch 11/100\n",
      "1563/1563 [==============================] - 8s 5ms/step - loss: 0.0515 - accuracy: 0.9828 - val_loss: 0.0754 - val_accuracy: 0.9815\n",
      "Epoch 12/100\n",
      "1563/1563 [==============================] - 7s 5ms/step - loss: 0.0505 - accuracy: 0.9844 - val_loss: 0.0723 - val_accuracy: 0.9823\n"
     ]
    },
    {
     "data": {
      "text/plain": [
       "<keras.callbacks.History at 0x1cf82aae640>"
      ]
     },
     "execution_count": 91,
     "metadata": {},
     "output_type": "execute_result"
    }
   ],
   "source": [
    "# callback method\n",
    "callback_list = [\n",
    "    keras.callbacks.EarlyStopping(\n",
    "        monitor=\"val_accuracy\",patience=2\n",
    "    ),\n",
    "    keras.callbacks.ModelCheckpoint(\n",
    "        filepath='checkpoint_path.keras',\n",
    "        monitor=\"val_loss\",\n",
    "        save_best_only=True\n",
    "    )\n",
    "]\n",
    "model = get_mnist_model()\n",
    "model.compile(optimizer='adam',loss=tf.keras.losses.sparse_categorical_crossentropy,\n",
    "             metrics=['accuracy']\n",
    "             )\n",
    "model.fit(train_images,train_labels,epochs=100,callbacks=callback_list,\n",
    "          validation_data=(val_images,val_labels))"
   ]
  },
  {
   "cell_type": "code",
   "execution_count": 92,
   "id": "1e68d31a",
   "metadata": {},
   "outputs": [
    {
     "name": "stdout",
     "output_type": "stream",
     "text": [
      "313/313 [==============================] - 1s 2ms/step - loss: 0.0719 - accuracy: 0.9818\n"
     ]
    },
    {
     "data": {
      "text/plain": [
       "[0.07194230705499649, 0.9818000197410583]"
      ]
     },
     "execution_count": 92,
     "metadata": {},
     "output_type": "execute_result"
    }
   ],
   "source": [
    "model.evaluate(test_images,test_labels)"
   ]
  },
  {
   "cell_type": "code",
   "execution_count": 93,
   "id": "df677833",
   "metadata": {},
   "outputs": [],
   "source": [
    "restore_model = tf.keras.models.load_model('checkpoint_path.keras')"
   ]
  },
  {
   "cell_type": "code",
   "execution_count": 94,
   "id": "c27fca5c",
   "metadata": {},
   "outputs": [
    {
     "name": "stdout",
     "output_type": "stream",
     "text": [
      "313/313 [==============================] - 1s 2ms/step - loss: 0.0674 - accuracy: 0.9796\n"
     ]
    },
    {
     "data": {
      "text/plain": [
       "[0.06743229925632477, 0.9796000123023987]"
      ]
     },
     "execution_count": 94,
     "metadata": {},
     "output_type": "execute_result"
    }
   ],
   "source": [
    "restore_model.evaluate(test_images,test_labels)"
   ]
  },
  {
   "cell_type": "markdown",
   "id": "4b0b55b2",
   "metadata": {},
   "source": [
    "#### 사용자 정의 콜백"
   ]
  },
  {
   "cell_type": "code",
   "execution_count": 111,
   "id": "e2d84297",
   "metadata": {},
   "outputs": [],
   "source": [
    "import matplotlib.pyplot as plt\n",
    "class LossHistory(keras.callbacks.Callback):\n",
    "    def on_train_begin(self,logs):\n",
    "        self.per_batch_losses = []\n",
    "    def on_batch_end(self,batch,logs):        \n",
    "        self.per_batch_losses.append(logs.get(\"loss\"))\n",
    "    def on_epoch_end(self,epoch,logs):        \n",
    "        plt.clf()\n",
    "        plt.plot(range(len(self.per_batch_losses)), self.per_batch_losses,\n",
    "                 label='Training loss for each batch')\n",
    "        plt.xlabel(f\"Batch (epoch{epoch})\")\n",
    "        plt.ylabel(\"Loss\")\n",
    "        plt.legend()\n",
    "        plt.savefig(f\"plot_at_epoch_{epoch}\")\n",
    "        self.per_batch_losses = []\n",
    "        "
   ]
  },
  {
   "cell_type": "code",
   "execution_count": 114,
   "id": "d104d2db",
   "metadata": {},
   "outputs": [
    {
     "data": {
      "text/plain": [
       "[<keras.callbacks.EarlyStopping at 0x1cf836b1580>,\n",
       " <keras.callbacks.ModelCheckpoint at 0x1cf836b1880>,\n",
       " <__main__.LossHistory at 0x1cfa8482b80>]"
      ]
     },
     "execution_count": 114,
     "metadata": {},
     "output_type": "execute_result"
    }
   ],
   "source": [
    "callback_list+[LossHistory()]"
   ]
  },
  {
   "cell_type": "code",
   "execution_count": 115,
   "id": "c7b65403",
   "metadata": {},
   "outputs": [
    {
     "name": "stdout",
     "output_type": "stream",
     "text": [
      "Epoch 1/100\n",
      "1563/1563 [==============================] - 9s 6ms/step - loss: 0.2938 - accuracy: 0.9120 - val_loss: 0.1277 - val_accuracy: 0.9638\n",
      "Epoch 2/100\n",
      "1563/1563 [==============================] - 9s 6ms/step - loss: 0.1476 - accuracy: 0.9547 - val_loss: 0.0948 - val_accuracy: 0.9716\n",
      "Epoch 3/100\n",
      "1563/1563 [==============================] - 8s 5ms/step - loss: 0.1165 - accuracy: 0.9631 - val_loss: 0.0845 - val_accuracy: 0.9758\n",
      "Epoch 4/100\n",
      "1563/1563 [==============================] - 9s 6ms/step - loss: 0.0959 - accuracy: 0.9689 - val_loss: 0.0825 - val_accuracy: 0.9758\n",
      "Epoch 5/100\n",
      "1563/1563 [==============================] - 9s 5ms/step - loss: 0.0849 - accuracy: 0.9728 - val_loss: 0.0776 - val_accuracy: 0.9784\n",
      "Epoch 6/100\n",
      "1563/1563 [==============================] - 8s 5ms/step - loss: 0.0759 - accuracy: 0.9754 - val_loss: 0.0811 - val_accuracy: 0.9769\n",
      "Epoch 7/100\n",
      "1563/1563 [==============================] - 10s 6ms/step - loss: 0.0684 - accuracy: 0.9784 - val_loss: 0.0779 - val_accuracy: 0.9786\n",
      "Epoch 8/100\n",
      "1563/1563 [==============================] - 9s 6ms/step - loss: 0.0644 - accuracy: 0.9796 - val_loss: 0.0774 - val_accuracy: 0.9789\n",
      "Epoch 9/100\n",
      "1563/1563 [==============================] - 7s 5ms/step - loss: 0.0591 - accuracy: 0.9802 - val_loss: 0.0801 - val_accuracy: 0.9789\n",
      "Epoch 10/100\n",
      "1563/1563 [==============================] - 8s 5ms/step - loss: 0.0550 - accuracy: 0.9821 - val_loss: 0.0755 - val_accuracy: 0.9805\n",
      "Epoch 11/100\n",
      "1563/1563 [==============================] - 8s 5ms/step - loss: 0.0544 - accuracy: 0.9823 - val_loss: 0.0775 - val_accuracy: 0.9808\n",
      "Epoch 12/100\n",
      "1563/1563 [==============================] - 8s 5ms/step - loss: 0.0488 - accuracy: 0.9837 - val_loss: 0.0773 - val_accuracy: 0.9815\n",
      "Epoch 13/100\n",
      "1563/1563 [==============================] - 8s 5ms/step - loss: 0.0474 - accuracy: 0.9843 - val_loss: 0.0755 - val_accuracy: 0.9821\n",
      "Epoch 14/100\n",
      "1563/1563 [==============================] - 9s 5ms/step - loss: 0.0439 - accuracy: 0.9853 - val_loss: 0.0817 - val_accuracy: 0.9809\n",
      "Epoch 15/100\n",
      "1563/1563 [==============================] - 8s 5ms/step - loss: 0.0438 - accuracy: 0.9858 - val_loss: 0.0851 - val_accuracy: 0.9811\n"
     ]
    },
    {
     "data": {
      "text/plain": [
       "<keras.callbacks.History at 0x1cfa8516a90>"
      ]
     },
     "execution_count": 115,
     "metadata": {},
     "output_type": "execute_result"
    },
    {
     "data": {
      "image/png": "[encoded data removed]",
      "text/plain": [
       "<Figure size 432x288 with 1 Axes>"
      ]
     },
     "metadata": {
      "needs_background": "light"
     },
     "output_type": "display_data"
    }
   ],
   "source": [
    "model = get_mnist_model()\n",
    "model.compile(optimizer='adam', loss='sparse_categorical_crossentropy',metrics=['accuracy'])\n",
    "model.fit(train_images,train_labels,epochs=100,validation_data=(val_images,val_labels),\n",
    "#           callbacks=[LossHistory()]\n",
    "          callbacks=callback_list+[LossHistory()]\n",
    "         )"
   ]
  },
  {
   "cell_type": "code",
   "execution_count": 103,
   "id": "da73f781",
   "metadata": {},
   "outputs": [],
   "source": [
    "# help(model.fit)"
   ]
  },
  {
   "cell_type": "markdown",
   "id": "b7fd688a",
   "metadata": {},
   "source": [
    "#### 텐서보드를 이용한 모니터링과 시각화"
   ]
  },
  {
   "cell_type": "code",
   "execution_count": 118,
   "id": "cba77d50",
   "metadata": {},
   "outputs": [
    {
     "name": "stdout",
     "output_type": "stream",
     "text": [
      "Epoch 1/10\n",
      "1563/1563 [==============================] - 9s 6ms/step - loss: 0.2913 - accuracy: 0.9116 - val_loss: 0.1310 - val_accuracy: 0.9614\n",
      "Epoch 2/10\n",
      "1563/1563 [==============================] - 8s 5ms/step - loss: 0.1487 - accuracy: 0.9542 - val_loss: 0.0961 - val_accuracy: 0.9716\n",
      "Epoch 3/10\n",
      "1563/1563 [==============================] - 8s 5ms/step - loss: 0.1144 - accuracy: 0.9646 - val_loss: 0.0833 - val_accuracy: 0.9740\n",
      "Epoch 4/10\n",
      "1563/1563 [==============================] - 8s 5ms/step - loss: 0.0966 - accuracy: 0.9700 - val_loss: 0.0780 - val_accuracy: 0.9762\n",
      "Epoch 5/10\n",
      "1563/1563 [==============================] - 8s 5ms/step - loss: 0.0833 - accuracy: 0.9741 - val_loss: 0.0779 - val_accuracy: 0.9777\n",
      "Epoch 6/10\n",
      "1563/1563 [==============================] - 9s 6ms/step - loss: 0.0767 - accuracy: 0.9748 - val_loss: 0.0723 - val_accuracy: 0.9792\n",
      "Epoch 7/10\n",
      "1563/1563 [==============================] - 8s 5ms/step - loss: 0.0692 - accuracy: 0.9775 - val_loss: 0.0692 - val_accuracy: 0.9807\n",
      "Epoch 8/10\n",
      "1563/1563 [==============================] - 8s 5ms/step - loss: 0.0629 - accuracy: 0.9800 - val_loss: 0.0710 - val_accuracy: 0.9805\n",
      "Epoch 9/10\n",
      "1563/1563 [==============================] - 8s 5ms/step - loss: 0.0604 - accuracy: 0.9802 - val_loss: 0.0718 - val_accuracy: 0.9809\n",
      "Epoch 10/10\n",
      "1563/1563 [==============================] - 7s 5ms/step - loss: 0.0527 - accuracy: 0.9831 - val_loss: 0.0766 - val_accuracy: 0.9803\n"
     ]
    },
    {
     "data": {
      "text/plain": [
       "<keras.callbacks.History at 0x1cfab0fe370>"
      ]
     },
     "execution_count": 118,
     "metadata": {},
     "output_type": "execute_result"
    }
   ],
   "source": [
    "model = get_mnist_model()\n",
    "model.compile(optimizer='adam', loss='sparse_categorical_crossentropy',\n",
    "              metrics=['accuracy']\n",
    "             )\n",
    "tensorboard = keras.callbacks.TensorBoard(log_dir='./tb_logs')\n",
    "model.fit(train_images,train_labels,epochs=10,validation_data=(val_images,val_labels),\n",
    "         callbacks=tensorboard)"
   ]
  },
  {
   "cell_type": "code",
   "execution_count": 119,
   "id": "f501231b",
   "metadata": {},
   "outputs": [
    {
     "name": "stdout",
     "output_type": "stream",
     "text": [
      "Help on class TensorBoard in module keras.callbacks:\n",
      "\n",
      "class TensorBoard(Callback, keras.utils.version_utils.TensorBoardVersionSelector)\n",
      " |  TensorBoard(log_dir='logs', histogram_freq=0, write_graph=True, write_images=False, write_steps_per_second=False, update_freq='epoch', profile_batch=0, embeddings_freq=0, embeddings_metadata=None, **kwargs)\n",
      " |  \n",
      " |  Enable visualizations for TensorBoard.\n",
      " |  \n",
      " |  TensorBoard is a visualization tool provided with TensorFlow.\n",
      " |  \n",
      " |  This callback logs events for TensorBoard, including:\n",
      " |  \n",
      " |  * Metrics summary plots\n",
      " |  * Training graph visualization\n",
      " |  * Weight histograms\n",
      " |  * Sampled profiling\n",
      " |  \n",
      " |  When used in `Model.evaluate`, in addition to epoch summaries, there will be\n",
      " |  a summary that records evaluation metrics vs `Model.optimizer.iterations`\n",
      " |  written. The metric names will be prepended with `evaluation`, with\n",
      " |  `Model.optimizer.iterations` being the step in the visualized TensorBoard.\n",
      " |  \n",
      " |  If you have installed TensorFlow with pip, you should be able\n",
      " |  to launch TensorBoard from the command line:\n",
      " |  \n",
      " |  ```\n",
      " |  tensorboard --logdir=path_to_your_logs\n",
      " |  ```\n",
      " |  \n",
      " |  You can find more information about TensorBoard\n",
      " |  [here](https://www.tensorflow.org/get_started/summaries_and_tensorboard).\n",
      " |  \n",
      " |  Args:\n",
      " |      log_dir: the path of the directory where to save the log files to be\n",
      " |        parsed by TensorBoard. e.g. log_dir = os.path.join(working_dir,\n",
      " |        'logs') This directory should not be reused by any other callbacks.\n",
      " |      histogram_freq: frequency (in epochs) at which to compute\n",
      " |        weight histograms for the layers of the model. If set to 0, histograms\n",
      " |        won't be computed. Validation data (or split) must be specified for\n",
      " |        histogram visualizations.\n",
      " |      write_graph: whether to visualize the graph in TensorBoard. The log file\n",
      " |        can become quite large when write_graph is set to True.\n",
      " |      write_images: whether to write model weights to visualize as image in\n",
      " |        TensorBoard.\n",
      " |      write_steps_per_second: whether to log the training steps per second\n",
      " |        into Tensorboard. This supports both epoch and batch frequency\n",
      " |        logging.\n",
      " |      update_freq: `'batch'` or `'epoch'` or integer. When using `'batch'`,\n",
      " |        writes the losses and metrics to TensorBoard after each batch. The\n",
      " |        same applies for `'epoch'`. If using an integer, let's say `1000`, the\n",
      " |        callback will write the metrics and losses to TensorBoard every 1000\n",
      " |        batches. Note that writing too frequently to TensorBoard can slow down\n",
      " |        your training.\n",
      " |      profile_batch: Profile the batch(es) to sample compute characteristics.\n",
      " |        profile_batch must be a non-negative integer or a tuple of integers.\n",
      " |        A pair of positive integers signify a range of batches to profile.\n",
      " |        By default, profiling is disabled.\n",
      " |      embeddings_freq: frequency (in epochs) at which embedding layers will be\n",
      " |        visualized. If set to 0, embeddings won't be visualized.\n",
      " |      embeddings_metadata: Dictionary which maps embedding layer names to the\n",
      " |        filename of a file in which to save metadata for the embedding layer.\n",
      " |        In case the same metadata file is to be\n",
      " |        used for all embedding layers, a single filename can be passed.\n",
      " |  \n",
      " |  Examples:\n",
      " |  \n",
      " |  Basic usage:\n",
      " |  \n",
      " |  ```python\n",
      " |  tensorboard_callback = tf.keras.callbacks.TensorBoard(log_dir=\"./logs\")\n",
      " |  model.fit(x_train, y_train, epochs=2, callbacks=[tensorboard_callback])\n",
      " |  # Then run the tensorboard command to view the visualizations.\n",
      " |  ```\n",
      " |  \n",
      " |  Custom batch-level summaries in a subclassed Model:\n",
      " |  \n",
      " |  ```python\n",
      " |  class MyModel(tf.keras.Model):\n",
      " |  \n",
      " |    def build(self, _):\n",
      " |      self.dense = tf.keras.layers.Dense(10)\n",
      " |  \n",
      " |    def call(self, x):\n",
      " |      outputs = self.dense(x)\n",
      " |      tf.summary.histogram('outputs', outputs)\n",
      " |      return outputs\n",
      " |  \n",
      " |  model = MyModel()\n",
      " |  model.compile('sgd', 'mse')\n",
      " |  \n",
      " |  # Make sure to set `update_freq=N` to log a batch-level summary every N\n",
      " |  # batches.  In addition to any `tf.summary` contained in `Model.call`,\n",
      " |  # metrics added in `Model.compile` will be logged every N batches.\n",
      " |  tb_callback = tf.keras.callbacks.TensorBoard('./logs', update_freq=1)\n",
      " |  model.fit(x_train, y_train, callbacks=[tb_callback])\n",
      " |  ```\n",
      " |  \n",
      " |  Custom batch-level summaries in a Functional API Model:\n",
      " |  \n",
      " |  ```python\n",
      " |  def my_summary(x):\n",
      " |    tf.summary.histogram('x', x)\n",
      " |    return x\n",
      " |  \n",
      " |  inputs = tf.keras.Input(10)\n",
      " |  x = tf.keras.layers.Dense(10)(inputs)\n",
      " |  outputs = tf.keras.layers.Lambda(my_summary)(x)\n",
      " |  model = tf.keras.Model(inputs, outputs)\n",
      " |  model.compile('sgd', 'mse')\n",
      " |  \n",
      " |  # Make sure to set `update_freq=N` to log a batch-level summary every N\n",
      " |  # batches. In addition to any `tf.summary` contained in `Model.call`,\n",
      " |  # metrics added in `Model.compile` will be logged every N batches.\n",
      " |  tb_callback = tf.keras.callbacks.TensorBoard('./logs', update_freq=1)\n",
      " |  model.fit(x_train, y_train, callbacks=[tb_callback])\n",
      " |  ```\n",
      " |  \n",
      " |  Profiling:\n",
      " |  \n",
      " |  ```python\n",
      " |  # Profile a single batch, e.g. the 5th batch.\n",
      " |  tensorboard_callback = tf.keras.callbacks.TensorBoard(\n",
      " |      log_dir='./logs', profile_batch=5)\n",
      " |  model.fit(x_train, y_train, epochs=2, callbacks=[tensorboard_callback])\n",
      " |  \n",
      " |  # Profile a range of batches, e.g. from 10 to 20.\n",
      " |  tensorboard_callback = tf.keras.callbacks.TensorBoard(\n",
      " |      log_dir='./logs', profile_batch=(10,20))\n",
      " |  model.fit(x_train, y_train, epochs=2, callbacks=[tensorboard_callback])\n",
      " |  ```\n",
      " |  \n",
      " |  Method resolution order:\n",
      " |      TensorBoard\n",
      " |      Callback\n",
      " |      keras.utils.version_utils.TensorBoardVersionSelector\n",
      " |      builtins.object\n",
      " |  \n",
      " |  Methods defined here:\n",
      " |  \n",
      " |  __init__(self, log_dir='logs', histogram_freq=0, write_graph=True, write_images=False, write_steps_per_second=False, update_freq='epoch', profile_batch=0, embeddings_freq=0, embeddings_metadata=None, **kwargs)\n",
      " |      Initialize self.  See help(type(self)) for accurate signature.\n",
      " |  \n",
      " |  on_epoch_begin(self, epoch, logs=None)\n",
      " |      Called at the start of an epoch.\n",
      " |      \n",
      " |      Subclasses should override for any actions to run. This function should\n",
      " |      only be called during TRAIN mode.\n",
      " |      \n",
      " |      Args:\n",
      " |          epoch: Integer, index of epoch.\n",
      " |          logs: Dict. Currently no data is passed to this argument for this\n",
      " |            method but that may change in the future.\n",
      " |  \n",
      " |  on_epoch_end(self, epoch, logs=None)\n",
      " |      Runs metrics and histogram summaries at epoch end.\n",
      " |  \n",
      " |  on_test_begin(self, logs=None)\n",
      " |      Called at the beginning of evaluation or validation.\n",
      " |      \n",
      " |      Subclasses should override for any actions to run.\n",
      " |      \n",
      " |      Args:\n",
      " |          logs: Dict. Currently no data is passed to this argument for this\n",
      " |            method but that may change in the future.\n",
      " |  \n",
      " |  on_test_end(self, logs=None)\n",
      " |      Called at the end of evaluation or validation.\n",
      " |      \n",
      " |      Subclasses should override for any actions to run.\n",
      " |      \n",
      " |      Args:\n",
      " |          logs: Dict. Currently the output of the last call to\n",
      " |            `on_test_batch_end()` is passed to this argument for this method\n",
      " |            but that may change in the future.\n",
      " |  \n",
      " |  on_train_batch_begin(self, batch, logs=None)\n",
      " |      Called at the beginning of a training batch in `fit` methods.\n",
      " |      \n",
      " |      Subclasses should override for any actions to run.\n",
      " |      \n",
      " |      Note that if the `steps_per_execution` argument to `compile` in\n",
      " |      `tf.keras.Model` is set to `N`, this method will only be called every\n",
      " |      `N` batches.\n",
      " |      \n",
      " |      Args:\n",
      " |          batch: Integer, index of batch within the current epoch.\n",
      " |          logs: Dict. Currently no data is passed to this argument for this\n",
      " |            method but that may change in the future.\n",
      " |  \n",
      " |  on_train_batch_end(self, batch, logs=None)\n",
      " |      Called at the end of a training batch in `fit` methods.\n",
      " |      \n",
      " |      Subclasses should override for any actions to run.\n",
      " |      \n",
      " |      Note that if the `steps_per_execution` argument to `compile` in\n",
      " |      `tf.keras.Model` is set to `N`, this method will only be called every\n",
      " |      `N` batches.\n",
      " |      \n",
      " |      Args:\n",
      " |          batch: Integer, index of batch within the current epoch.\n",
      " |          logs: Dict. Aggregated metric results up until this batch.\n",
      " |  \n",
      " |  on_train_begin(self, logs=None)\n",
      " |      Called at the beginning of training.\n",
      " |      \n",
      " |      Subclasses should override for any actions to run.\n",
      " |      \n",
      " |      Args:\n",
      " |          logs: Dict. Currently no data is passed to this argument for this\n",
      " |            method but that may change in the future.\n",
      " |  \n",
      " |  on_train_end(self, logs=None)\n",
      " |      Called at the end of training.\n",
      " |      \n",
      " |      Subclasses should override for any actions to run.\n",
      " |      \n",
      " |      Args:\n",
      " |          logs: Dict. Currently the output of the last call to\n",
      " |            `on_epoch_end()` is passed to this argument for this method but\n",
      " |            that may change in the future.\n",
      " |  \n",
      " |  set_model(self, model)\n",
      " |      Sets Keras model and writes graph if specified.\n",
      " |  \n",
      " |  ----------------------------------------------------------------------\n",
      " |  Methods inherited from Callback:\n",
      " |  \n",
      " |  on_batch_begin(self, batch, logs=None)\n",
      " |      A backwards compatibility alias for `on_train_batch_begin`.\n",
      " |  \n",
      " |  on_batch_end(self, batch, logs=None)\n",
      " |      A backwards compatibility alias for `on_train_batch_end`.\n",
      " |  \n",
      " |  on_predict_batch_begin(self, batch, logs=None)\n",
      " |      Called at the beginning of a batch in `predict` methods.\n",
      " |      \n",
      " |      Subclasses should override for any actions to run.\n",
      " |      \n",
      " |      Note that if the `steps_per_execution` argument to `compile` in\n",
      " |      `tf.keras.Model` is set to `N`, this method will only be called every\n",
      " |      `N` batches.\n",
      " |      \n",
      " |      Args:\n",
      " |          batch: Integer, index of batch within the current epoch.\n",
      " |          logs: Dict. Currently no data is passed to this argument for this\n",
      " |            method but that may change in the future.\n",
      " |  \n",
      " |  on_predict_batch_end(self, batch, logs=None)\n",
      " |      Called at the end of a batch in `predict` methods.\n",
      " |      \n",
      " |      Subclasses should override for any actions to run.\n",
      " |      \n",
      " |      Note that if the `steps_per_execution` argument to `compile` in\n",
      " |      `tf.keras.Model` is set to `N`, this method will only be called every\n",
      " |      `N` batches.\n",
      " |      \n",
      " |      Args:\n",
      " |          batch: Integer, index of batch within the current epoch.\n",
      " |          logs: Dict. Aggregated metric results up until this batch.\n",
      " |  \n",
      " |  on_predict_begin(self, logs=None)\n",
      " |      Called at the beginning of prediction.\n",
      " |      \n",
      " |      Subclasses should override for any actions to run.\n",
      " |      \n",
      " |      Args:\n",
      " |          logs: Dict. Currently no data is passed to this argument for this\n",
      " |            method but that may change in the future.\n",
      " |  \n",
      " |  on_predict_end(self, logs=None)\n",
      " |      Called at the end of prediction.\n",
      " |      \n",
      " |      Subclasses should override for any actions to run.\n",
      " |      \n",
      " |      Args:\n",
      " |          logs: Dict. Currently no data is passed to this argument for this\n",
      " |            method but that may change in the future.\n",
      " |  \n",
      " |  on_test_batch_begin(self, batch, logs=None)\n",
      " |      Called at the beginning of a batch in `evaluate` methods.\n",
      " |      \n",
      " |      Also called at the beginning of a validation batch in the `fit`\n",
      " |      methods, if validation data is provided.\n",
      " |      \n",
      " |      Subclasses should override for any actions to run.\n",
      " |      \n",
      " |      Note that if the `steps_per_execution` argument to `compile` in\n",
      " |      `tf.keras.Model` is set to `N`, this method will only be called every\n",
      " |      `N` batches.\n",
      " |      \n",
      " |      Args:\n",
      " |          batch: Integer, index of batch within the current epoch.\n",
      " |          logs: Dict. Currently no data is passed to this argument for this\n",
      " |            method but that may change in the future.\n",
      " |  \n",
      " |  on_test_batch_end(self, batch, logs=None)\n",
      " |      Called at the end of a batch in `evaluate` methods.\n",
      " |      \n",
      " |      Also called at the end of a validation batch in the `fit`\n",
      " |      methods, if validation data is provided.\n",
      " |      \n",
      " |      Subclasses should override for any actions to run.\n",
      " |      \n",
      " |      Note that if the `steps_per_execution` argument to `compile` in\n",
      " |      `tf.keras.Model` is set to `N`, this method will only be called every\n",
      " |      `N` batches.\n",
      " |      \n",
      " |      Args:\n",
      " |          batch: Integer, index of batch within the current epoch.\n",
      " |          logs: Dict. Aggregated metric results up until this batch.\n",
      " |  \n",
      " |  set_params(self, params)\n",
      " |  \n",
      " |  ----------------------------------------------------------------------\n",
      " |  Data descriptors inherited from Callback:\n",
      " |  \n",
      " |  __dict__\n",
      " |      dictionary for instance variables (if defined)\n",
      " |  \n",
      " |  __weakref__\n",
      " |      list of weak references to the object (if defined)\n",
      " |  \n",
      " |  ----------------------------------------------------------------------\n",
      " |  Static methods inherited from keras.utils.version_utils.TensorBoardVersionSelector:\n",
      " |  \n",
      " |  __new__(cls, *args, **kwargs)\n",
      " |      Create and return a new object.  See help(type) for accurate signature.\n",
      "\n"
     ]
    }
   ],
   "source": [
    "help(keras.callbacks.TensorBoard)"
   ]
  },
  {
   "cell_type": "code",
   "execution_count": 120,
   "id": "30dd7c2a",
   "metadata": {},
   "outputs": [
    {
     "name": "stdout",
     "output_type": "stream",
     "text": [
      "313/313 [==============================] - 1s 2ms/step - loss: 0.0738 - accuracy: 0.9807\n"
     ]
    },
    {
     "data": {
      "text/plain": [
       "[0.07376286387443542, 0.9807000160217285]"
      ]
     },
     "execution_count": 120,
     "metadata": {},
     "output_type": "execute_result"
    }
   ],
   "source": [
    "model.evaluate(test_images,test_labels)"
   ]
  },
  {
   "cell_type": "code",
   "execution_count": 121,
   "id": "f0976635",
   "metadata": {},
   "outputs": [
    {
     "data": {
      "text/html": [
       "\n",
       "      <iframe id=\"tensorboard-frame-6a47916adc9c5d57\" width=\"100%\" height=\"800\" frameborder=\"0\">\n",
       "      </iframe>\n",
       "      <script>\n",
       "        (function() {\n",
       "          const frame = document.getElementById(\"tensorboard-frame-6a47916adc9c5d57\");\n",
       "          const url = new URL(\"/\", window.location);\n",
       "          const port = 6006;\n",
       "          if (port) {\n",
       "            url.port = port;\n",
       "          }\n",
       "          frame.src = url;\n",
       "        })();\n",
       "      </script>\n",
       "    "
      ],
      "text/plain": [
       "<IPython.core.display.HTML object>"
      ]
     },
     "metadata": {},
     "output_type": "display_data"
    }
   ],
   "source": [
    "%load_ext tensorboard\n",
    "%tensorboard --logdir ./tb_logs"
   ]
  },
  {
   "cell_type": "markdown",
   "id": "6aab2fc2",
   "metadata": {},
   "source": [
    "#### 사용자 정의훈련, 평가 루프"
   ]
  },
  {
   "cell_type": "code",
   "execution_count": 129,
   "id": "da288a8c",
   "metadata": {},
   "outputs": [
    {
     "data": {
      "text/plain": [
       "<tf.Tensor: shape=(), dtype=float32, numpy=1.0>"
      ]
     },
     "execution_count": 129,
     "metadata": {},
     "output_type": "execute_result"
    }
   ],
   "source": [
    "metric = keras.metrics.SparseCategoricalAccuracy()\n",
    "targets = [0, 1, 2]\n",
    "predictions = [[1,0,0],[0,1,0],[0,0,1]]\n",
    "metric.update_state(targets, predictions)\n",
    "current_result = metric.result()\n",
    "current_result"
   ]
  },
  {
   "cell_type": "code",
   "execution_count": 132,
   "id": "266e2f7a",
   "metadata": {},
   "outputs": [
    {
     "data": {
      "text/plain": [
       "<tf.Tensor: shape=(), dtype=float32, numpy=2.0>"
      ]
     },
     "execution_count": 132,
     "metadata": {},
     "output_type": "execute_result"
    }
   ],
   "source": [
    "values = [0,1,2,3,4]\n",
    "mean_tracker = keras.metrics.Mean()\n",
    "mean_tracker.update_state(values)\n",
    "mean_tracker.result()"
   ]
  },
  {
   "cell_type": "markdown",
   "id": "4e968c1f",
   "metadata": {},
   "source": [
    "#### 훈련평가"
   ]
  },
  {
   "cell_type": "code",
   "execution_count": 134,
   "id": "da4f11f1",
   "metadata": {},
   "outputs": [],
   "source": [
    "model = get_mnist_model()                               # 모델생성\n",
    "loss_fn = keras.losses.SparseCategoricalCrossentropy()  # 손실 함수\n",
    "optimizer = keras.optimizers.Adam()                    # 최적화 알고리즘\n",
    "metrics = [keras.metrics.SparseCategoricalAccuracy()]  # 평가지표\n",
    "loss_tracking_metric = keras.metrics.Mean()   # 손실 추적 함수"
   ]
  },
  {
   "cell_type": "code",
   "execution_count": 138,
   "id": "cf4fc4f3",
   "metadata": {},
   "outputs": [],
   "source": [
    "def train_step(inputs, targets):\n",
    "    with tf.GradientTape() as tape:\n",
    "        predictions = model(inputs,training=True)\n",
    "        loss = loss_fn(targets,predictions)\n",
    "    gradients = tape.gradient(loss,model.trainable_weights)\n",
    "    optimizer.apply_gradients(zip(gradients,model.trainable_weights))\n",
    "    \n",
    "    logs = {}\n",
    "    for metric in metrics:\n",
    "        metric.update_state(targets,predictions)\n",
    "        logs[metric.name] = metric.result()\n",
    "    loss_tracking_metric.update_state(loss)\n",
    "    logs['loss'] = loss_tracking_metric.result()\n",
    "    return logs"
   ]
  },
  {
   "cell_type": "code",
   "execution_count": 137,
   "id": "d4deddca",
   "metadata": {},
   "outputs": [
    {
     "name": "stdout",
     "output_type": "stream",
     "text": [
      "Help on package keras.api._v2.keras.models in keras.api._v2.keras:\n",
      "\n",
      "NAME\n",
      "    keras.api._v2.keras.models - Keras models API.\n",
      "\n",
      "PACKAGE CONTENTS\n",
      "    experimental (package)\n",
      "\n",
      "FILE\n",
      "    c:\\users\\user\\miniconda3\\envs\\ml\\lib\\site-packages\\keras\\api\\_v2\\keras\\models\\__init__.py\n",
      "\n",
      "\n"
     ]
    }
   ],
   "source": []
  },
  {
   "cell_type": "code",
   "execution_count": null,
   "id": "e8c4fab1",
   "metadata": {},
   "outputs": [],
   "source": []
  },
  {
   "cell_type": "code",
   "execution_count": null,
   "id": "7ae8cf55",
   "metadata": {},
   "outputs": [],
   "source": []
  },
  {
   "cell_type": "code",
   "execution_count": null,
   "id": "1bef3413",
   "metadata": {},
   "outputs": [],
   "source": []
  }
 ],
 "metadata": {
  "kernelspec": {
   "display_name": "Python 3 (ipykernel)",
   "language": "python",
   "name": "python3"
  },
  "language_info": {
   "codemirror_mode": {
    "name": "ipython",
    "version": 3
   },
   "file_extension": ".py",
   "mimetype": "text/x-python",
   "name": "python",
   "nbconvert_exporter": "python",
   "pygments_lexer": "ipython3",
   "version": "3.9.12"
  }
 },
 "nbformat": 4,
 "nbformat_minor": 5
}
