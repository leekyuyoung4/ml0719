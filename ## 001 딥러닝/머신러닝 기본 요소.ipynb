{
 "cells": [
  {
   "cell_type": "markdown",
   "id": "4ac53964",
   "metadata": {},
   "source": [
    "####  과적합\n",
    "####  노이즈\n",
    "####  특성과 상관관계"
   ]
  },
  {
   "cell_type": "code",
   "execution_count": 3,
   "id": "f347d23a",
   "metadata": {},
   "outputs": [],
   "source": [
    "import tensorflow as tf\n",
    "import numpy as np"
   ]
  },
  {
   "cell_type": "code",
   "execution_count": 9,
   "id": "6416bca1",
   "metadata": {},
   "outputs": [],
   "source": [
    "(x_train,y_train),(x_test,y_test) =  tf.keras.datasets.mnist.load_data()"
   ]
  },
  {
   "cell_type": "code",
   "execution_count": 10,
   "id": "a53b2fe8",
   "metadata": {},
   "outputs": [],
   "source": [
    "# 스케일링\n",
    "x_train = x_train.astype(np.float32) / 255.0\n",
    "x_test = x_test.astype(np.float32) / 255.0"
   ]
  },
  {
   "cell_type": "code",
   "execution_count": 13,
   "id": "39c33ec1",
   "metadata": {},
   "outputs": [
    {
     "data": {
      "text/plain": [
       "((60000, 784), (10000, 784))"
      ]
     },
     "execution_count": 13,
     "metadata": {},
     "output_type": "execute_result"
    }
   ],
   "source": [
    "# 차수변경\n",
    "x_train = x_train.reshape(x_train.shape[0],-1)\n",
    "x_test = x_test.reshape(x_test.shape[0],-1)\n",
    "x_train.shape, x_test.shape"
   ]
  },
  {
   "cell_type": "code",
   "execution_count": 28,
   "id": "bb220f0a",
   "metadata": {},
   "outputs": [],
   "source": [
    "# 잡음섞기\n",
    "x_train_with_noise_channels =  np.concatenate([x_train, np.random.random( x_train.shape )],axis=1)\n",
    "# 0픽셀을 추가\n",
    "x_train_with_zero_channels =  np.concatenate([x_train, np.zeros( x_train.shape )],axis=1)"
   ]
  },
  {
   "cell_type": "code",
   "execution_count": 42,
   "id": "02fcb7b8",
   "metadata": {},
   "outputs": [
    {
     "data": {
      "text/plain": [
       "(60000, 1568)"
      ]
     },
     "execution_count": 42,
     "metadata": {},
     "output_type": "execute_result"
    }
   ],
   "source": [
    "x_train_with_noise_channels.shape"
   ]
  },
  {
   "cell_type": "code",
   "execution_count": 29,
   "id": "f368d7e0",
   "metadata": {},
   "outputs": [],
   "source": [
    "# 훈련"
   ]
  },
  {
   "cell_type": "code",
   "execution_count": 43,
   "id": "1d11ea81",
   "metadata": {},
   "outputs": [],
   "source": [
    "import tensorflow as tf\n",
    "from tensorflow.keras import layers"
   ]
  },
  {
   "cell_type": "code",
   "execution_count": 47,
   "id": "7b2a05a6",
   "metadata": {},
   "outputs": [],
   "source": [
    "def build_model():\n",
    "    model = tf.keras.Sequential([\n",
    "        layers.Dense(512,activation='relu'),#,input_shape=(x_train_with_noise_channels.shape[1],)),\n",
    "        layers.Dense(10,activation='softmax')\n",
    "    ])\n",
    "    model.compile(optimizer='adam', loss =tf.keras.losses.sparse_categorical_crossentropy,\n",
    "                 metrics=['accuracy'])\n",
    "    return model"
   ]
  },
  {
   "cell_type": "code",
   "execution_count": 48,
   "id": "0362aaf7",
   "metadata": {},
   "outputs": [
    {
     "name": "stdout",
     "output_type": "stream",
     "text": [
      "Epoch 1/10\n",
      "375/375 [==============================] - 4s 10ms/step - loss: 0.4485 - accuracy: 0.8648 - val_loss: 0.2674 - val_accuracy: 0.9235\n",
      "Epoch 2/10\n",
      "375/375 [==============================] - 4s 10ms/step - loss: 0.2343 - accuracy: 0.9312 - val_loss: 0.2003 - val_accuracy: 0.9399\n",
      "Epoch 3/10\n",
      "375/375 [==============================] - 4s 11ms/step - loss: 0.1550 - accuracy: 0.9539 - val_loss: 0.1641 - val_accuracy: 0.9521\n",
      "Epoch 4/10\n",
      "375/375 [==============================] - 3s 9ms/step - loss: 0.1110 - accuracy: 0.9664 - val_loss: 0.1622 - val_accuracy: 0.9525\n",
      "Epoch 5/10\n",
      "375/375 [==============================] - 3s 9ms/step - loss: 0.0815 - accuracy: 0.9767 - val_loss: 0.1314 - val_accuracy: 0.9599\n",
      "Epoch 6/10\n",
      "375/375 [==============================] - 4s 10ms/step - loss: 0.0600 - accuracy: 0.9830 - val_loss: 0.1344 - val_accuracy: 0.9617\n",
      "Epoch 7/10\n",
      "375/375 [==============================] - 3s 9ms/step - loss: 0.0409 - accuracy: 0.9887 - val_loss: 0.1291 - val_accuracy: 0.9619\n",
      "Epoch 8/10\n",
      "375/375 [==============================] - 3s 9ms/step - loss: 0.0297 - accuracy: 0.9921 - val_loss: 0.1447 - val_accuracy: 0.9596\n",
      "Epoch 9/10\n",
      "375/375 [==============================] - 3s 9ms/step - loss: 0.0215 - accuracy: 0.9948 - val_loss: 0.1324 - val_accuracy: 0.9621\n",
      "Epoch 10/10\n",
      "375/375 [==============================] - 4s 10ms/step - loss: 0.0153 - accuracy: 0.9969 - val_loss: 0.1285 - val_accuracy: 0.9657\n"
     ]
    }
   ],
   "source": [
    "model = build_model()\n",
    "history_noise = model.fit(\n",
    "    x_train_with_noise_channels,y_train,epochs=10,batch_size=128,validation_split=0.2        \n",
    ")"
   ]
  },
  {
   "cell_type": "code",
   "execution_count": 49,
   "id": "19aa2e23",
   "metadata": {},
   "outputs": [
    {
     "name": "stdout",
     "output_type": "stream",
     "text": [
      "Epoch 1/10\n",
      "375/375 [==============================] - 5s 11ms/step - loss: 0.2981 - accuracy: 0.9163 - val_loss: 0.1500 - val_accuracy: 0.9592\n",
      "Epoch 2/10\n",
      "375/375 [==============================] - 4s 10ms/step - loss: 0.1230 - accuracy: 0.9643 - val_loss: 0.1112 - val_accuracy: 0.9650\n",
      "Epoch 3/10\n",
      "375/375 [==============================] - 3s 9ms/step - loss: 0.0808 - accuracy: 0.9766 - val_loss: 0.0993 - val_accuracy: 0.9703\n",
      "Epoch 4/10\n",
      "375/375 [==============================] - 3s 9ms/step - loss: 0.0561 - accuracy: 0.9839 - val_loss: 0.0818 - val_accuracy: 0.9747\n",
      "Epoch 5/10\n",
      "375/375 [==============================] - 4s 10ms/step - loss: 0.0406 - accuracy: 0.9887 - val_loss: 0.0774 - val_accuracy: 0.9763\n",
      "Epoch 6/10\n",
      "375/375 [==============================] - 4s 9ms/step - loss: 0.0322 - accuracy: 0.9912 - val_loss: 0.0743 - val_accuracy: 0.9778\n",
      "Epoch 7/10\n",
      "375/375 [==============================] - 3s 9ms/step - loss: 0.0229 - accuracy: 0.9942 - val_loss: 0.0714 - val_accuracy: 0.9789\n",
      "Epoch 8/10\n",
      "375/375 [==============================] - 4s 10ms/step - loss: 0.0170 - accuracy: 0.9956 - val_loss: 0.0756 - val_accuracy: 0.9783\n",
      "Epoch 9/10\n",
      "375/375 [==============================] - 4s 10ms/step - loss: 0.0131 - accuracy: 0.9969 - val_loss: 0.0772 - val_accuracy: 0.9773\n",
      "Epoch 10/10\n",
      "375/375 [==============================] - 4s 9ms/step - loss: 0.0101 - accuracy: 0.9982 - val_loss: 0.0733 - val_accuracy: 0.9784\n"
     ]
    }
   ],
   "source": [
    "model = build_model()\n",
    "history_zeros = model.fit(\n",
    "    x_train_with_zero_channels,y_train,epochs=10,batch_size=128,validation_split=0.2        \n",
    ")"
   ]
  },
  {
   "cell_type": "code",
   "execution_count": 56,
   "id": "a6185b3e",
   "metadata": {},
   "outputs": [
    {
     "data": {
      "text/plain": [
       "array([5, 0, 4, ..., 5, 6, 8], dtype=uint8)"
      ]
     },
     "execution_count": 56,
     "metadata": {},
     "output_type": "execute_result"
    }
   ],
   "source": [
    "model = build_model()\n",
    "# 섞어서\n",
    "history = model.fit(\n",
    "    x_train,y_train,epochs=10,batch_size=128,validation_split=0.2        \n",
    ")"
   ]
  },
  {
   "cell_type": "code",
   "execution_count": 50,
   "id": "cc712b62",
   "metadata": {},
   "outputs": [],
   "source": [
    "# 검증의 정확도 비교\n",
    "import matplotlib.pyplot as plt"
   ]
  },
  {
   "cell_type": "code",
   "execution_count": 54,
   "id": "0fc50ba1",
   "metadata": {},
   "outputs": [
    {
     "data": {
      "image/png": "[encoded data removed]",
      "text/plain": [
       "<Figure size 432x288 with 1 Axes>"
      ]
     },
     "metadata": {
      "needs_background": "light"
     },
     "output_type": "display_data"
    }
   ],
   "source": [
    "val_acc_noise = history_noise.history['val_accuracy']\n",
    "val_acc_zeros = history_zeros.history['val_accuracy']\n",
    "val_acc = history.history['val_accuracy']\n",
    "epochs =range(1,11)\n",
    "plt.plot(epochs,val_acc_noise,'b-',label='noise_accuracy')\n",
    "plt.plot(epochs,val_acc_zeros,'b--',label='zero_accuracy')\n",
    "plt.plot(epochs,val_acc,label='accuracy')\n",
    "plt.legend()\n",
    "plt.show()"
   ]
  },
  {
   "cell_type": "code",
   "execution_count": null,
   "id": "acb5d2e1",
   "metadata": {},
   "outputs": [],
   "source": []
  }
 ],
 "metadata": {
  "kernelspec": {
   "display_name": "Python 3 (ipykernel)",
   "language": "python",
   "name": "python3"
  },
  "language_info": {
   "codemirror_mode": {
    "name": "ipython",
    "version": 3
   },
   "file_extension": ".py",
   "mimetype": "text/x-python",
   "name": "python",
   "nbconvert_exporter": "python",
   "pygments_lexer": "ipython3",
   "version": "3.9.12"
  }
 },
 "nbformat": 4,
 "nbformat_minor": 5
}
