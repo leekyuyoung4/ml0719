{
  "nbformat": 4,
  "nbformat_minor": 0,
  "metadata": {
    "colab": {
      "provenance": [],
      "collapsed_sections": []
    },
    "kernelspec": {
      "name": "python3",
      "display_name": "Python 3"
    },
    "language_info": {
      "name": "python"
    }
  },
  "cells": [
    {
      "cell_type": "code",
      "execution_count": 10,
      "metadata": {
        "id": "Cykvg7sIUDL3"
      },
      "outputs": [],
      "source": [
        "# 상수와 텐서\n",
        "import tensorflow as tf\n",
        "import numpy as np"
      ]
    },
    {
      "cell_type": "code",
      "source": [
        "x = tf.ones(shape=(2,1))\n",
        "x"
      ],
      "metadata": {
        "colab": {
          "base_uri": "https://localhost:8080/"
        },
        "id": "EW9huh32UgN3",
        "outputId": "e1b973de-4a14-4bfd-8940-e577432f2bc4"
      },
      "execution_count": 4,
      "outputs": [
        {
          "output_type": "execute_result",
          "data": {
            "text/plain": [
              "<tf.Tensor: shape=(2, 1), dtype=float32, numpy=\n",
              "array([[1.],\n",
              "       [1.]], dtype=float32)>"
            ]
          },
          "metadata": {},
          "execution_count": 4
        }
      ]
    },
    {
      "cell_type": "code",
      "source": [
        "x = tf.zeros(shape=(2,1))\n",
        "x"
      ],
      "metadata": {
        "colab": {
          "base_uri": "https://localhost:8080/"
        },
        "id": "HHWSqeWNUmx2",
        "outputId": "cbb284fb-c791-4fb9-a95e-d2242d9b9d65"
      },
      "execution_count": 5,
      "outputs": [
        {
          "output_type": "execute_result",
          "data": {
            "text/plain": [
              "<tf.Tensor: shape=(2, 1), dtype=float32, numpy=\n",
              "array([[0.],\n",
              "       [0.]], dtype=float32)>"
            ]
          },
          "metadata": {},
          "execution_count": 5
        }
      ]
    },
    {
      "cell_type": "code",
      "source": [
        "# 랜덤 텐서\n",
        "x = tf.random.normal(shape=(3,1),mean=0,stddev=1)\n",
        "x"
      ],
      "metadata": {
        "colab": {
          "base_uri": "https://localhost:8080/"
        },
        "id": "QrqzmPSRU1JV",
        "outputId": "027a0949-73a9-4aff-886e-801bac7fef15"
      },
      "execution_count": 11,
      "outputs": [
        {
          "output_type": "execute_result",
          "data": {
            "text/plain": [
              "0.073018946"
            ]
          },
          "metadata": {},
          "execution_count": 11
        }
      ]
    },
    {
      "cell_type": "code",
      "source": [
        "x = tf.random.uniform(shape=(3,1),minval=0,maxval=1)\n",
        "x"
      ],
      "metadata": {
        "colab": {
          "base_uri": "https://localhost:8080/"
        },
        "id": "KEM_jkS5U2cY",
        "outputId": "492b9d52-40ef-4ace-c9b8-beabe6d7de54"
      },
      "execution_count": 13,
      "outputs": [
        {
          "output_type": "execute_result",
          "data": {
            "text/plain": [
              "<tf.Tensor: shape=(3, 1), dtype=float32, numpy=\n",
              "array([[0.8424088],\n",
              "       [0.968266 ],\n",
              "       [0.3824594]], dtype=float32)>"
            ]
          },
          "metadata": {},
          "execution_count": 13
        }
      ]
    },
    {
      "cell_type": "code",
      "source": [
        "#넘파이에 값 할당\n",
        "x = np.ones(shape=(2,2))\n",
        "x[0,0] = 0\n",
        "x"
      ],
      "metadata": {
        "colab": {
          "base_uri": "https://localhost:8080/"
        },
        "id": "-c27OQYSU2e9",
        "outputId": "9b77b134-c29b-4add-e2fa-229f222bb519"
      },
      "execution_count": 14,
      "outputs": [
        {
          "output_type": "execute_result",
          "data": {
            "text/plain": [
              "array([[0., 1.],\n",
              "       [1., 1.]])"
            ]
          },
          "metadata": {},
          "execution_count": 14
        }
      ]
    },
    {
      "cell_type": "code",
      "source": [
        "# 텐서플로 변수 만들기\n",
        "v = tf.Variable(initial_value=tf.random.normal(shape=(3,1)))\n",
        "v"
      ],
      "metadata": {
        "colab": {
          "base_uri": "https://localhost:8080/"
        },
        "id": "VLFrTSUTU2h3",
        "outputId": "c878392f-5374-4e5e-eb26-d1b16239c38d"
      },
      "execution_count": 15,
      "outputs": [
        {
          "output_type": "execute_result",
          "data": {
            "text/plain": [
              "<tf.Variable 'Variable:0' shape=(3, 1) dtype=float32, numpy=\n",
              "array([[-1.298221  ],\n",
              "       [-0.9620788 ],\n",
              "       [ 0.36374936]], dtype=float32)>"
            ]
          },
          "metadata": {},
          "execution_count": 15
        }
      ]
    },
    {
      "cell_type": "code",
      "source": [
        "v.assign(tf.ones((3,1)))\n",
        "v"
      ],
      "metadata": {
        "colab": {
          "base_uri": "https://localhost:8080/"
        },
        "id": "4iPT8frsU2kW",
        "outputId": "8c04666b-0331-4f30-dde9-ada3c2d4d31e"
      },
      "execution_count": 16,
      "outputs": [
        {
          "output_type": "execute_result",
          "data": {
            "text/plain": [
              "<tf.Variable 'Variable:0' shape=(3, 1) dtype=float32, numpy=\n",
              "array([[1.],\n",
              "       [1.],\n",
              "       [1.]], dtype=float32)>"
            ]
          },
          "metadata": {},
          "execution_count": 16
        }
      ]
    },
    {
      "cell_type": "code",
      "source": [
        "# 변수 일부에 값 할당\n",
        "v[0,0].assign(3)\n",
        "v"
      ],
      "metadata": {
        "colab": {
          "base_uri": "https://localhost:8080/"
        },
        "id": "bWbx3QrrU2m2",
        "outputId": "b6fe29db-2071-418f-c4d3-1c8abf4d7ac9"
      },
      "execution_count": 17,
      "outputs": [
        {
          "output_type": "execute_result",
          "data": {
            "text/plain": [
              "<tf.Variable 'Variable:0' shape=(3, 1) dtype=float32, numpy=\n",
              "array([[3.],\n",
              "       [1.],\n",
              "       [1.]], dtype=float32)>"
            ]
          },
          "metadata": {},
          "execution_count": 17
        }
      ]
    },
    {
      "cell_type": "code",
      "source": [
        "v.assign_add(tf.ones((3,1)))\n",
        "v"
      ],
      "metadata": {
        "colab": {
          "base_uri": "https://localhost:8080/"
        },
        "id": "iykhk0UtU2ov",
        "outputId": "19b0d95b-7acb-4d12-e1f7-bd7a63846e1e"
      },
      "execution_count": 19,
      "outputs": [
        {
          "output_type": "execute_result",
          "data": {
            "text/plain": [
              "<tf.Variable 'Variable:0' shape=(3, 1) dtype=float32, numpy=\n",
              "array([[4.],\n",
              "       [2.],\n",
              "       [2.]], dtype=float32)>"
            ]
          },
          "metadata": {},
          "execution_count": 19
        }
      ]
    },
    {
      "cell_type": "code",
      "source": [
        "# 텐서플로 기본적인 수학연산\n",
        "a = tf.ones((2,2))\n",
        "print(a)\n",
        "b = tf.square(a)\n",
        "print(b)\n",
        "c = tf.sqrt(b)\n",
        "print(c)\n",
        "d = b+c\n",
        "print(d)\n",
        "e = tf.matmul(a,d) \n",
        "print(e)\n",
        "e *= d\n",
        "print(e)"
      ],
      "metadata": {
        "colab": {
          "base_uri": "https://localhost:8080/"
        },
        "id": "dQ0kB496WmTA",
        "outputId": "40821217-21fb-4e27-e265-0d8d39a3a82a"
      },
      "execution_count": 26,
      "outputs": [
        {
          "output_type": "stream",
          "name": "stdout",
          "text": [
            "tf.Tensor(\n",
            "[[1. 1.]\n",
            " [1. 1.]], shape=(2, 2), dtype=float32)\n",
            "tf.Tensor(\n",
            "[[1. 1.]\n",
            " [1. 1.]], shape=(2, 2), dtype=float32)\n",
            "tf.Tensor(\n",
            "[[1. 1.]\n",
            " [1. 1.]], shape=(2, 2), dtype=float32)\n",
            "tf.Tensor(\n",
            "[[2. 2.]\n",
            " [2. 2.]], shape=(2, 2), dtype=float32)\n",
            "tf.Tensor(\n",
            "[[4. 4.]\n",
            " [4. 4.]], shape=(2, 2), dtype=float32)\n",
            "tf.Tensor(\n",
            "[[8. 8.]\n",
            " [8. 8.]], shape=(2, 2), dtype=float32)\n"
          ]
        }
      ]
    },
    {
      "cell_type": "code",
      "source": [
        "from numpy.lib.function_base import gradient\n",
        "# gradientTape 사용\n",
        "input_var = tf.Variable(initial_value=3.)  \n",
        "with tf.GradientTape() as tape:\n",
        "  result = tf.square(input_var)\n",
        "gradient = tape.gradient(result,input_var)  "
      ],
      "metadata": {
        "id": "JyYtra_GXVZ8"
      },
      "execution_count": 39,
      "outputs": []
    },
    {
      "cell_type": "code",
      "source": [
        "input_const = tf.constant(3.)\n",
        "with tf.GradientTape() as tape:\n",
        "  result = tf.square(input_var)\n",
        "gradient = tape.gradient(result,input_var)  "
      ],
      "metadata": {
        "id": "uQgDnWEGbhqU"
      },
      "execution_count": 40,
      "outputs": []
    },
    {
      "cell_type": "code",
      "source": [
        "# 중첩\n",
        "time = tf.Variable(0.)\n",
        "with tf.GradientTape() as outer_tape:\n",
        "  with tf.GradientTape() as inner_tape:\n",
        "    position = 4.9 * time**2\n",
        "  speed = inner_tape.gradient(position,time) \n",
        "acceleration = outer_tape.gradient(speed,time)  "
      ],
      "metadata": {
        "id": "Rm6OUt6ebjTs"
      },
      "execution_count": 44,
      "outputs": []
    },
    {
      "cell_type": "code",
      "source": [
        "# 텐서플로 선형 분류기"
      ],
      "metadata": {
        "id": "Vic00CgVcK4z"
      },
      "execution_count": 45,
      "outputs": []
    },
    {
      "cell_type": "code",
      "source": [
        "num_samples_per_class = 1000\n",
        "negative_samples = np.random.multivariate_normal(\n",
        "    mean = [0,3],\n",
        "    cov = [[1,0.5],[0.5,1]],\n",
        "    size = num_samples_per_class\n",
        ")\n",
        "positive_samples = np.random.multivariate_normal(\n",
        "    mean = [3,0],\n",
        "    cov = [[1,0.5],[0.5,1]],\n",
        "    size = num_samples_per_class\n",
        ")"
      ],
      "metadata": {
        "id": "yc59wSyFcmJC"
      },
      "execution_count": 46,
      "outputs": []
    },
    {
      "cell_type": "code",
      "source": [
        "negative_samples.shape"
      ],
      "metadata": {
        "colab": {
          "base_uri": "https://localhost:8080/"
        },
        "id": "Dju9kq8FetcB",
        "outputId": "81e70f0b-7ab2-4ca0-9a53-762582809e82"
      },
      "execution_count": 48,
      "outputs": [
        {
          "output_type": "execute_result",
          "data": {
            "text/plain": [
              "(1000, 2)"
            ]
          },
          "metadata": {},
          "execution_count": 48
        }
      ]
    },
    {
      "cell_type": "code",
      "source": [
        "# 한 배열에 쌓기\n",
        "inputs = np.vstack((negative_samples,positive_samples)).astype(np.float32)"
      ],
      "metadata": {
        "id": "IEE2hIgzevyi"
      },
      "execution_count": 49,
      "outputs": []
    },
    {
      "cell_type": "code",
      "source": [
        "inputs.shape"
      ],
      "metadata": {
        "colab": {
          "base_uri": "https://localhost:8080/"
        },
        "id": "DIPssffvfG3B",
        "outputId": "fa19befb-2cfa-4b4e-ae1e-538b779890a7"
      },
      "execution_count": 51,
      "outputs": [
        {
          "output_type": "execute_result",
          "data": {
            "text/plain": [
              "(2000, 2)"
            ]
          },
          "metadata": {},
          "execution_count": 51
        }
      ]
    },
    {
      "cell_type": "code",
      "source": [
        "# 0 1로 되어 있는 타깃을 구성\n",
        "targets =  np.vstack(\n",
        "    (\n",
        "      np.zeros((1000,1),dtype = 'float32'),\n",
        "      np.ones((1000,1),dtype = 'float32')\n",
        "    )\n",
        "    \n",
        ")"
      ],
      "metadata": {
        "id": "a--hJ228fXkT"
      },
      "execution_count": 52,
      "outputs": []
    },
    {
      "cell_type": "code",
      "source": [
        "# 셈플 데이터 시각화\n",
        "import matplotlib.pylab as plt\n",
        "plt.scatter(inputs[:,0],inputs[:,1], c=targets[:,0])\n",
        "plt.show()"
      ],
      "metadata": {
        "colab": {
          "base_uri": "https://localhost:8080/",
          "height": 265
        },
        "id": "2RaNuDuifpWZ",
        "outputId": "b4fcf412-96ef-4db8-ce3c-597367aedf6e"
      },
      "execution_count": 58,
      "outputs": [
        {
          "output_type": "display_data",
          "data": {
            "text/plain": [
              "<Figure size 432x288 with 1 Axes>"
            ],
            "image/png": "[encoded data removed]"
          },
          "metadata": {
            "needs_background": "light"
          }
        }
      ]
    },
    {
      "cell_type": "code",
      "source": [
        "# 선형 분류기의 변수 \n",
        "input_dim = 2\n",
        "output_dim = 1\n",
        "W = tf.Variable(initial_value=tf.random.uniform(shape=(input_dim, output_dim)))\n",
        "b = tf.Variable(initial_value=tf.zeros(shape=(output_dim,)))"
      ],
      "metadata": {
        "id": "ecjCylWqfuOR"
      },
      "execution_count": 59,
      "outputs": []
    },
    {
      "cell_type": "code",
      "source": [
        "# 정방향 패스 함수\n",
        "def model(inputs):\n",
        "  return tf.matmul(inputs,W) + b"
      ],
      "metadata": {
        "id": "Jymeij7ggdaS"
      },
      "execution_count": 60,
      "outputs": []
    },
    {
      "cell_type": "code",
      "source": [
        "# 평균 제곱 오차 손실함수\n",
        "def squared_loss(target,predictions):\n",
        "  per_sample_losses = tf.square(target-predictions)\n",
        "  return tf.reduce_mean(per_sample_losses)"
      ],
      "metadata": {
        "id": "Jscuj4k9gddq"
      },
      "execution_count": 68,
      "outputs": []
    },
    {
      "cell_type": "code",
      "source": [
        "# 스텝 훈련 함수\n",
        "learning_rate = 0.1\n",
        "def training_step(inputs, targets):\n",
        "  with tf.GradientTape() as tape:\n",
        "    predictions = model(inputs)\n",
        "    loss = squared_loss(targets,predictions)\n",
        "  grad_loss_wrd_W, grad_loss_wrd_b = tape.gradient(loss, [W,b])\n",
        "  W.assign_sub(grad_loss_wrd_W*learning_rate)\n",
        "  b.assign_sub(grad_loss_wrd_b*learning_rate)\n",
        "  return loss"
      ],
      "metadata": {
        "id": "dwOVZrCFgdhx"
      },
      "execution_count": 69,
      "outputs": []
    },
    {
      "cell_type": "code",
      "source": [
        "for step in range(40):\n",
        "  loss = training_step(inputs, targets)\n",
        "  print(f\"{step}번째 스텝의 손실 : {loss:.4f}\")"
      ],
      "metadata": {
        "colab": {
          "base_uri": "https://localhost:8080/"
        },
        "id": "cvrUGHkgi0dj",
        "outputId": "0e33be33-b2f9-4b0d-b05c-f19eaff6e6b4"
      },
      "execution_count": 70,
      "outputs": [
        {
          "output_type": "stream",
          "name": "stdout",
          "text": [
            "0번째 스텝의 손실 : 0.0292\n",
            "1번째 스텝의 손실 : 0.0289\n",
            "2번째 스텝의 손실 : 0.0285\n",
            "3번째 스텝의 손실 : 0.0282\n",
            "4번째 스텝의 손실 : 0.0280\n",
            "5번째 스텝의 손실 : 0.0277\n",
            "6번째 스텝의 손실 : 0.0275\n",
            "7번째 스텝의 손실 : 0.0273\n",
            "8번째 스텝의 손실 : 0.0271\n",
            "9번째 스텝의 손실 : 0.0269\n",
            "10번째 스텝의 손실 : 0.0268\n",
            "11번째 스텝의 손실 : 0.0266\n",
            "12번째 스텝의 손실 : 0.0265\n",
            "13번째 스텝의 손실 : 0.0264\n",
            "14번째 스텝의 손실 : 0.0263\n",
            "15번째 스텝의 손실 : 0.0262\n",
            "16번째 스텝의 손실 : 0.0261\n",
            "17번째 스텝의 손실 : 0.0260\n",
            "18번째 스텝의 손실 : 0.0259\n",
            "19번째 스텝의 손실 : 0.0258\n",
            "20번째 스텝의 손실 : 0.0258\n",
            "21번째 스텝의 손실 : 0.0257\n",
            "22번째 스텝의 손실 : 0.0256\n",
            "23번째 스텝의 손실 : 0.0256\n",
            "24번째 스텝의 손실 : 0.0256\n",
            "25번째 스텝의 손실 : 0.0255\n",
            "26번째 스텝의 손실 : 0.0255\n",
            "27번째 스텝의 손실 : 0.0254\n",
            "28번째 스텝의 손실 : 0.0254\n",
            "29번째 스텝의 손실 : 0.0254\n",
            "30번째 스텝의 손실 : 0.0253\n",
            "31번째 스텝의 손실 : 0.0253\n",
            "32번째 스텝의 손실 : 0.0253\n",
            "33번째 스텝의 손실 : 0.0253\n",
            "34번째 스텝의 손실 : 0.0253\n",
            "35번째 스텝의 손실 : 0.0252\n",
            "36번째 스텝의 손실 : 0.0252\n",
            "37번째 스텝의 손실 : 0.0252\n",
            "38번째 스텝의 손실 : 0.0252\n",
            "39번째 스텝의 손실 : 0.0252\n"
          ]
        }
      ]
    },
    {
      "cell_type": "code",
      "source": [
        "predictions = model(inputs)\n",
        "plt.scatter(inputs[:,0],inputs[:,1], c=predictions[:,0] > 0.5)\n",
        "plt.show()"
      ],
      "metadata": {
        "colab": {
          "base_uri": "https://localhost:8080/",
          "height": 265
        },
        "id": "SwJbXhM5jSVR",
        "outputId": "d15775e2-9b61-4cb7-cea0-8c1b505c02b7"
      },
      "execution_count": 73,
      "outputs": [
        {
          "output_type": "display_data",
          "data": {
            "text/plain": [
              "<Figure size 432x288 with 1 Axes>"
            ],
            "image/png": "[encoded data removed]"
          },
          "metadata": {
            "needs_background": "light"
          }
        }
      ]
    },
    {
      "cell_type": "code",
      "source": [
        "start_end = [[-4.,-4.],[6.,6.]]\n",
        "line_data = model(start_end)\n",
        "\n",
        "predictions = model(inputs)\n",
        "plt.scatter(inputs[:,0],inputs[:,1], c=predictions[:,0] > 0.5)\n",
        "plt.plot(line_data[0],line_data[1],'-r')\n",
        "plt.show()\n",
        "print(line_data[0],line_data[1])"
      ],
      "metadata": {
        "colab": {
          "base_uri": "https://localhost:8080/",
          "height": 283
        },
        "id": "2DQ3wFCbkS5r",
        "outputId": "68284beb-cc5e-419c-8edf-8604315b6364"
      },
      "execution_count": 87,
      "outputs": [
        {
          "output_type": "display_data",
          "data": {
            "text/plain": [
              "<Figure size 432x288 with 1 Axes>"
            ],
            "image/png": "[encoded data removed]"
          },
          "metadata": {
            "needs_background": "light"
          }
        },
        {
          "output_type": "stream",
          "name": "stdout",
          "text": [
            "tf.Tensor([0.46544707], shape=(1,), dtype=float32) tf.Tensor([0.5079292], shape=(1,), dtype=float32)\n"
          ]
        }
      ]
    },
    {
      "cell_type": "code",
      "source": [
        "line_data"
      ],
      "metadata": {
        "colab": {
          "base_uri": "https://localhost:8080/"
        },
        "id": "aS6B2lgIk6Ww",
        "outputId": "3f996019-6205-4204-fcac-e4dd647096f8"
      },
      "execution_count": 84,
      "outputs": [
        {
          "output_type": "execute_result",
          "data": {
            "text/plain": [
              "<tf.Tensor: shape=(2, 1), dtype=float32, numpy=\n",
              "array([[0.46544707],\n",
              "       [0.5079292 ]], dtype=float32)>"
            ]
          },
          "metadata": {},
          "execution_count": 84
        }
      ]
    },
    {
      "cell_type": "code",
      "source": [],
      "metadata": {
        "id": "ptsRWG-tlpo4"
      },
      "execution_count": null,
      "outputs": []
    }
  ]
}