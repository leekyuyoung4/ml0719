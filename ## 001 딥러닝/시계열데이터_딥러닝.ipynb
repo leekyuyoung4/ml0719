{
  "nbformat": 4,
  "nbformat_minor": 0,
  "metadata": {
    "colab": {
      "provenance": [],
      "collapsed_sections": []
    },
    "kernelspec": {
      "name": "python3",
      "display_name": "Python 3"
    },
    "language_info": {
      "name": "python"
    },
    "accelerator": "GPU",
    "gpuClass": "standard"
  },
  "cells": [
    {
      "cell_type": "code",
      "execution_count": 4,
      "metadata": {
        "colab": {
          "base_uri": "https://localhost:8080/"
        },
        "id": "5E2amGJ7yg42",
        "outputId": "6643ab62-57f2-476d-9964-c72b3631cadb"
      },
      "outputs": [
        {
          "output_type": "stream",
          "name": "stdout",
          "text": [
            "--2022-11-01 10:45:49--  https://s3.amazonaws.com/keras-datasets/jena_climate_2009_2016.csv.zip\n",
            "Resolving s3.amazonaws.com (s3.amazonaws.com)... 52.216.49.32\n",
            "Connecting to s3.amazonaws.com (s3.amazonaws.com)|52.216.49.32|:443... connected.\n",
            "HTTP request sent, awaiting response... 200 OK\n",
            "Length: 13565642 (13M) [application/zip]\n",
            "Saving to: ‘jena_climate_2009_2016.csv.zip’\n",
            "\n",
            "jena_climate_2009_2 100%[===================>]  12.94M  13.7MB/s    in 0.9s    \n",
            "\n",
            "2022-11-01 10:45:51 (13.7 MB/s) - ‘jena_climate_2009_2016.csv.zip’ saved [13565642/13565642]\n",
            "\n",
            "Archive:  jena_climate_2009_2016.csv.zip\n",
            "  inflating: jena_climate_2009_2016.csv  \n",
            "  inflating: __MACOSX/._jena_climate_2009_2016.csv  \n"
          ]
        }
      ],
      "source": [
        "!wget https://s3.amazonaws.com/keras-datasets/jena_climate_2009_2016.csv.zip\n",
        "!unzip jena_climate_2009_2016.csv.zip"
      ]
    },
    {
      "cell_type": "code",
      "source": [
        "# 기온예측문제\n",
        "import pandas as pd\n",
        "df = pd.read_csv('/content/jena_climate_2009_2016.csv')\n",
        "df.head()\n",
        "# df.shape  (420451, 15)"
      ],
      "metadata": {
        "colab": {
          "base_uri": "https://localhost:8080/",
          "height": 392
        },
        "id": "dA-6H-ocyu27",
        "outputId": "59ca99b7-8bd3-48d7-c597-04cee3746cee"
      },
      "execution_count": 5,
      "outputs": [
        {
          "output_type": "execute_result",
          "data": {
            "text/plain": [
              "             Date Time  p (mbar)  T (degC)  Tpot (K)  Tdew (degC)  rh (%)  \\\n",
              "0  01.01.2009 00:10:00    996.52     -8.02    265.40        -8.90    93.3   \n",
              "1  01.01.2009 00:20:00    996.57     -8.41    265.01        -9.28    93.4   \n",
              "2  01.01.2009 00:30:00    996.53     -8.51    264.91        -9.31    93.9   \n",
              "3  01.01.2009 00:40:00    996.51     -8.31    265.12        -9.07    94.2   \n",
              "4  01.01.2009 00:50:00    996.51     -8.27    265.15        -9.04    94.1   \n",
              "\n",
              "   VPmax (mbar)  VPact (mbar)  VPdef (mbar)  sh (g/kg)  H2OC (mmol/mol)  \\\n",
              "0          3.33          3.11          0.22       1.94             3.12   \n",
              "1          3.23          3.02          0.21       1.89             3.03   \n",
              "2          3.21          3.01          0.20       1.88             3.02   \n",
              "3          3.26          3.07          0.19       1.92             3.08   \n",
              "4          3.27          3.08          0.19       1.92             3.09   \n",
              "\n",
              "   rho (g/m**3)  wv (m/s)  max. wv (m/s)  wd (deg)  \n",
              "0       1307.75      1.03           1.75     152.3  \n",
              "1       1309.80      0.72           1.50     136.1  \n",
              "2       1310.24      0.19           0.63     171.6  \n",
              "3       1309.19      0.34           0.50     198.0  \n",
              "4       1309.00      0.32           0.63     214.3  "
            ],
            "text/html": [
              "\n",
              "  <div id=\"df-624e174d-8464-43c4-aa25-e046834717b6\">\n",
              "    <div class=\"colab-df-container\">\n",
              "      <div>\n",
              "<style scoped>\n",
              "    .dataframe tbody tr th:only-of-type {\n",
              "        vertical-align: middle;\n",
              "    }\n",
              "\n",
              "    .dataframe tbody tr th {\n",
              "        vertical-align: top;\n",
              "    }\n",
              "\n",
              "    .dataframe thead th {\n",
              "        text-align: right;\n",
              "    }\n",
              "</style>\n",
              "<table border=\"1\" class=\"dataframe\">\n",
              "  <thead>\n",
              "    <tr style=\"text-align: right;\">\n",
              "      <th></th>\n",
              "      <th>Date Time</th>\n",
              "      <th>p (mbar)</th>\n",
              "      <th>T (degC)</th>\n",
              "      <th>Tpot (K)</th>\n",
              "      <th>Tdew (degC)</th>\n",
              "      <th>rh (%)</th>\n",
              "      <th>VPmax (mbar)</th>\n",
              "      <th>VPact (mbar)</th>\n",
              "      <th>VPdef (mbar)</th>\n",
              "      <th>sh (g/kg)</th>\n",
              "      <th>H2OC (mmol/mol)</th>\n",
              "      <th>rho (g/m**3)</th>\n",
              "      <th>wv (m/s)</th>\n",
              "      <th>max. wv (m/s)</th>\n",
              "      <th>wd (deg)</th>\n",
              "    </tr>\n",
              "  </thead>\n",
              "  <tbody>\n",
              "    <tr>\n",
              "      <th>0</th>\n",
              "      <td>01.01.2009 00:10:00</td>\n",
              "      <td>996.52</td>\n",
              "      <td>-8.02</td>\n",
              "      <td>265.40</td>\n",
              "      <td>-8.90</td>\n",
              "      <td>93.3</td>\n",
              "      <td>3.33</td>\n",
              "      <td>3.11</td>\n",
              "      <td>0.22</td>\n",
              "      <td>1.94</td>\n",
              "      <td>3.12</td>\n",
              "      <td>1307.75</td>\n",
              "      <td>1.03</td>\n",
              "      <td>1.75</td>\n",
              "      <td>152.3</td>\n",
              "    </tr>\n",
              "    <tr>\n",
              "      <th>1</th>\n",
              "      <td>01.01.2009 00:20:00</td>\n",
              "      <td>996.57</td>\n",
              "      <td>-8.41</td>\n",
              "      <td>265.01</td>\n",
              "      <td>-9.28</td>\n",
              "      <td>93.4</td>\n",
              "      <td>3.23</td>\n",
              "      <td>3.02</td>\n",
              "      <td>0.21</td>\n",
              "      <td>1.89</td>\n",
              "      <td>3.03</td>\n",
              "      <td>1309.80</td>\n",
              "      <td>0.72</td>\n",
              "      <td>1.50</td>\n",
              "      <td>136.1</td>\n",
              "    </tr>\n",
              "    <tr>\n",
              "      <th>2</th>\n",
              "      <td>01.01.2009 00:30:00</td>\n",
              "      <td>996.53</td>\n",
              "      <td>-8.51</td>\n",
              "      <td>264.91</td>\n",
              "      <td>-9.31</td>\n",
              "      <td>93.9</td>\n",
              "      <td>3.21</td>\n",
              "      <td>3.01</td>\n",
              "      <td>0.20</td>\n",
              "      <td>1.88</td>\n",
              "      <td>3.02</td>\n",
              "      <td>1310.24</td>\n",
              "      <td>0.19</td>\n",
              "      <td>0.63</td>\n",
              "      <td>171.6</td>\n",
              "    </tr>\n",
              "    <tr>\n",
              "      <th>3</th>\n",
              "      <td>01.01.2009 00:40:00</td>\n",
              "      <td>996.51</td>\n",
              "      <td>-8.31</td>\n",
              "      <td>265.12</td>\n",
              "      <td>-9.07</td>\n",
              "      <td>94.2</td>\n",
              "      <td>3.26</td>\n",
              "      <td>3.07</td>\n",
              "      <td>0.19</td>\n",
              "      <td>1.92</td>\n",
              "      <td>3.08</td>\n",
              "      <td>1309.19</td>\n",
              "      <td>0.34</td>\n",
              "      <td>0.50</td>\n",
              "      <td>198.0</td>\n",
              "    </tr>\n",
              "    <tr>\n",
              "      <th>4</th>\n",
              "      <td>01.01.2009 00:50:00</td>\n",
              "      <td>996.51</td>\n",
              "      <td>-8.27</td>\n",
              "      <td>265.15</td>\n",
              "      <td>-9.04</td>\n",
              "      <td>94.1</td>\n",
              "      <td>3.27</td>\n",
              "      <td>3.08</td>\n",
              "      <td>0.19</td>\n",
              "      <td>1.92</td>\n",
              "      <td>3.09</td>\n",
              "      <td>1309.00</td>\n",
              "      <td>0.32</td>\n",
              "      <td>0.63</td>\n",
              "      <td>214.3</td>\n",
              "    </tr>\n",
              "  </tbody>\n",
              "</table>\n",
              "</div>\n",
              "      <button class=\"colab-df-convert\" onclick=\"convertToInteractive('df-624e174d-8464-43c4-aa25-e046834717b6')\"\n",
              "              title=\"Convert this dataframe to an interactive table.\"\n",
              "              style=\"display:none;\">\n",
              "        \n",
              "  <svg xmlns=\"http://www.w3.org/2000/svg\" height=\"24px\"viewBox=\"0 0 24 24\"\n",
              "       width=\"24px\">\n",
              "    <path d=\"M0 0h24v24H0V0z\" fill=\"none\"/>\n",
              "    <path d=\"M18.56 5.44l.94 2.06.94-2.06 2.06-.94-2.06-.94-.94-2.06-.94 2.06-2.06.94zm-11 1L8.5 8.5l.94-2.06 2.06-.94-2.06-.94L8.5 2.5l-.94 2.06-2.06.94zm10 10l.94 2.06.94-2.06 2.06-.94-2.06-.94-.94-2.06-.94 2.06-2.06.94z\"/><path d=\"M17.41 7.96l-1.37-1.37c-.4-.4-.92-.59-1.43-.59-.52 0-1.04.2-1.43.59L10.3 9.45l-7.72 7.72c-.78.78-.78 2.05 0 2.83L4 21.41c.39.39.9.59 1.41.59.51 0 1.02-.2 1.41-.59l7.78-7.78 2.81-2.81c.8-.78.8-2.07 0-2.86zM5.41 20L4 18.59l7.72-7.72 1.47 1.35L5.41 20z\"/>\n",
              "  </svg>\n",
              "      </button>\n",
              "      \n",
              "  <style>\n",
              "    .colab-df-container {\n",
              "      display:flex;\n",
              "      flex-wrap:wrap;\n",
              "      gap: 12px;\n",
              "    }\n",
              "\n",
              "    .colab-df-convert {\n",
              "      background-color: #E8F0FE;\n",
              "      border: none;\n",
              "      border-radius: 50%;\n",
              "      cursor: pointer;\n",
              "      display: none;\n",
              "      fill: #1967D2;\n",
              "      height: 32px;\n",
              "      padding: 0 0 0 0;\n",
              "      width: 32px;\n",
              "    }\n",
              "\n",
              "    .colab-df-convert:hover {\n",
              "      background-color: #E2EBFA;\n",
              "      box-shadow: 0px 1px 2px rgba(60, 64, 67, 0.3), 0px 1px 3px 1px rgba(60, 64, 67, 0.15);\n",
              "      fill: #174EA6;\n",
              "    }\n",
              "\n",
              "    [theme=dark] .colab-df-convert {\n",
              "      background-color: #3B4455;\n",
              "      fill: #D2E3FC;\n",
              "    }\n",
              "\n",
              "    [theme=dark] .colab-df-convert:hover {\n",
              "      background-color: #434B5C;\n",
              "      box-shadow: 0px 1px 3px 1px rgba(0, 0, 0, 0.15);\n",
              "      filter: drop-shadow(0px 1px 2px rgba(0, 0, 0, 0.3));\n",
              "      fill: #FFFFFF;\n",
              "    }\n",
              "  </style>\n",
              "\n",
              "      <script>\n",
              "        const buttonEl =\n",
              "          document.querySelector('#df-624e174d-8464-43c4-aa25-e046834717b6 button.colab-df-convert');\n",
              "        buttonEl.style.display =\n",
              "          google.colab.kernel.accessAllowed ? 'block' : 'none';\n",
              "\n",
              "        async function convertToInteractive(key) {\n",
              "          const element = document.querySelector('#df-624e174d-8464-43c4-aa25-e046834717b6');\n",
              "          const dataTable =\n",
              "            await google.colab.kernel.invokeFunction('convertToInteractive',\n",
              "                                                     [key], {});\n",
              "          if (!dataTable) return;\n",
              "\n",
              "          const docLinkHtml = 'Like what you see? Visit the ' +\n",
              "            '<a target=\"_blank\" href=https://colab.research.google.com/notebooks/data_table.ipynb>data table notebook</a>'\n",
              "            + ' to learn more about interactive tables.';\n",
              "          element.innerHTML = '';\n",
              "          dataTable['output_type'] = 'display_data';\n",
              "          await google.colab.output.renderOutput(dataTable, element);\n",
              "          const docLink = document.createElement('div');\n",
              "          docLink.innerHTML = docLinkHtml;\n",
              "          element.appendChild(docLink);\n",
              "        }\n",
              "      </script>\n",
              "    </div>\n",
              "  </div>\n",
              "  "
            ]
          },
          "metadata": {},
          "execution_count": 5
        }
      ]
    },
    {
      "cell_type": "code",
      "source": [
        "import os\n",
        "fname = os.path.join('/content/jena_climate_2009_2016.csv')\n",
        "with open(fname) as f:\n",
        "  data = f.read()\n",
        "\n",
        "lines = data.split('\\n')"
      ],
      "metadata": {
        "id": "sCWMrYhJzJkC"
      },
      "execution_count": 6,
      "outputs": []
    },
    {
      "cell_type": "code",
      "source": [
        "header = lines[0].split(',')\n",
        "lines = lines[1:]"
      ],
      "metadata": {
        "id": "aRhpQseI1iXr"
      },
      "execution_count": 7,
      "outputs": []
    },
    {
      "cell_type": "code",
      "source": [
        "type(header)\n",
        "type(df.columns.tolist())"
      ],
      "metadata": {
        "colab": {
          "base_uri": "https://localhost:8080/"
        },
        "id": "xDDyKmF01jUy",
        "outputId": "8f66d027-894b-4f55-c4f2-90d9c8b1b5d8"
      },
      "execution_count": 8,
      "outputs": [
        {
          "output_type": "execute_result",
          "data": {
            "text/plain": [
              "list"
            ]
          },
          "metadata": {},
          "execution_count": 8
        }
      ]
    },
    {
      "cell_type": "code",
      "source": [
        "# 데이터 파싱\n",
        "import numpy as np\n",
        "temperature = np.zeros((len(lines)))\n",
        "raw_data = np.zeros((len(lines), len(header)-1  ))"
      ],
      "metadata": {
        "id": "iboxaRHT17AK"
      },
      "execution_count": 9,
      "outputs": []
    },
    {
      "cell_type": "code",
      "source": [
        "for i, line in enumerate(lines):\n",
        "  values = [float(x) for x in line.split(\",\")[1:]]\n",
        "  temperature[i] = values[1]\n",
        "  raw_data[i,:] = values[:] "
      ],
      "metadata": {
        "id": "w_FzTS9j2I6S"
      },
      "execution_count": 10,
      "outputs": []
    },
    {
      "cell_type": "code",
      "source": [
        "# 전체 기온을 그래프로 그리기\n",
        "import matplotlib.pyplot as plt\n",
        "plt.plot(range(len(temperature)), temperature)\n",
        "plt.show()"
      ],
      "metadata": {
        "colab": {
          "base_uri": "https://localhost:8080/",
          "height": 268
        },
        "id": "OubGiNDy3ERh",
        "outputId": "9ae1158a-b3d1-46b8-854b-796765cc57fa"
      },
      "execution_count": 11,
      "outputs": [
        {
          "output_type": "display_data",
          "data": {
            "text/plain": [
              "<Figure size 432x288 with 1 Axes>"
            ],
            "image/png": "[encoded data removed]"
          },
          "metadata": {
            "needs_background": "light"
          }
        }
      ]
    },
    {
      "cell_type": "code",
      "source": [
        "# 구간을 나눠서 시각화 해보기\n",
        "6*24*10"
      ],
      "metadata": {
        "colab": {
          "base_uri": "https://localhost:8080/"
        },
        "id": "WUHnoVRp4Dhq",
        "outputId": "60007817-0ac1-4fb6-d86b-a5ba7e4ca289"
      },
      "execution_count": 12,
      "outputs": [
        {
          "output_type": "execute_result",
          "data": {
            "text/plain": [
              "1440"
            ]
          },
          "metadata": {},
          "execution_count": 12
        }
      ]
    },
    {
      "cell_type": "code",
      "source": [
        "plt.plot(range(1440), temperature[:1440] )\n",
        "plt.show()"
      ],
      "metadata": {
        "colab": {
          "base_uri": "https://localhost:8080/",
          "height": 265
        },
        "id": "fjjNqTkL66x5",
        "outputId": "7a709a87-7a81-41ab-bd98-9091c5a105c9"
      },
      "execution_count": 13,
      "outputs": [
        {
          "output_type": "display_data",
          "data": {
            "text/plain": [
              "<Figure size 432x288 with 1 Axes>"
            ],
            "image/png": "[encoded data removed]"
          },
          "metadata": {
            "needs_background": "light"
          }
        }
      ]
    },
    {
      "cell_type": "code",
      "source": [
        "split1 = int(len(raw_data)*0.5)\n",
        "split2 = int(len(raw_data)*0.25)\n",
        "\n",
        "train_samples =  raw_data[:split1]\n",
        "val_samples = raw_data[split1:split1+split2]\n",
        "test_samples = raw_data[split1+split2:]"
      ],
      "metadata": {
        "id": "pIFn7u7N7ENB"
      },
      "execution_count": 14,
      "outputs": []
    },
    {
      "cell_type": "code",
      "source": [
        "len(raw_data)"
      ],
      "metadata": {
        "colab": {
          "base_uri": "https://localhost:8080/"
        },
        "id": "ULUnZziw7VBZ",
        "outputId": "9225935e-9a79-436f-9318-2ae4634b84cf"
      },
      "execution_count": 15,
      "outputs": [
        {
          "output_type": "execute_result",
          "data": {
            "text/plain": [
              "420451"
            ]
          },
          "metadata": {},
          "execution_count": 15
        }
      ]
    },
    {
      "cell_type": "code",
      "source": [
        "len(train_samples) , len(val_samples) , len(test_samples)"
      ],
      "metadata": {
        "colab": {
          "base_uri": "https://localhost:8080/"
        },
        "id": "pyrDW1L27WyQ",
        "outputId": "4ac5eee5-60b6-4e31-80b2-53864a0ca035"
      },
      "execution_count": 16,
      "outputs": [
        {
          "output_type": "execute_result",
          "data": {
            "text/plain": [
              "(210225, 105112, 105114)"
            ]
          },
          "metadata": {},
          "execution_count": 16
        }
      ]
    },
    {
      "cell_type": "code",
      "source": [
        "# 데이터 정규화 train data\n",
        "import copy\n",
        "raw_data2 = copy.deepcopy(raw_data)\n",
        "mean = train_samples.mean()\n",
        "raw_data2 -= mean\n",
        "std = train_samples.std()\n",
        "raw_data2 /= std"
      ],
      "metadata": {
        "id": "sPZv-DLj9SlK"
      },
      "execution_count": 17,
      "outputs": []
    },
    {
      "cell_type": "code",
      "source": [
        "from tensorflow import keras"
      ],
      "metadata": {
        "id": "prt9h799_wXo"
      },
      "execution_count": 18,
      "outputs": []
    },
    {
      "cell_type": "code",
      "source": [
        "int_sequence = np.arange(10)\n",
        "int_sequence"
      ],
      "metadata": {
        "colab": {
          "base_uri": "https://localhost:8080/"
        },
        "id": "9-oNRb6IAlpZ",
        "outputId": "217af6d8-cce7-4596-fc18-e2f1b262a000"
      },
      "execution_count": 19,
      "outputs": [
        {
          "output_type": "execute_result",
          "data": {
            "text/plain": [
              "array([0, 1, 2, 3, 4, 5, 6, 7, 8, 9])"
            ]
          },
          "metadata": {},
          "execution_count": 19
        }
      ]
    },
    {
      "cell_type": "code",
      "source": [
        "dummy_dataset = keras.utils.timeseries_dataset_from_array(\n",
        "    data = int_sequence[:-3],\n",
        "    targets = int_sequence[3:],\n",
        "    sequence_length = 3,\n",
        "    batch_size=2,\n",
        ")"
      ],
      "metadata": {
        "id": "p-wVhjneAreX"
      },
      "execution_count": 20,
      "outputs": []
    },
    {
      "cell_type": "code",
      "source": [
        "int_sequence[:-3],int_sequence[3:]"
      ],
      "metadata": {
        "colab": {
          "base_uri": "https://localhost:8080/"
        },
        "id": "Lm7bCoaFBIyz",
        "outputId": "6965b3fd-18ee-4c56-ac32-03c886e48934"
      },
      "execution_count": 21,
      "outputs": [
        {
          "output_type": "execute_result",
          "data": {
            "text/plain": [
              "(array([0, 1, 2, 3, 4, 5, 6]), array([3, 4, 5, 6, 7, 8, 9]))"
            ]
          },
          "metadata": {},
          "execution_count": 21
        }
      ]
    },
    {
      "cell_type": "code",
      "source": [
        "for inputs,targets in  dummy_dataset:\n",
        "  print(inputs, targets)\n"
      ],
      "metadata": {
        "colab": {
          "base_uri": "https://localhost:8080/"
        },
        "id": "XvDX6gZRBJ0Q",
        "outputId": "e47508d0-9849-40f4-fd18-0364cc49f54e"
      },
      "execution_count": 22,
      "outputs": [
        {
          "output_type": "stream",
          "name": "stdout",
          "text": [
            "tf.Tensor(\n",
            "[[0 1 2]\n",
            " [1 2 3]], shape=(2, 3), dtype=int64) tf.Tensor([3 4], shape=(2,), dtype=int64)\n",
            "tf.Tensor(\n",
            "[[2 3 4]\n",
            " [3 4 5]], shape=(2, 3), dtype=int64) tf.Tensor([5 6], shape=(2,), dtype=int64)\n",
            "tf.Tensor([[4 5 6]], shape=(1, 3), dtype=int64) tf.Tensor([7], shape=(1,), dtype=int64)\n"
          ]
        }
      ]
    },
    {
      "cell_type": "code",
      "source": [
        "# 훈련,검증,테스트 데이터셋 만들기\n",
        "sampling_rate = 6\n",
        "sequence_length = 120\n",
        "delay = sampling_rate * (sequence_length+24-1)\n",
        "batch_size = 256\n",
        "train_dataset = keras.utils.timeseries_dataset_from_array(\n",
        "    data = raw_data2[:-delay],\n",
        "    targets = temperature[delay:],\n",
        "    sampling_rate = sampling_rate,\n",
        "    shuffle = True,\n",
        "    batch_size = batch_size,\n",
        "    sequence_length = sequence_length,\n",
        "    start_index = 0,\n",
        "    end_index = split1\n",
        ")\n",
        "val_dataset = keras.utils.timeseries_dataset_from_array(\n",
        "    data = raw_data2[:-delay],\n",
        "    targets = temperature[delay:],\n",
        "    sampling_rate = sampling_rate,\n",
        "    shuffle = True,\n",
        "    batch_size = batch_size,\n",
        "    sequence_length = sequence_length,\n",
        "    start_index = split1,\n",
        "    end_index = split1+split2\n",
        ")\n",
        "test_dataset = keras.utils.timeseries_dataset_from_array(\n",
        "    data = raw_data2[:-delay],\n",
        "    targets = temperature[delay:],\n",
        "    sampling_rate = sampling_rate,\n",
        "    shuffle = True,\n",
        "    batch_size = batch_size,\n",
        "    sequence_length = sequence_length,\n",
        "    start_index = split1+split2    \n",
        ")"
      ],
      "metadata": {
        "id": "vWj0D7tKBlNY"
      },
      "execution_count": 23,
      "outputs": []
    },
    {
      "cell_type": "code",
      "source": [
        "for samples, targets in train_dataset:\n",
        "  print(samples.shape, targets.shape)\n",
        "  break\n"
      ],
      "metadata": {
        "colab": {
          "base_uri": "https://localhost:8080/"
        },
        "id": "JHVDCWdeE0Tg",
        "outputId": "f85b4cb7-179c-48b6-82c4-14dbf54959d0"
      },
      "execution_count": 24,
      "outputs": [
        {
          "output_type": "stream",
          "name": "stdout",
          "text": [
            "(256, 120, 14) (256,)\n"
          ]
        }
      ]
    },
    {
      "cell_type": "code",
      "source": [
        "# 기준 모델의 MAE 계산하기\n",
        "def evalute_native_method(dataset):\n",
        "  total_abs_err = 0.\n",
        "  samples_seen = 0.\n",
        "  for samples, targets in dataset:\n",
        "    preds = samples[:,-1,1]*std  + mean\n",
        "    total_abs_err += np.sum(np.abs(preds - targets))\n",
        "    samples_seen += samples.shape[0]\n",
        "  return total_abs_err / samples_seen"
      ],
      "metadata": {
        "id": "_coaeDoDFQjO"
      },
      "execution_count": 25,
      "outputs": []
    },
    {
      "cell_type": "code",
      "source": [
        "std"
      ],
      "metadata": {
        "colab": {
          "base_uri": "https://localhost:8080/"
        },
        "id": "p66kkPTZrZdK",
        "outputId": "e38d5f5e-e382-4632-bf2f-194efaf2c200"
      },
      "execution_count": 26,
      "outputs": [
        {
          "output_type": "execute_result",
          "data": {
            "text/plain": [
              "380.6416752928181"
            ]
          },
          "metadata": {},
          "execution_count": 26
        }
      ]
    },
    {
      "cell_type": "code",
      "source": [
        "print(f\"검증 MAE :{evalute_native_method(val_dataset  )}\")\n",
        "print(f\"테스트 MAE :{evalute_native_method(test_dataset  )}\")"
      ],
      "metadata": {
        "colab": {
          "base_uri": "https://localhost:8080/"
        },
        "id": "VMbWWs_nrJ0y",
        "outputId": "bfdf7466-7341-4bfb-b58e-41c1796bf470"
      },
      "execution_count": 27,
      "outputs": [
        {
          "output_type": "stream",
          "name": "stdout",
          "text": [
            "검증 MAE :2.4417357485655153\n",
            "테스트 MAE :2.621898451761205\n"
          ]
        }
      ]
    },
    {
      "cell_type": "code",
      "source": [
        "# 기본적인 머신러닝 모델 적용\n",
        "# Dense층 연결모델 훈련하고 평가"
      ],
      "metadata": {
        "id": "23INKxDKrJ3x"
      },
      "execution_count": 28,
      "outputs": []
    },
    {
      "cell_type": "code",
      "source": [
        "from tensorflow import keras\n",
        "from tensorflow.keras import layers"
      ],
      "metadata": {
        "id": "UsymmMT2rJ6b"
      },
      "execution_count": 29,
      "outputs": []
    },
    {
      "cell_type": "code",
      "source": [
        "from pyparsing import actions\n",
        "inputs = keras.Input(shape=(sequence_length, raw_data2.shape[-1]))\n",
        "x = layers.Flatten()(inputs)\n",
        "x = layers.Dense(16,activation='relu')(x)\n",
        "outputs = layers.Dense(1)(x)\n",
        "model = keras.Model(inputs,outputs)"
      ],
      "metadata": {
        "id": "G3VXGByCrI9_"
      },
      "execution_count": 30,
      "outputs": []
    },
    {
      "cell_type": "code",
      "source": [
        "callbacks = [\n",
        "    keras.callbacks.ModelCheckpoint('jena_dense_keras', save_best_only=True)\n",
        "]"
      ],
      "metadata": {
        "id": "Yde85Pkkpgi1"
      },
      "execution_count": 31,
      "outputs": []
    },
    {
      "cell_type": "code",
      "source": [
        "model.compile(optimizer='rmsprop',loss='mse', metrics=['mae'])"
      ],
      "metadata": {
        "id": "I8qDa__upgmZ"
      },
      "execution_count": 32,
      "outputs": []
    },
    {
      "cell_type": "code",
      "source": [
        "history = model.fit(train_dataset,epochs=10,validation_data=val_dataset,callbacks=callbacks)"
      ],
      "metadata": {
        "colab": {
          "base_uri": "https://localhost:8080/"
        },
        "id": "fNvqWkjotoFR",
        "outputId": "298075f8-9d96-4161-ba5f-04a3400f0d8b"
      },
      "execution_count": 33,
      "outputs": [
        {
          "output_type": "stream",
          "name": "stdout",
          "text": [
            "Epoch 1/10\n",
            "819/819 [==============================] - 46s 53ms/step - loss: 46.3169 - mae: 5.3592 - val_loss: 21.3295 - val_mae: 3.6597\n",
            "Epoch 2/10\n",
            "819/819 [==============================] - 42s 51ms/step - loss: 26.3009 - mae: 4.0344 - val_loss: 24.0593 - val_mae: 3.8881\n",
            "Epoch 3/10\n",
            "819/819 [==============================] - 43s 53ms/step - loss: 24.5506 - mae: 3.9019 - val_loss: 16.5540 - val_mae: 3.2396\n",
            "Epoch 4/10\n",
            "819/819 [==============================] - 43s 53ms/step - loss: 23.4055 - mae: 3.8065 - val_loss: 22.5895 - val_mae: 3.8462\n",
            "Epoch 5/10\n",
            "819/819 [==============================] - 43s 52ms/step - loss: 22.6528 - mae: 3.7467 - val_loss: 16.6800 - val_mae: 3.2679\n",
            "Epoch 6/10\n",
            "819/819 [==============================] - 44s 53ms/step - loss: 21.9720 - mae: 3.6897 - val_loss: 17.0393 - val_mae: 3.2607\n",
            "Epoch 7/10\n",
            "819/819 [==============================] - 43s 52ms/step - loss: 21.3858 - mae: 3.6428 - val_loss: 14.9351 - val_mae: 3.0764\n",
            "Epoch 8/10\n",
            "819/819 [==============================] - 43s 53ms/step - loss: 20.8451 - mae: 3.5943 - val_loss: 17.0267 - val_mae: 3.2955\n",
            "Epoch 9/10\n",
            "819/819 [==============================] - 44s 53ms/step - loss: 20.4221 - mae: 3.5593 - val_loss: 17.0377 - val_mae: 3.3016\n",
            "Epoch 10/10\n",
            "819/819 [==============================] - 43s 53ms/step - loss: 19.9366 - mae: 3.5212 - val_loss: 14.3969 - val_mae: 3.0187\n"
          ]
        }
      ]
    },
    {
      "cell_type": "code",
      "source": [
        "# 결과를 그래프로 그리기\n",
        "import matplotlib.pyplot as plt\n",
        "loss = history.history['mae']\n",
        "val_loss = history.history['val_mae']\n",
        "epochs = range(1,len(loss) + 1)\n",
        "plt.figure()\n",
        "plt.plot(epochs, loss, \"bo\", label='Trainig MAE'  )\n",
        "plt.plot(epochs, val_loss, \"b\", label='Validation MAE'  )\n",
        "plt.title(\"Training and validation MAE\")\n",
        "plt.legend()\n",
        "plt.show()"
      ],
      "metadata": {
        "colab": {
          "base_uri": "https://localhost:8080/",
          "height": 281
        },
        "id": "omiVz-NCtzK4",
        "outputId": "e095a188-c670-4cbd-a405-ba29868f4960"
      },
      "execution_count": 34,
      "outputs": [
        {
          "output_type": "display_data",
          "data": {
            "text/plain": [
              "<Figure size 432x288 with 1 Axes>"
            ],
            "image/png": "[encoded data removed]"
          },
          "metadata": {
            "needs_background": "light"
          }
        }
      ]
    },
    {
      "cell_type": "code",
      "source": [
        "# 1D 합성곱 모델 시도\n",
        "raw_data2.shape"
      ],
      "metadata": {
        "colab": {
          "base_uri": "https://localhost:8080/"
        },
        "id": "TVPhlm1fwNoo",
        "outputId": "27253a65-41fe-4945-de1b-78700a149497"
      },
      "execution_count": 35,
      "outputs": [
        {
          "output_type": "execute_result",
          "data": {
            "text/plain": [
              "(420451, 14)"
            ]
          },
          "metadata": {},
          "execution_count": 35
        }
      ]
    },
    {
      "cell_type": "code",
      "source": [
        "sequence_length, raw_data2.shape[-1]"
      ],
      "metadata": {
        "colab": {
          "base_uri": "https://localhost:8080/"
        },
        "id": "CXJdEdyP3cGk",
        "outputId": "9eb1029e-6386-4b72-80e4-cbb4b5decc55"
      },
      "execution_count": 39,
      "outputs": [
        {
          "output_type": "execute_result",
          "data": {
            "text/plain": [
              "(120, 14)"
            ]
          },
          "metadata": {},
          "execution_count": 39
        }
      ]
    },
    {
      "cell_type": "code",
      "source": [
        "inputs = keras.Input(shape=(sequence_length, raw_data2.shape[-1]))\n",
        "x = layers.Conv1D(8,14, activation = 'relu')(inputs)\n",
        "x = layers.MaxPool1D(2)(x)\n",
        "x = layers.Conv1D(8,7, activation = 'relu')(x)\n",
        "x = layers.MaxPool1D(2)(x)\n",
        "x = layers.Conv1D(8,3, activation = 'relu')(x)\n",
        "x = layers.GlobalAveragePooling1D()(x)\n",
        "outputs = layers.Dense(1)(x)\n",
        "model = keras.Model(inputs, outputs)\n",
        "callback = [\n",
        "    keras.callbacks.ModelCheckpoint('jena_conv.keras', save_best_only=True)\n",
        "]\n",
        "model.compile(optimizer='rmsprop',loss='mse',metrics=['mae'])\n",
        "history = model.fit(train_dataset,epochs=10,validation_data=val_dataset,callbacks=callback)"
      ],
      "metadata": {
        "colab": {
          "base_uri": "https://localhost:8080/"
        },
        "id": "D6UayQw1wtkh",
        "outputId": "88525920-1915-4139-8749-073111750983"
      },
      "execution_count": 40,
      "outputs": [
        {
          "output_type": "stream",
          "name": "stdout",
          "text": [
            "Epoch 1/10\n",
            "819/819 [==============================] - 53s 57ms/step - loss: 49.0847 - mae: 5.4812 - val_loss: 31.1398 - val_mae: 4.3761\n",
            "Epoch 2/10\n",
            "819/819 [==============================] - 44s 54ms/step - loss: 28.5753 - mae: 4.2404 - val_loss: 25.6096 - val_mae: 4.0962\n",
            "Epoch 3/10\n",
            "819/819 [==============================] - 45s 54ms/step - loss: 27.3655 - mae: 4.1625 - val_loss: 25.9109 - val_mae: 3.9858\n",
            "Epoch 4/10\n",
            "819/819 [==============================] - 44s 53ms/step - loss: 26.7642 - mae: 4.1184 - val_loss: 26.9680 - val_mae: 4.0684\n",
            "Epoch 5/10\n",
            "819/819 [==============================] - 44s 54ms/step - loss: 26.4113 - mae: 4.0932 - val_loss: 28.0318 - val_mae: 4.3051\n",
            "Epoch 6/10\n",
            "819/819 [==============================] - 43s 52ms/step - loss: 26.0752 - mae: 4.0702 - val_loss: 24.0007 - val_mae: 3.9272\n",
            "Epoch 7/10\n",
            "819/819 [==============================] - 47s 57ms/step - loss: 25.8663 - mae: 4.0506 - val_loss: 21.8644 - val_mae: 3.7116\n",
            "Epoch 8/10\n",
            "819/819 [==============================] - 49s 60ms/step - loss: 25.6338 - mae: 4.0357 - val_loss: 21.5489 - val_mae: 3.6783\n",
            "Epoch 9/10\n",
            "819/819 [==============================] - 60s 73ms/step - loss: 25.4793 - mae: 4.0231 - val_loss: 25.6043 - val_mae: 4.0796\n",
            "Epoch 10/10\n",
            "819/819 [==============================] - 64s 78ms/step - loss: 25.2646 - mae: 4.0063 - val_loss: 25.0250 - val_mae: 3.9163\n"
          ]
        }
      ]
    },
    {
      "cell_type": "code",
      "source": [
        "import matplotlib.pyplot as plt\n",
        "loss = history.history['mae']\n",
        "val_loss = history.history['val_mae']\n",
        "epochs = range(1,len(loss) + 1)\n",
        "plt.figure()\n",
        "plt.plot(epochs, loss, \"bo\", label='Trainig MAE'  )\n",
        "plt.plot(epochs, val_loss, \"b\", label='Validation MAE'  )\n",
        "plt.title(\"Training and validation MAE\")\n",
        "plt.legend()\n",
        "plt.show()"
      ],
      "metadata": {
        "colab": {
          "base_uri": "https://localhost:8080/",
          "height": 281
        },
        "id": "k_r9p-2ixF1K",
        "outputId": "61ff18d5-23ec-4eb8-f913-8a3f583c331b"
      },
      "execution_count": 41,
      "outputs": [
        {
          "output_type": "display_data",
          "data": {
            "text/plain": [
              "<Figure size 432x288 with 1 Axes>"
            ],
            "image/png": "[encoded data removed]"
          },
          "metadata": {
            "needs_background": "light"
          }
        }
      ]
    },
    {
      "cell_type": "code",
      "source": [
        "from tensorflow.python import metrics\n",
        "# 순환신경망\n",
        "# LSTM 기반 신경망\n",
        "inputs =keras.Input(shape=(sequence_length, raw_data.shape[-1]))\n",
        "x = layers.LSTM(16)(inputs)\n",
        "outputs = layers.Dense(1)(x)\n",
        "model = keras.Model(inputs, outputs)\n",
        "callback = [\n",
        "    keras.callbacks.ModelCheckpoint('jen_lstm.keras',save_best_only=True)\n",
        "]\n",
        "model.compile(optimizer='rmsprop', loss='mse', metrics=['mae'])\n",
        "history = model.fit(train_dataset,epochs=10,validation_data=val_dataset,callbacks=callback)"
      ],
      "metadata": {
        "colab": {
          "base_uri": "https://localhost:8080/"
        },
        "id": "KFC1JU_ExGhg",
        "outputId": "1c8d9f0e-1f9c-4148-820f-57a532945f29"
      },
      "execution_count": 42,
      "outputs": [
        {
          "output_type": "stream",
          "name": "stdout",
          "text": [
            "Epoch 1/10\n",
            "819/819 [==============================] - 52s 59ms/step - loss: 67.7870 - mae: 6.4871 - val_loss: 30.5055 - val_mae: 4.3332\n",
            "Epoch 2/10\n",
            "819/819 [==============================] - 48s 58ms/step - loss: 32.5438 - mae: 4.4933 - val_loss: 31.6633 - val_mae: 4.4234\n",
            "Epoch 3/10\n",
            "819/819 [==============================] - 48s 58ms/step - loss: 28.2457 - mae: 4.2005 - val_loss: 41.7228 - val_mae: 5.2359\n",
            "Epoch 4/10\n",
            "819/819 [==============================] - 47s 58ms/step - loss: 24.6858 - mae: 3.9260 - val_loss: 20.5910 - val_mae: 3.5069\n",
            "Epoch 5/10\n",
            "819/819 [==============================] - 48s 58ms/step - loss: 22.8054 - mae: 3.7526 - val_loss: 17.8174 - val_mae: 3.2590\n",
            "Epoch 6/10\n",
            "819/819 [==============================] - 49s 59ms/step - loss: 21.4463 - mae: 3.6389 - val_loss: 18.0949 - val_mae: 3.3049\n",
            "Epoch 7/10\n",
            "819/819 [==============================] - 66s 80ms/step - loss: 19.1155 - mae: 3.4594 - val_loss: 21.0685 - val_mae: 3.6509\n",
            "Epoch 8/10\n",
            "819/819 [==============================] - 59s 72ms/step - loss: 17.8034 - mae: 3.3338 - val_loss: 13.4255 - val_mae: 2.8744\n",
            "Epoch 9/10\n",
            "819/819 [==============================] - 61s 75ms/step - loss: 16.9321 - mae: 3.2437 - val_loss: 14.9246 - val_mae: 3.0141\n",
            "Epoch 10/10\n",
            "819/819 [==============================] - 64s 78ms/step - loss: 15.7014 - mae: 3.1386 - val_loss: 15.7225 - val_mae: 3.1646\n"
          ]
        }
      ]
    },
    {
      "cell_type": "code",
      "source": [
        "import matplotlib.pyplot as plt\n",
        "loss = history.history['mae']\n",
        "val_loss = history.history['val_mae']\n",
        "epochs = range(1,len(loss) + 1)\n",
        "plt.figure()\n",
        "plt.plot(epochs, loss, \"bo\", label='Trainig MAE'  )\n",
        "plt.plot(epochs, val_loss, \"b\", label='Validation MAE'  )\n",
        "plt.title(\"Training and validation MAE\")\n",
        "plt.legend()\n",
        "plt.show()"
      ],
      "metadata": {
        "colab": {
          "base_uri": "https://localhost:8080/",
          "height": 281
        },
        "id": "yIE5rieK6sxP",
        "outputId": "cec20c95-01d7-4ecd-c0b3-1f4e4874d02d"
      },
      "execution_count": 43,
      "outputs": [
        {
          "output_type": "display_data",
          "data": {
            "text/plain": [
              "<Figure size 432x288 with 1 Axes>"
            ],
            "image/png": "[encoded data removed]"
          },
          "metadata": {
            "needs_background": "light"
          }
        }
      ]
    },
    {
      "cell_type": "code",
      "source": [
        "# RNN -> 넘파이로 구현\n",
        "import numpy as np\n",
        "timesteps = 100\n",
        "input_features = 32\n",
        "output_features = 64\n",
        "inputs =  np.random.random( (timesteps, input_features ) )\n",
        "state_t = np.zeros( (output_features,) )\n",
        "W = np.random.random( (output_features, input_features ) )\n",
        "U = np.random.random( (output_features, output_features ) )\n",
        "b = np.random.random( (output_features,  ) )\n",
        "successive_outputs = []\n",
        "for input_t in inputs:\n",
        "  output_t = np.tanh(np.dot(W, input_t) + np.dot(U, state_t) + b)\n",
        "  successive_outputs.append(output_t)\n",
        "  state_t = output_t\n",
        "final_output_sequence = np.stack(successive_outputs, axis = 0)  "
      ],
      "metadata": {
        "id": "eg9M_1KC6tWI"
      },
      "execution_count": 45,
      "outputs": []
    },
    {
      "cell_type": "code",
      "source": [
        "# keras 의 순환층\n",
        "# RNN 층\n",
        "num_features = 14\n",
        "inputs = keras.Input(shape = (None, num_features))\n",
        "outputs = layers.SimpleRNN(16)(inputs)"
      ],
      "metadata": {
        "id": "YFRnjdGI9C2P"
      },
      "execution_count": 46,
      "outputs": []
    },
    {
      "cell_type": "code",
      "source": [
        "# 마지막 출력 스텝만 반환하는 RNN층\n",
        "num_features = 14\n",
        "steps = 120\n",
        "inputs = keras.Input(shape = (steps, num_features))\n",
        "outputs = layers.SimpleRNN(16)(inputs)\n",
        "print(outputs.shape)"
      ],
      "metadata": {
        "colab": {
          "base_uri": "https://localhost:8080/"
        },
        "id": "pDrbizLj93rP",
        "outputId": "2ad866f1-5f69-4f95-db69-75cb9f1888ae"
      },
      "execution_count": 47,
      "outputs": [
        {
          "output_type": "stream",
          "name": "stdout",
          "text": [
            "(None, 16)\n"
          ]
        }
      ]
    },
    {
      "cell_type": "code",
      "source": [
        "# 전체 출력 시퀀스를 반환하는 RNN 층\n",
        "num_features = 14\n",
        "steps = 120\n",
        "inputs = keras.Input(shape = (steps, num_features))\n",
        "outputs = layers.SimpleRNN(16,return_sequences=True)(inputs)\n",
        "print(outputs.shape)"
      ],
      "metadata": {
        "colab": {
          "base_uri": "https://localhost:8080/"
        },
        "id": "egqoJ12a-K9V",
        "outputId": "4aa88cda-948e-4aa5-c76d-91097baebe72"
      },
      "execution_count": 48,
      "outputs": [
        {
          "output_type": "stream",
          "name": "stdout",
          "text": [
            "(None, 120, 16)\n"
          ]
        }
      ]
    },
    {
      "cell_type": "code",
      "source": [
        "# 스태킹 RNN층\n",
        "num_features = 14\n",
        "steps = 120\n",
        "inputs = keras.Input(shape = (steps, num_features))\n",
        "x = layers.SimpleRNN(16,return_sequences=True)(inputs)\n",
        "x = layers.SimpleRNN(16,return_sequences=True)(x)\n",
        "outputs = layers.SimpleRNN(16,)(x)\n",
        "print(outputs.shape)"
      ],
      "metadata": {
        "colab": {
          "base_uri": "https://localhost:8080/"
        },
        "id": "TrKUiogM-XXu",
        "outputId": "ddf0592b-a03e-45f1-f4a1-a59c00f7345a"
      },
      "execution_count": 49,
      "outputs": [
        {
          "output_type": "stream",
          "name": "stdout",
          "text": [
            "(None, 16)\n"
          ]
        }
      ]
    },
    {
      "cell_type": "code",
      "source": [
        "# 순환신경망의 고급 사용법\n",
        "# 과대적합을 감소하기 위해 순환 드랍아웃\n",
        "#  드랍아웃규제를 적용한 LSTM 모델 훈련 하고 평가"
      ],
      "metadata": {
        "id": "S_U20ltR-ozu"
      },
      "execution_count": 50,
      "outputs": []
    },
    {
      "cell_type": "code",
      "source": [
        "inputs = keras.Input(shape=(sequence_length, raw_data2.shape[-1])  )\n",
        "x = layers.LSTM(32,recurrent_dropout=0.25)(inputs)\n",
        "x = layers.Dropout(0.5)(x)\n",
        "outputs = layers.Dense(1)(x)\n",
        "model = keras.Model(inputs,outputs)\n",
        "callbacks = [\n",
        "    keras.callbacks.ModelCheckpoint(\"jena_lstm_dropout.keras\", save_best_only=True)\n",
        "]\n",
        "model.compile(optimizer='rmsprop', loss='mse', metrics=['mae'])\n",
        "history = model.fit(train_dataset,epochs=10,validation_data=val_dataset,callbacks=callbacks)"
      ],
      "metadata": {
        "colab": {
          "base_uri": "https://localhost:8080/"
        },
        "id": "x6hE73_d-zdI",
        "outputId": "16477a23-577c-46ac-b71c-16019a7efe90"
      },
      "execution_count": null,
      "outputs": [
        {
          "output_type": "stream",
          "name": "stderr",
          "text": [
            "WARNING:tensorflow:Layer lstm_1 will not use cuDNN kernels since it doesn't meet the criteria. It will use a generic GPU kernel as fallback when running on GPU.\n"
          ]
        },
        {
          "output_type": "stream",
          "name": "stdout",
          "text": [
            "Epoch 1/10\n",
            "100/819 [==>...........................] - ETA: 5:09 - loss: 89.2558 - mae: 7.6460"
          ]
        }
      ]
    },
    {
      "cell_type": "code",
      "source": [
        "loss = history.history['mae']\n",
        "val_loss = history.history['val_mae']\n",
        "epochs = range(1,len(loss) + 1)\n",
        "plt.figure()\n",
        "plt.plot(epochs, loss, \"bo\", label='Trainig MAE'  )\n",
        "plt.plot(epochs, val_loss, \"b\", label='Validation MAE'  )\n",
        "plt.title(\"Training and validation MAE\")\n",
        "plt.legend()\n",
        "plt.show()"
      ],
      "metadata": {
        "id": "pgXgYRJL_8H3"
      },
      "execution_count": null,
      "outputs": []
    },
    {
      "cell_type": "code",
      "source": [],
      "metadata": {
        "id": "2J0E9CxjAFL3"
      },
      "execution_count": null,
      "outputs": []
    }
  ]
}