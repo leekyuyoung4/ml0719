{
 "cells": [
  {
   "cell_type": "code",
   "execution_count": 1,
   "id": "1e4cca21-2844-4b82-9810-569ab361d6e4",
   "metadata": {},
   "outputs": [],
   "source": [
    "import pandas as pd\n",
    "import numpy as np\n",
    "import tensorflow as tf\n",
    "from tensorflow.keras.layers import Conv2D,MaxPooling2D,Dropout,Flatten,Dense"
   ]
  },
  {
   "cell_type": "code",
   "execution_count": 71,
   "id": "7e36990e-69a1-4d71-853a-016f1c3154c2",
   "metadata": {},
   "outputs": [
    {
     "data": {
      "text/plain": [
       "((60000, 784), (60000,))"
      ]
     },
     "execution_count": 71,
     "metadata": {},
     "output_type": "execute_result"
    }
   ],
   "source": [
    "# 데이터 로드\n",
    "train_df = pd.read_csv('./mnist/train.csv',index_col=0)\n",
    "x_train = train_df.iloc[:,1:]\n",
    "y_train = train_df.iloc[:,0]\n",
    "x_train.shape, y_train.shape"
   ]
  },
  {
   "cell_type": "code",
   "execution_count": 73,
   "id": "c54fc518-f4cb-49bb-af43-f545b5449cb0",
   "metadata": {},
   "outputs": [],
   "source": [
    "# 정규화\n",
    "x_train = x_train.astype('float32')/255."
   ]
  },
  {
   "cell_type": "code",
   "execution_count": 74,
   "id": "7a4a54a8-08e3-404c-b0d7-c1fefb10c1a3",
   "metadata": {},
   "outputs": [
    {
     "data": {
      "text/plain": [
       "28.0"
      ]
     },
     "execution_count": 74,
     "metadata": {},
     "output_type": "execute_result"
    }
   ],
   "source": [
    "np.sqrt(784)"
   ]
  },
  {
   "cell_type": "code",
   "execution_count": 75,
   "id": "7ba58af9-d6a6-498d-a68e-a64477ea24a3",
   "metadata": {},
   "outputs": [],
   "source": [
    "from tensorflow.keras.applications.resnet50 import  ResNet50\n",
    "resnet50 = ResNet50(include_top=False,weights='imagenet', input_shape=(32,32,3))"
   ]
  },
  {
   "cell_type": "code",
   "execution_count": 76,
   "id": "21d95d0b-0ffc-42e4-aa0c-0d7dbb81743b",
   "metadata": {},
   "outputs": [],
   "source": [
    "# resnet50.summary()\n",
    "inputs = tf.keras.Input(shape=(28,28,1))\n",
    "x = Conv2D(32,3,activation='relu')(inputs)\n",
    "x = tf.keras.layers.BatchNormalization()(x)\n",
    "x = MaxPooling2D(2)(x)\n",
    "x = Conv2D(16,3,activation='relu')(x)\n",
    "x = tf.keras.layers.BatchNormalization()(x)\n",
    "x = MaxPooling2D(2)(x)\n",
    "x = Conv2D(32,3,activation='relu')(x)\n",
    "x = tf.keras.layers.BatchNormalization()(x)\n",
    "x = MaxPooling2D(2)(x)\n",
    "x = Flatten()(x)\n",
    "x = Dense(64,activation='relu')(x)\n",
    "outputs = Dense(10,activation='softmax')(x)"
   ]
  },
  {
   "cell_type": "code",
   "execution_count": 77,
   "id": "afbca452-7328-435a-9721-71e2fe8d86c6",
   "metadata": {},
   "outputs": [],
   "source": [
    "model = tf.keras.Model(inputs,outputs)"
   ]
  },
  {
   "cell_type": "code",
   "execution_count": 78,
   "id": "b33d1f56-8eb8-4f9c-98f9-a72337aa4122",
   "metadata": {},
   "outputs": [],
   "source": [
    "model.compile(loss=tf.keras.losses.sparse_categorical_crossentropy,\n",
    "              optimizer='adam',metrics=['acc'])"
   ]
  },
  {
   "cell_type": "code",
   "execution_count": 87,
   "id": "299a7286-edb9-4290-9076-f294354de2ad",
   "metadata": {},
   "outputs": [],
   "source": [
    "x_train_reshape = x_train.to_numpy().reshape(-1,28,28,1)\n",
    "# model.fit("
   ]
  },
  {
   "cell_type": "code",
   "execution_count": null,
   "id": "7e987c98-9666-484a-8dc8-613504f2404d",
   "metadata": {},
   "outputs": [
    {
     "name": "stdout",
     "output_type": "stream",
     "text": [
      " 130/1875 [=>............................] - ETA: 40s - loss: 1.0155 - acc: 0.6978"
     ]
    }
   ],
   "source": [
    "model.fit(x_train_reshape,y_train)"
   ]
  },
  {
   "cell_type": "code",
   "execution_count": null,
   "id": "31813977-7bf2-495a-bd78-579a747cf5a0",
   "metadata": {},
   "outputs": [],
   "source": []
  }
 ],
 "metadata": {
  "kernelspec": {
   "display_name": "Python 3 (ipykernel)",
   "language": "python",
   "name": "python3"
  },
  "language_info": {
   "codemirror_mode": {
    "name": "ipython",
    "version": 3
   },
   "file_extension": ".py",
   "mimetype": "text/x-python",
   "name": "python",
   "nbconvert_exporter": "python",
   "pygments_lexer": "ipython3",
   "version": "3.9.12"
  }
 },
 "nbformat": 4,
 "nbformat_minor": 5
}
