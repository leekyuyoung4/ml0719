{
 "cells": [
  {
   "cell_type": "code",
   "execution_count": 51,
   "id": "4362e936",
   "metadata": {},
   "outputs": [],
   "source": [
    "# 이진분류.. 영화리뷰"
   ]
  },
  {
   "cell_type": "code",
   "execution_count": 52,
   "id": "efdb7eef",
   "metadata": {},
   "outputs": [],
   "source": [
    "from tensorflow.keras.datasets import imdb"
   ]
  },
  {
   "cell_type": "code",
   "execution_count": 53,
   "id": "351c3fa4",
   "metadata": {},
   "outputs": [],
   "source": [
    "(x_train,y_train),(x_test,y_test) = imdb.load_data(num_words=1000)"
   ]
  },
  {
   "cell_type": "code",
   "execution_count": 54,
   "id": "93874be2",
   "metadata": {},
   "outputs": [],
   "source": [
    "# 리뷰를 텍스트로 디코딩"
   ]
  },
  {
   "cell_type": "code",
   "execution_count": 55,
   "id": "d01b02bb",
   "metadata": {},
   "outputs": [],
   "source": [
    "import tensorflow as tf"
   ]
  },
  {
   "cell_type": "code",
   "execution_count": 56,
   "id": "eb61c888",
   "metadata": {},
   "outputs": [],
   "source": [
    "word_index = imdb.get_word_index()"
   ]
  },
  {
   "cell_type": "code",
   "execution_count": 57,
   "id": "134c9b0c",
   "metadata": {},
   "outputs": [],
   "source": [
    "reverse_word_index = dict(\n",
    "    [(value,key) for (key,value) in word_index.items()]    \n",
    ")"
   ]
  },
  {
   "cell_type": "code",
   "execution_count": 58,
   "id": "415f55d9",
   "metadata": {},
   "outputs": [],
   "source": [
    "decoded_review = \" \".join(\n",
    "    reverse_word_index.get(i-3,\"?\") for i in x_train[0]\n",
    ")"
   ]
  },
  {
   "cell_type": "code",
   "execution_count": 59,
   "id": "be19c06f",
   "metadata": {},
   "outputs": [],
   "source": [
    "# 데이터 준비\n",
    "# 숫자를 멀티 - 핫 인코딩\n",
    "import numpy as np\n",
    "from tensorflow.keras.datasets import imdb\n",
    "(x_train,y_train),(x_test,y_test) = imdb.load_data(num_words=1000)\n",
    "def vectorize_sequences(sequences,dimension = 1000):\n",
    "    results = np.zeros((len(sequences),dimension ))\n",
    "    for i, sequence in enumerate(sequences):\n",
    "        for j in sequence:\n",
    "            results[i, j] = 1.\n",
    "    return results\n",
    "x_train = vectorize_sequences(x_train)\n",
    "x_test = vectorize_sequences(x_test)    "
   ]
  },
  {
   "cell_type": "code",
   "execution_count": 60,
   "id": "ac82c69d",
   "metadata": {},
   "outputs": [
    {
     "data": {
      "text/plain": [
       "(2, 2)"
      ]
     },
     "execution_count": 60,
     "metadata": {},
     "output_type": "execute_result"
    }
   ],
   "source": [
    "temp = [\n",
    "    [1,2],\n",
    "    [3,4]\n",
    "]\n",
    "temp = np.array(temp)\n",
    "temp.shape"
   ]
  },
  {
   "cell_type": "code",
   "execution_count": 61,
   "id": "eee0f49a",
   "metadata": {},
   "outputs": [
    {
     "data": {
      "text/plain": [
       "array([[0., 1., 1., 0., 0.],\n",
       "       [0., 0., 0., 1., 1.]])"
      ]
     },
     "execution_count": 61,
     "metadata": {},
     "output_type": "execute_result"
    }
   ],
   "source": [
    "vectorize_sequences(temp,5)"
   ]
  },
  {
   "cell_type": "code",
   "execution_count": 65,
   "id": "6929fc32",
   "metadata": {},
   "outputs": [],
   "source": [
    "y_train = np.asarray(y_train).astype('float32')\n",
    "y_test = np.asarray(y_test).astype('float32') "
   ]
  },
  {
   "cell_type": "code",
   "execution_count": 66,
   "id": "befbcd34",
   "metadata": {},
   "outputs": [],
   "source": [
    "# 신경망 모델"
   ]
  },
  {
   "cell_type": "code",
   "execution_count": 67,
   "id": "c9c32655",
   "metadata": {},
   "outputs": [],
   "source": [
    "from tensorflow import keras\n",
    "from tensorflow.keras import layers"
   ]
  },
  {
   "cell_type": "code",
   "execution_count": 68,
   "id": "2a096b2e",
   "metadata": {},
   "outputs": [],
   "source": [
    "model = keras.Sequential([\n",
    "    layers.Dense(16,activation='relu'),\n",
    "    layers.Dense(16,activation='relu'),\n",
    "    layers.Dense(1,activation='sigmoid')\n",
    "])"
   ]
  },
  {
   "cell_type": "code",
   "execution_count": 69,
   "id": "5b13d9a2",
   "metadata": {},
   "outputs": [],
   "source": [
    "model.compile(optimizer='adam',loss=tf.keras.losses.binary_crossentropy,metrics=['acc'])"
   ]
  },
  {
   "cell_type": "code",
   "execution_count": 71,
   "id": "c0f6e7dd",
   "metadata": {},
   "outputs": [],
   "source": [
    "#훈련데이터를 학습용 과 검증용\n",
    "from sklearn.model_selection import train_test_split\n",
    "x_tr,x_val,y_tr,y_val = train_test_split(x_train,y_train,random_state=32)"
   ]
  },
  {
   "cell_type": "code",
   "execution_count": 74,
   "id": "36727ff3",
   "metadata": {},
   "outputs": [
    {
     "data": {
      "text/plain": [
       "((18750, 1000), (6250, 1000))"
      ]
     },
     "execution_count": 74,
     "metadata": {},
     "output_type": "execute_result"
    }
   ],
   "source": [
    "x_tr.shape, x_val.shape"
   ]
  },
  {
   "cell_type": "code",
   "execution_count": 75,
   "id": "e4e981b6",
   "metadata": {},
   "outputs": [],
   "source": [
    "# 모델 훈련"
   ]
  },
  {
   "cell_type": "code",
   "execution_count": 76,
   "id": "d78f3211",
   "metadata": {},
   "outputs": [
    {
     "name": "stdout",
     "output_type": "stream",
     "text": [
      "Epoch 1/20\n",
      "37/37 [==============================] - 1s 13ms/step - loss: 0.6212 - acc: 0.6913 - val_loss: 0.5090 - val_acc: 0.7906\n",
      "Epoch 2/20\n",
      "37/37 [==============================] - 0s 6ms/step - loss: 0.4322 - acc: 0.8259 - val_loss: 0.3735 - val_acc: 0.8426\n",
      "Epoch 3/20\n",
      "37/37 [==============================] - 0s 5ms/step - loss: 0.3454 - acc: 0.8564 - val_loss: 0.3369 - val_acc: 0.8566\n",
      "Epoch 4/20\n",
      "37/37 [==============================] - 0s 5ms/step - loss: 0.3168 - acc: 0.8695 - val_loss: 0.3337 - val_acc: 0.8579\n",
      "Epoch 5/20\n",
      "37/37 [==============================] - 0s 6ms/step - loss: 0.3046 - acc: 0.8763 - val_loss: 0.3302 - val_acc: 0.8600\n",
      "Epoch 6/20\n",
      "37/37 [==============================] - 0s 6ms/step - loss: 0.2983 - acc: 0.8777 - val_loss: 0.3307 - val_acc: 0.8587\n",
      "Epoch 7/20\n",
      "37/37 [==============================] - 0s 6ms/step - loss: 0.2953 - acc: 0.8796 - val_loss: 0.3330 - val_acc: 0.8587\n",
      "Epoch 8/20\n",
      "37/37 [==============================] - 0s 5ms/step - loss: 0.2919 - acc: 0.8802 - val_loss: 0.3357 - val_acc: 0.8573\n",
      "Epoch 9/20\n",
      "37/37 [==============================] - 0s 6ms/step - loss: 0.2898 - acc: 0.8815 - val_loss: 0.3351 - val_acc: 0.8584\n",
      "Epoch 10/20\n",
      "37/37 [==============================] - 0s 6ms/step - loss: 0.2880 - acc: 0.8818 - val_loss: 0.3363 - val_acc: 0.8595\n",
      "Epoch 11/20\n",
      "37/37 [==============================] - 0s 7ms/step - loss: 0.2855 - acc: 0.8826 - val_loss: 0.3359 - val_acc: 0.8586\n",
      "Epoch 12/20\n",
      "37/37 [==============================] - 0s 6ms/step - loss: 0.2833 - acc: 0.8833 - val_loss: 0.3427 - val_acc: 0.8536\n",
      "Epoch 13/20\n",
      "37/37 [==============================] - 0s 6ms/step - loss: 0.2819 - acc: 0.8820 - val_loss: 0.3375 - val_acc: 0.8589\n",
      "Epoch 14/20\n",
      "37/37 [==============================] - 0s 7ms/step - loss: 0.2771 - acc: 0.8860 - val_loss: 0.3377 - val_acc: 0.8571\n",
      "Epoch 15/20\n",
      "37/37 [==============================] - 0s 6ms/step - loss: 0.2739 - acc: 0.8863 - val_loss: 0.3434 - val_acc: 0.8566\n",
      "Epoch 16/20\n",
      "37/37 [==============================] - 0s 7ms/step - loss: 0.2697 - acc: 0.8886 - val_loss: 0.3409 - val_acc: 0.8598\n",
      "Epoch 17/20\n",
      "37/37 [==============================] - 0s 7ms/step - loss: 0.2637 - acc: 0.8915 - val_loss: 0.3392 - val_acc: 0.8562\n",
      "Epoch 18/20\n",
      "37/37 [==============================] - 0s 7ms/step - loss: 0.2574 - acc: 0.8945 - val_loss: 0.3411 - val_acc: 0.8570\n",
      "Epoch 19/20\n",
      "37/37 [==============================] - 0s 7ms/step - loss: 0.2517 - acc: 0.8970 - val_loss: 0.3486 - val_acc: 0.8549\n",
      "Epoch 20/20\n",
      "37/37 [==============================] - 0s 7ms/step - loss: 0.2475 - acc: 0.8980 - val_loss: 0.3458 - val_acc: 0.8552\n"
     ]
    }
   ],
   "source": [
    "hist = model.fit(x_tr,y_tr,epochs=20,batch_size=512,validation_data=(x_val,y_val))"
   ]
  },
  {
   "cell_type": "code",
   "execution_count": 77,
   "id": "93d36ff2",
   "metadata": {},
   "outputs": [
    {
     "data": {
      "text/plain": [
       "dict_keys(['loss', 'acc', 'val_loss', 'val_acc'])"
      ]
     },
     "execution_count": 77,
     "metadata": {},
     "output_type": "execute_result"
    }
   ],
   "source": [
    "hist.history.keys()"
   ]
  },
  {
   "cell_type": "code",
   "execution_count": 78,
   "id": "2c2a52f1",
   "metadata": {},
   "outputs": [
    {
     "data": {
      "image/png": "[encoded data removed]",
      "text/plain": [
       "<Figure size 432x288 with 1 Axes>"
      ]
     },
     "metadata": {
      "needs_background": "light"
     },
     "output_type": "display_data"
    }
   ],
   "source": [
    "import matplotlib.pyplot as plt\n",
    "history_dict = hist.history\n",
    "loss_values = history_dict['loss']\n",
    "val_loss_values = history_dict['val_loss']\n",
    "epochs = range(1,len(loss_values)+1)\n",
    "plt.plot(epochs, loss_values,\"bo\", label=\"Training loss\")\n",
    "plt.plot(epochs, val_loss_values,\"b\", label=\"Validation loss\")\n",
    "plt.legend()\n",
    "plt.show()"
   ]
  },
  {
   "cell_type": "code",
   "execution_count": 79,
   "id": "fb937166",
   "metadata": {},
   "outputs": [
    {
     "data": {
      "image/png": "[encoded data removed]",
      "text/plain": [
       "<Figure size 432x288 with 1 Axes>"
      ]
     },
     "metadata": {
      "needs_background": "light"
     },
     "output_type": "display_data"
    }
   ],
   "source": [
    "history_dict = hist.history\n",
    "loss_values = history_dict['acc']\n",
    "val_loss_values = history_dict['val_acc']\n",
    "epochs = range(1,len(loss_values)+1)\n",
    "plt.plot(epochs, loss_values,\"bo\", label=\"Training acc\")\n",
    "plt.plot(epochs, val_loss_values,\"b\", label=\"Validation acc\")\n",
    "plt.legend()\n",
    "plt.show()"
   ]
  },
  {
   "cell_type": "code",
   "execution_count": 80,
   "id": "349edce2",
   "metadata": {},
   "outputs": [
    {
     "name": "stdout",
     "output_type": "stream",
     "text": [
      "782/782 [==============================] - 1s 951us/step\n"
     ]
    },
    {
     "data": {
      "text/plain": [
       "array([[0.09380347],\n",
       "       [0.9974527 ],\n",
       "       [0.6163818 ],\n",
       "       ...,\n",
       "       [0.05737863],\n",
       "       [0.22984079],\n",
       "       [0.17025265]], dtype=float32)"
      ]
     },
     "execution_count": 80,
     "metadata": {},
     "output_type": "execute_result"
    }
   ],
   "source": [
    "# 예측\n",
    "model.predict(x_test)"
   ]
  },
  {
   "cell_type": "code",
   "execution_count": 82,
   "id": "2e6038b8",
   "metadata": {},
   "outputs": [
    {
     "name": "stdout",
     "output_type": "stream",
     "text": [
      "782/782 [==============================] - 1s 1ms/step - loss: 0.3454 - acc: 0.8530\n"
     ]
    },
    {
     "data": {
      "text/plain": [
       "[0.34541022777557373, 0.8530399799346924]"
      ]
     },
     "execution_count": 82,
     "metadata": {},
     "output_type": "execute_result"
    }
   ],
   "source": [
    "model.evaluate(x_test,y_test)"
   ]
  },
  {
   "cell_type": "code",
   "execution_count": 164,
   "id": "4b3fcf21",
   "metadata": {},
   "outputs": [],
   "source": [
    "# 다중분류\n",
    "from tensorflow.keras.datasets import reuters"
   ]
  },
  {
   "cell_type": "code",
   "execution_count": 165,
   "id": "dc487413",
   "metadata": {},
   "outputs": [],
   "source": [
    "(x_train,y_train),(x_test,y_test)= reuters.load_data(num_words=10000)"
   ]
  },
  {
   "cell_type": "code",
   "execution_count": 166,
   "id": "c00a0c9c",
   "metadata": {},
   "outputs": [
    {
     "data": {
      "text/plain": [
       "8982"
      ]
     },
     "execution_count": 166,
     "metadata": {},
     "output_type": "execute_result"
    }
   ],
   "source": [
    "len(x_train)"
   ]
  },
  {
   "cell_type": "code",
   "execution_count": 167,
   "id": "a5b4ac6a",
   "metadata": {},
   "outputs": [],
   "source": [
    "x_train = vectorize_sequences(x_train,10000)\n",
    "x_test = vectorize_sequences(x_test,10000)"
   ]
  },
  {
   "cell_type": "code",
   "execution_count": 168,
   "id": "9140ef8b",
   "metadata": {},
   "outputs": [],
   "source": [
    "# 레이블 인코딩"
   ]
  },
  {
   "cell_type": "code",
   "execution_count": 169,
   "id": "61772e9b",
   "metadata": {},
   "outputs": [],
   "source": [
    "# y_train = tf.keras.utils.to_categorical(y_train)\n",
    "# y_test = tf.keras.utils.to_categorical(y_test)"
   ]
  },
  {
   "cell_type": "code",
   "execution_count": 170,
   "id": "bd54d413",
   "metadata": {},
   "outputs": [
    {
     "data": {
      "text/plain": [
       "((8982, 10000), (2246, 10000), (8982,), (2246,))"
      ]
     },
     "execution_count": 170,
     "metadata": {},
     "output_type": "execute_result"
    }
   ],
   "source": [
    "x_train.shape, x_test.shape, y_train.shape, y_test.shape"
   ]
  },
  {
   "cell_type": "code",
   "execution_count": 186,
   "id": "3d168c37",
   "metadata": {},
   "outputs": [],
   "source": [
    "# 모델 정의\n",
    "model = tf.keras.Sequential([\n",
    "    layers.Dense(128,activation='relu'),\n",
    "    layers.Dropout(0.25),\n",
    "    layers.Dense(64,activation='relu'),\n",
    "    layers.Dropout(0.5),\n",
    "    layers.Dense(32,activation='relu'),\n",
    "    layers.Dropout(0.5),\n",
    "    layers.Dense(46,activation='softmax')\n",
    "])"
   ]
  },
  {
   "cell_type": "code",
   "execution_count": 187,
   "id": "e1060b5d",
   "metadata": {},
   "outputs": [],
   "source": [
    "model.compile(optimizer='adam',loss=tf.keras.losses.sparse_categorical_crossentropy,metrics=['accuracy'])"
   ]
  },
  {
   "cell_type": "code",
   "execution_count": 188,
   "id": "5bc59a67",
   "metadata": {},
   "outputs": [],
   "source": [
    "x_tr,x_val,y_tr,y_val = train_test_split(x_train,y_train)"
   ]
  },
  {
   "cell_type": "code",
   "execution_count": 189,
   "id": "f820a616",
   "metadata": {},
   "outputs": [
    {
     "name": "stdout",
     "output_type": "stream",
     "text": [
      "Epoch 1/30\n",
      "53/53 [==============================] - 2s 19ms/step - loss: 2.9785 - accuracy: 0.2862 - val_loss: 1.8268 - val_accuracy: 0.5454\n",
      "Epoch 2/30\n",
      "53/53 [==============================] - 1s 19ms/step - loss: 1.9246 - accuracy: 0.5129 - val_loss: 1.5034 - val_accuracy: 0.6309\n",
      "Epoch 3/30\n",
      "53/53 [==============================] - 1s 19ms/step - loss: 1.6002 - accuracy: 0.5984 - val_loss: 1.3450 - val_accuracy: 0.7155\n",
      "Epoch 4/30\n",
      "53/53 [==============================] - 1s 21ms/step - loss: 1.3950 - accuracy: 0.6577 - val_loss: 1.2816 - val_accuracy: 0.7173\n",
      "Epoch 5/30\n",
      "53/53 [==============================] - 1s 21ms/step - loss: 1.2417 - accuracy: 0.6914 - val_loss: 1.2398 - val_accuracy: 0.7208\n",
      "Epoch 6/30\n",
      "53/53 [==============================] - 1s 21ms/step - loss: 1.1351 - accuracy: 0.7132 - val_loss: 1.2406 - val_accuracy: 0.7222\n",
      "Epoch 7/30\n",
      "53/53 [==============================] - 1s 19ms/step - loss: 1.0512 - accuracy: 0.7297 - val_loss: 1.2483 - val_accuracy: 0.7337\n",
      "Epoch 8/30\n",
      "53/53 [==============================] - 1s 17ms/step - loss: 0.9774 - accuracy: 0.7441 - val_loss: 1.2711 - val_accuracy: 0.7431\n",
      "Epoch 9/30\n",
      "53/53 [==============================] - 1s 17ms/step - loss: 0.9365 - accuracy: 0.7537 - val_loss: 1.2822 - val_accuracy: 0.7422\n",
      "Epoch 10/30\n",
      "53/53 [==============================] - 1s 16ms/step - loss: 0.8960 - accuracy: 0.7629 - val_loss: 1.2829 - val_accuracy: 0.7453\n",
      "Epoch 11/30\n",
      "53/53 [==============================] - 1s 18ms/step - loss: 0.8533 - accuracy: 0.7717 - val_loss: 1.2826 - val_accuracy: 0.7489\n",
      "Epoch 12/30\n",
      "53/53 [==============================] - 1s 21ms/step - loss: 0.8180 - accuracy: 0.7763 - val_loss: 1.3162 - val_accuracy: 0.7502\n",
      "Epoch 13/30\n",
      "53/53 [==============================] - 1s 20ms/step - loss: 0.7823 - accuracy: 0.7843 - val_loss: 1.3425 - val_accuracy: 0.7573\n",
      "Epoch 14/30\n",
      "53/53 [==============================] - 1s 21ms/step - loss: 0.7593 - accuracy: 0.7929 - val_loss: 1.3839 - val_accuracy: 0.7578\n",
      "Epoch 15/30\n",
      "53/53 [==============================] - 1s 18ms/step - loss: 0.7466 - accuracy: 0.7936 - val_loss: 1.3678 - val_accuracy: 0.7596\n",
      "Epoch 16/30\n",
      "53/53 [==============================] - 1s 19ms/step - loss: 0.7272 - accuracy: 0.7981 - val_loss: 1.4368 - val_accuracy: 0.7654\n",
      "Epoch 17/30\n",
      "53/53 [==============================] - 1s 19ms/step - loss: 0.6972 - accuracy: 0.8033 - val_loss: 1.4300 - val_accuracy: 0.7609\n",
      "Epoch 18/30\n",
      "53/53 [==============================] - 1s 20ms/step - loss: 0.6699 - accuracy: 0.8069 - val_loss: 1.5209 - val_accuracy: 0.7645\n",
      "Epoch 19/30\n",
      "53/53 [==============================] - 1s 17ms/step - loss: 0.6506 - accuracy: 0.8153 - val_loss: 1.4971 - val_accuracy: 0.7671\n",
      "Epoch 20/30\n",
      "53/53 [==============================] - 1s 17ms/step - loss: 0.6408 - accuracy: 0.8143 - val_loss: 1.5326 - val_accuracy: 0.7680\n",
      "Epoch 21/30\n",
      "53/53 [==============================] - 1s 16ms/step - loss: 0.6332 - accuracy: 0.8207 - val_loss: 1.5352 - val_accuracy: 0.7716\n",
      "Epoch 22/30\n",
      "53/53 [==============================] - 1s 16ms/step - loss: 0.5994 - accuracy: 0.8248 - val_loss: 1.5745 - val_accuracy: 0.7734\n",
      "Epoch 23/30\n",
      "53/53 [==============================] - 1s 15ms/step - loss: 0.5969 - accuracy: 0.8276 - val_loss: 1.5686 - val_accuracy: 0.7716\n",
      "Epoch 24/30\n",
      "53/53 [==============================] - 1s 16ms/step - loss: 0.5920 - accuracy: 0.8299 - val_loss: 1.6187 - val_accuracy: 0.7711\n",
      "Epoch 25/30\n",
      "53/53 [==============================] - 1s 16ms/step - loss: 0.5688 - accuracy: 0.8360 - val_loss: 1.6054 - val_accuracy: 0.7774\n",
      "Epoch 26/30\n",
      "53/53 [==============================] - 1s 17ms/step - loss: 0.5566 - accuracy: 0.8352 - val_loss: 1.6723 - val_accuracy: 0.7752\n",
      "Epoch 27/30\n",
      "53/53 [==============================] - 1s 19ms/step - loss: 0.5641 - accuracy: 0.8365 - val_loss: 1.6077 - val_accuracy: 0.7783\n",
      "Epoch 28/30\n",
      "53/53 [==============================] - 1s 16ms/step - loss: 0.5438 - accuracy: 0.8392 - val_loss: 1.7043 - val_accuracy: 0.7760\n",
      "Epoch 29/30\n",
      "53/53 [==============================] - 1s 18ms/step - loss: 0.5504 - accuracy: 0.8364 - val_loss: 1.6435 - val_accuracy: 0.7801\n",
      "Epoch 30/30\n",
      "53/53 [==============================] - 1s 17ms/step - loss: 0.5349 - accuracy: 0.8416 - val_loss: 1.6669 - val_accuracy: 0.7703\n"
     ]
    }
   ],
   "source": [
    "hist = model.fit(x_tr,y_tr,epochs=30,batch_size=128,validation_data=(x_val,y_val))"
   ]
  },
  {
   "cell_type": "code",
   "execution_count": 190,
   "id": "c399353b",
   "metadata": {},
   "outputs": [
    {
     "data": {
      "image/png": "[encoded data removed]",
      "text/plain": [
       "<Figure size 432x288 with 1 Axes>"
      ]
     },
     "metadata": {
      "needs_background": "light"
     },
     "output_type": "display_data"
    }
   ],
   "source": [
    "import matplotlib.pyplot as plt\n",
    "history_dict = hist.history\n",
    "loss_values = history_dict['accuracy']\n",
    "val_loss_values = history_dict['val_accuracy']\n",
    "epochs = range(1,len(loss_values)+1)\n",
    "plt.plot(epochs, loss_values,\"bo\", label=\"Training acc\")\n",
    "plt.plot(epochs, val_loss_values,\"b\", label=\"Validation acc\")\n",
    "plt.legend()\n",
    "plt.show()"
   ]
  },
  {
   "cell_type": "code",
   "execution_count": 191,
   "id": "11e9c3c7",
   "metadata": {},
   "outputs": [
    {
     "data": {
      "image/png": "[encoded data removed]",
      "text/plain": [
       "<Figure size 432x288 with 1 Axes>"
      ]
     },
     "metadata": {
      "needs_background": "light"
     },
     "output_type": "display_data"
    }
   ],
   "source": [
    "\n",
    "history_dict = hist.history\n",
    "loss_values = history_dict['loss']\n",
    "val_loss_values = history_dict['val_loss']\n",
    "epochs = range(1,len(loss_values)+1)\n",
    "plt.plot(epochs, loss_values,\"bo\", label=\"Training loss\")\n",
    "plt.plot(epochs, val_loss_values,\"b\", label=\"Validation loss\")\n",
    "plt.legend()\n",
    "plt.show()"
   ]
  },
  {
   "cell_type": "code",
   "execution_count": 192,
   "id": "a4eea451",
   "metadata": {},
   "outputs": [
    {
     "name": "stdout",
     "output_type": "stream",
     "text": [
      "71/71 [==============================] - 0s 3ms/step - loss: 1.7800 - accuracy: 0.7614\n"
     ]
    },
    {
     "data": {
      "text/plain": [
       "[1.7799707651138306, 0.7613534927368164]"
      ]
     },
     "execution_count": 192,
     "metadata": {},
     "output_type": "execute_result"
    }
   ],
   "source": [
    "model.evaluate(x_test,y_test)"
   ]
  },
  {
   "cell_type": "code",
   "execution_count": 193,
   "id": "975a5148",
   "metadata": {},
   "outputs": [],
   "source": [
    "# 보스턴 주택 가격\n",
    "from tensorflow.keras.datasets import boston_housing\n",
    "(train_data, train_targets), (test_data, test_targets) = boston_housing.load_data()"
   ]
  },
  {
   "cell_type": "code",
   "execution_count": 194,
   "id": "6411c68c",
   "metadata": {},
   "outputs": [
    {
     "data": {
      "text/plain": [
       "(404, 13)"
      ]
     },
     "execution_count": 194,
     "metadata": {},
     "output_type": "execute_result"
    }
   ],
   "source": [
    "train_data.shape"
   ]
  },
  {
   "cell_type": "code",
   "execution_count": 198,
   "id": "a325bbca",
   "metadata": {},
   "outputs": [],
   "source": [
    "# 데이터 정규화\n",
    "mean = train_data.mean(axis=0)\n",
    "train_data -= mean\n",
    "std = train_data.std(axis=0)\n",
    "train_data /= std\n",
    "\n",
    "test_data -= mean\n",
    "test_data /= std"
   ]
  },
  {
   "cell_type": "code",
   "execution_count": 201,
   "id": "0fe2ed5b",
   "metadata": {},
   "outputs": [],
   "source": [
    "# 모델정의\n",
    "def build_model():\n",
    "    model = keras.Sequential([\n",
    "        layers.Dense(64,activation='relu'),\n",
    "        layers.Dense(64,activation='relu'),\n",
    "        layers.Dense(1)\n",
    "    ])\n",
    "    model.compile(optimizer='adam',loss='mse', metrics=['mae'])\n",
    "    return model"
   ]
  },
  {
   "cell_type": "code",
   "execution_count": 203,
   "id": "d0d57e3c",
   "metadata": {},
   "outputs": [],
   "source": [
    "# k-겹 검증 \n",
    "k = 4\n",
    "num_val_samples =  len(train_data) // k\n",
    "num_epochs = []\n",
    "all_scores = []"
   ]
  },
  {
   "cell_type": "code",
   "execution_count": null,
   "id": "b009ae2a",
   "metadata": {},
   "outputs": [],
   "source": [
    "for i in range(k):\n",
    "    pass"
   ]
  }
 ],
 "metadata": {
  "kernelspec": {
   "display_name": "Python 3 (ipykernel)",
   "language": "python",
   "name": "python3"
  },
  "language_info": {
   "codemirror_mode": {
    "name": "ipython",
    "version": 3
   },
   "file_extension": ".py",
   "mimetype": "text/x-python",
   "name": "python",
   "nbconvert_exporter": "python",
   "pygments_lexer": "ipython3",
   "version": "3.9.12"
  }
 },
 "nbformat": 4,
 "nbformat_minor": 5
}
