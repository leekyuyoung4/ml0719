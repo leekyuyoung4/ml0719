{
 "cells": [
  {
   "cell_type": "code",
   "execution_count": 1,
   "id": "41d0d3b2-d898-4e5c-8fa4-8ddc375e9cee",
   "metadata": {},
   "outputs": [],
   "source": [
    "import numpy as np\n",
    "import pandas as pd\n",
    "import matplotlib.pyplot as plt\n",
    "import seaborn as sns"
   ]
  },
  {
   "cell_type": "code",
   "execution_count": 2,
   "id": "b94487cd-35e7-43b6-a927-1178c7d79dec",
   "metadata": {},
   "outputs": [],
   "source": [
    "CFG = {\n",
    "    'EPOCHS': 30,\n",
    "    'LEARNING_RATE':1e-2,\n",
    "    'BATCH_SIZE':256,\n",
    "    'SEED':41\n",
    "}"
   ]
  },
  {
   "cell_type": "code",
   "execution_count": 3,
   "id": "eae2b110-948c-472a-9807-1965cebbaf5d",
   "metadata": {},
   "outputs": [],
   "source": [
    "localpath = 'D:/leeky_ai/대회/건설기계오일/open/'"
   ]
  },
  {
   "cell_type": "code",
   "execution_count": 4,
   "id": "c3918450-4cb8-4a85-862f-46311ae5eb7f",
   "metadata": {},
   "outputs": [],
   "source": [
    "train = pd.read_csv(localpath+\"train.csv\")\n",
    "test =  pd.read_csv(localpath+\"test.csv\")"
   ]
  },
  {
   "cell_type": "code",
   "execution_count": 5,
   "id": "04bbc0b1-9b4c-49cd-843a-8011d032c0dd",
   "metadata": {},
   "outputs": [],
   "source": [
    "categorical_features = ['COMPONENT_ARBITRARY', 'YEAR']\n",
    "# Inference(실제 진단 환경)에 사용하는 컬럼\n",
    "test_stage_features = ['COMPONENT_ARBITRARY', 'ANONYMOUS_1', 'YEAR' , 'ANONYMOUS_2', 'AG', 'CO', 'CR', 'CU', 'FE', 'H2O', 'MN', 'MO', 'NI', 'PQINDEX', 'TI', 'V', 'V40', 'ZN']"
   ]
  },
  {
   "cell_type": "code",
   "execution_count": 6,
   "id": "628fe21a-7a5b-4f51-af10-631f2e93a7fa",
   "metadata": {},
   "outputs": [],
   "source": [
    "train = train.fillna(0)\n",
    "test = test.fillna(0)"
   ]
  },
  {
   "cell_type": "code",
   "execution_count": 7,
   "id": "fada761d-ceb6-4033-8938-35374f5b4834",
   "metadata": {},
   "outputs": [
    {
     "data": {
      "text/plain": [
       "<AxesSubplot:>"
      ]
     },
     "execution_count": 7,
     "metadata": {},
     "output_type": "execute_result"
    },
    {
     "data": {
      "image/png": "[encoded data removed]",
      "text/plain": [
       "<Figure size 1080x360 with 1 Axes>"
      ]
     },
     "metadata": {
      "needs_background": "light"
     },
     "output_type": "display_data"
    }
   ],
   "source": [
    "# train.describe()\n",
    "plt.figure(figsize=(15,5))\n",
    "sns.boxplot(data = train)"
   ]
  },
  {
   "cell_type": "code",
   "execution_count": 8,
   "id": "a2967357-3d0b-458d-a220-d5131a5d7506",
   "metadata": {},
   "outputs": [
    {
     "data": {
      "text/html": [
       "<div>\n",
       "<style scoped>\n",
       "    .dataframe tbody tr th:only-of-type {\n",
       "        vertical-align: middle;\n",
       "    }\n",
       "\n",
       "    .dataframe tbody tr th {\n",
       "        vertical-align: top;\n",
       "    }\n",
       "\n",
       "    .dataframe thead th {\n",
       "        text-align: right;\n",
       "    }\n",
       "</style>\n",
       "<table border=\"1\" class=\"dataframe\">\n",
       "  <thead>\n",
       "    <tr style=\"text-align: right;\">\n",
       "      <th></th>\n",
       "      <th>ID</th>\n",
       "      <th>COMPONENT_ARBITRARY</th>\n",
       "      <th>ANONYMOUS_1</th>\n",
       "      <th>YEAR</th>\n",
       "      <th>ANONYMOUS_2</th>\n",
       "      <th>AG</th>\n",
       "      <th>CO</th>\n",
       "      <th>CR</th>\n",
       "      <th>CU</th>\n",
       "      <th>FE</th>\n",
       "      <th>H2O</th>\n",
       "      <th>MN</th>\n",
       "      <th>MO</th>\n",
       "      <th>NI</th>\n",
       "      <th>PQINDEX</th>\n",
       "      <th>TI</th>\n",
       "      <th>V</th>\n",
       "      <th>V40</th>\n",
       "      <th>ZN</th>\n",
       "    </tr>\n",
       "  </thead>\n",
       "  <tbody>\n",
       "    <tr>\n",
       "      <th>0</th>\n",
       "      <td>TEST_0000</td>\n",
       "      <td>COMPONENT1</td>\n",
       "      <td>2192</td>\n",
       "      <td>2016</td>\n",
       "      <td>200</td>\n",
       "      <td>0</td>\n",
       "      <td>0</td>\n",
       "      <td>0</td>\n",
       "      <td>1</td>\n",
       "      <td>12</td>\n",
       "      <td>0.0</td>\n",
       "      <td>0</td>\n",
       "      <td>0</td>\n",
       "      <td>0</td>\n",
       "      <td>10</td>\n",
       "      <td>0</td>\n",
       "      <td>0</td>\n",
       "      <td>91.3</td>\n",
       "      <td>1091</td>\n",
       "    </tr>\n",
       "    <tr>\n",
       "      <th>1</th>\n",
       "      <td>TEST_0001</td>\n",
       "      <td>COMPONENT3</td>\n",
       "      <td>2794</td>\n",
       "      <td>2011</td>\n",
       "      <td>200</td>\n",
       "      <td>0</td>\n",
       "      <td>0</td>\n",
       "      <td>2</td>\n",
       "      <td>1</td>\n",
       "      <td>278</td>\n",
       "      <td>0.0</td>\n",
       "      <td>3</td>\n",
       "      <td>0</td>\n",
       "      <td>0</td>\n",
       "      <td>2732</td>\n",
       "      <td>1</td>\n",
       "      <td>0</td>\n",
       "      <td>126.9</td>\n",
       "      <td>12</td>\n",
       "    </tr>\n",
       "    <tr>\n",
       "      <th>2</th>\n",
       "      <td>TEST_0002</td>\n",
       "      <td>COMPONENT2</td>\n",
       "      <td>1982</td>\n",
       "      <td>2010</td>\n",
       "      <td>200</td>\n",
       "      <td>0</td>\n",
       "      <td>0</td>\n",
       "      <td>0</td>\n",
       "      <td>16</td>\n",
       "      <td>5</td>\n",
       "      <td>0.0</td>\n",
       "      <td>0</td>\n",
       "      <td>0</td>\n",
       "      <td>0</td>\n",
       "      <td>11</td>\n",
       "      <td>0</td>\n",
       "      <td>0</td>\n",
       "      <td>44.3</td>\n",
       "      <td>714</td>\n",
       "    </tr>\n",
       "    <tr>\n",
       "      <th>3</th>\n",
       "      <td>TEST_0003</td>\n",
       "      <td>COMPONENT3</td>\n",
       "      <td>1404</td>\n",
       "      <td>2009</td>\n",
       "      <td>200</td>\n",
       "      <td>0</td>\n",
       "      <td>0</td>\n",
       "      <td>3</td>\n",
       "      <td>4</td>\n",
       "      <td>163</td>\n",
       "      <td>0.0</td>\n",
       "      <td>4</td>\n",
       "      <td>3</td>\n",
       "      <td>0</td>\n",
       "      <td>8007</td>\n",
       "      <td>0</td>\n",
       "      <td>0</td>\n",
       "      <td>142.8</td>\n",
       "      <td>94</td>\n",
       "    </tr>\n",
       "    <tr>\n",
       "      <th>4</th>\n",
       "      <td>TEST_0004</td>\n",
       "      <td>COMPONENT2</td>\n",
       "      <td>8225</td>\n",
       "      <td>2013</td>\n",
       "      <td>200</td>\n",
       "      <td>0</td>\n",
       "      <td>0</td>\n",
       "      <td>0</td>\n",
       "      <td>6</td>\n",
       "      <td>13</td>\n",
       "      <td>0.0</td>\n",
       "      <td>0</td>\n",
       "      <td>0</td>\n",
       "      <td>0</td>\n",
       "      <td>16</td>\n",
       "      <td>0</td>\n",
       "      <td>0</td>\n",
       "      <td>63.4</td>\n",
       "      <td>469</td>\n",
       "    </tr>\n",
       "  </tbody>\n",
       "</table>\n",
       "</div>"
      ],
      "text/plain": [
       "          ID COMPONENT_ARBITRARY  ANONYMOUS_1  YEAR  ANONYMOUS_2  AG  CO  CR  \\\n",
       "0  TEST_0000          COMPONENT1         2192  2016          200   0   0   0   \n",
       "1  TEST_0001          COMPONENT3         2794  2011          200   0   0   2   \n",
       "2  TEST_0002          COMPONENT2         1982  2010          200   0   0   0   \n",
       "3  TEST_0003          COMPONENT3         1404  2009          200   0   0   3   \n",
       "4  TEST_0004          COMPONENT2         8225  2013          200   0   0   0   \n",
       "\n",
       "   CU   FE  H2O  MN  MO  NI  PQINDEX  TI  V    V40    ZN  \n",
       "0   1   12  0.0   0   0   0       10   0  0   91.3  1091  \n",
       "1   1  278  0.0   3   0   0     2732   1  0  126.9    12  \n",
       "2  16    5  0.0   0   0   0       11   0  0   44.3   714  \n",
       "3   4  163  0.0   4   3   0     8007   0  0  142.8    94  \n",
       "4   6   13  0.0   0   0   0       16   0  0   63.4   469  "
      ]
     },
     "execution_count": 8,
     "metadata": {},
     "output_type": "execute_result"
    }
   ],
   "source": [
    "test.head()"
   ]
  },
  {
   "cell_type": "code",
   "execution_count": 9,
   "id": "1f9cdb19-c022-4ea8-9ec5-ec4a178eeff0",
   "metadata": {},
   "outputs": [],
   "source": [
    "from sklearn.model_selection import train_test_split\n",
    "all_X = train.drop(['ID', 'Y_LABEL'], axis = 1)\n",
    "all_y = train['Y_LABEL']\n",
    "test = test.drop(['ID'], axis = 1)\n",
    "train_X, val_X, train_y, val_y = train_test_split(all_X, all_y, test_size=0.2, random_state=CFG['SEED'], stratify=all_y)"
   ]
  },
  {
   "cell_type": "code",
   "execution_count": 10,
   "id": "73d5fa50-557a-4dd0-b1db-e478d7ce0f17",
   "metadata": {},
   "outputs": [
    {
     "data": {
      "text/plain": [
       "((11276, 52), (2819, 52), (11276,), (2819,))"
      ]
     },
     "execution_count": 10,
     "metadata": {},
     "output_type": "execute_result"
    }
   ],
   "source": [
    "train_X.shape , val_X.shape, train_y.shape, val_y.shape"
   ]
  },
  {
   "cell_type": "code",
   "execution_count": 11,
   "id": "3df94acb-7e0b-4a16-9343-b974cb236209",
   "metadata": {},
   "outputs": [],
   "source": [
    "from sklearn.preprocessing import RobustScaler, LabelEncoder\n",
    "def get_values(value):\n",
    "    return value.values.reshape(-1, 1)\n",
    "\n",
    "for col in train_X.columns:\n",
    "    if col not in categorical_features:\n",
    "        scaler = RobustScaler()\n",
    "        train_X[col] = scaler.fit_transform(get_values(train_X[col]))\n",
    "        val_X[col] = scaler.transform(get_values(val_X[col]))\n",
    "        if col in test.columns:\n",
    "            test[col] = scaler.transform(get_values(test[col]))\n",
    "            \n",
    "le = LabelEncoder()\n",
    "for col in categorical_features:    \n",
    "    train_X[col] = le.fit_transform(train_X[col])\n",
    "    val_X[col] = le.transform(val_X[col])\n",
    "    if col in test.columns:\n",
    "        test[col] = le.transform(test[col])"
   ]
  },
  {
   "cell_type": "code",
   "execution_count": 12,
   "id": "7900a8da-f8a7-451c-ab89-5e8bed726a76",
   "metadata": {},
   "outputs": [
    {
     "data": {
      "text/html": [
       "<div>\n",
       "<style scoped>\n",
       "    .dataframe tbody tr th:only-of-type {\n",
       "        vertical-align: middle;\n",
       "    }\n",
       "\n",
       "    .dataframe tbody tr th {\n",
       "        vertical-align: top;\n",
       "    }\n",
       "\n",
       "    .dataframe thead th {\n",
       "        text-align: right;\n",
       "    }\n",
       "</style>\n",
       "<table border=\"1\" class=\"dataframe\">\n",
       "  <thead>\n",
       "    <tr style=\"text-align: right;\">\n",
       "      <th></th>\n",
       "      <th>COMPONENT_ARBITRARY</th>\n",
       "      <th>ANONYMOUS_1</th>\n",
       "      <th>YEAR</th>\n",
       "      <th>ANONYMOUS_2</th>\n",
       "      <th>AG</th>\n",
       "      <th>CO</th>\n",
       "      <th>CR</th>\n",
       "      <th>CU</th>\n",
       "      <th>FE</th>\n",
       "      <th>H2O</th>\n",
       "      <th>MN</th>\n",
       "      <th>MO</th>\n",
       "      <th>NI</th>\n",
       "      <th>PQINDEX</th>\n",
       "      <th>TI</th>\n",
       "      <th>V</th>\n",
       "      <th>V40</th>\n",
       "      <th>ZN</th>\n",
       "    </tr>\n",
       "  </thead>\n",
       "  <tbody>\n",
       "    <tr>\n",
       "      <th>0</th>\n",
       "      <td>0</td>\n",
       "      <td>-0.014439</td>\n",
       "      <td>9</td>\n",
       "      <td>0.0</td>\n",
       "      <td>0.0</td>\n",
       "      <td>0.0</td>\n",
       "      <td>-0.333333</td>\n",
       "      <td>-0.1875</td>\n",
       "      <td>-0.232</td>\n",
       "      <td>0.0</td>\n",
       "      <td>-0.5</td>\n",
       "      <td>-0.142857</td>\n",
       "      <td>0.0</td>\n",
       "      <td>-0.105882</td>\n",
       "      <td>0.0</td>\n",
       "      <td>0.0</td>\n",
       "      <td>-0.305215</td>\n",
       "      <td>0.527290</td>\n",
       "    </tr>\n",
       "    <tr>\n",
       "      <th>1</th>\n",
       "      <td>2</td>\n",
       "      <td>0.265952</td>\n",
       "      <td>4</td>\n",
       "      <td>0.0</td>\n",
       "      <td>0.0</td>\n",
       "      <td>0.0</td>\n",
       "      <td>0.333333</td>\n",
       "      <td>-0.1875</td>\n",
       "      <td>1.896</td>\n",
       "      <td>0.0</td>\n",
       "      <td>1.0</td>\n",
       "      <td>-0.142857</td>\n",
       "      <td>0.0</td>\n",
       "      <td>15.905882</td>\n",
       "      <td>1.0</td>\n",
       "      <td>0.0</td>\n",
       "      <td>0.240798</td>\n",
       "      <td>-0.470860</td>\n",
       "    </tr>\n",
       "    <tr>\n",
       "      <th>2</th>\n",
       "      <td>1</td>\n",
       "      <td>-0.112250</td>\n",
       "      <td>3</td>\n",
       "      <td>0.0</td>\n",
       "      <td>0.0</td>\n",
       "      <td>0.0</td>\n",
       "      <td>-0.333333</td>\n",
       "      <td>0.7500</td>\n",
       "      <td>-0.288</td>\n",
       "      <td>0.0</td>\n",
       "      <td>-0.5</td>\n",
       "      <td>-0.142857</td>\n",
       "      <td>0.0</td>\n",
       "      <td>-0.100000</td>\n",
       "      <td>0.0</td>\n",
       "      <td>0.0</td>\n",
       "      <td>-1.026074</td>\n",
       "      <td>0.178538</td>\n",
       "    </tr>\n",
       "    <tr>\n",
       "      <th>3</th>\n",
       "      <td>2</td>\n",
       "      <td>-0.381463</td>\n",
       "      <td>2</td>\n",
       "      <td>0.0</td>\n",
       "      <td>0.0</td>\n",
       "      <td>0.0</td>\n",
       "      <td>0.666667</td>\n",
       "      <td>0.0000</td>\n",
       "      <td>0.976</td>\n",
       "      <td>0.0</td>\n",
       "      <td>1.5</td>\n",
       "      <td>0.285714</td>\n",
       "      <td>0.0</td>\n",
       "      <td>46.935294</td>\n",
       "      <td>0.0</td>\n",
       "      <td>0.0</td>\n",
       "      <td>0.484663</td>\n",
       "      <td>-0.395005</td>\n",
       "    </tr>\n",
       "    <tr>\n",
       "      <th>4</th>\n",
       "      <td>1</td>\n",
       "      <td>2.795529</td>\n",
       "      <td>6</td>\n",
       "      <td>0.0</td>\n",
       "      <td>0.0</td>\n",
       "      <td>0.0</td>\n",
       "      <td>-0.333333</td>\n",
       "      <td>0.1250</td>\n",
       "      <td>-0.224</td>\n",
       "      <td>0.0</td>\n",
       "      <td>-0.5</td>\n",
       "      <td>-0.142857</td>\n",
       "      <td>0.0</td>\n",
       "      <td>-0.070588</td>\n",
       "      <td>0.0</td>\n",
       "      <td>0.0</td>\n",
       "      <td>-0.733129</td>\n",
       "      <td>-0.048104</td>\n",
       "    </tr>\n",
       "  </tbody>\n",
       "</table>\n",
       "</div>"
      ],
      "text/plain": [
       "   COMPONENT_ARBITRARY  ANONYMOUS_1  YEAR  ANONYMOUS_2   AG   CO        CR  \\\n",
       "0                    0    -0.014439     9          0.0  0.0  0.0 -0.333333   \n",
       "1                    2     0.265952     4          0.0  0.0  0.0  0.333333   \n",
       "2                    1    -0.112250     3          0.0  0.0  0.0 -0.333333   \n",
       "3                    2    -0.381463     2          0.0  0.0  0.0  0.666667   \n",
       "4                    1     2.795529     6          0.0  0.0  0.0 -0.333333   \n",
       "\n",
       "       CU     FE  H2O   MN        MO   NI    PQINDEX   TI    V       V40  \\\n",
       "0 -0.1875 -0.232  0.0 -0.5 -0.142857  0.0  -0.105882  0.0  0.0 -0.305215   \n",
       "1 -0.1875  1.896  0.0  1.0 -0.142857  0.0  15.905882  1.0  0.0  0.240798   \n",
       "2  0.7500 -0.288  0.0 -0.5 -0.142857  0.0  -0.100000  0.0  0.0 -1.026074   \n",
       "3  0.0000  0.976  0.0  1.5  0.285714  0.0  46.935294  0.0  0.0  0.484663   \n",
       "4  0.1250 -0.224  0.0 -0.5 -0.142857  0.0  -0.070588  0.0  0.0 -0.733129   \n",
       "\n",
       "         ZN  \n",
       "0  0.527290  \n",
       "1 -0.470860  \n",
       "2  0.178538  \n",
       "3 -0.395005  \n",
       "4 -0.048104  "
      ]
     },
     "execution_count": 12,
     "metadata": {},
     "output_type": "execute_result"
    }
   ],
   "source": [
    "test.head()"
   ]
  },
  {
   "cell_type": "markdown",
   "id": "be253aef-4927-4eaa-aab9-ceab7c7eb7d2",
   "metadata": {},
   "source": [
    "# 지식증류(Knowledge Distillation)"
   ]
  },
  {
   "cell_type": "code",
   "execution_count": 13,
   "id": "191acc70-4cd6-471a-aee9-816ea9ea81a5",
   "metadata": {},
   "outputs": [],
   "source": [
    "import tensorflow as tf\n",
    "from tensorflow import keras\n",
    "from tensorflow.keras import layers\n",
    "import tensorflow.keras"
   ]
  },
  {
   "cell_type": "code",
   "execution_count": 14,
   "id": "b8d0f9b3-f731-4bef-bc86-aba4d08c7ee5",
   "metadata": {},
   "outputs": [
    {
     "data": {
      "text/plain": [
       "(11276, 52)"
      ]
     },
     "execution_count": 14,
     "metadata": {},
     "output_type": "execute_result"
    }
   ],
   "source": [
    "train_X.shape"
   ]
  },
  {
   "cell_type": "code",
   "execution_count": 17,
   "id": "c0dd5850-763c-4266-a2e7-6e122cec424b",
   "metadata": {},
   "outputs": [],
   "source": [
    "# 교사 모델 생성\n",
    "teacher = keras.Sequential(\n",
    "    [\n",
    "    keras.Input(shape=(52,))\n",
    "    ,layers.Dense(256)\n",
    "    ,layers.BatchNormalization()\n",
    "    ,layers.LeakyReLU()\n",
    "    ,layers.Dense(1024)\n",
    "    ,layers.BatchNormalization()\n",
    "    ,layers.LeakyReLU()\n",
    "    ,layers.Dense(256)\n",
    "    ,layers.BatchNormalization()\n",
    "    ,layers.LeakyReLU()\n",
    "    ,layers.Dense(1)\n",
    "    ,layers.BatchNormalization()    \n",
    "    ,layers.Activation(activation='sigmoid')\n",
    "    ],\n",
    "    name = 'teacher'\n",
    ")"
   ]
  },
  {
   "cell_type": "code",
   "execution_count": 16,
   "id": "f9cfcdd0-b6dd-4a5a-b86c-f38b76656969",
   "metadata": {},
   "outputs": [],
   "source": [
    "# 학생 모델 생성\n",
    "student = keras.Sequential(\n",
    "    [\n",
    "    keras.Input(shape=(18,))\n",
    "    ,layers.Dense(128)\n",
    "    ,layers.BatchNormalization()\n",
    "    ,layers.LeakyReLU()\n",
    "    ,layers.Dense(512)\n",
    "    ,layers.BatchNormalization()\n",
    "    ,layers.LeakyReLU()\n",
    "    ,layers.Dense(128)\n",
    "    ,layers.BatchNormalization()\n",
    "    ,layers.LeakyReLU()\n",
    "    ,layers.Dense(1)\n",
    "    ,layers.BatchNormalization()    \n",
    "    ,layers.Activation(activation='sigmoid')\n",
    "    ],\n",
    "    name = 'student'\n",
    ")"
   ]
  },
  {
   "cell_type": "code",
   "execution_count": 18,
   "id": "28786daa-0683-4fc3-a0ab-579438a0a68c",
   "metadata": {},
   "outputs": [],
   "source": [
    "# # 교사모델 훈련\n",
    "# teacher.compile(\n",
    "#     optimizer=keras.optimizers.Adam()\n",
    "#     ,loss = keras.losses.binary_crossentropy\n",
    "#     ,metrics=['acc']\n",
    "# )\n",
    "# callback = [\n",
    "#     keras.callbacks.EarlyStopping(patience = 7),\n",
    "#     keras.callbacks.ModelCheckpoint('teacher.model.keras',save_best_only=True)\n",
    "# ]\n",
    "# teacher.fit(train_X,train_y,epochs=100,callbacks=callback, validation_data=(val_X,val_y))\n",
    "# teacher_loadmodel = keras.models.load_model('teacher.model.keras')\n",
    "# teacher_loadmodel.evaluate(val_X,val_y)"
   ]
  },
  {
   "cell_type": "code",
   "execution_count": 19,
   "id": "6b8ac3e4-65ad-459a-8efb-22acc8d1fea0",
   "metadata": {},
   "outputs": [
    {
     "data": {
      "text/plain": [
       "((11276, 18), (11276,), (2819, 18), (2819,))"
      ]
     },
     "execution_count": 19,
     "metadata": {},
     "output_type": "execute_result"
    }
   ],
   "source": [
    "student_train_X =   train_X.loc[:,test_stage_features]\n",
    "student_val_X = val_X.loc[:,test_stage_features]\n",
    "student_train_X.shape, train_y.shape, student_val_X.shape, val_y.shape"
   ]
  },
  {
   "cell_type": "code",
   "execution_count": 20,
   "id": "ca9964b9-2b15-4613-86bb-96dfdd9a6592",
   "metadata": {},
   "outputs": [
    {
     "name": "stdout",
     "output_type": "stream",
     "text": [
      "Epoch 1/100\n",
      "353/353 [==============================] - 3s 4ms/step - loss: 0.6888 - acc: 0.5827 - val_loss: 0.6066 - val_acc: 0.8414\n",
      "Epoch 2/100\n",
      "353/353 [==============================] - 1s 4ms/step - loss: 0.5400 - acc: 0.8081 - val_loss: 0.4804 - val_acc: 0.8954\n",
      "Epoch 3/100\n",
      "353/353 [==============================] - 1s 4ms/step - loss: 0.4493 - acc: 0.8897 - val_loss: 0.4221 - val_acc: 0.9081\n",
      "Epoch 4/100\n",
      "353/353 [==============================] - 1s 4ms/step - loss: 0.3929 - acc: 0.9092 - val_loss: 0.3751 - val_acc: 0.9110\n",
      "Epoch 5/100\n",
      "353/353 [==============================] - 1s 4ms/step - loss: 0.3561 - acc: 0.9137 - val_loss: 0.3461 - val_acc: 0.9124\n",
      "Epoch 6/100\n",
      "353/353 [==============================] - 1s 4ms/step - loss: 0.3306 - acc: 0.9147 - val_loss: 0.3227 - val_acc: 0.9138\n",
      "Epoch 7/100\n",
      "353/353 [==============================] - 1s 4ms/step - loss: 0.3129 - acc: 0.9147 - val_loss: 0.3115 - val_acc: 0.9131\n",
      "Epoch 8/100\n",
      "353/353 [==============================] - 1s 4ms/step - loss: 0.3010 - acc: 0.9147 - val_loss: 0.3032 - val_acc: 0.9138\n",
      "Epoch 9/100\n",
      "353/353 [==============================] - 1s 4ms/step - loss: 0.2927 - acc: 0.9147 - val_loss: 0.2971 - val_acc: 0.9131\n",
      "Epoch 10/100\n",
      "353/353 [==============================] - 1s 4ms/step - loss: 0.2869 - acc: 0.9147 - val_loss: 0.2947 - val_acc: 0.9124\n",
      "Epoch 11/100\n",
      "353/353 [==============================] - 2s 5ms/step - loss: 0.2831 - acc: 0.9147 - val_loss: 0.2855 - val_acc: 0.9142\n",
      "Epoch 12/100\n",
      "353/353 [==============================] - 2s 5ms/step - loss: 0.2808 - acc: 0.9147 - val_loss: 0.2884 - val_acc: 0.9127\n",
      "Epoch 13/100\n",
      "353/353 [==============================] - 1s 3ms/step - loss: 0.2784 - acc: 0.9147 - val_loss: 0.2878 - val_acc: 0.9131\n",
      "Epoch 14/100\n",
      "353/353 [==============================] - 2s 7ms/step - loss: 0.2771 - acc: 0.9147 - val_loss: 0.2821 - val_acc: 0.9142\n",
      "Epoch 15/100\n",
      "353/353 [==============================] - 2s 5ms/step - loss: 0.2759 - acc: 0.9147 - val_loss: 0.2909 - val_acc: 0.9099\n",
      "Epoch 16/100\n",
      "353/353 [==============================] - 2s 5ms/step - loss: 0.2752 - acc: 0.9147 - val_loss: 0.2818 - val_acc: 0.9134\n",
      "Epoch 17/100\n",
      "353/353 [==============================] - 2s 6ms/step - loss: 0.2746 - acc: 0.9148 - val_loss: 0.2823 - val_acc: 0.9131\n",
      "Epoch 18/100\n",
      "353/353 [==============================] - 3s 8ms/step - loss: 0.2741 - acc: 0.9148 - val_loss: 0.2854 - val_acc: 0.9134\n",
      "Epoch 19/100\n",
      "353/353 [==============================] - 2s 7ms/step - loss: 0.2753 - acc: 0.9148 - val_loss: 0.2822 - val_acc: 0.9131\n",
      "Epoch 20/100\n",
      "353/353 [==============================] - 2s 6ms/step - loss: 0.2738 - acc: 0.9148 - val_loss: 0.2835 - val_acc: 0.9127\n",
      "Epoch 21/100\n",
      "353/353 [==============================] - 1s 4ms/step - loss: 0.2742 - acc: 0.9149 - val_loss: 0.2853 - val_acc: 0.9127\n",
      "Epoch 22/100\n",
      "353/353 [==============================] - 2s 5ms/step - loss: 0.2735 - acc: 0.9147 - val_loss: 0.2795 - val_acc: 0.9134\n",
      "Epoch 23/100\n",
      "353/353 [==============================] - 1s 4ms/step - loss: 0.2742 - acc: 0.9149 - val_loss: 0.2831 - val_acc: 0.9120\n",
      "Epoch 24/100\n",
      "353/353 [==============================] - 1s 3ms/step - loss: 0.2737 - acc: 0.9147 - val_loss: 0.2829 - val_acc: 0.9142\n",
      "Epoch 25/100\n",
      "353/353 [==============================] - 1s 4ms/step - loss: 0.2736 - acc: 0.9150 - val_loss: 0.2840 - val_acc: 0.9127\n",
      "Epoch 26/100\n",
      "353/353 [==============================] - 1s 4ms/step - loss: 0.2719 - acc: 0.9150 - val_loss: 0.2808 - val_acc: 0.9138\n",
      "Epoch 27/100\n",
      "353/353 [==============================] - 2s 6ms/step - loss: 0.2721 - acc: 0.9149 - val_loss: 0.2799 - val_acc: 0.9134\n",
      "Epoch 28/100\n",
      "353/353 [==============================] - 2s 6ms/step - loss: 0.2725 - acc: 0.9153 - val_loss: 0.2846 - val_acc: 0.9131\n",
      "Epoch 29/100\n",
      "353/353 [==============================] - 2s 5ms/step - loss: 0.2720 - acc: 0.9152 - val_loss: 0.2850 - val_acc: 0.9124\n",
      "89/89 [==============================] - 0s 2ms/step - loss: 0.2795 - acc: 0.9134\n"
     ]
    },
    {
     "data": {
      "text/plain": [
       "[0.2794610857963562, 0.913444459438324]"
      ]
     },
     "execution_count": 20,
     "metadata": {},
     "output_type": "execute_result"
    }
   ],
   "source": [
    "# 학생모델 훈련\n",
    "student.compile(\n",
    "    optimizer=keras.optimizers.Adam()\n",
    "    ,loss = keras.losses.binary_crossentropy\n",
    "    ,metrics=['acc']\n",
    ")\n",
    "callback = [\n",
    "    keras.callbacks.EarlyStopping(patience = 7),\n",
    "    keras.callbacks.ModelCheckpoint('student.model.keras',save_best_only=True)\n",
    "]\n",
    "student.fit(student_train_X,train_y,epochs=100,callbacks=callback, validation_data=(student_val_X,val_y))\n",
    "student_loadmodel = keras.models.load_model('student.model.keras')\n",
    "student_loadmodel.evaluate(student_val_X,val_y)"
   ]
  },
  {
   "cell_type": "code",
   "execution_count": 21,
   "id": "381b4da9-0210-4b33-b3c0-bbf60a521c81",
   "metadata": {},
   "outputs": [
    {
     "name": "stdout",
     "output_type": "stream",
     "text": [
      "189/189 [==============================] - 0s 1ms/step\n"
     ]
    },
    {
     "data": {
      "text/plain": [
       "array([[0.05209689],\n",
       "       [0.10687969],\n",
       "       [0.10435835],\n",
       "       ...,\n",
       "       [0.10186332],\n",
       "       [0.04768187],\n",
       "       [0.04109691]], dtype=float32)"
      ]
     },
     "execution_count": 21,
     "metadata": {},
     "output_type": "execute_result"
    }
   ],
   "source": [
    "preds = student_loadmodel.predict(test)\n",
    "preds"
   ]
  },
  {
   "cell_type": "code",
   "execution_count": 22,
   "id": "b1ef6eb1-a3b5-4346-9f8a-68c4b48d6126",
   "metadata": {},
   "outputs": [
    {
     "data": {
      "text/plain": [
       "(array([0., 1.], dtype=float32), array([6036,    5], dtype=int64))"
      ]
     },
     "execution_count": 22,
     "metadata": {},
     "output_type": "execute_result"
    }
   ],
   "source": [
    "np.unique(np.round(preds),return_counts=True)"
   ]
  },
  {
   "cell_type": "code",
   "execution_count": 25,
   "id": "8b02fc68-d7f1-41b1-b283-109938519b2c",
   "metadata": {
    "tags": []
   },
   "outputs": [],
   "source": [
    "submit = pd.read_csv(localpath+'/sample_submission.csv')\n",
    "submit['Y_LABEL'] = np.round(preds)\n",
    "submit.to_csv(localpath+'/submit.csv', index=False)"
   ]
  },
  {
   "cell_type": "code",
   "execution_count": 24,
   "id": "e307bc37-6ea8-486c-b884-fee82cc230cd",
   "metadata": {},
   "outputs": [
    {
     "data": {
      "text/plain": [
       "'D:/leeky_ai/대회/건설기계오일/open/'"
      ]
     },
     "execution_count": 24,
     "metadata": {},
     "output_type": "execute_result"
    }
   ],
   "source": [
    "localpath"
   ]
  },
  {
   "cell_type": "code",
   "execution_count": 31,
   "id": "91383dad-60c0-4886-8bfb-a72eb0e83e1f",
   "metadata": {},
   "outputs": [],
   "source": [
    "# 1.pca를 이용해서 차원을 축소... 차수를 맞춘다.\n",
    "from sklearn.decomposition import PCA\n",
    "pca = PCA(n_components=18)\n",
    "pca_train_x =  pca.fit_transform(train_X)\n",
    "pca_val_x = pca.fit_transform(val_X)"
   ]
  },
  {
   "cell_type": "code",
   "execution_count": 32,
   "id": "06c32309-6d7c-4480-8daa-7ef649e26ac2",
   "metadata": {},
   "outputs": [
    {
     "data": {
      "text/plain": [
       "((11276, 18), (2819, 18), (6041, 18))"
      ]
     },
     "execution_count": 32,
     "metadata": {},
     "output_type": "execute_result"
    }
   ],
   "source": [
    "pca_train_x.shape, pca_val_x.shape,test.shape"
   ]
  },
  {
   "cell_type": "code",
   "execution_count": 45,
   "id": "5c2fd48b-e466-4fb5-9bf7-94f777224b42",
   "metadata": {},
   "outputs": [],
   "source": [
    "from sklearn.ensemble import RandomForestClassifier\n",
    "from sklearn.model_selection import cross_val_score\n",
    "from sklearn.metrics import accuracy_score, precision_score,recall_score,f1_score"
   ]
  },
  {
   "cell_type": "code",
   "execution_count": 50,
   "id": "0f7675e1-7000-4369-a80f-057555855780",
   "metadata": {},
   "outputs": [],
   "source": [
    "# 랜덤 포레스트 모델을 만듭니다. \n",
    "rf = RandomForestClassifier(n_estimators=10, random_state=32, n_jobs=-1)"
   ]
  },
  {
   "cell_type": "code",
   "execution_count": 35,
   "id": "cbb77b00-c471-458e-8949-3e2eb168c55b",
   "metadata": {},
   "outputs": [],
   "source": [
    "# 교차 검증을 수행합니다.\n",
    "scores = cross_val_score(rf, pca_train_x, train_y, cv=5)"
   ]
  },
  {
   "cell_type": "code",
   "execution_count": 38,
   "id": "9573ab38-d83c-49fd-8210-6f7c97f3ca6c",
   "metadata": {},
   "outputs": [
    {
     "name": "stdout",
     "output_type": "stream",
     "text": [
      "정확도 : [0.95  0.952 0.953 0.95  0.947]\n",
      "정확도 평균 : 0.951\n"
     ]
    }
   ],
   "source": [
    "print(f\"정확도 : {np.round(scores,3)}\")\n",
    "print(f\"정확도 평균 : {np.mean(scores):.3f}\")"
   ]
  },
  {
   "cell_type": "code",
   "execution_count": 51,
   "id": "1ce34205-d376-433d-9a0f-4fe84515006c",
   "metadata": {},
   "outputs": [
    {
     "name": "stdout",
     "output_type": "stream",
     "text": [
      "정확률 : 0.8797445902802412\n",
      "정밀도 : 0.31950207468879666\n",
      "재현율 : 0.3055555555555556\n",
      "f1_score : 0.31237322515212984\n"
     ]
    }
   ],
   "source": [
    "rf.fit(pca_train_x, train_y)\n",
    "predict = rf.predict(pca_val_x)\n",
    "print(f\"정확률 : {accuracy_score(predict,val_y)}\")\n",
    "print(f\"정밀도 : {precision_score(predict,val_y)}\")\n",
    "print(f\"재현율 : {recall_score(predict,val_y)}\")\n",
    "print(f\"f1_score : {f1_score(predict,val_y)}\")"
   ]
  },
  {
   "cell_type": "code",
   "execution_count": 53,
   "id": "5c5cb1f4-4dfb-4802-a121-d856f76893d7",
   "metadata": {},
   "outputs": [
    {
     "name": "stdout",
     "output_type": "stream",
     "text": [
      "정확률 : 0.8850656261085491\n",
      "정밀도 : 0.34024896265560167\n",
      "재현율 : 0.3319838056680162\n",
      "f1_score : 0.33606557377049184\n"
     ]
    }
   ],
   "source": [
    "from sklearn.tree import DecisionTreeClassifier\n",
    "dtc= DecisionTreeClassifier(max_depth=3)\n",
    "dtc.fit(pca_train_x,train_y)\n",
    "predict = dtc.predict(pca_val_x)\n",
    "print(f\"정확률 : {accuracy_score(predict,val_y)}\")\n",
    "print(f\"정밀도 : {precision_score(predict,val_y)}\")\n",
    "print(f\"재현율 : {recall_score(predict,val_y)}\")\n",
    "print(f\"f1_score : {f1_score(predict,val_y)}\")"
   ]
  },
  {
   "cell_type": "code",
   "execution_count": 54,
   "id": "01c57ead-eba3-400e-92de-395186f54c3d",
   "metadata": {},
   "outputs": [
    {
     "name": "stdout",
     "output_type": "stream",
     "text": [
      "정확률 : 0.8854203618304364\n",
      "정밀도 : 0.34024896265560167\n",
      "재현율 : 0.3333333333333333\n",
      "f1_score : 0.33675564681724846\n"
     ]
    }
   ],
   "source": [
    "from sklearn.ensemble import GradientBoostingClassifier\n",
    "gbc =  GradientBoostingClassifier(max_depth=2,n_estimators=3, random_state=2, learning_rate=1.0)\n",
    "gbc.fit(pca_train_x,train_y)\n",
    "predict = gbc.predict(pca_val_x)\n",
    "print(f\"정확률 : {accuracy_score(predict,val_y)}\")\n",
    "print(f\"정밀도 : {precision_score(predict,val_y)}\")\n",
    "print(f\"재현율 : {recall_score(predict,val_y)}\")\n",
    "print(f\"f1_score : {f1_score(predict,val_y)}\")"
   ]
  },
  {
   "cell_type": "code",
   "execution_count": 57,
   "id": "e2be165a-8439-4517-b6ce-56dea6f7c89d",
   "metadata": {},
   "outputs": [
    {
     "name": "stdout",
     "output_type": "stream",
     "text": [
      "Fitting 5 folds for each of 10 candidates, totalling 50 fits\n"
     ]
    },
    {
     "data": {
      "text/html": [
       "<style>#sk-container-id-3 {color: black;background-color: white;}#sk-container-id-3 pre{padding: 0;}#sk-container-id-3 div.sk-toggleable {background-color: white;}#sk-container-id-3 label.sk-toggleable__label {cursor: pointer;display: block;width: 100%;margin-bottom: 0;padding: 0.3em;box-sizing: border-box;text-align: center;}#sk-container-id-3 label.sk-toggleable__label-arrow:before {content: \"▸\";float: left;margin-right: 0.25em;color: #696969;}#sk-container-id-3 label.sk-toggleable__label-arrow:hover:before {color: black;}#sk-container-id-3 div.sk-estimator:hover label.sk-toggleable__label-arrow:before {color: black;}#sk-container-id-3 div.sk-toggleable__content {max-height: 0;max-width: 0;overflow: hidden;text-align: left;background-color: #f0f8ff;}#sk-container-id-3 div.sk-toggleable__content pre {margin: 0.2em;color: black;border-radius: 0.25em;background-color: #f0f8ff;}#sk-container-id-3 input.sk-toggleable__control:checked~div.sk-toggleable__content {max-height: 200px;max-width: 100%;overflow: auto;}#sk-container-id-3 input.sk-toggleable__control:checked~label.sk-toggleable__label-arrow:before {content: \"▾\";}#sk-container-id-3 div.sk-estimator input.sk-toggleable__control:checked~label.sk-toggleable__label {background-color: #d4ebff;}#sk-container-id-3 div.sk-label input.sk-toggleable__control:checked~label.sk-toggleable__label {background-color: #d4ebff;}#sk-container-id-3 input.sk-hidden--visually {border: 0;clip: rect(1px 1px 1px 1px);clip: rect(1px, 1px, 1px, 1px);height: 1px;margin: -1px;overflow: hidden;padding: 0;position: absolute;width: 1px;}#sk-container-id-3 div.sk-estimator {font-family: monospace;background-color: #f0f8ff;border: 1px dotted black;border-radius: 0.25em;box-sizing: border-box;margin-bottom: 0.5em;}#sk-container-id-3 div.sk-estimator:hover {background-color: #d4ebff;}#sk-container-id-3 div.sk-parallel-item::after {content: \"\";width: 100%;border-bottom: 1px solid gray;flex-grow: 1;}#sk-container-id-3 div.sk-label:hover label.sk-toggleable__label {background-color: #d4ebff;}#sk-container-id-3 div.sk-serial::before {content: \"\";position: absolute;border-left: 1px solid gray;box-sizing: border-box;top: 0;bottom: 0;left: 50%;z-index: 0;}#sk-container-id-3 div.sk-serial {display: flex;flex-direction: column;align-items: center;background-color: white;padding-right: 0.2em;padding-left: 0.2em;position: relative;}#sk-container-id-3 div.sk-item {position: relative;z-index: 1;}#sk-container-id-3 div.sk-parallel {display: flex;align-items: stretch;justify-content: center;background-color: white;position: relative;}#sk-container-id-3 div.sk-item::before, #sk-container-id-3 div.sk-parallel-item::before {content: \"\";position: absolute;border-left: 1px solid gray;box-sizing: border-box;top: 0;bottom: 0;left: 50%;z-index: -1;}#sk-container-id-3 div.sk-parallel-item {display: flex;flex-direction: column;z-index: 1;position: relative;background-color: white;}#sk-container-id-3 div.sk-parallel-item:first-child::after {align-self: flex-end;width: 50%;}#sk-container-id-3 div.sk-parallel-item:last-child::after {align-self: flex-start;width: 50%;}#sk-container-id-3 div.sk-parallel-item:only-child::after {width: 0;}#sk-container-id-3 div.sk-dashed-wrapped {border: 1px dashed gray;margin: 0 0.4em 0.5em 0.4em;box-sizing: border-box;padding-bottom: 0.4em;background-color: white;}#sk-container-id-3 div.sk-label label {font-family: monospace;font-weight: bold;display: inline-block;line-height: 1.2em;}#sk-container-id-3 div.sk-label-container {text-align: center;}#sk-container-id-3 div.sk-container {/* jupyter's `normalize.less` sets `[hidden] { display: none; }` but bootstrap.min.css set `[hidden] { display: none !important; }` so we also need the `!important` here to be able to override the default hidden behavior on the sphinx rendered scikit-learn.org. See: https://github.com/scikit-learn/scikit-learn/issues/21755 */display: inline-block !important;position: relative;}#sk-container-id-3 div.sk-text-repr-fallback {display: none;}</style><div id=\"sk-container-id-3\" class=\"sk-top-container\"><div class=\"sk-text-repr-fallback\"><pre>RandomizedSearchCV(cv=5,\n",
       "                   estimator=GradientBoostingClassifier(learning_rate=1.0,\n",
       "                                                        max_depth=2,\n",
       "                                                        n_estimators=3,\n",
       "                                                        random_state=2),\n",
       "                   n_jobs=-1,\n",
       "                   param_distributions={&#x27;learning_rate&#x27;: [0.05, 0.075, 0.1],\n",
       "                                        &#x27;n_estimators&#x27;: [300, 500, 1000],\n",
       "                                        &#x27;subsample&#x27;: [0.65, 0.7, 0.75]},\n",
       "                   random_state=2, scoring=&#x27;neg_mean_squared_error&#x27;, verbose=2)</pre><b>In a Jupyter environment, please rerun this cell to show the HTML representation or trust the notebook. <br />On GitHub, the HTML representation is unable to render, please try loading this page with nbviewer.org.</b></div><div class=\"sk-container\" hidden><div class=\"sk-item sk-dashed-wrapped\"><div class=\"sk-label-container\"><div class=\"sk-label sk-toggleable\"><input class=\"sk-toggleable__control sk-hidden--visually\" id=\"sk-estimator-id-3\" type=\"checkbox\" ><label for=\"sk-estimator-id-3\" class=\"sk-toggleable__label sk-toggleable__label-arrow\">RandomizedSearchCV</label><div class=\"sk-toggleable__content\"><pre>RandomizedSearchCV(cv=5,\n",
       "                   estimator=GradientBoostingClassifier(learning_rate=1.0,\n",
       "                                                        max_depth=2,\n",
       "                                                        n_estimators=3,\n",
       "                                                        random_state=2),\n",
       "                   n_jobs=-1,\n",
       "                   param_distributions={&#x27;learning_rate&#x27;: [0.05, 0.075, 0.1],\n",
       "                                        &#x27;n_estimators&#x27;: [300, 500, 1000],\n",
       "                                        &#x27;subsample&#x27;: [0.65, 0.7, 0.75]},\n",
       "                   random_state=2, scoring=&#x27;neg_mean_squared_error&#x27;, verbose=2)</pre></div></div></div><div class=\"sk-parallel\"><div class=\"sk-parallel-item\"><div class=\"sk-item\"><div class=\"sk-label-container\"><div class=\"sk-label sk-toggleable\"><input class=\"sk-toggleable__control sk-hidden--visually\" id=\"sk-estimator-id-4\" type=\"checkbox\" ><label for=\"sk-estimator-id-4\" class=\"sk-toggleable__label sk-toggleable__label-arrow\">estimator: GradientBoostingClassifier</label><div class=\"sk-toggleable__content\"><pre>GradientBoostingClassifier(learning_rate=1.0, max_depth=2, n_estimators=3,\n",
       "                           random_state=2)</pre></div></div></div><div class=\"sk-serial\"><div class=\"sk-item\"><div class=\"sk-estimator sk-toggleable\"><input class=\"sk-toggleable__control sk-hidden--visually\" id=\"sk-estimator-id-5\" type=\"checkbox\" ><label for=\"sk-estimator-id-5\" class=\"sk-toggleable__label sk-toggleable__label-arrow\">GradientBoostingClassifier</label><div class=\"sk-toggleable__content\"><pre>GradientBoostingClassifier(learning_rate=1.0, max_depth=2, n_estimators=3,\n",
       "                           random_state=2)</pre></div></div></div></div></div></div></div></div></div></div>"
      ],
      "text/plain": [
       "RandomizedSearchCV(cv=5,\n",
       "                   estimator=GradientBoostingClassifier(learning_rate=1.0,\n",
       "                                                        max_depth=2,\n",
       "                                                        n_estimators=3,\n",
       "                                                        random_state=2),\n",
       "                   n_jobs=-1,\n",
       "                   param_distributions={'learning_rate': [0.05, 0.075, 0.1],\n",
       "                                        'n_estimators': [300, 500, 1000],\n",
       "                                        'subsample': [0.65, 0.7, 0.75]},\n",
       "                   random_state=2, scoring='neg_mean_squared_error', verbose=2)"
      ]
     },
     "execution_count": 57,
     "metadata": {},
     "output_type": "execute_result"
    }
   ],
   "source": [
    "# 튜닝\n",
    "params = {'subsample':[0.65, 0.7, 0.75],\n",
    "          'n_estimators':[300, 500, 1000],\n",
    "          'learning_rate':[0.05, 0.075, 0.1]}\n",
    "from sklearn.model_selection import RandomizedSearchCV\n",
    "rand_reg = RandomizedSearchCV(gbc,params,n_iter=10,scoring='neg_mean_squared_error'\n",
    "                              ,cv=5,n_jobs=-1,random_state=2,verbose=2)\n",
    "rand_reg.fit(pca_train_x,train_y)"
   ]
  },
  {
   "cell_type": "code",
   "execution_count": 59,
   "id": "21398030-b120-44cd-a9a1-c0613eb73571",
   "metadata": {},
   "outputs": [
    {
     "name": "stdout",
     "output_type": "stream",
     "text": [
      "정확률 : 0.884710890386662\n",
      "정밀도 : 0.34439834024896265\n",
      "재현율 : 0.332\n",
      "f1_score : 0.33808553971486766\n"
     ]
    }
   ],
   "source": [
    "# rand_reg.best_estimator_\n",
    "predict = rand_reg.best_estimator_.predict(pca_val_x)\n",
    "print(f\"정확률 : {accuracy_score(predict,val_y)}\")\n",
    "print(f\"정밀도 : {precision_score(predict,val_y)}\")\n",
    "print(f\"재현율 : {recall_score(predict,val_y)}\")\n",
    "print(f\"f1_score : {f1_score(predict,val_y)}\")"
   ]
  },
  {
   "cell_type": "code",
   "execution_count": 63,
   "id": "451f0aae-65e1-40b8-afa8-98c5115885ac",
   "metadata": {},
   "outputs": [],
   "source": [
    "from xgboost import XGBClassifier\n",
    "xgb = XGBClassifier()"
   ]
  },
  {
   "cell_type": "code",
   "execution_count": 64,
   "id": "1b886bee-a4b8-46cc-9251-6a2a4d522e4c",
   "metadata": {},
   "outputs": [
    {
     "name": "stdout",
     "output_type": "stream",
     "text": [
      "Fitting 5 folds for each of 10 candidates, totalling 50 fits\n"
     ]
    },
    {
     "data": {
      "text/html": [
       "<style>#sk-container-id-4 {color: black;background-color: white;}#sk-container-id-4 pre{padding: 0;}#sk-container-id-4 div.sk-toggleable {background-color: white;}#sk-container-id-4 label.sk-toggleable__label {cursor: pointer;display: block;width: 100%;margin-bottom: 0;padding: 0.3em;box-sizing: border-box;text-align: center;}#sk-container-id-4 label.sk-toggleable__label-arrow:before {content: \"▸\";float: left;margin-right: 0.25em;color: #696969;}#sk-container-id-4 label.sk-toggleable__label-arrow:hover:before {color: black;}#sk-container-id-4 div.sk-estimator:hover label.sk-toggleable__label-arrow:before {color: black;}#sk-container-id-4 div.sk-toggleable__content {max-height: 0;max-width: 0;overflow: hidden;text-align: left;background-color: #f0f8ff;}#sk-container-id-4 div.sk-toggleable__content pre {margin: 0.2em;color: black;border-radius: 0.25em;background-color: #f0f8ff;}#sk-container-id-4 input.sk-toggleable__control:checked~div.sk-toggleable__content {max-height: 200px;max-width: 100%;overflow: auto;}#sk-container-id-4 input.sk-toggleable__control:checked~label.sk-toggleable__label-arrow:before {content: \"▾\";}#sk-container-id-4 div.sk-estimator input.sk-toggleable__control:checked~label.sk-toggleable__label {background-color: #d4ebff;}#sk-container-id-4 div.sk-label input.sk-toggleable__control:checked~label.sk-toggleable__label {background-color: #d4ebff;}#sk-container-id-4 input.sk-hidden--visually {border: 0;clip: rect(1px 1px 1px 1px);clip: rect(1px, 1px, 1px, 1px);height: 1px;margin: -1px;overflow: hidden;padding: 0;position: absolute;width: 1px;}#sk-container-id-4 div.sk-estimator {font-family: monospace;background-color: #f0f8ff;border: 1px dotted black;border-radius: 0.25em;box-sizing: border-box;margin-bottom: 0.5em;}#sk-container-id-4 div.sk-estimator:hover {background-color: #d4ebff;}#sk-container-id-4 div.sk-parallel-item::after {content: \"\";width: 100%;border-bottom: 1px solid gray;flex-grow: 1;}#sk-container-id-4 div.sk-label:hover label.sk-toggleable__label {background-color: #d4ebff;}#sk-container-id-4 div.sk-serial::before {content: \"\";position: absolute;border-left: 1px solid gray;box-sizing: border-box;top: 0;bottom: 0;left: 50%;z-index: 0;}#sk-container-id-4 div.sk-serial {display: flex;flex-direction: column;align-items: center;background-color: white;padding-right: 0.2em;padding-left: 0.2em;position: relative;}#sk-container-id-4 div.sk-item {position: relative;z-index: 1;}#sk-container-id-4 div.sk-parallel {display: flex;align-items: stretch;justify-content: center;background-color: white;position: relative;}#sk-container-id-4 div.sk-item::before, #sk-container-id-4 div.sk-parallel-item::before {content: \"\";position: absolute;border-left: 1px solid gray;box-sizing: border-box;top: 0;bottom: 0;left: 50%;z-index: -1;}#sk-container-id-4 div.sk-parallel-item {display: flex;flex-direction: column;z-index: 1;position: relative;background-color: white;}#sk-container-id-4 div.sk-parallel-item:first-child::after {align-self: flex-end;width: 50%;}#sk-container-id-4 div.sk-parallel-item:last-child::after {align-self: flex-start;width: 50%;}#sk-container-id-4 div.sk-parallel-item:only-child::after {width: 0;}#sk-container-id-4 div.sk-dashed-wrapped {border: 1px dashed gray;margin: 0 0.4em 0.5em 0.4em;box-sizing: border-box;padding-bottom: 0.4em;background-color: white;}#sk-container-id-4 div.sk-label label {font-family: monospace;font-weight: bold;display: inline-block;line-height: 1.2em;}#sk-container-id-4 div.sk-label-container {text-align: center;}#sk-container-id-4 div.sk-container {/* jupyter's `normalize.less` sets `[hidden] { display: none; }` but bootstrap.min.css set `[hidden] { display: none !important; }` so we also need the `!important` here to be able to override the default hidden behavior on the sphinx rendered scikit-learn.org. See: https://github.com/scikit-learn/scikit-learn/issues/21755 */display: inline-block !important;position: relative;}#sk-container-id-4 div.sk-text-repr-fallback {display: none;}</style><div id=\"sk-container-id-4\" class=\"sk-top-container\"><div class=\"sk-text-repr-fallback\"><pre>RandomizedSearchCV(cv=5,\n",
       "                   estimator=XGBClassifier(base_score=None, booster=None,\n",
       "                                           callbacks=None,\n",
       "                                           colsample_bylevel=None,\n",
       "                                           colsample_bynode=None,\n",
       "                                           colsample_bytree=None,\n",
       "                                           early_stopping_rounds=None,\n",
       "                                           enable_categorical=False,\n",
       "                                           eval_metric=None, gamma=None,\n",
       "                                           gpu_id=None, grow_policy=None,\n",
       "                                           importance_type=None,\n",
       "                                           interaction_constraints=None,\n",
       "                                           learning_rate=None, max_bin=None,...\n",
       "                                           min_child_weight=None, missing=nan,\n",
       "                                           monotone_constraints=None,\n",
       "                                           n_estimators=100, n_jobs=None,\n",
       "                                           num_parallel_tree=None,\n",
       "                                           predictor=None, random_state=None,\n",
       "                                           reg_alpha=None, reg_lambda=None, ...),\n",
       "                   n_jobs=-1,\n",
       "                   param_distributions={&#x27;learning_rate&#x27;: [0.05, 0.075, 0.1],\n",
       "                                        &#x27;n_estimators&#x27;: [300, 500, 1000],\n",
       "                                        &#x27;subsample&#x27;: [0.65, 0.7, 0.75]},\n",
       "                   random_state=2, scoring=&#x27;neg_mean_squared_error&#x27;, verbose=1)</pre><b>In a Jupyter environment, please rerun this cell to show the HTML representation or trust the notebook. <br />On GitHub, the HTML representation is unable to render, please try loading this page with nbviewer.org.</b></div><div class=\"sk-container\" hidden><div class=\"sk-item sk-dashed-wrapped\"><div class=\"sk-label-container\"><div class=\"sk-label sk-toggleable\"><input class=\"sk-toggleable__control sk-hidden--visually\" id=\"sk-estimator-id-6\" type=\"checkbox\" ><label for=\"sk-estimator-id-6\" class=\"sk-toggleable__label sk-toggleable__label-arrow\">RandomizedSearchCV</label><div class=\"sk-toggleable__content\"><pre>RandomizedSearchCV(cv=5,\n",
       "                   estimator=XGBClassifier(base_score=None, booster=None,\n",
       "                                           callbacks=None,\n",
       "                                           colsample_bylevel=None,\n",
       "                                           colsample_bynode=None,\n",
       "                                           colsample_bytree=None,\n",
       "                                           early_stopping_rounds=None,\n",
       "                                           enable_categorical=False,\n",
       "                                           eval_metric=None, gamma=None,\n",
       "                                           gpu_id=None, grow_policy=None,\n",
       "                                           importance_type=None,\n",
       "                                           interaction_constraints=None,\n",
       "                                           learning_rate=None, max_bin=None,...\n",
       "                                           min_child_weight=None, missing=nan,\n",
       "                                           monotone_constraints=None,\n",
       "                                           n_estimators=100, n_jobs=None,\n",
       "                                           num_parallel_tree=None,\n",
       "                                           predictor=None, random_state=None,\n",
       "                                           reg_alpha=None, reg_lambda=None, ...),\n",
       "                   n_jobs=-1,\n",
       "                   param_distributions={&#x27;learning_rate&#x27;: [0.05, 0.075, 0.1],\n",
       "                                        &#x27;n_estimators&#x27;: [300, 500, 1000],\n",
       "                                        &#x27;subsample&#x27;: [0.65, 0.7, 0.75]},\n",
       "                   random_state=2, scoring=&#x27;neg_mean_squared_error&#x27;, verbose=1)</pre></div></div></div><div class=\"sk-parallel\"><div class=\"sk-parallel-item\"><div class=\"sk-item\"><div class=\"sk-label-container\"><div class=\"sk-label sk-toggleable\"><input class=\"sk-toggleable__control sk-hidden--visually\" id=\"sk-estimator-id-7\" type=\"checkbox\" ><label for=\"sk-estimator-id-7\" class=\"sk-toggleable__label sk-toggleable__label-arrow\">estimator: XGBClassifier</label><div class=\"sk-toggleable__content\"><pre>XGBClassifier(base_score=None, booster=None, callbacks=None,\n",
       "              colsample_bylevel=None, colsample_bynode=None,\n",
       "              colsample_bytree=None, early_stopping_rounds=None,\n",
       "              enable_categorical=False, eval_metric=None, gamma=None,\n",
       "              gpu_id=None, grow_policy=None, importance_type=None,\n",
       "              interaction_constraints=None, learning_rate=None, max_bin=None,\n",
       "              max_cat_to_onehot=None, max_delta_step=None, max_depth=None,\n",
       "              max_leaves=None, min_child_weight=None, missing=nan,\n",
       "              monotone_constraints=None, n_estimators=100, n_jobs=None,\n",
       "              num_parallel_tree=None, predictor=None, random_state=None,\n",
       "              reg_alpha=None, reg_lambda=None, ...)</pre></div></div></div><div class=\"sk-serial\"><div class=\"sk-item\"><div class=\"sk-estimator sk-toggleable\"><input class=\"sk-toggleable__control sk-hidden--visually\" id=\"sk-estimator-id-8\" type=\"checkbox\" ><label for=\"sk-estimator-id-8\" class=\"sk-toggleable__label sk-toggleable__label-arrow\">XGBClassifier</label><div class=\"sk-toggleable__content\"><pre>XGBClassifier(base_score=None, booster=None, callbacks=None,\n",
       "              colsample_bylevel=None, colsample_bynode=None,\n",
       "              colsample_bytree=None, early_stopping_rounds=None,\n",
       "              enable_categorical=False, eval_metric=None, gamma=None,\n",
       "              gpu_id=None, grow_policy=None, importance_type=None,\n",
       "              interaction_constraints=None, learning_rate=None, max_bin=None,\n",
       "              max_cat_to_onehot=None, max_delta_step=None, max_depth=None,\n",
       "              max_leaves=None, min_child_weight=None, missing=nan,\n",
       "              monotone_constraints=None, n_estimators=100, n_jobs=None,\n",
       "              num_parallel_tree=None, predictor=None, random_state=None,\n",
       "              reg_alpha=None, reg_lambda=None, ...)</pre></div></div></div></div></div></div></div></div></div></div>"
      ],
      "text/plain": [
       "RandomizedSearchCV(cv=5,\n",
       "                   estimator=XGBClassifier(base_score=None, booster=None,\n",
       "                                           callbacks=None,\n",
       "                                           colsample_bylevel=None,\n",
       "                                           colsample_bynode=None,\n",
       "                                           colsample_bytree=None,\n",
       "                                           early_stopping_rounds=None,\n",
       "                                           enable_categorical=False,\n",
       "                                           eval_metric=None, gamma=None,\n",
       "                                           gpu_id=None, grow_policy=None,\n",
       "                                           importance_type=None,\n",
       "                                           interaction_constraints=None,\n",
       "                                           learning_rate=None, max_bin=None,...\n",
       "                                           min_child_weight=None, missing=nan,\n",
       "                                           monotone_constraints=None,\n",
       "                                           n_estimators=100, n_jobs=None,\n",
       "                                           num_parallel_tree=None,\n",
       "                                           predictor=None, random_state=None,\n",
       "                                           reg_alpha=None, reg_lambda=None, ...),\n",
       "                   n_jobs=-1,\n",
       "                   param_distributions={'learning_rate': [0.05, 0.075, 0.1],\n",
       "                                        'n_estimators': [300, 500, 1000],\n",
       "                                        'subsample': [0.65, 0.7, 0.75]},\n",
       "                   random_state=2, scoring='neg_mean_squared_error', verbose=1)"
      ]
     },
     "execution_count": 64,
     "metadata": {},
     "output_type": "execute_result"
    }
   ],
   "source": [
    "params = {'subsample':[0.65, 0.7, 0.75],\n",
    "          'n_estimators':[100,200, 300, 400,800],\n",
    "          'learning_rate':[0.01,0.05,0.1,0.2,0.3,0.4,0.5],\n",
    "          'max_depth' : [2,3,5,6,8],\n",
    "          'gamma' : [0,0.01,0.1,0.5,1,2]\n",
    "         }\n",
    "rand_reg = RandomizedSearchCV(xgb,params,n_iter=10,scoring='neg_mean_squared_error'\n",
    "                              ,cv=5,n_jobs=-1,random_state=2,verbose=1)\n",
    "rand_reg.fit(pca_train_x,train_y)"
   ]
  },
  {
   "cell_type": "code",
   "execution_count": 65,
   "id": "30f248a8-8632-4978-b051-1c63ec98b830",
   "metadata": {
    "collapsed": true,
    "jupyter": {
     "outputs_hidden": true
    },
    "tags": []
   },
   "outputs": [
    {
     "name": "stdout",
     "output_type": "stream",
     "text": [
      "정확률 : 0.8932245477119546\n",
      "정밀도 : 0.25311203319502074\n",
      "재현율 : 0.33516483516483514\n",
      "f1_score : 0.28841607565011823\n"
     ]
    }
   ],
   "source": [
    "predict = rand_reg.best_estimator_.predict(pca_val_x)\n",
    "print(f\"정확률 : {accuracy_score(predict,val_y)}\")\n",
    "print(f\"정밀도 : {precision_score(predict,val_y)}\")\n",
    "print(f\"재현율 : {recall_score(predict,val_y)}\")\n",
    "print(f\"f1_score : {f1_score(predict,val_y)}\")"
   ]
  },
  {
   "cell_type": "code",
   "execution_count": 71,
   "id": "ef0d3af7-9d1f-4b79-924f-d870a82265dd",
   "metadata": {
    "tags": []
   },
   "outputs": [
    {
     "name": "stdout",
     "output_type": "stream",
     "text": [
      "정확률 : 0.8854203618304364\n",
      "정밀도 : 0.33195020746887965\n",
      "재현율 : 0.3305785123966942\n",
      "f1_score : 0.33126293995859213\n"
     ]
    }
   ],
   "source": [
    "xgb = XGBClassifier(booster='gbtree', max_depth=6,objective='binary:logistic'\n",
    "              ,learning_rate=0.1, n_estimators=100,n_jobs=-1)\n",
    "xgb.fit(pca_train_x,train_y)\n",
    "predict = xgb.predict(pca_val_x)\n",
    "print(f\"정확률 : {accuracy_score(predict,val_y)}\")\n",
    "print(f\"정밀도 : {precision_score(predict,val_y)}\")\n",
    "print(f\"재현율 : {recall_score(predict,val_y)}\")\n",
    "print(f\"f1_score : {f1_score(predict,val_y)}\")"
   ]
  },
  {
   "cell_type": "code",
   "execution_count": 80,
   "id": "c2d715e3-daa6-488d-b182-aedb370481ba",
   "metadata": {},
   "outputs": [
    {
     "name": "stdout",
     "output_type": "stream",
     "text": [
      "Fitting 5 folds for each of 10 candidates, totalling 50 fits\n"
     ]
    },
    {
     "data": {
      "text/html": [
       "<style>#sk-container-id-7 {color: black;background-color: white;}#sk-container-id-7 pre{padding: 0;}#sk-container-id-7 div.sk-toggleable {background-color: white;}#sk-container-id-7 label.sk-toggleable__label {cursor: pointer;display: block;width: 100%;margin-bottom: 0;padding: 0.3em;box-sizing: border-box;text-align: center;}#sk-container-id-7 label.sk-toggleable__label-arrow:before {content: \"▸\";float: left;margin-right: 0.25em;color: #696969;}#sk-container-id-7 label.sk-toggleable__label-arrow:hover:before {color: black;}#sk-container-id-7 div.sk-estimator:hover label.sk-toggleable__label-arrow:before {color: black;}#sk-container-id-7 div.sk-toggleable__content {max-height: 0;max-width: 0;overflow: hidden;text-align: left;background-color: #f0f8ff;}#sk-container-id-7 div.sk-toggleable__content pre {margin: 0.2em;color: black;border-radius: 0.25em;background-color: #f0f8ff;}#sk-container-id-7 input.sk-toggleable__control:checked~div.sk-toggleable__content {max-height: 200px;max-width: 100%;overflow: auto;}#sk-container-id-7 input.sk-toggleable__control:checked~label.sk-toggleable__label-arrow:before {content: \"▾\";}#sk-container-id-7 div.sk-estimator input.sk-toggleable__control:checked~label.sk-toggleable__label {background-color: #d4ebff;}#sk-container-id-7 div.sk-label input.sk-toggleable__control:checked~label.sk-toggleable__label {background-color: #d4ebff;}#sk-container-id-7 input.sk-hidden--visually {border: 0;clip: rect(1px 1px 1px 1px);clip: rect(1px, 1px, 1px, 1px);height: 1px;margin: -1px;overflow: hidden;padding: 0;position: absolute;width: 1px;}#sk-container-id-7 div.sk-estimator {font-family: monospace;background-color: #f0f8ff;border: 1px dotted black;border-radius: 0.25em;box-sizing: border-box;margin-bottom: 0.5em;}#sk-container-id-7 div.sk-estimator:hover {background-color: #d4ebff;}#sk-container-id-7 div.sk-parallel-item::after {content: \"\";width: 100%;border-bottom: 1px solid gray;flex-grow: 1;}#sk-container-id-7 div.sk-label:hover label.sk-toggleable__label {background-color: #d4ebff;}#sk-container-id-7 div.sk-serial::before {content: \"\";position: absolute;border-left: 1px solid gray;box-sizing: border-box;top: 0;bottom: 0;left: 50%;z-index: 0;}#sk-container-id-7 div.sk-serial {display: flex;flex-direction: column;align-items: center;background-color: white;padding-right: 0.2em;padding-left: 0.2em;position: relative;}#sk-container-id-7 div.sk-item {position: relative;z-index: 1;}#sk-container-id-7 div.sk-parallel {display: flex;align-items: stretch;justify-content: center;background-color: white;position: relative;}#sk-container-id-7 div.sk-item::before, #sk-container-id-7 div.sk-parallel-item::before {content: \"\";position: absolute;border-left: 1px solid gray;box-sizing: border-box;top: 0;bottom: 0;left: 50%;z-index: -1;}#sk-container-id-7 div.sk-parallel-item {display: flex;flex-direction: column;z-index: 1;position: relative;background-color: white;}#sk-container-id-7 div.sk-parallel-item:first-child::after {align-self: flex-end;width: 50%;}#sk-container-id-7 div.sk-parallel-item:last-child::after {align-self: flex-start;width: 50%;}#sk-container-id-7 div.sk-parallel-item:only-child::after {width: 0;}#sk-container-id-7 div.sk-dashed-wrapped {border: 1px dashed gray;margin: 0 0.4em 0.5em 0.4em;box-sizing: border-box;padding-bottom: 0.4em;background-color: white;}#sk-container-id-7 div.sk-label label {font-family: monospace;font-weight: bold;display: inline-block;line-height: 1.2em;}#sk-container-id-7 div.sk-label-container {text-align: center;}#sk-container-id-7 div.sk-container {/* jupyter's `normalize.less` sets `[hidden] { display: none; }` but bootstrap.min.css set `[hidden] { display: none !important; }` so we also need the `!important` here to be able to override the default hidden behavior on the sphinx rendered scikit-learn.org. See: https://github.com/scikit-learn/scikit-learn/issues/21755 */display: inline-block !important;position: relative;}#sk-container-id-7 div.sk-text-repr-fallback {display: none;}</style><div id=\"sk-container-id-7\" class=\"sk-top-container\"><div class=\"sk-text-repr-fallback\"><pre>RandomizedSearchCV(cv=5,\n",
       "                   estimator=XGBClassifier(base_score=None, booster=&#x27;gbtree&#x27;,\n",
       "                                           callbacks=None,\n",
       "                                           colsample_bylevel=None,\n",
       "                                           colsample_bynode=None,\n",
       "                                           colsample_bytree=None,\n",
       "                                           early_stopping_rounds=None,\n",
       "                                           enable_categorical=False,\n",
       "                                           eval_metric=None, gamma=None,\n",
       "                                           gpu_id=None, grow_policy=None,\n",
       "                                           importance_type=None,\n",
       "                                           interaction_constraints=None,\n",
       "                                           learning_rate=0.1, max_bin=No...\n",
       "                                           n_estimators=100, n_jobs=-1,\n",
       "                                           num_parallel_tree=None,\n",
       "                                           predictor=None, random_state=None,\n",
       "                                           reg_alpha=None, reg_lambda=None, ...),\n",
       "                   n_jobs=-1,\n",
       "                   param_distributions={&#x27;gamma&#x27;: [0, 0.01, 0.1, 0.5, 1, 2],\n",
       "                                        &#x27;learning_rate&#x27;: [0.01, 0.05, 0.1, 0.2,\n",
       "                                                          0.3, 0.4, 0.5],\n",
       "                                        &#x27;max_depth&#x27;: [2, 3, 5, 6, 8],\n",
       "                                        &#x27;n_estimators&#x27;: [100, 200, 300, 400,\n",
       "                                                         800],\n",
       "                                        &#x27;subsample&#x27;: [0.65, 0.7, 0.75]},\n",
       "                   random_state=2, scoring=&#x27;neg_mean_squared_error&#x27;, verbose=1)</pre><b>In a Jupyter environment, please rerun this cell to show the HTML representation or trust the notebook. <br />On GitHub, the HTML representation is unable to render, please try loading this page with nbviewer.org.</b></div><div class=\"sk-container\" hidden><div class=\"sk-item sk-dashed-wrapped\"><div class=\"sk-label-container\"><div class=\"sk-label sk-toggleable\"><input class=\"sk-toggleable__control sk-hidden--visually\" id=\"sk-estimator-id-15\" type=\"checkbox\" ><label for=\"sk-estimator-id-15\" class=\"sk-toggleable__label sk-toggleable__label-arrow\">RandomizedSearchCV</label><div class=\"sk-toggleable__content\"><pre>RandomizedSearchCV(cv=5,\n",
       "                   estimator=XGBClassifier(base_score=None, booster=&#x27;gbtree&#x27;,\n",
       "                                           callbacks=None,\n",
       "                                           colsample_bylevel=None,\n",
       "                                           colsample_bynode=None,\n",
       "                                           colsample_bytree=None,\n",
       "                                           early_stopping_rounds=None,\n",
       "                                           enable_categorical=False,\n",
       "                                           eval_metric=None, gamma=None,\n",
       "                                           gpu_id=None, grow_policy=None,\n",
       "                                           importance_type=None,\n",
       "                                           interaction_constraints=None,\n",
       "                                           learning_rate=0.1, max_bin=No...\n",
       "                                           n_estimators=100, n_jobs=-1,\n",
       "                                           num_parallel_tree=None,\n",
       "                                           predictor=None, random_state=None,\n",
       "                                           reg_alpha=None, reg_lambda=None, ...),\n",
       "                   n_jobs=-1,\n",
       "                   param_distributions={&#x27;gamma&#x27;: [0, 0.01, 0.1, 0.5, 1, 2],\n",
       "                                        &#x27;learning_rate&#x27;: [0.01, 0.05, 0.1, 0.2,\n",
       "                                                          0.3, 0.4, 0.5],\n",
       "                                        &#x27;max_depth&#x27;: [2, 3, 5, 6, 8],\n",
       "                                        &#x27;n_estimators&#x27;: [100, 200, 300, 400,\n",
       "                                                         800],\n",
       "                                        &#x27;subsample&#x27;: [0.65, 0.7, 0.75]},\n",
       "                   random_state=2, scoring=&#x27;neg_mean_squared_error&#x27;, verbose=1)</pre></div></div></div><div class=\"sk-parallel\"><div class=\"sk-parallel-item\"><div class=\"sk-item\"><div class=\"sk-label-container\"><div class=\"sk-label sk-toggleable\"><input class=\"sk-toggleable__control sk-hidden--visually\" id=\"sk-estimator-id-16\" type=\"checkbox\" ><label for=\"sk-estimator-id-16\" class=\"sk-toggleable__label sk-toggleable__label-arrow\">estimator: XGBClassifier</label><div class=\"sk-toggleable__content\"><pre>XGBClassifier(base_score=None, booster=&#x27;gbtree&#x27;, callbacks=None,\n",
       "              colsample_bylevel=None, colsample_bynode=None,\n",
       "              colsample_bytree=None, early_stopping_rounds=None,\n",
       "              enable_categorical=False, eval_metric=None, gamma=None,\n",
       "              gpu_id=None, grow_policy=None, importance_type=None,\n",
       "              interaction_constraints=None, learning_rate=0.1, max_bin=None,\n",
       "              max_cat_to_onehot=None, max_delta_step=None, max_depth=6,\n",
       "              max_leaves=None, min_child_weight=None, missing=nan,\n",
       "              monotone_constraints=None, n_estimators=100, n_jobs=-1,\n",
       "              num_parallel_tree=None, predictor=None, random_state=None,\n",
       "              reg_alpha=None, reg_lambda=None, ...)</pre></div></div></div><div class=\"sk-serial\"><div class=\"sk-item\"><div class=\"sk-estimator sk-toggleable\"><input class=\"sk-toggleable__control sk-hidden--visually\" id=\"sk-estimator-id-17\" type=\"checkbox\" ><label for=\"sk-estimator-id-17\" class=\"sk-toggleable__label sk-toggleable__label-arrow\">XGBClassifier</label><div class=\"sk-toggleable__content\"><pre>XGBClassifier(base_score=None, booster=&#x27;gbtree&#x27;, callbacks=None,\n",
       "              colsample_bylevel=None, colsample_bynode=None,\n",
       "              colsample_bytree=None, early_stopping_rounds=None,\n",
       "              enable_categorical=False, eval_metric=None, gamma=None,\n",
       "              gpu_id=None, grow_policy=None, importance_type=None,\n",
       "              interaction_constraints=None, learning_rate=0.1, max_bin=None,\n",
       "              max_cat_to_onehot=None, max_delta_step=None, max_depth=6,\n",
       "              max_leaves=None, min_child_weight=None, missing=nan,\n",
       "              monotone_constraints=None, n_estimators=100, n_jobs=-1,\n",
       "              num_parallel_tree=None, predictor=None, random_state=None,\n",
       "              reg_alpha=None, reg_lambda=None, ...)</pre></div></div></div></div></div></div></div></div></div></div>"
      ],
      "text/plain": [
       "RandomizedSearchCV(cv=5,\n",
       "                   estimator=XGBClassifier(base_score=None, booster='gbtree',\n",
       "                                           callbacks=None,\n",
       "                                           colsample_bylevel=None,\n",
       "                                           colsample_bynode=None,\n",
       "                                           colsample_bytree=None,\n",
       "                                           early_stopping_rounds=None,\n",
       "                                           enable_categorical=False,\n",
       "                                           eval_metric=None, gamma=None,\n",
       "                                           gpu_id=None, grow_policy=None,\n",
       "                                           importance_type=None,\n",
       "                                           interaction_constraints=None,\n",
       "                                           learning_rate=0.1, max_bin=No...\n",
       "                                           n_estimators=100, n_jobs=-1,\n",
       "                                           num_parallel_tree=None,\n",
       "                                           predictor=None, random_state=None,\n",
       "                                           reg_alpha=None, reg_lambda=None, ...),\n",
       "                   n_jobs=-1,\n",
       "                   param_distributions={'gamma': [0, 0.01, 0.1, 0.5, 1, 2],\n",
       "                                        'learning_rate': [0.01, 0.05, 0.1, 0.2,\n",
       "                                                          0.3, 0.4, 0.5],\n",
       "                                        'max_depth': [2, 3, 5, 6, 8],\n",
       "                                        'n_estimators': [100, 200, 300, 400,\n",
       "                                                         800],\n",
       "                                        'subsample': [0.65, 0.7, 0.75]},\n",
       "                   random_state=2, scoring='neg_mean_squared_error', verbose=1)"
      ]
     },
     "execution_count": 80,
     "metadata": {},
     "output_type": "execute_result"
    }
   ],
   "source": [
    "from sklearn.decomposition import PCA\n",
    "pca = PCA(n_components=1)\n",
    "pca_train_x =  pca.fit_transform(train_X)\n",
    "pca_val_x = pca.fit_transform(val_X)\n",
    "pca_test = pca.fit_transform(test)\n",
    "xgb = XGBClassifier(booster='gbtree', max_depth=6,objective='binary:logistic'\n",
    "              ,learning_rate=0.1, n_estimators=100,n_jobs=-1)\n",
    "params = {'subsample':[0.65, 0.7, 0.75],\n",
    "          'n_estimators':[100,200, 300, 400,800],\n",
    "          'learning_rate':[0.01,0.05,0.1,0.2,0.3,0.4,0.5],\n",
    "          'max_depth' : [2,3,5,6,8],\n",
    "          'gamma' : [0,0.01,0.1,0.5,1,2]\n",
    "         }\n",
    "rand_reg = RandomizedSearchCV(xgb,params,n_iter=10,scoring='neg_mean_squared_error'\n",
    "                              ,cv=5,n_jobs=-1,random_state=2,verbose=1)\n",
    "rand_reg.fit(pca_train_x,train_y)"
   ]
  },
  {
   "cell_type": "code",
   "execution_count": 81,
   "id": "41f31c73-8900-4dbf-87a1-8f8fb304dd51",
   "metadata": {},
   "outputs": [
    {
     "name": "stdout",
     "output_type": "stream",
     "text": [
      "정확률 : 0.9145086910251863\n",
      "정밀도 : 0.0\n",
      "재현율 : 0.0\n",
      "f1_score : 0.0\n"
     ]
    },
    {
     "name": "stderr",
     "output_type": "stream",
     "text": [
      "C:\\Users\\user\\miniconda3\\envs\\ml\\lib\\site-packages\\sklearn\\metrics\\_classification.py:1334: UndefinedMetricWarning: Recall is ill-defined and being set to 0.0 due to no true samples. Use `zero_division` parameter to control this behavior.\n",
      "  _warn_prf(average, modifier, msg_start, len(result))\n"
     ]
    }
   ],
   "source": [
    "predict = rand_reg.best_estimator_.predict(pca_val_x)\n",
    "print(f\"정확률 : {accuracy_score(predict,val_y)}\")\n",
    "print(f\"정밀도 : {precision_score(predict,val_y)}\")\n",
    "print(f\"재현율 : {recall_score(predict,val_y)}\")\n",
    "print(f\"f1_score : {f1_score(predict,val_y)}\")"
   ]
  },
  {
   "cell_type": "code",
   "execution_count": 86,
   "id": "385d11f8-cc94-4b2c-af95-39e9981f0ffd",
   "metadata": {},
   "outputs": [
    {
     "name": "stdout",
     "output_type": "stream",
     "text": [
      "Fitting 5 folds for each of 10 candidates, totalling 50 fits\n"
     ]
    },
    {
     "data": {
      "text/html": [
       "<style>#sk-container-id-8 {color: black;background-color: white;}#sk-container-id-8 pre{padding: 0;}#sk-container-id-8 div.sk-toggleable {background-color: white;}#sk-container-id-8 label.sk-toggleable__label {cursor: pointer;display: block;width: 100%;margin-bottom: 0;padding: 0.3em;box-sizing: border-box;text-align: center;}#sk-container-id-8 label.sk-toggleable__label-arrow:before {content: \"▸\";float: left;margin-right: 0.25em;color: #696969;}#sk-container-id-8 label.sk-toggleable__label-arrow:hover:before {color: black;}#sk-container-id-8 div.sk-estimator:hover label.sk-toggleable__label-arrow:before {color: black;}#sk-container-id-8 div.sk-toggleable__content {max-height: 0;max-width: 0;overflow: hidden;text-align: left;background-color: #f0f8ff;}#sk-container-id-8 div.sk-toggleable__content pre {margin: 0.2em;color: black;border-radius: 0.25em;background-color: #f0f8ff;}#sk-container-id-8 input.sk-toggleable__control:checked~div.sk-toggleable__content {max-height: 200px;max-width: 100%;overflow: auto;}#sk-container-id-8 input.sk-toggleable__control:checked~label.sk-toggleable__label-arrow:before {content: \"▾\";}#sk-container-id-8 div.sk-estimator input.sk-toggleable__control:checked~label.sk-toggleable__label {background-color: #d4ebff;}#sk-container-id-8 div.sk-label input.sk-toggleable__control:checked~label.sk-toggleable__label {background-color: #d4ebff;}#sk-container-id-8 input.sk-hidden--visually {border: 0;clip: rect(1px 1px 1px 1px);clip: rect(1px, 1px, 1px, 1px);height: 1px;margin: -1px;overflow: hidden;padding: 0;position: absolute;width: 1px;}#sk-container-id-8 div.sk-estimator {font-family: monospace;background-color: #f0f8ff;border: 1px dotted black;border-radius: 0.25em;box-sizing: border-box;margin-bottom: 0.5em;}#sk-container-id-8 div.sk-estimator:hover {background-color: #d4ebff;}#sk-container-id-8 div.sk-parallel-item::after {content: \"\";width: 100%;border-bottom: 1px solid gray;flex-grow: 1;}#sk-container-id-8 div.sk-label:hover label.sk-toggleable__label {background-color: #d4ebff;}#sk-container-id-8 div.sk-serial::before {content: \"\";position: absolute;border-left: 1px solid gray;box-sizing: border-box;top: 0;bottom: 0;left: 50%;z-index: 0;}#sk-container-id-8 div.sk-serial {display: flex;flex-direction: column;align-items: center;background-color: white;padding-right: 0.2em;padding-left: 0.2em;position: relative;}#sk-container-id-8 div.sk-item {position: relative;z-index: 1;}#sk-container-id-8 div.sk-parallel {display: flex;align-items: stretch;justify-content: center;background-color: white;position: relative;}#sk-container-id-8 div.sk-item::before, #sk-container-id-8 div.sk-parallel-item::before {content: \"\";position: absolute;border-left: 1px solid gray;box-sizing: border-box;top: 0;bottom: 0;left: 50%;z-index: -1;}#sk-container-id-8 div.sk-parallel-item {display: flex;flex-direction: column;z-index: 1;position: relative;background-color: white;}#sk-container-id-8 div.sk-parallel-item:first-child::after {align-self: flex-end;width: 50%;}#sk-container-id-8 div.sk-parallel-item:last-child::after {align-self: flex-start;width: 50%;}#sk-container-id-8 div.sk-parallel-item:only-child::after {width: 0;}#sk-container-id-8 div.sk-dashed-wrapped {border: 1px dashed gray;margin: 0 0.4em 0.5em 0.4em;box-sizing: border-box;padding-bottom: 0.4em;background-color: white;}#sk-container-id-8 div.sk-label label {font-family: monospace;font-weight: bold;display: inline-block;line-height: 1.2em;}#sk-container-id-8 div.sk-label-container {text-align: center;}#sk-container-id-8 div.sk-container {/* jupyter's `normalize.less` sets `[hidden] { display: none; }` but bootstrap.min.css set `[hidden] { display: none !important; }` so we also need the `!important` here to be able to override the default hidden behavior on the sphinx rendered scikit-learn.org. See: https://github.com/scikit-learn/scikit-learn/issues/21755 */display: inline-block !important;position: relative;}#sk-container-id-8 div.sk-text-repr-fallback {display: none;}</style><div id=\"sk-container-id-8\" class=\"sk-top-container\"><div class=\"sk-text-repr-fallback\"><pre>RandomizedSearchCV(cv=5,\n",
       "                   estimator=XGBClassifier(base_score=None, booster=&#x27;gbtree&#x27;,\n",
       "                                           callbacks=None,\n",
       "                                           colsample_bylevel=None,\n",
       "                                           colsample_bynode=None,\n",
       "                                           colsample_bytree=None,\n",
       "                                           early_stopping_rounds=None,\n",
       "                                           enable_categorical=False,\n",
       "                                           eval_metric=None, gamma=None,\n",
       "                                           gpu_id=None, grow_policy=None,\n",
       "                                           importance_type=None,\n",
       "                                           interaction_constraints=None,\n",
       "                                           learning_rate=0.1, max_bin=No...\n",
       "                                           n_estimators=100, n_jobs=-1,\n",
       "                                           num_parallel_tree=None,\n",
       "                                           predictor=None, random_state=None,\n",
       "                                           reg_alpha=None, reg_lambda=None, ...),\n",
       "                   n_jobs=-1,\n",
       "                   param_distributions={&#x27;gamma&#x27;: [0, 0.01, 0.1, 0.5, 1, 2],\n",
       "                                        &#x27;learning_rate&#x27;: [0.01, 0.05, 0.1, 0.2,\n",
       "                                                          0.3, 0.4, 0.5],\n",
       "                                        &#x27;max_depth&#x27;: [2, 3, 5, 6, 8],\n",
       "                                        &#x27;n_estimators&#x27;: [100, 200, 300, 400,\n",
       "                                                         800],\n",
       "                                        &#x27;subsample&#x27;: [0.65, 0.7, 0.75]},\n",
       "                   random_state=2, scoring=&#x27;neg_mean_squared_error&#x27;, verbose=1)</pre><b>In a Jupyter environment, please rerun this cell to show the HTML representation or trust the notebook. <br />On GitHub, the HTML representation is unable to render, please try loading this page with nbviewer.org.</b></div><div class=\"sk-container\" hidden><div class=\"sk-item sk-dashed-wrapped\"><div class=\"sk-label-container\"><div class=\"sk-label sk-toggleable\"><input class=\"sk-toggleable__control sk-hidden--visually\" id=\"sk-estimator-id-18\" type=\"checkbox\" ><label for=\"sk-estimator-id-18\" class=\"sk-toggleable__label sk-toggleable__label-arrow\">RandomizedSearchCV</label><div class=\"sk-toggleable__content\"><pre>RandomizedSearchCV(cv=5,\n",
       "                   estimator=XGBClassifier(base_score=None, booster=&#x27;gbtree&#x27;,\n",
       "                                           callbacks=None,\n",
       "                                           colsample_bylevel=None,\n",
       "                                           colsample_bynode=None,\n",
       "                                           colsample_bytree=None,\n",
       "                                           early_stopping_rounds=None,\n",
       "                                           enable_categorical=False,\n",
       "                                           eval_metric=None, gamma=None,\n",
       "                                           gpu_id=None, grow_policy=None,\n",
       "                                           importance_type=None,\n",
       "                                           interaction_constraints=None,\n",
       "                                           learning_rate=0.1, max_bin=No...\n",
       "                                           n_estimators=100, n_jobs=-1,\n",
       "                                           num_parallel_tree=None,\n",
       "                                           predictor=None, random_state=None,\n",
       "                                           reg_alpha=None, reg_lambda=None, ...),\n",
       "                   n_jobs=-1,\n",
       "                   param_distributions={&#x27;gamma&#x27;: [0, 0.01, 0.1, 0.5, 1, 2],\n",
       "                                        &#x27;learning_rate&#x27;: [0.01, 0.05, 0.1, 0.2,\n",
       "                                                          0.3, 0.4, 0.5],\n",
       "                                        &#x27;max_depth&#x27;: [2, 3, 5, 6, 8],\n",
       "                                        &#x27;n_estimators&#x27;: [100, 200, 300, 400,\n",
       "                                                         800],\n",
       "                                        &#x27;subsample&#x27;: [0.65, 0.7, 0.75]},\n",
       "                   random_state=2, scoring=&#x27;neg_mean_squared_error&#x27;, verbose=1)</pre></div></div></div><div class=\"sk-parallel\"><div class=\"sk-parallel-item\"><div class=\"sk-item\"><div class=\"sk-label-container\"><div class=\"sk-label sk-toggleable\"><input class=\"sk-toggleable__control sk-hidden--visually\" id=\"sk-estimator-id-19\" type=\"checkbox\" ><label for=\"sk-estimator-id-19\" class=\"sk-toggleable__label sk-toggleable__label-arrow\">estimator: XGBClassifier</label><div class=\"sk-toggleable__content\"><pre>XGBClassifier(base_score=None, booster=&#x27;gbtree&#x27;, callbacks=None,\n",
       "              colsample_bylevel=None, colsample_bynode=None,\n",
       "              colsample_bytree=None, early_stopping_rounds=None,\n",
       "              enable_categorical=False, eval_metric=None, gamma=None,\n",
       "              gpu_id=None, grow_policy=None, importance_type=None,\n",
       "              interaction_constraints=None, learning_rate=0.1, max_bin=None,\n",
       "              max_cat_to_onehot=None, max_delta_step=None, max_depth=6,\n",
       "              max_leaves=None, min_child_weight=None, missing=nan,\n",
       "              monotone_constraints=None, n_estimators=100, n_jobs=-1,\n",
       "              num_parallel_tree=None, predictor=None, random_state=None,\n",
       "              reg_alpha=None, reg_lambda=None, ...)</pre></div></div></div><div class=\"sk-serial\"><div class=\"sk-item\"><div class=\"sk-estimator sk-toggleable\"><input class=\"sk-toggleable__control sk-hidden--visually\" id=\"sk-estimator-id-20\" type=\"checkbox\" ><label for=\"sk-estimator-id-20\" class=\"sk-toggleable__label sk-toggleable__label-arrow\">XGBClassifier</label><div class=\"sk-toggleable__content\"><pre>XGBClassifier(base_score=None, booster=&#x27;gbtree&#x27;, callbacks=None,\n",
       "              colsample_bylevel=None, colsample_bynode=None,\n",
       "              colsample_bytree=None, early_stopping_rounds=None,\n",
       "              enable_categorical=False, eval_metric=None, gamma=None,\n",
       "              gpu_id=None, grow_policy=None, importance_type=None,\n",
       "              interaction_constraints=None, learning_rate=0.1, max_bin=None,\n",
       "              max_cat_to_onehot=None, max_delta_step=None, max_depth=6,\n",
       "              max_leaves=None, min_child_weight=None, missing=nan,\n",
       "              monotone_constraints=None, n_estimators=100, n_jobs=-1,\n",
       "              num_parallel_tree=None, predictor=None, random_state=None,\n",
       "              reg_alpha=None, reg_lambda=None, ...)</pre></div></div></div></div></div></div></div></div></div></div>"
      ],
      "text/plain": [
       "RandomizedSearchCV(cv=5,\n",
       "                   estimator=XGBClassifier(base_score=None, booster='gbtree',\n",
       "                                           callbacks=None,\n",
       "                                           colsample_bylevel=None,\n",
       "                                           colsample_bynode=None,\n",
       "                                           colsample_bytree=None,\n",
       "                                           early_stopping_rounds=None,\n",
       "                                           enable_categorical=False,\n",
       "                                           eval_metric=None, gamma=None,\n",
       "                                           gpu_id=None, grow_policy=None,\n",
       "                                           importance_type=None,\n",
       "                                           interaction_constraints=None,\n",
       "                                           learning_rate=0.1, max_bin=No...\n",
       "                                           n_estimators=100, n_jobs=-1,\n",
       "                                           num_parallel_tree=None,\n",
       "                                           predictor=None, random_state=None,\n",
       "                                           reg_alpha=None, reg_lambda=None, ...),\n",
       "                   n_jobs=-1,\n",
       "                   param_distributions={'gamma': [0, 0.01, 0.1, 0.5, 1, 2],\n",
       "                                        'learning_rate': [0.01, 0.05, 0.1, 0.2,\n",
       "                                                          0.3, 0.4, 0.5],\n",
       "                                        'max_depth': [2, 3, 5, 6, 8],\n",
       "                                        'n_estimators': [100, 200, 300, 400,\n",
       "                                                         800],\n",
       "                                        'subsample': [0.65, 0.7, 0.75]},\n",
       "                   random_state=2, scoring='neg_mean_squared_error', verbose=1)"
      ]
     },
     "execution_count": 86,
     "metadata": {},
     "output_type": "execute_result"
    }
   ],
   "source": [
    "xgb = XGBClassifier(booster='gbtree', max_depth=6,objective='binary:logistic'\n",
    "              ,learning_rate=0.1, n_estimators=100,n_jobs=-1)\n",
    "params = {'subsample':[0.65, 0.7, 0.75],\n",
    "          'n_estimators':[100,200, 300, 400,800],\n",
    "          'learning_rate':[0.01,0.05,0.1,0.2,0.3,0.4,0.5],\n",
    "          'max_depth' : [2,3,5,6,8],\n",
    "          'gamma' : [0,0.01,0.1,0.5,1,2]\n",
    "         }\n",
    "rand_reg = RandomizedSearchCV(xgb,params,n_iter=10,scoring='neg_mean_squared_error'\n",
    "                              ,cv=5,n_jobs=-1,random_state=2,verbose=1)\n",
    "rand_reg.fit(train_X,train_y)"
   ]
  },
  {
   "cell_type": "code",
   "execution_count": 87,
   "id": "2f93e484-4f2e-4bbc-8147-7422db3cfe6f",
   "metadata": {},
   "outputs": [
    {
     "name": "stdout",
     "output_type": "stream",
     "text": [
      "정확률 : 0.952465413267116\n",
      "정밀도 : 0.4979253112033195\n",
      "재현율 : 0.9022556390977443\n",
      "f1_score : 0.6417112299465241\n"
     ]
    }
   ],
   "source": [
    "predict = rand_reg.best_estimator_.predict(val_X)\n",
    "print(f\"정확률 : {accuracy_score(predict,val_y)}\")\n",
    "print(f\"정밀도 : {precision_score(predict,val_y)}\")\n",
    "print(f\"재현율 : {recall_score(predict,val_y)}\")\n",
    "print(f\"f1_score : {f1_score(predict,val_y)}\")"
   ]
  },
  {
   "cell_type": "code",
   "execution_count": 91,
   "id": "3832621d-553a-491d-bf01-25347f1ad09b",
   "metadata": {},
   "outputs": [
    {
     "data": {
      "text/plain": [
       "((11276, 52), (6041, 18))"
      ]
     },
     "execution_count": 91,
     "metadata": {},
     "output_type": "execute_result"
    }
   ],
   "source": [
    "train_X.shape, test.shape"
   ]
  },
  {
   "cell_type": "code",
   "execution_count": 95,
   "id": "1cf51ee5-4415-423c-aaee-6cbd4cf01e04",
   "metadata": {},
   "outputs": [
    {
     "data": {
      "text/plain": [
       "<BarContainer object of 52 artists>"
      ]
     },
     "execution_count": 95,
     "metadata": {},
     "output_type": "execute_result"
    },
    {
     "data": {
      "image/png": "[encoded data removed]",
      "text/plain": [
       "<Figure size 432x288 with 1 Axes>"
      ]
     },
     "metadata": {
      "needs_background": "light"
     },
     "output_type": "display_data"
    }
   ],
   "source": [
    "plt.bar(x = range(1,53),height=rand_reg.best_estimator_.feature_importances_)"
   ]
  },
  {
   "cell_type": "code",
   "execution_count": 100,
   "id": "38b879ab-0238-4c1d-9b43-fd258a0a44b7",
   "metadata": {},
   "outputs": [
    {
     "data": {
      "text/plain": [
       "array([ 6,  2,  1, 10,  8,  7, 11, 39, 51, 21, 38, 28, 37, 19,  5, 50, 27,\n",
       "        4], dtype=int64)"
      ]
     },
     "execution_count": 100,
     "metadata": {},
     "output_type": "execute_result"
    }
   ],
   "source": [
    "sort_index = np.argsort( rand_reg.best_estimator_.feature_importances_)\n",
    "sort_index[::-1][:18]"
   ]
  },
  {
   "cell_type": "code",
   "execution_count": null,
   "id": "0fd42396-dfd0-4d6c-a710-0988a139054b",
   "metadata": {},
   "outputs": [
    {
     "name": "stdout",
     "output_type": "stream",
     "text": [
      "Fitting 5 folds for each of 10 candidates, totalling 50 fits\n"
     ]
    }
   ],
   "source": [
    "temp_x = train_X.iloc[:,sort_index[::-1][:18]]\n",
    "temp_val = val_X.iloc[:,sort_index[::-1][:18]]\n",
    "xgb = XGBClassifier(booster='gbtree', max_depth=6,objective='binary:logistic'\n",
    "              ,learning_rate=0.1, n_estimators=100,n_jobs=-1)\n",
    "params = {'subsample':[0.65, 0.7, 0.75],\n",
    "          'n_estimators':[100,200, 300, 400,800],\n",
    "          'learning_rate':[0.01,0.05,0.1,0.2,0.3,0.4,0.5],\n",
    "          'max_depth' : [2,3,5,6,8],\n",
    "          'gamma' : [0,0.01,0.1,0.5,1,2]\n",
    "         }\n",
    "rand_reg = RandomizedSearchCV(xgb,params,n_iter=10,scoring='neg_mean_squared_error'\n",
    "                              ,cv=5,n_jobs=-1,random_state=2,verbose=1)\n",
    "rand_reg.fit(temp_x,train_y)\n",
    "predict = rand_reg.best_estimator_.predict(temp_val)\n",
    "print(f\"정확률 : {accuracy_score(predict,val_y)}\")\n",
    "print(f\"정밀도 : {precision_score(predict,val_y)}\")\n",
    "print(f\"재현율 : {recall_score(predict,val_y)}\")\n",
    "print(f\"f1_score : {f1_score(predict,val_y)}\")"
   ]
  },
  {
   "cell_type": "code",
   "execution_count": null,
   "id": "2c551770-7a0a-4525-9e35-c19fa267ca66",
   "metadata": {},
   "outputs": [],
   "source": []
  }
 ],
 "metadata": {
  "kernelspec": {
   "display_name": "Python 3 (ipykernel)",
   "language": "python",
   "name": "python3"
  },
  "language_info": {
   "codemirror_mode": {
    "name": "ipython",
    "version": 3
   },
   "file_extension": ".py",
   "mimetype": "text/x-python",
   "name": "python",
   "nbconvert_exporter": "python",
   "pygments_lexer": "ipython3",
   "version": "3.9.12"
  }
 },
 "nbformat": 4,
 "nbformat_minor": 5
}
