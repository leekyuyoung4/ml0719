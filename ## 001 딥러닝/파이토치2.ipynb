{
 "cells": [
  {
   "cell_type": "markdown",
   "id": "d6b975d1-4053-442b-a152-bbf6288a8331",
   "metadata": {},
   "source": [
    "# 퍼셉트론 한개의 신경망"
   ]
  },
  {
   "cell_type": "code",
   "execution_count": 1,
   "id": "0e5548fd-ebea-4855-8116-7941f632b869",
   "metadata": {},
   "outputs": [],
   "source": [
    "import numpy as np\n",
    "import torch\n",
    "import torch.nn as nn"
   ]
  },
  {
   "cell_type": "code",
   "execution_count": 2,
   "id": "941a9057-afcc-49de-b701-3a6b246733d8",
   "metadata": {},
   "outputs": [],
   "source": [
    "seed = 1234\n",
    "torch.manual_seed(seed)\n",
    "torch.cuda.manual_seed_all(seed)  # 쿠다를 설치했을경우.. cuda... 자신의 gpu를 셋팅\n",
    "np.random.seed(seed)"
   ]
  },
  {
   "cell_type": "code",
   "execution_count": 3,
   "id": "2aaec6d0-6096-4be0-b4ea-cedc98aee2f9",
   "metadata": {},
   "outputs": [],
   "source": [
    "class Perceptron(nn.Module):  #  nn.Module 상속\n",
    "    def __init__(self, input_dim): # 생성자\n",
    "        super(Perceptron, self).__init__()\n",
    "        self.fc1 = nn.Linear(input_dim,1)\n",
    "    def forward(self, x_in):  # 정방계산\n",
    "        return torch.sigmoid(self.fc1(x_in)).squeeze()"
   ]
  },
  {
   "cell_type": "code",
   "execution_count": null,
   "id": "d5c884c5-d29e-4922-a7dd-c059c56602a2",
   "metadata": {},
   "outputs": [],
   "source": [
    "# 활성화 함수\n",
    "import torch\n",
    "import matplotlib.pyplot as plt\n",
    "x = torch.arange(-5.0, 5.0, 0.1)\n",
    "y = torch.sigmoid(x)\n",
    "plt.plot(x.numpy(),y.numpy())\n",
    "plt.show()"
   ]
  },
  {
   "cell_type": "code",
   "execution_count": null,
   "id": "4bbba167-9a3e-4439-893a-09fc89534376",
   "metadata": {},
   "outputs": [],
   "source": []
  }
 ],
 "metadata": {
  "kernelspec": {
   "display_name": "Python 3 (ipykernel)",
   "language": "python",
   "name": "python3"
  },
  "language_info": {
   "codemirror_mode": {
    "name": "ipython",
    "version": 3
   },
   "file_extension": ".py",
   "mimetype": "text/x-python",
   "name": "python",
   "nbconvert_exporter": "python",
   "pygments_lexer": "ipython3",
   "version": "3.9.12"
  }
 },
 "nbformat": 4,
 "nbformat_minor": 5
}
