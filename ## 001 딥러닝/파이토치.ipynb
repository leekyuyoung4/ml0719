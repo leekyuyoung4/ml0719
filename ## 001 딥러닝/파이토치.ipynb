{
 "cells": [
  {
   "cell_type": "code",
   "execution_count": 1,
   "id": "2b46d2dd-934d-4041-9d05-b86a6db792cf",
   "metadata": {},
   "outputs": [
    {
     "name": "stdout",
     "output_type": "stream",
     "text": [
      "Collecting torch\n",
      "  Downloading torch-1.13.0-cp39-cp39-win_amd64.whl (167.2 MB)\n",
      "     -------------------------------------- 167.2/167.2 MB 7.7 MB/s eta 0:00:00\n",
      "Requirement already satisfied: typing-extensions in c:\\users\\user\\miniconda3\\envs\\ml\\lib\\site-packages (from torch) (4.3.0)\n",
      "Installing collected packages: torch\n",
      "Successfully installed torch-1.13.0\n",
      "Note: you may need to restart the kernel to use updated packages.\n"
     ]
    }
   ],
   "source": [
    "pip install torch"
   ]
  },
  {
   "cell_type": "code",
   "execution_count": 2,
   "id": "dbb3373e-2c57-4507-8296-f46e8bc4e49f",
   "metadata": {},
   "outputs": [
    {
     "data": {
      "text/plain": [
       "<torch._C.Generator at 0x2169a3a67d0>"
      ]
     },
     "execution_count": 2,
     "metadata": {},
     "output_type": "execute_result"
    }
   ],
   "source": [
    "import torch\n",
    "import numpy as np\n",
    "torch.manual_seed(1234)"
   ]
  },
  {
   "cell_type": "markdown",
   "id": "dafa1b15-1fab-4484-9600-05612e539282",
   "metadata": {},
   "source": [
    "# 텐서\n",
    "    스칼라는 하나의 숫자\n",
    "    벡터는 배열\n",
    "    행렬은 숫자의 2-D 배열\n",
    "    텐서는 숫자의 N-D 배열"
   ]
  },
  {
   "cell_type": "code",
   "execution_count": 9,
   "id": "c3d56fa4-9497-43fb-997c-04da74a83473",
   "metadata": {},
   "outputs": [],
   "source": [
    "# 5행 3열 텐서\n",
    "def describe(x):\n",
    "    print(f\"타입:{x.type()}\")\n",
    "    print(f\"크기:{x.shape}\")\n",
    "    print(f\"값:{x}\")"
   ]
  },
  {
   "cell_type": "code",
   "execution_count": 10,
   "id": "47563b9b-efd5-4058-8dad-84e517699101",
   "metadata": {},
   "outputs": [
    {
     "name": "stdout",
     "output_type": "stream",
     "text": [
      "타입:torch.FloatTensor\n",
      "크기:torch.Size([2, 3])\n",
      "값:tensor([[-7.0393e-18,  7.4829e-43, -7.0394e-18],\n",
      "        [ 7.4829e-43, -7.0394e-18,  7.4829e-43]])\n"
     ]
    }
   ],
   "source": [
    "describe(torch.Tensor(2,3))"
   ]
  },
  {
   "cell_type": "code",
   "execution_count": 11,
   "id": "f94144fb-379c-480e-b77e-2bda9ed34a8f",
   "metadata": {},
   "outputs": [
    {
     "name": "stdout",
     "output_type": "stream",
     "text": [
      "타입:torch.FloatTensor\n",
      "크기:torch.Size([2, 3])\n",
      "값:tensor([[ 0.0461,  0.4024, -1.0115],\n",
      "        [ 0.2167, -0.6123,  0.5036]])\n"
     ]
    }
   ],
   "source": [
    "describe(torch.randn(2,3))"
   ]
  },
  {
   "cell_type": "code",
   "execution_count": 12,
   "id": "f7abf9e8-389e-4799-b1a5-fd6515f01e0e",
   "metadata": {},
   "outputs": [
    {
     "name": "stdout",
     "output_type": "stream",
     "text": [
      "타입:torch.FloatTensor\n",
      "크기:torch.Size([2, 3])\n",
      "값:tensor([[0.7749, 0.8208, 0.2793],\n",
      "        [0.6817, 0.2837, 0.6567]])\n"
     ]
    }
   ],
   "source": [
    "describe(torch.rand(2,3))"
   ]
  },
  {
   "cell_type": "code",
   "execution_count": 13,
   "id": "e9f57626-6512-48e2-8543-98c7609e1838",
   "metadata": {},
   "outputs": [
    {
     "name": "stdout",
     "output_type": "stream",
     "text": [
      "타입:torch.FloatTensor\n",
      "크기:torch.Size([2, 3])\n",
      "값:tensor([[0., 0., 0.],\n",
      "        [0., 0., 0.]])\n"
     ]
    }
   ],
   "source": [
    "# 1이나 0으로 채워진 텐서\n",
    "describe(torch.zeros(2,3))"
   ]
  },
  {
   "cell_type": "code",
   "execution_count": 14,
   "id": "3c65777f-e053-4aa2-ae97-6ff3d22c38e2",
   "metadata": {},
   "outputs": [
    {
     "name": "stdout",
     "output_type": "stream",
     "text": [
      "타입:torch.FloatTensor\n",
      "크기:torch.Size([2, 3])\n",
      "값:tensor([[1., 1., 1.],\n",
      "        [1., 1., 1.]])\n"
     ]
    }
   ],
   "source": [
    "x = torch.ones(2,3)\n",
    "describe(x)"
   ]
  },
  {
   "cell_type": "code",
   "execution_count": 16,
   "id": "0a5b4224-f1b3-4f64-97bb-a1572d099562",
   "metadata": {},
   "outputs": [
    {
     "name": "stdout",
     "output_type": "stream",
     "text": [
      "타입:torch.FloatTensor\n",
      "크기:torch.Size([2, 3])\n",
      "값:tensor([[5., 5., 5.],\n",
      "        [5., 5., 5.]])\n"
     ]
    }
   ],
   "source": [
    "# 파이토치에서 _가 붙은 연산은 inplace=True\n",
    "describe(x.fill_(5))"
   ]
  },
  {
   "cell_type": "code",
   "execution_count": 17,
   "id": "8a171249-52ea-4baa-8701-715ff98baf51",
   "metadata": {},
   "outputs": [
    {
     "name": "stdout",
     "output_type": "stream",
     "text": [
      "타입:torch.FloatTensor\n",
      "크기:torch.Size([2, 3])\n",
      "값:tensor([[5., 5., 5.],\n",
      "        [5., 5., 5.]])\n"
     ]
    }
   ],
   "source": [
    "describe(x)"
   ]
  },
  {
   "cell_type": "code",
   "execution_count": 19,
   "id": "98b95d00-9049-422e-8440-9dbe3a2d613e",
   "metadata": {},
   "outputs": [
    {
     "name": "stdout",
     "output_type": "stream",
     "text": [
      "타입:torch.FloatTensor\n",
      "크기:torch.Size([2, 2])\n",
      "값:tensor([[1., 2.],\n",
      "        [2., 4.]])\n"
     ]
    }
   ],
   "source": [
    "# 리스트로도 만들수 있음\n",
    "x = torch.Tensor([\n",
    "    [1,2],\n",
    "    [2,4]\n",
    "])\n",
    "describe(x)"
   ]
  },
  {
   "cell_type": "code",
   "execution_count": 22,
   "id": "6b6a8c1b-3c30-4cdf-bf98-ecad6a6c0b5c",
   "metadata": {},
   "outputs": [
    {
     "name": "stdout",
     "output_type": "stream",
     "text": [
      "[[0.59930047 0.29121709 0.7573667 ]\n",
      " [0.57039852 0.6372994  0.22570842]]\n",
      "타입:torch.FloatTensor\n",
      "크기:torch.Size([2, 3])\n",
      "값:tensor([[0.5993, 0.2912, 0.7574],\n",
      "        [0.5704, 0.6373, 0.2257]])\n"
     ]
    }
   ],
   "source": [
    "# 넘파일 배열로도 만들수 있음\n",
    "npy = np.random.rand(2,3)\n",
    "print(npy)\n",
    "describe(torch.Tensor(npy))"
   ]
  },
  {
   "cell_type": "code",
   "execution_count": 24,
   "id": "53e28b05-7eb8-4baa-a828-ab35b4abf697",
   "metadata": {},
   "outputs": [
    {
     "data": {
      "text/plain": [
       "tensor([[0, 1, 2],\n",
       "        [3, 4, 5]])"
      ]
     },
     "execution_count": 24,
     "metadata": {},
     "output_type": "execute_result"
    }
   ],
   "source": [
    "# 텐서 타입\n",
    "x = torch.arange(6).view(2,3)"
   ]
  },
  {
   "cell_type": "code",
   "execution_count": null,
   "id": "30456b81-1799-440b-a2d2-da4b20499c06",
   "metadata": {},
   "outputs": [],
   "source": []
  }
 ],
 "metadata": {
  "kernelspec": {
   "display_name": "Python 3 (ipykernel)",
   "language": "python",
   "name": "python3"
  },
  "language_info": {
   "codemirror_mode": {
    "name": "ipython",
    "version": 3
   },
   "file_extension": ".py",
   "mimetype": "text/x-python",
   "name": "python",
   "nbconvert_exporter": "python",
   "pygments_lexer": "ipython3",
   "version": "3.9.12"
  }
 },
 "nbformat": 4,
 "nbformat_minor": 5
}
