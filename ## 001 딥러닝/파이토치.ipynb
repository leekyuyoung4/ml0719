{
 "cells": [
  {
   "cell_type": "code",
   "execution_count": 28,
   "id": "2b46d2dd-934d-4041-9d05-b86a6db792cf",
   "metadata": {},
   "outputs": [
    {
     "name": "stdout",
     "output_type": "stream",
     "text": [
      "Requirement already satisfied: torch in c:\\users\\user\\miniconda3\\envs\\ml\\lib\\site-packages (1.13.0)\n",
      "Requirement already satisfied: typing-extensions in c:\\users\\user\\miniconda3\\envs\\ml\\lib\\site-packages (from torch) (4.3.0)\n"
     ]
    }
   ],
   "source": [
    "!pip install torch"
   ]
  },
  {
   "cell_type": "code",
   "execution_count": 2,
   "id": "dbb3373e-2c57-4507-8296-f46e8bc4e49f",
   "metadata": {},
   "outputs": [
    {
     "data": {
      "text/plain": [
       "<torch._C.Generator at 0x2169a3a67d0>"
      ]
     },
     "execution_count": 2,
     "metadata": {},
     "output_type": "execute_result"
    }
   ],
   "source": [
    "import torch\n",
    "import numpy as np\n",
    "torch.manual_seed(1234)"
   ]
  },
  {
   "cell_type": "code",
   "execution_count": 29,
   "id": "44175d6b-8cdd-4f04-acb8-e277ae2dc056",
   "metadata": {},
   "outputs": [],
   "source": [
    "from torch import Tensor"
   ]
  },
  {
   "cell_type": "markdown",
   "id": "dafa1b15-1fab-4484-9600-05612e539282",
   "metadata": {},
   "source": [
    "# 텐서\n",
    "    스칼라는 하나의 숫자\n",
    "    벡터는 배열\n",
    "    행렬은 숫자의 2-D 배열\n",
    "    텐서는 숫자의 N-D 배열"
   ]
  },
  {
   "cell_type": "code",
   "execution_count": 26,
   "id": "1fea0d3b-19f7-4f29-932d-e15fcff7f10e",
   "metadata": {},
   "outputs": [
    {
     "data": {
      "text/plain": [
       "'1.13.0+cpu'"
      ]
     },
     "execution_count": 26,
     "metadata": {},
     "output_type": "execute_result"
    }
   ],
   "source": [
    "torch.__version__"
   ]
  },
  {
   "cell_type": "code",
   "execution_count": 9,
   "id": "c3d56fa4-9497-43fb-997c-04da74a83473",
   "metadata": {},
   "outputs": [],
   "source": [
    "# 5행 3열 텐서\n",
    "def describe(x):\n",
    "    print(f\"타입:{x.type()}\")\n",
    "    print(f\"크기:{x.shape}\")\n",
    "    print(f\"값:{x}\")"
   ]
  },
  {
   "cell_type": "code",
   "execution_count": 27,
   "id": "7ed4bac2-9b8f-4ad3-90c6-8f8667e9af65",
   "metadata": {},
   "outputs": [
    {
     "data": {
      "text/plain": [
       "module"
      ]
     },
     "execution_count": 27,
     "metadata": {},
     "output_type": "execute_result"
    }
   ],
   "source": []
  },
  {
   "cell_type": "code",
   "execution_count": 10,
   "id": "47563b9b-efd5-4058-8dad-84e517699101",
   "metadata": {},
   "outputs": [
    {
     "name": "stdout",
     "output_type": "stream",
     "text": [
      "타입:torch.FloatTensor\n",
      "크기:torch.Size([2, 3])\n",
      "값:tensor([[-7.0393e-18,  7.4829e-43, -7.0394e-18],\n",
      "        [ 7.4829e-43, -7.0394e-18,  7.4829e-43]])\n"
     ]
    }
   ],
   "source": [
    "describe(torch.Tensor(2,3))"
   ]
  },
  {
   "cell_type": "code",
   "execution_count": 11,
   "id": "f94144fb-379c-480e-b77e-2bda9ed34a8f",
   "metadata": {},
   "outputs": [
    {
     "name": "stdout",
     "output_type": "stream",
     "text": [
      "타입:torch.FloatTensor\n",
      "크기:torch.Size([2, 3])\n",
      "값:tensor([[ 0.0461,  0.4024, -1.0115],\n",
      "        [ 0.2167, -0.6123,  0.5036]])\n"
     ]
    }
   ],
   "source": [
    "describe(torch.randn(2,3))"
   ]
  },
  {
   "cell_type": "code",
   "execution_count": 12,
   "id": "f7abf9e8-389e-4799-b1a5-fd6515f01e0e",
   "metadata": {},
   "outputs": [
    {
     "name": "stdout",
     "output_type": "stream",
     "text": [
      "타입:torch.FloatTensor\n",
      "크기:torch.Size([2, 3])\n",
      "값:tensor([[0.7749, 0.8208, 0.2793],\n",
      "        [0.6817, 0.2837, 0.6567]])\n"
     ]
    }
   ],
   "source": [
    "describe(torch.rand(2,3))"
   ]
  },
  {
   "cell_type": "code",
   "execution_count": 13,
   "id": "e9f57626-6512-48e2-8543-98c7609e1838",
   "metadata": {},
   "outputs": [
    {
     "name": "stdout",
     "output_type": "stream",
     "text": [
      "타입:torch.FloatTensor\n",
      "크기:torch.Size([2, 3])\n",
      "값:tensor([[0., 0., 0.],\n",
      "        [0., 0., 0.]])\n"
     ]
    }
   ],
   "source": [
    "# 1이나 0으로 채워진 텐서\n",
    "describe(torch.zeros(2,3))"
   ]
  },
  {
   "cell_type": "code",
   "execution_count": 14,
   "id": "3c65777f-e053-4aa2-ae97-6ff3d22c38e2",
   "metadata": {},
   "outputs": [
    {
     "name": "stdout",
     "output_type": "stream",
     "text": [
      "타입:torch.FloatTensor\n",
      "크기:torch.Size([2, 3])\n",
      "값:tensor([[1., 1., 1.],\n",
      "        [1., 1., 1.]])\n"
     ]
    }
   ],
   "source": [
    "x = torch.ones(2,3)\n",
    "describe(x)"
   ]
  },
  {
   "cell_type": "code",
   "execution_count": 16,
   "id": "0a5b4224-f1b3-4f64-97bb-a1572d099562",
   "metadata": {},
   "outputs": [
    {
     "name": "stdout",
     "output_type": "stream",
     "text": [
      "타입:torch.FloatTensor\n",
      "크기:torch.Size([2, 3])\n",
      "값:tensor([[5., 5., 5.],\n",
      "        [5., 5., 5.]])\n"
     ]
    }
   ],
   "source": [
    "# 파이토치에서 _가 붙은 연산은 inplace=True\n",
    "describe(x.fill_(5))"
   ]
  },
  {
   "cell_type": "code",
   "execution_count": 17,
   "id": "8a171249-52ea-4baa-8701-715ff98baf51",
   "metadata": {},
   "outputs": [
    {
     "name": "stdout",
     "output_type": "stream",
     "text": [
      "타입:torch.FloatTensor\n",
      "크기:torch.Size([2, 3])\n",
      "값:tensor([[5., 5., 5.],\n",
      "        [5., 5., 5.]])\n"
     ]
    }
   ],
   "source": [
    "describe(x)"
   ]
  },
  {
   "cell_type": "code",
   "execution_count": 19,
   "id": "98b95d00-9049-422e-8440-9dbe3a2d613e",
   "metadata": {},
   "outputs": [
    {
     "name": "stdout",
     "output_type": "stream",
     "text": [
      "타입:torch.FloatTensor\n",
      "크기:torch.Size([2, 2])\n",
      "값:tensor([[1., 2.],\n",
      "        [2., 4.]])\n"
     ]
    }
   ],
   "source": [
    "# 리스트로도 만들수 있음\n",
    "x = torch.Tensor([\n",
    "    [1,2],\n",
    "    [2,4]\n",
    "])\n",
    "describe(x)"
   ]
  },
  {
   "cell_type": "code",
   "execution_count": 22,
   "id": "6b6a8c1b-3c30-4cdf-bf98-ecad6a6c0b5c",
   "metadata": {},
   "outputs": [
    {
     "name": "stdout",
     "output_type": "stream",
     "text": [
      "[[0.59930047 0.29121709 0.7573667 ]\n",
      " [0.57039852 0.6372994  0.22570842]]\n",
      "타입:torch.FloatTensor\n",
      "크기:torch.Size([2, 3])\n",
      "값:tensor([[0.5993, 0.2912, 0.7574],\n",
      "        [0.5704, 0.6373, 0.2257]])\n"
     ]
    }
   ],
   "source": [
    "# 넘파일 배열로도 만들수 있음\n",
    "npy = np.random.rand(2,3)\n",
    "print(npy)\n",
    "describe(torch.Tensor(npy))"
   ]
  },
  {
   "cell_type": "code",
   "execution_count": 25,
   "id": "53e28b05-7eb8-4baa-a828-ab35b4abf697",
   "metadata": {},
   "outputs": [
    {
     "name": "stdout",
     "output_type": "stream",
     "text": [
      "타입:torch.LongTensor\n",
      "크기:torch.Size([2, 3])\n",
      "값:tensor([[0, 1, 2],\n",
      "        [3, 4, 5]])\n"
     ]
    }
   ],
   "source": [
    "# 텐서 타입\n",
    "x = torch.arange(6).view(2,3)\n",
    "describe(x)"
   ]
  },
  {
   "cell_type": "code",
   "execution_count": 33,
   "id": "30456b81-1799-440b-a2d2-da4b20499c06",
   "metadata": {},
   "outputs": [
    {
     "name": "stdout",
     "output_type": "stream",
     "text": [
      "타입:torch.LongTensor\n",
      "크기:torch.Size([2, 3])\n",
      "값:tensor([[1, 2, 3],\n",
      "        [4, 5, 6]])\n"
     ]
    }
   ],
   "source": [
    "x = torch.FloatTensor([\n",
    "    [1,2,3],\n",
    "    [4,5,6]\n",
    "]\n",
    ")\n",
    "x = x.long()\n",
    "describe(x)"
   ]
  },
  {
   "cell_type": "code",
   "execution_count": 41,
   "id": "e9b9566f-3f08-4104-8cd9-f0959b9f0a36",
   "metadata": {},
   "outputs": [
    {
     "name": "stdout",
     "output_type": "stream",
     "text": [
      "타입:torch.LongTensor\n",
      "크기:torch.Size([2, 3])\n",
      "값:tensor([[1, 2, 3],\n",
      "        [4, 5, 6]])\n"
     ]
    }
   ],
   "source": [
    "x = torch.tensor(\n",
    "    [\n",
    "        [1,2,3],\n",
    "        [4,5,6]\n",
    "    ],\n",
    "    dtype = torch.int64\n",
    ")\n",
    "describe(x)"
   ]
  },
  {
   "cell_type": "code",
   "execution_count": 42,
   "id": "89578ed9-ced3-4cb0-bbbc-1fefc4bb4efd",
   "metadata": {},
   "outputs": [
    {
     "name": "stdout",
     "output_type": "stream",
     "text": [
      "타입:torch.FloatTensor\n",
      "크기:torch.Size([2, 3])\n",
      "값:tensor([[1., 2., 3.],\n",
      "        [4., 5., 6.]])\n"
     ]
    }
   ],
   "source": [
    "x = x.float()\n",
    "describe(x)"
   ]
  },
  {
   "cell_type": "code",
   "execution_count": 44,
   "id": "9efcc57e-9096-4459-9f91-78ebfcd6e7f7",
   "metadata": {},
   "outputs": [
    {
     "data": {
      "text/plain": [
       "tensor([[-0.4175,  0.7618,  0.5356],\n",
       "        [ 1.5739, -0.4864, -0.6622]])"
      ]
     },
     "execution_count": 44,
     "metadata": {},
     "output_type": "execute_result"
    }
   ],
   "source": [
    "x = torch.randn(2,3)\n",
    "x"
   ]
  },
  {
   "cell_type": "code",
   "execution_count": 45,
   "id": "09dd6f30-445d-4aec-a04f-c87d88ba87b7",
   "metadata": {},
   "outputs": [
    {
     "name": "stdout",
     "output_type": "stream",
     "text": [
      "타입:torch.FloatTensor\n",
      "크기:torch.Size([2, 3])\n",
      "값:tensor([[-0.8351,  1.5236,  1.0713],\n",
      "        [ 3.1477, -0.9729, -1.3244]])\n"
     ]
    }
   ],
   "source": [
    "describe(torch.add(x,x))"
   ]
  },
  {
   "cell_type": "code",
   "execution_count": 46,
   "id": "2966292a-cfc3-4e10-b877-377f178a2df0",
   "metadata": {},
   "outputs": [
    {
     "name": "stdout",
     "output_type": "stream",
     "text": [
      "타입:torch.FloatTensor\n",
      "크기:torch.Size([2, 3])\n",
      "값:tensor([[-0.8351,  1.5236,  1.0713],\n",
      "        [ 3.1477, -0.9729, -1.3244]])\n"
     ]
    }
   ],
   "source": [
    "describe(x+x)"
   ]
  },
  {
   "cell_type": "code",
   "execution_count": 48,
   "id": "13c829da-c14f-4c72-bff6-034fb3759233",
   "metadata": {},
   "outputs": [
    {
     "data": {
      "text/plain": [
       "tensor([0, 1, 2, 3, 4, 5])"
      ]
     },
     "execution_count": 48,
     "metadata": {},
     "output_type": "execute_result"
    }
   ],
   "source": [
    "x = torch.arange(6)\n",
    "x"
   ]
  },
  {
   "cell_type": "code",
   "execution_count": 57,
   "id": "679a2c5e-fe24-4962-bf54-af43827eef85",
   "metadata": {},
   "outputs": [
    {
     "name": "stdout",
     "output_type": "stream",
     "text": [
      "타입:torch.LongTensor\n",
      "크기:torch.Size([2, 3])\n",
      "값:tensor([[0, 1, 2],\n",
      "        [3, 4, 5]])\n"
     ]
    }
   ],
   "source": [
    "x = x.view(2,3)\n",
    "describe(x)"
   ]
  },
  {
   "cell_type": "code",
   "execution_count": 70,
   "id": "61fd1696-b1ca-4306-a1c3-01b173cadf25",
   "metadata": {},
   "outputs": [
    {
     "name": "stdout",
     "output_type": "stream",
     "text": [
      "타입:torch.LongTensor\n",
      "크기:torch.Size([3, 2])\n",
      "값:tensor([[0, 3],\n",
      "        [1, 4],\n",
      "        [2, 5]])\n",
      "타입:torch.LongTensor\n",
      "크기:torch.Size([3, 2])\n",
      "값:tensor([[0, 3],\n",
      "        [1, 4],\n",
      "        [2, 5]])\n"
     ]
    }
   ],
   "source": [
    "describe(torch.transpose(x,0,1))\n",
    "describe(x.T)"
   ]
  },
  {
   "cell_type": "code",
   "execution_count": 59,
   "id": "55721abc-b72f-4cb0-be5b-125347295f59",
   "metadata": {},
   "outputs": [
    {
     "name": "stdout",
     "output_type": "stream",
     "text": [
      "타입:torch.LongTensor\n",
      "크기:torch.Size([3])\n",
      "값:tensor([3, 5, 7])\n"
     ]
    }
   ],
   "source": [
    "describe(torch.sum(x,axis = 0))\n",
    "describe(torch.sum(x,dim = 0))"
   ]
  },
  {
   "cell_type": "code",
   "execution_count": 60,
   "id": "3683a1f1-5ace-47bf-9747-898c6a521d6f",
   "metadata": {},
   "outputs": [
    {
     "name": "stdout",
     "output_type": "stream",
     "text": [
      "타입:torch.LongTensor\n",
      "크기:torch.Size([2])\n",
      "값:tensor([ 3, 12])\n",
      "타입:torch.LongTensor\n",
      "크기:torch.Size([2])\n",
      "값:tensor([ 3, 12])\n"
     ]
    }
   ],
   "source": [
    "describe(torch.sum(x,axis = 1))\n",
    "describe(torch.sum(x,dim = 1))"
   ]
  },
  {
   "cell_type": "code",
   "execution_count": 74,
   "id": "b44d44a3-2fb1-431e-9658-b805caf80b79",
   "metadata": {},
   "outputs": [
    {
     "name": "stdout",
     "output_type": "stream",
     "text": [
      "타입:torch.LongTensor\n",
      "크기:torch.Size([2, 3])\n",
      "값:tensor([[0, 1, 2],\n",
      "        [3, 4, 5]])\n",
      "타입:torch.LongTensor\n",
      "크기:torch.Size([1, 2])\n",
      "값:tensor([[0, 1]])\n"
     ]
    }
   ],
   "source": [
    "# 슬라이싱 제공\n",
    "x = torch.arange(6).view(2,3)\n",
    "describe(x)\n",
    "describe(x[:1,:2])"
   ]
  },
  {
   "cell_type": "code",
   "execution_count": 77,
   "id": "9b4222bd-1ae2-4a2e-9699-efd012ad3600",
   "metadata": {},
   "outputs": [
    {
     "name": "stdout",
     "output_type": "stream",
     "text": [
      "타입:torch.LongTensor\n",
      "크기:torch.Size([2, 2])\n",
      "값:tensor([[0, 2],\n",
      "        [3, 5]])\n"
     ]
    }
   ],
   "source": [
    "inx = torch.LongTensor([0,2])\n",
    "describe(torch.index_select(x,dim=1,index = inx))"
   ]
  },
  {
   "cell_type": "code",
   "execution_count": 80,
   "id": "cb75b3a5-52f0-4231-ad9f-0176203b4be4",
   "metadata": {},
   "outputs": [
    {
     "name": "stdout",
     "output_type": "stream",
     "text": [
      "타입:torch.LongTensor\n",
      "크기:torch.Size([20])\n",
      "값:tensor([ 0,  1,  2,  3,  4,  5,  6,  7,  8,  9, 10, 11, 12, 13, 14, 15, 16, 17,\n",
      "        18, 19])\n"
     ]
    }
   ],
   "source": [
    "# 숫자가 증가되는 벡터를 만들수 있음\n",
    "x = torch.arange(0,20)\n",
    "describe(x)"
   ]
  },
  {
   "cell_type": "code",
   "execution_count": 81,
   "id": "ac2beb37-bf7c-4d45-8cfb-a6a678fa10d5",
   "metadata": {},
   "outputs": [
    {
     "name": "stdout",
     "output_type": "stream",
     "text": [
      "tensor([[ 0,  1,  2,  3,  4,  5,  6,  7,  8,  9, 10, 11, 12, 13, 14, 15, 16, 17,\n",
      "         18, 19]])\n"
     ]
    }
   ],
   "source": [
    "# view - >텐서의 차원을 변경\n",
    "print(x.view(1,20))"
   ]
  },
  {
   "cell_type": "code",
   "execution_count": 82,
   "id": "06848c88-5ac7-487d-8249-d15b49d2163f",
   "metadata": {},
   "outputs": [
    {
     "name": "stdout",
     "output_type": "stream",
     "text": [
      "tensor([[ 0,  1,  2,  3,  4,  5,  6,  7,  8,  9, 10, 11, 12, 13, 14, 15, 16, 17,\n",
      "         18, 19]])\n"
     ]
    }
   ],
   "source": [
    "print(x.view(1,-1))"
   ]
  },
  {
   "cell_type": "code",
   "execution_count": 88,
   "id": "b79a2e94-030e-4134-b58e-da348ed67b88",
   "metadata": {},
   "outputs": [
    {
     "name": "stdout",
     "output_type": "stream",
     "text": [
      "tensor([[ 0,  1,  2,  3,  4],\n",
      "        [ 5,  6,  7,  8,  9],\n",
      "        [10, 11, 12, 13, 14],\n",
      "        [15, 16, 17, 18, 19]])\n"
     ]
    }
   ],
   "source": [
    "print(x.view(4,-1))"
   ]
  },
  {
   "cell_type": "code",
   "execution_count": null,
   "id": "d42e9be2-9d84-4bff-8632-d9fcd9fc3acd",
   "metadata": {},
   "outputs": [],
   "source": []
  }
 ],
 "metadata": {
  "kernelspec": {
   "display_name": "Python 3 (ipykernel)",
   "language": "python",
   "name": "python3"
  },
  "language_info": {
   "codemirror_mode": {
    "name": "ipython",
    "version": 3
   },
   "file_extension": ".py",
   "mimetype": "text/x-python",
   "name": "python",
   "nbconvert_exporter": "python",
   "pygments_lexer": "ipython3",
   "version": "3.9.12"
  }
 },
 "nbformat": 4,
 "nbformat_minor": 5
}
