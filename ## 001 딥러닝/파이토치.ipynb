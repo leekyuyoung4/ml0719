{
 "cells": [
  {
   "cell_type": "code",
   "execution_count": 28,
   "id": "2b46d2dd-934d-4041-9d05-b86a6db792cf",
   "metadata": {},
   "outputs": [
    {
     "name": "stdout",
     "output_type": "stream",
     "text": [
      "Requirement already satisfied: torch in c:\\users\\user\\miniconda3\\envs\\ml\\lib\\site-packages (1.13.0)\n",
      "Requirement already satisfied: typing-extensions in c:\\users\\user\\miniconda3\\envs\\ml\\lib\\site-packages (from torch) (4.3.0)\n"
     ]
    }
   ],
   "source": [
    "!pip install torch"
   ]
  },
  {
   "cell_type": "code",
   "execution_count": 2,
   "id": "dbb3373e-2c57-4507-8296-f46e8bc4e49f",
   "metadata": {},
   "outputs": [
    {
     "data": {
      "text/plain": [
       "<torch._C.Generator at 0x2169a3a67d0>"
      ]
     },
     "execution_count": 2,
     "metadata": {},
     "output_type": "execute_result"
    }
   ],
   "source": [
    "import torch\n",
    "import numpy as np\n",
    "torch.manual_seed(1234)"
   ]
  },
  {
   "cell_type": "code",
   "execution_count": 29,
   "id": "44175d6b-8cdd-4f04-acb8-e277ae2dc056",
   "metadata": {},
   "outputs": [],
   "source": [
    "from torch import Tensor"
   ]
  },
  {
   "cell_type": "markdown",
   "id": "dafa1b15-1fab-4484-9600-05612e539282",
   "metadata": {},
   "source": [
    "# 텐서\n",
    "    스칼라는 하나의 숫자\n",
    "    벡터는 배열\n",
    "    행렬은 숫자의 2-D 배열\n",
    "    텐서는 숫자의 N-D 배열"
   ]
  },
  {
   "cell_type": "code",
   "execution_count": 26,
   "id": "1fea0d3b-19f7-4f29-932d-e15fcff7f10e",
   "metadata": {},
   "outputs": [
    {
     "data": {
      "text/plain": [
       "'1.13.0+cpu'"
      ]
     },
     "execution_count": 26,
     "metadata": {},
     "output_type": "execute_result"
    }
   ],
   "source": [
    "torch.__version__"
   ]
  },
  {
   "cell_type": "code",
   "execution_count": 9,
   "id": "c3d56fa4-9497-43fb-997c-04da74a83473",
   "metadata": {},
   "outputs": [],
   "source": [
    "# 5행 3열 텐서\n",
    "def describe(x):\n",
    "    print(f\"타입:{x.type()}\")\n",
    "    print(f\"크기:{x.shape}\")\n",
    "    print(f\"값:{x}\")"
   ]
  },
  {
   "cell_type": "code",
   "execution_count": 27,
   "id": "7ed4bac2-9b8f-4ad3-90c6-8f8667e9af65",
   "metadata": {},
   "outputs": [
    {
     "data": {
      "text/plain": [
       "module"
      ]
     },
     "execution_count": 27,
     "metadata": {},
     "output_type": "execute_result"
    }
   ],
   "source": []
  },
  {
   "cell_type": "code",
   "execution_count": 10,
   "id": "47563b9b-efd5-4058-8dad-84e517699101",
   "metadata": {},
   "outputs": [
    {
     "name": "stdout",
     "output_type": "stream",
     "text": [
      "타입:torch.FloatTensor\n",
      "크기:torch.Size([2, 3])\n",
      "값:tensor([[-7.0393e-18,  7.4829e-43, -7.0394e-18],\n",
      "        [ 7.4829e-43, -7.0394e-18,  7.4829e-43]])\n"
     ]
    }
   ],
   "source": [
    "describe(torch.Tensor(2,3))"
   ]
  },
  {
   "cell_type": "code",
   "execution_count": 11,
   "id": "f94144fb-379c-480e-b77e-2bda9ed34a8f",
   "metadata": {},
   "outputs": [
    {
     "name": "stdout",
     "output_type": "stream",
     "text": [
      "타입:torch.FloatTensor\n",
      "크기:torch.Size([2, 3])\n",
      "값:tensor([[ 0.0461,  0.4024, -1.0115],\n",
      "        [ 0.2167, -0.6123,  0.5036]])\n"
     ]
    }
   ],
   "source": [
    "describe(torch.randn(2,3))"
   ]
  },
  {
   "cell_type": "code",
   "execution_count": 12,
   "id": "f7abf9e8-389e-4799-b1a5-fd6515f01e0e",
   "metadata": {},
   "outputs": [
    {
     "name": "stdout",
     "output_type": "stream",
     "text": [
      "타입:torch.FloatTensor\n",
      "크기:torch.Size([2, 3])\n",
      "값:tensor([[0.7749, 0.8208, 0.2793],\n",
      "        [0.6817, 0.2837, 0.6567]])\n"
     ]
    }
   ],
   "source": [
    "describe(torch.rand(2,3))"
   ]
  },
  {
   "cell_type": "code",
   "execution_count": 13,
   "id": "e9f57626-6512-48e2-8543-98c7609e1838",
   "metadata": {},
   "outputs": [
    {
     "name": "stdout",
     "output_type": "stream",
     "text": [
      "타입:torch.FloatTensor\n",
      "크기:torch.Size([2, 3])\n",
      "값:tensor([[0., 0., 0.],\n",
      "        [0., 0., 0.]])\n"
     ]
    }
   ],
   "source": [
    "# 1이나 0으로 채워진 텐서\n",
    "describe(torch.zeros(2,3))"
   ]
  },
  {
   "cell_type": "code",
   "execution_count": 14,
   "id": "3c65777f-e053-4aa2-ae97-6ff3d22c38e2",
   "metadata": {},
   "outputs": [
    {
     "name": "stdout",
     "output_type": "stream",
     "text": [
      "타입:torch.FloatTensor\n",
      "크기:torch.Size([2, 3])\n",
      "값:tensor([[1., 1., 1.],\n",
      "        [1., 1., 1.]])\n"
     ]
    }
   ],
   "source": [
    "x = torch.ones(2,3)\n",
    "describe(x)"
   ]
  },
  {
   "cell_type": "code",
   "execution_count": 16,
   "id": "0a5b4224-f1b3-4f64-97bb-a1572d099562",
   "metadata": {},
   "outputs": [
    {
     "name": "stdout",
     "output_type": "stream",
     "text": [
      "타입:torch.FloatTensor\n",
      "크기:torch.Size([2, 3])\n",
      "값:tensor([[5., 5., 5.],\n",
      "        [5., 5., 5.]])\n"
     ]
    }
   ],
   "source": [
    "# 파이토치에서 _가 붙은 연산은 inplace=True\n",
    "describe(x.fill_(5))"
   ]
  },
  {
   "cell_type": "code",
   "execution_count": 17,
   "id": "8a171249-52ea-4baa-8701-715ff98baf51",
   "metadata": {},
   "outputs": [
    {
     "name": "stdout",
     "output_type": "stream",
     "text": [
      "타입:torch.FloatTensor\n",
      "크기:torch.Size([2, 3])\n",
      "값:tensor([[5., 5., 5.],\n",
      "        [5., 5., 5.]])\n"
     ]
    }
   ],
   "source": [
    "describe(x)"
   ]
  },
  {
   "cell_type": "code",
   "execution_count": 19,
   "id": "98b95d00-9049-422e-8440-9dbe3a2d613e",
   "metadata": {},
   "outputs": [
    {
     "name": "stdout",
     "output_type": "stream",
     "text": [
      "타입:torch.FloatTensor\n",
      "크기:torch.Size([2, 2])\n",
      "값:tensor([[1., 2.],\n",
      "        [2., 4.]])\n"
     ]
    }
   ],
   "source": [
    "# 리스트로도 만들수 있음\n",
    "x = torch.Tensor([\n",
    "    [1,2],\n",
    "    [2,4]\n",
    "])\n",
    "describe(x)"
   ]
  },
  {
   "cell_type": "code",
   "execution_count": 22,
   "id": "6b6a8c1b-3c30-4cdf-bf98-ecad6a6c0b5c",
   "metadata": {},
   "outputs": [
    {
     "name": "stdout",
     "output_type": "stream",
     "text": [
      "[[0.59930047 0.29121709 0.7573667 ]\n",
      " [0.57039852 0.6372994  0.22570842]]\n",
      "타입:torch.FloatTensor\n",
      "크기:torch.Size([2, 3])\n",
      "값:tensor([[0.5993, 0.2912, 0.7574],\n",
      "        [0.5704, 0.6373, 0.2257]])\n"
     ]
    }
   ],
   "source": [
    "# 넘파일 배열로도 만들수 있음\n",
    "npy = np.random.rand(2,3)\n",
    "print(npy)\n",
    "describe(torch.Tensor(npy))"
   ]
  },
  {
   "cell_type": "code",
   "execution_count": 25,
   "id": "53e28b05-7eb8-4baa-a828-ab35b4abf697",
   "metadata": {},
   "outputs": [
    {
     "name": "stdout",
     "output_type": "stream",
     "text": [
      "타입:torch.LongTensor\n",
      "크기:torch.Size([2, 3])\n",
      "값:tensor([[0, 1, 2],\n",
      "        [3, 4, 5]])\n"
     ]
    }
   ],
   "source": [
    "# 텐서 타입\n",
    "x = torch.arange(6).view(2,3)\n",
    "describe(x)"
   ]
  },
  {
   "cell_type": "code",
   "execution_count": 33,
   "id": "30456b81-1799-440b-a2d2-da4b20499c06",
   "metadata": {},
   "outputs": [
    {
     "name": "stdout",
     "output_type": "stream",
     "text": [
      "타입:torch.LongTensor\n",
      "크기:torch.Size([2, 3])\n",
      "값:tensor([[1, 2, 3],\n",
      "        [4, 5, 6]])\n"
     ]
    }
   ],
   "source": [
    "x = torch.FloatTensor([\n",
    "    [1,2,3],\n",
    "    [4,5,6]\n",
    "]\n",
    ")\n",
    "x = x.long()\n",
    "describe(x)"
   ]
  },
  {
   "cell_type": "code",
   "execution_count": 41,
   "id": "e9b9566f-3f08-4104-8cd9-f0959b9f0a36",
   "metadata": {},
   "outputs": [
    {
     "name": "stdout",
     "output_type": "stream",
     "text": [
      "타입:torch.LongTensor\n",
      "크기:torch.Size([2, 3])\n",
      "값:tensor([[1, 2, 3],\n",
      "        [4, 5, 6]])\n"
     ]
    }
   ],
   "source": [
    "x = torch.tensor(\n",
    "    [\n",
    "        [1,2,3],\n",
    "        [4,5,6]\n",
    "    ],\n",
    "    dtype = torch.int64\n",
    ")\n",
    "describe(x)"
   ]
  },
  {
   "cell_type": "code",
   "execution_count": 42,
   "id": "89578ed9-ced3-4cb0-bbbc-1fefc4bb4efd",
   "metadata": {},
   "outputs": [
    {
     "name": "stdout",
     "output_type": "stream",
     "text": [
      "타입:torch.FloatTensor\n",
      "크기:torch.Size([2, 3])\n",
      "값:tensor([[1., 2., 3.],\n",
      "        [4., 5., 6.]])\n"
     ]
    }
   ],
   "source": [
    "x = x.float()\n",
    "describe(x)"
   ]
  },
  {
   "cell_type": "code",
   "execution_count": 44,
   "id": "9efcc57e-9096-4459-9f91-78ebfcd6e7f7",
   "metadata": {},
   "outputs": [
    {
     "data": {
      "text/plain": [
       "tensor([[-0.4175,  0.7618,  0.5356],\n",
       "        [ 1.5739, -0.4864, -0.6622]])"
      ]
     },
     "execution_count": 44,
     "metadata": {},
     "output_type": "execute_result"
    }
   ],
   "source": [
    "x = torch.randn(2,3)\n",
    "x"
   ]
  },
  {
   "cell_type": "code",
   "execution_count": 45,
   "id": "09dd6f30-445d-4aec-a04f-c87d88ba87b7",
   "metadata": {},
   "outputs": [
    {
     "name": "stdout",
     "output_type": "stream",
     "text": [
      "타입:torch.FloatTensor\n",
      "크기:torch.Size([2, 3])\n",
      "값:tensor([[-0.8351,  1.5236,  1.0713],\n",
      "        [ 3.1477, -0.9729, -1.3244]])\n"
     ]
    }
   ],
   "source": [
    "describe(torch.add(x,x))"
   ]
  },
  {
   "cell_type": "code",
   "execution_count": 46,
   "id": "2966292a-cfc3-4e10-b877-377f178a2df0",
   "metadata": {},
   "outputs": [
    {
     "name": "stdout",
     "output_type": "stream",
     "text": [
      "타입:torch.FloatTensor\n",
      "크기:torch.Size([2, 3])\n",
      "값:tensor([[-0.8351,  1.5236,  1.0713],\n",
      "        [ 3.1477, -0.9729, -1.3244]])\n"
     ]
    }
   ],
   "source": [
    "describe(x+x)"
   ]
  },
  {
   "cell_type": "code",
   "execution_count": 48,
   "id": "13c829da-c14f-4c72-bff6-034fb3759233",
   "metadata": {},
   "outputs": [
    {
     "data": {
      "text/plain": [
       "tensor([0, 1, 2, 3, 4, 5])"
      ]
     },
     "execution_count": 48,
     "metadata": {},
     "output_type": "execute_result"
    }
   ],
   "source": [
    "x = torch.arange(6)\n",
    "x"
   ]
  },
  {
   "cell_type": "code",
   "execution_count": 57,
   "id": "679a2c5e-fe24-4962-bf54-af43827eef85",
   "metadata": {},
   "outputs": [
    {
     "name": "stdout",
     "output_type": "stream",
     "text": [
      "타입:torch.LongTensor\n",
      "크기:torch.Size([2, 3])\n",
      "값:tensor([[0, 1, 2],\n",
      "        [3, 4, 5]])\n"
     ]
    }
   ],
   "source": [
    "x = x.view(2,3)\n",
    "describe(x)"
   ]
  },
  {
   "cell_type": "code",
   "execution_count": 70,
   "id": "61fd1696-b1ca-4306-a1c3-01b173cadf25",
   "metadata": {},
   "outputs": [
    {
     "name": "stdout",
     "output_type": "stream",
     "text": [
      "타입:torch.LongTensor\n",
      "크기:torch.Size([3, 2])\n",
      "값:tensor([[0, 3],\n",
      "        [1, 4],\n",
      "        [2, 5]])\n",
      "타입:torch.LongTensor\n",
      "크기:torch.Size([3, 2])\n",
      "값:tensor([[0, 3],\n",
      "        [1, 4],\n",
      "        [2, 5]])\n"
     ]
    }
   ],
   "source": [
    "describe(torch.transpose(x,0,1))\n",
    "describe(x.T)"
   ]
  },
  {
   "cell_type": "code",
   "execution_count": 59,
   "id": "55721abc-b72f-4cb0-be5b-125347295f59",
   "metadata": {},
   "outputs": [
    {
     "name": "stdout",
     "output_type": "stream",
     "text": [
      "타입:torch.LongTensor\n",
      "크기:torch.Size([3])\n",
      "값:tensor([3, 5, 7])\n"
     ]
    }
   ],
   "source": [
    "describe(torch.sum(x,axis = 0))\n",
    "describe(torch.sum(x,dim = 0))"
   ]
  },
  {
   "cell_type": "code",
   "execution_count": 60,
   "id": "3683a1f1-5ace-47bf-9747-898c6a521d6f",
   "metadata": {},
   "outputs": [
    {
     "name": "stdout",
     "output_type": "stream",
     "text": [
      "타입:torch.LongTensor\n",
      "크기:torch.Size([2])\n",
      "값:tensor([ 3, 12])\n",
      "타입:torch.LongTensor\n",
      "크기:torch.Size([2])\n",
      "값:tensor([ 3, 12])\n"
     ]
    }
   ],
   "source": [
    "describe(torch.sum(x,axis = 1))\n",
    "describe(torch.sum(x,dim = 1))"
   ]
  },
  {
   "cell_type": "code",
   "execution_count": 74,
   "id": "b44d44a3-2fb1-431e-9658-b805caf80b79",
   "metadata": {},
   "outputs": [
    {
     "name": "stdout",
     "output_type": "stream",
     "text": [
      "타입:torch.LongTensor\n",
      "크기:torch.Size([2, 3])\n",
      "값:tensor([[0, 1, 2],\n",
      "        [3, 4, 5]])\n",
      "타입:torch.LongTensor\n",
      "크기:torch.Size([1, 2])\n",
      "값:tensor([[0, 1]])\n"
     ]
    }
   ],
   "source": [
    "# 슬라이싱 제공\n",
    "x = torch.arange(6).view(2,3)\n",
    "describe(x)\n",
    "describe(x[:1,:2])"
   ]
  },
  {
   "cell_type": "code",
   "execution_count": 77,
   "id": "9b4222bd-1ae2-4a2e-9699-efd012ad3600",
   "metadata": {},
   "outputs": [
    {
     "name": "stdout",
     "output_type": "stream",
     "text": [
      "타입:torch.LongTensor\n",
      "크기:torch.Size([2, 2])\n",
      "값:tensor([[0, 2],\n",
      "        [3, 5]])\n"
     ]
    }
   ],
   "source": [
    "inx = torch.LongTensor([0,2])\n",
    "describe(torch.index_select(x,dim=1,index = inx))"
   ]
  },
  {
   "cell_type": "code",
   "execution_count": 80,
   "id": "cb75b3a5-52f0-4231-ad9f-0176203b4be4",
   "metadata": {},
   "outputs": [
    {
     "name": "stdout",
     "output_type": "stream",
     "text": [
      "타입:torch.LongTensor\n",
      "크기:torch.Size([20])\n",
      "값:tensor([ 0,  1,  2,  3,  4,  5,  6,  7,  8,  9, 10, 11, 12, 13, 14, 15, 16, 17,\n",
      "        18, 19])\n"
     ]
    }
   ],
   "source": [
    "# 숫자가 증가되는 벡터를 만들수 있음\n",
    "x = torch.arange(0,20)\n",
    "describe(x)"
   ]
  },
  {
   "cell_type": "code",
   "execution_count": 81,
   "id": "ac2beb37-bf7c-4d45-8cfb-a6a678fa10d5",
   "metadata": {},
   "outputs": [
    {
     "name": "stdout",
     "output_type": "stream",
     "text": [
      "tensor([[ 0,  1,  2,  3,  4,  5,  6,  7,  8,  9, 10, 11, 12, 13, 14, 15, 16, 17,\n",
      "         18, 19]])\n"
     ]
    }
   ],
   "source": [
    "# view - >텐서의 차원을 변경\n",
    "print(x.view(1,20))"
   ]
  },
  {
   "cell_type": "code",
   "execution_count": 82,
   "id": "06848c88-5ac7-487d-8249-d15b49d2163f",
   "metadata": {},
   "outputs": [
    {
     "name": "stdout",
     "output_type": "stream",
     "text": [
      "tensor([[ 0,  1,  2,  3,  4,  5,  6,  7,  8,  9, 10, 11, 12, 13, 14, 15, 16, 17,\n",
      "         18, 19]])\n"
     ]
    }
   ],
   "source": [
    "print(x.view(1,-1))"
   ]
  },
  {
   "cell_type": "code",
   "execution_count": 88,
   "id": "b79a2e94-030e-4134-b58e-da348ed67b88",
   "metadata": {},
   "outputs": [
    {
     "name": "stdout",
     "output_type": "stream",
     "text": [
      "tensor([[ 0,  1,  2,  3,  4],\n",
      "        [ 5,  6,  7,  8,  9],\n",
      "        [10, 11, 12, 13, 14],\n",
      "        [15, 16, 17, 18, 19]])\n"
     ]
    }
   ],
   "source": [
    "print(x.view(4,-1))"
   ]
  },
  {
   "cell_type": "code",
   "execution_count": 104,
   "id": "d42e9be2-9d84-4bff-8632-d9fcd9fc3acd",
   "metadata": {},
   "outputs": [
    {
     "data": {
      "text/plain": [
       "tensor([[ 0,  1,  2,  3],\n",
       "        [ 4,  5,  6,  7],\n",
       "        [ 8,  9, 10, 11]])"
      ]
     },
     "execution_count": 104,
     "metadata": {},
     "output_type": "execute_result"
    }
   ],
   "source": [
    "x = torch.arange(12).view(3,4)\n",
    "x"
   ]
  },
  {
   "cell_type": "code",
   "execution_count": 109,
   "id": "094f15dd-44af-41ee-9db5-ff6e6417668e",
   "metadata": {},
   "outputs": [
    {
     "name": "stdout",
     "output_type": "stream",
     "text": [
      "torch.Size([3, 4])\n",
      "torch.Size([1, 3, 4])\n",
      "torch.Size([3, 1, 4])\n",
      "torch.Size([3, 4, 1])\n"
     ]
    }
   ],
   "source": [
    "print(x.shape)\n",
    "print(x.unsqueeze(dim=0).shape)\n",
    "print(x.unsqueeze(dim=1).shape)\n",
    "print(x.unsqueeze(dim=2).shape)"
   ]
  },
  {
   "cell_type": "code",
   "execution_count": 115,
   "id": "a496a270-d971-4101-b564-08f6f5465292",
   "metadata": {},
   "outputs": [
    {
     "data": {
      "text/plain": [
       "torch.Size([3, 4])"
      ]
     },
     "execution_count": 115,
     "metadata": {},
     "output_type": "execute_result"
    }
   ],
   "source": [
    "t = x.unsqueeze(dim=0)\n",
    "t.squeeze().shape"
   ]
  },
  {
   "cell_type": "code",
   "execution_count": 119,
   "id": "08d26be2-a81d-4ebb-9771-5f277e048755",
   "metadata": {},
   "outputs": [
    {
     "name": "stdout",
     "output_type": "stream",
     "text": [
      "tensor([[ 0,  1,  2,  3],\n",
      "        [ 4,  5,  6,  7],\n",
      "        [ 8,  9, 10, 11]])\n",
      "tensor([[ 0,  2,  4,  6],\n",
      "        [ 8, 10, 12, 14],\n",
      "        [16, 18, 20, 22]])\n"
     ]
    }
   ],
   "source": [
    "x = torch.arange(12).reshape(3,4)\n",
    "print(x)\n",
    "print(x.add_(x))"
   ]
  },
  {
   "cell_type": "code",
   "execution_count": 123,
   "id": "420e6537-918f-4567-9803-b0fd9793ea84",
   "metadata": {},
   "outputs": [
    {
     "name": "stdout",
     "output_type": "stream",
     "text": [
      "tensor([[ 0,  1,  2,  3],\n",
      "        [ 4,  5,  6,  7],\n",
      "        [ 8,  9, 10, 11]])\n",
      "tensor([12, 15, 18, 21])\n",
      "tensor([ 6, 22, 38])\n"
     ]
    }
   ],
   "source": [
    "x = torch.arange(12).reshape(3,4)\n",
    "print(x)\n",
    "print(x.sum(axis=0))\n",
    "print(x.sum(dim=1))"
   ]
  },
  {
   "cell_type": "code",
   "execution_count": 126,
   "id": "2d00a902-bb2d-4dd3-9213-fc9e2c900b40",
   "metadata": {},
   "outputs": [
    {
     "name": "stdout",
     "output_type": "stream",
     "text": [
      "tensor([[0, 1, 2],\n",
      "        [3, 4, 5],\n",
      "        [6, 7, 8]])\n",
      "tensor([[0, 1, 2],\n",
      "        [6, 7, 8]])\n",
      "tensor([[0, 2],\n",
      "        [3, 5],\n",
      "        [6, 8]])\n"
     ]
    }
   ],
   "source": [
    "# index_select \n",
    "x = torch.arange(9).view(3,3)\n",
    "print(x)\n",
    "idx = torch.LongTensor([0,2])\n",
    "print(torch.index_select(x,index = idx, dim = 0))\n",
    "print(torch.index_select(x,index = idx, dim = 1))"
   ]
  },
  {
   "cell_type": "code",
   "execution_count": 135,
   "id": "96edbbc2-6bce-4945-a42b-0ae6c786dce6",
   "metadata": {},
   "outputs": [
    {
     "name": "stdout",
     "output_type": "stream",
     "text": [
      "tensor([[0, 1, 2],\n",
      "        [3, 4, 5]])\n",
      "tensor([[0, 1, 2],\n",
      "        [3, 4, 5],\n",
      "        [0, 1, 2],\n",
      "        [3, 4, 5]])\n",
      "tensor([[0, 1, 2, 0, 1, 2],\n",
      "        [3, 4, 5, 3, 4, 5]])\n",
      "tensor([[[0, 1, 2],\n",
      "         [3, 4, 5]],\n",
      "\n",
      "        [[0, 1, 2],\n",
      "         [3, 4, 5]]])\n"
     ]
    }
   ],
   "source": [
    "x = torch.arange(6).view(2,3)\n",
    "print(x)\n",
    "print(torch.cat([x,x], dim=0))\n",
    "print(torch.cat([x,x], dim=1))\n",
    "print(torch.stack([x,x]))"
   ]
  },
  {
   "cell_type": "code",
   "execution_count": 142,
   "id": "3a67f7ff-c0d5-420d-9710-89cda6b7776f",
   "metadata": {},
   "outputs": [
    {
     "name": "stdout",
     "output_type": "stream",
     "text": [
      "tensor([[0, 1, 2],\n",
      "        [3, 4, 5]])\n"
     ]
    },
    {
     "data": {
      "text/plain": [
       "tensor([[[0, 1, 2],\n",
       "         [0, 1, 2],\n",
       "         [0, 1, 2]],\n",
       "\n",
       "        [[3, 4, 5],\n",
       "         [3, 4, 5],\n",
       "         [3, 4, 5]]])"
      ]
     },
     "execution_count": 142,
     "metadata": {},
     "output_type": "execute_result"
    }
   ],
   "source": [
    "x = torch.arange(6).view(2,3)\n",
    "print(x)\n",
    "torch.stack([x,x,x],dim=1)"
   ]
  },
  {
   "cell_type": "code",
   "execution_count": 146,
   "id": "28b9c9e3-8cf3-43a9-abaf-d5e731e08bda",
   "metadata": {},
   "outputs": [
    {
     "name": "stdout",
     "output_type": "stream",
     "text": [
      "tensor([[ 0,  1,  2,  3],\n",
      "        [ 4,  5,  6,  7],\n",
      "        [ 8,  9, 10, 11]])\n",
      "tensor([[ 0,  4,  8],\n",
      "        [ 1,  5,  9],\n",
      "        [ 2,  6, 10],\n",
      "        [ 3,  7, 11]])\n",
      "tensor([[ 0,  4,  8],\n",
      "        [ 1,  5,  9],\n",
      "        [ 2,  6, 10],\n",
      "        [ 3,  7, 11]])\n"
     ]
    }
   ],
   "source": [
    "# 전치행렬\n",
    "x = torch.arange(12).view(3,4)\n",
    "print(x)\n",
    "print(x.T)\n",
    "print(x.transpose(1,0))"
   ]
  },
  {
   "cell_type": "code",
   "execution_count": 147,
   "id": "562e27aa-50d8-46b3-82ab-7d13bd4b9687",
   "metadata": {},
   "outputs": [
    {
     "name": "stdout",
     "output_type": "stream",
     "text": [
      "torch.Size([3, 4, 5])\n",
      "tensor([[[ 0,  1,  2,  3,  4],\n",
      "         [ 5,  6,  7,  8,  9],\n",
      "         [10, 11, 12, 13, 14],\n",
      "         [15, 16, 17, 18, 19]],\n",
      "\n",
      "        [[20, 21, 22, 23, 24],\n",
      "         [25, 26, 27, 28, 29],\n",
      "         [30, 31, 32, 33, 34],\n",
      "         [35, 36, 37, 38, 39]],\n",
      "\n",
      "        [[40, 41, 42, 43, 44],\n",
      "         [45, 46, 47, 48, 49],\n",
      "         [50, 51, 52, 53, 54],\n",
      "         [55, 56, 57, 58, 59]]])\n"
     ]
    }
   ],
   "source": [
    "batch_size=3\n",
    "seq_size = 4\n",
    "feature_size = 5\n",
    "\n",
    "x = torch.arange(batch_size * seq_size * feature_size).view(batch_size , seq_size , feature_size)\n",
    "print(x.shape)\n",
    "print(x)"
   ]
  },
  {
   "cell_type": "code",
   "execution_count": 153,
   "id": "356e9bc8-a17b-4133-9072-c678494ad6f9",
   "metadata": {},
   "outputs": [
    {
     "name": "stdout",
     "output_type": "stream",
     "text": [
      "torch.Size([4, 3, 5])\n",
      "tensor([[[ 0,  1,  2,  3,  4],\n",
      "         [20, 21, 22, 23, 24],\n",
      "         [40, 41, 42, 43, 44]],\n",
      "\n",
      "        [[ 5,  6,  7,  8,  9],\n",
      "         [25, 26, 27, 28, 29],\n",
      "         [45, 46, 47, 48, 49]],\n",
      "\n",
      "        [[10, 11, 12, 13, 14],\n",
      "         [30, 31, 32, 33, 34],\n",
      "         [50, 51, 52, 53, 54]],\n",
      "\n",
      "        [[15, 16, 17, 18, 19],\n",
      "         [35, 36, 37, 38, 39],\n",
      "         [55, 56, 57, 58, 59]]])\n"
     ]
    }
   ],
   "source": [
    "print(x.transpose(1,0).shape)\n",
    "print(x.transpose(1,0))"
   ]
  },
  {
   "cell_type": "code",
   "execution_count": 155,
   "id": "f7533d58-033e-484e-bb17-0508a7adace0",
   "metadata": {},
   "outputs": [
    {
     "name": "stdout",
     "output_type": "stream",
     "text": [
      "torch.Size([3, 4, 5])\n",
      "tensor([[[ 0,  1,  2,  3,  4],\n",
      "         [ 5,  6,  7,  8,  9],\n",
      "         [10, 11, 12, 13, 14],\n",
      "         [15, 16, 17, 18, 19]],\n",
      "\n",
      "        [[20, 21, 22, 23, 24],\n",
      "         [25, 26, 27, 28, 29],\n",
      "         [30, 31, 32, 33, 34],\n",
      "         [35, 36, 37, 38, 39]],\n",
      "\n",
      "        [[40, 41, 42, 43, 44],\n",
      "         [45, 46, 47, 48, 49],\n",
      "         [50, 51, 52, 53, 54],\n",
      "         [55, 56, 57, 58, 59]]])\n",
      "----------------orginal  0 1 2   3,4,5\n",
      "permute(1,0,2) shape torch.Size([4, 3, 5])\n",
      "permute(1,0,2) tensor([[[ 0,  1,  2,  3,  4],\n",
      "         [20, 21, 22, 23, 24],\n",
      "         [40, 41, 42, 43, 44]],\n",
      "\n",
      "        [[ 5,  6,  7,  8,  9],\n",
      "         [25, 26, 27, 28, 29],\n",
      "         [45, 46, 47, 48, 49]],\n",
      "\n",
      "        [[10, 11, 12, 13, 14],\n",
      "         [30, 31, 32, 33, 34],\n",
      "         [50, 51, 52, 53, 54]],\n",
      "\n",
      "        [[15, 16, 17, 18, 19],\n",
      "         [35, 36, 37, 38, 39],\n",
      "         [55, 56, 57, 58, 59]]])\n"
     ]
    }
   ],
   "source": [
    "# permute는 일반화된 전치\n",
    "batch_size=3\n",
    "seq_size = 4\n",
    "feature_size = 5\n",
    "\n",
    "x = torch.arange(batch_size * seq_size * feature_size).view(batch_size , seq_size , feature_size)\n",
    "print(x.shape)\n",
    "print(x)\n",
    "print('----------------orginal  0 1 2   3,4,5')\n",
    "print(f\"permute(1,0,2) shape {x.permute(1,0,2).shape}\")\n",
    "print(f\"permute(1,0,2) {x.permute(1,0,2)}\")"
   ]
  },
  {
   "cell_type": "code",
   "execution_count": 157,
   "id": "8dde95b3-ea70-436a-b2ed-3b7d38714ddd",
   "metadata": {},
   "outputs": [
    {
     "data": {
      "text/plain": [
       "tensor([[-0.4790,  0.8539, -0.2285],\n",
       "        [ 0.3081,  1.1171,  0.1585]])"
      ]
     },
     "execution_count": 157,
     "metadata": {},
     "output_type": "execute_result"
    }
   ],
   "source": [
    "# 토치를이용해서 그레이디언트 계산  미분\n",
    "torch.randn(2,3)"
   ]
  },
  {
   "cell_type": "code",
   "execution_count": 158,
   "id": "c3b3e96a-8509-4320-9e3b-b32968d19218",
   "metadata": {},
   "outputs": [
    {
     "data": {
      "text/plain": [
       "tensor([[-0.8696,  1.8683, -2.6253],\n",
       "        [ 0.5689, -0.3702,  1.7509]], requires_grad=True)"
      ]
     },
     "execution_count": 158,
     "metadata": {},
     "output_type": "execute_result"
    }
   ],
   "source": [
    "torch.randn(2,3, requires_grad=True)"
   ]
  },
  {
   "cell_type": "code",
   "execution_count": 169,
   "id": "92f63353-fa80-4073-8452-be7c816b4440",
   "metadata": {},
   "outputs": [
    {
     "name": "stdout",
     "output_type": "stream",
     "text": [
      "타입:torch.LongTensor\n",
      "크기:torch.Size([2, 3])\n",
      "값:tensor([[0, 1, 2],\n",
      "        [3, 4, 5]])\n",
      "타입:torch.LongTensor\n",
      "크기:torch.Size([3, 2])\n",
      "값:tensor([[0, 3],\n",
      "        [1, 4],\n",
      "        [2, 5]])\n"
     ]
    },
    {
     "data": {
      "text/plain": [
       "tensor([[ 5, 14],\n",
       "        [14, 50]])"
      ]
     },
     "execution_count": 169,
     "metadata": {},
     "output_type": "execute_result"
    }
   ],
   "source": [
    "x1 = torch.arange(6).view(2,3)\n",
    "describe(x1)\n",
    "describe(x1.transpose(1,0))\n",
    "torch.mm(x1,x1.transpose(1,0))"
   ]
  },
  {
   "cell_type": "code",
   "execution_count": 170,
   "id": "67a0306b-f351-4286-9ee4-d65aef0a0873",
   "metadata": {},
   "outputs": [
    {
     "name": "stdout",
     "output_type": "stream",
     "text": [
      "타입:torch.FloatTensor\n",
      "크기:torch.Size([2, 3])\n",
      "값:tensor([[0., 1., 2.],\n",
      "        [3., 4., 5.]])\n",
      "타입:torch.FloatTensor\n",
      "크기:torch.Size([3, 2])\n",
      "값:tensor([[1., 2.],\n",
      "        [1., 2.],\n",
      "        [1., 2.]])\n",
      "타입:torch.FloatTensor\n",
      "크기:torch.Size([2, 2])\n",
      "값:tensor([[ 3.,  6.],\n",
      "        [12., 24.]])\n"
     ]
    }
   ],
   "source": [
    "x1 = torch.arange(6).view(2,3).float()\n",
    "describe(x1)\n",
    "x2 = torch.ones(3,2)\n",
    "x2[:,1] += 1\n",
    "describe(x2)\n",
    "describe(torch.mm(x1,x2))"
   ]
  },
  {
   "cell_type": "code",
   "execution_count": 171,
   "id": "14560dd5-1403-4e2a-99bc-b232ebc433e3",
   "metadata": {},
   "outputs": [
    {
     "name": "stdout",
     "output_type": "stream",
     "text": [
      "tensor([[ 0.,  1.,  2.,  3.],\n",
      "        [ 4.,  5.,  6.,  7.],\n",
      "        [ 8.,  9., 10., 11.]])\n",
      "tensor([[1., 2.],\n",
      "        [1., 2.],\n",
      "        [1., 2.],\n",
      "        [1., 2.]])\n",
      "tensor([[ 6., 12.],\n",
      "        [22., 44.],\n",
      "        [38., 76.]])\n"
     ]
    }
   ],
   "source": [
    "x = torch.arange(12).view(3,4).float()\n",
    "print(x)\n",
    "x2 = torch.ones(4,2)\n",
    "x2[:,1] += 1\n",
    "print(x2)\n",
    "print(x.mm(x2))"
   ]
  },
  {
   "cell_type": "code",
   "execution_count": 186,
   "id": "2f30f7d1-1b0d-46fb-9f10-c7a5b8a3a0ef",
   "metadata": {},
   "outputs": [
    {
     "name": "stdout",
     "output_type": "stream",
     "text": [
      "x : tensor([[2., 3.]], requires_grad=True)\n",
      "-----------\n",
      "z = 3*x : tensor([[6., 9.]], grad_fn=<MulBackward0>)\n",
      "-----------\n",
      "loss = z.sum():15.0\n",
      "loss.backward()를 호출한 후 x.grad : tensor([[3., 3.]])\n"
     ]
    }
   ],
   "source": [
    "# 그레이디언트 계산\n",
    "x = torch.tensor([[2.0,3.0]],requires_grad = True)\n",
    "print(f\"x : {x}\")\n",
    "print(\"-----------\")\n",
    "z = 3*x\n",
    "print(f\"z = 3*x : {z}\")\n",
    "print(\"-----------\")\n",
    "loss = z.sum()  # 손실함수는 스칼라 값이 필요하기때문에 sum을 이용해서 값을 만들어 줌\n",
    "print(f\"loss = z.sum():{loss}\")\n",
    "loss.backward() # 입력에 대한 변화률을 계산함\n",
    "print(f\"loss.backward()를 호출한 후 x.grad : {x.grad}\")\n",
    "                 "
   ]
  },
  {
   "cell_type": "code",
   "execution_count": 187,
   "id": "b66fb534-8a04-4d54-a711-501824d76d1e",
   "metadata": {},
   "outputs": [],
   "source": [
    "# 조건이 있는 그레이디언트 계산\n",
    "# x =1 에서 f(x)의 그레이디언트 찾기\n",
    "# f(x) = x>0 -- sin(x)\n",
    "#         cos(x)"
   ]
  },
  {
   "cell_type": "code",
   "execution_count": 193,
   "id": "e8901625-4c91-4ab9-b1bc-af0211e38354",
   "metadata": {},
   "outputs": [],
   "source": [
    "def f(x):\n",
    "    if(x.data > 0).all():\n",
    "        return torch.sin(x)\n",
    "    else:\n",
    "        return torch.cos(x)"
   ]
  },
  {
   "cell_type": "code",
   "execution_count": 203,
   "id": "fd869a20-3095-4ee7-aa43-310d6ed32942",
   "metadata": {},
   "outputs": [
    {
     "name": "stdout",
     "output_type": "stream",
     "text": [
      "tensor([1.0000, 0.5000], requires_grad=True)\n",
      "tensor([0.8415, 0.4794], grad_fn=<SinBackward0>)\n"
     ]
    },
    {
     "data": {
      "text/plain": [
       "tensor([0.5403, 0.8776])"
      ]
     },
     "execution_count": 203,
     "metadata": {},
     "output_type": "execute_result"
    }
   ],
   "source": [
    "x = torch.tensor([1.0,0.5],requires_grad = True)\n",
    "print(x)\n",
    "y = f(x)\n",
    "print(y)\n",
    "y.sum().backward()\n",
    "x.grad"
   ]
  },
  {
   "cell_type": "code",
   "execution_count": 206,
   "id": "89a591da-df33-48a8-af49-cb4ff03baa91",
   "metadata": {},
   "outputs": [
    {
     "name": "stdout",
     "output_type": "stream",
     "text": [
      "tensor([ 1., -1.], requires_grad=True)\n",
      "tensor([0.5403, 0.5403], grad_fn=<CosBackward0>)\n",
      "tensor([-0.8415,  0.8415])\n"
     ]
    }
   ],
   "source": [
    "x = torch.tensor([1.0,-1.0],requires_grad = True)\n",
    "print(x)\n",
    "y=f(x)\n",
    "print(y)\n",
    "y.sum().backward()\n",
    "print(x.grad)"
   ]
  },
  {
   "cell_type": "code",
   "execution_count": 207,
   "id": "f243cc97-20ff-465a-837e-e20644209d1e",
   "metadata": {},
   "outputs": [
    {
     "name": "stdout",
     "output_type": "stream",
     "text": [
      "tensor([-0.5000, -1.0000], requires_grad=True)\n",
      "tensor([0.8776, 0.5403], grad_fn=<CosBackward0>)\n",
      "tensor([0.4794, 0.8415])\n"
     ]
    }
   ],
   "source": [
    "x = torch.tensor([-0.5,-1.0],requires_grad = True)\n",
    "print(x)\n",
    "y=f(x)\n",
    "print(y)\n",
    "y.sum().backward()\n",
    "print(x.grad)"
   ]
  },
  {
   "cell_type": "code",
   "execution_count": 210,
   "id": "b6f41aa6-4094-4ae5-942b-6086724df2db",
   "metadata": {},
   "outputs": [
    {
     "name": "stdout",
     "output_type": "stream",
     "text": [
      "tensor([0.5403, 0.8415])\n"
     ]
    }
   ],
   "source": [
    "# 원소별로 불리언 연산과 코사인/사인 계산이 수행되지 않는다.\n",
    "# 마스킹기법 자주\n",
    "def f2(x):\n",
    "    mask = torch.gt(x,0).float()\n",
    "    return mask*torch.sin(x) + (1-mask)*torch.cos(x)\n",
    "x = torch.tensor([1.0, -1], requires_grad = True)\n",
    "y = f2(x)\n",
    "y.sum().backward()\n",
    "print(x.grad)"
   ]
  },
  {
   "cell_type": "code",
   "execution_count": null,
   "id": "d503b012-3c36-4520-87e5-b11e3a84fa03",
   "metadata": {},
   "outputs": [],
   "source": []
  }
 ],
 "metadata": {
  "kernelspec": {
   "display_name": "Python 3 (ipykernel)",
   "language": "python",
   "name": "python3"
  },
  "language_info": {
   "codemirror_mode": {
    "name": "ipython",
    "version": 3
   },
   "file_extension": ".py",
   "mimetype": "text/x-python",
   "name": "python",
   "nbconvert_exporter": "python",
   "pygments_lexer": "ipython3",
   "version": "3.9.12"
  }
 },
 "nbformat": 4,
 "nbformat_minor": 5
}
