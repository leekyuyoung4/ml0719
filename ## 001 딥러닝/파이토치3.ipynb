{
 "cells": [
  {
   "cell_type": "markdown",
   "id": "2c169d94-e294-46cb-b919-18acb1da8765",
   "metadata": {},
   "source": [
    "# adam 옵티마이져\n",
    "# 퍼셉트론과 이진 분류를 위한 지도학습 훈련 반복"
   ]
  },
  {
   "cell_type": "code",
   "execution_count": 1,
   "id": "f7176b23-18a0-457f-88e6-f29f06c32104",
   "metadata": {},
   "outputs": [],
   "source": [
    "import torch"
   ]
  },
  {
   "cell_type": "code",
   "execution_count": 3,
   "id": "022e39cc-0cd2-4acf-8f27-32aab94024a2",
   "metadata": {},
   "outputs": [],
   "source": [
    "import matplotlib.pyplot as plt\n",
    "import numpy as np\n",
    "import torch\n",
    "import torch.nn as nn\n",
    "import torch.nn.functional as F\n",
    "import torch.optim as optim"
   ]
  },
  {
   "cell_type": "code",
   "execution_count": 4,
   "id": "843a7038-5ec4-40f2-b3b8-7ab2f70225b8",
   "metadata": {},
   "outputs": [],
   "source": [
    "LEFT_CENTER = (3,3)\n",
    "RIGHT_CENTER = (3,-2)"
   ]
  },
  {
   "cell_type": "code",
   "execution_count": 5,
   "id": "59725c3d-11bc-464c-801b-fea663620263",
   "metadata": {},
   "outputs": [],
   "source": [
    "# 모델정의  nn.Module 상속받아서 퍼셉트론을 구현"
   ]
  },
  {
   "cell_type": "code",
   "execution_count": 7,
   "id": "d73d4756-f066-4f86-ac08-ee43588e7fb1",
   "metadata": {},
   "outputs": [],
   "source": [
    "class Perceptron(nn.Module):\n",
    "    '''퍼셉트론은 하나의 선형층'''\n",
    "    def __init__(self, input_dim):\n",
    "        '''\n",
    "            매개변수 : \n",
    "                input_dim(int) : 입력 특성의 크기\n",
    "        '''\n",
    "        super(Perceptron, self).__init__()\n",
    "        self.fc1 = nn.Linear(input_dim,1)\n",
    "    def forward(self, x_in):\n",
    "        '''\n",
    "            퍼셉트론의 전방계산\n",
    "            매개변수 : x_in(torch.Tensor): 입력 데이터 텐서\n",
    "                x_in.shape  는 (batch, num_features) \n",
    "            반환값 : 결과 텐서 tensor.shape(batch,)            \n",
    "        '''\n",
    "        return torch.sigmoid(self,fc1(x_in))\n",
    "    "
   ]
  },
  {
   "cell_type": "markdown",
   "id": "cc0d9e42-d237-4032-a60c-332be46d542d",
   "metadata": {},
   "source": [
    "# 데이터 준비"
   ]
  },
  {
   "cell_type": "code",
   "execution_count": 14,
   "id": "079bd310-e402-4b9b-b1d0-cc4105a40b2a",
   "metadata": {},
   "outputs": [],
   "source": [
    "def get_data(batch_size, left_center=LEFT_CENTER, right_center = RIGHT_CENTER):\n",
    "    x_data = []\n",
    "    y_targets = np.zeros(batch_size)\n",
    "    for batch_i in range(batch_size):\n",
    "        if np.random.random() > 0.5:\n",
    "            x_data.append(np.random.normal(loc = left_center))\n",
    "        else:\n",
    "            x_data.append(np.random.normal(loc = right_center))\n",
    "            y_targets[batch_i] = 1\n",
    "    return torch.tensor(np.array(x_data),dtype=torch.float32), torch.tensor(np.array(y_targets), dtype=torch.float32)"
   ]
  },
  {
   "cell_type": "code",
   "execution_count": 15,
   "id": "72b0d5ef-e247-4f32-b008-8c7e400a71cd",
   "metadata": {},
   "outputs": [
    {
     "data": {
      "text/plain": [
       "(tensor([[ 1.6569, -1.3615],\n",
       "         [ 4.1075,  1.6645],\n",
       "         [ 3.7465,  1.7162],\n",
       "         [ 2.5844,  1.4303],\n",
       "         [ 1.9709,  3.2321],\n",
       "         [ 4.7447,  2.9549],\n",
       "         [ 4.1655, -2.3977],\n",
       "         [ 1.4088,  1.8112],\n",
       "         [ 3.2699,  3.9677],\n",
       "         [ 1.7977, -2.0422]]),\n",
       " tensor([1., 0., 0., 0., 0., 0., 1., 0., 0., 1.]))"
      ]
     },
     "execution_count": 15,
     "metadata": {},
     "output_type": "execute_result"
    }
   ],
   "source": [
    "get_data(10)"
   ]
  },
  {
   "cell_type": "markdown",
   "id": "01237f88-8ead-409b-9868-a8ddf63baddf",
   "metadata": {},
   "source": [
    "# 결과 시각화 함수"
   ]
  },
  {
   "cell_type": "code",
   "execution_count": 17,
   "id": "34b17ccb-e72d-4776-b252-a47159a580af",
   "metadata": {},
   "outputs": [],
   "source": [
    "def visualize_result(perceptron, x_data,y_truth, n_samples=1000, ax=None, epoch=None,title=''\n",
    "                     ,levels=[0.3,0.4,0.5], linestyles=['--','-','--']):\n",
    "    y_pred = perceptron(x_data)\n",
    "    y_pred = (y_pred > 0.5).long().data.numpy().astype(np.int32)\n",
    "    \n",
    "    x_data = x_data.data.numpy()\n",
    "    y_truth = y_truth.data.numpy().astype(np.int32)\n",
    "    \n",
    "    n_classes = 2\n",
    "    \n",
    "    all_x = [[] for _ in range(n_class) ]\n",
    "    all_colors = [[] for _ in range(n_class) ]\n",
    "    \n",
    "    colors = ['black','white']\n",
    "    markers = ['o','*']\n",
    "    \n",
    "    for x_i, y_pred_i, y_truth_i in zip(x_data,y_pred,y_truth):\n",
    "        all_x[y_truth_i].append(x_i)\n",
    "        if y_pred_i == y_truth_i:\n",
    "            all_colors[y_truth_i].append('white')\n",
    "        else:\n",
    "            all_colors[y_truth_i].append('black')\n",
    "    all_x = [np.stack(x_list) for x_list in all_x ]\n",
    "    \n",
    "    if ax is None:\n",
    "        _, ax = plt.subplots(1,1,figsize=(10,10))\n",
    "    for x_list, color_list, marker in zip(all_x, all_colors,markers):\n",
    "        ax.scatter(x_list[:,0], x_list[:,1], edgecolor='black', marker=marker, facecolor=color_list, s=300)\n",
    "        \n",
    "    xlim = (min([x_list[:,0].min for x_list in all_x]), max([x_list[:,0].max for x_list in all_x]))\n",
    "    ylim = (min([x_list[:,1].min for x_list in all_x]), max([x_list[:,1].max for x_list in all_x]))\n",
    "    \n",
    "    # 초 평면\n",
    "    xx = np.linespace(xlim[0], xlim[1], 30)\n",
    "    yy = np.linespace(xlim[0], xlim[1], 30)\n",
    "    YY,XX = np.meshgrid(yy,xx)\n",
    "    xx = np.vstack([XX.ravel(), YY.rabel()]).T\n",
    "    \n",
    "    Z = perceptron(torch.tensor(xy,dtype=torch.float32)).detach().numpy().reshape(XX.shape)\n",
    "    ax.contour(XX,YY, Z, colors='k', levels=levels, linestyles=linestyles)\n",
    "    \n",
    "    plt.suptitle(title)\n",
    "    \n",
    "    if epoch is not None:\n",
    "        plt.text(xlim[0], ylim[1], \"Epoch = {}\".format(str(epoch)))"
   ]
  },
  {
   "cell_type": "markdown",
   "id": "c41c4a69-8009-4677-a1d7-1167d2534ce5",
   "metadata": {},
   "source": [
    "# 초기 데이터 그래프"
   ]
  },
  {
   "cell_type": "code",
   "execution_count": null,
   "id": "3ce168e1-4d37-4bae-8121-bf2ccf0b6601",
   "metadata": {},
   "outputs": [],
   "source": []
  },
  {
   "cell_type": "code",
   "execution_count": null,
   "id": "3995c2d8-be17-4873-b771-5d4750cf78d1",
   "metadata": {},
   "outputs": [],
   "source": [
    "seed = 1234\n",
    "torch.manual_seed(seed)\n",
    "np.random.seed(seed)\n",
    "\n",
    "x_data, y_truth = get_data(batch_size=1000)\n",
    "\n",
    "x_data = x_data.data.numpy()\n",
    "y_truth = y_truth.data.numpy()\n",
    "\n",
    "left_x,right_x, left_colors,right_colors = [],[],[],[]\n",
    "\n",
    "for x_i, y_true in zip(x_data,y_truth):\n",
    "    color = 'black'\n",
    "    if y_true == 0:\n",
    "        left_x.append(x_i)\n",
    "        left_colors.append(color)\n",
    "    else:\n",
    "        right_x.append(x_i)\n",
    "        right_colors.append(color)\n",
    "left_x = np.stack(left_x)    \n",
    "right_x = np.stack(right_x)    \n",
    "\n",
    "_, ax = plt.subplots(1,1,figsize = (10,4))\n",
    "ax.scatter(left_x[:,0],left_x[:,1], color= left_colors,marker = '*', s=100)\n",
    "ax.scatter(right_x[:,0],right_x[:,1], facecolor='white', edgecolor= right_colors,marker = 'o', s=100)\n",
    "plt.axis('off')"
   ]
  },
  {
   "cell_type": "code",
   "execution_count": null,
   "id": "0e87be8a-bf05-4f5b-9bd0-fcaa4e177ca9",
   "metadata": {},
   "outputs": [],
   "source": []
  }
 ],
 "metadata": {
  "kernelspec": {
   "display_name": "Python 3 (ipykernel)",
   "language": "python",
   "name": "python3"
  },
  "language_info": {
   "codemirror_mode": {
    "name": "ipython",
    "version": 3
   },
   "file_extension": ".py",
   "mimetype": "text/x-python",
   "name": "python",
   "nbconvert_exporter": "python",
   "pygments_lexer": "ipython3",
   "version": "3.9.12"
  }
 },
 "nbformat": 4,
 "nbformat_minor": 5
}
