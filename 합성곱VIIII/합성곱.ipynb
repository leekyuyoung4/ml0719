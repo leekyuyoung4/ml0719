{
 "cells": [
  {
   "cell_type": "code",
   "execution_count": 86,
   "id": "0691fef1",
   "metadata": {},
   "outputs": [
    {
     "data": {
      "text/plain": [
       "(45000, 28, 28, 1)"
      ]
     },
     "execution_count": 86,
     "metadata": {},
     "output_type": "execute_result"
    }
   ],
   "source": [
    "# 데이터를 표준화(스케일링), 분할  28 28 1\n",
    "import tensorflow as tf\n",
    "from tensorflow import keras\n",
    "from sklearn.preprocessing import StandardScaler\n",
    "from sklearn.model_selection import train_test_split\n",
    "tf.keras.utils.set_random_seed(42)\n",
    "tf.config.experimental.enable_op_determinism()\n",
    "# 데이터 로드\n",
    "(x_train,y_train),(x_test_original,y_test_original) =  keras.datasets.fashion_mnist.load_data()\n",
    "ss = StandardScaler()\n",
    "x_train_scaled =  ss.fit_transform(x_train.reshape( x_train.shape[0],-1 ))\n",
    "x_train_scaled = x_train_scaled.reshape(-1,28,28,1)\n",
    "x_train,x_test,y_train,y_test =  train_test_split(x_train_scaled,y_train,random_state=32)\n",
    "x_train.shape"
   ]
  },
  {
   "cell_type": "code",
   "execution_count": 87,
   "id": "1b8e2647",
   "metadata": {},
   "outputs": [],
   "source": [
    "model = keras.Sequential()"
   ]
  },
  {
   "cell_type": "code",
   "execution_count": 88,
   "id": "dba07290",
   "metadata": {},
   "outputs": [],
   "source": [
    "# 1번째 합성곱 층\n",
    "model.add(keras.layers.Conv2D(32, kernel_size=3, activation='relu', padding='same',input_shape=(28,28,1)) )\n",
    "# (28,28,32) 특성맵\n",
    "model.add(keras.layers.MaxPooling2D(2))  # (14,14,32)"
   ]
  },
  {
   "cell_type": "code",
   "execution_count": 89,
   "id": "b39ac2d6",
   "metadata": {},
   "outputs": [],
   "source": [
    "#(14,14,32)"
   ]
  },
  {
   "cell_type": "code",
   "execution_count": 90,
   "id": "55b52b92",
   "metadata": {},
   "outputs": [],
   "source": [
    "# 2번째 합성곱 층\n",
    "model.add(keras.layers.Conv2D(64, kernel_size=(3,3), activation='relu',padding='same'))\n",
    "# 특성맵 (14,14,64)\n",
    "model.add(keras.layers.MaxPooling2D(2))\n",
    "# 특성맵(7,7,64)"
   ]
  },
  {
   "cell_type": "code",
   "execution_count": 91,
   "id": "2f1baecd",
   "metadata": {},
   "outputs": [],
   "source": [
    "# 완전연결층에 앞에서만든 합성곱을 연결한다.\n",
    "model.add(keras.layers.Flatten())\n",
    "model.add(keras.layers.Dense(100,activation='relu'))\n",
    "model.add(keras.layers.Dropout(0.4))\n",
    "model.add(keras.layers.Dense(10,activation='softmax'))\n"
   ]
  },
  {
   "cell_type": "code",
   "execution_count": 92,
   "id": "37a4ad5d",
   "metadata": {},
   "outputs": [
    {
     "name": "stdout",
     "output_type": "stream",
     "text": [
      "Model: \"sequential_8\"\n",
      "_________________________________________________________________\n",
      " Layer (type)                Output Shape              Param #   \n",
      "=================================================================\n",
      " conv2d_10 (Conv2D)          (None, 28, 28, 32)        320       \n",
      "                                                                 \n",
      " max_pooling2d_11 (MaxPoolin  (None, 14, 14, 32)       0         \n",
      " g2D)                                                            \n",
      "                                                                 \n",
      " conv2d_11 (Conv2D)          (None, 14, 14, 64)        18496     \n",
      "                                                                 \n",
      " max_pooling2d_12 (MaxPoolin  (None, 7, 7, 64)         0         \n",
      " g2D)                                                            \n",
      "                                                                 \n",
      " flatten_5 (Flatten)         (None, 3136)              0         \n",
      "                                                                 \n",
      " dense_10 (Dense)            (None, 100)               313700    \n",
      "                                                                 \n",
      " dropout_5 (Dropout)         (None, 100)               0         \n",
      "                                                                 \n",
      " dense_11 (Dense)            (None, 10)                1010      \n",
      "                                                                 \n",
      "=================================================================\n",
      "Total params: 333,526\n",
      "Trainable params: 333,526\n",
      "Non-trainable params: 0\n",
      "_________________________________________________________________\n"
     ]
    }
   ],
   "source": [
    "model.summary()"
   ]
  },
  {
   "cell_type": "code",
   "execution_count": 93,
   "id": "0c7f86aa",
   "metadata": {},
   "outputs": [],
   "source": [
    "model.compile(optimizer='adam', loss='sparse_categorical_crossentropy', metrics='accuracy')"
   ]
  },
  {
   "cell_type": "code",
   "execution_count": 94,
   "id": "37e537d1",
   "metadata": {},
   "outputs": [],
   "source": [
    "checkpoint_cb = keras.callbacks.ModelCheckpoint('best-cnn-model.h5',save_best_only=True)"
   ]
  },
  {
   "cell_type": "code",
   "execution_count": 95,
   "id": "71ad9b88",
   "metadata": {},
   "outputs": [],
   "source": [
    "early_stopping_cb = keras.callbacks.EarlyStopping(patience=2,restore_best_weights=True)"
   ]
  },
  {
   "cell_type": "code",
   "execution_count": 96,
   "id": "c4a2ca96",
   "metadata": {},
   "outputs": [
    {
     "name": "stdout",
     "output_type": "stream",
     "text": [
      "Epoch 1/100\n",
      "1407/1407 [==============================] - 35s 25ms/step - loss: 0.4908 - accuracy: 0.8278 - val_loss: 0.3025 - val_accuracy: 0.8904\n",
      "Epoch 2/100\n",
      "1407/1407 [==============================] - 31s 22ms/step - loss: 0.3251 - accuracy: 0.8847 - val_loss: 0.2752 - val_accuracy: 0.8975\n",
      "Epoch 3/100\n",
      "1407/1407 [==============================] - 29s 21ms/step - loss: 0.2715 - accuracy: 0.9004 - val_loss: 0.2580 - val_accuracy: 0.9073\n",
      "Epoch 4/100\n",
      "1407/1407 [==============================] - 29s 21ms/step - loss: 0.2420 - accuracy: 0.9125 - val_loss: 0.2407 - val_accuracy: 0.9121\n",
      "Epoch 5/100\n",
      "1407/1407 [==============================] - 29s 21ms/step - loss: 0.2124 - accuracy: 0.9208 - val_loss: 0.2380 - val_accuracy: 0.9176\n",
      "Epoch 6/100\n",
      "1407/1407 [==============================] - 29s 21ms/step - loss: 0.1962 - accuracy: 0.9270 - val_loss: 0.2280 - val_accuracy: 0.9185\n",
      "Epoch 7/100\n",
      "1407/1407 [==============================] - 29s 20ms/step - loss: 0.1773 - accuracy: 0.9338 - val_loss: 0.2330 - val_accuracy: 0.9173\n",
      "Epoch 8/100\n",
      "1407/1407 [==============================] - 29s 21ms/step - loss: 0.1606 - accuracy: 0.9403 - val_loss: 0.2666 - val_accuracy: 0.9097\n"
     ]
    }
   ],
   "source": [
    "history = model.fit(x_train,y_train,epochs=100,validation_data=(x_test,y_test)\n",
    "                    , callbacks=[checkpoint_cb,early_stopping_cb] )"
   ]
  },
  {
   "cell_type": "code",
   "execution_count": 97,
   "id": "59436359",
   "metadata": {},
   "outputs": [],
   "source": [
    "import matplotlib.pyplot as plt"
   ]
  },
  {
   "cell_type": "code",
   "execution_count": 98,
   "id": "29e7206c",
   "metadata": {},
   "outputs": [
    {
     "data": {
      "image/png": "[encoded data removed]",
      "text/plain": [
       "<Figure size 432x288 with 1 Axes>"
      ]
     },
     "metadata": {
      "needs_background": "light"
     },
     "output_type": "display_data"
    }
   ],
   "source": [
    "plt.plot(history.history['loss'])\n",
    "plt.plot(history.history['val_loss'])\n",
    "plt.xlabel('epoch')\n",
    "plt.ylabel('loss')\n",
    "plt.legend(['train','val'])\n",
    "plt.show()"
   ]
  },
  {
   "cell_type": "code",
   "execution_count": 107,
   "id": "0767ff40",
   "metadata": {},
   "outputs": [
    {
     "name": "stdout",
     "output_type": "stream",
     "text": [
      "313/313 [==============================] - 2s 6ms/step - loss: 0.2524 - accuracy: 0.9117\n"
     ]
    },
    {
     "data": {
      "text/plain": [
       "[0.2523631453514099, 0.9117000102996826]"
      ]
     },
     "execution_count": 107,
     "metadata": {},
     "output_type": "execute_result"
    }
   ],
   "source": [
    "x_test_original.shape\n",
    "temp =  ss.fit_transform(x_test_original.reshape(-1,28*28))\n",
    "temp = temp.reshape(-1,28,28,1)\n",
    "model.evaluate(temp,y_test_original)"
   ]
  },
  {
   "cell_type": "code",
   "execution_count": 112,
   "id": "085a1301",
   "metadata": {},
   "outputs": [
    {
     "data": {
      "image/png": "[encoded data removed]",
      "text/plain": [
       "<Figure size 432x288 with 1 Axes>"
      ]
     },
     "metadata": {
      "needs_background": "light"
     },
     "output_type": "display_data"
    }
   ],
   "source": [
    "plt.imshow(x_test_original[0], cmap='gray_r')\n",
    "plt.show()"
   ]
  },
  {
   "cell_type": "code",
   "execution_count": 114,
   "id": "6108d6fe",
   "metadata": {},
   "outputs": [
    {
     "data": {
      "text/plain": [
       "(28, 28)"
      ]
     },
     "execution_count": 114,
     "metadata": {},
     "output_type": "execute_result"
    }
   ],
   "source": [
    "x_test_original[0].shape  #-1,28,28,1"
   ]
  },
  {
   "cell_type": "code",
   "execution_count": 115,
   "id": "38e3a58d",
   "metadata": {},
   "outputs": [],
   "source": [
    "temp = x_test_original[0].reshape(-1,28,28,1)"
   ]
  },
  {
   "cell_type": "code",
   "execution_count": 116,
   "id": "48f8df90",
   "metadata": {},
   "outputs": [
    {
     "name": "stdout",
     "output_type": "stream",
     "text": [
      "1/1 [==============================] - 0s 108ms/step\n"
     ]
    }
   ],
   "source": [
    "predics =  model.predict(temp)"
   ]
  },
  {
   "cell_type": "code",
   "execution_count": 117,
   "id": "34864b53",
   "metadata": {},
   "outputs": [
    {
     "data": {
      "text/plain": [
       "array([[0., 0., 0., 0., 0., 0., 0., 0., 0., 1.]], dtype=float32)"
      ]
     },
     "execution_count": 117,
     "metadata": {},
     "output_type": "execute_result"
    }
   ],
   "source": [
    "predics"
   ]
  },
  {
   "cell_type": "code",
   "execution_count": 123,
   "id": "d792323d",
   "metadata": {},
   "outputs": [],
   "source": [
    "import numpy as np"
   ]
  },
  {
   "cell_type": "code",
   "execution_count": 124,
   "id": "8d0c9540",
   "metadata": {},
   "outputs": [
    {
     "data": {
      "text/plain": [
       "array([0, 1, 2, 3, 4, 5, 6, 7, 8, 9], dtype=uint8)"
      ]
     },
     "execution_count": 124,
     "metadata": {},
     "output_type": "execute_result"
    }
   ],
   "source": [
    "np.unique( y_test_original)"
   ]
  },
  {
   "cell_type": "code",
   "execution_count": 128,
   "id": "4f652117",
   "metadata": {},
   "outputs": [
    {
     "data": {
      "text/plain": [
       "(28, 28)"
      ]
     },
     "execution_count": 128,
     "metadata": {},
     "output_type": "execute_result"
    }
   ],
   "source": [
    "temp = x_test_original[y_test_original == 9][0]\n",
    "temp.shape"
   ]
  },
  {
   "cell_type": "code",
   "execution_count": 130,
   "id": "cd5334c4",
   "metadata": {},
   "outputs": [
    {
     "data": {
      "image/png": "[encoded data removed]",
      "text/plain": [
       "<Figure size 432x288 with 1 Axes>"
      ]
     },
     "metadata": {
      "needs_background": "light"
     },
     "output_type": "display_data"
    }
   ],
   "source": [
    "plt.imshow(temp,cmap='gray_r')\n",
    "plt.show()"
   ]
  },
  {
   "cell_type": "code",
   "execution_count": 131,
   "id": "7d3a0aaa",
   "metadata": {},
   "outputs": [
    {
     "data": {
      "text/plain": [
       "[<keras.layers.convolutional.conv2d.Conv2D at 0x12022c68b50>,\n",
       " <keras.layers.pooling.max_pooling2d.MaxPooling2D at 0x12022c683a0>,\n",
       " <keras.layers.convolutional.conv2d.Conv2D at 0x12022c68910>,\n",
       " <keras.layers.pooling.max_pooling2d.MaxPooling2D at 0x120237ef550>,\n",
       " <keras.layers.reshaping.flatten.Flatten at 0x1202352cac0>,\n",
       " <keras.layers.core.dense.Dense at 0x1202352c970>,\n",
       " <keras.layers.regularization.dropout.Dropout at 0x120237efb80>,\n",
       " <keras.layers.core.dense.Dense at 0x12022c3c7c0>]"
      ]
     },
     "execution_count": 131,
     "metadata": {},
     "output_type": "execute_result"
    }
   ],
   "source": [
    "# 모델 층의 가중치 분포\n",
    "model.layers"
   ]
  },
  {
   "cell_type": "code",
   "execution_count": 132,
   "id": "5e80b453",
   "metadata": {},
   "outputs": [],
   "source": [
    "conv = model.layers[0]"
   ]
  },
  {
   "cell_type": "code",
   "execution_count": 135,
   "id": "d083b926",
   "metadata": {},
   "outputs": [
    {
     "data": {
      "text/plain": [
       "(TensorShape([3, 3, 1, 32]), TensorShape([32]))"
      ]
     },
     "execution_count": 135,
     "metadata": {},
     "output_type": "execute_result"
    }
   ],
   "source": [
    "conv.weights[0].shape, conv.weights[1].shape"
   ]
  },
  {
   "cell_type": "code",
   "execution_count": null,
   "id": "448701c2",
   "metadata": {},
   "outputs": [],
   "source": [
    "# best-cnn-model.h5 파일로 합성곱 신경망 모델이 저장되어 있으므로 다른파일에서 불러와서 사용"
   ]
  }
 ],
 "metadata": {
  "kernelspec": {
   "display_name": "Python 3 (ipykernel)",
   "language": "python",
   "name": "python3"
  },
  "language_info": {
   "codemirror_mode": {
    "name": "ipython",
    "version": 3
   },
   "file_extension": ".py",
   "mimetype": "text/x-python",
   "name": "python",
   "nbconvert_exporter": "python",
   "pygments_lexer": "ipython3",
   "version": "3.9.12"
  }
 },
 "nbformat": 4,
 "nbformat_minor": 5
}
