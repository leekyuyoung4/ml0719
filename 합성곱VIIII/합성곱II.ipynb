{
 "cells": [
  {
   "cell_type": "code",
   "execution_count": 1,
   "id": "1c0ec531",
   "metadata": {},
   "outputs": [],
   "source": [
    "# 합성곱 신경망의 가중치\n",
    "from tensorflow import keras"
   ]
  },
  {
   "cell_type": "code",
   "execution_count": 2,
   "id": "d49b9709",
   "metadata": {},
   "outputs": [],
   "source": [
    "model = keras.models.load_model('best-cnn-model.h5')"
   ]
  },
  {
   "cell_type": "code",
   "execution_count": 3,
   "id": "e5baabdd",
   "metadata": {},
   "outputs": [
    {
     "name": "stdout",
     "output_type": "stream",
     "text": [
      "Model: \"sequential_8\"\n",
      "_________________________________________________________________\n",
      " Layer (type)                Output Shape              Param #   \n",
      "=================================================================\n",
      " conv2d_10 (Conv2D)          (None, 28, 28, 32)        320       \n",
      "                                                                 \n",
      " max_pooling2d_11 (MaxPoolin  (None, 14, 14, 32)       0         \n",
      " g2D)                                                            \n",
      "                                                                 \n",
      " conv2d_11 (Conv2D)          (None, 14, 14, 64)        18496     \n",
      "                                                                 \n",
      " max_pooling2d_12 (MaxPoolin  (None, 7, 7, 64)         0         \n",
      " g2D)                                                            \n",
      "                                                                 \n",
      " flatten_5 (Flatten)         (None, 3136)              0         \n",
      "                                                                 \n",
      " dense_10 (Dense)            (None, 100)               313700    \n",
      "                                                                 \n",
      " dropout_5 (Dropout)         (None, 100)               0         \n",
      "                                                                 \n",
      " dense_11 (Dense)            (None, 10)                1010      \n",
      "                                                                 \n",
      "=================================================================\n",
      "Total params: 333,526\n",
      "Trainable params: 333,526\n",
      "Non-trainable params: 0\n",
      "_________________________________________________________________\n"
     ]
    }
   ],
   "source": [
    "model.summary()"
   ]
  },
  {
   "cell_type": "code",
   "execution_count": 4,
   "id": "f0feeea3",
   "metadata": {},
   "outputs": [
    {
     "data": {
      "text/plain": [
       "[<keras.layers.convolutional.conv2d.Conv2D at 0x13813a2d100>,\n",
       " <keras.layers.pooling.max_pooling2d.MaxPooling2D at 0x13813a2de20>,\n",
       " <keras.layers.convolutional.conv2d.Conv2D at 0x13813b1a5b0>,\n",
       " <keras.layers.pooling.max_pooling2d.MaxPooling2D at 0x13813b51100>,\n",
       " <keras.layers.reshaping.flatten.Flatten at 0x13813b62be0>,\n",
       " <keras.layers.core.dense.Dense at 0x13813b62520>,\n",
       " <keras.layers.regularization.dropout.Dropout at 0x13813b62550>,\n",
       " <keras.layers.core.dense.Dense at 0x13813b624f0>]"
      ]
     },
     "execution_count": 4,
     "metadata": {},
     "output_type": "execute_result"
    }
   ],
   "source": [
    "model.layers"
   ]
  },
  {
   "cell_type": "code",
   "execution_count": 5,
   "id": "5a5b4f9c",
   "metadata": {},
   "outputs": [
    {
     "data": {
      "text/plain": [
       "TensorShape([3, 3, 1, 32])"
      ]
     },
     "execution_count": 5,
     "metadata": {},
     "output_type": "execute_result"
    }
   ],
   "source": [
    "conv =  model.layers[0]\n",
    "conv.weights[0].shape"
   ]
  },
  {
   "cell_type": "code",
   "execution_count": 6,
   "id": "2ab8743b",
   "metadata": {},
   "outputs": [
    {
     "data": {
      "text/plain": [
       "(-0.0011222983, 0.14953879)"
      ]
     },
     "execution_count": 6,
     "metadata": {},
     "output_type": "execute_result"
    }
   ],
   "source": [
    "conv_weight = conv.weights[0].numpy()\n",
    "conv_weight.mean() , conv_weight.std()"
   ]
  },
  {
   "cell_type": "code",
   "execution_count": 7,
   "id": "ae181ae8",
   "metadata": {},
   "outputs": [],
   "source": [
    "import matplotlib.pyplot as plt"
   ]
  },
  {
   "cell_type": "code",
   "execution_count": 8,
   "id": "ad00d329",
   "metadata": {},
   "outputs": [
    {
     "data": {
      "text/plain": [
       "(3, 3, 1, 32)"
      ]
     },
     "execution_count": 8,
     "metadata": {},
     "output_type": "execute_result"
    }
   ],
   "source": [
    "conv_weight.shape"
   ]
  },
  {
   "cell_type": "code",
   "execution_count": 9,
   "id": "3bb5ff67",
   "metadata": {},
   "outputs": [
    {
     "data": {
      "image/png": "[encoded data removed]",
      "text/plain": [
       "<Figure size 432x288 with 1 Axes>"
      ]
     },
     "metadata": {
      "needs_background": "light"
     },
     "output_type": "display_data"
    }
   ],
   "source": [
    "plt.hist(conv_weight.reshape(-1,1))\n",
    "plt.xlabel('weight')\n",
    "plt.ylabel('count')\n",
    "plt.show()"
   ]
  },
  {
   "cell_type": "code",
   "execution_count": 10,
   "id": "03ca2fc3",
   "metadata": {},
   "outputs": [
    {
     "data": {
      "text/plain": [
       "(3, 3, 1, 32)"
      ]
     },
     "execution_count": 10,
     "metadata": {},
     "output_type": "execute_result"
    }
   ],
   "source": [
    "conv_weight.shape"
   ]
  },
  {
   "cell_type": "code",
   "execution_count": 11,
   "id": "6ee23ff7",
   "metadata": {},
   "outputs": [
    {
     "data": {
      "text/plain": [
       "<matplotlib.image.AxesImage at 0x138161b3340>"
      ]
     },
     "execution_count": 11,
     "metadata": {},
     "output_type": "execute_result"
    },
    {
     "data": {
      "image/png": "[encoded data removed]",
      "text/plain": [
       "<Figure size 432x288 with 1 Axes>"
      ]
     },
     "metadata": {
      "needs_background": "light"
     },
     "output_type": "display_data"
    }
   ],
   "source": [
    "conv_weight[:,:,0,0].shape  # 특성맵.. 즉 필터   (3,3)\n",
    "plt.imshow(conv_weight[:,:,0,0], vmin=-0.5, vmax=0.5)"
   ]
  },
  {
   "cell_type": "code",
   "execution_count": 12,
   "id": "ff3cb8c3",
   "metadata": {},
   "outputs": [
    {
     "data": {
      "image/png": "[encoded data removed]",
      "text/plain": [
       "<Figure size 1080x144 with 32 Axes>"
      ]
     },
     "metadata": {
      "needs_background": "light"
     },
     "output_type": "display_data"
    }
   ],
   "source": [
    " # 2 * 16\n",
    "_,axs = plt.subplots(2,16,figsize=(15,2)) \n",
    "cnt = 0\n",
    "for i in range(2):\n",
    "    for j in range(16):\n",
    "        axs[i,j].imshow(conv_weight[:,:,0,cnt])\n",
    "        axs[i,j].axis('off')\n",
    "        cnt += 1\n",
    "plt.show()        "
   ]
  },
  {
   "cell_type": "code",
   "execution_count": 13,
   "id": "e6363764",
   "metadata": {},
   "outputs": [],
   "source": [
    "# 기존에 만들어진 모델에서 특정 레이아웃을 추출 해서 신경망 구조를 만들수 있음\n",
    "temp_model =  keras.Sequential()\n",
    "temp_model.add(keras.layers.Conv2D(32, kernel_size=3,activation='relu',padding='same'\n",
    "                                   ,input_shape=(28,28,1)))\n"
   ]
  },
  {
   "cell_type": "code",
   "execution_count": 14,
   "id": "932f4b8d",
   "metadata": {},
   "outputs": [],
   "source": [
    "temp_model_conv =  temp_model.layers[0]"
   ]
  },
  {
   "cell_type": "code",
   "execution_count": 15,
   "id": "4a12c19a",
   "metadata": {},
   "outputs": [
    {
     "data": {
      "text/plain": [
       "TensorShape([3, 3, 1, 32])"
      ]
     },
     "execution_count": 15,
     "metadata": {},
     "output_type": "execute_result"
    }
   ],
   "source": [
    "temp_model_conv.weights[0].shape"
   ]
  },
  {
   "cell_type": "code",
   "execution_count": 16,
   "id": "eef5cf25",
   "metadata": {},
   "outputs": [],
   "source": [
    "(x_train,y_train),(x_test_original,y_test_original) =  keras.datasets.fashion_mnist.load_data()"
   ]
  },
  {
   "cell_type": "code",
   "execution_count": 17,
   "id": "5c8af26b",
   "metadata": {},
   "outputs": [
    {
     "data": {
      "text/plain": [
       "<matplotlib.image.AxesImage at 0x1381ce169d0>"
      ]
     },
     "execution_count": 17,
     "metadata": {},
     "output_type": "execute_result"
    },
    {
     "data": {
      "image/png": "[encoded data removed]",
      "text/plain": [
       "<Figure size 432x288 with 1 Axes>"
      ]
     },
     "metadata": {
      "needs_background": "light"
     },
     "output_type": "display_data"
    }
   ],
   "source": [
    "plt.imshow(x_train[0],cmap='gray_r')"
   ]
  },
  {
   "cell_type": "code",
   "execution_count": 18,
   "id": "f247d050",
   "metadata": {},
   "outputs": [
    {
     "data": {
      "text/plain": [
       "<KerasTensor: shape=(None, 28, 28, 1) dtype=float32 (created by layer 'conv2d_10_input')>"
      ]
     },
     "execution_count": 18,
     "metadata": {},
     "output_type": "execute_result"
    }
   ],
   "source": [
    "model.input"
   ]
  },
  {
   "cell_type": "code",
   "execution_count": 19,
   "id": "4aa6b695",
   "metadata": {},
   "outputs": [
    {
     "data": {
      "text/plain": [
       "<KerasTensor: shape=(None, 28, 28, 32) dtype=float32 (created by layer 'conv2d_10')>"
      ]
     },
     "execution_count": 19,
     "metadata": {},
     "output_type": "execute_result"
    }
   ],
   "source": [
    "model.layers[0].output"
   ]
  },
  {
   "cell_type": "code",
   "execution_count": 20,
   "id": "112a11ad",
   "metadata": {},
   "outputs": [],
   "source": [
    "conv_active =  keras.Model(model.input,model.layers[0].output)"
   ]
  },
  {
   "cell_type": "code",
   "execution_count": 21,
   "id": "fb912e0c",
   "metadata": {},
   "outputs": [],
   "source": [
    "from sklearn.preprocessing import StandardScaler\n",
    "ss =StandardScaler()\n",
    "x_train_scaled =  ss.fit_transform(x_train.reshape(-1,28*28))\n"
   ]
  },
  {
   "cell_type": "code",
   "execution_count": 32,
   "id": "f17491a8",
   "metadata": {},
   "outputs": [
    {
     "data": {
      "text/plain": [
       "array([[-0.00864371, -0.02322333, -0.03917806, ..., -0.15681128,\n",
       "        -0.08967308, -0.03414729],\n",
       "       [-0.00864371, -0.02322333, -0.03917806, ..., -0.15681128,\n",
       "        -0.08967308, -0.03414729],\n",
       "       [-0.00864371, -0.02322333, -0.03917806, ..., -0.15681128,\n",
       "        -0.08967308, -0.03414729],\n",
       "       ...,\n",
       "       [-0.00864371, -0.02322333, -0.03917806, ..., -0.15681128,\n",
       "        -0.08967308, -0.03414729],\n",
       "       [-0.00864371, -0.02322333, -0.03917806, ..., -0.15681128,\n",
       "        -0.08967308, -0.03414729],\n",
       "       [-0.00864371, -0.02322333, -0.03917806, ..., -0.15681128,\n",
       "        -0.08967308, -0.03414729]])"
      ]
     },
     "execution_count": 32,
     "metadata": {},
     "output_type": "execute_result"
    }
   ],
   "source": [
    "(x_train_scaled - x_train_scaled.mean()) / x_train_scaled.std()"
   ]
  },
  {
   "cell_type": "code",
   "execution_count": 22,
   "id": "b2caafbd",
   "metadata": {},
   "outputs": [
    {
     "name": "stdout",
     "output_type": "stream",
     "text": [
      "1875/1875 [==============================] - 23s 12ms/step\n"
     ]
    },
    {
     "ename": "ResourceExhaustedError",
     "evalue": "OOM when allocating tensor with shape[60000,28,28,32] and type float on /job:localhost/replica:0/task:0/device:CPU:0 by allocator cpu [Op:ConcatV2] name: concat",
     "output_type": "error",
     "traceback": [
      "\u001b[1;31m---------------------------------------------------------------------------\u001b[0m",
      "\u001b[1;31mResourceExhaustedError\u001b[0m                    Traceback (most recent call last)",
      "Input \u001b[1;32mIn [22]\u001b[0m, in \u001b[0;36m<cell line: 1>\u001b[1;34m()\u001b[0m\n\u001b[1;32m----> 1\u001b[0m featrue_map \u001b[38;5;241m=\u001b[39m \u001b[43mconv_active\u001b[49m\u001b[38;5;241;43m.\u001b[39;49m\u001b[43mpredict\u001b[49m\u001b[43m(\u001b[49m\u001b[43mx_train_scaled\u001b[49m\u001b[38;5;241;43m.\u001b[39;49m\u001b[43mreshape\u001b[49m\u001b[43m(\u001b[49m\u001b[38;5;241;43m-\u001b[39;49m\u001b[38;5;241;43m1\u001b[39;49m\u001b[43m,\u001b[49m\u001b[38;5;241;43m28\u001b[39;49m\u001b[43m,\u001b[49m\u001b[38;5;241;43m28\u001b[39;49m\u001b[43m,\u001b[49m\u001b[38;5;241;43m1\u001b[39;49m\u001b[43m)\u001b[49m\u001b[43m)\u001b[49m\n\u001b[0;32m      2\u001b[0m featrue_map\u001b[38;5;241m.\u001b[39mshape\n",
      "File \u001b[1;32m~\\miniconda3\\envs\\ml\\lib\\site-packages\\keras\\utils\\traceback_utils.py:67\u001b[0m, in \u001b[0;36mfilter_traceback.<locals>.error_handler\u001b[1;34m(*args, **kwargs)\u001b[0m\n\u001b[0;32m     65\u001b[0m \u001b[38;5;28;01mexcept\u001b[39;00m \u001b[38;5;167;01mException\u001b[39;00m \u001b[38;5;28;01mas\u001b[39;00m e:  \u001b[38;5;66;03m# pylint: disable=broad-except\u001b[39;00m\n\u001b[0;32m     66\u001b[0m   filtered_tb \u001b[38;5;241m=\u001b[39m _process_traceback_frames(e\u001b[38;5;241m.\u001b[39m__traceback__)\n\u001b[1;32m---> 67\u001b[0m   \u001b[38;5;28;01mraise\u001b[39;00m e\u001b[38;5;241m.\u001b[39mwith_traceback(filtered_tb) \u001b[38;5;28;01mfrom\u001b[39;00m \u001b[38;5;28mNone\u001b[39m\n\u001b[0;32m     68\u001b[0m \u001b[38;5;28;01mfinally\u001b[39;00m:\n\u001b[0;32m     69\u001b[0m   \u001b[38;5;28;01mdel\u001b[39;00m filtered_tb\n",
      "File \u001b[1;32m~\\miniconda3\\envs\\ml\\lib\\site-packages\\tensorflow\\python\\framework\\ops.py:7164\u001b[0m, in \u001b[0;36mraise_from_not_ok_status\u001b[1;34m(e, name)\u001b[0m\n\u001b[0;32m   7162\u001b[0m \u001b[38;5;28;01mdef\u001b[39;00m \u001b[38;5;21mraise_from_not_ok_status\u001b[39m(e, name):\n\u001b[0;32m   7163\u001b[0m   e\u001b[38;5;241m.\u001b[39mmessage \u001b[38;5;241m+\u001b[39m\u001b[38;5;241m=\u001b[39m (\u001b[38;5;124m\"\u001b[39m\u001b[38;5;124m name: \u001b[39m\u001b[38;5;124m\"\u001b[39m \u001b[38;5;241m+\u001b[39m name \u001b[38;5;28;01mif\u001b[39;00m name \u001b[38;5;129;01mis\u001b[39;00m \u001b[38;5;129;01mnot\u001b[39;00m \u001b[38;5;28;01mNone\u001b[39;00m \u001b[38;5;28;01melse\u001b[39;00m \u001b[38;5;124m\"\u001b[39m\u001b[38;5;124m\"\u001b[39m)\n\u001b[1;32m-> 7164\u001b[0m   \u001b[38;5;28;01mraise\u001b[39;00m core\u001b[38;5;241m.\u001b[39m_status_to_exception(e) \u001b[38;5;28;01mfrom\u001b[39;00m \u001b[38;5;28mNone\u001b[39m\n",
      "\u001b[1;31mResourceExhaustedError\u001b[0m: OOM when allocating tensor with shape[60000,28,28,32] and type float on /job:localhost/replica:0/task:0/device:CPU:0 by allocator cpu [Op:ConcatV2] name: concat"
     ]
    }
   ],
   "source": [
    "featrue_map = conv_active.predict(x_train_scaled.reshape(-1,28,28,1))\n",
    "featrue_map.shape"
   ]
  },
  {
   "cell_type": "code",
   "execution_count": null,
   "id": "84449563",
   "metadata": {},
   "outputs": [],
   "source": []
  }
 ],
 "metadata": {
  "kernelspec": {
   "display_name": "Python 3 (ipykernel)",
   "language": "python",
   "name": "python3"
  },
  "language_info": {
   "codemirror_mode": {
    "name": "ipython",
    "version": 3
   },
   "file_extension": ".py",
   "mimetype": "text/x-python",
   "name": "python",
   "nbconvert_exporter": "python",
   "pygments_lexer": "ipython3",
   "version": "3.9.12"
  }
 },
 "nbformat": 4,
 "nbformat_minor": 5
}
