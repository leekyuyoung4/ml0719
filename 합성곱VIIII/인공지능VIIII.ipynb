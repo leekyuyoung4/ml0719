{
 "cells": [
  {
   "cell_type": "code",
   "execution_count": 1,
   "id": "3110df6a",
   "metadata": {},
   "outputs": [],
   "source": [
    "import tensorflow as tf"
   ]
  },
  {
   "cell_type": "code",
   "execution_count": 2,
   "id": "3363aa19",
   "metadata": {},
   "outputs": [],
   "source": [
    "tf.keras.utils.set_random_seed(42)\n",
    "tf.config.experimental.enable_op_determinism()"
   ]
  },
  {
   "cell_type": "code",
   "execution_count": 3,
   "id": "85fd90b6",
   "metadata": {},
   "outputs": [],
   "source": [
    "# 손실곡선\n",
    "from tensorflow import keras\n",
    "from sklearn.model_selection import train_test_split\n",
    "from sklearn.preprocessing import StandardScaler"
   ]
  },
  {
   "cell_type": "code",
   "execution_count": 4,
   "id": "06a51012",
   "metadata": {},
   "outputs": [],
   "source": [
    "(x_train,y_train),(x_test,y_test) =  keras.datasets.fashion_mnist.load_data()\n",
    "ss = StandardScaler()\n",
    "\n",
    "x_train_scaled =  ss.fit_transform(x_train.reshape( x_train.shape[0],-1 ))"
   ]
  },
  {
   "cell_type": "code",
   "execution_count": 5,
   "id": "8a574cc5",
   "metadata": {},
   "outputs": [],
   "source": [
    "x_train.shape, x_train_scaled.shape, y_train.shape\n",
    "x_train,x_test,y_train,y_test =  train_test_split(x_train_scaled,y_train,random_state=32)"
   ]
  },
  {
   "cell_type": "code",
   "execution_count": 6,
   "id": "2cabe1ab",
   "metadata": {},
   "outputs": [
    {
     "name": "stdout",
     "output_type": "stream",
     "text": [
      "Model: \"sequential\"\n",
      "_________________________________________________________________\n",
      " Layer (type)                Output Shape              Param #   \n",
      "=================================================================\n",
      " dense (Dense)               (None, 100)               78500     \n",
      "                                                                 \n",
      " dense_1 (Dense)             (None, 10)                1010      \n",
      "                                                                 \n",
      "=================================================================\n",
      "Total params: 79,510\n",
      "Trainable params: 79,510\n",
      "Non-trainable params: 0\n",
      "_________________________________________________________________\n"
     ]
    }
   ],
   "source": [
    "model = keras.Sequential()\n",
    "# model.add(keras.layers.Flatten(input_shape=(28,28)))\n",
    "# model.add(keras.layers.Dense(100,activation='relu'))\n",
    "model.add(keras.layers.Dense(100,activation='relu',input_shape=(28*28,)))\n",
    "model.add(keras.layers.Dense(10,activation='softmax'))\n",
    "model.summary()\n",
    "          "
   ]
  },
  {
   "cell_type": "code",
   "execution_count": 7,
   "id": "6d521718",
   "metadata": {},
   "outputs": [
    {
     "name": "stdout",
     "output_type": "stream",
     "text": [
      "Epoch 1/10\n",
      "1407/1407 [==============================] - 4s 2ms/step - loss: 0.4757 - accuracy: 0.8325\n",
      "Epoch 2/10\n",
      "1407/1407 [==============================] - 3s 2ms/step - loss: 0.3672 - accuracy: 0.8730\n",
      "Epoch 3/10\n",
      "1407/1407 [==============================] - 3s 2ms/step - loss: 0.3333 - accuracy: 0.8857\n",
      "Epoch 4/10\n",
      "1407/1407 [==============================] - 3s 2ms/step - loss: 0.3092 - accuracy: 0.8955\n",
      "Epoch 5/10\n",
      "1407/1407 [==============================] - 3s 2ms/step - loss: 0.2929 - accuracy: 0.9018\n",
      "Epoch 6/10\n",
      "1407/1407 [==============================] - 3s 2ms/step - loss: 0.2772 - accuracy: 0.9081\n",
      "Epoch 7/10\n",
      "1407/1407 [==============================] - 3s 2ms/step - loss: 0.2643 - accuracy: 0.9142\n",
      "Epoch 8/10\n",
      "1407/1407 [==============================] - 3s 2ms/step - loss: 0.2556 - accuracy: 0.9180\n",
      "Epoch 9/10\n",
      "1407/1407 [==============================] - 3s 2ms/step - loss: 0.2431 - accuracy: 0.9221\n",
      "Epoch 10/10\n",
      "1407/1407 [==============================] - 3s 2ms/step - loss: 0.2444 - accuracy: 0.9251\n"
     ]
    }
   ],
   "source": [
    "model.compile(loss='sparse_categorical_crossentropy', metrics='accuracy')\n",
    "history =  model.fit(x_train,y_train,epochs=10)"
   ]
  },
  {
   "cell_type": "code",
   "execution_count": 8,
   "id": "be0fcec3",
   "metadata": {},
   "outputs": [
    {
     "data": {
      "text/plain": [
       "{'loss': [0.4757387042045593,\n",
       "  0.3672482967376709,\n",
       "  0.33331891894340515,\n",
       "  0.3092319965362549,\n",
       "  0.2928793728351593,\n",
       "  0.2771824300289154,\n",
       "  0.26425081491470337,\n",
       "  0.255624383687973,\n",
       "  0.2430633306503296,\n",
       "  0.24441787600517273],\n",
       " 'accuracy': [0.8324666619300842,\n",
       "  0.873022198677063,\n",
       "  0.8856889009475708,\n",
       "  0.8954889178276062,\n",
       "  0.9017555713653564,\n",
       "  0.9080888628959656,\n",
       "  0.9141777753829956,\n",
       "  0.9180444478988647,\n",
       "  0.9221110939979553,\n",
       "  0.9250888824462891]}"
      ]
     },
     "execution_count": 8,
     "metadata": {},
     "output_type": "execute_result"
    }
   ],
   "source": [
    "history.history"
   ]
  },
  {
   "cell_type": "code",
   "execution_count": 9,
   "id": "9f1964c2",
   "metadata": {},
   "outputs": [],
   "source": [
    "import numpy as np"
   ]
  },
  {
   "cell_type": "code",
   "execution_count": 10,
   "id": "70545254",
   "metadata": {},
   "outputs": [],
   "source": [
    "ss = StandardScaler()\n",
    "hist_loss2d =  ss.fit_transform(np.array(history.history['loss']).reshape(-1,1))\n",
    "hist_accuracy2d =  ss.fit_transform(np.array(history.history['accuracy']).reshape(-1,1))"
   ]
  },
  {
   "cell_type": "code",
   "execution_count": 11,
   "id": "c16c131c",
   "metadata": {},
   "outputs": [
    {
     "data": {
      "image/png": "[encoded data removed]",
      "text/plain": [
       "<Figure size 432x288 with 1 Axes>"
      ]
     },
     "metadata": {
      "needs_background": "light"
     },
     "output_type": "display_data"
    }
   ],
   "source": [
    "import matplotlib.pyplot as plt\n",
    "plt.plot(hist_loss2d)\n",
    "plt.plot(hist_accuracy2d)\n",
    "plt.xlabel('epoch')\n",
    "plt.ylabel('loss')\n",
    "plt.legend(['loss','accuracy'])\n",
    "plt.show()"
   ]
  },
  {
   "cell_type": "code",
   "execution_count": 12,
   "id": "6d8fca03",
   "metadata": {},
   "outputs": [
    {
     "data": {
      "text/plain": [
       "(15000, 784)"
      ]
     },
     "execution_count": 12,
     "metadata": {},
     "output_type": "execute_result"
    }
   ],
   "source": [
    "x_test.shape"
   ]
  },
  {
   "cell_type": "code",
   "execution_count": 13,
   "id": "5e58a4bf",
   "metadata": {},
   "outputs": [
    {
     "name": "stdout",
     "output_type": "stream",
     "text": [
      "Epoch 1/5\n",
      "1407/1407 [==============================] - 4s 2ms/step - loss: 0.4804 - accuracy: 0.8322 - val_loss: 0.4418 - val_accuracy: 0.8486\n",
      "Epoch 2/5\n",
      "1407/1407 [==============================] - 3s 2ms/step - loss: 0.3665 - accuracy: 0.8744 - val_loss: 0.4123 - val_accuracy: 0.8624\n",
      "Epoch 3/5\n",
      "1407/1407 [==============================] - 3s 2ms/step - loss: 0.3305 - accuracy: 0.8878 - val_loss: 0.3919 - val_accuracy: 0.8751\n",
      "Epoch 4/5\n",
      "1407/1407 [==============================] - 4s 3ms/step - loss: 0.3039 - accuracy: 0.8970 - val_loss: 0.4267 - val_accuracy: 0.8715\n",
      "Epoch 5/5\n",
      "1407/1407 [==============================] - 3s 2ms/step - loss: 0.2880 - accuracy: 0.9033 - val_loss: 0.4067 - val_accuracy: 0.8819\n"
     ]
    }
   ],
   "source": [
    "# epoch = 3\n",
    "# 검증\n",
    "model = keras.Sequential()\n",
    "model.add(keras.layers.Dense(100,activation='relu',input_shape=(28*28,)))\n",
    "model.add(keras.layers.Dense(10,activation='softmax'))\n",
    "model.compile(loss='sparse_categorical_crossentropy', metrics='accuracy')\n",
    "history =  model.fit(x_train,y_train,epochs=5, validation_data=(x_test,y_test) )\n"
   ]
  },
  {
   "cell_type": "code",
   "execution_count": 14,
   "id": "b4127a91",
   "metadata": {},
   "outputs": [
    {
     "data": {
      "text/plain": [
       "dict_keys(['loss', 'accuracy', 'val_loss', 'val_accuracy'])"
      ]
     },
     "execution_count": 14,
     "metadata": {},
     "output_type": "execute_result"
    }
   ],
   "source": [
    "history.history.keys()"
   ]
  },
  {
   "cell_type": "code",
   "execution_count": 15,
   "id": "6904a34f",
   "metadata": {},
   "outputs": [
    {
     "data": {
      "text/plain": [
       "{'loss': [0.4804122745990753,\n",
       "  0.3664972186088562,\n",
       "  0.33045583963394165,\n",
       "  0.30391180515289307,\n",
       "  0.2880207598209381],\n",
       " 'accuracy': [0.8321777582168579,\n",
       "  0.8743777871131897,\n",
       "  0.887844443321228,\n",
       "  0.8970222473144531,\n",
       "  0.9032666683197021],\n",
       " 'val_loss': [0.4417515993118286,\n",
       "  0.41226640343666077,\n",
       "  0.391929566860199,\n",
       "  0.4267260730266571,\n",
       "  0.406716912984848],\n",
       " 'val_accuracy': [0.8485999703407288,\n",
       "  0.8623999953269958,\n",
       "  0.8750666379928589,\n",
       "  0.8714666962623596,\n",
       "  0.881933331489563]}"
      ]
     },
     "execution_count": 15,
     "metadata": {},
     "output_type": "execute_result"
    }
   ],
   "source": [
    "history.history"
   ]
  },
  {
   "cell_type": "code",
   "execution_count": 16,
   "id": "8c8fd2a4",
   "metadata": {},
   "outputs": [
    {
     "data": {
      "image/png": "[encoded data removed]",
      "text/plain": [
       "<Figure size 432x288 with 1 Axes>"
      ]
     },
     "metadata": {
      "needs_background": "light"
     },
     "output_type": "display_data"
    }
   ],
   "source": [
    "plt.plot(history.history['loss'])\n",
    "plt.plot(history.history['val_loss'])\n",
    "plt.xlabel(\"epoch\")\n",
    "plt.ylabel(\"loss\")\n",
    "plt.legend(['loss','val_loss'])\n",
    "plt.show()"
   ]
  },
  {
   "cell_type": "code",
   "execution_count": 17,
   "id": "55ed3a01",
   "metadata": {},
   "outputs": [],
   "source": [
    "model = keras.Sequential()\n",
    "model.add(keras.layers.Dense(100,activation='relu',input_shape=(28*28,)))\n",
    "model.add(keras.layers.Dropout(0.4))\n",
    "model.add(keras.layers.Dense(10,activation='softmax'))\n",
    "# model.compile(loss='sparse_categorical_crossentropy', metrics='accuracy')\n",
    "# history =  model.fit(x_train,y_train,epochs=5, validation_data=(x_test,y_test) )"
   ]
  },
  {
   "cell_type": "code",
   "execution_count": 18,
   "id": "cc4ab44e",
   "metadata": {},
   "outputs": [
    {
     "name": "stdout",
     "output_type": "stream",
     "text": [
      "Model: \"sequential_2\"\n",
      "_________________________________________________________________\n",
      " Layer (type)                Output Shape              Param #   \n",
      "=================================================================\n",
      " dense_4 (Dense)             (None, 100)               78500     \n",
      "                                                                 \n",
      " dropout (Dropout)           (None, 100)               0         \n",
      "                                                                 \n",
      " dense_5 (Dense)             (None, 10)                1010      \n",
      "                                                                 \n",
      "=================================================================\n",
      "Total params: 79,510\n",
      "Trainable params: 79,510\n",
      "Non-trainable params: 0\n",
      "_________________________________________________________________\n"
     ]
    }
   ],
   "source": [
    "model.summary()"
   ]
  },
  {
   "cell_type": "code",
   "execution_count": 19,
   "id": "a0af4589",
   "metadata": {},
   "outputs": [
    {
     "name": "stdout",
     "output_type": "stream",
     "text": [
      "Epoch 1/20\n",
      "1407/1407 [==============================] - 4s 3ms/step - loss: 0.5847 - accuracy: 0.7970 - val_loss: 0.3897 - val_accuracy: 0.8571\n",
      "Epoch 2/20\n",
      "1407/1407 [==============================] - 3s 2ms/step - loss: 0.4343 - accuracy: 0.8442 - val_loss: 0.3663 - val_accuracy: 0.8663\n",
      "Epoch 3/20\n",
      "1407/1407 [==============================] - 3s 2ms/step - loss: 0.4043 - accuracy: 0.8526 - val_loss: 0.3590 - val_accuracy: 0.8704\n",
      "Epoch 4/20\n",
      "1407/1407 [==============================] - 3s 2ms/step - loss: 0.3832 - accuracy: 0.8623 - val_loss: 0.3474 - val_accuracy: 0.8734\n",
      "Epoch 5/20\n",
      "1407/1407 [==============================] - 3s 2ms/step - loss: 0.3664 - accuracy: 0.8660 - val_loss: 0.3395 - val_accuracy: 0.8779\n",
      "Epoch 6/20\n",
      "1407/1407 [==============================] - 3s 2ms/step - loss: 0.3586 - accuracy: 0.8681 - val_loss: 0.3594 - val_accuracy: 0.8677\n",
      "Epoch 7/20\n",
      "1407/1407 [==============================] - 3s 2ms/step - loss: 0.3394 - accuracy: 0.8752 - val_loss: 0.3381 - val_accuracy: 0.8811\n",
      "Epoch 8/20\n",
      "1407/1407 [==============================] - 3s 2ms/step - loss: 0.3372 - accuracy: 0.8761 - val_loss: 0.3450 - val_accuracy: 0.8805\n",
      "Epoch 9/20\n",
      "1407/1407 [==============================] - 3s 2ms/step - loss: 0.3301 - accuracy: 0.8781 - val_loss: 0.3427 - val_accuracy: 0.8815\n",
      "Epoch 10/20\n",
      "1407/1407 [==============================] - 3s 2ms/step - loss: 0.3221 - accuracy: 0.8831 - val_loss: 0.3303 - val_accuracy: 0.8838\n",
      "Epoch 11/20\n",
      "1407/1407 [==============================] - 3s 2ms/step - loss: 0.3166 - accuracy: 0.8847 - val_loss: 0.3455 - val_accuracy: 0.8810\n",
      "Epoch 12/20\n",
      "1407/1407 [==============================] - 3s 2ms/step - loss: 0.3134 - accuracy: 0.8840 - val_loss: 0.3426 - val_accuracy: 0.8807\n",
      "Epoch 13/20\n",
      "1407/1407 [==============================] - 3s 2ms/step - loss: 0.3038 - accuracy: 0.8887 - val_loss: 0.3386 - val_accuracy: 0.8825\n",
      "Epoch 14/20\n",
      "1407/1407 [==============================] - 3s 2ms/step - loss: 0.3006 - accuracy: 0.8894 - val_loss: 0.3490 - val_accuracy: 0.8829\n",
      "Epoch 15/20\n",
      "1407/1407 [==============================] - 3s 2ms/step - loss: 0.2946 - accuracy: 0.8910 - val_loss: 0.3429 - val_accuracy: 0.8813\n",
      "Epoch 16/20\n",
      "1407/1407 [==============================] - 3s 2ms/step - loss: 0.2900 - accuracy: 0.8938 - val_loss: 0.3426 - val_accuracy: 0.8839\n",
      "Epoch 17/20\n",
      "1407/1407 [==============================] - 3s 2ms/step - loss: 0.2852 - accuracy: 0.8952 - val_loss: 0.3592 - val_accuracy: 0.8790\n",
      "Epoch 18/20\n",
      "1407/1407 [==============================] - 3s 2ms/step - loss: 0.2803 - accuracy: 0.8965 - val_loss: 0.3397 - val_accuracy: 0.8881\n",
      "Epoch 19/20\n",
      "1407/1407 [==============================] - 3s 2ms/step - loss: 0.2758 - accuracy: 0.8974 - val_loss: 0.3557 - val_accuracy: 0.8820\n",
      "Epoch 20/20\n",
      "1407/1407 [==============================] - 4s 3ms/step - loss: 0.2776 - accuracy: 0.8969 - val_loss: 0.3526 - val_accuracy: 0.8825\n"
     ]
    }
   ],
   "source": [
    "model.compile(optimizer='adam', loss='sparse_categorical_crossentropy', metrics='accuracy')\n",
    "history =  model.fit(x_train,y_train,epochs=20, validation_data=(x_test,y_test) )"
   ]
  },
  {
   "cell_type": "code",
   "execution_count": 20,
   "id": "895abd95",
   "metadata": {},
   "outputs": [
    {
     "data": {
      "image/png": "[encoded data removed]",
      "text/plain": [
       "<Figure size 432x288 with 1 Axes>"
      ]
     },
     "metadata": {
      "needs_background": "light"
     },
     "output_type": "display_data"
    }
   ],
   "source": [
    "plt.plot(history.history['loss'])\n",
    "plt.plot(history.history['val_loss'])\n",
    "plt.xlabel('epoch')\n",
    "plt.ylabel('loss')\n",
    "plt.legend(['train','val_loss'])\n",
    "plt.show()"
   ]
  },
  {
   "cell_type": "code",
   "execution_count": 21,
   "id": "011b455f",
   "metadata": {},
   "outputs": [],
   "source": [
    "# 모델 저장 복원\n",
    "model.save_weights('model-weights.h5')"
   ]
  },
  {
   "cell_type": "code",
   "execution_count": 22,
   "id": "09d56e0e",
   "metadata": {},
   "outputs": [],
   "source": [
    "model.save('model-whole.h5')"
   ]
  },
  {
   "cell_type": "code",
   "execution_count": 23,
   "id": "259325bc",
   "metadata": {},
   "outputs": [
    {
     "name": "stdout",
     "output_type": "stream",
     "text": [
      " E 드라이브의 볼륨: 새 볼륨\n",
      " 볼륨 일련 번호: 6045-BA7D\n",
      "\n",
      " E:\\4.numpy_workspace 디렉터리\n",
      "\n",
      "[.]                          [..]\n",
      "[.ipynb_checkpoints]         2022-08-09_넘파이.ipynb\n",
      "best-model.h5                chromedriver.exe\n",
      "CoffeBean.csv                [datas]\n",
      "excel-comp-data.xlsx         fruits_300.npy\n",
      "hollys_store.csv             model-weights.h5\n",
      "model-whole.h5               [source (1)]\n",
      "Untitled.ipynb               Untitled1.ipynb\n",
      "wine.csv                     [wins]\n",
      "데이터 시각화.ipynb          동적 웹페이지 크롤링.ipynb\n",
      "동적크롤링_완성.ipynb        머신러닝I.ipynb\n",
      "머신러닝II.ipynb             머신러닝III.ipynb\n",
      "머신러닝IV.ipynb             머신러닝V.ipynb\n",
      "머신러닝VI.ipynb             머신러닝VII.ipynb\n",
      "머신러닝VIII.ipynb           선형회귀 기초.ipynb\n",
      "인공지능VIIII.ipynb          전처리.ipynb\n",
      "정적웹페이지 크롤링.ipynb    정적크롤링-실습.ipynb\n",
      "타이타닉 데이터 노트.xlsx    통계분석.ipynb\n",
      "판다스.ipynb                 판다스_20220810.ipynb\n",
      "합성곱.ipynb                 \n",
      "              33개 파일          23,729,499 바이트\n",
      "               6개 디렉터리  145,599,021,056 바이트 남음\n"
     ]
    }
   ],
   "source": [
    "!dir/w"
   ]
  },
  {
   "cell_type": "code",
   "execution_count": 24,
   "id": "b6c44478",
   "metadata": {},
   "outputs": [
    {
     "name": "stdout",
     "output_type": "stream",
     "text": [
      "469/469 [==============================] - 1s 2ms/step\n"
     ]
    },
    {
     "data": {
      "text/plain": [
       "array([[2.5168619e-08, 7.6126589e-09, 5.1900428e-10, ..., 2.5056694e-22,\n",
       "        1.0252197e-12, 3.2353629e-21],\n",
       "       [3.4919126e-16, 1.0000000e+00, 6.5452786e-19, ..., 2.0928518e-33,\n",
       "        2.5837896e-22, 0.0000000e+00],\n",
       "       [1.0310041e-34, 0.0000000e+00, 0.0000000e+00, ..., 1.2865531e-12,\n",
       "        5.9430491e-28, 9.9999475e-01],\n",
       "       ...,\n",
       "       [1.9405297e-05, 2.7711375e-10, 5.1953715e-01, ..., 4.7827003e-22,\n",
       "        2.6152766e-10, 3.4669780e-18],\n",
       "       [4.7276760e-04, 4.2999712e-08, 9.5114487e-01, ..., 8.3916598e-13,\n",
       "        6.1069358e-08, 2.8678882e-14],\n",
       "       [2.8722247e-06, 4.3066123e-17, 9.0728054e-07, ..., 8.3611243e-12,\n",
       "        9.9998188e-01, 5.6438036e-21]], dtype=float32)"
      ]
     },
     "execution_count": 24,
     "metadata": {},
     "output_type": "execute_result"
    }
   ],
   "source": [
    "result =  model.predict(x_test)\n",
    "result"
   ]
  },
  {
   "cell_type": "code",
   "execution_count": 25,
   "id": "5115fbd7",
   "metadata": {},
   "outputs": [
    {
     "data": {
      "text/plain": [
       "(3, 3)"
      ]
     },
     "execution_count": 25,
     "metadata": {},
     "output_type": "execute_result"
    }
   ],
   "source": [
    "np.argmax(result[0]), y_test[0]"
   ]
  },
  {
   "cell_type": "code",
   "execution_count": 26,
   "id": "9709daa0",
   "metadata": {},
   "outputs": [
    {
     "data": {
      "text/plain": [
       "(15000, 10)"
      ]
     },
     "execution_count": 26,
     "metadata": {},
     "output_type": "execute_result"
    }
   ],
   "source": [
    "result.shape"
   ]
  },
  {
   "cell_type": "code",
   "execution_count": 27,
   "id": "78078dba",
   "metadata": {},
   "outputs": [
    {
     "data": {
      "text/plain": [
       "((15000,), (15000,))"
      ]
     },
     "execution_count": 27,
     "metadata": {},
     "output_type": "execute_result"
    }
   ],
   "source": [
    "predict_result = np.argmax(result, axis=1)\n",
    "predict_result.shape, y_test.shape"
   ]
  },
  {
   "cell_type": "code",
   "execution_count": 28,
   "id": "ab414e5d",
   "metadata": {},
   "outputs": [
    {
     "data": {
      "text/plain": [
       "0.8825333333333333"
      ]
     },
     "execution_count": 28,
     "metadata": {},
     "output_type": "execute_result"
    }
   ],
   "source": [
    "np.mean(predict_result == y_test)"
   ]
  },
  {
   "cell_type": "code",
   "execution_count": 29,
   "id": "1589783f",
   "metadata": {},
   "outputs": [],
   "source": [
    "(_,_),(valx_test,valy_test ) =  keras.datasets.fashion_mnist.load_data()"
   ]
  },
  {
   "cell_type": "code",
   "execution_count": 30,
   "id": "eed0503a",
   "metadata": {},
   "outputs": [
    {
     "name": "stdout",
     "output_type": "stream",
     "text": [
      "313/313 [==============================] - 0s 1ms/step\n"
     ]
    }
   ],
   "source": [
    "predic_val = model.predict( valx_test.reshape(valx_test.shape[0],-1))"
   ]
  },
  {
   "cell_type": "code",
   "execution_count": 31,
   "id": "7c86d726",
   "metadata": {},
   "outputs": [
    {
     "data": {
      "text/plain": [
       "0.7642"
      ]
     },
     "execution_count": 31,
     "metadata": {},
     "output_type": "execute_result"
    }
   ],
   "source": [
    "np.mean( np.argmax(predic_val,axis=1) == valy_test)"
   ]
  },
  {
   "cell_type": "code",
   "execution_count": 32,
   "id": "dac9bfa0",
   "metadata": {},
   "outputs": [
    {
     "name": "stdout",
     "output_type": "stream",
     "text": [
      "313/313 [==============================] - 0s 947us/step\n"
     ]
    },
    {
     "data": {
      "text/plain": [
       "0.8782"
      ]
     },
     "execution_count": 32,
     "metadata": {},
     "output_type": "execute_result"
    }
   ],
   "source": [
    "ss =StandardScaler()\n",
    "valx_test_scaled = ss.fit_transform(valx_test.reshape(valx_test.shape[0],-1))\n",
    "predic_val_scaled = model.predict( valx_test_scaled)\n",
    "np.mean( np.argmax(predic_val_scaled,axis=1) == valy_test)"
   ]
  },
  {
   "cell_type": "code",
   "execution_count": 45,
   "id": "4b4274fe",
   "metadata": {},
   "outputs": [
    {
     "name": "stdout",
     "output_type": "stream",
     "text": [
      "(60000, 28, 28) (60000,) (10000, 28, 28) (10000,)\n",
      "(45000, 28, 28) (45000,) (15000, 28, 28) (15000,)\n"
     ]
    },
    {
     "data": {
      "text/plain": [
       "((45000, 784), (45000,), (15000, 784), (15000,))"
      ]
     },
     "execution_count": 45,
     "metadata": {},
     "output_type": "execute_result"
    }
   ],
   "source": [
    "# 데이터 다시 생성\n",
    "from sklearn.model_selection import train_test_split\n",
    "# 데이터 로드\n",
    "(x_train,y_train),(x_test,y_test) =  keras.datasets.fashion_mnist.load_data()\n",
    "print(x_train.shape ,y_train.shape, x_test.shape,y_test.shape)\n",
    "\n",
    "x_train_s,x_test_s,y_train_s,y_test_s =  train_test_split(x_train,y_train,random_state=42)\n",
    "print(x_train_s.shape, y_train_s.shape, x_test_s.shape, y_test_s.shape)\n",
    "\n",
    "ss=StandardScaler()  # sklenarn 2차원을입력으로...\n",
    "x_train_scaled = ss.fit_transform(x_train_s.reshape(x_train_s.shape[0],-1))\n",
    "x_text_scaled = ss.fit_transform(x_test_s.reshape(x_test_s.shape[0],-1))\n",
    "\n",
    "x_train_scaled.shape, y_train_s.shape, x_text_scaled.shape, y_test_s.shape"
   ]
  },
  {
   "cell_type": "code",
   "execution_count": null,
   "id": "43e58747",
   "metadata": {},
   "outputs": [
    {
     "name": "stdout",
     "output_type": "stream",
     "text": [
      "Epoch 1/30\n",
      "1407/1407 [==============================] - 4s 3ms/step - loss: 0.5915 - accuracy: 0.7985 - val_loss: 0.4027 - val_accuracy: 0.8558\n",
      "Epoch 2/30\n",
      "1407/1407 [==============================] - 3s 2ms/step - loss: 0.4405 - accuracy: 0.8420 - val_loss: 0.3820 - val_accuracy: 0.8583\n",
      "Epoch 3/30\n",
      "1407/1407 [==============================] - 3s 2ms/step - loss: 0.4045 - accuracy: 0.8529 - val_loss: 0.3661 - val_accuracy: 0.8668\n",
      "Epoch 4/30\n",
      "1407/1407 [==============================] - 3s 2ms/step - loss: 0.3770 - accuracy: 0.8634 - val_loss: 0.3673 - val_accuracy: 0.8677\n",
      "Epoch 5/30\n",
      "1407/1407 [==============================] - 3s 2ms/step - loss: 0.3646 - accuracy: 0.8673 - val_loss: 0.3527 - val_accuracy: 0.8762\n",
      "Epoch 6/30\n",
      "1407/1407 [==============================] - 3s 2ms/step - loss: 0.3533 - accuracy: 0.8700 - val_loss: 0.3542 - val_accuracy: 0.8738\n",
      "Epoch 7/30\n",
      " 396/1407 [=======>......................] - ETA: 1s - loss: 0.3419 - accuracy: 0.8741"
     ]
    }
   ],
   "source": [
    "# callback\n",
    "model = keras.Sequential()\n",
    "model.add(keras.layers.Dense(100,activation='relu',input_shape=(28*28,)))\n",
    "model.add(keras.layers.Dropout(0.4))\n",
    "model.add(keras.layers.Dense(10,activation='softmax'))\n",
    "model.compile(optimizer='adam', loss = 'sparse_categorical_crossentropy', metrics='accuracy')\n",
    "checkpoint =  keras.callbacks.ModelCheckpoint('best-model.h5',save_best_only=True)\n",
    "model.fit(x_train_scaled,y_train_s,epochs=30,validation_data=(x_text_scaled,y_test_s), callbacks=checkpoint)\n",
    "\n"
   ]
  },
  {
   "cell_type": "code",
   "execution_count": null,
   "id": "968caf1f",
   "metadata": {},
   "outputs": [],
   "source": [
    "tempx =  ss.fit_transform(x_test.reshape(x_test.shape[0],-1))\n",
    "model.evaluate(tempx,y_test)"
   ]
  },
  {
   "cell_type": "code",
   "execution_count": null,
   "id": "6baf62b7",
   "metadata": {},
   "outputs": [],
   "source": [
    "tempx.shape, y_test.shape"
   ]
  },
  {
   "cell_type": "code",
   "execution_count": null,
   "id": "1d3c1ee9",
   "metadata": {},
   "outputs": [],
   "source": [
    "best_model =  keras.models.load_model('best-model.h5')\n",
    "best_model.summary()"
   ]
  },
  {
   "cell_type": "code",
   "execution_count": null,
   "id": "b4f4709e",
   "metadata": {},
   "outputs": [],
   "source": [
    "best_model.evaluate(tempx,y_test)"
   ]
  },
  {
   "cell_type": "code",
   "execution_count": null,
   "id": "a62d656e",
   "metadata": {},
   "outputs": [],
   "source": [
    "# 조기종료...\n",
    "model = keras.Sequential()\n",
    "model.add(keras.layers.Dense(100,activation='relu',input_shape=(28*28,)))\n",
    "model.add(keras.layers.Dropout(0.4))\n",
    "model.add(keras.layers.Dense(10,activation='softmax'))\n",
    "model.compile(optimizer='adam', loss = 'sparse_categorical_crossentropy', metrics='accuracy')\n",
    "checkpoint =  keras.callbacks.ModelCheckpoint('best-model.h5',save_best_only=True)\n",
    "earlyStopping = keras.callbacks.EarlyStopping(patience=2,restore_best_weights=True)\n",
    "history =  model.fit(x_train_scaled,y_train_s,epochs=100,validation_data=(x_text_scaled,y_test_s)\n",
    "          , callbacks=[checkpoint,earlyStopping])"
   ]
  },
  {
   "cell_type": "code",
   "execution_count": null,
   "id": "ce3e98e3",
   "metadata": {},
   "outputs": [],
   "source": [
    "earlyStopping.stopped_epoch"
   ]
  },
  {
   "cell_type": "code",
   "execution_count": null,
   "id": "fd18ba47",
   "metadata": {},
   "outputs": [],
   "source": [
    "plt.plot(history.history['loss'])\n",
    "plt.plot(history.history['val_loss'])\n",
    "plt.xlabel('epoch')\n",
    "plt.ylabel('loss')\n",
    "plt.legend(['loss','val_loss'])\n",
    "plt.show()"
   ]
  },
  {
   "cell_type": "code",
   "execution_count": null,
   "id": "5ec62dba",
   "metadata": {},
   "outputs": [],
   "source": [
    "model.evaluate(tempx,y_test)"
   ]
  },
  {
   "cell_type": "code",
   "execution_count": null,
   "id": "99ad86ec",
   "metadata": {},
   "outputs": [],
   "source": []
  },
  {
   "cell_type": "code",
   "execution_count": null,
   "id": "e4a9b7c7",
   "metadata": {},
   "outputs": [],
   "source": []
  },
  {
   "cell_type": "code",
   "execution_count": null,
   "id": "ae1618ff",
   "metadata": {},
   "outputs": [],
   "source": []
  },
  {
   "cell_type": "code",
   "execution_count": null,
   "id": "d2759ea8",
   "metadata": {},
   "outputs": [],
   "source": []
  }
 ],
 "metadata": {
  "kernelspec": {
   "display_name": "Python 3 (ipykernel)",
   "language": "python",
   "name": "python3"
  },
  "language_info": {
   "codemirror_mode": {
    "name": "ipython",
    "version": 3
   },
   "file_extension": ".py",
   "mimetype": "text/x-python",
   "name": "python",
   "nbconvert_exporter": "python",
   "pygments_lexer": "ipython3",
   "version": "3.9.12"
  }
 },
 "nbformat": 4,
 "nbformat_minor": 5
}
