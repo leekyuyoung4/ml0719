{
 "cells": [
  {
   "cell_type": "code",
   "execution_count": 1,
   "id": "3110df6a",
   "metadata": {},
   "outputs": [],
   "source": [
    "import tensorflow as tf"
   ]
  },
  {
   "cell_type": "code",
   "execution_count": 2,
   "id": "3363aa19",
   "metadata": {},
   "outputs": [],
   "source": [
    "tf.keras.utils.set_random_seed(42)\n",
    "tf.config.experimental.enable_op_determinism()"
   ]
  },
  {
   "cell_type": "code",
   "execution_count": 8,
   "id": "85fd90b6",
   "metadata": {},
   "outputs": [],
   "source": [
    "# 손실곡선\n",
    "from tensorflow import keras\n",
    "from sklearn.model_selection import train_test_split\n",
    "from sklearn.preprocessing import StandardScaler"
   ]
  },
  {
   "cell_type": "code",
   "execution_count": 11,
   "id": "06a51012",
   "metadata": {},
   "outputs": [],
   "source": [
    "(x_train,y_train),(x_test,y_test) =  keras.datasets.fashion_mnist.load_data()\n",
    "ss = StandardScaler()\n",
    "\n",
    "x_train_scaled =  ss.fit_transform(x_train.reshape( x_train.shape[0],-1 ))"
   ]
  },
  {
   "cell_type": "code",
   "execution_count": 55,
   "id": "8a574cc5",
   "metadata": {},
   "outputs": [],
   "source": [
    "x_train.shape, x_train_scaled.shape, y_train.shape\n",
    "x_train,x_test,y_train,y_test =  train_test_split(x_train_scaled,y_train,random_state=32)"
   ]
  },
  {
   "cell_type": "code",
   "execution_count": 56,
   "id": "2cabe1ab",
   "metadata": {},
   "outputs": [
    {
     "name": "stdout",
     "output_type": "stream",
     "text": [
      "Model: \"sequential_9\"\n",
      "_________________________________________________________________\n",
      " Layer (type)                Output Shape              Param #   \n",
      "=================================================================\n",
      " dense_16 (Dense)            (None, 100)               78500     \n",
      "                                                                 \n",
      " dense_17 (Dense)            (None, 10)                1010      \n",
      "                                                                 \n",
      "=================================================================\n",
      "Total params: 79,510\n",
      "Trainable params: 79,510\n",
      "Non-trainable params: 0\n",
      "_________________________________________________________________\n"
     ]
    }
   ],
   "source": [
    "model = keras.Sequential()\n",
    "# model.add(keras.layers.Flatten(input_shape=(28,28)))\n",
    "# model.add(keras.layers.Dense(100,activation='relu'))\n",
    "model.add(keras.layers.Dense(100,activation='relu',input_shape=(28*28,)))\n",
    "model.add(keras.layers.Dense(10,activation='softmax'))\n",
    "model.summary()\n",
    "          "
   ]
  },
  {
   "cell_type": "code",
   "execution_count": 57,
   "id": "6d521718",
   "metadata": {},
   "outputs": [
    {
     "name": "stdout",
     "output_type": "stream",
     "text": [
      "Epoch 1/10\n",
      "1407/1407 [==============================] - 3s 2ms/step - loss: 0.4828 - accuracy: 0.8304\n",
      "Epoch 2/10\n",
      "1407/1407 [==============================] - 2s 2ms/step - loss: 0.3723 - accuracy: 0.8727\n",
      "Epoch 3/10\n",
      "1407/1407 [==============================] - 2s 2ms/step - loss: 0.3382 - accuracy: 0.8840\n",
      "Epoch 4/10\n",
      "1407/1407 [==============================] - 2s 2ms/step - loss: 0.3125 - accuracy: 0.8949\n",
      "Epoch 5/10\n",
      "1407/1407 [==============================] - 2s 2ms/step - loss: 0.2943 - accuracy: 0.9009\n",
      "Epoch 6/10\n",
      "1407/1407 [==============================] - 2s 2ms/step - loss: 0.2779 - accuracy: 0.9066\n",
      "Epoch 7/10\n",
      "1407/1407 [==============================] - 2s 2ms/step - loss: 0.2705 - accuracy: 0.9121\n",
      "Epoch 8/10\n",
      "1407/1407 [==============================] - 2s 2ms/step - loss: 0.2570 - accuracy: 0.9175\n",
      "Epoch 9/10\n",
      "1407/1407 [==============================] - 2s 2ms/step - loss: 0.2469 - accuracy: 0.9205\n",
      "Epoch 10/10\n",
      "1407/1407 [==============================] - 2s 2ms/step - loss: 0.2445 - accuracy: 0.9237\n"
     ]
    }
   ],
   "source": [
    "model.compile(loss='sparse_categorical_crossentropy', metrics='accuracy')\n",
    "history =  model.fit(x_train,y_train,epochs=10)"
   ]
  },
  {
   "cell_type": "code",
   "execution_count": 58,
   "id": "be0fcec3",
   "metadata": {},
   "outputs": [
    {
     "data": {
      "text/plain": [
       "{'loss': [0.482814759016037,\n",
       "  0.3722544312477112,\n",
       "  0.3382323682308197,\n",
       "  0.3124649226665497,\n",
       "  0.29433324933052063,\n",
       "  0.27792420983314514,\n",
       "  0.2704891562461853,\n",
       "  0.25695517659187317,\n",
       "  0.24689574539661407,\n",
       "  0.2445141226053238],\n",
       " 'accuracy': [0.8303999900817871,\n",
       "  0.8727333545684814,\n",
       "  0.8839777708053589,\n",
       "  0.8949333429336548,\n",
       "  0.9008888602256775,\n",
       "  0.9066444635391235,\n",
       "  0.9121111035346985,\n",
       "  0.9175111055374146,\n",
       "  0.9205111265182495,\n",
       "  0.9236666560173035]}"
      ]
     },
     "execution_count": 58,
     "metadata": {},
     "output_type": "execute_result"
    }
   ],
   "source": [
    "history.history"
   ]
  },
  {
   "cell_type": "code",
   "execution_count": 59,
   "id": "9f1964c2",
   "metadata": {},
   "outputs": [],
   "source": [
    "import numpy as np"
   ]
  },
  {
   "cell_type": "code",
   "execution_count": 60,
   "id": "70545254",
   "metadata": {},
   "outputs": [],
   "source": [
    "ss = StandardScaler()\n",
    "hist_loss2d =  ss.fit_transform(np.array(history.history['loss']).reshape(-1,1))\n",
    "hist_accuracy2d =  ss.fit_transform(np.array(history.history['accuracy']).reshape(-1,1))"
   ]
  },
  {
   "cell_type": "code",
   "execution_count": 61,
   "id": "c16c131c",
   "metadata": {},
   "outputs": [
    {
     "data": {
      "image/png": "[encoded data removed]",
      "text/plain": [
       "<Figure size 432x288 with 1 Axes>"
      ]
     },
     "metadata": {
      "needs_background": "light"
     },
     "output_type": "display_data"
    }
   ],
   "source": [
    "import matplotlib.pyplot as plt\n",
    "plt.plot(hist_loss2d)\n",
    "plt.plot(hist_accuracy2d)\n",
    "plt.xlabel('epoch')\n",
    "plt.ylabel('loss')\n",
    "plt.legend(['loss','accuracy'])\n",
    "plt.show()"
   ]
  },
  {
   "cell_type": "code",
   "execution_count": 62,
   "id": "6d8fca03",
   "metadata": {},
   "outputs": [
    {
     "data": {
      "text/plain": [
       "(15000, 784)"
      ]
     },
     "execution_count": 62,
     "metadata": {},
     "output_type": "execute_result"
    }
   ],
   "source": [
    "x_test.shape"
   ]
  },
  {
   "cell_type": "code",
   "execution_count": 69,
   "id": "5e58a4bf",
   "metadata": {},
   "outputs": [
    {
     "name": "stdout",
     "output_type": "stream",
     "text": [
      "Epoch 1/5\n",
      "1407/1407 [==============================] - 3s 2ms/step - loss: 0.4821 - accuracy: 0.8322 - val_loss: 0.4174 - val_accuracy: 0.8569\n",
      "Epoch 2/5\n",
      "1407/1407 [==============================] - 3s 2ms/step - loss: 0.3692 - accuracy: 0.8737 - val_loss: 0.4172 - val_accuracy: 0.8555\n",
      "Epoch 3/5\n",
      "1407/1407 [==============================] - 3s 2ms/step - loss: 0.3336 - accuracy: 0.8864 - val_loss: 0.3840 - val_accuracy: 0.8756\n",
      "Epoch 4/5\n",
      "1407/1407 [==============================] - 3s 2ms/step - loss: 0.3085 - accuracy: 0.8958 - val_loss: 0.3843 - val_accuracy: 0.8805\n",
      "Epoch 5/5\n",
      "1407/1407 [==============================] - 3s 2ms/step - loss: 0.2909 - accuracy: 0.9022 - val_loss: 0.3861 - val_accuracy: 0.8843\n"
     ]
    }
   ],
   "source": [
    "# epoch = 3\n",
    "# 검증\n",
    "model = keras.Sequential()\n",
    "model.add(keras.layers.Dense(100,activation='relu',input_shape=(28*28,)))\n",
    "model.add(keras.layers.Dense(10,activation='softmax'))\n",
    "model.compile(loss='sparse_categorical_crossentropy', metrics='accuracy')\n",
    "history =  model.fit(x_train,y_train,epochs=5, validation_data=(x_test,y_test) )\n"
   ]
  },
  {
   "cell_type": "code",
   "execution_count": 70,
   "id": "b4127a91",
   "metadata": {},
   "outputs": [
    {
     "data": {
      "text/plain": [
       "dict_keys(['loss', 'accuracy', 'val_loss', 'val_accuracy'])"
      ]
     },
     "execution_count": 70,
     "metadata": {},
     "output_type": "execute_result"
    }
   ],
   "source": [
    "history.history.keys()"
   ]
  },
  {
   "cell_type": "code",
   "execution_count": 71,
   "id": "6904a34f",
   "metadata": {},
   "outputs": [
    {
     "data": {
      "text/plain": [
       "{'loss': [0.4821234345436096,\n",
       "  0.36918067932128906,\n",
       "  0.333599716424942,\n",
       "  0.3084612786769867,\n",
       "  0.29090821743011475],\n",
       " 'accuracy': [0.8322222232818604,\n",
       "  0.873711109161377,\n",
       "  0.88637775182724,\n",
       "  0.8958444595336914,\n",
       "  0.9022444486618042],\n",
       " 'val_loss': [0.4174441993236542,\n",
       "  0.4172493517398834,\n",
       "  0.38397282361984253,\n",
       "  0.38429000973701477,\n",
       "  0.3860553205013275],\n",
       " 'val_accuracy': [0.8568666577339172,\n",
       "  0.8554666638374329,\n",
       "  0.8755999803543091,\n",
       "  0.8805333375930786,\n",
       "  0.8842666745185852]}"
      ]
     },
     "execution_count": 71,
     "metadata": {},
     "output_type": "execute_result"
    }
   ],
   "source": [
    "history.history"
   ]
  },
  {
   "cell_type": "code",
   "execution_count": 72,
   "id": "8c8fd2a4",
   "metadata": {},
   "outputs": [
    {
     "data": {
      "image/png": "[encoded data removed]",
      "text/plain": [
       "<Figure size 432x288 with 1 Axes>"
      ]
     },
     "metadata": {
      "needs_background": "light"
     },
     "output_type": "display_data"
    }
   ],
   "source": [
    "plt.plot(history.history['loss'])\n",
    "plt.plot(history.history['val_loss'])\n",
    "plt.xlabel(\"epoch\")\n",
    "plt.ylabel(\"loss\")\n",
    "plt.legend(['loss','val_loss'])\n",
    "plt.show()"
   ]
  },
  {
   "cell_type": "code",
   "execution_count": 79,
   "id": "55ed3a01",
   "metadata": {},
   "outputs": [],
   "source": [
    "model = keras.Sequential()\n",
    "model.add(keras.layers.Dense(100,activation='relu',input_shape=(28*28,)))\n",
    "model.add(keras.layers.Dropout(0.4))\n",
    "model.add(keras.layers.Dense(10,activation='softmax'))\n",
    "# model.compile(loss='sparse_categorical_crossentropy', metrics='accuracy')\n",
    "# history =  model.fit(x_train,y_train,epochs=5, validation_data=(x_test,y_test) )"
   ]
  },
  {
   "cell_type": "code",
   "execution_count": 80,
   "id": "cc4ab44e",
   "metadata": {},
   "outputs": [
    {
     "name": "stdout",
     "output_type": "stream",
     "text": [
      "Model: \"sequential_13\"\n",
      "_________________________________________________________________\n",
      " Layer (type)                Output Shape              Param #   \n",
      "=================================================================\n",
      " dense_24 (Dense)            (None, 100)               78500     \n",
      "                                                                 \n",
      " dropout_1 (Dropout)         (None, 100)               0         \n",
      "                                                                 \n",
      " dense_25 (Dense)            (None, 10)                1010      \n",
      "                                                                 \n",
      "=================================================================\n",
      "Total params: 79,510\n",
      "Trainable params: 79,510\n",
      "Non-trainable params: 0\n",
      "_________________________________________________________________\n"
     ]
    }
   ],
   "source": [
    "model.summary()"
   ]
  },
  {
   "cell_type": "code",
   "execution_count": 81,
   "id": "a0af4589",
   "metadata": {},
   "outputs": [
    {
     "name": "stdout",
     "output_type": "stream",
     "text": [
      "Epoch 1/20\n",
      "1407/1407 [==============================] - 3s 2ms/step - loss: 0.5862 - accuracy: 0.8004 - val_loss: 0.3912 - val_accuracy: 0.8573\n",
      "Epoch 2/20\n",
      "1407/1407 [==============================] - 3s 2ms/step - loss: 0.4410 - accuracy: 0.8419 - val_loss: 0.3664 - val_accuracy: 0.8664\n",
      "Epoch 3/20\n",
      "1407/1407 [==============================] - 3s 2ms/step - loss: 0.4047 - accuracy: 0.8534 - val_loss: 0.3616 - val_accuracy: 0.8697\n",
      "Epoch 4/20\n",
      "1407/1407 [==============================] - 3s 2ms/step - loss: 0.3842 - accuracy: 0.8615 - val_loss: 0.3578 - val_accuracy: 0.8683\n",
      "Epoch 5/20\n",
      "1407/1407 [==============================] - 3s 2ms/step - loss: 0.3679 - accuracy: 0.8678 - val_loss: 0.3456 - val_accuracy: 0.8763\n",
      "Epoch 6/20\n",
      "1407/1407 [==============================] - 3s 2ms/step - loss: 0.3557 - accuracy: 0.8683 - val_loss: 0.3412 - val_accuracy: 0.8778\n",
      "Epoch 7/20\n",
      "1407/1407 [==============================] - 3s 2ms/step - loss: 0.3462 - accuracy: 0.8739 - val_loss: 0.3362 - val_accuracy: 0.8803\n",
      "Epoch 8/20\n",
      "1407/1407 [==============================] - 3s 2ms/step - loss: 0.3421 - accuracy: 0.8757 - val_loss: 0.3472 - val_accuracy: 0.8783\n",
      "Epoch 9/20\n",
      "1407/1407 [==============================] - 3s 2ms/step - loss: 0.3252 - accuracy: 0.8802 - val_loss: 0.3468 - val_accuracy: 0.8774\n",
      "Epoch 10/20\n",
      "1407/1407 [==============================] - 3s 2ms/step - loss: 0.3224 - accuracy: 0.8815 - val_loss: 0.3405 - val_accuracy: 0.8809\n",
      "Epoch 11/20\n",
      "1407/1407 [==============================] - 3s 2ms/step - loss: 0.3167 - accuracy: 0.8826 - val_loss: 0.3349 - val_accuracy: 0.8859\n",
      "Epoch 12/20\n",
      "1407/1407 [==============================] - 3s 2ms/step - loss: 0.3096 - accuracy: 0.8873 - val_loss: 0.3397 - val_accuracy: 0.8821\n",
      "Epoch 13/20\n",
      "1407/1407 [==============================] - 3s 2ms/step - loss: 0.3038 - accuracy: 0.8876 - val_loss: 0.3321 - val_accuracy: 0.8841\n",
      "Epoch 14/20\n",
      "1407/1407 [==============================] - 3s 2ms/step - loss: 0.2979 - accuracy: 0.8912 - val_loss: 0.3396 - val_accuracy: 0.8846\n",
      "Epoch 15/20\n",
      "1407/1407 [==============================] - 3s 2ms/step - loss: 0.2923 - accuracy: 0.8914 - val_loss: 0.3406 - val_accuracy: 0.8849\n",
      "Epoch 16/20\n",
      "1407/1407 [==============================] - 3s 2ms/step - loss: 0.2901 - accuracy: 0.8951 - val_loss: 0.3465 - val_accuracy: 0.8837\n",
      "Epoch 17/20\n",
      "1407/1407 [==============================] - 3s 2ms/step - loss: 0.2857 - accuracy: 0.8940 - val_loss: 0.3473 - val_accuracy: 0.8856\n",
      "Epoch 18/20\n",
      "1407/1407 [==============================] - 3s 2ms/step - loss: 0.2803 - accuracy: 0.8949 - val_loss: 0.3466 - val_accuracy: 0.8862\n",
      "Epoch 19/20\n",
      "1407/1407 [==============================] - 3s 2ms/step - loss: 0.2746 - accuracy: 0.8990 - val_loss: 0.3574 - val_accuracy: 0.8833\n",
      "Epoch 20/20\n",
      "1407/1407 [==============================] - 3s 2ms/step - loss: 0.2706 - accuracy: 0.8993 - val_loss: 0.3509 - val_accuracy: 0.8831\n"
     ]
    }
   ],
   "source": [
    "model.compile(optimizer='adam', loss='sparse_categorical_crossentropy', metrics='accuracy')\n",
    "history =  model.fit(x_train,y_train,epochs=20, validation_data=(x_test,y_test) )"
   ]
  },
  {
   "cell_type": "code",
   "execution_count": 82,
   "id": "895abd95",
   "metadata": {},
   "outputs": [
    {
     "data": {
      "image/png": "[encoded data removed]",
      "text/plain": [
       "<Figure size 432x288 with 1 Axes>"
      ]
     },
     "metadata": {
      "needs_background": "light"
     },
     "output_type": "display_data"
    }
   ],
   "source": [
    "plt.plot(history.history['loss'])\n",
    "plt.plot(history.history['val_loss'])\n",
    "plt.xlabel('epoch')\n",
    "plt.ylabel('loss')\n",
    "plt.legend(['train','val_loss'])\n",
    "plt.show()"
   ]
  },
  {
   "cell_type": "code",
   "execution_count": 83,
   "id": "011b455f",
   "metadata": {},
   "outputs": [],
   "source": [
    "# 모델 저장 복원\n",
    "model.save_weights('model-weights.h5')"
   ]
  },
  {
   "cell_type": "code",
   "execution_count": 84,
   "id": "09d56e0e",
   "metadata": {},
   "outputs": [],
   "source": [
    "model.save('model-whole.h5')"
   ]
  },
  {
   "cell_type": "code",
   "execution_count": 87,
   "id": "259325bc",
   "metadata": {},
   "outputs": [
    {
     "name": "stdout",
     "output_type": "stream",
     "text": [
      " E 드라이브의 볼륨: 새 볼륨\n",
      " 볼륨 일련 번호: 6045-BA7D\n",
      "\n",
      " E:\\4.numpy_workspace 디렉터리\n",
      "\n",
      "[.]                          [..]\n",
      "[.ipynb_checkpoints]         2022-08-09_넘파이.ipynb\n",
      "chromedriver.exe             CoffeBean.csv\n",
      "[datas]                      excel-comp-data.xlsx\n",
      "fruits_300.npy               hollys_store.csv\n",
      "model-weights.h5             model-whole.h5\n",
      "[source (1)]                 Untitled.ipynb\n",
      "Untitled1.ipynb              wine.csv\n",
      "[wins]                       데이터 시각화.ipynb\n",
      "동적 웹페이지 크롤링.ipynb   동적크롤링_완성.ipynb\n",
      "머신러닝I.ipynb              머신러닝II.ipynb\n",
      "머신러닝III.ipynb            머신러닝IV.ipynb\n",
      "머신러닝V.ipynb              머신러닝VI.ipynb\n",
      "머신러닝VII.ipynb            머신러닝VIII.ipynb\n",
      "선형회귀 기초.ipynb          인공지능VIIII.ipynb\n",
      "전처리.ipynb                 정적웹페이지 크롤링.ipynb\n",
      "정적크롤링-실습.ipynb        타이타닉 데이터 노트.xlsx\n",
      "통계분석.ipynb               판다스.ipynb\n",
      "판다스_20220810.ipynb        \n",
      "              31개 파일          22,756,094 바이트\n",
      "               6개 디렉터리  146,635,358,208 바이트 남음\n"
     ]
    }
   ],
   "source": [
    "!dir/w"
   ]
  },
  {
   "cell_type": "code",
   "execution_count": 99,
   "id": "b6c44478",
   "metadata": {},
   "outputs": [
    {
     "name": "stdout",
     "output_type": "stream",
     "text": [
      "469/469 [==============================] - 1s 1ms/step\n"
     ]
    },
    {
     "data": {
      "text/plain": [
       "array([[3.8532686e-08, 2.8850639e-07, 1.3820532e-10, ..., 2.5677866e-18,\n",
       "        2.0536027e-12, 8.4846824e-16],\n",
       "       [2.7218320e-14, 1.0000000e+00, 6.9225479e-15, ..., 1.2849551e-32,\n",
       "        4.5252244e-21, 2.9898583e-38],\n",
       "       [4.5379647e-34, 3.8540810e-28, 0.0000000e+00, ..., 1.1324491e-12,\n",
       "        2.7315782e-27, 9.9997616e-01],\n",
       "       ...,\n",
       "       [1.4606617e-06, 1.9946727e-13, 4.5797643e-01, ..., 1.5017790e-22,\n",
       "        7.0901346e-10, 1.6705963e-20],\n",
       "       [3.0043055e-03, 1.5257663e-11, 9.7451800e-01, ..., 2.4914706e-13,\n",
       "        3.3749088e-06, 2.4131977e-15],\n",
       "       [4.1682949e-08, 4.1028189e-19, 4.9563212e-08, ..., 1.7691537e-11,\n",
       "        9.9998271e-01, 6.2533045e-20]], dtype=float32)"
      ]
     },
     "execution_count": 99,
     "metadata": {},
     "output_type": "execute_result"
    }
   ],
   "source": [
    "result =  model.predict(x_test)\n",
    "result"
   ]
  },
  {
   "cell_type": "code",
   "execution_count": 106,
   "id": "5115fbd7",
   "metadata": {},
   "outputs": [
    {
     "data": {
      "text/plain": [
       "(3, 3)"
      ]
     },
     "execution_count": 106,
     "metadata": {},
     "output_type": "execute_result"
    }
   ],
   "source": [
    "np.argmax(result[0]), y_test[0]"
   ]
  },
  {
   "cell_type": "code",
   "execution_count": 109,
   "id": "9709daa0",
   "metadata": {},
   "outputs": [
    {
     "data": {
      "text/plain": [
       "(15000, 10)"
      ]
     },
     "execution_count": 109,
     "metadata": {},
     "output_type": "execute_result"
    }
   ],
   "source": [
    "result.shape"
   ]
  },
  {
   "cell_type": "code",
   "execution_count": 113,
   "id": "78078dba",
   "metadata": {},
   "outputs": [
    {
     "data": {
      "text/plain": [
       "((15000,), (15000,))"
      ]
     },
     "execution_count": 113,
     "metadata": {},
     "output_type": "execute_result"
    }
   ],
   "source": [
    "predict_result = np.argmax(result, axis=1)\n",
    "predict_result.shape, y_test.shape"
   ]
  },
  {
   "cell_type": "code",
   "execution_count": 115,
   "id": "ab414e5d",
   "metadata": {},
   "outputs": [
    {
     "data": {
      "text/plain": [
       "0.8830666666666667"
      ]
     },
     "execution_count": 115,
     "metadata": {},
     "output_type": "execute_result"
    }
   ],
   "source": [
    "np.mean(predict_result == y_test)"
   ]
  },
  {
   "cell_type": "code",
   "execution_count": 117,
   "id": "1589783f",
   "metadata": {},
   "outputs": [],
   "source": [
    "(_,_),(valx_test,valy_test ) =  keras.datasets.fashion_mnist.load_data()"
   ]
  },
  {
   "cell_type": "code",
   "execution_count": 123,
   "id": "eed0503a",
   "metadata": {},
   "outputs": [
    {
     "name": "stdout",
     "output_type": "stream",
     "text": [
      "313/313 [==============================] - 0s 1ms/step\n"
     ]
    }
   ],
   "source": [
    "predic_val = model.predict( valx_test.reshape(valx_test.shape[0],-1))"
   ]
  },
  {
   "cell_type": "code",
   "execution_count": 133,
   "id": "7c86d726",
   "metadata": {},
   "outputs": [
    {
     "data": {
      "text/plain": [
       "0.7899"
      ]
     },
     "execution_count": 133,
     "metadata": {},
     "output_type": "execute_result"
    }
   ],
   "source": [
    "np.mean( np.argmax(predic_val,axis=1) == valy_test)"
   ]
  },
  {
   "cell_type": "code",
   "execution_count": 136,
   "id": "dac9bfa0",
   "metadata": {},
   "outputs": [
    {
     "name": "stdout",
     "output_type": "stream",
     "text": [
      "313/313 [==============================] - 0s 1ms/step\n"
     ]
    },
    {
     "data": {
      "text/plain": [
       "0.8776"
      ]
     },
     "execution_count": 136,
     "metadata": {},
     "output_type": "execute_result"
    }
   ],
   "source": [
    "ss =StandardScaler()\n",
    "valx_test_scaled = ss.fit_transform(valx_test.reshape(valx_test.shape[0],-1))\n",
    "predic_val_scaled = model.predict( valx_test_scaled)\n",
    "np.mean( np.argmax(predic_val_scaled,axis=1) == valy_test)"
   ]
  },
  {
   "cell_type": "code",
   "execution_count": 163,
   "id": "4b4274fe",
   "metadata": {},
   "outputs": [
    {
     "name": "stdout",
     "output_type": "stream",
     "text": [
      "(60000, 28, 28) (60000,) (10000, 28, 28) (10000,)\n"
     ]
    },
    {
     "data": {
      "text/plain": [
       "((45000, 28, 28), (45000,), (15000, 28, 28), (15000,))"
      ]
     },
     "execution_count": 163,
     "metadata": {},
     "output_type": "execute_result"
    }
   ],
   "source": [
    "# 데이터 다시 생성\n",
    "from sklearn.model_selection import train_test_split\n",
    "(x_train,y_train),(x_test,y_test) =  keras.datasets.fashion_mnist.load_data()\n",
    "print(x_train.shape ,y_train.shape, x_test.shape,y_test.shape)\n",
    "x_train_s,x_test_s,y_train_s,y_test_s =  train_test_split(x_train,y_train,random_state=42)\n",
    "x_train_s.shape, y_train_s.shape, x_test_s.shape, y_test_s.shape\n",
    "# ss=StandardScaler()\n",
    "# x_train_scaled = ss.fit_transform(x_train_s)\n",
    "# x_text_scaled = ss.fit_transform(x_test_s)"
   ]
  },
  {
   "cell_type": "code",
   "execution_count": 161,
   "id": "e3ede868",
   "metadata": {},
   "outputs": [
    {
     "data": {
      "text/plain": [
       "((7, 10), (3, 10), (7,), (3,))"
      ]
     },
     "execution_count": 161,
     "metadata": {},
     "output_type": "execute_result"
    }
   ],
   "source": [
    "a = np.array(range(100)).reshape(10,-1)\n",
    "b = np.array(range(10)).reshape(-1,)\n",
    "a.shape, b.shape\n",
    "xtr,xte,ytr,yte =  train_test_split(a,b)\n",
    "xtr.shape,xte.shape,ytr.shape,yte.shape"
   ]
  },
  {
   "cell_type": "code",
   "execution_count": 164,
   "id": "20614d23",
   "metadata": {},
   "outputs": [
    {
     "data": {
      "text/plain": [
       "((45000, 784), (45000,))"
      ]
     },
     "execution_count": 164,
     "metadata": {},
     "output_type": "execute_result"
    }
   ],
   "source": [
    "x_train_scaled.shape, y_train_s.shape"
   ]
  },
  {
   "cell_type": "code",
   "execution_count": 166,
   "id": "43e58747",
   "metadata": {},
   "outputs": [
    {
     "name": "stdout",
     "output_type": "stream",
     "text": [
      "Epoch 1/30\n",
      "1407/1407 [==============================] - 4s 3ms/step - loss: 0.5933 - accuracy: 0.7957 - val_loss: 0.4015 - val_accuracy: 0.8576\n",
      "Epoch 2/30\n",
      "1407/1407 [==============================] - 4s 3ms/step - loss: 0.4387 - accuracy: 0.8420 - val_loss: 0.3759 - val_accuracy: 0.8654\n",
      "Epoch 3/30\n",
      "1407/1407 [==============================] - 4s 2ms/step - loss: 0.4020 - accuracy: 0.8552 - val_loss: 0.3699 - val_accuracy: 0.8685\n",
      "Epoch 4/30\n",
      "1407/1407 [==============================] - 3s 2ms/step - loss: 0.3866 - accuracy: 0.8609 - val_loss: 0.3713 - val_accuracy: 0.8674\n",
      "Epoch 5/30\n",
      "1407/1407 [==============================] - 3s 2ms/step - loss: 0.3661 - accuracy: 0.8668 - val_loss: 0.3438 - val_accuracy: 0.8789\n",
      "Epoch 6/30\n",
      "1407/1407 [==============================] - 3s 2ms/step - loss: 0.3553 - accuracy: 0.8704 - val_loss: 0.3570 - val_accuracy: 0.8738\n",
      "Epoch 7/30\n",
      "1407/1407 [==============================] - 3s 2ms/step - loss: 0.3469 - accuracy: 0.8720 - val_loss: 0.3335 - val_accuracy: 0.8819\n",
      "Epoch 8/30\n",
      "1407/1407 [==============================] - 3s 2ms/step - loss: 0.3386 - accuracy: 0.8771 - val_loss: 0.3543 - val_accuracy: 0.8717\n",
      "Epoch 9/30\n",
      "1407/1407 [==============================] - 3s 2ms/step - loss: 0.3316 - accuracy: 0.8789 - val_loss: 0.3503 - val_accuracy: 0.8766\n",
      "Epoch 10/30\n",
      "1407/1407 [==============================] - 3s 2ms/step - loss: 0.3223 - accuracy: 0.8834 - val_loss: 0.3414 - val_accuracy: 0.8825\n",
      "Epoch 11/30\n",
      "1407/1407 [==============================] - 3s 2ms/step - loss: 0.3130 - accuracy: 0.8842 - val_loss: 0.3468 - val_accuracy: 0.8795\n",
      "Epoch 12/30\n",
      "1407/1407 [==============================] - 3s 2ms/step - loss: 0.3090 - accuracy: 0.8869 - val_loss: 0.3392 - val_accuracy: 0.8863\n",
      "Epoch 13/30\n",
      "1407/1407 [==============================] - 3s 2ms/step - loss: 0.3019 - accuracy: 0.8880 - val_loss: 0.3538 - val_accuracy: 0.8820\n",
      "Epoch 14/30\n",
      "1407/1407 [==============================] - 3s 2ms/step - loss: 0.3032 - accuracy: 0.8887 - val_loss: 0.3437 - val_accuracy: 0.8837\n",
      "Epoch 15/30\n",
      "1407/1407 [==============================] - 3s 2ms/step - loss: 0.2934 - accuracy: 0.8911 - val_loss: 0.3519 - val_accuracy: 0.8841\n",
      "Epoch 16/30\n",
      "1407/1407 [==============================] - 3s 2ms/step - loss: 0.2939 - accuracy: 0.8898 - val_loss: 0.3568 - val_accuracy: 0.8815\n",
      "Epoch 17/30\n",
      "1407/1407 [==============================] - 3s 2ms/step - loss: 0.2869 - accuracy: 0.8940 - val_loss: 0.3540 - val_accuracy: 0.8829\n",
      "Epoch 18/30\n",
      "1407/1407 [==============================] - 3s 2ms/step - loss: 0.2797 - accuracy: 0.8948 - val_loss: 0.3479 - val_accuracy: 0.8873\n",
      "Epoch 19/30\n",
      "1407/1407 [==============================] - 3s 2ms/step - loss: 0.2785 - accuracy: 0.8984 - val_loss: 0.3556 - val_accuracy: 0.8837\n",
      "Epoch 20/30\n",
      "1407/1407 [==============================] - 3s 2ms/step - loss: 0.2724 - accuracy: 0.8973 - val_loss: 0.3519 - val_accuracy: 0.8886\n",
      "Epoch 21/30\n",
      "1407/1407 [==============================] - 3s 2ms/step - loss: 0.2735 - accuracy: 0.8994 - val_loss: 0.3736 - val_accuracy: 0.8832\n",
      "Epoch 22/30\n",
      "1407/1407 [==============================] - 3s 2ms/step - loss: 0.2680 - accuracy: 0.9008 - val_loss: 0.3548 - val_accuracy: 0.8889\n",
      "Epoch 23/30\n",
      "1407/1407 [==============================] - 3s 2ms/step - loss: 0.2680 - accuracy: 0.9012 - val_loss: 0.3744 - val_accuracy: 0.8849\n",
      "Epoch 24/30\n",
      "1407/1407 [==============================] - 3s 2ms/step - loss: 0.2641 - accuracy: 0.9022 - val_loss: 0.3701 - val_accuracy: 0.8866\n",
      "Epoch 25/30\n",
      "1407/1407 [==============================] - 3s 2ms/step - loss: 0.2620 - accuracy: 0.9034 - val_loss: 0.3657 - val_accuracy: 0.8867\n",
      "Epoch 26/30\n",
      "1407/1407 [==============================] - 3s 2ms/step - loss: 0.2599 - accuracy: 0.9035 - val_loss: 0.3659 - val_accuracy: 0.8880\n",
      "Epoch 27/30\n",
      "1407/1407 [==============================] - 3s 2ms/step - loss: 0.2534 - accuracy: 0.9056 - val_loss: 0.3703 - val_accuracy: 0.8901\n",
      "Epoch 28/30\n",
      "1407/1407 [==============================] - 3s 2ms/step - loss: 0.2546 - accuracy: 0.9046 - val_loss: 0.3766 - val_accuracy: 0.8832\n",
      "Epoch 29/30\n",
      "1407/1407 [==============================] - 3s 2ms/step - loss: 0.2492 - accuracy: 0.9084 - val_loss: 0.3687 - val_accuracy: 0.8898\n",
      "Epoch 30/30\n",
      "1407/1407 [==============================] - 3s 2ms/step - loss: 0.2482 - accuracy: 0.9084 - val_loss: 0.3781 - val_accuracy: 0.8839\n"
     ]
    },
    {
     "data": {
      "text/plain": [
       "<keras.callbacks.History at 0x1aba0b681f0>"
      ]
     },
     "execution_count": 166,
     "metadata": {},
     "output_type": "execute_result"
    }
   ],
   "source": [
    "# callback\n",
    "model = keras.Sequential()\n",
    "model.add(keras.layers.Dense(100,activation='relu',input_shape=(28*28,)))\n",
    "model.add(keras.layers.Dropout(0.4))\n",
    "model.add(keras.layers.Dense(10,activation='softmax'))\n",
    "model.compile(optimizer='adam', loss = 'sparse_categorical_crossentropy', metrics='accuracy')\n",
    "checkpoint =  keras.callbacks.ModelCheckpoint('best-model.h5',save_best_only=True)\n",
    "model.fit(x_train_scaled,y_train_s,epochs=30,validation_data=(x_text_scaled,y_test_s), callbacks=checkpoint)\n"
   ]
  },
  {
   "cell_type": "code",
   "execution_count": 168,
   "id": "968caf1f",
   "metadata": {},
   "outputs": [
    {
     "name": "stdout",
     "output_type": "stream",
     "text": [
      "313/313 [==============================] - 0s 1ms/step - loss: 0.4273 - accuracy: 0.8754\n"
     ]
    },
    {
     "data": {
      "text/plain": [
       "[0.42731621861457825, 0.8754000067710876]"
      ]
     },
     "execution_count": 168,
     "metadata": {},
     "output_type": "execute_result"
    }
   ],
   "source": [
    "tempx =  ss.fit_transform(x_test.reshape(x_test.shape[0],-1))\n",
    "model.evaluate(tempx,y_test)"
   ]
  },
  {
   "cell_type": "code",
   "execution_count": 173,
   "id": "6baf62b7",
   "metadata": {},
   "outputs": [
    {
     "data": {
      "text/plain": [
       "((10000, 784), (10000,))"
      ]
     },
     "execution_count": 173,
     "metadata": {},
     "output_type": "execute_result"
    }
   ],
   "source": [
    "tempx.shape, y_test.shape"
   ]
  },
  {
   "cell_type": "code",
   "execution_count": 172,
   "id": "1d3c1ee9",
   "metadata": {},
   "outputs": [
    {
     "name": "stdout",
     "output_type": "stream",
     "text": [
      "Model: \"sequential_16\"\n",
      "_________________________________________________________________\n",
      " Layer (type)                Output Shape              Param #   \n",
      "=================================================================\n",
      " dense_30 (Dense)            (None, 100)               78500     \n",
      "                                                                 \n",
      " dropout_4 (Dropout)         (None, 100)               0         \n",
      "                                                                 \n",
      " dense_31 (Dense)            (None, 10)                1010      \n",
      "                                                                 \n",
      "=================================================================\n",
      "Total params: 79,510\n",
      "Trainable params: 79,510\n",
      "Non-trainable params: 0\n",
      "_________________________________________________________________\n"
     ]
    }
   ],
   "source": [
    "best_model =  keras.models.load_model('best-model.h5')\n",
    "best_model.summary()"
   ]
  },
  {
   "cell_type": "code",
   "execution_count": 174,
   "id": "b4f4709e",
   "metadata": {},
   "outputs": [
    {
     "name": "stdout",
     "output_type": "stream",
     "text": [
      "313/313 [==============================] - 1s 1ms/step - loss: 0.3683 - accuracy: 0.8725\n"
     ]
    },
    {
     "data": {
      "text/plain": [
       "[0.368317574262619, 0.8725000023841858]"
      ]
     },
     "execution_count": 174,
     "metadata": {},
     "output_type": "execute_result"
    }
   ],
   "source": [
    "best_model.evaluate(tempx,y_test)"
   ]
  },
  {
   "cell_type": "code",
   "execution_count": 178,
   "id": "a62d656e",
   "metadata": {},
   "outputs": [
    {
     "name": "stdout",
     "output_type": "stream",
     "text": [
      "Epoch 1/100\n",
      "1407/1407 [==============================] - 4s 2ms/step - loss: 0.5905 - accuracy: 0.7993 - val_loss: 0.4048 - val_accuracy: 0.8591\n",
      "Epoch 2/100\n",
      "1407/1407 [==============================] - 3s 2ms/step - loss: 0.4393 - accuracy: 0.8419 - val_loss: 0.3832 - val_accuracy: 0.8633\n",
      "Epoch 3/100\n",
      "1407/1407 [==============================] - 3s 2ms/step - loss: 0.4044 - accuracy: 0.8534 - val_loss: 0.3752 - val_accuracy: 0.8648\n",
      "Epoch 4/100\n",
      "1407/1407 [==============================] - 3s 2ms/step - loss: 0.3843 - accuracy: 0.8600 - val_loss: 0.3645 - val_accuracy: 0.8678\n",
      "Epoch 5/100\n",
      "1407/1407 [==============================] - 3s 2ms/step - loss: 0.3662 - accuracy: 0.8661 - val_loss: 0.3480 - val_accuracy: 0.8793\n",
      "Epoch 6/100\n",
      "1407/1407 [==============================] - 3s 2ms/step - loss: 0.3576 - accuracy: 0.8685 - val_loss: 0.3549 - val_accuracy: 0.8743\n",
      "Epoch 7/100\n",
      "1407/1407 [==============================] - 3s 2ms/step - loss: 0.3460 - accuracy: 0.8736 - val_loss: 0.3417 - val_accuracy: 0.8812\n",
      "Epoch 8/100\n",
      "1407/1407 [==============================] - 3s 2ms/step - loss: 0.3370 - accuracy: 0.8757 - val_loss: 0.3529 - val_accuracy: 0.8765\n",
      "Epoch 9/100\n",
      "1407/1407 [==============================] - 3s 2ms/step - loss: 0.3294 - accuracy: 0.8772 - val_loss: 0.3518 - val_accuracy: 0.8780\n"
     ]
    }
   ],
   "source": [
    "# 조기종료...\n",
    "model = keras.Sequential()\n",
    "model.add(keras.layers.Dense(100,activation='relu',input_shape=(28*28,)))\n",
    "model.add(keras.layers.Dropout(0.4))\n",
    "model.add(keras.layers.Dense(10,activation='softmax'))\n",
    "model.compile(optimizer='adam', loss = 'sparse_categorical_crossentropy', metrics='accuracy')\n",
    "checkpoint =  keras.callbacks.ModelCheckpoint('best-model.h5',save_best_only=True)\n",
    "earlyStopping = keras.callbacks.EarlyStopping(patience=2,restore_best_weights=True)\n",
    "history =  model.fit(x_train_scaled,y_train_s,epochs=100,validation_data=(x_text_scaled,y_test_s)\n",
    "          , callbacks=[checkpoint,earlyStopping])"
   ]
  },
  {
   "cell_type": "code",
   "execution_count": 177,
   "id": "ce3e98e3",
   "metadata": {},
   "outputs": [
    {
     "data": {
      "text/plain": [
       "8"
      ]
     },
     "execution_count": 177,
     "metadata": {},
     "output_type": "execute_result"
    }
   ],
   "source": [
    "earlyStopping.stopped_epoch"
   ]
  },
  {
   "cell_type": "code",
   "execution_count": 179,
   "id": "fd18ba47",
   "metadata": {},
   "outputs": [
    {
     "data": {
      "image/png": "[encoded data removed]",
      "text/plain": [
       "<Figure size 432x288 with 1 Axes>"
      ]
     },
     "metadata": {
      "needs_background": "light"
     },
     "output_type": "display_data"
    }
   ],
   "source": [
    "plt.plot(history.history['loss'])\n",
    "plt.plot(history.history['val_loss'])\n",
    "plt.xlabel('epoch')\n",
    "plt.ylabel('loss')\n",
    "plt.legend(['loss','val_loss'])\n",
    "plt.show()"
   ]
  },
  {
   "cell_type": "code",
   "execution_count": 180,
   "id": "5ec62dba",
   "metadata": {},
   "outputs": [
    {
     "name": "stdout",
     "output_type": "stream",
     "text": [
      "313/313 [==============================] - 0s 1ms/step - loss: 0.3826 - accuracy: 0.8710\n"
     ]
    },
    {
     "data": {
      "text/plain": [
       "[0.3826054632663727, 0.8709999918937683]"
      ]
     },
     "execution_count": 180,
     "metadata": {},
     "output_type": "execute_result"
    }
   ],
   "source": [
    "model.evaluate(tempx,y_test)"
   ]
  },
  {
   "cell_type": "code",
   "execution_count": null,
   "id": "99ad86ec",
   "metadata": {},
   "outputs": [],
   "source": []
  },
  {
   "cell_type": "code",
   "execution_count": null,
   "id": "e4a9b7c7",
   "metadata": {},
   "outputs": [],
   "source": []
  },
  {
   "cell_type": "code",
   "execution_count": null,
   "id": "ae1618ff",
   "metadata": {},
   "outputs": [],
   "source": []
  },
  {
   "cell_type": "code",
   "execution_count": null,
   "id": "d2759ea8",
   "metadata": {},
   "outputs": [],
   "source": []
  }
 ],
 "metadata": {
  "kernelspec": {
   "display_name": "Python 3 (ipykernel)",
   "language": "python",
   "name": "python3"
  },
  "language_info": {
   "codemirror_mode": {
    "name": "ipython",
    "version": 3
   },
   "file_extension": ".py",
   "mimetype": "text/x-python",
   "name": "python",
   "nbconvert_exporter": "python",
   "pygments_lexer": "ipython3",
   "version": "3.9.12"
  }
 },
 "nbformat": 4,
 "nbformat_minor": 5
}
