{
 "cells": [
  {
   "cell_type": "code",
   "execution_count": 1,
   "id": "6b3a4f0c",
   "metadata": {},
   "outputs": [],
   "source": [
    "import os\n",
    "import pathlib\n",
    "import urllib\n",
    "import matplotlib.pyplot as plt\n",
    "import seaborn as sns\n",
    "import pandas as pd\n",
    "import numpy as np\n",
    "import tensorflow as tf\n",
    "from tensorflow.keras import layers\n",
    "from tensorflow.keras import models\n",
    "from IPython import display\n",
    "\n",
    "seed = 42\n",
    "tf.random.set_seed(seed)\n",
    "np.random.seed(seed)"
   ]
  },
  {
   "cell_type": "code",
   "execution_count": 2,
   "id": "0f2bcc15",
   "metadata": {},
   "outputs": [
    {
     "data": {
      "text/plain": [
       "'.\\\\data\\\\speech.zip'"
      ]
     },
     "execution_count": 2,
     "metadata": {},
     "output_type": "execute_result"
    }
   ],
   "source": [
    "tf.keras.utils.get_file(\n",
    "    'speech.zip',\n",
    "    origin='http://storage.googleapis.com/download.tensorflow.org/data/mini_speech_commands.zip',\n",
    "    extract=True,\n",
    "    cache_dir='.', cache_subdir='data'\n",
    ")"
   ]
  },
  {
   "cell_type": "code",
   "execution_count": 3,
   "id": "2221135c",
   "metadata": {},
   "outputs": [
    {
     "data": {
      "text/plain": [
       "'D:\\\\leeky_ai'"
      ]
     },
     "execution_count": 3,
     "metadata": {},
     "output_type": "execute_result"
    }
   ],
   "source": [
    "pwd"
   ]
  },
  {
   "cell_type": "code",
   "execution_count": 4,
   "id": "18e08f0c",
   "metadata": {},
   "outputs": [],
   "source": [
    "class_names = os.listdir('D:\\leeky_ai\\data\\mini_speech_commands')\n",
    "# class_names != 'README.md'\n",
    "class_names = [w for w in class_names if w != 'README.md']"
   ]
  },
  {
   "cell_type": "code",
   "execution_count": 5,
   "id": "5cddcc32",
   "metadata": {},
   "outputs": [
    {
     "data": {
      "text/plain": [
       "['down', 'go', 'left', 'no', 'right', 'stop', 'up', 'yes']"
      ]
     },
     "execution_count": 5,
     "metadata": {},
     "output_type": "execute_result"
    }
   ],
   "source": [
    "class_names"
   ]
  },
  {
   "cell_type": "code",
   "execution_count": 6,
   "id": "b6adca66",
   "metadata": {},
   "outputs": [],
   "source": [
    "import glob"
   ]
  },
  {
   "cell_type": "code",
   "execution_count": 7,
   "id": "469265d9",
   "metadata": {},
   "outputs": [],
   "source": [
    "# pathlib.Path('D:\\leeky_ai\\data\\mini_speech_commands')"
   ]
  },
  {
   "cell_type": "code",
   "execution_count": 8,
   "id": "d650ef20",
   "metadata": {},
   "outputs": [],
   "source": [
    "filenames = glob.glob('D:\\leeky_ai\\data\\mini_speech_commands'+'/*/*')"
   ]
  },
  {
   "cell_type": "code",
   "execution_count": 9,
   "id": "e672f467",
   "metadata": {},
   "outputs": [
    {
     "data": {
      "text/plain": [
       "['D:\\\\leeky_ai\\\\data\\\\mini_speech_commands\\\\yes\\\\fd395b74_nohash_1.wav',\n",
       " 'D:\\\\leeky_ai\\\\data\\\\mini_speech_commands\\\\yes\\\\fd395b74_nohash_2.wav',\n",
       " 'D:\\\\leeky_ai\\\\data\\\\mini_speech_commands\\\\yes\\\\fd395b74_nohash_3.wav',\n",
       " 'D:\\\\leeky_ai\\\\data\\\\mini_speech_commands\\\\yes\\\\fde2dee7_nohash_0.wav',\n",
       " 'D:\\\\leeky_ai\\\\data\\\\mini_speech_commands\\\\yes\\\\fde2dee7_nohash_1.wav',\n",
       " 'D:\\\\leeky_ai\\\\data\\\\mini_speech_commands\\\\yes\\\\fe1916ba_nohash_1.wav',\n",
       " 'D:\\\\leeky_ai\\\\data\\\\mini_speech_commands\\\\yes\\\\fe5c4a7a_nohash_0.wav',\n",
       " 'D:\\\\leeky_ai\\\\data\\\\mini_speech_commands\\\\yes\\\\ff21fb59_nohash_0.wav',\n",
       " 'D:\\\\leeky_ai\\\\data\\\\mini_speech_commands\\\\yes\\\\ffd2ba2f_nohash_0.wav',\n",
       " 'D:\\\\leeky_ai\\\\data\\\\mini_speech_commands\\\\yes\\\\ffd2ba2f_nohash_2.wav']"
      ]
     },
     "execution_count": 9,
     "metadata": {},
     "output_type": "execute_result"
    }
   ],
   "source": [
    "# 마지막 10\n",
    "filenames[-10:]"
   ]
  },
  {
   "cell_type": "code",
   "execution_count": 10,
   "id": "b9484a32",
   "metadata": {},
   "outputs": [
    {
     "data": {
      "text/plain": [
       "['D:\\\\leeky_ai\\\\data\\\\mini_speech_commands\\\\down\\\\004ae714_nohash_0.wav',\n",
       " 'D:\\\\leeky_ai\\\\data\\\\mini_speech_commands\\\\down\\\\00b01445_nohash_1.wav',\n",
       " 'D:\\\\leeky_ai\\\\data\\\\mini_speech_commands\\\\down\\\\00f0204f_nohash_0.wav',\n",
       " 'D:\\\\leeky_ai\\\\data\\\\mini_speech_commands\\\\down\\\\0132a06d_nohash_1.wav',\n",
       " 'D:\\\\leeky_ai\\\\data\\\\mini_speech_commands\\\\down\\\\0132a06d_nohash_4.wav',\n",
       " 'D:\\\\leeky_ai\\\\data\\\\mini_speech_commands\\\\down\\\\0137b3f4_nohash_2.wav',\n",
       " 'D:\\\\leeky_ai\\\\data\\\\mini_speech_commands\\\\down\\\\014f9f65_nohash_0.wav',\n",
       " 'D:\\\\leeky_ai\\\\data\\\\mini_speech_commands\\\\down\\\\016e2c6d_nohash_0.wav',\n",
       " 'D:\\\\leeky_ai\\\\data\\\\mini_speech_commands\\\\down\\\\016e2c6d_nohash_2.wav',\n",
       " 'D:\\\\leeky_ai\\\\data\\\\mini_speech_commands\\\\down\\\\01b4757a_nohash_0.wav']"
      ]
     },
     "execution_count": 10,
     "metadata": {},
     "output_type": "execute_result"
    }
   ],
   "source": [
    "# 앞에서 10\n",
    "filenames[:10]"
   ]
  },
  {
   "cell_type": "code",
   "execution_count": 11,
   "id": "26e8521e",
   "metadata": {},
   "outputs": [
    {
     "data": {
      "text/plain": [
       "<tf.Tensor: shape=(10,), dtype=string, numpy=\n",
       "array([b'D:\\\\leeky_ai\\\\data\\\\mini_speech_commands\\\\up\\\\b7a6f709_nohash_0.wav',\n",
       "       b'D:\\\\leeky_ai\\\\data\\\\mini_speech_commands\\\\go\\\\e7ea8b76_nohash_7.wav',\n",
       "       b'D:\\\\leeky_ai\\\\data\\\\mini_speech_commands\\\\up\\\\f33660af_nohash_1.wav',\n",
       "       b'D:\\\\leeky_ai\\\\data\\\\mini_speech_commands\\\\go\\\\726382d6_nohash_0.wav',\n",
       "       b'D:\\\\leeky_ai\\\\data\\\\mini_speech_commands\\\\down\\\\462e1919_nohash_0.wav',\n",
       "       b'D:\\\\leeky_ai\\\\data\\\\mini_speech_commands\\\\left\\\\24ed94ab_nohash_0.wav',\n",
       "       b'D:\\\\leeky_ai\\\\data\\\\mini_speech_commands\\\\up\\\\bbb2eb5b_nohash_1.wav',\n",
       "       b'D:\\\\leeky_ai\\\\data\\\\mini_speech_commands\\\\left\\\\8dd24423_nohash_1.wav',\n",
       "       b'D:\\\\leeky_ai\\\\data\\\\mini_speech_commands\\\\no\\\\b97c9f77_nohash_2.wav',\n",
       "       b'D:\\\\leeky_ai\\\\data\\\\mini_speech_commands\\\\yes\\\\2275edbb_nohash_0.wav'],\n",
       "      dtype=object)>"
      ]
     },
     "execution_count": 11,
     "metadata": {},
     "output_type": "execute_result"
    }
   ],
   "source": [
    "filenames =  tf.random.shuffle(filenames)\n",
    "filenames[:10]"
   ]
  },
  {
   "cell_type": "code",
   "execution_count": 12,
   "id": "713ef4ff",
   "metadata": {},
   "outputs": [
    {
     "name": "stdout",
     "output_type": "stream",
     "text": [
      "down's count =  1000\n",
      "go's count =  1000\n",
      "left's count =  1000\n",
      "no's count =  1000\n",
      "right's count =  1000\n",
      "stop's count =  1000\n",
      "up's count =  1000\n",
      "yes's count =  1000\n"
     ]
    }
   ],
   "source": [
    "dir_path = 'D:\\leeky_ai\\data\\mini_speech_commands'\n",
    "for dirname in class_names:\n",
    "    target = dir_path + f\"/{dirname}\"\n",
    "    print(f\"{dirname}'s count =  {len(os.listdir(target))}\" )"
   ]
  },
  {
   "cell_type": "code",
   "execution_count": 13,
   "id": "013b4212",
   "metadata": {},
   "outputs": [],
   "source": [
    "# 데이터 분할  8:1:1로 분할  훈련 검증 테스트\n",
    "split8 = int(len(filenames)*0.8)\n",
    "split1 = int((len(filenames)-split8)/2)\n",
    "train_files = filenames[: split8 ]\n",
    "val_files = filenames[split8: split8+split1]\n",
    "test_files = filenames[-split1: ]"
   ]
  },
  {
   "cell_type": "code",
   "execution_count": 14,
   "id": "5ea61e1f",
   "metadata": {},
   "outputs": [
    {
     "data": {
      "text/plain": [
       "(6400, 800, 800, 8000)"
      ]
     },
     "execution_count": 14,
     "metadata": {},
     "output_type": "execute_result"
    }
   ],
   "source": [
    "len(train_files),len(val_files),len(test_files), len(filenames)"
   ]
  },
  {
   "cell_type": "code",
   "execution_count": 15,
   "id": "a5a4f483",
   "metadata": {},
   "outputs": [],
   "source": [
    "# 오디오 파일을 수치 데이터로 변경하기\n",
    "# 오디오 초당 셈플링 --> 시계열 데이터 -- LSTM\n",
    "file = tf.io.read_file('D:/leeky_ai/data/mini_speech_commands/down/00b01445_nohash_1.wav')\n",
    "audio, sample_rate = tf.audio.decode_wav(contents=file)                "
   ]
  },
  {
   "cell_type": "code",
   "execution_count": 16,
   "id": "33e1504d",
   "metadata": {},
   "outputs": [
    {
     "data": {
      "text/plain": [
       "TensorShape([16000, 1])"
      ]
     },
     "execution_count": 16,
     "metadata": {},
     "output_type": "execute_result"
    }
   ],
   "source": [
    "audio.shape"
   ]
  },
  {
   "cell_type": "code",
   "execution_count": 17,
   "id": "437282a8",
   "metadata": {},
   "outputs": [
    {
     "data": {
      "text/plain": [
       "TensorShape([16000])"
      ]
     },
     "execution_count": 17,
     "metadata": {},
     "output_type": "execute_result"
    }
   ],
   "source": [
    "tf.squeeze(audio).shape"
   ]
  },
  {
   "cell_type": "code",
   "execution_count": 18,
   "id": "22461581",
   "metadata": {},
   "outputs": [],
   "source": [
    "# 디렉토리명을 레이블정보로 취득"
   ]
  },
  {
   "cell_type": "code",
   "execution_count": 24,
   "id": "8b192e74",
   "metadata": {},
   "outputs": [],
   "source": [
    "# raw데이터인 WAV 오디오 파일을 수치데이터로 전처리하는 함수\n",
    "def decode_audio(binary):\n",
    "    audio, sample_rate = tf.audio.decode_wav(contents=binary)  \n",
    "    return tf.squeeze(audio, axis=-1)"
   ]
  },
  {
   "cell_type": "code",
   "execution_count": 25,
   "id": "490d6ff8",
   "metadata": {},
   "outputs": [],
   "source": [
    "def get_label(file_path):\n",
    "    parts =  tf.strings.split(input=file_path, sep=os.path.sep)\n",
    "    return parts[-2]"
   ]
  },
  {
   "cell_type": "code",
   "execution_count": 49,
   "id": "344aaea7",
   "metadata": {},
   "outputs": [],
   "source": [
    "a = tf.strings.split(input='D:\\\\leeky_ai\\\\data\\\\mini_speech_commands\\\\down\\\\00b01445_nohash_1.wav', sep=os.path.sep)"
   ]
  },
  {
   "cell_type": "code",
   "execution_count": 51,
   "id": "d713a309",
   "metadata": {},
   "outputs": [
    {
     "data": {
      "text/plain": [
       "<tf.Tensor: shape=(), dtype=string, numpy=b'down'>"
      ]
     },
     "execution_count": 51,
     "metadata": {},
     "output_type": "execute_result"
    }
   ],
   "source": [
    "a[-2]"
   ]
  },
  {
   "cell_type": "code",
   "execution_count": 64,
   "id": "a6e8b4af",
   "metadata": {},
   "outputs": [],
   "source": [
    "def get_waveform_and_label(file_path):\n",
    "    label = get_label(file_path)\n",
    "    audio_binary =  tf.io.read_file(file_path)\n",
    "    waveform = decode_audio(audio_binary)\n",
    "    return waveform, label"
   ]
  },
  {
   "cell_type": "code",
   "execution_count": 72,
   "id": "dbe70af7",
   "metadata": {},
   "outputs": [],
   "source": [
    "# get_waveform_and_label 을 이용해서 훈련세트를 만든다\n",
    "files_ds =  tf.data.Dataset.from_tensor_slices(train_files)\n",
    "waveform_ds =  files_ds.map(\n",
    "    map_func=get_waveform_and_label,\n",
    "    num_parallel_calls=tf.data.AUTOTUNE    \n",
    ")"
   ]
  },
  {
   "cell_type": "code",
   "execution_count": 86,
   "id": "ab8601a7",
   "metadata": {},
   "outputs": [
    {
     "data": {
      "image/png": "[encoded data removed]",
      "text/plain": [
       "<Figure size 720x720 with 10 Axes>"
      ]
     },
     "metadata": {
      "needs_background": "light"
     },
     "output_type": "display_data"
    }
   ],
   "source": [
    "# 오디오 파형 시각화\n",
    "rows,cols = 2,5\n",
    "n = rows*cols\n",
    "fig, ax = plt.subplots(rows,cols,figsize=(10,10), constrained_layout=True)\n",
    "for i, (audio,label) in enumerate(waveform_ds.take(n)):\n",
    "    ax[i//cols, i%cols].plot(audio.numpy())\n",
    "    ax[i//cols, i%cols].set_yticks(np.arange(-1.2,1.2,0.2))\n",
    "    label = label.numpy().decode('utf-8')\n",
    "    ax[i//cols, i%cols].set_title(label)\n",
    "plt.show()    "
   ]
  },
  {
   "cell_type": "code",
   "execution_count": 87,
   "id": "67116cf7",
   "metadata": {},
   "outputs": [],
   "source": [
    "# 파형을 스펙트럼을 변경\n",
    "def get_spectrogram(waveform) :\n",
    "#     16,000 sample  16kHz 보다 적은 오디오 데이터는 zero-padding을 적용\n",
    "# 시간 영역신호끝에 0을 추가하여 길이를 늘리는작업\n",
    "    input_len = 16000\n",
    "    waveform =  waveform[:input_len]\n",
    "    zero_padding = tf.zeros( [input_len] - tf.shape(waveform), dtype=tf.float32)\n",
    "    waveform =  tf.cast(waveform,dtype=tf.float32)\n",
    "    equal_length = tf.concat([waveform,zero_padding],0)\n",
    "    # waveform형태의 데이터를 스펙트럼 형태로 변환\n",
    "    spectrogram = tf.signal.stft(equal_length,frame_length=255,frame_step=128)\n",
    "    spectrogram = tf.abs(spectrogram)\n",
    "    spectrogram = spectrogram[...,tf.newaxis]\n",
    "    return spectrogram"
   ]
  },
  {
   "cell_type": "code",
   "execution_count": null,
   "id": "d9ba4354",
   "metadata": {},
   "outputs": [],
   "source": []
  },
  {
   "cell_type": "code",
   "execution_count": null,
   "id": "3679be15",
   "metadata": {},
   "outputs": [],
   "source": []
  },
  {
   "cell_type": "code",
   "execution_count": null,
   "id": "9fe87947",
   "metadata": {},
   "outputs": [],
   "source": []
  }
 ],
 "metadata": {
  "kernelspec": {
   "display_name": "Python 3 (ipykernel)",
   "language": "python",
   "name": "python3"
  },
  "language_info": {
   "codemirror_mode": {
    "name": "ipython",
    "version": 3
   },
   "file_extension": ".py",
   "mimetype": "text/x-python",
   "name": "python",
   "nbconvert_exporter": "python",
   "pygments_lexer": "ipython3",
   "version": "3.9.12"
  }
 },
 "nbformat": 4,
 "nbformat_minor": 5
}
