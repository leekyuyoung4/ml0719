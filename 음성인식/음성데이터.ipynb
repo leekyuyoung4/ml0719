{
 "cells": [
  {
   "cell_type": "code",
   "execution_count": 1,
   "id": "6b3a4f0c",
   "metadata": {},
   "outputs": [],
   "source": [
    "import os\n",
    "import pathlib\n",
    "import urllib\n",
    "import matplotlib.pyplot as plt\n",
    "import seaborn as sns\n",
    "import pandas as pd\n",
    "import numpy as np\n",
    "import tensorflow as tf\n",
    "from tensorflow.keras import layers\n",
    "from tensorflow.keras import models\n",
    "from IPython import display\n",
    "\n",
    "seed = 42\n",
    "tf.random.set_seed(seed)\n",
    "np.random.seed(seed)"
   ]
  },
  {
   "cell_type": "code",
   "execution_count": 2,
   "id": "0f2bcc15",
   "metadata": {},
   "outputs": [
    {
     "data": {
      "text/plain": [
       "'.\\\\data\\\\speech.zip'"
      ]
     },
     "execution_count": 2,
     "metadata": {},
     "output_type": "execute_result"
    }
   ],
   "source": [
    "tf.keras.utils.get_file(\n",
    "    'speech.zip',\n",
    "    origin='http://storage.googleapis.com/download.tensorflow.org/data/mini_speech_commands.zip',\n",
    "    extract=True,\n",
    "    cache_dir='.', cache_subdir='data'\n",
    ")"
   ]
  },
  {
   "cell_type": "code",
   "execution_count": 3,
   "id": "2221135c",
   "metadata": {},
   "outputs": [
    {
     "data": {
      "text/plain": [
       "'D:\\\\leeky_ai'"
      ]
     },
     "execution_count": 3,
     "metadata": {},
     "output_type": "execute_result"
    }
   ],
   "source": [
    "pwd"
   ]
  },
  {
   "cell_type": "code",
   "execution_count": 4,
   "id": "18e08f0c",
   "metadata": {},
   "outputs": [],
   "source": [
    "class_names = os.listdir('D:\\leeky_ai\\data\\mini_speech_commands')\n",
    "# class_names != 'README.md'\n",
    "class_names = [w for w in class_names if w != 'README.md']"
   ]
  },
  {
   "cell_type": "code",
   "execution_count": 5,
   "id": "5cddcc32",
   "metadata": {},
   "outputs": [
    {
     "data": {
      "text/plain": [
       "['down', 'go', 'left', 'no', 'right', 'stop', 'up', 'yes']"
      ]
     },
     "execution_count": 5,
     "metadata": {},
     "output_type": "execute_result"
    }
   ],
   "source": [
    "class_names"
   ]
  },
  {
   "cell_type": "code",
   "execution_count": 6,
   "id": "b6adca66",
   "metadata": {},
   "outputs": [],
   "source": [
    "import glob"
   ]
  },
  {
   "cell_type": "code",
   "execution_count": 19,
   "id": "469265d9",
   "metadata": {},
   "outputs": [
    {
     "data": {
      "text/plain": [
       "WindowsPath('D:/leeky_ai/data/mini_speech_commands')"
      ]
     },
     "execution_count": 19,
     "metadata": {},
     "output_type": "execute_result"
    }
   ],
   "source": [
    "# pathlib.Path('D:\\leeky_ai\\data\\mini_speech_commands')"
   ]
  },
  {
   "cell_type": "code",
   "execution_count": 7,
   "id": "d650ef20",
   "metadata": {},
   "outputs": [],
   "source": [
    "filenames = glob.glob('D:\\leeky_ai\\data\\mini_speech_commands'+'/*/*')"
   ]
  },
  {
   "cell_type": "code",
   "execution_count": 8,
   "id": "e672f467",
   "metadata": {},
   "outputs": [
    {
     "data": {
      "text/plain": [
       "['D:\\\\leeky_ai\\\\data\\\\mini_speech_commands\\\\yes\\\\fd395b74_nohash_1.wav',\n",
       " 'D:\\\\leeky_ai\\\\data\\\\mini_speech_commands\\\\yes\\\\fd395b74_nohash_2.wav',\n",
       " 'D:\\\\leeky_ai\\\\data\\\\mini_speech_commands\\\\yes\\\\fd395b74_nohash_3.wav',\n",
       " 'D:\\\\leeky_ai\\\\data\\\\mini_speech_commands\\\\yes\\\\fde2dee7_nohash_0.wav',\n",
       " 'D:\\\\leeky_ai\\\\data\\\\mini_speech_commands\\\\yes\\\\fde2dee7_nohash_1.wav',\n",
       " 'D:\\\\leeky_ai\\\\data\\\\mini_speech_commands\\\\yes\\\\fe1916ba_nohash_1.wav',\n",
       " 'D:\\\\leeky_ai\\\\data\\\\mini_speech_commands\\\\yes\\\\fe5c4a7a_nohash_0.wav',\n",
       " 'D:\\\\leeky_ai\\\\data\\\\mini_speech_commands\\\\yes\\\\ff21fb59_nohash_0.wav',\n",
       " 'D:\\\\leeky_ai\\\\data\\\\mini_speech_commands\\\\yes\\\\ffd2ba2f_nohash_0.wav',\n",
       " 'D:\\\\leeky_ai\\\\data\\\\mini_speech_commands\\\\yes\\\\ffd2ba2f_nohash_2.wav']"
      ]
     },
     "execution_count": 8,
     "metadata": {},
     "output_type": "execute_result"
    }
   ],
   "source": [
    "# 마지막 10\n",
    "filenames[-10:]"
   ]
  },
  {
   "cell_type": "code",
   "execution_count": 10,
   "id": "b9484a32",
   "metadata": {},
   "outputs": [
    {
     "data": {
      "text/plain": [
       "['D:\\\\leeky_ai\\\\data\\\\mini_speech_commands\\\\down\\\\004ae714_nohash_0.wav',\n",
       " 'D:\\\\leeky_ai\\\\data\\\\mini_speech_commands\\\\down\\\\00b01445_nohash_1.wav',\n",
       " 'D:\\\\leeky_ai\\\\data\\\\mini_speech_commands\\\\down\\\\00f0204f_nohash_0.wav',\n",
       " 'D:\\\\leeky_ai\\\\data\\\\mini_speech_commands\\\\down\\\\0132a06d_nohash_1.wav',\n",
       " 'D:\\\\leeky_ai\\\\data\\\\mini_speech_commands\\\\down\\\\0132a06d_nohash_4.wav',\n",
       " 'D:\\\\leeky_ai\\\\data\\\\mini_speech_commands\\\\down\\\\0137b3f4_nohash_2.wav',\n",
       " 'D:\\\\leeky_ai\\\\data\\\\mini_speech_commands\\\\down\\\\014f9f65_nohash_0.wav',\n",
       " 'D:\\\\leeky_ai\\\\data\\\\mini_speech_commands\\\\down\\\\016e2c6d_nohash_0.wav',\n",
       " 'D:\\\\leeky_ai\\\\data\\\\mini_speech_commands\\\\down\\\\016e2c6d_nohash_2.wav',\n",
       " 'D:\\\\leeky_ai\\\\data\\\\mini_speech_commands\\\\down\\\\01b4757a_nohash_0.wav']"
      ]
     },
     "execution_count": 10,
     "metadata": {},
     "output_type": "execute_result"
    }
   ],
   "source": [
    "# 앞에서 10\n",
    "filenames[:10]"
   ]
  },
  {
   "cell_type": "code",
   "execution_count": 12,
   "id": "26e8521e",
   "metadata": {},
   "outputs": [
    {
     "data": {
      "text/plain": [
       "<tf.Tensor: shape=(10,), dtype=string, numpy=\n",
       "array([b'D:\\\\leeky_ai\\\\data\\\\mini_speech_commands\\\\up\\\\b7a6f709_nohash_0.wav',\n",
       "       b'D:\\\\leeky_ai\\\\data\\\\mini_speech_commands\\\\go\\\\e7ea8b76_nohash_7.wav',\n",
       "       b'D:\\\\leeky_ai\\\\data\\\\mini_speech_commands\\\\up\\\\f33660af_nohash_1.wav',\n",
       "       b'D:\\\\leeky_ai\\\\data\\\\mini_speech_commands\\\\go\\\\726382d6_nohash_0.wav',\n",
       "       b'D:\\\\leeky_ai\\\\data\\\\mini_speech_commands\\\\down\\\\462e1919_nohash_0.wav',\n",
       "       b'D:\\\\leeky_ai\\\\data\\\\mini_speech_commands\\\\left\\\\24ed94ab_nohash_0.wav',\n",
       "       b'D:\\\\leeky_ai\\\\data\\\\mini_speech_commands\\\\up\\\\bbb2eb5b_nohash_1.wav',\n",
       "       b'D:\\\\leeky_ai\\\\data\\\\mini_speech_commands\\\\left\\\\8dd24423_nohash_1.wav',\n",
       "       b'D:\\\\leeky_ai\\\\data\\\\mini_speech_commands\\\\no\\\\b97c9f77_nohash_2.wav',\n",
       "       b'D:\\\\leeky_ai\\\\data\\\\mini_speech_commands\\\\yes\\\\2275edbb_nohash_0.wav'],\n",
       "      dtype=object)>"
      ]
     },
     "execution_count": 12,
     "metadata": {},
     "output_type": "execute_result"
    }
   ],
   "source": [
    "filenames =  tf.random.shuffle(filenames)\n",
    "filenames[:10]"
   ]
  },
  {
   "cell_type": "code",
   "execution_count": 15,
   "id": "713ef4ff",
   "metadata": {},
   "outputs": [
    {
     "name": "stdout",
     "output_type": "stream",
     "text": [
      "down's count =  1000\n",
      "go's count =  1000\n",
      "left's count =  1000\n",
      "no's count =  1000\n",
      "right's count =  1000\n",
      "stop's count =  1000\n",
      "up's count =  1000\n",
      "yes's count =  1000\n"
     ]
    }
   ],
   "source": [
    "dir_path = 'D:\\leeky_ai\\data\\mini_speech_commands'\n",
    "for dirname in class_names:\n",
    "    target = dir_path + f\"/{dirname}\"\n",
    "    print(f\"{dirname}'s count =  {len(os.listdir(target))}\" )"
   ]
  },
  {
   "cell_type": "code",
   "execution_count": 29,
   "id": "013b4212",
   "metadata": {},
   "outputs": [],
   "source": [
    "# 데이터 분할  8:1:1로 분할  훈련 검증 테스트\n",
    "split8 = int(len(filenames)*0.8)\n",
    "split1 = int((len(filenames)-split8)/2)\n",
    "train_files = filenames[: split8 ]\n",
    "val_files = filenames[split8: split8+split1]\n",
    "test_files = filenames[-split1: ]"
   ]
  },
  {
   "cell_type": "code",
   "execution_count": 31,
   "id": "5ea61e1f",
   "metadata": {},
   "outputs": [
    {
     "data": {
      "text/plain": [
       "(6400, 800, 800, 8000)"
      ]
     },
     "execution_count": 31,
     "metadata": {},
     "output_type": "execute_result"
    }
   ],
   "source": [
    "len(train_files),len(val_files),len(test_files), len(filenames)"
   ]
  },
  {
   "cell_type": "code",
   "execution_count": 34,
   "id": "a5a4f483",
   "metadata": {},
   "outputs": [],
   "source": [
    "# 오디오 파일을 수치 데이터로 변경하기\n",
    "# 오디오 초당 셈플링 --> 시계열 데이터 -- LSTM\n",
    "file = tf.io.read_file('D:/leeky_ai/data/mini_speech_commands/down/00b01445_nohash_1.wav')\n",
    "audio, sample_rate = tf.audio.decode_wav(contents=file)                "
   ]
  },
  {
   "cell_type": "code",
   "execution_count": 44,
   "id": "33e1504d",
   "metadata": {},
   "outputs": [
    {
     "data": {
      "text/plain": [
       "TensorShape([16000, 1])"
      ]
     },
     "execution_count": 44,
     "metadata": {},
     "output_type": "execute_result"
    }
   ],
   "source": [
    "audio.shape"
   ]
  },
  {
   "cell_type": "code",
   "execution_count": 45,
   "id": "437282a8",
   "metadata": {},
   "outputs": [
    {
     "data": {
      "text/plain": [
       "TensorShape([16000])"
      ]
     },
     "execution_count": 45,
     "metadata": {},
     "output_type": "execute_result"
    }
   ],
   "source": [
    "tf.squeeze(audio).shape"
   ]
  },
  {
   "cell_type": "code",
   "execution_count": 46,
   "id": "22461581",
   "metadata": {},
   "outputs": [],
   "source": [
    "# 디렉토리명을 레이블정보로 취득"
   ]
  },
  {
   "cell_type": "code",
   "execution_count": null,
   "id": "8b192e74",
   "metadata": {},
   "outputs": [],
   "source": []
  },
  {
   "cell_type": "code",
   "execution_count": null,
   "id": "490d6ff8",
   "metadata": {},
   "outputs": [],
   "source": []
  },
  {
   "cell_type": "code",
   "execution_count": null,
   "id": "344aaea7",
   "metadata": {},
   "outputs": [],
   "source": []
  },
  {
   "cell_type": "code",
   "execution_count": null,
   "id": "d713a309",
   "metadata": {},
   "outputs": [],
   "source": []
  }
 ],
 "metadata": {
  "kernelspec": {
   "display_name": "Python 3 (ipykernel)",
   "language": "python",
   "name": "python3"
  },
  "language_info": {
   "codemirror_mode": {
    "name": "ipython",
    "version": 3
   },
   "file_extension": ".py",
   "mimetype": "text/x-python",
   "name": "python",
   "nbconvert_exporter": "python",
   "pygments_lexer": "ipython3",
   "version": "3.9.12"
  }
 },
 "nbformat": 4,
 "nbformat_minor": 5
}
