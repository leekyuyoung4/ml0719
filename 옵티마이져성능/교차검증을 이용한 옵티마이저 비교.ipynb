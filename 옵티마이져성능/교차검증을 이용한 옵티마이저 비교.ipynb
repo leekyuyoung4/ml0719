{
 "cells": [
  {
   "cell_type": "code",
   "execution_count": 8,
   "id": "bcb79fb5",
   "metadata": {},
   "outputs": [],
   "source": [
    "import numpy as np\n",
    "import tensorflow as tf\n",
    "import pandas as pd\n",
    "from tensorflow.keras.datasets import fashion_mnist\n",
    "from tensorflow.keras.models import Sequential\n",
    "from tensorflow.keras.layers import Dense\n",
    "from tensorflow.keras.optimizers import SGD, Adam,Adagrad,RMSprop\n",
    "from sklearn.model_selection import KFold\n",
    "from sklearn.model_selection import cross_validate"
   ]
  },
  {
   "cell_type": "code",
   "execution_count": 4,
   "id": "c4004849",
   "metadata": {},
   "outputs": [],
   "source": [
    "# load dataset\n",
    "(x_train,y_train),(x_test,y_test)  = fashion_mnist.load_data()\n",
    "x_train = x_train.reshape(-1,28*28).astype(np.float32)/255.0\n",
    "x_test =  x_test.reshape(-1,28*28).astype(np.float32)/255.0\n",
    "y_train = tf.keras.utils.to_categorical(y_train)\n",
    "y_test = tf.keras.utils.to_categorical(y_test)"
   ]
  },
  {
   "cell_type": "code",
   "execution_count": 26,
   "id": "2938bd75",
   "metadata": {},
   "outputs": [],
   "source": [
    "n_input = 28*28\n",
    "n_hidden1 = 1024\n",
    "n_hidden2 = 512\n",
    "n_hidden3 = 512\n",
    "n_hidden4 = 512\n",
    "n_output = 10\n",
    "batch_size = 256\n",
    "n_epoch=2\n",
    "k=2"
   ]
  },
  {
   "cell_type": "code",
   "execution_count": 27,
   "id": "43b5cd48",
   "metadata": {},
   "outputs": [],
   "source": [
    "def buildModel():\n",
    "    model = Sequential()\n",
    "    model.add(Dense(units=n_hidden1,activation='relu',input_shape=(n_input,)))\n",
    "    model.add(Dense(units=n_hidden2,activation='relu'))\n",
    "    model.add(Dense(units=n_hidden3,activation='relu'))\n",
    "    model.add(Dense(units=n_hidden4,activation='relu'))\n",
    "    model.add(Dense(units=n_output,activation='softmax'))\n",
    "    return model"
   ]
  },
  {
   "cell_type": "code",
   "execution_count": 28,
   "id": "8f688149",
   "metadata": {},
   "outputs": [
    {
     "data": {
      "text/plain": [
       "[(array([10, 11, 12, 13, 14, 15, 16, 17, 18, 19]),\n",
       "  array([0, 1, 2, 3, 4, 5, 6, 7, 8, 9])),\n",
       " (array([0, 1, 2, 3, 4, 5, 6, 7, 8, 9]),\n",
       "  array([10, 11, 12, 13, 14, 15, 16, 17, 18, 19]))]"
      ]
     },
     "execution_count": 28,
     "metadata": {},
     "output_type": "execute_result"
    }
   ],
   "source": [
    "temp = pd.DataFrame({'data' : range(10,30)})\n",
    "list(KFold(k).split(temp))"
   ]
  },
  {
   "cell_type": "code",
   "execution_count": 14,
   "id": "eedd3e2a",
   "metadata": {},
   "outputs": [],
   "source": [
    "# cross_validate(모델, x,y, scoring='accuray', cv=5)"
   ]
  },
  {
   "cell_type": "code",
   "execution_count": 31,
   "id": "5c869cf0",
   "metadata": {},
   "outputs": [],
   "source": [
    "def cross_val(opt):\n",
    "    accuracy = []\n",
    "    for train_index, val_index in KFold(k).split(x_train):\n",
    "        xtrain, xval = x_train[train_index], x_train[val_index]\n",
    "        ytrain, yval = y_train[train_index], y_train[val_index] \n",
    "        model = buildModel()\n",
    "        model.compile(loss = tf.keras.losses.categorical_crossentropy,optimizer=opt,metrics=['accuracy'])\n",
    "        model.fit(xtrain,ytrain,batch_size=batch_size,epochs=n_epoch,verbose=0)\n",
    "        accuracy.append(model.evaluate(xval,yval))\n",
    "    return accuracy"
   ]
  },
  {
   "cell_type": "code",
   "execution_count": 32,
   "id": "ef7e160c",
   "metadata": {},
   "outputs": [
    {
     "name": "stdout",
     "output_type": "stream",
     "text": [
      "938/938 [==============================] - 6s 6ms/step - loss: 0.8585 - accuracy: 0.7063\n",
      "938/938 [==============================] - 5s 5ms/step - loss: 0.8455 - accuracy: 0.7168\n",
      "938/938 [==============================] - 5s 5ms/step - loss: 0.3938 - accuracy: 0.8553\n",
      "938/938 [==============================] - 5s 5ms/step - loss: 0.3847 - accuracy: 0.8636\n",
      "938/938 [==============================] - 4s 5ms/step - loss: 1.5696 - accuracy: 0.6513\n",
      "938/938 [==============================] - 4s 4ms/step - loss: 1.5449 - accuracy: 0.6499\n",
      "938/938 [==============================] - 4s 4ms/step - loss: 0.7812 - accuracy: 0.6949\n",
      "938/938 [==============================] - 4s 4ms/step - loss: 0.4507 - accuracy: 0.8336\n"
     ]
    }
   ],
   "source": [
    "# 4개 모델에 대해서 교차 검증을 수행\n",
    "sgd = cross_val(SGD())\n",
    "adam = cross_val(Adam())\n",
    "adagrad = cross_val(Adagrad())\n",
    "rmsprop = cross_val(RMSprop())"
   ]
  },
  {
   "cell_type": "code",
   "execution_count": 45,
   "id": "fa680895",
   "metadata": {},
   "outputs": [
    {
     "name": "stdout",
     "output_type": "stream",
     "text": [
      "0.7115333378314972\n",
      "0.8594333231449127\n",
      "0.650600016117096\n",
      "0.7642666697502136\n"
     ]
    }
   ],
   "source": [
    "print(np.array(sgd).mean(axis=0)[1])\n",
    "print(np.array(adam).mean(axis=0)[1])\n",
    "print(np.array(adagrad).mean(axis=0)[1])\n",
    "print(np.array(rmsprop).mean(axis=0)[1])"
   ]
  },
  {
   "cell_type": "code",
   "execution_count": 34,
   "id": "861d2e5d",
   "metadata": {},
   "outputs": [
    {
     "data": {
      "text/plain": [
       "[[0.39375320076942444, 0.8553000092506409],\n",
       " [0.38474294543266296, 0.8635666370391846]]"
      ]
     },
     "execution_count": 34,
     "metadata": {},
     "output_type": "execute_result"
    }
   ],
   "source": [
    "adam"
   ]
  },
  {
   "cell_type": "code",
   "execution_count": 76,
   "id": "a61033c2",
   "metadata": {},
   "outputs": [
    {
     "data": {
      "text/plain": [
       "<AxesSubplot:>"
      ]
     },
     "execution_count": 76,
     "metadata": {},
     "output_type": "execute_result"
    },
    {
     "data": {
      "image/png": "[encoded data removed]",
      "text/plain": [
       "<Figure size 432x288 with 1 Axes>"
      ]
     },
     "metadata": {
      "needs_background": "light"
     },
     "output_type": "display_data"
    }
   ],
   "source": [
    "import seaborn as sns\n",
    "temp = pd.DataFrame(data = [\n",
    "[i[1] for i in sgd],\n",
    "[i[1] for i in adam],\n",
    "[i[1] for i in adagrad],\n",
    "[i[1] for i in rmsprop]\n",
    "]\n",
    "            ).T\n",
    "temp.columns = ['sgd','adam','adagrad','rmsprop']\n",
    "temp.T\n",
    "sns.boxplot(data=temp.T)"
   ]
  },
  {
   "cell_type": "code",
   "execution_count": 79,
   "id": "ca5731ef",
   "metadata": {},
   "outputs": [
    {
     "data": {
      "text/plain": [
       "<AxesSubplot:>"
      ]
     },
     "execution_count": 79,
     "metadata": {},
     "output_type": "execute_result"
    },
    {
     "data": {
      "image/png": "[encoded data removed]",
      "text/plain": [
       "<Figure size 432x288 with 1 Axes>"
      ]
     },
     "metadata": {
      "needs_background": "light"
     },
     "output_type": "display_data"
    }
   ],
   "source": [
    "sns.boxplot(data=temp)"
   ]
  },
  {
   "cell_type": "code",
   "execution_count": null,
   "id": "08e5257d",
   "metadata": {},
   "outputs": [],
   "source": []
  }
 ],
 "metadata": {
  "kernelspec": {
   "display_name": "Python 3 (ipykernel)",
   "language": "python",
   "name": "python3"
  },
  "language_info": {
   "codemirror_mode": {
    "name": "ipython",
    "version": 3
   },
   "file_extension": ".py",
   "mimetype": "text/x-python",
   "name": "python",
   "nbconvert_exporter": "python",
   "pygments_lexer": "ipython3",
   "version": "3.9.12"
  }
 },
 "nbformat": 4,
 "nbformat_minor": 5
}
