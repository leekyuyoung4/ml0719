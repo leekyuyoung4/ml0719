{
  "nbformat": 4,
  "nbformat_minor": 0,
  "metadata": {
    "colab": {
      "provenance": []
    },
    "kernelspec": {
      "name": "python3",
      "display_name": "Python 3"
    },
    "language_info": {
      "name": "python"
    },
    "accelerator": "GPU"
  },
  "cells": [
    {
      "cell_type": "code",
      "execution_count": 1,
      "metadata": {
        "id": "-vxrZTDUB__U"
      },
      "outputs": [],
      "source": [
        "# 컨볼류션 신경망 설계  드랍아웃을 적용해서 유연한 구조로 변경 \n",
        "# c c p d fc d fc   c c p fc fc \n",
        "import numpy as np\n",
        "import tensorflow as tf\n",
        "from tensorflow.keras.datasets import mnist\n",
        "from tensorflow.keras.models import Sequential\n",
        "from tensorflow.keras.layers import Conv2D,MaxPooling2D,Flatten,Dense,Dropout\n",
        "from tensorflow.keras.optimizers import Adam"
      ]
    },
    {
      "cell_type": "code",
      "source": [
        "# load dataset\n",
        "(x_train,y_train),(x_test,y_test)  = mnist.load_data()\n",
        "x_train = x_train.reshape(-1,28,28,1).astype(np.float32)/255.0\n",
        "x_test =  x_test.reshape(-1,28,28,1).astype(np.float32)/255.0\n",
        "y_train = tf.keras.utils.to_categorical(y_train)\n",
        "y_test = tf.keras.utils.to_categorical(y_test)"
      ],
      "metadata": {
        "colab": {
          "base_uri": "https://localhost:8080/"
        },
        "id": "VjK9Qr55Dfwe",
        "outputId": "8c1fa9e0-d249-48c0-c351-81f6d4421f6f"
      },
      "execution_count": 2,
      "outputs": [
        {
          "output_type": "stream",
          "name": "stdout",
          "text": [
            "Downloading data from https://storage.googleapis.com/tensorflow/tf-keras-datasets/mnist.npz\n",
            "11493376/11490434 [==============================] - 0s 0us/step\n",
            "11501568/11490434 [==============================] - 0s 0us/step\n"
          ]
        }
      ]
    },
    {
      "cell_type": "code",
      "source": [
        "# c c p d fc d fc  : c-c-p-fc-fc\n",
        "# 2차원구조를 유지해야 하므로 reshape(60000,28,28,1)을 사용\n",
        "cnn=Sequential()\n",
        "cnn.add(Conv2D(32,(5,5),padding='same',activation='relu',input_shape = (28,28,1)))\n",
        "cnn.add(Conv2D(64,(5,5),padding='same',activation='relu',input_shape = (28,28,1)))\n",
        "cnn.add(MaxPooling2D(pool_size=(2,2)))\n",
        "cnn.add(Dropout(0.25))\n",
        "\n",
        "cnn.add(Flatten())\n",
        "cnn.add(Dense(84,activation='relu'))\n",
        "cnn.add(Dropout(0.25))\n",
        "cnn.add(Dense(10,activation='softmax'))"
      ],
      "metadata": {
        "id": "yLazIswIDx1O"
      },
      "execution_count": 3,
      "outputs": []
    },
    {
      "cell_type": "code",
      "source": [
        "# 학습\n",
        "cnn.compile(loss=tf.keras.losses.categorical_crossentropy,optimizer=Adam(),metrics=['accuracy'])\n",
        "hist =cnn.fit(x_train,y_train,batch_size=128,epochs=30,validation_data=(x_test,y_test),verbose=2)"
      ],
      "metadata": {
        "colab": {
          "base_uri": "https://localhost:8080/"
        },
        "id": "NWSG7B82Ei0w",
        "outputId": "0e0a7b64-be18-4064-b017-b9189f7fd40d"
      },
      "execution_count": 4,
      "outputs": [
        {
          "output_type": "stream",
          "name": "stdout",
          "text": [
            "Epoch 1/30\n",
            "469/469 - 18s - loss: 0.1897 - accuracy: 0.9421 - val_loss: 0.0499 - val_accuracy: 0.9840 - 18s/epoch - 38ms/step\n",
            "Epoch 2/30\n",
            "469/469 - 4s - loss: 0.0629 - accuracy: 0.9811 - val_loss: 0.0290 - val_accuracy: 0.9908 - 4s/epoch - 9ms/step\n",
            "Epoch 3/30\n",
            "469/469 - 4s - loss: 0.0443 - accuracy: 0.9862 - val_loss: 0.0300 - val_accuracy: 0.9891 - 4s/epoch - 9ms/step\n",
            "Epoch 4/30\n",
            "469/469 - 4s - loss: 0.0359 - accuracy: 0.9889 - val_loss: 0.0265 - val_accuracy: 0.9912 - 4s/epoch - 9ms/step\n",
            "Epoch 5/30\n",
            "469/469 - 4s - loss: 0.0305 - accuracy: 0.9907 - val_loss: 0.0306 - val_accuracy: 0.9896 - 4s/epoch - 9ms/step\n",
            "Epoch 6/30\n",
            "469/469 - 4s - loss: 0.0239 - accuracy: 0.9923 - val_loss: 0.0278 - val_accuracy: 0.9907 - 4s/epoch - 9ms/step\n",
            "Epoch 7/30\n",
            "469/469 - 5s - loss: 0.0225 - accuracy: 0.9929 - val_loss: 0.0265 - val_accuracy: 0.9915 - 5s/epoch - 10ms/step\n",
            "Epoch 8/30\n",
            "469/469 - 4s - loss: 0.0178 - accuracy: 0.9941 - val_loss: 0.0221 - val_accuracy: 0.9933 - 4s/epoch - 9ms/step\n",
            "Epoch 9/30\n",
            "469/469 - 5s - loss: 0.0190 - accuracy: 0.9936 - val_loss: 0.0257 - val_accuracy: 0.9921 - 5s/epoch - 10ms/step\n",
            "Epoch 10/30\n",
            "469/469 - 5s - loss: 0.0135 - accuracy: 0.9956 - val_loss: 0.0282 - val_accuracy: 0.9919 - 5s/epoch - 10ms/step\n",
            "Epoch 11/30\n",
            "469/469 - 5s - loss: 0.0137 - accuracy: 0.9957 - val_loss: 0.0236 - val_accuracy: 0.9923 - 5s/epoch - 10ms/step\n",
            "Epoch 12/30\n",
            "469/469 - 4s - loss: 0.0119 - accuracy: 0.9962 - val_loss: 0.0284 - val_accuracy: 0.9921 - 4s/epoch - 9ms/step\n",
            "Epoch 13/30\n",
            "469/469 - 4s - loss: 0.0114 - accuracy: 0.9961 - val_loss: 0.0390 - val_accuracy: 0.9898 - 4s/epoch - 9ms/step\n",
            "Epoch 14/30\n",
            "469/469 - 4s - loss: 0.0118 - accuracy: 0.9959 - val_loss: 0.0273 - val_accuracy: 0.9927 - 4s/epoch - 9ms/step\n",
            "Epoch 15/30\n",
            "469/469 - 4s - loss: 0.0098 - accuracy: 0.9966 - val_loss: 0.0302 - val_accuracy: 0.9916 - 4s/epoch - 9ms/step\n",
            "Epoch 16/30\n",
            "469/469 - 5s - loss: 0.0087 - accuracy: 0.9971 - val_loss: 0.0284 - val_accuracy: 0.9920 - 5s/epoch - 10ms/step\n",
            "Epoch 17/30\n",
            "469/469 - 4s - loss: 0.0094 - accuracy: 0.9966 - val_loss: 0.0258 - val_accuracy: 0.9928 - 4s/epoch - 9ms/step\n",
            "Epoch 18/30\n",
            "469/469 - 5s - loss: 0.0083 - accuracy: 0.9973 - val_loss: 0.0253 - val_accuracy: 0.9937 - 5s/epoch - 10ms/step\n",
            "Epoch 19/30\n",
            "469/469 - 4s - loss: 0.0066 - accuracy: 0.9978 - val_loss: 0.0389 - val_accuracy: 0.9905 - 4s/epoch - 9ms/step\n",
            "Epoch 20/30\n",
            "469/469 - 4s - loss: 0.0080 - accuracy: 0.9973 - val_loss: 0.0233 - val_accuracy: 0.9936 - 4s/epoch - 9ms/step\n",
            "Epoch 21/30\n",
            "469/469 - 5s - loss: 0.0081 - accuracy: 0.9973 - val_loss: 0.0256 - val_accuracy: 0.9929 - 5s/epoch - 10ms/step\n",
            "Epoch 22/30\n",
            "469/469 - 5s - loss: 0.0063 - accuracy: 0.9980 - val_loss: 0.0300 - val_accuracy: 0.9932 - 5s/epoch - 10ms/step\n",
            "Epoch 23/30\n",
            "469/469 - 4s - loss: 0.0069 - accuracy: 0.9979 - val_loss: 0.0280 - val_accuracy: 0.9934 - 4s/epoch - 9ms/step\n",
            "Epoch 24/30\n",
            "469/469 - 4s - loss: 0.0071 - accuracy: 0.9976 - val_loss: 0.0296 - val_accuracy: 0.9931 - 4s/epoch - 9ms/step\n",
            "Epoch 25/30\n",
            "469/469 - 4s - loss: 0.0061 - accuracy: 0.9980 - val_loss: 0.0328 - val_accuracy: 0.9922 - 4s/epoch - 9ms/step\n",
            "Epoch 26/30\n",
            "469/469 - 4s - loss: 0.0059 - accuracy: 0.9982 - val_loss: 0.0293 - val_accuracy: 0.9930 - 4s/epoch - 9ms/step\n",
            "Epoch 27/30\n",
            "469/469 - 4s - loss: 0.0060 - accuracy: 0.9980 - val_loss: 0.0303 - val_accuracy: 0.9931 - 4s/epoch - 9ms/step\n",
            "Epoch 28/30\n",
            "469/469 - 5s - loss: 0.0061 - accuracy: 0.9981 - val_loss: 0.0314 - val_accuracy: 0.9935 - 5s/epoch - 10ms/step\n",
            "Epoch 29/30\n",
            "469/469 - 4s - loss: 0.0061 - accuracy: 0.9980 - val_loss: 0.0357 - val_accuracy: 0.9937 - 4s/epoch - 9ms/step\n",
            "Epoch 30/30\n",
            "469/469 - 4s - loss: 0.0055 - accuracy: 0.9983 - val_loss: 0.0322 - val_accuracy: 0.9924 - 4s/epoch - 9ms/step\n"
          ]
        }
      ]
    },
    {
      "cell_type": "code",
      "source": [
        "# 신경망 모델 정확률 평가\n",
        "res = cnn.evaluate(x_test,y_test)"
      ],
      "metadata": {
        "colab": {
          "base_uri": "https://localhost:8080/"
        },
        "id": "OxemHBn5FooG",
        "outputId": "d5321e8c-846f-46a0-8326-a8361599ead5"
      },
      "execution_count": 5,
      "outputs": [
        {
          "output_type": "stream",
          "name": "stdout",
          "text": [
            "313/313 [==============================] - 1s 3ms/step - loss: 0.0322 - accuracy: 0.9924\n"
          ]
        }
      ]
    },
    {
      "cell_type": "code",
      "source": [
        "import seaborn as sns\n",
        "import matplotlib.pyplot as plt\n",
        "fig,ax = plt.subplots(1,2,figsize=(15,5))\n",
        "sns.lineplot(data=hist.history['accuracy'],ax=ax[0])\n",
        "sns.lineplot(data=hist.history['val_accuracy'],ax=ax[0])\n",
        "plt.legend(['accuracy','val_accuracy'])\n",
        "sns.lineplot(data=hist.history['loss'],ax=ax[1])\n",
        "sns.lineplot(data=hist.history['val_loss'],ax=ax[1])"
      ],
      "metadata": {
        "colab": {
          "base_uri": "https://localhost:8080/",
          "height": 338
        },
        "id": "47pwoatYFttA",
        "outputId": "c749d0e8-b3de-49f7-d0a7-95e35b22056d"
      },
      "execution_count": 6,
      "outputs": [
        {
          "output_type": "execute_result",
          "data": {
            "text/plain": [
              "<matplotlib.axes._subplots.AxesSubplot at 0x7f601e2552d0>"
            ]
          },
          "metadata": {},
          "execution_count": 6
        },
        {
          "output_type": "display_data",
          "data": {
            "text/plain": [
              "<Figure size 1080x360 with 2 Axes>"
            ],
            "image/png": "[encoded data removed]"
          },
          "metadata": {
            "needs_background": "light"
          }
        }
      ]
    },
    {
      "cell_type": "code",
      "source": [
        "# 텐서플로에서 중요한 클래스 4\n",
        "# model\n",
        "# layers\n",
        "# loss\n",
        "# optimizer"
      ],
      "metadata": {
        "id": "Dz6wKjwfF2JG"
      },
      "execution_count": 7,
      "outputs": []
    },
    {
      "cell_type": "code",
      "source": [
        "# functional API 함수\n",
        "# 텐서가 흐르다가 중간에 여러개로 갈라지는 경우(출력이 여러개)\n",
        "# 시계열이나 생성모델에서 종종 발생\n"
      ],
      "metadata": {
        "id": "9BoxD1xmGLD9"
      },
      "execution_count": null,
      "outputs": []
    }
  ]
}